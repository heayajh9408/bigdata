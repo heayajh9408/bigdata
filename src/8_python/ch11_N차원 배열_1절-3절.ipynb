{
 "cells": [
  {
   "cell_type": "markdown",
   "metadata": {},
   "source": [
    "- N차원 배열 객체\n",
    "- 행렬 개념으로 이해\n",
    "- C언어로 구현된 고성능 수치계산 패키지 Numpy 이용\n",
    "- C/C+, 포트란 코드 통합도구"
   ]
  },
  {
   "cell_type": "markdown",
   "metadata": {},
   "source": [
    "# 1절. 넘파이 패키지"
   ]
  },
  {
   "cell_type": "code",
   "execution_count": 1,
   "metadata": {
    "ExecuteTime": {
     "end_time": "2021-03-07T12:49:52.612861Z",
     "start_time": "2021-03-07T12:49:52.586969Z"
    }
   },
   "outputs": [
    {
     "data": {
      "text/plain": [
       "array([ 0,  1,  2,  3,  4,  5,  6,  7,  8,  9, 10, 11, 12, 13, 14])"
      ]
     },
     "execution_count": 1,
     "metadata": {},
     "output_type": "execute_result"
    }
   ],
   "source": [
    "import numpy as np\n",
    "a = np.arange(15) # 0부터 15앞까지 1씩 증가하는 1차원 배열\n",
    "a"
   ]
  },
  {
   "cell_type": "code",
   "execution_count": 2,
   "metadata": {
    "ExecuteTime": {
     "end_time": "2021-03-07T12:50:04.291877Z",
     "start_time": "2021-03-07T12:50:04.279910Z"
    }
   },
   "outputs": [
    {
     "data": {
      "text/plain": [
       "array([[ 0,  1,  2,  3,  4],\n",
       "       [ 5,  6,  7,  8,  9],\n",
       "       [10, 11, 12, 13, 14]])"
      ]
     },
     "execution_count": 2,
     "metadata": {},
     "output_type": "execute_result"
    }
   ],
   "source": [
    "a = np.arange(15).reshape(3,5)\n",
    "a"
   ]
  },
  {
   "cell_type": "code",
   "execution_count": 3,
   "metadata": {
    "ExecuteTime": {
     "end_time": "2021-03-07T12:50:13.167210Z",
     "start_time": "2021-03-07T12:50:13.156249Z"
    }
   },
   "outputs": [
    {
     "data": {
      "text/plain": [
       "numpy.ndarray"
      ]
     },
     "execution_count": 3,
     "metadata": {},
     "output_type": "execute_result"
    }
   ],
   "source": [
    "type(a) # a변수 자체의 타입 : N차원배열"
   ]
  },
  {
   "cell_type": "code",
   "execution_count": 4,
   "metadata": {
    "ExecuteTime": {
     "end_time": "2021-03-07T12:50:17.264283Z",
     "start_time": "2021-03-07T12:50:17.256304Z"
    }
   },
   "outputs": [
    {
     "data": {
      "text/plain": [
       "dtype('int32')"
      ]
     },
     "execution_count": 4,
     "metadata": {},
     "output_type": "execute_result"
    }
   ],
   "source": [
    "a.dtype # a변수의 요소들의 type"
   ]
  },
  {
   "cell_type": "code",
   "execution_count": 5,
   "metadata": {
    "ExecuteTime": {
     "end_time": "2021-03-07T12:50:22.098645Z",
     "start_time": "2021-03-07T12:50:22.083652Z"
    }
   },
   "outputs": [
    {
     "data": {
      "text/plain": [
       "'int32'"
      ]
     },
     "execution_count": 5,
     "metadata": {},
     "output_type": "execute_result"
    }
   ],
   "source": [
    "a.dtype.name # a변수의 요소들의 type"
   ]
  },
  {
   "cell_type": "code",
   "execution_count": 6,
   "metadata": {
    "ExecuteTime": {
     "end_time": "2021-03-07T12:50:31.747902Z",
     "start_time": "2021-03-07T12:50:31.739938Z"
    }
   },
   "outputs": [
    {
     "data": {
      "text/plain": [
       "4"
      ]
     },
     "execution_count": 6,
     "metadata": {},
     "output_type": "execute_result"
    }
   ],
   "source": [
    "a.itemsize # 요소하나하나 사이즈(byte 단위)"
   ]
  },
  {
   "cell_type": "code",
   "execution_count": 7,
   "metadata": {
    "ExecuteTime": {
     "end_time": "2021-03-07T12:50:42.193672Z",
     "start_time": "2021-03-07T12:50:42.175745Z"
    }
   },
   "outputs": [
    {
     "data": {
      "text/plain": [
       "2"
      ]
     },
     "execution_count": 7,
     "metadata": {},
     "output_type": "execute_result"
    }
   ],
   "source": [
    "a.ndim # 축수 (차원수)"
   ]
  },
  {
   "cell_type": "code",
   "execution_count": 8,
   "metadata": {
    "ExecuteTime": {
     "end_time": "2021-03-07T12:50:46.511199Z",
     "start_time": "2021-03-07T12:50:46.498268Z"
    }
   },
   "outputs": [
    {
     "data": {
      "text/plain": [
       "(3, 5)"
      ]
     },
     "execution_count": 8,
     "metadata": {},
     "output_type": "execute_result"
    }
   ],
   "source": [
    "a.shape # 배열 구조"
   ]
  },
  {
   "cell_type": "code",
   "execution_count": 9,
   "metadata": {
    "ExecuteTime": {
     "end_time": "2021-03-07T12:50:58.764767Z",
     "start_time": "2021-03-07T12:50:58.746815Z"
    }
   },
   "outputs": [
    {
     "data": {
      "text/plain": [
       "15"
      ]
     },
     "execution_count": 9,
     "metadata": {},
     "output_type": "execute_result"
    }
   ],
   "source": [
    "a.size # a 배열 요소의 총수"
   ]
  },
  {
   "cell_type": "code",
   "execution_count": 10,
   "metadata": {
    "ExecuteTime": {
     "end_time": "2021-03-07T12:51:03.571588Z",
     "start_time": "2021-03-07T12:51:03.565990Z"
    }
   },
   "outputs": [],
   "source": [
    "# dtype 속성을 바꾸면 형변환이 되지 않습니다."
   ]
  },
  {
   "cell_type": "code",
   "execution_count": 11,
   "metadata": {
    "ExecuteTime": {
     "end_time": "2021-03-07T12:51:09.386998Z",
     "start_time": "2021-03-07T12:51:09.377022Z"
    }
   },
   "outputs": [
    {
     "data": {
      "text/plain": [
       "array([[ 0,  1,  2,  3],\n",
       "       [ 4,  5,  6,  7],\n",
       "       [ 8,  9, 10, 11]])"
      ]
     },
     "execution_count": 11,
     "metadata": {},
     "output_type": "execute_result"
    }
   ],
   "source": [
    "a = np.arange(12).reshape(3,4)\n",
    "a"
   ]
  },
  {
   "cell_type": "code",
   "execution_count": 12,
   "metadata": {
    "ExecuteTime": {
     "end_time": "2021-03-07T12:51:15.283946Z",
     "start_time": "2021-03-07T12:51:15.276961Z"
    }
   },
   "outputs": [
    {
     "data": {
      "text/plain": [
       "12"
      ]
     },
     "execution_count": 12,
     "metadata": {},
     "output_type": "execute_result"
    }
   ],
   "source": [
    "a.size"
   ]
  },
  {
   "cell_type": "code",
   "execution_count": 13,
   "metadata": {
    "ExecuteTime": {
     "end_time": "2021-03-07T12:51:19.499076Z",
     "start_time": "2021-03-07T12:51:19.489135Z"
    }
   },
   "outputs": [
    {
     "data": {
      "text/plain": [
       "dtype('int32')"
      ]
     },
     "execution_count": 13,
     "metadata": {},
     "output_type": "execute_result"
    }
   ],
   "source": [
    "a.dtype"
   ]
  },
  {
   "cell_type": "code",
   "execution_count": 14,
   "metadata": {
    "ExecuteTime": {
     "end_time": "2021-03-07T12:51:24.066540Z",
     "start_time": "2021-03-07T12:51:24.049587Z"
    }
   },
   "outputs": [],
   "source": [
    "a.dtype = np.int64 # a 요소의 dtype을 int64로"
   ]
  },
  {
   "cell_type": "code",
   "execution_count": 15,
   "metadata": {
    "ExecuteTime": {
     "end_time": "2021-03-07T12:51:28.147646Z",
     "start_time": "2021-03-07T12:51:28.128697Z"
    }
   },
   "outputs": [
    {
     "data": {
      "text/plain": [
       "dtype('int64')"
      ]
     },
     "execution_count": 15,
     "metadata": {},
     "output_type": "execute_result"
    }
   ],
   "source": [
    "a.dtype"
   ]
  },
  {
   "cell_type": "code",
   "execution_count": 16,
   "metadata": {
    "ExecuteTime": {
     "end_time": "2021-03-07T12:51:33.106784Z",
     "start_time": "2021-03-07T12:51:33.098807Z"
    }
   },
   "outputs": [
    {
     "data": {
      "text/plain": [
       "array([[ 4294967296, 12884901890],\n",
       "       [21474836484, 30064771078],\n",
       "       [38654705672, 47244640266]], dtype=int64)"
      ]
     },
     "execution_count": 16,
     "metadata": {},
     "output_type": "execute_result"
    }
   ],
   "source": [
    "a"
   ]
  },
  {
   "cell_type": "code",
   "execution_count": 17,
   "metadata": {
    "ExecuteTime": {
     "end_time": "2021-03-07T12:51:38.562996Z",
     "start_time": "2021-03-07T12:51:38.543051Z"
    }
   },
   "outputs": [
    {
     "data": {
      "text/plain": [
       "6"
      ]
     },
     "execution_count": 17,
     "metadata": {},
     "output_type": "execute_result"
    }
   ],
   "source": [
    "a.size"
   ]
  },
  {
   "cell_type": "markdown",
   "metadata": {},
   "source": [
    "# 2절. 넘파이 배열\n",
    "- array()함수를 이용한 다른 파이썬 구조(벡터구조)를 넘파이 배열로 변환\n",
    "- 넘파이 배열을 생성하는 기타 함수들 : arange, ones, zeros\n",
    "- 특수 라이브러리 함수(ex. random) 이용"
   ]
  },
  {
   "cell_type": "markdown",
   "metadata": {},
   "source": [
    "## 2.1 array()함수로 넘파이 배열 만들기"
   ]
  },
  {
   "cell_type": "code",
   "execution_count": 18,
   "metadata": {
    "ExecuteTime": {
     "end_time": "2021-03-07T12:52:39.415486Z",
     "start_time": "2021-03-07T12:52:39.401524Z"
    }
   },
   "outputs": [
    {
     "data": {
      "text/plain": [
       "array([2, 4, 6])"
      ]
     },
     "execution_count": 18,
     "metadata": {},
     "output_type": "execute_result"
    }
   ],
   "source": [
    "import numpy as np\n",
    "a = np.array([2,4,6])\n",
    "a"
   ]
  },
  {
   "cell_type": "code",
   "execution_count": 19,
   "metadata": {
    "ExecuteTime": {
     "end_time": "2021-03-07T12:52:59.136570Z",
     "start_time": "2021-03-07T12:52:59.122085Z"
    }
   },
   "outputs": [
    {
     "name": "stdout",
     "output_type": "stream",
     "text": [
      "2\t4\t6\t"
     ]
    }
   ],
   "source": [
    "for i in a:\n",
    "    print(i, end='\\t')"
   ]
  },
  {
   "cell_type": "code",
   "execution_count": 20,
   "metadata": {
    "ExecuteTime": {
     "end_time": "2021-03-07T12:53:04.236361Z",
     "start_time": "2021-03-07T12:53:04.227412Z"
    }
   },
   "outputs": [
    {
     "data": {
      "text/plain": [
       "4"
      ]
     },
     "execution_count": 20,
     "metadata": {},
     "output_type": "execute_result"
    }
   ],
   "source": [
    "a[1]"
   ]
  },
  {
   "cell_type": "code",
   "execution_count": 21,
   "metadata": {
    "ExecuteTime": {
     "end_time": "2021-03-07T12:53:12.574559Z",
     "start_time": "2021-03-07T12:53:12.560598Z"
    }
   },
   "outputs": [
    {
     "data": {
      "text/plain": [
       "array([[1. ],\n",
       "       [6. ],\n",
       "       [9.1]])"
      ]
     },
     "execution_count": 21,
     "metadata": {},
     "output_type": "execute_result"
    }
   ],
   "source": [
    "a = np.array([1,6,9.1]).reshape(3,1)\n",
    "a"
   ]
  },
  {
   "cell_type": "code",
   "execution_count": 22,
   "metadata": {
    "ExecuteTime": {
     "end_time": "2021-03-07T12:55:06.684569Z",
     "start_time": "2021-03-07T12:55:06.679060Z"
    }
   },
   "outputs": [
    {
     "data": {
      "text/plain": [
       "dtype('float64')"
      ]
     },
     "execution_count": 22,
     "metadata": {},
     "output_type": "execute_result"
    }
   ],
   "source": [
    "a.dtype"
   ]
  },
  {
   "cell_type": "code",
   "execution_count": 23,
   "metadata": {
    "ExecuteTime": {
     "end_time": "2021-03-07T12:56:38.180064Z",
     "start_time": "2021-03-07T12:56:38.168586Z"
    }
   },
   "outputs": [
    {
     "data": {
      "text/plain": [
       "array([[1.5, 2.3],\n",
       "       [4. , 5. ]])"
      ]
     },
     "execution_count": 23,
     "metadata": {},
     "output_type": "execute_result"
    }
   ],
   "source": [
    "b = np.array([(1.5, 2.3), (4,5)]) # 자동 dtype 세팅\n",
    "b"
   ]
  },
  {
   "cell_type": "code",
   "execution_count": 24,
   "metadata": {
    "ExecuteTime": {
     "end_time": "2021-03-07T12:57:14.653298Z",
     "start_time": "2021-03-07T12:57:14.638338Z"
    }
   },
   "outputs": [
    {
     "data": {
      "text/plain": [
       "'1.19.2'"
      ]
     },
     "execution_count": 24,
     "metadata": {},
     "output_type": "execute_result"
    }
   ],
   "source": [
    "import numpy as np\n",
    "np.__version__"
   ]
  },
  {
   "cell_type": "code",
   "execution_count": 25,
   "metadata": {
    "ExecuteTime": {
     "end_time": "2021-03-07T12:57:24.101817Z",
     "start_time": "2021-03-07T12:57:24.088851Z"
    }
   },
   "outputs": [
    {
     "data": {
      "text/plain": [
       "array([[1. , 2. ],\n",
       "       [3. , 4.1]])"
      ]
     },
     "execution_count": 25,
     "metadata": {},
     "output_type": "execute_result"
    }
   ],
   "source": [
    "a = np.array([1, 2, 3, 4.1]).reshape(2,2) # 2행 2열짜리 2차원 배열\n",
    "a"
   ]
  },
  {
   "cell_type": "code",
   "execution_count": 26,
   "metadata": {
    "ExecuteTime": {
     "end_time": "2021-03-07T12:57:37.769698Z",
     "start_time": "2021-03-07T12:57:37.750748Z"
    }
   },
   "outputs": [
    {
     "data": {
      "text/plain": [
       "dtype('float64')"
      ]
     },
     "execution_count": 26,
     "metadata": {},
     "output_type": "execute_result"
    }
   ],
   "source": [
    "a.dtype"
   ]
  },
  {
   "cell_type": "code",
   "execution_count": 27,
   "metadata": {
    "ExecuteTime": {
     "end_time": "2021-03-07T12:58:03.187692Z",
     "start_time": "2021-03-07T12:58:03.173702Z"
    }
   },
   "outputs": [
    {
     "data": {
      "text/plain": [
       "array([[1, 2, 3],\n",
       "       [4, 5, 6]])"
      ]
     },
     "execution_count": 27,
     "metadata": {},
     "output_type": "execute_result"
    }
   ],
   "source": [
    "b = np.array([[1,2,3],[4,5,6]]) #dtype 자동 세팅\n",
    "b"
   ]
  },
  {
   "cell_type": "code",
   "execution_count": 28,
   "metadata": {
    "ExecuteTime": {
     "end_time": "2021-03-07T12:58:08.701578Z",
     "start_time": "2021-03-07T12:58:08.696091Z"
    }
   },
   "outputs": [
    {
     "data": {
      "text/plain": [
       "dtype('int32')"
      ]
     },
     "execution_count": 28,
     "metadata": {},
     "output_type": "execute_result"
    }
   ],
   "source": [
    "b.dtype"
   ]
  },
  {
   "cell_type": "code",
   "execution_count": 29,
   "metadata": {
    "ExecuteTime": {
     "end_time": "2021-03-07T12:58:14.384194Z",
     "start_time": "2021-03-07T12:58:14.372227Z"
    }
   },
   "outputs": [
    {
     "data": {
      "text/plain": [
       "array([[1, 2, 3],\n",
       "       [4, 5, 6]], dtype=int64)"
      ]
     },
     "execution_count": 29,
     "metadata": {},
     "output_type": "execute_result"
    }
   ],
   "source": [
    "b = np.array([[1,2,3],[4,5,6]], dtype=np.int64) # dtype을 인수로 세팅\n",
    "b"
   ]
  },
  {
   "cell_type": "code",
   "execution_count": 30,
   "metadata": {
    "ExecuteTime": {
     "end_time": "2021-03-07T12:58:21.507757Z",
     "start_time": "2021-03-07T12:58:21.488289Z"
    }
   },
   "outputs": [
    {
     "data": {
      "text/plain": [
       "dtype('int64')"
      ]
     },
     "execution_count": 30,
     "metadata": {},
     "output_type": "execute_result"
    }
   ],
   "source": [
    "b.dtype"
   ]
  },
  {
   "cell_type": "code",
   "execution_count": 31,
   "metadata": {
    "ExecuteTime": {
     "end_time": "2021-03-07T12:58:28.676425Z",
     "start_time": "2021-03-07T12:58:28.667456Z"
    }
   },
   "outputs": [],
   "source": [
    "b = b.astype(np.int32) # dtype 바꾸기"
   ]
  },
  {
   "cell_type": "code",
   "execution_count": 32,
   "metadata": {
    "ExecuteTime": {
     "end_time": "2021-03-07T12:58:45.282521Z",
     "start_time": "2021-03-07T12:58:45.267047Z"
    }
   },
   "outputs": [
    {
     "data": {
      "text/plain": [
       "dtype('int32')"
      ]
     },
     "execution_count": 32,
     "metadata": {},
     "output_type": "execute_result"
    }
   ],
   "source": [
    "b.dtype"
   ]
  },
  {
   "cell_type": "code",
   "execution_count": 33,
   "metadata": {
    "ExecuteTime": {
     "end_time": "2021-03-07T12:58:50.700663Z",
     "start_time": "2021-03-07T12:58:50.694692Z"
    }
   },
   "outputs": [
    {
     "data": {
      "text/plain": [
       "[[1, 2, 3], [4, 5, 6]]"
      ]
     },
     "execution_count": 33,
     "metadata": {},
     "output_type": "execute_result"
    }
   ],
   "source": [
    "list_ = [[1,2,3],[4,5,6]]\n",
    "list_"
   ]
  },
  {
   "cell_type": "code",
   "execution_count": 34,
   "metadata": {
    "ExecuteTime": {
     "end_time": "2021-03-07T12:58:56.910083Z",
     "start_time": "2021-03-07T12:58:56.900110Z"
    }
   },
   "outputs": [
    {
     "name": "stdout",
     "output_type": "stream",
     "text": [
      "1\t2\t3\t\n",
      "4\t5\t6\t\n"
     ]
    }
   ],
   "source": [
    "for row in list_:\n",
    "    for data in row:\n",
    "        print(data, end='\\t')\n",
    "    print()"
   ]
  },
  {
   "cell_type": "code",
   "execution_count": 35,
   "metadata": {
    "ExecuteTime": {
     "end_time": "2021-03-07T12:59:06.117159Z",
     "start_time": "2021-03-07T12:59:06.112172Z"
    }
   },
   "outputs": [
    {
     "name": "stdout",
     "output_type": "stream",
     "text": [
      "0행0열 : 1\t0행1열 : 2\t0행2열 : 3\t\n",
      "1행0열 : 4\t1행1열 : 5\t1행2열 : 6\t\n"
     ]
    }
   ],
   "source": [
    "for i, row in enumerate(list_):\n",
    "    for j, data in enumerate(row):\n",
    "        print(\"{}행{}열 : {}\".format(i, j, data), end='\\t')\n",
    "    print()"
   ]
  },
  {
   "cell_type": "code",
   "execution_count": 36,
   "metadata": {
    "ExecuteTime": {
     "end_time": "2021-03-07T12:59:13.990974Z",
     "start_time": "2021-03-07T12:59:13.974019Z"
    }
   },
   "outputs": [
    {
     "data": {
      "text/plain": [
       "2"
      ]
     },
     "execution_count": 36,
     "metadata": {},
     "output_type": "execute_result"
    }
   ],
   "source": [
    "list_[0][1] # 리스트에서의 인덱싱"
   ]
  },
  {
   "cell_type": "code",
   "execution_count": 37,
   "metadata": {
    "ExecuteTime": {
     "end_time": "2021-03-07T12:59:19.770935Z",
     "start_time": "2021-03-07T12:59:19.762957Z"
    }
   },
   "outputs": [
    {
     "data": {
      "text/plain": [
       "[1, 2]"
      ]
     },
     "execution_count": 37,
     "metadata": {},
     "output_type": "execute_result"
    }
   ],
   "source": [
    "list_[0][0:2] # 리스트에서의 인덱싱 슬라이싱"
   ]
  },
  {
   "cell_type": "code",
   "execution_count": 39,
   "metadata": {
    "ExecuteTime": {
     "end_time": "2021-03-07T12:59:29.064381Z",
     "start_time": "2021-03-07T12:59:29.053417Z"
    }
   },
   "outputs": [
    {
     "data": {
      "text/plain": [
       "array([[1, 2, 3],\n",
       "       [4, 5, 6]], dtype=int16)"
      ]
     },
     "execution_count": 39,
     "metadata": {},
     "output_type": "execute_result"
    }
   ],
   "source": [
    "b = np.array([[1,2,3],[4,5,6]],dtype=np.int16)\n",
    "b"
   ]
  },
  {
   "cell_type": "code",
   "execution_count": 40,
   "metadata": {
    "ExecuteTime": {
     "end_time": "2021-03-07T12:59:34.110854Z",
     "start_time": "2021-03-07T12:59:34.103875Z"
    }
   },
   "outputs": [
    {
     "name": "stdout",
     "output_type": "stream",
     "text": [
      "1\t2\t3\t\n",
      "4\t5\t6\t\n"
     ]
    }
   ],
   "source": [
    "for row in b:\n",
    "    for item in row :\n",
    "        print(item, end='\\t')\n",
    "    print()"
   ]
  },
  {
   "cell_type": "code",
   "execution_count": 41,
   "metadata": {
    "ExecuteTime": {
     "end_time": "2021-03-07T12:59:42.579740Z",
     "start_time": "2021-03-07T12:59:42.563818Z"
    }
   },
   "outputs": [
    {
     "name": "stdout",
     "output_type": "stream",
     "text": [
      "0행0열 : 1\t0행1열 : 2\t0행2열 : 3\t\n",
      "1행0열 : 4\t1행1열 : 5\t1행2열 : 6\t\n"
     ]
    }
   ],
   "source": [
    "for i, row in enumerate(b):\n",
    "    for j, item in enumerate(row):\n",
    "        print(\"{}행{}열 : {}\".format(i, j, item), end='\\t')\n",
    "    print()"
   ]
  },
  {
   "cell_type": "code",
   "execution_count": 42,
   "metadata": {
    "ExecuteTime": {
     "end_time": "2021-03-07T12:59:49.861832Z",
     "start_time": "2021-03-07T12:59:49.851859Z"
    }
   },
   "outputs": [
    {
     "data": {
      "text/plain": [
       "(2, 2)"
      ]
     },
     "execution_count": 42,
     "metadata": {},
     "output_type": "execute_result"
    }
   ],
   "source": [
    "b[0,1], b[0][1] # 넘파이 배열에서의 인덱싱"
   ]
  },
  {
   "cell_type": "code",
   "execution_count": 45,
   "metadata": {
    "ExecuteTime": {
     "end_time": "2021-03-07T13:01:52.029283Z",
     "start_time": "2021-03-07T13:01:52.010334Z"
    }
   },
   "outputs": [
    {
     "data": {
      "text/plain": [
       "array([1, 2], dtype=int16)"
      ]
     },
     "execution_count": 45,
     "metadata": {},
     "output_type": "execute_result"
    }
   ],
   "source": [
    "b[0, 0:2] # 넘파이 배열에서의 슬라이싱"
   ]
  },
  {
   "cell_type": "code",
   "execution_count": 46,
   "metadata": {
    "ExecuteTime": {
     "end_time": "2021-03-07T13:02:03.274544Z",
     "start_time": "2021-03-07T13:02:03.261091Z"
    }
   },
   "outputs": [
    {
     "data": {
      "text/plain": [
       "array([[1.+0.j, 2.+0.j],\n",
       "       [3.+0.j, 4.+0.j]])"
      ]
     },
     "execution_count": 46,
     "metadata": {},
     "output_type": "execute_result"
    }
   ],
   "source": [
    "c = np.array([[1,2],[3,4]], dtype=complex) # dtype이 복소수\n",
    "c"
   ]
  },
  {
   "cell_type": "code",
   "execution_count": 48,
   "metadata": {
    "ExecuteTime": {
     "end_time": "2021-03-07T13:04:35.061172Z",
     "start_time": "2021-03-07T13:04:35.041191Z"
    }
   },
   "outputs": [
    {
     "name": "stdout",
     "output_type": "stream",
     "text": [
      "d=\n",
      "[[100.+0.j   2.+0.j]\n",
      " [  3.+0.j   4.+0.j]]\n",
      "2247436711616 2247436711616\n",
      "d의 요소 타입은  complex128\n",
      "c=\n",
      "[[100.+0.j   2.+0.j]\n",
      " [  3.+0.j   4.+0.j]]\n"
     ]
    }
   ],
   "source": [
    "d = np.array(c, copy=False)\n",
    "print('d=',d, sep='\\n')\n",
    "print(id(c), id(d))\n",
    "print('d의 요소 타입은 ', d.dtype)\n",
    "d[0,0] = 100\n",
    "print('c=',c, sep='\\n')"
   ]
  },
  {
   "cell_type": "code",
   "execution_count": 104,
   "metadata": {
    "ExecuteTime": {
     "end_time": "2021-03-07T13:36:13.313125Z",
     "start_time": "2021-03-07T13:36:13.285200Z"
    }
   },
   "outputs": [
    {
     "name": "stdout",
     "output_type": "stream",
     "text": [
      "d=\n",
      "[ 9 10 11 12]\n",
      "2247458929440 2247458994336\n",
      "d의 요소 타입은  int32\n"
     ]
    },
    {
     "ename": "IndexError",
     "evalue": "too many indices for array: array is 1-dimensional, but 2 were indexed",
     "output_type": "error",
     "traceback": [
      "\u001b[1;31m---------------------------------------------------------------------------\u001b[0m",
      "\u001b[1;31mIndexError\u001b[0m                                Traceback (most recent call last)",
      "\u001b[1;32m<ipython-input-104-f7fb8454f84f>\u001b[0m in \u001b[0;36m<module>\u001b[1;34m\u001b[0m\n\u001b[0;32m      3\u001b[0m \u001b[0mprint\u001b[0m\u001b[1;33m(\u001b[0m\u001b[0mid\u001b[0m\u001b[1;33m(\u001b[0m\u001b[0mc\u001b[0m\u001b[1;33m)\u001b[0m\u001b[1;33m,\u001b[0m \u001b[0mid\u001b[0m\u001b[1;33m(\u001b[0m\u001b[0md\u001b[0m\u001b[1;33m)\u001b[0m\u001b[1;33m)\u001b[0m\u001b[1;33m\u001b[0m\u001b[1;33m\u001b[0m\u001b[0m\n\u001b[0;32m      4\u001b[0m \u001b[0mprint\u001b[0m\u001b[1;33m(\u001b[0m\u001b[1;34m'd의 요소 타입은 '\u001b[0m\u001b[1;33m,\u001b[0m \u001b[0md\u001b[0m\u001b[1;33m.\u001b[0m\u001b[0mdtype\u001b[0m\u001b[1;33m)\u001b[0m\u001b[1;33m\u001b[0m\u001b[1;33m\u001b[0m\u001b[0m\n\u001b[1;32m----> 5\u001b[1;33m \u001b[0md\u001b[0m\u001b[1;33m[\u001b[0m\u001b[1;36m0\u001b[0m\u001b[1;33m,\u001b[0m\u001b[1;36m0\u001b[0m\u001b[1;33m]\u001b[0m \u001b[1;33m=\u001b[0m \u001b[1;36m999\u001b[0m\u001b[1;33m\u001b[0m\u001b[1;33m\u001b[0m\u001b[0m\n\u001b[0m\u001b[0;32m      6\u001b[0m \u001b[0mprint\u001b[0m\u001b[1;33m(\u001b[0m\u001b[1;34m'c='\u001b[0m\u001b[1;33m,\u001b[0m\u001b[0mc\u001b[0m\u001b[1;33m,\u001b[0m \u001b[0msep\u001b[0m\u001b[1;33m=\u001b[0m\u001b[1;34m'\\n'\u001b[0m\u001b[1;33m)\u001b[0m\u001b[1;33m\u001b[0m\u001b[1;33m\u001b[0m\u001b[0m\n",
      "\u001b[1;31mIndexError\u001b[0m: too many indices for array: array is 1-dimensional, but 2 were indexed"
     ]
    }
   ],
   "source": [
    "d = np.array(c, copy=True, dtype=int)\n",
    "print('d=',d, sep='\\n')\n",
    "print(id(c), id(d))\n",
    "print('d의 요소 타입은 ', d.dtype)\n",
    "d[0,0] = 999\n",
    "print('c=',c, sep='\\n')"
   ]
  },
  {
   "cell_type": "markdown",
   "metadata": {},
   "source": [
    "## 2.2 기본값이 있는 배열 만들기\n",
    "- zeros : 요소가 다 0\n",
    "- ones : 요소가 다 1\n",
    "- empty : 초기 내용은 임의값인 배열(메모리 상태에 따라 달라짐)\n",
    "\n",
    "- 이렇게 생성된 배열은 기본 dtype은 float64. dtype 속성을 따로 지정할 수 있음"
   ]
  },
  {
   "cell_type": "code",
   "execution_count": 105,
   "metadata": {
    "ExecuteTime": {
     "end_time": "2021-03-07T13:38:41.869137Z",
     "start_time": "2021-03-07T13:38:41.860134Z"
    }
   },
   "outputs": [
    {
     "data": {
      "text/plain": [
       "array([[0., 0., 0., 0.],\n",
       "       [0., 0., 0., 0.],\n",
       "       [0., 0., 0., 0.]])"
      ]
     },
     "execution_count": 105,
     "metadata": {},
     "output_type": "execute_result"
    }
   ],
   "source": [
    "np.zeros( (3,4) ) #3행4열짜리 2차원 배열(요소값이 다 0)"
   ]
  },
  {
   "cell_type": "code",
   "execution_count": 106,
   "metadata": {
    "ExecuteTime": {
     "end_time": "2021-03-07T13:38:52.627172Z",
     "start_time": "2021-03-07T13:38:52.614219Z"
    }
   },
   "outputs": [
    {
     "name": "stdout",
     "output_type": "stream",
     "text": [
      "[[[0 0 0 0]\n",
      "  [0 0 0 0]\n",
      "  [0 0 0 0]]\n",
      "\n",
      " [[0 0 0 0]\n",
      "  [0 0 0 0]\n",
      "  [0 0 0 0]]]\n",
      "int16\n",
      "2\n"
     ]
    }
   ],
   "source": [
    "x = np.zeros( (2,3,4), dtype=np.int16)#2면3행4열짜리 3차원 배열. dtype을 int16로 지정\n",
    "print(x)\n",
    "print(x.dtype)\n",
    "print(x.itemsize)"
   ]
  },
  {
   "cell_type": "code",
   "execution_count": 107,
   "metadata": {
    "ExecuteTime": {
     "end_time": "2021-03-07T13:39:02.986135Z",
     "start_time": "2021-03-07T13:39:02.968611Z"
    }
   },
   "outputs": [
    {
     "data": {
      "text/plain": [
       "array([[1, 1, 1, 1, 1],\n",
       "       [1, 1, 1, 1, 1]], dtype=int8)"
      ]
     },
     "execution_count": 107,
     "metadata": {},
     "output_type": "execute_result"
    }
   ],
   "source": [
    "np.ones((2,5), dtype=np.int8)"
   ]
  },
  {
   "cell_type": "code",
   "execution_count": 108,
   "metadata": {
    "ExecuteTime": {
     "end_time": "2021-03-07T13:39:10.260233Z",
     "start_time": "2021-03-07T13:39:10.244209Z"
    }
   },
   "outputs": [
    {
     "data": {
      "text/plain": [
       "array([[0., 0., 0.],\n",
       "       [0., 0., 0.]])"
      ]
     },
     "execution_count": 108,
     "metadata": {},
     "output_type": "execute_result"
    }
   ],
   "source": [
    "np.empty( (2,3) )"
   ]
  },
  {
   "cell_type": "markdown",
   "metadata": {},
   "source": [
    "## 2.3 연속된 값을 갖는 배열 만들기\n",
    "- np.arange(from, to, by, type=None) : from부터 by씩 건너뛴 값을 to 앞까지(to미포함) 목록으로 N차원 배열 만듦. from 생략시 0, by생략시 1\n",
    "- np.linspace(from, to, num) : from부터 to까지(to포함) num개 숫자들을 N차원 배열로 만듦"
   ]
  },
  {
   "cell_type": "code",
   "execution_count": 109,
   "metadata": {
    "ExecuteTime": {
     "end_time": "2021-03-07T13:39:56.835826Z",
     "start_time": "2021-03-07T13:39:56.827847Z"
    }
   },
   "outputs": [
    {
     "data": {
      "text/plain": [
       "array([10., 15., 20., 25.])"
      ]
     },
     "execution_count": 109,
     "metadata": {},
     "output_type": "execute_result"
    }
   ],
   "source": [
    "np.arange(10,30,5, dtype=np.float64)"
   ]
  },
  {
   "cell_type": "code",
   "execution_count": 110,
   "metadata": {
    "ExecuteTime": {
     "end_time": "2021-03-07T13:40:02.039128Z",
     "start_time": "2021-03-07T13:40:02.019155Z"
    }
   },
   "outputs": [
    {
     "data": {
      "text/plain": [
       "array([0. , 0.3, 0.6, 0.9, 1.2, 1.5, 1.8])"
      ]
     },
     "execution_count": 110,
     "metadata": {},
     "output_type": "execute_result"
    }
   ],
   "source": [
    "np.arange(0,2,0.3)"
   ]
  },
  {
   "cell_type": "code",
   "execution_count": 111,
   "metadata": {
    "ExecuteTime": {
     "end_time": "2021-03-07T13:40:08.197469Z",
     "start_time": "2021-03-07T13:40:08.181523Z"
    }
   },
   "outputs": [
    {
     "data": {
      "text/plain": [
       "array([0.  , 0.25, 0.5 , 0.75, 1.  , 1.25, 1.5 , 1.75, 2.  ])"
      ]
     },
     "execution_count": 111,
     "metadata": {},
     "output_type": "execute_result"
    }
   ],
   "source": [
    "from numpy import linspace\n",
    "linspace(0,2,9)"
   ]
  },
  {
   "cell_type": "code",
   "execution_count": 112,
   "metadata": {
    "ExecuteTime": {
     "end_time": "2021-03-07T13:40:38.426879Z",
     "start_time": "2021-03-07T13:40:38.408891Z"
    }
   },
   "outputs": [
    {
     "name": "stdout",
     "output_type": "stream",
     "text": [
      "[0.         0.06346652 0.12693304 0.19039955 0.25386607 0.31733259\n",
      " 0.38079911 0.44426563 0.50773215 0.57119866 0.63466518 0.6981317\n",
      " 0.76159822 0.82506474 0.88853126 0.95199777 1.01546429 1.07893081\n",
      " 1.14239733 1.20586385 1.26933037 1.33279688 1.3962634  1.45972992\n",
      " 1.52319644 1.58666296 1.65012947 1.71359599 1.77706251 1.84052903\n",
      " 1.90399555 1.96746207 2.03092858 2.0943951  2.15786162 2.22132814\n",
      " 2.28479466 2.34826118 2.41172769 2.47519421 2.53866073 2.60212725\n",
      " 2.66559377 2.72906028 2.7925268  2.85599332 2.91945984 2.98292636\n",
      " 3.04639288 3.10985939 3.17332591 3.23679243 3.30025895 3.36372547\n",
      " 3.42719199 3.4906585  3.55412502 3.61759154 3.68105806 3.74452458\n",
      " 3.8079911  3.87145761 3.93492413 3.99839065 4.06185717 4.12532369\n",
      " 4.1887902  4.25225672 4.31572324 4.37918976 4.44265628 4.5061228\n",
      " 4.56958931 4.63305583 4.69652235 4.75998887 4.82345539 4.88692191\n",
      " 4.95038842 5.01385494 5.07732146 5.14078798 5.2042545  5.26772102\n",
      " 5.33118753 5.39465405 5.45812057 5.52158709 5.58505361 5.64852012\n",
      " 5.71198664 5.77545316 5.83891968 5.9023862  5.96585272 6.02931923\n",
      " 6.09278575 6.15625227 6.21971879 6.28318531]\n"
     ]
    }
   ],
   "source": [
    "# 많은 수의 점들을 생성할 때 유용\n",
    "from numpy import pi\n",
    "x = linspace(0, 2*pi, 100)\n",
    "print(x)\n",
    "f = np.sin(x)\n",
    "# print(f)"
   ]
  },
  {
   "cell_type": "code",
   "execution_count": 113,
   "metadata": {
    "ExecuteTime": {
     "end_time": "2021-03-07T13:40:51.682964Z",
     "start_time": "2021-03-07T13:40:49.048850Z"
    }
   },
   "outputs": [
    {
     "data": {
      "image/png": "[encoded data removed]",
      "text/plain": [
       "<Figure size 432x288 with 1 Axes>"
      ]
     },
     "metadata": {
      "needs_background": "light"
     },
     "output_type": "display_data"
    }
   ],
   "source": [
    "import matplotlib.pyplot as plt\n",
    "plt.plot(x, f)\n",
    "plt.show()"
   ]
  },
  {
   "cell_type": "code",
   "execution_count": 114,
   "metadata": {
    "ExecuteTime": {
     "end_time": "2021-03-07T13:41:09.193395Z",
     "start_time": "2021-03-07T13:41:09.164471Z"
    }
   },
   "outputs": [
    {
     "data": {
      "text/plain": [
       "array([ 9.59061255e-01, -3.53399317e-01, -1.69659954e+00,  5.89069063e-01,\n",
       "        2.02800755e+00, -2.74337136e-01,  2.11895078e-01, -3.55544929e-01,\n",
       "        9.62526681e-02, -8.45333465e-01, -8.90168663e-01, -2.74691037e-01,\n",
       "       -7.87475119e-01,  6.45202347e-01,  4.37443055e-01,  1.11661346e+00,\n",
       "       -5.95177658e-01,  6.65697171e-01, -6.22017566e-01, -7.26382696e-01,\n",
       "        5.21589733e-01,  1.76689892e+00, -1.24911942e+00, -3.11523276e-01,\n",
       "       -6.03848210e-01, -1.37983741e-01,  7.24822369e-01,  1.82897051e+00,\n",
       "       -7.08965346e-01, -1.72611488e-01,  1.86702091e+00, -7.61291081e-01,\n",
       "        1.00362787e+00, -8.50493122e-01,  9.13409685e-01,  2.53934758e-01,\n",
       "        1.05463618e+00, -6.06630786e-01,  2.68544709e-01, -9.09116787e-01,\n",
       "        1.09985723e-01, -2.32586341e-01, -5.83166188e-01,  6.50760386e-01,\n",
       "       -3.49329278e-01,  7.55883254e-01, -2.35484374e-01, -5.92974226e-01,\n",
       "       -1.16082839e+00,  1.29484086e+00,  1.54292020e+00,  9.61957522e-02,\n",
       "       -1.46519043e-01, -5.71327594e-01, -4.36119756e-01,  3.50268188e-03,\n",
       "       -1.62062440e+00, -1.82051090e-01, -3.50612460e-01,  2.79651719e-01,\n",
       "        2.10546997e-01, -1.66729730e+00,  9.88517083e-01,  1.16388028e-01,\n",
       "        1.08212546e+00,  7.84320688e-02, -1.30515958e+00, -7.71207456e-01,\n",
       "       -1.53329331e+00,  2.04380871e-01,  6.75038371e-02, -1.49746520e-01,\n",
       "       -8.68399283e-01,  5.29827826e-01,  3.63803508e-01, -9.89214912e-01,\n",
       "       -1.05211748e+00,  5.50913876e-01,  3.43254591e-01,  1.89754863e+00,\n",
       "       -5.98067497e-01,  7.71151753e-01, -3.44483940e-01, -7.24113154e-01,\n",
       "        7.03622298e-01,  1.60007193e+00, -4.86004390e-01,  5.96842734e-01,\n",
       "        1.27603108e-01, -1.34430007e+00,  2.54400062e+00,  1.02704590e-01,\n",
       "       -4.48119213e-01,  6.63842290e-01, -1.62199846e+00,  1.84902556e-01,\n",
       "        1.21140081e-01,  7.94387119e-01, -1.57144505e+00, -1.36431673e+00,\n",
       "        3.70737989e-01,  1.44946323e+00,  9.71397579e-01,  1.02650069e+00,\n",
       "        2.96764707e-01, -9.74270123e-01, -7.42483322e-01, -1.61878729e+00,\n",
       "       -4.27366914e-01, -2.01729128e-01, -1.43966497e-01,  2.39165323e+00,\n",
       "        8.51931835e-01,  7.45090407e-01, -2.18783621e-01,  1.53552498e+00,\n",
       "       -3.19793716e-01, -4.98149843e-01, -9.35599890e-01,  2.41596829e+00,\n",
       "       -1.65803262e+00,  5.90391649e-01,  4.78342894e-01,  3.52639929e-01,\n",
       "       -1.34593239e+00, -4.06426397e-01,  7.24484949e-02,  2.95848427e-01,\n",
       "        1.64409796e-01, -4.73897392e-01,  3.76703465e-01,  6.12911818e-01,\n",
       "        1.07598305e-04,  9.21152042e-01, -4.41762907e-01, -1.08759240e+00,\n",
       "       -4.89822052e-01,  8.22180776e-02,  3.86135736e-02,  2.54115755e-02,\n",
       "       -8.57524232e-01,  2.78014162e-01,  6.48129125e-02, -5.37580369e-01,\n",
       "        1.82809024e-01,  3.85727312e-01, -1.63590438e+00,  3.54175713e-01,\n",
       "        1.32140973e+00, -1.72614972e+00, -7.40725290e-01,  4.79424657e-01,\n",
       "        7.52993142e-01, -1.64348414e+00, -7.18823033e-01,  2.59051036e-01,\n",
       "       -1.13299210e+00,  1.25721969e-01, -8.59091709e-01,  8.76264686e-02,\n",
       "        2.65482889e-01,  1.23272904e+00,  2.44509779e-01, -5.90567513e-01,\n",
       "        2.28882060e+00, -1.05989368e+00, -3.94006328e-01,  9.91196589e-01,\n",
       "        6.11404387e-01,  5.85940161e-01,  1.23971962e-01,  1.62623201e+00,\n",
       "       -5.78009350e-01,  1.73965206e-01,  2.24665206e+00, -2.70018821e-01,\n",
       "       -7.90446328e-01, -6.28075801e-01,  1.87471770e+00, -1.71751359e-01,\n",
       "       -7.79120716e-01,  5.73110908e-01, -2.01169826e+00, -9.46591076e-01,\n",
       "       -4.24797073e-01, -1.54793896e+00,  6.19138824e-01,  1.24788097e+00,\n",
       "        9.92603900e-01,  2.67226329e-01, -1.29469351e+00, -1.64298101e+00,\n",
       "       -1.85057172e+00, -6.60672282e-02, -1.47894549e+00,  1.19643932e+00,\n",
       "        4.16772703e-01, -8.11459196e-01, -1.00046529e+00, -1.61569049e+00,\n",
       "        3.81078554e-02, -1.90862861e-01, -6.16110469e-01,  2.41808979e-01,\n",
       "        1.62472823e+00,  1.14843723e+00, -4.27632259e-01, -5.72839287e-01,\n",
       "        3.22836713e-01,  6.87636810e-01,  7.26963152e-03,  4.86710019e-01,\n",
       "       -3.49400022e-01,  1.80838381e+00, -8.91283033e-01,  1.93747470e-01,\n",
       "       -5.68960494e-01, -1.06969557e-01, -1.26153810e+00,  1.45683351e+00,\n",
       "        4.53160416e-01, -6.36204551e-01, -4.33388734e-01, -3.05499587e-01,\n",
       "       -1.38804740e+00, -1.62912099e+00, -8.01866134e-01, -1.76101197e+00,\n",
       "        8.91370841e-01, -5.02328583e-01, -1.41286049e-01,  1.74712492e+00,\n",
       "        7.92125305e-01,  3.24831895e+00,  2.23605107e+00,  4.79573817e-01,\n",
       "       -7.87467560e-01,  3.62593563e-01,  2.07561502e+00,  4.26483294e-01,\n",
       "        1.33644206e+00, -8.74640963e-01, -9.95586943e-01, -7.17275893e-01,\n",
       "       -3.93779238e-01,  7.24162556e-01, -5.20873948e-02, -1.13461085e+00,\n",
       "       -7.39327677e-01,  1.31836304e+00, -1.13737730e+00,  2.36167544e-01,\n",
       "        7.03008900e-01,  8.52203284e-02, -1.86111226e+00,  1.99130906e+00,\n",
       "       -1.37921183e+00, -9.31590230e-01, -1.60780353e+00,  2.09324914e-01,\n",
       "       -1.41641415e+00,  9.30133348e-01, -4.56975567e-01, -1.70982793e-01,\n",
       "       -4.52149950e-02,  5.37342859e-01, -8.09306377e-02, -2.62477349e+00,\n",
       "        2.89269881e+00, -6.62029684e-01, -1.27448972e+00, -3.38273569e-01,\n",
       "       -5.27226236e-02, -2.11629765e-01, -1.72250733e-02, -4.26878303e-01,\n",
       "        4.46118158e-01,  1.55947162e+00, -1.31600791e+00,  4.37782882e-01,\n",
       "       -1.18962656e+00, -8.19589287e-02, -7.57397039e-01, -1.83171097e-01,\n",
       "       -2.22068726e+00,  5.52177760e-01, -4.33807206e-02,  1.57586512e+00,\n",
       "       -2.41716681e+00, -1.56006581e+00,  2.69203048e-01, -1.46125902e+00,\n",
       "        1.13144019e+00,  1.60406065e+00,  1.28585647e+00, -6.39126950e-01,\n",
       "        5.80224334e-01,  2.44328883e-01, -6.35055315e-01,  2.04578693e-01,\n",
       "        1.16040239e+00, -1.75458422e+00,  6.38259584e-01,  2.33742413e-01,\n",
       "       -3.04805707e-01, -5.57826732e-01, -2.31813668e-01,  1.10159414e+00,\n",
       "       -3.94435418e-01, -3.13242051e-01, -1.30686707e+00, -1.78728567e-01,\n",
       "        2.13979202e+00,  2.99503132e-01, -4.11091196e-01,  2.11175133e-01,\n",
       "        1.27531107e+00, -8.17929720e-01, -6.70934766e-01, -3.06005540e-01,\n",
       "        9.15564360e-01,  1.43215646e+00,  8.79750062e-01, -2.18905634e-02,\n",
       "        2.41603039e-01,  1.01502876e+00,  2.30908979e-01, -2.24100336e-01,\n",
       "       -1.06753640e+00,  6.81121389e-01,  4.01477362e-01, -4.96067730e-01,\n",
       "        7.54598221e-01, -5.73332242e-01, -9.43142622e-01,  2.78551269e-01,\n",
       "       -7.32465147e-01,  6.76033595e-01, -1.79517931e-01,  3.28723520e-01,\n",
       "       -5.21366469e-01,  2.00911227e-01,  1.01075827e+00,  6.18139678e-01,\n",
       "        6.90276660e-01,  8.94040156e-01, -3.29375152e-01, -7.83959313e-01,\n",
       "        1.19072095e-01, -1.20752093e+00,  2.11978025e+00,  4.32012687e-01,\n",
       "       -1.82161646e+00, -1.47782216e+00, -1.36340560e+00,  3.22910499e-01,\n",
       "        1.31159762e+00, -5.69175014e-03,  9.81640060e-01,  2.32168250e+00,\n",
       "       -9.11034902e-01, -4.23434616e-01, -1.55029664e-01, -1.20137963e+00,\n",
       "        1.10329408e+00,  1.67259725e+00, -1.13248781e+00, -1.87095211e+00,\n",
       "        2.37044346e+00,  3.88274605e-02, -5.97194558e-01, -1.26992971e+00,\n",
       "        5.20416708e-01, -1.28721587e+00,  9.26363096e-01, -5.35397049e-02,\n",
       "        3.06710296e-01,  6.15812765e-01, -2.39696473e-02, -9.78923496e-01,\n",
       "        7.23542927e-01, -8.79466080e-02,  2.38124115e+00, -9.37610394e-01,\n",
       "       -6.83776764e-01, -3.46926605e-01,  1.11589551e+00,  6.15256557e-01,\n",
       "        4.20976224e-01, -4.49528108e-01,  4.27764400e-01,  2.07714940e+00,\n",
       "       -4.01749994e-01,  2.22626354e+00,  4.81625469e-01, -1.68183328e+00,\n",
       "       -2.27695048e-01,  7.11898527e-01,  1.36133160e-01,  2.68862465e+00,\n",
       "        1.86776494e-01, -2.32923608e-01,  3.01682831e-01,  4.26124502e-02,\n",
       "        1.69808258e+00,  6.56258082e-01, -9.58305187e-01, -6.84373531e-01,\n",
       "        7.19907005e-01, -6.35366529e-01,  8.69067775e-01, -7.99584035e-01,\n",
       "        4.54219955e-02,  3.43790178e-01,  9.70228738e-01,  5.63776736e-01,\n",
       "        1.12281029e+00, -3.73036830e-01, -1.39401844e+00, -2.28190919e-01,\n",
       "       -1.18122360e+00, -2.71604936e-01,  2.32765461e+00,  4.06789048e-01,\n",
       "       -1.87194589e-01, -4.97574116e-01, -2.47634690e-01, -6.32761533e-02,\n",
       "        6.21175905e-01,  5.36480182e-01,  3.76074212e-01, -4.80201533e-01,\n",
       "       -5.92606511e-01, -9.23379177e-01, -6.81006126e-01,  8.36530112e-01,\n",
       "       -8.58333337e-01,  5.32839382e-01, -1.08855252e-01,  4.91256332e-02,\n",
       "        1.46762250e+00, -1.04543264e-01,  6.40142517e-01,  6.52383639e-01,\n",
       "       -1.19721003e-01,  7.09399209e-01, -1.80672252e-01, -4.48616089e-01,\n",
       "        1.17949115e+00,  6.56236907e-01, -5.08928656e-01, -1.93150376e-01,\n",
       "       -1.40710254e+00,  3.91113376e-01,  9.66619237e-01,  1.15246424e-01,\n",
       "       -8.48757902e-01, -1.56451496e-01, -1.30004222e+00, -1.07758037e+00,\n",
       "       -5.33915672e-01,  1.00499993e+00, -7.39791083e-01,  8.08569848e-01,\n",
       "        1.43371963e+00,  2.63891348e-01,  1.72879900e+00, -1.09203536e+00,\n",
       "       -1.72435060e-01,  1.02451577e+00, -1.70266486e-01, -8.78448834e-01,\n",
       "       -1.01701998e+00,  3.33110795e-01, -8.54130127e-01, -3.53538330e-02,\n",
       "        9.31213740e-01,  9.86335789e-01, -9.62947263e-01,  1.61590722e+00,\n",
       "        1.91153981e+00, -8.61126692e-02,  1.30380416e+00,  1.20643579e+00,\n",
       "       -4.43252350e-02,  2.77645373e-01,  4.44417702e-01,  9.34261612e-01,\n",
       "        4.76497583e-01,  3.24869701e-01,  1.80257534e-01, -5.97360422e-01,\n",
       "        7.28338720e-01,  6.71769945e-01,  6.75373854e-01, -1.86834429e-01,\n",
       "       -1.69307115e+00, -1.66429378e+00,  1.14254686e+00, -3.56497123e-01,\n",
       "        1.14049749e+00, -8.62455660e-01,  5.42751417e-01,  1.24179410e-01,\n",
       "       -1.20207187e-01, -9.78301282e-01, -2.83953580e-01,  1.38085021e+00,\n",
       "       -9.95750553e-01, -4.00880410e-01,  1.22772587e+00, -3.47895116e-01,\n",
       "       -9.99702374e-01,  1.04326897e+00,  8.85386617e-01,  2.53580831e-01,\n",
       "       -8.47204008e-01, -1.27786776e+00, -1.97780760e+00, -1.43063121e+00,\n",
       "       -6.37115077e-01,  2.16698441e-01, -3.83932927e-01,  1.46792517e+00,\n",
       "        4.95684163e-01,  1.26448147e+00,  6.81084449e-01,  1.06760303e+00,\n",
       "       -8.87558695e-03,  1.12026409e-01, -8.84570781e-02,  8.29804213e-01,\n",
       "        2.34629004e+00,  2.06368970e-01,  4.59528583e-01,  2.13593304e-02,\n",
       "        4.41066279e-01, -7.55475403e-01, -3.47221538e-01,  3.92573695e-01,\n",
       "       -3.25512626e-01, -2.51510948e-01, -2.96629958e+00, -3.89026699e-01,\n",
       "        3.46655546e-01, -2.32041868e-01, -4.17271907e-01, -1.80968512e-01,\n",
       "       -1.09625526e+00,  2.72232755e-01, -1.37476666e-02,  4.40907591e-01,\n",
       "        1.01434690e+00,  1.15282572e+00, -3.23706930e-01,  1.09613628e-01,\n",
       "       -1.35246888e+00, -1.80766949e+00,  6.22045020e-01,  9.01540986e-01,\n",
       "        5.13327042e-01, -1.72673627e-01, -7.40846158e-01, -3.89711711e-01,\n",
       "       -6.16626258e-01,  9.92853403e-01,  1.32878163e+00,  2.83484231e-01,\n",
       "       -1.99604150e+00, -7.73005725e-01,  1.89795290e+00, -2.57219020e-01,\n",
       "        1.05008143e+00,  1.36492870e+00,  4.64010664e-01,  9.02581606e-02,\n",
       "       -1.90920668e-01, -1.24315103e-01,  1.10575407e-01, -5.43286105e-01,\n",
       "       -1.74725624e-01,  2.66388753e-01,  1.50252857e-01,  9.55961561e-01,\n",
       "       -5.02692399e-01, -1.33602575e+00,  9.94594432e-01,  6.37109708e-02,\n",
       "       -7.10486866e-01, -5.25448655e-02, -5.88240583e-01, -1.06191907e+00,\n",
       "       -2.89672778e-01, -7.28687965e-01,  2.57897119e+00,  6.92061833e-01,\n",
       "        2.08029291e+00, -8.08261438e-02,  1.71434685e-01, -4.73698198e-01,\n",
       "        1.22203109e-01,  4.98203950e-01,  6.24925292e-01, -9.65235307e-01,\n",
       "       -1.52507254e+00, -7.82533694e-01, -4.13082737e-01,  2.25431820e+00,\n",
       "        1.02813316e-01, -1.23918338e+00,  1.14771945e+00,  2.43688785e+00,\n",
       "       -8.59047396e-01, -6.17338548e-01, -1.08554128e+00,  6.69484889e-01,\n",
       "       -1.52503104e+00,  1.23501580e-01,  7.11014043e-01,  1.59884412e+00,\n",
       "       -2.07701125e-01,  5.21539831e-01, -6.13904943e-01, -1.54712152e-01,\n",
       "       -3.23737490e-01,  7.43023829e-01,  5.60746455e-01,  2.57249584e-01,\n",
       "       -5.88851775e-01,  5.45839119e-01,  5.81806730e-01,  6.58117838e-01,\n",
       "       -2.34807176e-01, -3.86353143e-01,  3.24995747e-01,  2.96128837e-01,\n",
       "        1.25178024e+00,  1.24856945e+00,  2.34068958e+00,  2.42362063e-01,\n",
       "        2.41848962e+00, -6.33842877e-01,  7.94889218e-01,  2.35709585e-01,\n",
       "       -6.51750123e-01,  9.32750456e-01,  7.25410924e-01, -1.23957615e+00,\n",
       "       -1.27387357e+00,  5.02330546e-01,  9.82659848e-01, -2.95061363e-01,\n",
       "        1.67331903e+00,  1.43281362e+00,  7.47429773e-01,  1.57062916e+00,\n",
       "       -9.91720713e-02, -8.70401517e-02,  2.09217520e+00, -6.56440364e-01,\n",
       "       -2.09046841e-01, -1.45143578e-01, -1.25011423e+00,  5.47236525e-01,\n",
       "       -2.32748527e-01, -8.08218937e-01, -8.42988082e-02, -6.00741639e-01,\n",
       "       -1.20622205e+00,  1.57659879e+00, -3.46084067e-01,  1.81476891e-02,\n",
       "       -3.12659813e-01, -6.65115983e-01, -1.15268120e+00,  2.82753813e+00,\n",
       "       -1.06390506e+00, -1.18282950e+00,  4.48873367e-01, -4.45612981e-01,\n",
       "       -9.40737066e-01,  1.22327291e+00, -5.04890436e-01,  3.25103274e-01,\n",
       "        2.45293386e-01,  8.94318918e-01, -3.19998279e-01, -1.36067736e+00,\n",
       "        4.54635855e-01, -8.97876336e-01,  4.68388981e-01,  7.56815590e-01,\n",
       "        4.65178001e-01, -6.90467520e-01, -1.42172895e+00, -7.49637868e-01,\n",
       "        3.73320454e-01, -4.99696947e-02, -5.34206157e-01,  1.47977218e+00,\n",
       "       -1.20044796e-01,  5.11204539e-01,  2.01653435e-02, -5.60182744e-03,\n",
       "       -1.93711428e+00,  7.79722953e-01,  8.73798166e-01,  8.55354893e-01,\n",
       "       -2.16013370e-01, -6.96765190e-01,  2.41898829e-01, -1.58391461e+00,\n",
       "       -8.79994608e-01, -7.21963116e-01, -6.01440723e-01,  1.10883198e+00,\n",
       "       -9.21059717e-01,  1.08237911e+00, -5.87649205e-01,  1.66187330e+00,\n",
       "       -4.84303781e-01, -1.42745205e+00,  5.52370102e-01, -3.26788070e-01,\n",
       "        1.76823254e+00, -2.34233910e-01, -1.25603801e-01, -9.76582808e-01,\n",
       "       -1.00616324e+00,  2.20664255e-01, -9.27370814e-01,  3.14295593e-01,\n",
       "        1.33408056e+00,  2.71931566e+00, -9.37748731e-01, -1.21145198e+00,\n",
       "        1.56830084e-01,  1.33810119e-01, -1.00676259e-01, -8.40642610e-01,\n",
       "        8.71330171e-01, -2.15165465e-01,  7.20711104e-01, -8.79839726e-01,\n",
       "        9.64167547e-02, -7.86964337e-01,  1.20105682e+00, -2.96088711e-01,\n",
       "        1.60013879e-02, -8.49924971e-01,  2.62156101e+00,  1.47380310e+00,\n",
       "        1.91698327e-01,  3.00450362e-01, -9.73639043e-01, -4.39771829e-01,\n",
       "        9.72690151e-01, -5.32488094e-01,  5.45777626e-01, -5.53517794e-01,\n",
       "        1.52605636e-01, -1.36099461e+00, -1.11736282e+00,  1.15394190e+00,\n",
       "       -9.07193563e-01,  8.45894379e-02, -5.85087068e-01,  2.89710014e-01,\n",
       "        1.14005735e+00,  4.47460759e-01, -6.30300934e-01, -2.18277042e+00,\n",
       "       -9.84376145e-01, -7.10746055e-01, -9.67983589e-02, -3.05934048e-01,\n",
       "       -3.05580063e+00,  2.15593199e-01,  1.78686921e-01,  4.24469300e-01,\n",
       "       -1.12353301e+00, -9.96637987e-01,  3.15374366e-01,  1.83007198e+00,\n",
       "       -6.11834187e-01, -3.59158138e-01, -7.09247184e-01, -7.95099352e-01,\n",
       "        1.11342665e+00, -2.62749057e-01, -5.86692323e-02, -1.57255856e-01,\n",
       "        3.00000272e-01, -1.26944730e+00, -9.57051784e-01, -1.00962494e+00,\n",
       "       -4.07800125e-01,  1.26137347e+00,  1.09711315e+00,  1.83341485e+00,\n",
       "       -1.16205426e+00,  8.84905774e-01,  3.18193452e-01,  1.22621093e+00,\n",
       "       -5.98627854e-01,  6.97019460e-01,  2.14184507e-02,  1.51782248e+00,\n",
       "        2.90234905e-01,  8.02288063e-02, -4.82914020e-01, -6.06780493e-01,\n",
       "       -8.16098098e-01, -3.23907297e-02,  1.07011108e+00,  2.41493530e+00,\n",
       "       -9.47448915e-04,  8.35709353e-01, -5.51935087e-01,  1.00364665e-02,\n",
       "       -8.97538786e-01,  8.20527744e-01, -9.47545901e-01,  2.05393992e+00,\n",
       "        7.21639538e-01, -1.63286724e+00, -1.23143263e+00,  6.91445316e-02,\n",
       "       -1.71463284e+00, -9.38694747e-01, -6.35600670e-01, -1.50727972e+00,\n",
       "        1.12383483e+00,  9.32160584e-01, -1.07122728e+00, -7.89679457e-01,\n",
       "        1.38237840e+00, -6.03819277e-01, -1.96341860e+00, -4.93017296e-01,\n",
       "       -1.48200135e+00, -1.68104773e+00, -1.78317761e-01, -1.53354589e+00,\n",
       "       -1.79022807e+00,  1.51488767e+00,  6.87102648e-01, -6.30054357e-02,\n",
       "        1.65063988e+00,  1.02651234e-01,  4.69708283e-02,  4.79956643e-01,\n",
       "        1.40127899e+00, -1.29235280e+00, -2.28100690e-01, -1.01888016e+00,\n",
       "       -2.19653106e+00,  5.48202476e-01, -5.86172936e-01, -1.58878482e+00,\n",
       "       -6.22589544e-01,  3.90053542e-01,  1.47487441e+00, -3.11011334e-01,\n",
       "        1.82030673e+00, -1.49305901e+00,  8.88792457e-01,  7.12248820e-01,\n",
       "        8.81188066e-01, -3.08119882e-01,  5.93999726e-01, -1.56762768e-01,\n",
       "       -1.40343838e+00,  1.06943772e+00, -2.99537994e-01, -2.14474256e+00,\n",
       "        9.13830536e-01,  6.00945807e-02,  2.26157766e+00, -9.83410493e-01,\n",
       "        1.18899713e+00, -3.20351201e-01, -6.66782404e-01, -5.61149401e-01,\n",
       "       -5.41986632e-01, -1.78063374e+00, -1.36497961e+00,  1.14816853e+00,\n",
       "       -1.13845012e+00,  7.08637365e-01, -8.69840111e-01,  1.10263167e+00,\n",
       "       -2.71605842e+00,  1.23642146e+00,  2.48820586e-01, -9.58294625e-01,\n",
       "       -4.74481446e-01, -8.29531463e-01, -1.79204151e+00,  5.74597454e-01,\n",
       "        1.25143244e+00, -1.37033612e+00, -2.59427876e-01,  1.16624959e+00,\n",
       "       -5.58447215e-01,  3.88878046e-01,  2.47091375e-01,  9.36376167e-02,\n",
       "        5.97145572e-01, -1.48905095e+00, -2.30378220e-01,  6.63287332e-01,\n",
       "        7.06597699e-01,  2.20995643e+00,  4.77883226e-01,  1.48314018e+00,\n",
       "        1.33968374e+00,  2.83507964e-01, -8.12114520e-01,  6.16679110e-01,\n",
       "        7.86762875e-01, -5.95616133e-02, -2.42139558e-01, -5.56794083e-01,\n",
       "        8.41556341e-01,  1.93043061e-01,  1.19811152e-01,  5.08339167e-01,\n",
       "       -6.37910218e-01,  1.16725806e+00,  8.23339966e-01,  1.20015717e+00,\n",
       "       -4.91991997e-01, -1.46316106e+00, -1.32353748e+00,  4.76461080e-01,\n",
       "        2.89882860e-01, -1.82574101e+00,  5.08363784e-01,  1.18826009e+00,\n",
       "       -1.75460894e-01, -7.81665077e-01, -7.30202868e-01,  1.80606986e-02,\n",
       "        1.14880053e+00, -6.46813040e-01,  1.35947325e+00,  7.81657942e-01,\n",
       "        2.31954166e-01,  6.25578143e-02, -1.50365125e+00,  9.12539988e-01,\n",
       "        1.72204170e-01, -3.53398403e-01,  8.55562802e-02,  7.11240559e-01,\n",
       "        4.65809170e-01, -1.11215916e-02, -2.97481119e-01,  5.40423458e-01,\n",
       "       -8.52888606e-02,  6.93518398e-01,  1.14982491e+00,  1.52446740e+00,\n",
       "        9.87896269e-01, -1.89262327e+00,  6.93411227e-01, -4.99350160e-01,\n",
       "        1.80997339e+00, -2.35870865e-01, -8.20576790e-01,  1.55644563e+00,\n",
       "        9.95418484e-01,  1.16279243e+00, -9.16036099e-01, -1.07372851e+00,\n",
       "       -6.18618897e-01, -4.70745356e-02, -2.39021348e+00,  3.22540365e-01,\n",
       "       -1.13727728e+00,  1.24049767e+00,  1.97942364e-01,  4.62248188e-01,\n",
       "        7.49938240e-01,  2.54852903e-01, -1.58027756e+00, -8.46264356e-01,\n",
       "       -3.61887675e-01, -5.30335990e-01, -5.60164294e-01, -5.53246499e-01,\n",
       "       -1.36467181e+00, -2.16704428e-01,  2.48928907e-01,  7.08551623e-02,\n",
       "        1.41859856e-01,  6.71460968e-01, -5.38175606e-01, -1.86273549e-01])"
      ]
     },
     "execution_count": 114,
     "metadata": {},
     "output_type": "execute_result"
    }
   ],
   "source": [
    "x = np.random.normal(0, 1, 1000) # 평균0, 표준편차가 1인 정규분포값 1000개\n",
    "x"
   ]
  },
  {
   "cell_type": "code",
   "execution_count": 115,
   "metadata": {
    "ExecuteTime": {
     "end_time": "2021-03-07T13:41:19.214873Z",
     "start_time": "2021-03-07T13:41:19.050313Z"
    }
   },
   "outputs": [
    {
     "data": {
      "text/plain": [
       "(array([  4.,  18.,  89., 194., 235., 239., 134.,  52.,  29.,   6.]),\n",
       " array([-3.05580063, -2.42538867, -1.79497672, -1.16456476, -0.5341528 ,\n",
       "         0.09625916,  0.72667112,  1.35708308,  1.98749504,  2.61790699,\n",
       "         3.24831895]),\n",
       " <BarContainer object of 10 artists>)"
      ]
     },
     "execution_count": 115,
     "metadata": {},
     "output_type": "execute_result"
    },
    {
     "data": {
      "image/png": "[encoded data removed]",
      "text/plain": [
       "<Figure size 432x288 with 1 Axes>"
      ]
     },
     "metadata": {
      "needs_background": "light"
     },
     "output_type": "display_data"
    }
   ],
   "source": [
    "plt.hist(x)"
   ]
  },
  {
   "cell_type": "markdown",
   "metadata": {},
   "source": [
    "## 2.4 배열의 차원 변경하기"
   ]
  },
  {
   "cell_type": "code",
   "execution_count": 116,
   "metadata": {
    "ExecuteTime": {
     "end_time": "2021-03-07T13:41:45.069932Z",
     "start_time": "2021-03-07T13:41:45.059956Z"
    }
   },
   "outputs": [
    {
     "data": {
      "text/plain": [
       "array([[0.26780191, 0.53627412, 0.56474749, 0.10019986],\n",
       "       [0.62762789, 0.07859392, 0.78353845, 0.71693447],\n",
       "       [0.33534553, 0.45604282, 0.35161619, 0.42177021]])"
      ]
     },
     "execution_count": 116,
     "metadata": {},
     "output_type": "execute_result"
    }
   ],
   "source": [
    "t = np.random.random((3,4)) # 3행 4열 2차원 배열(random수)\n",
    "t"
   ]
  },
  {
   "cell_type": "code",
   "execution_count": 118,
   "metadata": {
    "ExecuteTime": {
     "end_time": "2021-03-07T13:42:02.259441Z",
     "start_time": "2021-03-07T13:42:02.245966Z"
    }
   },
   "outputs": [
    {
     "data": {
      "text/plain": [
       "array([[2., 5., 5., 1.],\n",
       "       [6., 0., 7., 7.],\n",
       "       [3., 4., 3., 4.]])"
      ]
     },
     "execution_count": 118,
     "metadata": {},
     "output_type": "execute_result"
    }
   ],
   "source": [
    "a = np.floor(t*10)\n",
    "a"
   ]
  },
  {
   "cell_type": "code",
   "execution_count": 119,
   "metadata": {
    "ExecuteTime": {
     "end_time": "2021-03-07T13:42:07.590014Z",
     "start_time": "2021-03-07T13:42:07.576052Z"
    }
   },
   "outputs": [
    {
     "data": {
      "text/plain": [
       "(3, 4)"
      ]
     },
     "execution_count": 119,
     "metadata": {},
     "output_type": "execute_result"
    }
   ],
   "source": [
    "a.shape"
   ]
  },
  {
   "cell_type": "code",
   "execution_count": 120,
   "metadata": {
    "ExecuteTime": {
     "end_time": "2021-03-07T13:42:13.797257Z",
     "start_time": "2021-03-07T13:42:13.790274Z"
    }
   },
   "outputs": [
    {
     "data": {
      "text/plain": [
       "array([2., 5., 5., 1., 6., 0., 7., 7., 3., 4., 3., 4.])"
      ]
     },
     "execution_count": 120,
     "metadata": {},
     "output_type": "execute_result"
    }
   ],
   "source": [
    "a.ravel() # 차원이 풀린 배열을 반환(a가 바뀌는 것은 아님)"
   ]
  },
  {
   "cell_type": "code",
   "execution_count": 122,
   "metadata": {
    "ExecuteTime": {
     "end_time": "2021-03-07T13:42:21.866624Z",
     "start_time": "2021-03-07T13:42:21.856651Z"
    }
   },
   "outputs": [
    {
     "data": {
      "text/plain": [
       "array([[2., 5., 5., 1.],\n",
       "       [6., 0., 7., 7.],\n",
       "       [3., 4., 3., 4.]])"
      ]
     },
     "execution_count": 122,
     "metadata": {},
     "output_type": "execute_result"
    }
   ],
   "source": [
    "a"
   ]
  },
  {
   "cell_type": "code",
   "execution_count": 123,
   "metadata": {
    "ExecuteTime": {
     "end_time": "2021-03-07T13:43:04.083408Z",
     "start_time": "2021-03-07T13:43:04.073481Z"
    }
   },
   "outputs": [
    {
     "data": {
      "text/plain": [
       "array([[2., 5., 5., 1., 6., 0.],\n",
       "       [7., 7., 3., 4., 3., 4.]])"
      ]
     },
     "execution_count": 123,
     "metadata": {},
     "output_type": "execute_result"
    }
   ],
   "source": [
    "a.reshape(2,6) # shape가 수정된 배열을 반환(a는 그대로)"
   ]
  },
  {
   "cell_type": "code",
   "execution_count": 124,
   "metadata": {
    "ExecuteTime": {
     "end_time": "2021-03-07T13:43:09.804614Z",
     "start_time": "2021-03-07T13:43:09.800638Z"
    }
   },
   "outputs": [
    {
     "data": {
      "text/plain": [
       "array([[2., 5., 5., 1.],\n",
       "       [6., 0., 7., 7.],\n",
       "       [3., 4., 3., 4.]])"
      ]
     },
     "execution_count": 124,
     "metadata": {},
     "output_type": "execute_result"
    }
   ],
   "source": [
    "a"
   ]
  },
  {
   "cell_type": "code",
   "execution_count": 125,
   "metadata": {
    "ExecuteTime": {
     "end_time": "2021-03-07T13:43:20.094231Z",
     "start_time": "2021-03-07T13:43:20.082288Z"
    }
   },
   "outputs": [
    {
     "data": {
      "text/plain": [
       "array([[2., 6., 3.],\n",
       "       [5., 0., 4.],\n",
       "       [5., 7., 3.],\n",
       "       [1., 7., 4.]])"
      ]
     },
     "execution_count": 125,
     "metadata": {},
     "output_type": "execute_result"
    }
   ],
   "source": [
    "# a는 3행4열짜리 2차원배열. 2차원배열은 행렬(Matrix)로 이해\n",
    "a.T # 전치행렬(행과 열을 거꾸로)"
   ]
  },
  {
   "cell_type": "code",
   "execution_count": 126,
   "metadata": {
    "ExecuteTime": {
     "end_time": "2021-03-07T13:43:28.030300Z",
     "start_time": "2021-03-07T13:43:28.019330Z"
    }
   },
   "outputs": [
    {
     "data": {
      "text/plain": [
       "array([[2., 6., 3.],\n",
       "       [5., 0., 4.],\n",
       "       [5., 7., 3.],\n",
       "       [1., 7., 4.]])"
      ]
     },
     "execution_count": 126,
     "metadata": {},
     "output_type": "execute_result"
    }
   ],
   "source": [
    "a.transpose() # 전치행렬을 반환(a는 그대로)"
   ]
  },
  {
   "cell_type": "code",
   "execution_count": 127,
   "metadata": {
    "ExecuteTime": {
     "end_time": "2021-03-07T13:43:38.631128Z",
     "start_time": "2021-03-07T13:43:38.613532Z"
    }
   },
   "outputs": [],
   "source": [
    "a.resize((2,6)) #a의 차원을 수정"
   ]
  },
  {
   "cell_type": "code",
   "execution_count": 128,
   "metadata": {
    "ExecuteTime": {
     "end_time": "2021-03-07T13:43:43.912193Z",
     "start_time": "2021-03-07T13:43:43.899230Z"
    }
   },
   "outputs": [
    {
     "data": {
      "text/plain": [
       "array([[2., 5., 5., 1., 6., 0.],\n",
       "       [7., 7., 3., 4., 3., 4.]])"
      ]
     },
     "execution_count": 128,
     "metadata": {},
     "output_type": "execute_result"
    }
   ],
   "source": [
    "a"
   ]
  },
  {
   "cell_type": "code",
   "execution_count": 129,
   "metadata": {
    "ExecuteTime": {
     "end_time": "2021-03-07T13:43:55.094983Z",
     "start_time": "2021-03-07T13:43:55.075766Z"
    }
   },
   "outputs": [
    {
     "data": {
      "text/plain": [
       "array([[2., 5., 5., 1.],\n",
       "       [6., 0., 7., 7.],\n",
       "       [3., 4., 3., 4.]])"
      ]
     },
     "execution_count": 129,
     "metadata": {},
     "output_type": "execute_result"
    }
   ],
   "source": [
    "a.reshape(3,-1) # -1로 주어지면 해당 차원의 크기가 자동 계산"
   ]
  },
  {
   "cell_type": "code",
   "execution_count": 130,
   "metadata": {
    "ExecuteTime": {
     "end_time": "2021-03-07T13:44:01.331537Z",
     "start_time": "2021-03-07T13:44:01.312592Z"
    }
   },
   "outputs": [
    {
     "data": {
      "text/plain": [
       "array([[2., 5., 5.],\n",
       "       [1., 6., 0.],\n",
       "       [7., 7., 3.],\n",
       "       [4., 3., 4.]])"
      ]
     },
     "execution_count": 130,
     "metadata": {},
     "output_type": "execute_result"
    }
   ],
   "source": [
    "a.reshape(-1,3) # reshape에는 -1 가능"
   ]
  },
  {
   "cell_type": "code",
   "execution_count": 131,
   "metadata": {
    "ExecuteTime": {
     "end_time": "2021-03-07T13:44:07.856067Z",
     "start_time": "2021-03-07T13:44:07.844070Z"
    }
   },
   "outputs": [
    {
     "data": {
      "text/plain": [
       "array([[2., 5., 5., 1.],\n",
       "       [6., 0., 7., 7.],\n",
       "       [3., 4., 3., 4.]])"
      ]
     },
     "execution_count": 131,
     "metadata": {},
     "output_type": "execute_result"
    }
   ],
   "source": [
    "a.resize(3,4)\n",
    "a"
   ]
  },
  {
   "cell_type": "code",
   "execution_count": 132,
   "metadata": {
    "ExecuteTime": {
     "end_time": "2021-03-07T13:44:12.490926Z",
     "start_time": "2021-03-07T13:44:12.433101Z"
    }
   },
   "outputs": [
    {
     "ename": "ValueError",
     "evalue": "negative dimensions not allowed",
     "output_type": "error",
     "traceback": [
      "\u001b[1;31m---------------------------------------------------------------------------\u001b[0m",
      "\u001b[1;31mValueError\u001b[0m                                Traceback (most recent call last)",
      "\u001b[1;32m<ipython-input-132-dbbe4c5707bc>\u001b[0m in \u001b[0;36m<module>\u001b[1;34m\u001b[0m\n\u001b[1;32m----> 1\u001b[1;33m \u001b[0ma\u001b[0m\u001b[1;33m.\u001b[0m\u001b[0mresize\u001b[0m\u001b[1;33m(\u001b[0m\u001b[1;33m(\u001b[0m\u001b[1;36m3\u001b[0m\u001b[1;33m,\u001b[0m\u001b[1;33m-\u001b[0m\u001b[1;36m1\u001b[0m\u001b[1;33m)\u001b[0m\u001b[1;33m)\u001b[0m \u001b[1;31m#resize -1 불가\u001b[0m\u001b[1;33m\u001b[0m\u001b[1;33m\u001b[0m\u001b[0m\n\u001b[0m",
      "\u001b[1;31mValueError\u001b[0m: negative dimensions not allowed"
     ]
    }
   ],
   "source": [
    "a.resize((3,-1)) #resize -1 불가"
   ]
  },
  {
   "cell_type": "code",
   "execution_count": 133,
   "metadata": {
    "ExecuteTime": {
     "end_time": "2021-03-07T13:44:25.604427Z",
     "start_time": "2021-03-07T13:44:25.596673Z"
    }
   },
   "outputs": [],
   "source": [
    "# 로또번호 6개(1~45)를 구해서 sort하여 1차원 배열에 넣기"
   ]
  },
  {
   "cell_type": "code",
   "execution_count": 134,
   "metadata": {
    "ExecuteTime": {
     "end_time": "2021-03-07T13:44:30.257220Z",
     "start_time": "2021-03-07T13:44:30.239302Z"
    }
   },
   "outputs": [
    {
     "data": {
      "text/plain": [
       "array([17.36724993, 25.64305673, 30.96824057,  5.12977858, 34.44941867,\n",
       "       33.24626861])"
      ]
     },
     "execution_count": 134,
     "metadata": {},
     "output_type": "execute_result"
    }
   ],
   "source": [
    "45*np.random.random(6) # 0부터 45미만의 실수"
   ]
  },
  {
   "cell_type": "code",
   "execution_count": 135,
   "metadata": {
    "ExecuteTime": {
     "end_time": "2021-03-07T13:44:38.446367Z",
     "start_time": "2021-03-07T13:44:38.438389Z"
    }
   },
   "outputs": [
    {
     "name": "stdout",
     "output_type": "stream",
     "text": [
      "[ 5. 29. 33. 35. 40. 45.]\n"
     ]
    }
   ],
   "source": [
    "while True:\n",
    "    a = np.floor(45*np.random.random(6))+1\n",
    "    a.sort()\n",
    "    if len(set([int(data) for data in a]))==6:\n",
    "        print(a)\n",
    "        break;"
   ]
  },
  {
   "cell_type": "code",
   "execution_count": 136,
   "metadata": {
    "ExecuteTime": {
     "end_time": "2021-03-07T13:44:44.179098Z",
     "start_time": "2021-03-07T13:44:44.157162Z"
    }
   },
   "outputs": [
    {
     "data": {
      "text/plain": [
       "array([['1', '1'],\n",
       "       ['2.0', '1']], dtype='<U32')"
      ]
     },
     "execution_count": 136,
     "metadata": {},
     "output_type": "execute_result"
    }
   ],
   "source": [
    "np.array([[1,1],[2.0,'1']])"
   ]
  },
  {
   "cell_type": "markdown",
   "metadata": {},
   "source": [
    "## 2.5 배열 인쇄"
   ]
  },
  {
   "cell_type": "code",
   "execution_count": 137,
   "metadata": {
    "ExecuteTime": {
     "end_time": "2021-03-07T13:45:06.488145Z",
     "start_time": "2021-03-07T13:45:06.482163Z"
    }
   },
   "outputs": [
    {
     "name": "stdout",
     "output_type": "stream",
     "text": [
      "[    0     1     2 ... 99997 99998 99999]\n"
     ]
    }
   ],
   "source": [
    "# 배열이 너무 커서 인쇄할 수 없는 경우\n",
    "print(np.arange(100000))"
   ]
  },
  {
   "cell_type": "code",
   "execution_count": 138,
   "metadata": {
    "ExecuteTime": {
     "end_time": "2021-03-07T13:45:14.952578Z",
     "start_time": "2021-03-07T13:45:14.932632Z"
    }
   },
   "outputs": [
    {
     "name": "stdout",
     "output_type": "stream",
     "text": [
      "[[   0    1    2 ...  997  998  999]\n",
      " [1000 1001 1002 ... 1997 1998 1999]\n",
      " [2000 2001 2002 ... 2997 2998 2999]\n",
      " ...\n",
      " [7000 7001 7002 ... 7997 7998 7999]\n",
      " [8000 8001 8002 ... 8997 8998 8999]\n",
      " [9000 9001 9002 ... 9997 9998 9999]]\n"
     ]
    }
   ],
   "source": [
    "print(np.arange(10000).reshape(10,1000))"
   ]
  },
  {
   "cell_type": "code",
   "execution_count": 139,
   "metadata": {
    "ExecuteTime": {
     "end_time": "2021-03-07T13:45:38.409568Z",
     "start_time": "2021-03-07T13:45:38.392614Z"
    }
   },
   "outputs": [],
   "source": [
    "# 배열이 너무 커서 인쇄할 수 없는 경우 자동으로 건너뛰고 모서리만 인쇄\n",
    "# 이동작을 비활성화하고 넘파이가 전체 배열을 인쇄하도록 하려면\n",
    "# 인쇄 옵션 변경 threshold값을 큰 값으로\n",
    "import sys\n",
    "np.set_printoptions(threshold=100) \n",
    "# np.inf : 무한대\n",
    "# 내 시스템에서의 sys.maxsize"
   ]
  },
  {
   "cell_type": "code",
   "execution_count": 140,
   "metadata": {
    "ExecuteTime": {
     "end_time": "2021-03-07T13:45:45.674450Z",
     "start_time": "2021-03-07T13:45:45.661523Z"
    }
   },
   "outputs": [
    {
     "name": "stdout",
     "output_type": "stream",
     "text": [
      "[[   0    1    2 ...  997  998  999]\n",
      " [1000 1001 1002 ... 1997 1998 1999]\n",
      " [2000 2001 2002 ... 2997 2998 2999]\n",
      " ...\n",
      " [7000 7001 7002 ... 7997 7998 7999]\n",
      " [8000 8001 8002 ... 8997 8998 8999]\n",
      " [9000 9001 9002 ... 9997 9998 9999]]\n"
     ]
    }
   ],
   "source": [
    "print(np.arange(10000).reshape(10,1000))"
   ]
  },
  {
   "cell_type": "markdown",
   "metadata": {},
   "source": [
    "## 2.6 기본연산 동작"
   ]
  },
  {
   "cell_type": "markdown",
   "metadata": {},
   "source": [
    "<b>1) 배열의 요소별 연산"
   ]
  },
  {
   "cell_type": "code",
   "execution_count": 141,
   "metadata": {
    "ExecuteTime": {
     "end_time": "2021-03-07T13:47:07.597265Z",
     "start_time": "2021-03-07T13:47:07.580311Z"
    }
   },
   "outputs": [
    {
     "name": "stdout",
     "output_type": "stream",
     "text": [
      "[20 30 40 50]\n",
      "[0 1 2 3]\n"
     ]
    }
   ],
   "source": [
    "a = np.array([20,30,40,50])\n",
    "b = np.arange(4)\n",
    "print(a)\n",
    "print(b)"
   ]
  },
  {
   "cell_type": "code",
   "execution_count": 142,
   "metadata": {
    "ExecuteTime": {
     "end_time": "2021-03-07T13:47:18.631681Z",
     "start_time": "2021-03-07T13:47:18.616724Z"
    }
   },
   "outputs": [
    {
     "data": {
      "text/plain": [
       "array([20, 31, 42, 53])"
      ]
     },
     "execution_count": 142,
     "metadata": {},
     "output_type": "execute_result"
    }
   ],
   "source": [
    "a + b # index 요소별로 연산"
   ]
  },
  {
   "cell_type": "code",
   "execution_count": 143,
   "metadata": {
    "ExecuteTime": {
     "end_time": "2021-03-07T13:47:33.499429Z",
     "start_time": "2021-03-07T13:47:33.481473Z"
    }
   },
   "outputs": [
    {
     "data": {
      "text/plain": [
       "array([20, 29, 38, 47])"
      ]
     },
     "execution_count": 143,
     "metadata": {},
     "output_type": "execute_result"
    }
   ],
   "source": [
    "a - b"
   ]
  },
  {
   "cell_type": "code",
   "execution_count": 144,
   "metadata": {
    "ExecuteTime": {
     "end_time": "2021-03-07T13:47:52.907441Z",
     "start_time": "2021-03-07T13:47:52.894476Z"
    }
   },
   "outputs": [
    {
     "data": {
      "text/plain": [
       "array([  0,  30,  80, 150])"
      ]
     },
     "execution_count": 144,
     "metadata": {},
     "output_type": "execute_result"
    }
   ],
   "source": [
    "a * b"
   ]
  },
  {
   "cell_type": "code",
   "execution_count": 145,
   "metadata": {
    "ExecuteTime": {
     "end_time": "2021-03-07T13:47:57.890640Z",
     "start_time": "2021-03-07T13:47:57.873656Z"
    }
   },
   "outputs": [
    {
     "data": {
      "text/plain": [
       "array([20, 30, 40, 50])"
      ]
     },
     "execution_count": 145,
     "metadata": {},
     "output_type": "execute_result"
    }
   ],
   "source": [
    "a"
   ]
  },
  {
   "cell_type": "code",
   "execution_count": 146,
   "metadata": {
    "ExecuteTime": {
     "end_time": "2021-03-07T13:48:05.134913Z",
     "start_time": "2021-03-07T13:48:05.112965Z"
    }
   },
   "outputs": [
    {
     "data": {
      "text/plain": [
       "array([ True,  True, False, False])"
      ]
     },
     "execution_count": 146,
     "metadata": {},
     "output_type": "execute_result"
    }
   ],
   "source": [
    "a < 35 # 요소별 연산"
   ]
  },
  {
   "cell_type": "code",
   "execution_count": 147,
   "metadata": {
    "ExecuteTime": {
     "end_time": "2021-03-07T13:48:10.724062Z",
     "start_time": "2021-03-07T13:48:10.716578Z"
    }
   },
   "outputs": [
    {
     "data": {
      "text/plain": [
       "array([20, 30])"
      ]
     },
     "execution_count": 147,
     "metadata": {},
     "output_type": "execute_result"
    }
   ],
   "source": [
    "a[a<35] # a배열에서 a<35 데이터만 추출"
   ]
  },
  {
   "cell_type": "markdown",
   "metadata": {},
   "source": [
    "<b>2)행렬의 곱(@ cf.*(요소별곱)"
   ]
  },
  {
   "cell_type": "code",
   "execution_count": 148,
   "metadata": {
    "ExecuteTime": {
     "end_time": "2021-03-07T13:53:43.667892Z",
     "start_time": "2021-03-07T13:53:43.653932Z"
    }
   },
   "outputs": [],
   "source": [
    "A = np.array([[1, 1],\n",
    "              [0, 1]])"
   ]
  },
  {
   "cell_type": "code",
   "execution_count": 149,
   "metadata": {
    "ExecuteTime": {
     "end_time": "2021-03-07T13:53:50.894834Z",
     "start_time": "2021-03-07T13:53:50.877845Z"
    }
   },
   "outputs": [],
   "source": [
    "B = np.array([[2,0],\n",
    "              [3,4]])"
   ]
  },
  {
   "cell_type": "code",
   "execution_count": 150,
   "metadata": {
    "ExecuteTime": {
     "end_time": "2021-03-07T13:54:05.181542Z",
     "start_time": "2021-03-07T13:54:05.164586Z"
    }
   },
   "outputs": [
    {
     "data": {
      "text/plain": [
       "(array([[1, 1],\n",
       "        [0, 1]]),\n",
       " array([[2, 0],\n",
       "        [3, 4]]))"
      ]
     },
     "execution_count": 150,
     "metadata": {},
     "output_type": "execute_result"
    }
   ],
   "source": [
    "A, B"
   ]
  },
  {
   "cell_type": "code",
   "execution_count": 151,
   "metadata": {
    "ExecuteTime": {
     "end_time": "2021-03-07T13:54:12.885354Z",
     "start_time": "2021-03-07T13:54:12.867371Z"
    }
   },
   "outputs": [
    {
     "name": "stdout",
     "output_type": "stream",
     "text": [
      "요소별 곱 A*B = \n",
      "[[2 0]\n",
      " [0 4]]\n",
      "행렬 곱 A@B = \n",
      "[[5 4]\n",
      " [3 4]]\n",
      "행렬곱 A.dot(B) = \n",
      "[[5 4]\n",
      " [3 4]]\n"
     ]
    }
   ],
   "source": [
    "print('요소별 곱 A*B = ', A*B, sep='\\n')\n",
    "print('행렬 곱 A@B = ', A@B, sep='\\n')\n",
    "print('행렬곱 A.dot(B) = ', A.dot(B), sep='\\n')"
   ]
  },
  {
   "cell_type": "markdown",
   "metadata": {},
   "source": [
    "<b>3) 복합대입 연산자 사용 (+=, -=, *=, ...)"
   ]
  },
  {
   "cell_type": "code",
   "execution_count": 152,
   "metadata": {
    "ExecuteTime": {
     "end_time": "2021-03-07T13:55:37.490534Z",
     "start_time": "2021-03-07T13:55:37.471555Z"
    }
   },
   "outputs": [
    {
     "data": {
      "text/plain": [
       "array([[1, 1, 1],\n",
       "       [1, 1, 1]])"
      ]
     },
     "execution_count": 152,
     "metadata": {},
     "output_type": "execute_result"
    }
   ],
   "source": [
    "a = np.ones((2,3), dtype=int) # 2차원 2행2열 배열 int32\n",
    "a"
   ]
  },
  {
   "cell_type": "code",
   "execution_count": 153,
   "metadata": {
    "ExecuteTime": {
     "end_time": "2021-03-07T13:55:48.436874Z",
     "start_time": "2021-03-07T13:55:48.424907Z"
    }
   },
   "outputs": [
    {
     "data": {
      "text/plain": [
       "array([[0.95593789, 0.79682568, 0.51030774],\n",
       "       [0.73252749, 0.13128404, 0.05170981]])"
      ]
     },
     "execution_count": 153,
     "metadata": {},
     "output_type": "execute_result"
    }
   ],
   "source": [
    "b = np.random.random( (2,3)) # 2차원 2행2열 배열 float64\n",
    "b"
   ]
  },
  {
   "cell_type": "code",
   "execution_count": 154,
   "metadata": {
    "ExecuteTime": {
     "end_time": "2021-03-07T13:55:57.561635Z",
     "start_time": "2021-03-07T13:55:57.540656Z"
    }
   },
   "outputs": [
    {
     "data": {
      "text/plain": [
       "array([[4, 4, 4],\n",
       "       [4, 4, 4]])"
      ]
     },
     "execution_count": 154,
     "metadata": {},
     "output_type": "execute_result"
    }
   ],
   "source": [
    "a += 3\n",
    "a"
   ]
  },
  {
   "cell_type": "code",
   "execution_count": 155,
   "metadata": {
    "ExecuteTime": {
     "end_time": "2021-03-07T13:56:04.141455Z",
     "start_time": "2021-03-07T13:56:04.131499Z"
    }
   },
   "outputs": [
    {
     "data": {
      "text/plain": [
       "array([[4.95593789, 4.79682568, 4.51030774],\n",
       "       [4.73252749, 4.13128404, 4.05170981]])"
      ]
     },
     "execution_count": 155,
     "metadata": {},
     "output_type": "execute_result"
    }
   ],
   "source": [
    "b += a\n",
    "b"
   ]
  },
  {
   "cell_type": "code",
   "execution_count": 156,
   "metadata": {
    "ExecuteTime": {
     "end_time": "2021-03-07T13:56:12.144366Z",
     "start_time": "2021-03-07T13:56:12.120432Z"
    }
   },
   "outputs": [
    {
     "ename": "UFuncTypeError",
     "evalue": "Cannot cast ufunc 'add' output from dtype('float64') to dtype('int32') with casting rule 'same_kind'",
     "output_type": "error",
     "traceback": [
      "\u001b[1;31m---------------------------------------------------------------------------\u001b[0m",
      "\u001b[1;31mUFuncTypeError\u001b[0m                            Traceback (most recent call last)",
      "\u001b[1;32m<ipython-input-156-95fa004c648f>\u001b[0m in \u001b[0;36m<module>\u001b[1;34m\u001b[0m\n\u001b[1;32m----> 1\u001b[1;33m \u001b[0ma\u001b[0m \u001b[1;33m+=\u001b[0m \u001b[0mb\u001b[0m   \u001b[1;31m# b가 float64기 때문에 a+b는 float64\u001b[0m\u001b[1;33m\u001b[0m\u001b[1;33m\u001b[0m\u001b[0m\n\u001b[0m",
      "\u001b[1;31mUFuncTypeError\u001b[0m: Cannot cast ufunc 'add' output from dtype('float64') to dtype('int32') with casting rule 'same_kind'"
     ]
    }
   ],
   "source": [
    "a += b   # b가 float64기 때문에 a+b는 float64"
   ]
  },
  {
   "cell_type": "code",
   "execution_count": 157,
   "metadata": {
    "ExecuteTime": {
     "end_time": "2021-03-07T13:58:49.474670Z",
     "start_time": "2021-03-07T13:58:49.459710Z"
    }
   },
   "outputs": [
    {
     "name": "stdout",
     "output_type": "stream",
     "text": [
      "[1 1 1]\n",
      "[0.         1.57079633 3.14159265]\n"
     ]
    }
   ],
   "source": [
    "a = np.ones(3, dtype=np.int16)\n",
    "b = np.linspace(0, np.pi, 3)\n",
    "print(a)\n",
    "print(b)"
   ]
  },
  {
   "cell_type": "code",
   "execution_count": 158,
   "metadata": {
    "ExecuteTime": {
     "end_time": "2021-03-07T13:59:02.980673Z",
     "start_time": "2021-03-07T13:59:02.972693Z"
    }
   },
   "outputs": [
    {
     "name": "stdout",
     "output_type": "stream",
     "text": [
      "[1.         2.57079633 4.14159265]\n",
      "float64\n"
     ]
    }
   ],
   "source": [
    "c = a + b\n",
    "print(c)\n",
    "print(c.dtype)"
   ]
  },
  {
   "cell_type": "code",
   "execution_count": 159,
   "metadata": {
    "ExecuteTime": {
     "end_time": "2021-03-07T13:59:34.634035Z",
     "start_time": "2021-03-07T13:59:34.606761Z"
    }
   },
   "outputs": [
    {
     "data": {
      "text/plain": [
       "array([1.+0.j        , 1.+1.57079633j, 1.+3.14159265j])"
      ]
     },
     "execution_count": 159,
     "metadata": {},
     "output_type": "execute_result"
    }
   ],
   "source": [
    "c = a + b*1j\n",
    "c"
   ]
  },
  {
   "cell_type": "code",
   "execution_count": 160,
   "metadata": {
    "ExecuteTime": {
     "end_time": "2021-03-07T13:59:40.285921Z",
     "start_time": "2021-03-07T13:59:40.281932Z"
    }
   },
   "outputs": [
    {
     "data": {
      "text/plain": [
       "dtype('complex128')"
      ]
     },
     "execution_count": 160,
     "metadata": {},
     "output_type": "execute_result"
    }
   ],
   "source": [
    "c.dtype"
   ]
  },
  {
   "cell_type": "markdown",
   "metadata": {},
   "source": [
    "<b>4) 배열 요소별 집계; 배열요소 전체의 sum, min, ..."
   ]
  },
  {
   "cell_type": "code",
   "execution_count": 162,
   "metadata": {
    "ExecuteTime": {
     "end_time": "2021-03-07T14:01:05.356966Z",
     "start_time": "2021-03-07T14:01:05.337020Z"
    }
   },
   "outputs": [
    {
     "data": {
      "text/plain": [
       "array([[2, 2, 2, 4],\n",
       "       [4, 3, 2, 1]])"
      ]
     },
     "execution_count": 162,
     "metadata": {},
     "output_type": "execute_result"
    }
   ],
   "source": [
    "a = np.array([[2,2,2,4],[4,3,2,1]])\n",
    "a"
   ]
  },
  {
   "cell_type": "code",
   "execution_count": 163,
   "metadata": {
    "ExecuteTime": {
     "end_time": "2021-03-07T14:01:16.330464Z",
     "start_time": "2021-03-07T14:01:16.312482Z"
    }
   },
   "outputs": [
    {
     "name": "stdout",
     "output_type": "stream",
     "text": [
      "a 배열 요소들 전체의 합 : 20\n",
      "a 배열 요소들 전체의 합 : 1\n",
      "a 배열 요소들 전체의 합 : 4\n"
     ]
    }
   ],
   "source": [
    "print('a 배열 요소들 전체의 합 :',a.sum())\n",
    "print('a 배열 요소들 전체의 합 :',a.min())\n",
    "print('a 배열 요소들 전체의 합 :',a.max())"
   ]
  },
  {
   "cell_type": "markdown",
   "metadata": {},
   "source": [
    "<b>5) 배열 축별 집계; 행별 sum, min ... 열별 sum, min"
   ]
  },
  {
   "cell_type": "code",
   "execution_count": 164,
   "metadata": {
    "ExecuteTime": {
     "end_time": "2021-03-07T14:02:13.335821Z",
     "start_time": "2021-03-07T14:02:13.322825Z"
    }
   },
   "outputs": [
    {
     "data": {
      "text/plain": [
       "array([[2, 2, 2, 4],\n",
       "       [4, 3, 2, 1]])"
      ]
     },
     "execution_count": 164,
     "metadata": {},
     "output_type": "execute_result"
    }
   ],
   "source": [
    "a = np.array([[2,2,2,4],\n",
    "              [4,3,2,1]])\n",
    "a"
   ]
  },
  {
   "cell_type": "code",
   "execution_count": 165,
   "metadata": {
    "ExecuteTime": {
     "end_time": "2021-03-07T14:02:19.237740Z",
     "start_time": "2021-03-07T14:02:19.222783Z"
    }
   },
   "outputs": [
    {
     "name": "stdout",
     "output_type": "stream",
     "text": [
      "a 배열의 행별 합(결과는 2열짜리 배열) : [10 10]\n"
     ]
    }
   ],
   "source": [
    "print('a 배열의 행별 합(결과는 2열짜리 배열) :', a.sum(axis=1))"
   ]
  },
  {
   "cell_type": "code",
   "execution_count": 166,
   "metadata": {
    "ExecuteTime": {
     "end_time": "2021-03-07T14:02:53.640748Z",
     "start_time": "2021-03-07T14:02:53.623841Z"
    }
   },
   "outputs": [
    {
     "name": "stdout",
     "output_type": "stream",
     "text": [
      "a 배열의 열별 합(결과는 4열짜리 배열) : [6 5 4 5]\n"
     ]
    }
   ],
   "source": [
    "print('a 배열의 열별 합(결과는 4열짜리 배열) :', a.sum(axis=0))"
   ]
  },
  {
   "cell_type": "code",
   "execution_count": 167,
   "metadata": {
    "ExecuteTime": {
     "end_time": "2021-03-07T14:03:01.186119Z",
     "start_time": "2021-03-07T14:03:01.171161Z"
    }
   },
   "outputs": [
    {
     "name": "stdout",
     "output_type": "stream",
     "text": [
      "a 배열의 행별 최소값 : [2 1]\n",
      "a 배열의 열별 최소값 : [2 2 2 1]\n"
     ]
    }
   ],
   "source": [
    "print('a 배열의 행별 최소값 :', a.min(axis=1))\n",
    "print('a 배열의 열별 최소값 :', a.min(axis=0))"
   ]
  },
  {
   "cell_type": "code",
   "execution_count": 168,
   "metadata": {
    "ExecuteTime": {
     "end_time": "2021-03-07T14:03:33.871455Z",
     "start_time": "2021-03-07T14:03:33.856471Z"
    }
   },
   "outputs": [
    {
     "name": "stdout",
     "output_type": "stream",
     "text": [
      "a 배열의 행별 최소값 : [4 4]\n",
      "a 배열의 열별 최소값 : [4 3 2 4]\n"
     ]
    }
   ],
   "source": [
    "print('a 배열의 행별 최소값 :', a.max(axis=1))\n",
    "print('a 배열의 열별 최소값 :', a.max(axis=0))"
   ]
  },
  {
   "cell_type": "code",
   "execution_count": 169,
   "metadata": {
    "ExecuteTime": {
     "end_time": "2021-03-07T14:03:54.675053Z",
     "start_time": "2021-03-07T14:03:54.657096Z"
    }
   },
   "outputs": [
    {
     "name": "stdout",
     "output_type": "stream",
     "text": [
      "[[2 2 2 4]\n",
      " [4 3 2 1]]\n",
      "[[ 2  4  6 10]\n",
      " [ 4  7  9 10]]\n"
     ]
    }
   ],
   "source": [
    "# 누적합\n",
    "print(a)\n",
    "print(a.cumsum(axis=1)) # 행별로 누적합"
   ]
  },
  {
   "cell_type": "code",
   "execution_count": 170,
   "metadata": {
    "ExecuteTime": {
     "end_time": "2021-03-07T14:04:07.086292Z",
     "start_time": "2021-03-07T14:04:07.067336Z"
    }
   },
   "outputs": [
    {
     "data": {
      "text/plain": [
       "array([[2, 2, 2, 4],\n",
       "       [6, 5, 4, 5]], dtype=int32)"
      ]
     },
     "execution_count": 170,
     "metadata": {},
     "output_type": "execute_result"
    }
   ],
   "source": [
    "a.cumsum(axis=0) # 열별 누적합"
   ]
  },
  {
   "cell_type": "code",
   "execution_count": 171,
   "metadata": {
    "ExecuteTime": {
     "end_time": "2021-03-07T14:04:36.675813Z",
     "start_time": "2021-03-07T14:04:36.668833Z"
    }
   },
   "outputs": [
    {
     "data": {
      "text/plain": [
       "array([[[ 0,  1,  2,  3],\n",
       "        [ 4,  5,  6,  7],\n",
       "        [ 8,  9, 10, 11]],\n",
       "\n",
       "       [[12, 13, 14, 15],\n",
       "        [16, 17, 18, 19],\n",
       "        [20, 21, 22, 23]]])"
      ]
     },
     "execution_count": 171,
     "metadata": {},
     "output_type": "execute_result"
    }
   ],
   "source": [
    "b = np.arange(24).reshape(2,3,4)\n",
    "b"
   ]
  },
  {
   "cell_type": "code",
   "execution_count": 172,
   "metadata": {
    "ExecuteTime": {
     "end_time": "2021-03-07T14:04:47.090711Z",
     "start_time": "2021-03-07T14:04:47.084727Z"
    }
   },
   "outputs": [
    {
     "data": {
      "text/plain": [
       "(276, 0, 23)"
      ]
     },
     "execution_count": 172,
     "metadata": {},
     "output_type": "execute_result"
    }
   ],
   "source": [
    "b.sum(), b.min(), b.max()"
   ]
  },
  {
   "cell_type": "code",
   "execution_count": 173,
   "metadata": {
    "ExecuteTime": {
     "end_time": "2021-03-07T14:05:17.704542Z",
     "start_time": "2021-03-07T14:05:17.698575Z"
    }
   },
   "outputs": [
    {
     "data": {
      "text/plain": [
       "array([[12, 14, 16, 18],\n",
       "       [20, 22, 24, 26],\n",
       "       [28, 30, 32, 34]])"
      ]
     },
     "execution_count": 173,
     "metadata": {},
     "output_type": "execute_result"
    }
   ],
   "source": [
    "b.sum(axis=0) # 면은 빼고, 같은 행과 열끼리 sum"
   ]
  },
  {
   "cell_type": "code",
   "execution_count": 174,
   "metadata": {
    "ExecuteTime": {
     "end_time": "2021-03-07T14:08:24.779827Z",
     "start_time": "2021-03-07T14:08:24.773847Z"
    }
   },
   "outputs": [
    {
     "data": {
      "text/plain": [
       "array([[[ 0,  1,  2,  3],\n",
       "        [ 4,  5,  6,  7],\n",
       "        [ 8,  9, 10, 11]],\n",
       "\n",
       "       [[12, 13, 14, 15],\n",
       "        [16, 17, 18, 19],\n",
       "        [20, 21, 22, 23]]])"
      ]
     },
     "execution_count": 174,
     "metadata": {},
     "output_type": "execute_result"
    }
   ],
   "source": [
    "b"
   ]
  },
  {
   "cell_type": "code",
   "execution_count": 175,
   "metadata": {
    "ExecuteTime": {
     "end_time": "2021-03-07T14:08:31.325427Z",
     "start_time": "2021-03-07T14:08:31.318473Z"
    }
   },
   "outputs": [
    {
     "data": {
      "text/plain": [
       "array([[12, 15, 18, 21],\n",
       "       [48, 51, 54, 57]])"
      ]
     },
     "execution_count": 175,
     "metadata": {},
     "output_type": "execute_result"
    }
   ],
   "source": [
    "b.sum(axis=1) # 행을 빼고 같은 면, 열끼리 sum"
   ]
  },
  {
   "cell_type": "code",
   "execution_count": 176,
   "metadata": {
    "ExecuteTime": {
     "end_time": "2021-03-07T14:09:10.054148Z",
     "start_time": "2021-03-07T14:09:10.034203Z"
    }
   },
   "outputs": [
    {
     "data": {
      "text/plain": [
       "array([[ 6, 22, 38],\n",
       "       [54, 70, 86]])"
      ]
     },
     "execution_count": 176,
     "metadata": {},
     "output_type": "execute_result"
    }
   ],
   "source": [
    "b.sum(axis=2) #열은 빼고 같은 면, 행끼리 sum"
   ]
  },
  {
   "cell_type": "code",
   "execution_count": 177,
   "metadata": {
    "ExecuteTime": {
     "end_time": "2021-03-07T14:09:22.479977Z",
     "start_time": "2021-03-07T14:09:22.462989Z"
    }
   },
   "outputs": [
    {
     "data": {
      "text/plain": [
       "276"
      ]
     },
     "execution_count": 177,
     "metadata": {},
     "output_type": "execute_result"
    }
   ],
   "source": [
    "np.sum(b) # 요소들 전체 합"
   ]
  },
  {
   "cell_type": "code",
   "execution_count": 178,
   "metadata": {
    "ExecuteTime": {
     "end_time": "2021-03-07T14:09:30.843822Z",
     "start_time": "2021-03-07T14:09:30.838325Z"
    }
   },
   "outputs": [
    {
     "data": {
      "text/plain": [
       "11.5"
      ]
     },
     "execution_count": 178,
     "metadata": {},
     "output_type": "execute_result"
    }
   ],
   "source": [
    "np.mean(b) #요소들의 전체 평균"
   ]
  },
  {
   "cell_type": "code",
   "execution_count": 179,
   "metadata": {
    "ExecuteTime": {
     "end_time": "2021-03-07T14:09:35.355387Z",
     "start_time": "2021-03-07T14:09:35.336449Z"
    }
   },
   "outputs": [
    {
     "data": {
      "text/plain": [
       "6.922186552431729"
      ]
     },
     "execution_count": 179,
     "metadata": {},
     "output_type": "execute_result"
    }
   ],
   "source": [
    "np.std(b) # 표준편차"
   ]
  },
  {
   "cell_type": "code",
   "execution_count": 180,
   "metadata": {
    "ExecuteTime": {
     "end_time": "2021-03-07T14:09:42.840034Z",
     "start_time": "2021-03-07T14:09:42.829065Z"
    }
   },
   "outputs": [
    {
     "data": {
      "text/plain": [
       "47.916666666666664"
      ]
     },
     "execution_count": 180,
     "metadata": {},
     "output_type": "execute_result"
    }
   ],
   "source": [
    "np.var(b) #분산"
   ]
  },
  {
   "cell_type": "code",
   "execution_count": 181,
   "metadata": {
    "ExecuteTime": {
     "end_time": "2021-03-07T14:09:49.205685Z",
     "start_time": "2021-03-07T14:09:49.187704Z"
    }
   },
   "outputs": [
    {
     "data": {
      "text/plain": [
       "47.916666666666664"
      ]
     },
     "execution_count": 181,
     "metadata": {},
     "output_type": "execute_result"
    }
   ],
   "source": [
    "np.std(b) * np.std(b)"
   ]
  },
  {
   "cell_type": "code",
   "execution_count": 182,
   "metadata": {
    "ExecuteTime": {
     "end_time": "2021-03-07T14:10:16.599413Z",
     "start_time": "2021-03-07T14:10:16.580465Z"
    }
   },
   "outputs": [
    {
     "data": {
      "text/plain": [
       "6.922186552431729"
      ]
     },
     "execution_count": 182,
     "metadata": {},
     "output_type": "execute_result"
    }
   ],
   "source": [
    "np.sqrt(np.var(b)) # np.sqrt()의 매개변수에는 스칼라변수, 배열변수 모두 가능"
   ]
  },
  {
   "cell_type": "code",
   "execution_count": 183,
   "metadata": {
    "ExecuteTime": {
     "end_time": "2021-03-07T14:10:22.928621Z",
     "start_time": "2021-03-07T14:10:22.914041Z"
    }
   },
   "outputs": [
    {
     "data": {
      "text/plain": [
       "6.922186552431729"
      ]
     },
     "execution_count": 183,
     "metadata": {},
     "output_type": "execute_result"
    }
   ],
   "source": [
    "import math\n",
    "math.sqrt(np.var(b)) # math.sqrt()의 매개변수는 스칼라변수"
   ]
  },
  {
   "cell_type": "markdown",
   "metadata": {},
   "source": [
    "## 2.7 그 외 변수들"
   ]
  },
  {
   "cell_type": "code",
   "execution_count": 184,
   "metadata": {
    "ExecuteTime": {
     "end_time": "2021-03-07T14:10:48.291801Z",
     "start_time": "2021-03-07T14:10:48.277563Z"
    }
   },
   "outputs": [
    {
     "data": {
      "text/plain": [
       "array([0.        , 1.        , 1.41421356])"
      ]
     },
     "execution_count": 184,
     "metadata": {},
     "output_type": "execute_result"
    }
   ],
   "source": [
    "a = np.arange(3)\n",
    "np.sqrt(a)"
   ]
  },
  {
   "cell_type": "code",
   "execution_count": 185,
   "metadata": {
    "ExecuteTime": {
     "end_time": "2021-03-07T14:10:59.249809Z",
     "start_time": "2021-03-07T14:10:59.240835Z"
    }
   },
   "outputs": [
    {
     "data": {
      "text/plain": [
       "array([1.        , 2.71828183, 7.3890561 ])"
      ]
     },
     "execution_count": 185,
     "metadata": {},
     "output_type": "execute_result"
    }
   ],
   "source": [
    "np.exp(a) # 지수 e의 0승,1승,2승"
   ]
  },
  {
   "cell_type": "code",
   "execution_count": 186,
   "metadata": {
    "ExecuteTime": {
     "end_time": "2021-03-07T14:11:07.368540Z",
     "start_time": "2021-03-07T14:11:07.352583Z"
    }
   },
   "outputs": [
    {
     "data": {
      "text/plain": [
       "array([0, 1, 2])"
      ]
     },
     "execution_count": 186,
     "metadata": {},
     "output_type": "execute_result"
    }
   ],
   "source": [
    "a"
   ]
  },
  {
   "cell_type": "code",
   "execution_count": 187,
   "metadata": {
    "ExecuteTime": {
     "end_time": "2021-03-07T14:11:13.419942Z",
     "start_time": "2021-03-07T14:11:13.413959Z"
    }
   },
   "outputs": [
    {
     "data": {
      "text/plain": [
       "array([10, 12, 14])"
      ]
     },
     "execution_count": 187,
     "metadata": {},
     "output_type": "execute_result"
    }
   ],
   "source": [
    "b = np.array([10,11,12])\n",
    "np.add(a,b)"
   ]
  },
  {
   "cell_type": "code",
   "execution_count": 189,
   "metadata": {
    "ExecuteTime": {
     "end_time": "2021-03-07T14:15:23.273261Z",
     "start_time": "2021-03-07T14:15:12.975866Z"
    }
   },
   "outputs": [],
   "source": [
    "# 메모리 사용량 측정(메모리 프로파일러)를 로드하고 임의의 데이터 생성후 np.add\n",
    "# 아나콘다 프롬프트에서 (! pip install memory_profiler)\n",
    "%load_ext memory_profiler\n",
    "A = np.random.randn(100000000)\n",
    "B = np.random.randn(100000000)\n",
    "C = np.random.randn(100000000)"
   ]
  },
  {
   "cell_type": "code",
   "execution_count": 190,
   "metadata": {
    "ExecuteTime": {
     "end_time": "2021-03-07T14:15:25.256955Z",
     "start_time": "2021-03-07T14:15:25.246981Z"
    }
   },
   "outputs": [],
   "source": [
    "# %%time : 셀을 실행할 때 소요 시간 출력\n",
    "# %memit : 메모리 사용량 출력"
   ]
  },
  {
   "cell_type": "code",
   "execution_count": 191,
   "metadata": {
    "ExecuteTime": {
     "end_time": "2021-03-07T14:15:46.264124Z",
     "start_time": "2021-03-07T14:15:31.027220Z"
    }
   },
   "outputs": [
    {
     "name": "stdout",
     "output_type": "stream",
     "text": [
      "peak memory: 2069.86 MiB, increment: 470.54 MiB\n",
      "[ 0.38004905  0.31320506 -0.55682368 ...  2.72327892 -3.22653515\n",
      " -4.71910286]\n",
      "Wall time: 15.2 s\n"
     ]
    }
   ],
   "source": [
    "%%time\n",
    "%memit G = A * B +C\n",
    "print(G)"
   ]
  },
  {
   "cell_type": "code",
   "execution_count": 192,
   "metadata": {
    "ExecuteTime": {
     "end_time": "2021-03-07T14:17:16.693761Z",
     "start_time": "2021-03-07T14:16:58.813072Z"
    }
   },
   "outputs": [
    {
     "name": "stdout",
     "output_type": "stream",
     "text": [
      "peak memory: 2763.41 MiB, increment: 1853.95 MiB\n",
      "[ 0.38004905  0.31320506 -0.55682368 ...  2.72327892 -3.22653515\n",
      " -4.71910286]\n",
      "Wall time: 17.8 s\n"
     ]
    }
   ],
   "source": [
    "%%time\n",
    "%memit T=A*B; G=T+C; del T\n",
    "print(G)"
   ]
  },
  {
   "cell_type": "code",
   "execution_count": 193,
   "metadata": {
    "ExecuteTime": {
     "end_time": "2021-03-07T14:18:08.106645Z",
     "start_time": "2021-03-07T14:17:57.525551Z"
    }
   },
   "outputs": [
    {
     "name": "stdout",
     "output_type": "stream",
     "text": [
      "peak memory: 3558.24 MiB, increment: 2527.70 MiB\n",
      "[ 0.38004905  0.31320506 -0.55682368 ...  2.72327892 -3.22653515\n",
      " -4.71910286]\n",
      "Wall time: 10.6 s\n"
     ]
    }
   ],
   "source": [
    "%%time\n",
    "%memit T=A*B; T+=C\n",
    "print(T)"
   ]
  },
  {
   "cell_type": "code",
   "execution_count": null,
   "metadata": {},
   "outputs": [],
   "source": [
    "# np.add()경우 배열별 연산을 할 경우 메모리 절약"
   ]
  },
  {
   "cell_type": "code",
   "execution_count": 194,
   "metadata": {
    "ExecuteTime": {
     "end_time": "2021-03-07T14:18:18.415271Z",
     "start_time": "2021-03-07T14:18:14.103545Z"
    }
   },
   "outputs": [
    {
     "name": "stdout",
     "output_type": "stream",
     "text": [
      "peak memory: 4055.96 MiB, increment: 743.43 MiB\n",
      "[ 0.38004905  0.31320506 -0.55682368 ...  2.72327892 -3.22653515\n",
      " -4.71910286]\n",
      "Wall time: 4.31 s\n"
     ]
    }
   ],
   "source": [
    "%%time\n",
    "%memit T=A*B; np.add(T, C, T)\n",
    "print(T)"
   ]
  },
  {
   "cell_type": "markdown",
   "metadata": {},
   "source": [
    "## 2.8 브로드캐스팅"
   ]
  },
  {
   "cell_type": "code",
   "execution_count": 195,
   "metadata": {
    "ExecuteTime": {
     "end_time": "2021-03-07T14:18:45.137764Z",
     "start_time": "2021-03-07T14:18:45.112240Z"
    }
   },
   "outputs": [
    {
     "data": {
      "text/plain": [
       "array([11, 12, 13])"
      ]
     },
     "execution_count": 195,
     "metadata": {},
     "output_type": "execute_result"
    }
   ],
   "source": [
    "# 1차원 배열의 경우\n",
    "from numpy import array\n",
    "a = array([1,2,3])\n",
    "np.add(a, 10)"
   ]
  },
  {
   "cell_type": "code",
   "execution_count": 196,
   "metadata": {
    "ExecuteTime": {
     "end_time": "2021-03-07T14:18:54.765545Z",
     "start_time": "2021-03-07T14:18:54.754576Z"
    }
   },
   "outputs": [
    {
     "data": {
      "text/plain": [
       "array([[ 5.,  5.,  5.],\n",
       "       [15., 15., 15.],\n",
       "       [25., 25., 25.],\n",
       "       [35., 35., 35.]])"
      ]
     },
     "execution_count": 196,
     "metadata": {},
     "output_type": "execute_result"
    }
   ],
   "source": [
    "# 2차원 배열의 경우 두배열의 후미 축(열)의 크기가 동일\n",
    "a = array([[0., 0, 0,],\n",
    "           [10.,10.,10.],\n",
    "           [20,20,20],\n",
    "           [30,30,30,]])\n",
    "b = array([5,5,5])\n",
    "np.add(a,b)"
   ]
  },
  {
   "cell_type": "code",
   "execution_count": 197,
   "metadata": {
    "ExecuteTime": {
     "end_time": "2021-03-07T14:19:01.895182Z",
     "start_time": "2021-03-07T14:19:01.874240Z"
    }
   },
   "outputs": [
    {
     "data": {
      "text/plain": [
       "array([[  0.,   0.,   0.],\n",
       "       [ 50.,  50.,  50.],\n",
       "       [100., 100., 100.],\n",
       "       [150., 150., 150.]])"
      ]
     },
     "execution_count": 197,
     "metadata": {},
     "output_type": "execute_result"
    }
   ],
   "source": [
    "np.multiply(a, b)"
   ]
  },
  {
   "cell_type": "code",
   "execution_count": 198,
   "metadata": {
    "ExecuteTime": {
     "end_time": "2021-03-07T14:19:37.883879Z",
     "start_time": "2021-03-07T14:19:37.863933Z"
    }
   },
   "outputs": [],
   "source": [
    "from numpy import array, newaxis\n",
    "a = array([0,10,20,30])\n",
    "b = array([1,2,3])"
   ]
  },
  {
   "cell_type": "code",
   "execution_count": 199,
   "metadata": {
    "ExecuteTime": {
     "end_time": "2021-03-07T14:19:44.358808Z",
     "start_time": "2021-03-07T14:19:44.345875Z"
    }
   },
   "outputs": [
    {
     "data": {
      "text/plain": [
       "array([[ 0],\n",
       "       [10],\n",
       "       [20],\n",
       "       [30]])"
      ]
     },
     "execution_count": 199,
     "metadata": {},
     "output_type": "execute_result"
    }
   ],
   "source": [
    "a[:,newaxis] # newaxis 연산자는 배열에 새로운 축을 추가 2차원인 4x1 배열"
   ]
  },
  {
   "cell_type": "code",
   "execution_count": 200,
   "metadata": {
    "ExecuteTime": {
     "end_time": "2021-03-07T14:19:50.775321Z",
     "start_time": "2021-03-07T14:19:50.766345Z"
    }
   },
   "outputs": [
    {
     "data": {
      "text/plain": [
       "array([[ 1,  2,  3],\n",
       "       [11, 12, 13],\n",
       "       [21, 22, 23],\n",
       "       [31, 32, 33]])"
      ]
     },
     "execution_count": 200,
     "metadata": {},
     "output_type": "execute_result"
    }
   ],
   "source": [
    "# 4x1 배열 + 1x3 배열\n",
    "x = np.add(a[:, newaxis],b)\n",
    "x"
   ]
  },
  {
   "cell_type": "code",
   "execution_count": 201,
   "metadata": {
    "ExecuteTime": {
     "end_time": "2021-03-07T14:19:57.212218Z",
     "start_time": "2021-03-07T14:19:57.201250Z"
    }
   },
   "outputs": [
    {
     "data": {
      "text/plain": [
       "True"
      ]
     },
     "execution_count": 201,
     "metadata": {},
     "output_type": "execute_result"
    }
   ],
   "source": [
    "a[0]+b[1] == x[0,1]\n",
    "a[1]+b[2] == x[1,2]"
   ]
  },
  {
   "cell_type": "markdown",
   "metadata": {},
   "source": [
    "# 3절. 배열합치기/분할하기"
   ]
  },
  {
   "cell_type": "code",
   "execution_count": 202,
   "metadata": {
    "ExecuteTime": {
     "end_time": "2021-03-07T14:21:24.899073Z",
     "start_time": "2021-03-07T14:21:24.885081Z"
    }
   },
   "outputs": [
    {
     "data": {
      "text/plain": [
       "array([ 0,  3,  6,  9, 12, 15, 18, 21, 24, 27])"
      ]
     },
     "execution_count": 202,
     "metadata": {},
     "output_type": "execute_result"
    }
   ],
   "source": [
    "a = np.arange(10) * 3\n",
    "a"
   ]
  },
  {
   "cell_type": "markdown",
   "metadata": {},
   "source": [
    "## 3.1 인덱싱과 슬라이싱"
   ]
  },
  {
   "cell_type": "code",
   "execution_count": 204,
   "metadata": {
    "ExecuteTime": {
     "end_time": "2021-03-07T14:21:51.673958Z",
     "start_time": "2021-03-07T14:21:51.666977Z"
    }
   },
   "outputs": [
    {
     "data": {
      "text/plain": [
       "6"
      ]
     },
     "execution_count": 204,
     "metadata": {},
     "output_type": "execute_result"
    }
   ],
   "source": [
    "# 1) 인덱싱\n",
    "a[2]"
   ]
  },
  {
   "cell_type": "code",
   "execution_count": 205,
   "metadata": {
    "ExecuteTime": {
     "end_time": "2021-03-07T14:21:56.807296Z",
     "start_time": "2021-03-07T14:21:56.790363Z"
    }
   },
   "outputs": [
    {
     "data": {
      "text/plain": [
       "27"
      ]
     },
     "execution_count": 205,
     "metadata": {},
     "output_type": "execute_result"
    }
   ],
   "source": [
    "a[-1]"
   ]
  },
  {
   "cell_type": "code",
   "execution_count": 206,
   "metadata": {
    "ExecuteTime": {
     "end_time": "2021-03-07T14:22:03.845906Z",
     "start_time": "2021-03-07T14:22:03.828955Z"
    }
   },
   "outputs": [
    {
     "ename": "IndexError",
     "evalue": "index 10 is out of bounds for axis 0 with size 10",
     "output_type": "error",
     "traceback": [
      "\u001b[1;31m---------------------------------------------------------------------------\u001b[0m",
      "\u001b[1;31mIndexError\u001b[0m                                Traceback (most recent call last)",
      "\u001b[1;32m<ipython-input-206-7c7cb9812849>\u001b[0m in \u001b[0;36m<module>\u001b[1;34m\u001b[0m\n\u001b[1;32m----> 1\u001b[1;33m \u001b[0ma\u001b[0m\u001b[1;33m[\u001b[0m\u001b[1;36m10\u001b[0m\u001b[1;33m]\u001b[0m\u001b[1;33m\u001b[0m\u001b[1;33m\u001b[0m\u001b[0m\n\u001b[0m",
      "\u001b[1;31mIndexError\u001b[0m: index 10 is out of bounds for axis 0 with size 10"
     ]
    }
   ],
   "source": [
    "a[10]"
   ]
  },
  {
   "cell_type": "code",
   "execution_count": 207,
   "metadata": {
    "ExecuteTime": {
     "end_time": "2021-03-07T14:22:11.010184Z",
     "start_time": "2021-03-07T14:22:10.991420Z"
    }
   },
   "outputs": [
    {
     "data": {
      "text/plain": [
       "array([ 6,  9, 12])"
      ]
     },
     "execution_count": 207,
     "metadata": {},
     "output_type": "execute_result"
    }
   ],
   "source": [
    "# 2) 슬라이싱\n",
    "a[2:5] #2번째 5앞까지"
   ]
  },
  {
   "cell_type": "code",
   "execution_count": 208,
   "metadata": {
    "ExecuteTime": {
     "end_time": "2021-03-07T14:22:16.345889Z",
     "start_time": "2021-03-07T14:22:16.336914Z"
    }
   },
   "outputs": [
    {
     "data": {
      "text/plain": [
       "array([ 0,  6, 12, 18, 24])"
      ]
     },
     "execution_count": 208,
     "metadata": {},
     "output_type": "execute_result"
    }
   ],
   "source": [
    "a[0:11:2] #슬라이싱은 벗어난 인덱스 값도 가능"
   ]
  },
  {
   "cell_type": "code",
   "execution_count": 209,
   "metadata": {
    "ExecuteTime": {
     "end_time": "2021-03-07T14:22:21.895973Z",
     "start_time": "2021-03-07T14:22:21.884816Z"
    }
   },
   "outputs": [
    {
     "data": {
      "text/plain": [
       "array([27, 24, 21, 18, 15, 12,  9,  6,  3,  0])"
      ]
     },
     "execution_count": 209,
     "metadata": {},
     "output_type": "execute_result"
    }
   ],
   "source": [
    "a[::-1] # a배열을 꺼꾸로 출력"
   ]
  },
  {
   "cell_type": "code",
   "execution_count": 210,
   "metadata": {
    "ExecuteTime": {
     "end_time": "2021-03-07T14:22:28.465150Z",
     "start_time": "2021-03-07T14:22:28.458169Z"
    }
   },
   "outputs": [],
   "source": [
    "a[:6:2] = -99"
   ]
  },
  {
   "cell_type": "code",
   "execution_count": 211,
   "metadata": {
    "ExecuteTime": {
     "end_time": "2021-03-07T14:22:37.153707Z",
     "start_time": "2021-03-07T14:22:37.143709Z"
    }
   },
   "outputs": [
    {
     "data": {
      "text/plain": [
       "array([-99,   3, -99,   9, -99,  15,  18,  21,  24,  27])"
      ]
     },
     "execution_count": 211,
     "metadata": {},
     "output_type": "execute_result"
    }
   ],
   "source": [
    "a"
   ]
  },
  {
   "cell_type": "markdown",
   "metadata": {},
   "source": [
    "도움말 문서들\n",
    "\n",
    "- 인덱싱 : https://docs.scipy.org/doc/numpy/user/basics.indexing.html\n",
    "- 배열 인덱싱 : https://docs.scipy.org/doc/numpy/reference/arrays.indexing.html\n",
    "- newaxis : https://docs.scipy.org/doc/numpy/reference/constants.html#numpy.newaxis\n"
   ]
  },
  {
   "cell_type": "code",
   "execution_count": 49,
   "metadata": {
    "ExecuteTime": {
     "end_time": "2021-03-07T13:05:10.952174Z",
     "start_time": "2021-03-07T13:05:10.941216Z"
    }
   },
   "outputs": [],
   "source": [
    "# 3) 다차원인덱싱 & 슬라이싱"
   ]
  },
  {
   "cell_type": "code",
   "execution_count": 50,
   "metadata": {
    "ExecuteTime": {
     "end_time": "2021-03-07T13:05:20.673709Z",
     "start_time": "2021-03-07T13:05:20.659711Z"
    }
   },
   "outputs": [],
   "source": [
    "def f(x, y):\n",
    "    return 10*x+y"
   ]
  },
  {
   "cell_type": "code",
   "execution_count": 51,
   "metadata": {
    "ExecuteTime": {
     "end_time": "2021-03-07T13:05:25.159868Z",
     "start_time": "2021-03-07T13:05:25.147125Z"
    }
   },
   "outputs": [
    {
     "data": {
      "text/plain": [
       "23"
      ]
     },
     "execution_count": 51,
     "metadata": {},
     "output_type": "execute_result"
    }
   ],
   "source": [
    "f(2,3)"
   ]
  },
  {
   "cell_type": "code",
   "execution_count": 53,
   "metadata": {
    "ExecuteTime": {
     "end_time": "2021-03-07T13:05:34.020944Z",
     "start_time": "2021-03-07T13:05:33.999968Z"
    }
   },
   "outputs": [
    {
     "data": {
      "text/plain": [
       "array([[ 0,  1,  2,  3],\n",
       "       [10, 11, 12, 13],\n",
       "       [20, 21, 22, 23],\n",
       "       [30, 31, 32, 33],\n",
       "       [40, 41, 42, 43]], dtype=int16)"
      ]
     },
     "execution_count": 53,
     "metadata": {},
     "output_type": "execute_result"
    }
   ],
   "source": [
    "import numpy as np\n",
    "# 5행4열짜리 2차원 넘파이배열 int16dtype으로 만듦(그 안의 데이터는 f함수에 의해 )\n",
    "a = np.fromfunction(f, (5,4), dtype=np.int16) \n",
    "a"
   ]
  },
  {
   "cell_type": "code",
   "execution_count": 55,
   "metadata": {
    "ExecuteTime": {
     "end_time": "2021-03-07T13:06:00.430300Z",
     "start_time": "2021-03-07T13:06:00.413835Z"
    }
   },
   "outputs": [
    {
     "data": {
      "text/plain": [
       "array([[ 0,  1,  2,  3],\n",
       "       [10, 11, 12, 13],\n",
       "       [20, 21, 22, 23],\n",
       "       [30, 31, 32, 33],\n",
       "       [40, 41, 42, 43]])"
      ]
     },
     "execution_count": 55,
     "metadata": {},
     "output_type": "execute_result"
    }
   ],
   "source": [
    "a = np.fromfunction(lambda x, y : 10*x+y, (5,4), dtype=int)\n",
    "a"
   ]
  },
  {
   "cell_type": "code",
   "execution_count": 56,
   "metadata": {
    "ExecuteTime": {
     "end_time": "2021-03-07T13:06:23.401001Z",
     "start_time": "2021-03-07T13:06:23.382051Z"
    }
   },
   "outputs": [
    {
     "data": {
      "text/plain": [
       "23"
      ]
     },
     "execution_count": 56,
     "metadata": {},
     "output_type": "execute_result"
    }
   ],
   "source": [
    "a[2,3]"
   ]
  },
  {
   "cell_type": "code",
   "execution_count": 57,
   "metadata": {
    "ExecuteTime": {
     "end_time": "2021-03-07T13:06:30.053780Z",
     "start_time": "2021-03-07T13:06:30.037834Z"
    }
   },
   "outputs": [
    {
     "data": {
      "text/plain": [
       "33"
      ]
     },
     "execution_count": 57,
     "metadata": {},
     "output_type": "execute_result"
    }
   ],
   "source": [
    "a[-2,-1] # 인덱스는 음수 가능. 음수 인덱스는 마지막부터 n번째"
   ]
  },
  {
   "cell_type": "code",
   "execution_count": 58,
   "metadata": {
    "ExecuteTime": {
     "end_time": "2021-03-07T13:07:08.377363Z",
     "start_time": "2021-03-07T13:07:08.102964Z"
    }
   },
   "outputs": [
    {
     "ename": "IndexError",
     "evalue": "index 5 is out of bounds for axis 0 with size 5",
     "output_type": "error",
     "traceback": [
      "\u001b[1;31m---------------------------------------------------------------------------\u001b[0m",
      "\u001b[1;31mIndexError\u001b[0m                                Traceback (most recent call last)",
      "\u001b[1;32m<ipython-input-58-1490f42caff6>\u001b[0m in \u001b[0;36m<module>\u001b[1;34m\u001b[0m\n\u001b[1;32m----> 1\u001b[1;33m \u001b[0ma\u001b[0m\u001b[1;33m[\u001b[0m\u001b[1;36m5\u001b[0m\u001b[1;33m,\u001b[0m\u001b[1;36m0\u001b[0m\u001b[1;33m]\u001b[0m \u001b[1;31m# 벗어난 인덱스를 인덱싱하면 에러\u001b[0m\u001b[1;33m\u001b[0m\u001b[1;33m\u001b[0m\u001b[0m\n\u001b[0m",
      "\u001b[1;31mIndexError\u001b[0m: index 5 is out of bounds for axis 0 with size 5"
     ]
    }
   ],
   "source": [
    "a[5,0] # 벗어난 인덱스를 인덱싱하면 에러"
   ]
  },
  {
   "cell_type": "code",
   "execution_count": 59,
   "metadata": {
    "ExecuteTime": {
     "end_time": "2021-03-07T13:08:41.922892Z",
     "start_time": "2021-03-07T13:08:41.916909Z"
    }
   },
   "outputs": [
    {
     "data": {
      "text/plain": [
       "array([ 3, 13, 23, 33, 43])"
      ]
     },
     "execution_count": 59,
     "metadata": {},
     "output_type": "execute_result"
    }
   ],
   "source": [
    "a[0:10, -1] # 마지막 열들만 출력(0행부터 9행까지)"
   ]
  },
  {
   "cell_type": "code",
   "execution_count": 60,
   "metadata": {
    "ExecuteTime": {
     "end_time": "2021-03-07T13:09:38.021211Z",
     "start_time": "2021-03-07T13:09:38.008734Z"
    }
   },
   "outputs": [
    {
     "data": {
      "text/plain": [
       "array([[ 0,  1,  2,  3],\n",
       "       [10, 11, 12, 13],\n",
       "       [20, 21, 22, 23],\n",
       "       [30, 31, 32, 33],\n",
       "       [40, 41, 42, 43]])"
      ]
     },
     "execution_count": 60,
     "metadata": {},
     "output_type": "execute_result"
    }
   ],
   "source": [
    "a"
   ]
  },
  {
   "cell_type": "code",
   "execution_count": 61,
   "metadata": {
    "ExecuteTime": {
     "end_time": "2021-03-07T13:09:44.525021Z",
     "start_time": "2021-03-07T13:09:44.517044Z"
    }
   },
   "outputs": [
    {
     "data": {
      "text/plain": [
       "array([[10, 11],\n",
       "       [20, 21],\n",
       "       [30, 31]])"
      ]
     },
     "execution_count": 61,
     "metadata": {},
     "output_type": "execute_result"
    }
   ],
   "source": [
    "a[1:4, 0:2] # 1~3행, 0~1열"
   ]
  },
  {
   "cell_type": "code",
   "execution_count": 62,
   "metadata": {
    "ExecuteTime": {
     "end_time": "2021-03-07T13:09:52.628550Z",
     "start_time": "2021-03-07T13:09:52.608574Z"
    }
   },
   "outputs": [
    {
     "data": {
      "text/plain": [
       "array([[10, 11, 12, 13],\n",
       "       [20, 21, 22, 23],\n",
       "       [30, 31, 32, 33]])"
      ]
     },
     "execution_count": 62,
     "metadata": {},
     "output_type": "execute_result"
    }
   ],
   "source": [
    "a[1:4, :] # 1~3행 모든 열"
   ]
  },
  {
   "cell_type": "code",
   "execution_count": 63,
   "metadata": {
    "ExecuteTime": {
     "end_time": "2021-03-07T13:09:57.370395Z",
     "start_time": "2021-03-07T13:09:57.363417Z"
    }
   },
   "outputs": [
    {
     "data": {
      "text/plain": [
       "array([[10, 11, 12, 13],\n",
       "       [20, 21, 22, 23],\n",
       "       [30, 31, 32, 33]])"
      ]
     },
     "execution_count": 63,
     "metadata": {},
     "output_type": "execute_result"
    }
   ],
   "source": [
    "a[1:4,] # 1~3행 모든열"
   ]
  },
  {
   "cell_type": "code",
   "execution_count": 64,
   "metadata": {
    "ExecuteTime": {
     "end_time": "2021-03-07T13:10:02.843886Z",
     "start_time": "2021-03-07T13:10:02.833913Z"
    }
   },
   "outputs": [
    {
     "data": {
      "text/plain": [
       "array([[10, 11, 12, 13],\n",
       "       [20, 21, 22, 23],\n",
       "       [30, 31, 32, 33]])"
      ]
     },
     "execution_count": 64,
     "metadata": {},
     "output_type": "execute_result"
    }
   ],
   "source": [
    "a[1:4,...] # ... : 누락된 인덱스의 전체를 의미"
   ]
  },
  {
   "cell_type": "code",
   "execution_count": 65,
   "metadata": {
    "ExecuteTime": {
     "end_time": "2021-03-07T13:10:08.696919Z",
     "start_time": "2021-03-07T13:10:08.690936Z"
    }
   },
   "outputs": [
    {
     "data": {
      "text/plain": [
       "array([[10, 11, 12, 13],\n",
       "       [20, 21, 22, 23],\n",
       "       [30, 31, 32, 33]])"
      ]
     },
     "execution_count": 65,
     "metadata": {},
     "output_type": "execute_result"
    }
   ],
   "source": [
    "a[1:4] # 1~3행 모든열 (마지막 축(열) 인덱스 생략 가능)"
   ]
  },
  {
   "cell_type": "code",
   "execution_count": 66,
   "metadata": {
    "ExecuteTime": {
     "end_time": "2021-03-07T13:10:14.887184Z",
     "start_time": "2021-03-07T13:10:14.871234Z"
    }
   },
   "outputs": [
    {
     "data": {
      "text/plain": [
       "array([[ 3,  2],\n",
       "       [13, 12],\n",
       "       [23, 22],\n",
       "       [33, 32],\n",
       "       [43, 42]])"
      ]
     },
     "execution_count": 66,
     "metadata": {},
     "output_type": "execute_result"
    }
   ],
   "source": [
    "a[:, -1:-3:-1] # 모든 행에 마지막 열, 마지막 전열"
   ]
  },
  {
   "cell_type": "code",
   "execution_count": 67,
   "metadata": {
    "ExecuteTime": {
     "end_time": "2021-03-07T13:10:45.442459Z",
     "start_time": "2021-03-07T13:10:45.423509Z"
    }
   },
   "outputs": [
    {
     "data": {
      "text/plain": [
       "array([[ 3,  2],\n",
       "       [13, 12],\n",
       "       [23, 22],\n",
       "       [33, 32],\n",
       "       [43, 42]])"
      ]
     },
     "execution_count": 67,
     "metadata": {},
     "output_type": "execute_result"
    }
   ],
   "source": [
    "a[..., -1:-3:-1] # 모든 행에 마지막 열, 마지막 전열"
   ]
  },
  {
   "cell_type": "code",
   "execution_count": 68,
   "metadata": {
    "ExecuteTime": {
     "end_time": "2021-03-07T13:10:55.911642Z",
     "start_time": "2021-03-07T13:10:55.896173Z"
    }
   },
   "outputs": [
    {
     "data": {
      "text/plain": [
       "array([[[ 0,  1,  2,  3],\n",
       "        [ 4,  5,  6,  7],\n",
       "        [ 8,  9, 10, 11]],\n",
       "\n",
       "       [[12, 13, 14, 15],\n",
       "        [16, 17, 18, 19],\n",
       "        [20, 21, 22, 23]]])"
      ]
     },
     "execution_count": 68,
     "metadata": {},
     "output_type": "execute_result"
    }
   ],
   "source": [
    "b = np.arange(24).reshape(2,3,4)\n",
    "b"
   ]
  },
  {
   "cell_type": "code",
   "execution_count": 69,
   "metadata": {
    "ExecuteTime": {
     "end_time": "2021-03-07T13:11:01.539342Z",
     "start_time": "2021-03-07T13:11:01.523386Z"
    }
   },
   "outputs": [
    {
     "data": {
      "text/plain": [
       "12"
      ]
     },
     "execution_count": 69,
     "metadata": {},
     "output_type": "execute_result"
    }
   ],
   "source": [
    "b[1, 0, 0]"
   ]
  },
  {
   "cell_type": "code",
   "execution_count": 70,
   "metadata": {
    "ExecuteTime": {
     "end_time": "2021-03-07T13:11:07.687012Z",
     "start_time": "2021-03-07T13:11:07.679038Z"
    }
   },
   "outputs": [],
   "source": [
    "# 1면 데이터 모두 출력"
   ]
  },
  {
   "cell_type": "code",
   "execution_count": 72,
   "metadata": {
    "ExecuteTime": {
     "end_time": "2021-03-07T13:11:23.646262Z",
     "start_time": "2021-03-07T13:11:23.633300Z"
    }
   },
   "outputs": [
    {
     "data": {
      "text/plain": [
       "array([[12, 13, 14, 15],\n",
       "       [16, 17, 18, 19],\n",
       "       [20, 21, 22, 23]])"
      ]
     },
     "execution_count": 72,
     "metadata": {},
     "output_type": "execute_result"
    }
   ],
   "source": [
    "b[1,:,:]"
   ]
  },
  {
   "cell_type": "code",
   "execution_count": 73,
   "metadata": {
    "ExecuteTime": {
     "end_time": "2021-03-07T13:11:30.349608Z",
     "start_time": "2021-03-07T13:11:30.337128Z"
    }
   },
   "outputs": [
    {
     "data": {
      "text/plain": [
       "array([[12, 13, 14, 15],\n",
       "       [16, 17, 18, 19],\n",
       "       [20, 21, 22, 23]])"
      ]
     },
     "execution_count": 73,
     "metadata": {},
     "output_type": "execute_result"
    }
   ],
   "source": [
    "b[1] # 첫번째 축만 쓸 경우"
   ]
  },
  {
   "cell_type": "code",
   "execution_count": 74,
   "metadata": {
    "ExecuteTime": {
     "end_time": "2021-03-07T13:11:37.139962Z",
     "start_time": "2021-03-07T13:11:37.134975Z"
    }
   },
   "outputs": [],
   "source": [
    "# 1행들 모두 출력"
   ]
  },
  {
   "cell_type": "code",
   "execution_count": 75,
   "metadata": {
    "ExecuteTime": {
     "end_time": "2021-03-07T13:11:46.015907Z",
     "start_time": "2021-03-07T13:11:46.007965Z"
    }
   },
   "outputs": [
    {
     "data": {
      "text/plain": [
       "array([[ 4,  5,  6,  7],\n",
       "       [16, 17, 18, 19]])"
      ]
     },
     "execution_count": 75,
     "metadata": {},
     "output_type": "execute_result"
    }
   ],
   "source": [
    "b[:, 1, :]"
   ]
  },
  {
   "cell_type": "code",
   "execution_count": 76,
   "metadata": {
    "ExecuteTime": {
     "end_time": "2021-03-07T13:11:58.329457Z",
     "start_time": "2021-03-07T13:11:58.312398Z"
    }
   },
   "outputs": [
    {
     "data": {
      "text/plain": [
       "array([[ 4,  5,  6,  7],\n",
       "       [16, 17, 18, 19]])"
      ]
     },
     "execution_count": 76,
     "metadata": {},
     "output_type": "execute_result"
    }
   ],
   "source": [
    "b[:,1,...]"
   ]
  },
  {
   "cell_type": "code",
   "execution_count": 77,
   "metadata": {
    "ExecuteTime": {
     "end_time": "2021-03-07T13:12:02.733556Z",
     "start_time": "2021-03-07T13:12:02.722596Z"
    }
   },
   "outputs": [
    {
     "data": {
      "text/plain": [
       "array([[ 4,  5,  6,  7],\n",
       "       [16, 17, 18, 19]])"
      ]
     },
     "execution_count": 77,
     "metadata": {},
     "output_type": "execute_result"
    }
   ],
   "source": [
    "b[:,1]"
   ]
  },
  {
   "cell_type": "code",
   "execution_count": 78,
   "metadata": {
    "ExecuteTime": {
     "end_time": "2021-03-07T13:12:08.162283Z",
     "start_time": "2021-03-07T13:12:08.149334Z"
    }
   },
   "outputs": [],
   "source": [
    "# 1열들 모두 출력"
   ]
  },
  {
   "cell_type": "code",
   "execution_count": 79,
   "metadata": {
    "ExecuteTime": {
     "end_time": "2021-03-07T13:12:12.525231Z",
     "start_time": "2021-03-07T13:12:12.509263Z"
    }
   },
   "outputs": [
    {
     "data": {
      "text/plain": [
       "array([[ 1,  5,  9],\n",
       "       [13, 17, 21]])"
      ]
     },
     "execution_count": 79,
     "metadata": {},
     "output_type": "execute_result"
    }
   ],
   "source": [
    "b[:,:,1]"
   ]
  },
  {
   "cell_type": "code",
   "execution_count": 80,
   "metadata": {
    "ExecuteTime": {
     "end_time": "2021-03-07T13:12:16.239165Z",
     "start_time": "2021-03-07T13:12:16.227203Z"
    }
   },
   "outputs": [
    {
     "data": {
      "text/plain": [
       "array([[ 1,  5,  9],\n",
       "       [13, 17, 21]])"
      ]
     },
     "execution_count": 80,
     "metadata": {},
     "output_type": "execute_result"
    }
   ],
   "source": [
    "b[...,1]"
   ]
  },
  {
   "cell_type": "code",
   "execution_count": 81,
   "metadata": {
    "ExecuteTime": {
     "end_time": "2021-03-07T13:12:49.278817Z",
     "start_time": "2021-03-07T13:12:49.265852Z"
    }
   },
   "outputs": [
    {
     "data": {
      "text/plain": [
       "array([[[ 0,  1,  2,  3],\n",
       "        [ 4,  5,  6,  7],\n",
       "        [ 8,  9, 10, 11]],\n",
       "\n",
       "       [[12, 13, 14, 15],\n",
       "        [16, 17, 18, 19],\n",
       "        [20, 21, 22, 23]]])"
      ]
     },
     "execution_count": 81,
     "metadata": {},
     "output_type": "execute_result"
    }
   ],
   "source": [
    "b"
   ]
  },
  {
   "cell_type": "code",
   "execution_count": 82,
   "metadata": {
    "ExecuteTime": {
     "end_time": "2021-03-07T13:12:55.857192Z",
     "start_time": "2021-03-07T13:12:55.842199Z"
    }
   },
   "outputs": [
    {
     "name": "stdout",
     "output_type": "stream",
     "text": [
      "0면0행0열 : 0\t0면0행1열 : 1\t0면0행2열 : 2\t0면0행3열 : 3\t\n",
      "0면1행0열 : 4\t0면1행1열 : 5\t0면1행2열 : 6\t0면1행3열 : 7\t\n",
      "0면2행0열 : 8\t0면2행1열 : 9\t0면2행2열 : 10\t0면2행3열 : 11\t\n",
      "\n",
      "1면0행0열 : 12\t1면0행1열 : 13\t1면0행2열 : 14\t1면0행3열 : 15\t\n",
      "1면1행0열 : 16\t1면1행1열 : 17\t1면1행2열 : 18\t1면1행3열 : 19\t\n",
      "1면2행0열 : 20\t1면2행1열 : 21\t1면2행2열 : 22\t1면2행3열 : 23\t\n",
      "\n"
     ]
    }
   ],
   "source": [
    "for i, data in enumerate(b):\n",
    "    for j, row in enumerate(data):\n",
    "        for k, item in enumerate(row):\n",
    "            print(\"{}면{}행{}열 : {}\".format(i,j,k, item), end='\\t')\n",
    "        print()\n",
    "    print()"
   ]
  },
  {
   "cell_type": "code",
   "execution_count": 83,
   "metadata": {
    "ExecuteTime": {
     "end_time": "2021-03-07T13:13:16.993722Z",
     "start_time": "2021-03-07T13:13:16.981755Z"
    }
   },
   "outputs": [
    {
     "name": "stdout",
     "output_type": "stream",
     "text": [
      "0 1 2 3 4 5 6 7 8 9 10 11 12 13 14 15 16 17 18 19 20 21 22 23 "
     ]
    }
   ],
   "source": [
    "for i, data in enumerate(b):\n",
    "    for j, row in enumerate(data):\n",
    "        for k, item in enumerate(row):\n",
    "            print(item, end=' ')"
   ]
  },
  {
   "cell_type": "code",
   "execution_count": 84,
   "metadata": {
    "ExecuteTime": {
     "end_time": "2021-03-07T13:13:22.513325Z",
     "start_time": "2021-03-07T13:13:22.485371Z"
    }
   },
   "outputs": [],
   "source": [
    "b.flat??"
   ]
  },
  {
   "cell_type": "code",
   "execution_count": 85,
   "metadata": {
    "ExecuteTime": {
     "end_time": "2021-03-07T13:13:28.724414Z",
     "start_time": "2021-03-07T13:13:28.716436Z"
    }
   },
   "outputs": [
    {
     "data": {
      "text/plain": [
       "<numpy.flatiter at 0x20b450e1f90>"
      ]
     },
     "execution_count": 85,
     "metadata": {},
     "output_type": "execute_result"
    }
   ],
   "source": [
    "b.flat"
   ]
  },
  {
   "cell_type": "code",
   "execution_count": 86,
   "metadata": {
    "ExecuteTime": {
     "end_time": "2021-03-07T13:13:34.356869Z",
     "start_time": "2021-03-07T13:13:34.350885Z"
    }
   },
   "outputs": [
    {
     "name": "stdout",
     "output_type": "stream",
     "text": [
      "0 1 2 3 4 5 6 7 8 9 10 11 12 13 14 15 16 17 18 19 20 21 22 23 "
     ]
    }
   ],
   "source": [
    "for item in b.flat:\n",
    "    print(item, end=' ')"
   ]
  },
  {
   "cell_type": "markdown",
   "metadata": {},
   "source": [
    "## 3.2 두 배열을 쌓아 합치기\n",
    "- vstack(tup) : 아래에 추가하는 방식으로 쌓아 합침\n",
    "- hstack(tup) : 옆으로 추가하는 방식으로 쌓아 합침\n",
    "- dstack(tup) : 마지막 축(열)을 쌓아 합침. 0열들끼리 쌓고, 1열끼리 쌓고"
   ]
  },
  {
   "cell_type": "code",
   "execution_count": 87,
   "metadata": {
    "ExecuteTime": {
     "end_time": "2021-03-07T13:17:12.160971Z",
     "start_time": "2021-03-07T13:17:12.145015Z"
    }
   },
   "outputs": [
    {
     "data": {
      "text/plain": [
       "array([[[ 0,  1,  2,  3],\n",
       "        [ 4,  5,  6,  7],\n",
       "        [ 8,  9, 10, 11]],\n",
       "\n",
       "       [[12, 13, 14, 15],\n",
       "        [16, 17, 18, 19],\n",
       "        [20, 21, 22, 23]]])"
      ]
     },
     "execution_count": 87,
     "metadata": {},
     "output_type": "execute_result"
    }
   ],
   "source": [
    "c = np.arange(24).reshape(2,3,4)\n",
    "c"
   ]
  },
  {
   "cell_type": "code",
   "execution_count": 88,
   "metadata": {
    "ExecuteTime": {
     "end_time": "2021-03-07T13:17:55.718356Z",
     "start_time": "2021-03-07T13:17:55.706389Z"
    }
   },
   "outputs": [],
   "source": [
    "a, b = c[0], c[1]"
   ]
  },
  {
   "cell_type": "code",
   "execution_count": 89,
   "metadata": {
    "ExecuteTime": {
     "end_time": "2021-03-07T13:18:07.098060Z",
     "start_time": "2021-03-07T13:18:07.081592Z"
    }
   },
   "outputs": [
    {
     "data": {
      "text/plain": [
       "array([[ 0,  1,  2,  3],\n",
       "       [ 4,  5,  6,  7],\n",
       "       [ 8,  9, 10, 11]])"
      ]
     },
     "execution_count": 89,
     "metadata": {},
     "output_type": "execute_result"
    }
   ],
   "source": [
    "a"
   ]
  },
  {
   "cell_type": "code",
   "execution_count": 90,
   "metadata": {
    "ExecuteTime": {
     "end_time": "2021-03-07T13:18:11.568359Z",
     "start_time": "2021-03-07T13:18:11.562373Z"
    }
   },
   "outputs": [
    {
     "data": {
      "text/plain": [
       "array([[12, 13, 14, 15],\n",
       "       [16, 17, 18, 19],\n",
       "       [20, 21, 22, 23]])"
      ]
     },
     "execution_count": 90,
     "metadata": {},
     "output_type": "execute_result"
    }
   ],
   "source": [
    "b"
   ]
  },
  {
   "cell_type": "code",
   "execution_count": 91,
   "metadata": {
    "ExecuteTime": {
     "end_time": "2021-03-07T13:18:17.298249Z",
     "start_time": "2021-03-07T13:18:17.285294Z"
    }
   },
   "outputs": [
    {
     "data": {
      "text/plain": [
       "array([[ 0,  1,  2,  3],\n",
       "       [ 4,  5,  6,  7],\n",
       "       [ 8,  9, 10, 11],\n",
       "       [12, 13, 14, 15],\n",
       "       [16, 17, 18, 19],\n",
       "       [20, 21, 22, 23]])"
      ]
     },
     "execution_count": 91,
     "metadata": {},
     "output_type": "execute_result"
    }
   ],
   "source": [
    "np.vstack( (a,b) ) # 수직으로 합치기"
   ]
  },
  {
   "cell_type": "code",
   "execution_count": 92,
   "metadata": {
    "ExecuteTime": {
     "end_time": "2021-03-07T13:18:34.168064Z",
     "start_time": "2021-03-07T13:18:34.161083Z"
    }
   },
   "outputs": [
    {
     "data": {
      "text/plain": [
       "array([[ 0,  1,  2,  3, 12, 13, 14, 15],\n",
       "       [ 4,  5,  6,  7, 16, 17, 18, 19],\n",
       "       [ 8,  9, 10, 11, 20, 21, 22, 23]])"
      ]
     },
     "execution_count": 92,
     "metadata": {},
     "output_type": "execute_result"
    }
   ],
   "source": [
    "np.hstack( (a,b) ) # 수평(열)으로 합치기"
   ]
  },
  {
   "cell_type": "code",
   "execution_count": 93,
   "metadata": {
    "ExecuteTime": {
     "end_time": "2021-03-07T13:18:41.117154Z",
     "start_time": "2021-03-07T13:18:41.100192Z"
    }
   },
   "outputs": [
    {
     "data": {
      "text/plain": [
       "array([[[ 0, 12],\n",
       "        [ 1, 13],\n",
       "        [ 2, 14],\n",
       "        [ 3, 15]],\n",
       "\n",
       "       [[ 4, 16],\n",
       "        [ 5, 17],\n",
       "        [ 6, 18],\n",
       "        [ 7, 19]],\n",
       "\n",
       "       [[ 8, 20],\n",
       "        [ 9, 21],\n",
       "        [10, 22],\n",
       "        [11, 23]]])"
      ]
     },
     "execution_count": 93,
     "metadata": {},
     "output_type": "execute_result"
    }
   ],
   "source": [
    "np.dstack( (a,b) ) # 0열끼리 0면에, 1열끼리 1면, 2열끼리 2면"
   ]
  },
  {
   "cell_type": "markdown",
   "metadata": {
    "ExecuteTime": {
     "end_time": "2021-03-07T13:26:20.253870Z",
     "start_time": "2021-03-07T13:26:20.234408Z"
    }
   },
   "source": [
    "- column_stack(tup): 1차원 배열을 열단위로 배열하여 2차원 배열로 만듦"
   ]
  },
  {
   "cell_type": "code",
   "execution_count": 213,
   "metadata": {
    "ExecuteTime": {
     "end_time": "2021-03-07T14:24:06.274183Z",
     "start_time": "2021-03-07T14:24:06.266251Z"
    }
   },
   "outputs": [
    {
     "data": {
      "text/plain": [
       "array([[ 1,  5,  9],\n",
       "       [ 2,  6, 10],\n",
       "       [ 3,  7, 11],\n",
       "       [ 4,  8, 12]])"
      ]
     },
     "execution_count": 213,
     "metadata": {},
     "output_type": "execute_result"
    }
   ],
   "source": [
    "a = np.array([1,2,3,4])\n",
    "b = np.array([5,6,7,8])\n",
    "c = np.array([9,10,11,12])\n",
    "np.column_stack( (a,b,c))"
   ]
  },
  {
   "cell_type": "code",
   "execution_count": 214,
   "metadata": {
    "ExecuteTime": {
     "end_time": "2021-03-07T14:24:06.468632Z",
     "start_time": "2021-03-07T14:24:06.457669Z"
    }
   },
   "outputs": [
    {
     "data": {
      "text/plain": [
       "array([[1, 2, 3, 4],\n",
       "       [5, 6, 7, 8]])"
      ]
     },
     "execution_count": 214,
     "metadata": {},
     "output_type": "execute_result"
    }
   ],
   "source": [
    "np.vstack((a,b))"
   ]
  },
  {
   "cell_type": "code",
   "execution_count": 215,
   "metadata": {
    "ExecuteTime": {
     "end_time": "2021-03-07T14:24:06.618236Z",
     "start_time": "2021-03-07T14:24:06.602307Z"
    }
   },
   "outputs": [
    {
     "data": {
      "text/plain": [
       "array([ 1,  2,  3,  4,  5,  6,  7,  8,  9, 10, 11, 12])"
      ]
     },
     "execution_count": 215,
     "metadata": {},
     "output_type": "execute_result"
    }
   ],
   "source": [
    "np.hstack((a,b,c))"
   ]
  },
  {
   "cell_type": "code",
   "execution_count": 216,
   "metadata": {
    "ExecuteTime": {
     "end_time": "2021-03-07T14:24:06.813709Z",
     "start_time": "2021-03-07T14:24:06.802740Z"
    }
   },
   "outputs": [
    {
     "data": {
      "text/plain": [
       "array([1, 2, 3, 4])"
      ]
     },
     "execution_count": 216,
     "metadata": {},
     "output_type": "execute_result"
    }
   ],
   "source": [
    "a"
   ]
  },
  {
   "cell_type": "code",
   "execution_count": 217,
   "metadata": {
    "ExecuteTime": {
     "end_time": "2021-03-07T14:24:06.964309Z",
     "start_time": "2021-03-07T14:24:06.948380Z"
    }
   },
   "outputs": [
    {
     "data": {
      "text/plain": [
       "array([[1],\n",
       "       [2],\n",
       "       [3],\n",
       "       [4]])"
      ]
     },
     "execution_count": 217,
     "metadata": {},
     "output_type": "execute_result"
    }
   ],
   "source": [
    "a[:,np.newaxis]"
   ]
  },
  {
   "cell_type": "code",
   "execution_count": 218,
   "metadata": {
    "ExecuteTime": {
     "end_time": "2021-03-07T14:24:07.128873Z",
     "start_time": "2021-03-07T14:24:07.120889Z"
    }
   },
   "outputs": [
    {
     "data": {
      "text/plain": [
       "array([[ 1,  5,  9],\n",
       "       [ 2,  6, 10],\n",
       "       [ 3,  7, 11],\n",
       "       [ 4,  8, 12]])"
      ]
     },
     "execution_count": 218,
     "metadata": {},
     "output_type": "execute_result"
    }
   ],
   "source": [
    "np.hstack((a[:, np.newaxis], b[:, np.newaxis] , c[:, np.newaxis]))"
   ]
  },
  {
   "cell_type": "code",
   "execution_count": 219,
   "metadata": {
    "ExecuteTime": {
     "end_time": "2021-03-07T14:24:07.324902Z",
     "start_time": "2021-03-07T14:24:07.303960Z"
    }
   },
   "outputs": [
    {
     "data": {
      "text/plain": [
       "array([[ 1,  5,  9],\n",
       "       [ 2,  6, 10],\n",
       "       [ 3,  7, 11],\n",
       "       [ 4,  8, 12]])"
      ]
     },
     "execution_count": 219,
     "metadata": {},
     "output_type": "execute_result"
    }
   ],
   "source": [
    "np.column_stack( (a,b,c))"
   ]
  },
  {
   "cell_type": "markdown",
   "metadata": {},
   "source": [
    "- row_stack(tup) ; vstack()과 같음. 행단위로 쌓아줌"
   ]
  },
  {
   "cell_type": "code",
   "execution_count": 220,
   "metadata": {
    "ExecuteTime": {
     "end_time": "2021-03-07T14:24:09.110429Z",
     "start_time": "2021-03-07T14:24:09.098461Z"
    }
   },
   "outputs": [
    {
     "data": {
      "text/plain": [
       "array([[ 1,  2,  3,  4],\n",
       "       [ 5,  6,  7,  8],\n",
       "       [ 9, 10, 11, 12]])"
      ]
     },
     "execution_count": 220,
     "metadata": {},
     "output_type": "execute_result"
    }
   ],
   "source": [
    "np.row_stack((a,b,c))"
   ]
  },
  {
   "cell_type": "code",
   "execution_count": 221,
   "metadata": {
    "ExecuteTime": {
     "end_time": "2021-03-07T14:24:14.264125Z",
     "start_time": "2021-03-07T14:24:14.258176Z"
    }
   },
   "outputs": [
    {
     "data": {
      "text/plain": [
       "array([[ 1,  2,  3,  4],\n",
       "       [ 5,  6,  7,  8],\n",
       "       [ 9, 10, 11, 12]])"
      ]
     },
     "execution_count": 221,
     "metadata": {},
     "output_type": "execute_result"
    }
   ],
   "source": [
    "np.vstack((a,b,c))"
   ]
  },
  {
   "cell_type": "markdown",
   "metadata": {
    "ExecuteTime": {
     "end_time": "2021-03-07T14:24:24.776061Z",
     "start_time": "2021-03-07T14:24:24.759075Z"
    }
   },
   "source": [
    "**-stack(ary_tup, axis=0) ; axis속성에 따라 넘파이 배열을 합침\n",
    "\n",
    "* ary_tup : 합칠 배열의 모음<br>\n",
    "* axis=0 ; 첫번째차원. axis=-1이면 마지막 차원이 됨**"
   ]
  },
  {
   "cell_type": "code",
   "execution_count": 224,
   "metadata": {
    "ExecuteTime": {
     "end_time": "2021-03-07T14:24:51.362986Z",
     "start_time": "2021-03-07T14:24:51.345046Z"
    }
   },
   "outputs": [
    {
     "data": {
      "text/plain": [
       "array([[ 0,  1,  2,  3],\n",
       "       [ 4,  5,  6,  7],\n",
       "       [ 8,  9, 10, 11]])"
      ]
     },
     "execution_count": 224,
     "metadata": {},
     "output_type": "execute_result"
    }
   ],
   "source": [
    "a = np.arange(12).reshape(3,4)\n",
    "a"
   ]
  },
  {
   "cell_type": "code",
   "execution_count": 225,
   "metadata": {
    "ExecuteTime": {
     "end_time": "2021-03-07T14:24:57.898557Z",
     "start_time": "2021-03-07T14:24:57.887585Z"
    }
   },
   "outputs": [
    {
     "data": {
      "text/plain": [
       "array([[12, 13, 14, 15],\n",
       "       [16, 17, 18, 19],\n",
       "       [20, 21, 22, 23]])"
      ]
     },
     "execution_count": 225,
     "metadata": {},
     "output_type": "execute_result"
    }
   ],
   "source": [
    "b = np.arange(12, 24).reshape(3,4)\n",
    "b"
   ]
  },
  {
   "cell_type": "code",
   "execution_count": 226,
   "metadata": {
    "ExecuteTime": {
     "end_time": "2021-03-07T14:25:03.434695Z",
     "start_time": "2021-03-07T14:25:03.409720Z"
    }
   },
   "outputs": [
    {
     "data": {
      "text/plain": [
       "array([[[ 0,  1,  2,  3],\n",
       "        [ 4,  5,  6,  7],\n",
       "        [ 8,  9, 10, 11]],\n",
       "\n",
       "       [[12, 13, 14, 15],\n",
       "        [16, 17, 18, 19],\n",
       "        [20, 21, 22, 23]]])"
      ]
     },
     "execution_count": 226,
     "metadata": {},
     "output_type": "execute_result"
    }
   ],
   "source": [
    "np.stack((a,b), axis=0) # a,b를 차원이 다르게 합침. 면으로 합침"
   ]
  },
  {
   "cell_type": "code",
   "execution_count": 227,
   "metadata": {
    "ExecuteTime": {
     "end_time": "2021-03-07T14:25:14.986469Z",
     "start_time": "2021-03-07T14:25:14.975503Z"
    }
   },
   "outputs": [
    {
     "data": {
      "text/plain": [
       "array([[[ 0,  1,  2,  3],\n",
       "        [12, 13, 14, 15]],\n",
       "\n",
       "       [[ 4,  5,  6,  7],\n",
       "        [16, 17, 18, 19]],\n",
       "\n",
       "       [[ 8,  9, 10, 11],\n",
       "        [20, 21, 22, 23]]])"
      ]
     },
     "execution_count": 227,
     "metadata": {},
     "output_type": "execute_result"
    }
   ],
   "source": [
    "np.stack((a,b), axis=1) # 행끼리 합침"
   ]
  },
  {
   "cell_type": "code",
   "execution_count": 228,
   "metadata": {
    "ExecuteTime": {
     "end_time": "2021-03-07T14:25:28.344847Z",
     "start_time": "2021-03-07T14:25:28.330888Z"
    }
   },
   "outputs": [
    {
     "data": {
      "text/plain": [
       "array([[[ 0, 12],\n",
       "        [ 1, 13],\n",
       "        [ 2, 14],\n",
       "        [ 3, 15]],\n",
       "\n",
       "       [[ 4, 16],\n",
       "        [ 5, 17],\n",
       "        [ 6, 18],\n",
       "        [ 7, 19]],\n",
       "\n",
       "       [[ 8, 20],\n",
       "        [ 9, 21],\n",
       "        [10, 22],\n",
       "        [11, 23]]])"
      ]
     },
     "execution_count": 228,
     "metadata": {},
     "output_type": "execute_result"
    }
   ],
   "source": [
    "np.stack((a,b), axis=2) # 행들을 열끼리 합침"
   ]
  },
  {
   "cell_type": "code",
   "execution_count": 229,
   "metadata": {
    "ExecuteTime": {
     "end_time": "2021-03-07T14:25:48.840943Z",
     "start_time": "2021-03-07T14:25:48.826982Z"
    }
   },
   "outputs": [
    {
     "data": {
      "text/plain": [
       "array([[[ 0, 12],\n",
       "        [ 1, 13],\n",
       "        [ 2, 14],\n",
       "        [ 3, 15]],\n",
       "\n",
       "       [[ 4, 16],\n",
       "        [ 5, 17],\n",
       "        [ 6, 18],\n",
       "        [ 7, 19]],\n",
       "\n",
       "       [[ 8, 20],\n",
       "        [ 9, 21],\n",
       "        [10, 22],\n",
       "        [11, 23]]])"
      ]
     },
     "execution_count": 229,
     "metadata": {},
     "output_type": "execute_result"
    }
   ],
   "source": [
    "np.stack((a,b), axis=-1) # 마지막 차원으로 합침"
   ]
  },
  {
   "cell_type": "markdown",
   "metadata": {},
   "source": [
    "## 3.3 r, c"
   ]
  },
  {
   "cell_type": "code",
   "execution_count": 232,
   "metadata": {
    "ExecuteTime": {
     "end_time": "2021-03-07T14:26:35.639599Z",
     "start_time": "2021-03-07T14:26:35.631621Z"
    }
   },
   "outputs": [],
   "source": [
    "a = np.array([1,2,3,4])\n",
    "b = np.array([5,6,7,8])\n",
    "c = np.array([9,10,11,12])"
   ]
  },
  {
   "cell_type": "code",
   "execution_count": 233,
   "metadata": {
    "ExecuteTime": {
     "end_time": "2021-03-07T14:26:44.229479Z",
     "start_time": "2021-03-07T14:26:44.209534Z"
    }
   },
   "outputs": [
    {
     "data": {
      "text/plain": [
       "array([ 1,  2,  3,  4,  5,  6,  7,  8,  9, 10, 11, 12])"
      ]
     },
     "execution_count": 233,
     "metadata": {},
     "output_type": "execute_result"
    }
   ],
   "source": [
    "np.r_[a,b,c]"
   ]
  },
  {
   "cell_type": "code",
   "execution_count": 234,
   "metadata": {
    "ExecuteTime": {
     "end_time": "2021-03-07T14:26:48.794922Z",
     "start_time": "2021-03-07T14:26:48.778964Z"
    }
   },
   "outputs": [
    {
     "data": {
      "text/plain": [
       "array([[ 1,  5,  9],\n",
       "       [ 2,  6, 10],\n",
       "       [ 3,  7, 11],\n",
       "       [ 4,  8, 12]])"
      ]
     },
     "execution_count": 234,
     "metadata": {},
     "output_type": "execute_result"
    }
   ],
   "source": [
    "np.c_[a,b,c]"
   ]
  },
  {
   "cell_type": "code",
   "execution_count": 235,
   "metadata": {
    "ExecuteTime": {
     "end_time": "2021-03-07T14:26:53.392249Z",
     "start_time": "2021-03-07T14:26:53.385269Z"
    }
   },
   "outputs": [
    {
     "data": {
      "text/plain": [
       "array([[ 1,  2,  3,  4],\n",
       "       [ 5,  6,  7,  8],\n",
       "       [ 9, 10, 11, 12]])"
      ]
     },
     "execution_count": 235,
     "metadata": {},
     "output_type": "execute_result"
    }
   ],
   "source": [
    "np.r_[[a],[b],[c]]"
   ]
  },
  {
   "cell_type": "markdown",
   "metadata": {},
   "source": [
    "## 3.4 하나의 배열을 여러 개 작은 배열로 분할하기\n",
    "- hsplit(ary, indices_or_sections) ; 두번째 축(2차원의 경우 세로축)을 따라 분할\n",
    "- vsplit(ary, indices_or_sections) ; 첫번째 축(2차원의 경우 가로축)을 따라 분할\n",
    "- dsplit(ary, indices_or_sections) ; 3번째 차원을 나눔\n",
    "* ary : 분할할 배열<br>\n",
    "* indices_or_sections : 정수 또는 1차원 배열 형식 -> 정수의 경우 분할할 배열의 수, <br>\n",
    "                        [2,5,7]의 경우 분할되어질 인덱스를 의미"
   ]
  },
  {
   "cell_type": "code",
   "execution_count": 236,
   "metadata": {
    "ExecuteTime": {
     "end_time": "2021-03-07T14:27:51.247559Z",
     "start_time": "2021-03-07T14:27:51.228579Z"
    }
   },
   "outputs": [
    {
     "data": {
      "text/plain": [
       "array([[ 0,  1,  2,  3],\n",
       "       [ 4,  5,  6,  7],\n",
       "       [ 8,  9, 10, 11]])"
      ]
     },
     "execution_count": 236,
     "metadata": {},
     "output_type": "execute_result"
    }
   ],
   "source": [
    "a = np.arange(12).reshape(3,4)\n",
    "a"
   ]
  },
  {
   "cell_type": "code",
   "execution_count": 237,
   "metadata": {
    "ExecuteTime": {
     "end_time": "2021-03-07T14:28:03.173308Z",
     "start_time": "2021-03-07T14:28:03.151370Z"
    }
   },
   "outputs": [
    {
     "data": {
      "text/plain": [
       "[array([[0, 1, 2, 3]]), array([[4, 5, 6, 7]]), array([[ 8,  9, 10, 11]])]"
      ]
     },
     "execution_count": 237,
     "metadata": {},
     "output_type": "execute_result"
    }
   ],
   "source": [
    "a_vsplit = np.vsplit(a, 3) # 가로축을 따라 3개의 배열로 분할\n",
    "a_vsplit"
   ]
  },
  {
   "cell_type": "code",
   "execution_count": 238,
   "metadata": {
    "ExecuteTime": {
     "end_time": "2021-03-07T14:28:11.954357Z",
     "start_time": "2021-03-07T14:28:11.936405Z"
    }
   },
   "outputs": [
    {
     "data": {
      "text/plain": [
       "list"
      ]
     },
     "execution_count": 238,
     "metadata": {},
     "output_type": "execute_result"
    }
   ],
   "source": [
    "type(a_vsplit)"
   ]
  },
  {
   "cell_type": "code",
   "execution_count": 239,
   "metadata": {
    "ExecuteTime": {
     "end_time": "2021-03-07T14:28:16.122694Z",
     "start_time": "2021-03-07T14:28:16.113717Z"
    }
   },
   "outputs": [
    {
     "data": {
      "text/plain": [
       "array([[0, 1, 2, 3]])"
      ]
     },
     "execution_count": 239,
     "metadata": {},
     "output_type": "execute_result"
    }
   ],
   "source": [
    "a_vsplit[0]"
   ]
  },
  {
   "cell_type": "code",
   "execution_count": 240,
   "metadata": {
    "ExecuteTime": {
     "end_time": "2021-03-07T14:28:25.612375Z",
     "start_time": "2021-03-07T14:28:25.590404Z"
    }
   },
   "outputs": [
    {
     "data": {
      "text/plain": [
       "[array([[0],\n",
       "        [4],\n",
       "        [8]]),\n",
       " array([[1],\n",
       "        [5],\n",
       "        [9]]),\n",
       " array([[ 2],\n",
       "        [ 6],\n",
       "        [10]]),\n",
       " array([[ 3],\n",
       "        [ 7],\n",
       "        [11]])]"
      ]
     },
     "execution_count": 240,
     "metadata": {},
     "output_type": "execute_result"
    }
   ],
   "source": [
    "a_hsplit = np.hsplit(a, 4) # 세로축을 따라 4개의 배열로 분할\n",
    "a_hsplit"
   ]
  },
  {
   "cell_type": "code",
   "execution_count": 241,
   "metadata": {
    "ExecuteTime": {
     "end_time": "2021-03-07T14:28:48.330337Z",
     "start_time": "2021-03-07T14:28:48.317372Z"
    }
   },
   "outputs": [
    {
     "data": {
      "text/plain": [
       "(3, 1)"
      ]
     },
     "execution_count": 241,
     "metadata": {},
     "output_type": "execute_result"
    }
   ],
   "source": [
    "a_hsplit[0].shape"
   ]
  },
  {
   "cell_type": "code",
   "execution_count": 242,
   "metadata": {
    "ExecuteTime": {
     "end_time": "2021-03-07T14:28:56.028703Z",
     "start_time": "2021-03-07T14:28:56.023684Z"
    }
   },
   "outputs": [
    {
     "data": {
      "text/plain": [
       "array([[[ 0,  1,  2,  3],\n",
       "        [ 4,  5,  6,  7],\n",
       "        [ 8,  9, 10, 11]],\n",
       "\n",
       "       [[12, 13, 14, 15],\n",
       "        [16, 17, 18, 19],\n",
       "        [20, 21, 22, 23]]])"
      ]
     },
     "execution_count": 242,
     "metadata": {},
     "output_type": "execute_result"
    }
   ],
   "source": [
    "b = np.arange(24).reshape(2,3,4)\n",
    "b"
   ]
  },
  {
   "cell_type": "code",
   "execution_count": 243,
   "metadata": {
    "ExecuteTime": {
     "end_time": "2021-03-07T14:29:05.674147Z",
     "start_time": "2021-03-07T14:29:05.656164Z"
    }
   },
   "outputs": [
    {
     "data": {
      "text/plain": [
       "[array([[[ 0,  1,  2,  3]],\n",
       " \n",
       "        [[12, 13, 14, 15]]]),\n",
       " array([[[ 4,  5,  6,  7]],\n",
       " \n",
       "        [[16, 17, 18, 19]]]),\n",
       " array([[[ 8,  9, 10, 11]],\n",
       " \n",
       "        [[20, 21, 22, 23]]])]"
      ]
     },
     "execution_count": 243,
     "metadata": {},
     "output_type": "execute_result"
    }
   ],
   "source": [
    "b_split = np.hsplit(b, 3) # 두번째축(행)을 이용해서 split\n",
    "b_split                   # 3차원배열 b를 3개의 3차원 배열로 split"
   ]
  },
  {
   "cell_type": "code",
   "execution_count": 244,
   "metadata": {
    "ExecuteTime": {
     "end_time": "2021-03-07T14:29:11.241194Z",
     "start_time": "2021-03-07T14:29:11.221250Z"
    }
   },
   "outputs": [
    {
     "data": {
      "text/plain": [
       "(2, 1, 4)"
      ]
     },
     "execution_count": 244,
     "metadata": {},
     "output_type": "execute_result"
    }
   ],
   "source": [
    "b_split[0].shape"
   ]
  },
  {
   "cell_type": "code",
   "execution_count": 245,
   "metadata": {
    "ExecuteTime": {
     "end_time": "2021-03-07T14:29:16.888152Z",
     "start_time": "2021-03-07T14:29:16.876184Z"
    }
   },
   "outputs": [
    {
     "data": {
      "text/plain": [
       "[array([[[ 0,  1,  2,  3],\n",
       "         [ 4,  5,  6,  7],\n",
       "         [ 8,  9, 10, 11]]]),\n",
       " array([[[12, 13, 14, 15],\n",
       "         [16, 17, 18, 19],\n",
       "         [20, 21, 22, 23]]])]"
      ]
     },
     "execution_count": 245,
     "metadata": {},
     "output_type": "execute_result"
    }
   ],
   "source": [
    "b_vsplit = np.vsplit(b, 2) # 3차원 배열 b를 첫번째 축을 기반으로 나눠 2개의 배열로 분할\n",
    "b_vsplit"
   ]
  },
  {
   "cell_type": "code",
   "execution_count": 246,
   "metadata": {
    "ExecuteTime": {
     "end_time": "2021-03-07T14:29:23.015906Z",
     "start_time": "2021-03-07T14:29:22.996958Z"
    }
   },
   "outputs": [
    {
     "data": {
      "text/plain": [
       "(1, 3, 4)"
      ]
     },
     "execution_count": 246,
     "metadata": {},
     "output_type": "execute_result"
    }
   ],
   "source": [
    "b_vsplit[0].shape"
   ]
  },
  {
   "cell_type": "code",
   "execution_count": 247,
   "metadata": {
    "ExecuteTime": {
     "end_time": "2021-03-07T14:29:38.090834Z",
     "start_time": "2021-03-07T14:29:38.078864Z"
    }
   },
   "outputs": [
    {
     "data": {
      "text/plain": [
       "[array([[[ 0,  1],\n",
       "         [ 4,  5],\n",
       "         [ 8,  9]],\n",
       " \n",
       "        [[12, 13],\n",
       "         [16, 17],\n",
       "         [20, 21]]]),\n",
       " array([[[ 2,  3],\n",
       "         [ 6,  7],\n",
       "         [10, 11]],\n",
       " \n",
       "        [[14, 15],\n",
       "         [18, 19],\n",
       "         [22, 23]]])]"
      ]
     },
     "execution_count": 247,
     "metadata": {},
     "output_type": "execute_result"
    }
   ],
   "source": [
    "b_dsplit = np.dsplit(b, 2) # 3번째 차원을 기준으로 2개의 3차원 배열로 나눔\n",
    "b_dsplit"
   ]
  },
  {
   "cell_type": "code",
   "execution_count": 248,
   "metadata": {
    "ExecuteTime": {
     "end_time": "2021-03-07T14:31:11.196484Z",
     "start_time": "2021-03-07T14:31:11.190500Z"
    }
   },
   "outputs": [
    {
     "data": {
      "text/plain": [
       "(2, 3, 2)"
      ]
     },
     "execution_count": 248,
     "metadata": {},
     "output_type": "execute_result"
    }
   ],
   "source": [
    "b_dsplit[0].shape"
   ]
  },
  {
   "cell_type": "markdown",
   "metadata": {},
   "source": [
    "**- split(ary, indices_or_sections, axis=?)\n",
    "\n",
    " * axis=0이면, vsplit()과 동일\n",
    " * axis=1이면, hsplit()과 동일\n",
    " * axis=2이면, 3차원 이상에서 동작하며 dsplit()동"
   ]
  },
  {
   "cell_type": "code",
   "execution_count": 249,
   "metadata": {
    "ExecuteTime": {
     "end_time": "2021-03-07T14:31:30.876930Z",
     "start_time": "2021-03-07T14:31:30.871911Z"
    }
   },
   "outputs": [
    {
     "data": {
      "text/plain": [
       "array([[ 0,  1,  2,  3,  4,  5,  6,  7,  8,  9],\n",
       "       [10, 11, 12, 13, 14, 15, 16, 17, 18, 19]])"
      ]
     },
     "execution_count": 249,
     "metadata": {},
     "output_type": "execute_result"
    }
   ],
   "source": [
    "a = np.arange(20).reshape(2,10)\n",
    "a"
   ]
  },
  {
   "cell_type": "code",
   "execution_count": 250,
   "metadata": {
    "ExecuteTime": {
     "end_time": "2021-03-07T14:31:45.868175Z",
     "start_time": "2021-03-07T14:31:45.852219Z"
    }
   },
   "outputs": [
    {
     "data": {
      "text/plain": [
       "[array([[ 0,  1,  2],\n",
       "        [10, 11, 12]]),\n",
       " array([[ 3,  4,  5],\n",
       "        [13, 14, 15]]),\n",
       " array([[ 6,  7,  8,  9],\n",
       "        [16, 17, 18, 19]])]"
      ]
     },
     "execution_count": 250,
     "metadata": {},
     "output_type": "execute_result"
    }
   ],
   "source": [
    "np.split(a, [3,6], axis=1) # [3,6] 나누고자 하는 인덱스"
   ]
  },
  {
   "cell_type": "code",
   "execution_count": 251,
   "metadata": {
    "ExecuteTime": {
     "end_time": "2021-03-07T14:32:29.037685Z",
     "start_time": "2021-03-07T14:32:29.022757Z"
    }
   },
   "outputs": [
    {
     "data": {
      "text/plain": [
       "[array([[ 0,  1,  2],\n",
       "        [10, 11, 12]]),\n",
       " array([[ 3,  4,  5],\n",
       "        [13, 14, 15]]),\n",
       " array([[ 6,  7,  8,  9],\n",
       "        [16, 17, 18, 19]])]"
      ]
     },
     "execution_count": 251,
     "metadata": {},
     "output_type": "execute_result"
    }
   ],
   "source": [
    "np.split(a, (3,6), axis=1)"
   ]
  },
  {
   "cell_type": "code",
   "execution_count": 252,
   "metadata": {
    "ExecuteTime": {
     "end_time": "2021-03-07T14:32:41.510534Z",
     "start_time": "2021-03-07T14:32:41.498567Z"
    }
   },
   "outputs": [
    {
     "data": {
      "text/plain": [
       "[array([[ 0],\n",
       "        [10]]),\n",
       " array([[ 1,  2,  3,  4,  5],\n",
       "        [11, 12, 13, 14, 15]]),\n",
       " array([[ 6,  7,  8,  9],\n",
       "        [16, 17, 18, 19]])]"
      ]
     },
     "execution_count": 252,
     "metadata": {},
     "output_type": "execute_result"
    }
   ],
   "source": [
    "np.hsplit(a, [1,6])"
   ]
  },
  {
   "cell_type": "code",
   "execution_count": 253,
   "metadata": {
    "ExecuteTime": {
     "end_time": "2021-03-07T14:33:09.508343Z",
     "start_time": "2021-03-07T14:33:09.490354Z"
    }
   },
   "outputs": [
    {
     "data": {
      "text/plain": [
       "[array([[0, 1, 2, 3, 4, 5, 6, 7, 8, 9]]),\n",
       " array([[10, 11, 12, 13, 14, 15, 16, 17, 18, 19]])]"
      ]
     },
     "execution_count": 253,
     "metadata": {},
     "output_type": "execute_result"
    }
   ],
   "source": [
    "np.vsplit(a, 2)"
   ]
  },
  {
   "cell_type": "code",
   "execution_count": 254,
   "metadata": {
    "ExecuteTime": {
     "end_time": "2021-03-07T14:33:30.314908Z",
     "start_time": "2021-03-07T14:33:30.302940Z"
    }
   },
   "outputs": [
    {
     "data": {
      "text/plain": [
       "[array([[0, 1, 2, 3, 4, 5, 6, 7, 8, 9]]),\n",
       " array([[10, 11, 12, 13, 14, 15, 16, 17, 18, 19]])]"
      ]
     },
     "execution_count": 254,
     "metadata": {},
     "output_type": "execute_result"
    }
   ],
   "source": [
    "np.split(a, 2, axis=0)"
   ]
  },
  {
   "cell_type": "markdown",
   "metadata": {},
   "source": [
    "\n",
    "**- array_split(ary, indices_or_sections, axis=0)\n",
    "\n",
    "* split() 유일한 차이점은 축을 똑같이 나눌 수 없는 정수도 사용 가능"
   ]
  },
  {
   "cell_type": "code",
   "execution_count": 255,
   "metadata": {
    "ExecuteTime": {
     "end_time": "2021-03-07T14:33:44.426600Z",
     "start_time": "2021-03-07T14:33:44.413604Z"
    }
   },
   "outputs": [
    {
     "data": {
      "text/plain": [
       "[array([[ 0,  1,  2,  3],\n",
       "        [10, 11, 12, 13]]),\n",
       " array([[ 4,  5,  6],\n",
       "        [14, 15, 16]]),\n",
       " array([[ 7,  8,  9],\n",
       "        [17, 18, 19]])]"
      ]
     },
     "execution_count": 255,
     "metadata": {},
     "output_type": "execute_result"
    }
   ],
   "source": [
    "np.array_split(a, 3, axis=1)"
   ]
  },
  {
   "cell_type": "code",
   "execution_count": 256,
   "metadata": {
    "ExecuteTime": {
     "end_time": "2021-03-07T14:33:53.040329Z",
     "start_time": "2021-03-07T14:33:53.032351Z"
    }
   },
   "outputs": [
    {
     "data": {
      "text/plain": [
       "[array([[0, 1, 2, 3, 4, 5, 6, 7, 8, 9]]),\n",
       " array([[10, 11, 12, 13, 14, 15, 16, 17, 18, 19]])]"
      ]
     },
     "execution_count": 256,
     "metadata": {},
     "output_type": "execute_result"
    }
   ],
   "source": [
    "np.array_split(a, 2, axis=0)"
   ]
  },
  {
   "cell_type": "code",
   "execution_count": null,
   "metadata": {},
   "outputs": [],
   "source": []
  },
  {
   "cell_type": "code",
   "execution_count": null,
   "metadata": {},
   "outputs": [],
   "source": []
  },
  {
   "cell_type": "code",
   "execution_count": null,
   "metadata": {},
   "outputs": [],
   "source": []
  },
  {
   "cell_type": "code",
   "execution_count": null,
   "metadata": {},
   "outputs": [],
   "source": []
  },
  {
   "cell_type": "code",
   "execution_count": null,
   "metadata": {},
   "outputs": [],
   "source": []
  },
  {
   "cell_type": "code",
   "execution_count": null,
   "metadata": {},
   "outputs": [],
   "source": []
  },
  {
   "cell_type": "code",
   "execution_count": null,
   "metadata": {},
   "outputs": [],
   "source": []
  },
  {
   "cell_type": "code",
   "execution_count": null,
   "metadata": {},
   "outputs": [],
   "source": []
  },
  {
   "cell_type": "code",
   "execution_count": null,
   "metadata": {},
   "outputs": [],
   "source": []
  },
  {
   "cell_type": "code",
   "execution_count": null,
   "metadata": {},
   "outputs": [],
   "source": []
  },
  {
   "cell_type": "code",
   "execution_count": null,
   "metadata": {},
   "outputs": [],
   "source": []
  },
  {
   "cell_type": "code",
   "execution_count": null,
   "metadata": {},
   "outputs": [],
   "source": []
  },
  {
   "cell_type": "code",
   "execution_count": null,
   "metadata": {},
   "outputs": [],
   "source": []
  },
  {
   "cell_type": "code",
   "execution_count": null,
   "metadata": {},
   "outputs": [],
   "source": []
  },
  {
   "cell_type": "code",
   "execution_count": null,
   "metadata": {},
   "outputs": [],
   "source": []
  },
  {
   "cell_type": "code",
   "execution_count": null,
   "metadata": {},
   "outputs": [],
   "source": []
  },
  {
   "cell_type": "code",
   "execution_count": null,
   "metadata": {},
   "outputs": [],
   "source": []
  },
  {
   "cell_type": "code",
   "execution_count": null,
   "metadata": {},
   "outputs": [],
   "source": []
  }
 ],
 "metadata": {
  "kernelspec": {
   "display_name": "Python 3",
   "language": "python",
   "name": "python3"
  },
  "language_info": {
   "codemirror_mode": {
    "name": "ipython",
    "version": 3
   },
   "file_extension": ".py",
   "mimetype": "text/x-python",
   "name": "python",
   "nbconvert_exporter": "python",
   "pygments_lexer": "ipython3",
   "version": "3.8.5"
  },
  "toc": {
   "base_numbering": 1,
   "nav_menu": {},
   "number_sections": false,
   "sideBar": true,
   "skip_h1_title": false,
   "title_cell": "Table of Contents",
   "title_sidebar": "Contents",
   "toc_cell": false,
   "toc_position": {
    "height": "calc(100% - 180px)",
    "left": "10px",
    "top": "150px",
    "width": "341.333px"
   },
   "toc_section_display": true,
   "toc_window_display": true
  },
  "varInspector": {
   "cols": {
    "lenName": 16,
    "lenType": 16,
    "lenVar": 40
   },
   "kernels_config": {
    "python": {
     "delete_cmd_postfix": "",
     "delete_cmd_prefix": "del ",
     "library": "var_list.py",
     "varRefreshCmd": "print(var_dic_list())"
    },
    "r": {
     "delete_cmd_postfix": ") ",
     "delete_cmd_prefix": "rm(",
     "library": "var_list.r",
     "varRefreshCmd": "cat(var_dic_list()) "
    }
   },
   "types_to_exclude": [
    "module",
    "function",
    "builtin_function_or_method",
    "instance",
    "_Feature"
   ],
   "window_display": false
  }
 },
 "nbformat": 4,
 "nbformat_minor": 4
}
