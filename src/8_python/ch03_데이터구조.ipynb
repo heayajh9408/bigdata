{
 "cells": [
  {
   "cell_type": "markdown",
   "metadata": {},
   "source": [
    "# 1절. 리스트"
   ]
  },
  {
   "cell_type": "markdown",
   "metadata": {},
   "source": [
    "## 1.1 리스트 만들기"
   ]
  },
  {
   "cell_type": "markdown",
   "metadata": {},
   "source": [
    "- []를 이용해서 만들며, 여러개 값을 하나의 변수에 저장/관리할 수 있음. list()함수 이용도 가능\n",
    "- 인덱스 : 각 요소의 위치. 인덱스는 0부터 시작. 맨 마지막 인덱스는 -1\n",
    "- 슬라이싱 : 부분 데이터셋을 뽑아 내는 것. 인덱스를 이용해서 쓰기와 읽기를 지원"
   ]
  },
  {
   "cell_type": "code",
   "execution_count": 1,
   "metadata": {
    "ExecuteTime": {
     "end_time": "2021-03-01T13:48:39.574271Z",
     "start_time": "2021-03-01T13:48:39.552330Z"
    }
   },
   "outputs": [
    {
     "data": {
      "text/plain": [
       "list"
      ]
     },
     "execution_count": 1,
     "metadata": {},
     "output_type": "execute_result"
    }
   ],
   "source": [
    "fruits = ['banana','apple','orange','grape']\n",
    "type(fruits)"
   ]
  },
  {
   "cell_type": "code",
   "execution_count": 2,
   "metadata": {
    "ExecuteTime": {
     "end_time": "2021-03-01T13:48:47.569792Z",
     "start_time": "2021-03-01T13:48:47.557824Z"
    }
   },
   "outputs": [
    {
     "name": "stdout",
     "output_type": "stream",
     "text": [
      "['banana', 'apple', 'orange', 'grape']\n"
     ]
    }
   ],
   "source": [
    "print(fruits)"
   ]
  },
  {
   "cell_type": "code",
   "execution_count": 3,
   "metadata": {
    "ExecuteTime": {
     "end_time": "2021-03-01T13:48:53.139262Z",
     "start_time": "2021-03-01T13:48:53.130286Z"
    }
   },
   "outputs": [
    {
     "name": "stdout",
     "output_type": "stream",
     "text": [
      "banana\n"
     ]
    }
   ],
   "source": [
    "print(fruits[0])"
   ]
  },
  {
   "cell_type": "code",
   "execution_count": 5,
   "metadata": {
    "ExecuteTime": {
     "end_time": "2021-03-01T13:49:06.947681Z",
     "start_time": "2021-03-01T13:49:06.940700Z"
    }
   },
   "outputs": [
    {
     "name": "stdout",
     "output_type": "stream",
     "text": [
      "banana\n",
      "apple\n",
      "orange\n",
      "grape\n"
     ]
    }
   ],
   "source": [
    "for fruit in fruits :\n",
    "    print(fruit)"
   ]
  },
  {
   "cell_type": "code",
   "execution_count": 6,
   "metadata": {
    "ExecuteTime": {
     "end_time": "2021-03-01T13:49:19.658567Z",
     "start_time": "2021-03-01T13:49:19.643580Z"
    }
   },
   "outputs": [
    {
     "data": {
      "text/plain": [
       "[0, 1, 2, 3, 4, 5]"
      ]
     },
     "execution_count": 6,
     "metadata": {},
     "output_type": "execute_result"
    }
   ],
   "source": [
    "# range(from, to, by) ; from부터 to바로 앞까지 by씩 증가되면서 만들어진 list\n",
    "      # from 생략시 0부터 / by 생략시 1씩\n",
    "list(range(6))"
   ]
  },
  {
   "cell_type": "code",
   "execution_count": 7,
   "metadata": {
    "ExecuteTime": {
     "end_time": "2021-03-01T13:49:39.226885Z",
     "start_time": "2021-03-01T13:49:39.207907Z"
    }
   },
   "outputs": [
    {
     "data": {
      "text/plain": [
       "[0, 2, 4, 6, 8]"
      ]
     },
     "execution_count": 7,
     "metadata": {},
     "output_type": "execute_result"
    }
   ],
   "source": [
    "list(range(0,10,2))"
   ]
  },
  {
   "cell_type": "code",
   "execution_count": 8,
   "metadata": {
    "ExecuteTime": {
     "end_time": "2021-03-01T13:49:53.092581Z",
     "start_time": "2021-03-01T13:49:53.080618Z"
    }
   },
   "outputs": [
    {
     "data": {
      "text/plain": [
       "[10, 8, 6, 4, 2, 0]"
      ]
     },
     "execution_count": 8,
     "metadata": {},
     "output_type": "execute_result"
    }
   ],
   "source": [
    "list(range(10,-1,-2))"
   ]
  },
  {
   "cell_type": "code",
   "execution_count": 9,
   "metadata": {
    "ExecuteTime": {
     "end_time": "2021-03-01T13:50:02.637089Z",
     "start_time": "2021-03-01T13:50:02.627115Z"
    }
   },
   "outputs": [
    {
     "name": "stdout",
     "output_type": "stream",
     "text": [
      "0\t1\t2\t3\t4\t"
     ]
    }
   ],
   "source": [
    "for i in range(5):\n",
    "    print(i, end='\\t')"
   ]
  },
  {
   "cell_type": "code",
   "execution_count": 10,
   "metadata": {
    "ExecuteTime": {
     "end_time": "2021-03-01T13:50:12.892170Z",
     "start_time": "2021-03-01T13:50:12.873252Z"
    }
   },
   "outputs": [
    {
     "name": "stdout",
     "output_type": "stream",
     "text": [
      "0번째 : banana\n",
      "1번째 : apple\n",
      "2번째 : orange\n",
      "3번째 : grape\n"
     ]
    }
   ],
   "source": [
    "# 0번째 : banana.... len(fruits):fruits 요소의 갯수\n",
    "for idx in range(len(fruits)) :\n",
    "    print('{}번째 : {}'.format(idx, fruits[idx]))"
   ]
  },
  {
   "cell_type": "code",
   "execution_count": 11,
   "metadata": {
    "ExecuteTime": {
     "end_time": "2021-03-01T13:50:19.487830Z",
     "start_time": "2021-03-01T13:50:19.481844Z"
    }
   },
   "outputs": [],
   "source": [
    "numbers = [1,2,3,True, '5']"
   ]
  },
  {
   "cell_type": "code",
   "execution_count": 12,
   "metadata": {
    "ExecuteTime": {
     "end_time": "2021-03-01T13:50:24.880408Z",
     "start_time": "2021-03-01T13:50:24.867444Z"
    }
   },
   "outputs": [
    {
     "data": {
      "text/plain": [
       "[1, 2, 3, True, '5']"
      ]
     },
     "execution_count": 12,
     "metadata": {},
     "output_type": "execute_result"
    }
   ],
   "source": [
    "numbers"
   ]
  },
  {
   "cell_type": "code",
   "execution_count": 13,
   "metadata": {
    "ExecuteTime": {
     "end_time": "2021-03-01T13:50:35.794523Z",
     "start_time": "2021-03-01T13:50:35.789561Z"
    }
   },
   "outputs": [
    {
     "name": "stdout",
     "output_type": "stream",
     "text": [
      "[[1, 2, 3, 4, 5], [10, 20, 30, 40, 50], [1, 3, 5, 7, 9], [2, 4, 6, 8, 10]]\n"
     ]
    }
   ],
   "source": [
    "# 2차원리스트\n",
    "numbers_2d =[[1,2,3,4,5],\n",
    "             [10,20,30,40,50],\n",
    "             [1,3,5,7,9],\n",
    "             [2,4,6,8,10]]\n",
    "print(numbers_2d)"
   ]
  },
  {
   "cell_type": "code",
   "execution_count": 14,
   "metadata": {
    "ExecuteTime": {
     "end_time": "2021-03-01T13:51:01.419521Z",
     "start_time": "2021-03-01T13:51:01.409550Z"
    }
   },
   "outputs": [
    {
     "data": {
      "text/plain": [
       "10"
      ]
     },
     "execution_count": 14,
     "metadata": {},
     "output_type": "execute_result"
    }
   ],
   "source": [
    "numbers_2d[1][0]"
   ]
  },
  {
   "cell_type": "code",
   "execution_count": 15,
   "metadata": {
    "ExecuteTime": {
     "end_time": "2021-03-01T13:51:09.725154Z",
     "start_time": "2021-03-01T13:51:09.709198Z"
    }
   },
   "outputs": [
    {
     "name": "stdout",
     "output_type": "stream",
     "text": [
      "1\t2\t3\t4\t5\t\n",
      "10\t20\t30\t40\t50\t\n",
      "1\t3\t5\t7\t9\t\n",
      "2\t4\t6\t8\t10\t\n"
     ]
    }
   ],
   "source": [
    "for row in numbers_2d:\n",
    "    for data in row :\n",
    "        print(data, end='\\t')\n",
    "    print() # 개행"
   ]
  },
  {
   "cell_type": "code",
   "execution_count": 16,
   "metadata": {
    "ExecuteTime": {
     "end_time": "2021-03-01T13:51:56.292816Z",
     "start_time": "2021-03-01T13:51:56.274866Z"
    }
   },
   "outputs": [
    {
     "name": "stdout",
     "output_type": "stream",
     "text": [
      "0행0열 :  1\t0행1열 :  2\t0행2열 :  3\t0행3열 :  4\t0행4열 :  5\t\n",
      "1행0열 : 10\t1행1열 : 20\t1행2열 : 30\t1행3열 : 40\t1행4열 : 50\t\n",
      "2행0열 :  1\t2행1열 :  3\t2행2열 :  5\t2행3열 :  7\t2행4열 :  9\t\n",
      "3행0열 :  2\t3행1열 :  4\t3행2열 :  6\t3행3열 :  8\t3행4열 : 10\t\n"
     ]
    }
   ],
   "source": [
    "for i in range(len(numbers_2d)): # len(numbers_2d)=4\n",
    "    for j in range(len(numbers_2d[i])) :\n",
    "        print(\"{}행{}열 : {:>2}\".format(i, j, numbers_2d[i][j]), end='\\t')\n",
    "    print()"
   ]
  },
  {
   "cell_type": "markdown",
   "metadata": {},
   "source": [
    "## 1.2 기본정보조회"
   ]
  },
  {
   "cell_type": "code",
   "execution_count": 17,
   "metadata": {
    "ExecuteTime": {
     "end_time": "2021-03-01T13:52:22.886061Z",
     "start_time": "2021-03-01T13:52:22.871068Z"
    }
   },
   "outputs": [],
   "source": [
    "numbers = [1,2,3,4,5]\n",
    "numbers_2d = [[100,2,3,4,5],\n",
    "             [10,20,30,40,50],\n",
    "             [1,3,5,7,9],\n",
    "             [2,4,6,8,10]]"
   ]
  },
  {
   "cell_type": "code",
   "execution_count": 18,
   "metadata": {
    "ExecuteTime": {
     "end_time": "2021-03-01T13:52:48.180954Z",
     "start_time": "2021-03-01T13:52:48.169991Z"
    }
   },
   "outputs": [
    {
     "name": "stdout",
     "output_type": "stream",
     "text": [
      "numbers의 요소수 :  5\n",
      "numbers_2d의 요소수 : 4\n"
     ]
    }
   ],
   "source": [
    "# 요소 수 \n",
    "print('numbers의 요소수 : ',len(numbers))\n",
    "print('numbers_2d의 요소수 :', len(numbers_2d))"
   ]
  },
  {
   "cell_type": "code",
   "execution_count": 19,
   "metadata": {
    "ExecuteTime": {
     "end_time": "2021-03-01T13:53:05.099369Z",
     "start_time": "2021-03-01T13:53:05.090393Z"
    }
   },
   "outputs": [
    {
     "name": "stdout",
     "output_type": "stream",
     "text": [
      "numbers_2d[0]의 요소 수 : 5\n"
     ]
    }
   ],
   "source": [
    "print('numbers_2d[0]의 요소 수 :', len(numbers_2d[0]))"
   ]
  },
  {
   "cell_type": "code",
   "execution_count": 20,
   "metadata": {
    "ExecuteTime": {
     "end_time": "2021-03-01T13:53:16.824418Z",
     "start_time": "2021-03-01T13:53:16.807464Z"
    }
   },
   "outputs": [
    {
     "data": {
      "text/plain": [
       "(1, 5)"
      ]
     },
     "execution_count": 20,
     "metadata": {},
     "output_type": "execute_result"
    }
   ],
   "source": [
    "# 최소값 min, 최대값 max\n",
    "min(numbers), max(numbers)"
   ]
  },
  {
   "cell_type": "code",
   "execution_count": 21,
   "metadata": {
    "ExecuteTime": {
     "end_time": "2021-03-01T13:53:24.440644Z",
     "start_time": "2021-03-01T13:53:24.432665Z"
    }
   },
   "outputs": [
    {
     "data": {
      "text/plain": [
       "([1, 3, 5, 7, 9], [100, 2, 3, 4, 5])"
      ]
     },
     "execution_count": 21,
     "metadata": {},
     "output_type": "execute_result"
    }
   ],
   "source": [
    "# 2차원 리스트에서는 max()함수는 부분 리스트 중 첫 요소가 가장 큰 값을 갖는 리스트를 반환\n",
    "#                   min()함수는 부분 리스트 중 첫요소가 가장 작은 값을 갖는 리스트를 반환\n",
    "min(numbers_2d), max(numbers_2d)"
   ]
  },
  {
   "cell_type": "markdown",
   "metadata": {},
   "source": [
    "## 1.3 요소추가"
   ]
  },
  {
   "cell_type": "code",
   "execution_count": 22,
   "metadata": {
    "ExecuteTime": {
     "end_time": "2021-03-01T13:54:57.282880Z",
     "start_time": "2021-03-01T13:54:57.278926Z"
    }
   },
   "outputs": [],
   "source": [
    "# + 두리스트를 연결\n",
    "# * 리스트를 곱한 수 만큼 반복\n",
    "# append() 요소를 맨뒤에 추가\n",
    "# extend() 리스트를 요소별로 맨 뒤에 추가\n",
    "# insert() 지정된 index 위치에 삽입"
   ]
  },
  {
   "cell_type": "code",
   "execution_count": 23,
   "metadata": {
    "ExecuteTime": {
     "end_time": "2021-03-01T13:55:02.503161Z",
     "start_time": "2021-03-01T13:55:02.492191Z"
    }
   },
   "outputs": [
    {
     "data": {
      "text/plain": [
       "[1, 2, 3, 4, 5, 1, 2, 3, 4, 5]"
      ]
     },
     "execution_count": 23,
     "metadata": {},
     "output_type": "execute_result"
    }
   ],
   "source": [
    "numbers = [1,2,3,4,5]\n",
    "numbers = numbers + numbers # 리스트 연결\n",
    "numbers"
   ]
  },
  {
   "cell_type": "code",
   "execution_count": 25,
   "metadata": {
    "ExecuteTime": {
     "end_time": "2021-03-01T13:55:16.279756Z",
     "start_time": "2021-03-01T13:55:16.268784Z"
    }
   },
   "outputs": [
    {
     "name": "stdout",
     "output_type": "stream",
     "text": [
      "[1, 2, 3, 1, 2, 3, 1, 2, 3]\n"
     ]
    }
   ],
   "source": [
    "numbers = [1,2,3]\n",
    "print(numbers * 3) # 반복"
   ]
  },
  {
   "cell_type": "code",
   "execution_count": 26,
   "metadata": {
    "ExecuteTime": {
     "end_time": "2021-03-01T13:55:25.243296Z",
     "start_time": "2021-03-01T13:55:25.235313Z"
    }
   },
   "outputs": [
    {
     "name": "stdout",
     "output_type": "stream",
     "text": [
      "ABCABCABC\n"
     ]
    }
   ],
   "source": [
    "print('ABC'*3)"
   ]
  },
  {
   "cell_type": "code",
   "execution_count": 27,
   "metadata": {
    "ExecuteTime": {
     "end_time": "2021-03-01T13:55:39.180750Z",
     "start_time": "2021-03-01T13:55:39.170752Z"
    }
   },
   "outputs": [
    {
     "data": {
      "text/plain": [
       "[1, 2, 3, 4]"
      ]
     },
     "execution_count": 27,
     "metadata": {},
     "output_type": "execute_result"
    }
   ],
   "source": [
    "# append()함수 이용\n",
    "numbers = [1,2,3]\n",
    "numbers.append(4) # 요소의 맨 뒤에 추가\n",
    "numbers"
   ]
  },
  {
   "cell_type": "code",
   "execution_count": 28,
   "metadata": {
    "ExecuteTime": {
     "end_time": "2021-03-01T13:55:52.334709Z",
     "start_time": "2021-03-01T13:55:52.312768Z"
    }
   },
   "outputs": [
    {
     "data": {
      "text/plain": [
       "[1, 2, 3, 4, 5, 6]"
      ]
     },
     "execution_count": 28,
     "metadata": {},
     "output_type": "execute_result"
    }
   ],
   "source": [
    "# extend() \n",
    "numbers = [1,2,3]\n",
    "num     = [4,5,6]\n",
    "numbers.extend(num)\n",
    "numbers"
   ]
  },
  {
   "cell_type": "code",
   "execution_count": 29,
   "metadata": {
    "ExecuteTime": {
     "end_time": "2021-03-01T13:56:08.187119Z",
     "start_time": "2021-03-01T13:56:08.177182Z"
    }
   },
   "outputs": [
    {
     "data": {
      "text/plain": [
       "[1, 2, 3, 4, 5, 6, 'H', 'e', 'l', 'l', 'o']"
      ]
     },
     "execution_count": 29,
     "metadata": {},
     "output_type": "execute_result"
    }
   ],
   "source": [
    "numbers.extend('Hello')\n",
    "numbers"
   ]
  },
  {
   "cell_type": "code",
   "execution_count": 30,
   "metadata": {
    "ExecuteTime": {
     "end_time": "2021-03-01T13:56:23.741955Z",
     "start_time": "2021-03-01T13:56:23.725998Z"
    }
   },
   "outputs": [
    {
     "data": {
      "text/plain": [
       "[1, 'xx', 2, 3, 4, 5]"
      ]
     },
     "execution_count": 30,
     "metadata": {},
     "output_type": "execute_result"
    }
   ],
   "source": [
    "# insert(idx, 추가할내용) : idx번째 인덱스에 추가할내용 삽입\n",
    "numbers = [1,2,3,4,5]\n",
    "numbers.insert(1, 'xx')\n",
    "numbers"
   ]
  },
  {
   "cell_type": "markdown",
   "metadata": {},
   "source": [
    "## 1.4 인덱싱"
   ]
  },
  {
   "cell_type": "markdown",
   "metadata": {},
   "source": [
    "- count() ; 리스트에서 데이터의 갯수 반환\n",
    "- index() ; 해당 요소의 위치 반환\n",
    "- [index] ; 인덱스를 이용한 접근"
   ]
  },
  {
   "cell_type": "code",
   "execution_count": 31,
   "metadata": {
    "ExecuteTime": {
     "end_time": "2021-03-01T13:57:03.185582Z",
     "start_time": "2021-03-01T13:57:03.172618Z"
    }
   },
   "outputs": [
    {
     "name": "stdout",
     "output_type": "stream",
     "text": [
      "[1, 2, 3, [1, 2, 3], 1, 2, 3]\n",
      "[[1, 2, 3], [1, 2, 3]]\n"
     ]
    }
   ],
   "source": [
    "numbers = [1,2,3, [1,2,3], 1,2,3]\n",
    "numbers_2d = [[1,2,3],[1,2,3]]\n",
    "print(numbers)\n",
    "print(numbers_2d)"
   ]
  },
  {
   "cell_type": "code",
   "execution_count": 32,
   "metadata": {
    "ExecuteTime": {
     "end_time": "2021-03-01T13:57:34.313156Z",
     "start_time": "2021-03-01T13:57:34.305174Z"
    }
   },
   "outputs": [
    {
     "data": {
      "text/plain": [
       "2"
      ]
     },
     "execution_count": 32,
     "metadata": {},
     "output_type": "execute_result"
    }
   ],
   "source": [
    "numbers.count(2) # 2가 몇개 있는지"
   ]
  },
  {
   "cell_type": "code",
   "execution_count": 33,
   "metadata": {
    "ExecuteTime": {
     "end_time": "2021-03-01T13:57:40.710226Z",
     "start_time": "2021-03-01T13:57:40.701218Z"
    }
   },
   "outputs": [
    {
     "data": {
      "text/plain": [
       "0"
      ]
     },
     "execution_count": 33,
     "metadata": {},
     "output_type": "execute_result"
    }
   ],
   "source": [
    "numbers.count(9)"
   ]
  },
  {
   "cell_type": "code",
   "execution_count": 34,
   "metadata": {
    "ExecuteTime": {
     "end_time": "2021-03-01T13:57:45.903006Z",
     "start_time": "2021-03-01T13:57:45.888015Z"
    }
   },
   "outputs": [
    {
     "data": {
      "text/plain": [
       "1"
      ]
     },
     "execution_count": 34,
     "metadata": {},
     "output_type": "execute_result"
    }
   ],
   "source": [
    "numbers.count([1,2,3])"
   ]
  },
  {
   "cell_type": "code",
   "execution_count": 35,
   "metadata": {
    "ExecuteTime": {
     "end_time": "2021-03-01T13:57:49.619215Z",
     "start_time": "2021-03-01T13:57:49.598271Z"
    }
   },
   "outputs": [
    {
     "data": {
      "text/plain": [
       "0"
      ]
     },
     "execution_count": 35,
     "metadata": {},
     "output_type": "execute_result"
    }
   ],
   "source": [
    "numbers_2d.count(2)"
   ]
  },
  {
   "cell_type": "code",
   "execution_count": 36,
   "metadata": {
    "ExecuteTime": {
     "end_time": "2021-03-01T13:57:54.180709Z",
     "start_time": "2021-03-01T13:57:54.162733Z"
    }
   },
   "outputs": [
    {
     "data": {
      "text/plain": [
       "2"
      ]
     },
     "execution_count": 36,
     "metadata": {},
     "output_type": "execute_result"
    }
   ],
   "source": [
    "numbers_2d.count([1,2,3])"
   ]
  },
  {
   "cell_type": "code",
   "execution_count": 37,
   "metadata": {
    "ExecuteTime": {
     "end_time": "2021-03-01T13:58:13.815258Z",
     "start_time": "2021-03-01T13:58:13.803322Z"
    }
   },
   "outputs": [
    {
     "data": {
      "text/plain": [
       "1"
      ]
     },
     "execution_count": 37,
     "metadata": {},
     "output_type": "execute_result"
    }
   ],
   "source": [
    "# 0번째 인덱스부터 처음 나오는 2의 인덱스\n",
    "numbers.index(2)"
   ]
  },
  {
   "cell_type": "code",
   "execution_count": 38,
   "metadata": {
    "ExecuteTime": {
     "end_time": "2021-03-01T13:58:24.189915Z",
     "start_time": "2021-03-01T13:58:24.175953Z"
    }
   },
   "outputs": [
    {
     "data": {
      "text/plain": [
       "5"
      ]
     },
     "execution_count": 38,
     "metadata": {},
     "output_type": "execute_result"
    }
   ],
   "source": [
    "# 4번째 인덱스 이후부터 처음 나오는 2의 인덱스\n",
    "numbers = [1,2,3, [1,2,3], 1,2,3]\n",
    "numbers.index(2, 4)"
   ]
  },
  {
   "cell_type": "code",
   "execution_count": 39,
   "metadata": {
    "ExecuteTime": {
     "end_time": "2021-03-01T13:59:03.645947Z",
     "start_time": "2021-03-01T13:59:03.317213Z"
    }
   },
   "outputs": [
    {
     "name": "stdout",
     "output_type": "stream",
     "text": [
      "0\n"
     ]
    },
    {
     "ename": "ValueError",
     "evalue": "9 is not in list",
     "output_type": "error",
     "traceback": [
      "\u001b[1;31m---------------------------------------------------------------------------\u001b[0m",
      "\u001b[1;31mValueError\u001b[0m                                Traceback (most recent call last)",
      "\u001b[1;32m<ipython-input-39-d0ea809aeb83>\u001b[0m in \u001b[0;36m<module>\u001b[1;34m\u001b[0m\n\u001b[0;32m      1\u001b[0m \u001b[0mprint\u001b[0m\u001b[1;33m(\u001b[0m\u001b[0mnumbers\u001b[0m\u001b[1;33m.\u001b[0m\u001b[0mcount\u001b[0m\u001b[1;33m(\u001b[0m\u001b[1;36m9\u001b[0m\u001b[1;33m)\u001b[0m\u001b[1;33m)\u001b[0m\u001b[1;33m\u001b[0m\u001b[1;33m\u001b[0m\u001b[0m\n\u001b[1;32m----> 2\u001b[1;33m \u001b[0mprint\u001b[0m\u001b[1;33m(\u001b[0m\u001b[0mnumbers\u001b[0m\u001b[1;33m.\u001b[0m\u001b[0mindex\u001b[0m\u001b[1;33m(\u001b[0m\u001b[1;36m9\u001b[0m\u001b[1;33m)\u001b[0m\u001b[1;33m)\u001b[0m \u001b[1;31m# index함수는 없는 값을 찾으면 에러\u001b[0m\u001b[1;33m\u001b[0m\u001b[1;33m\u001b[0m\u001b[0m\n\u001b[0m",
      "\u001b[1;31mValueError\u001b[0m: 9 is not in list"
     ]
    }
   ],
   "source": [
    "print(numbers.count(9))\n",
    "print(numbers.index(9)) # index함수는 없는 값을 찾으면 에러"
   ]
  },
  {
   "cell_type": "code",
   "execution_count": 40,
   "metadata": {
    "ExecuteTime": {
     "end_time": "2021-03-01T13:59:20.434366Z",
     "start_time": "2021-03-01T13:59:20.417413Z"
    }
   },
   "outputs": [
    {
     "ename": "IndexError",
     "evalue": "list index out of range",
     "output_type": "error",
     "traceback": [
      "\u001b[1;31m---------------------------------------------------------------------------\u001b[0m",
      "\u001b[1;31mIndexError\u001b[0m                                Traceback (most recent call last)",
      "\u001b[1;32m<ipython-input-40-45faafe069d2>\u001b[0m in \u001b[0;36m<module>\u001b[1;34m\u001b[0m\n\u001b[1;32m----> 1\u001b[1;33m \u001b[0mnumbers\u001b[0m\u001b[1;33m[\u001b[0m\u001b[1;36m7\u001b[0m\u001b[1;33m]\u001b[0m \u001b[1;31m# 인덱스의 범위를 벗어나면 에러 발생\u001b[0m\u001b[1;33m\u001b[0m\u001b[1;33m\u001b[0m\u001b[0m\n\u001b[0m",
      "\u001b[1;31mIndexError\u001b[0m: list index out of range"
     ]
    }
   ],
   "source": [
    "numbers[7] # 인덱스의 범위를 벗어나면 에러 발생"
   ]
  },
  {
   "cell_type": "markdown",
   "metadata": {},
   "source": [
    "## 1.5 원하는 리스트 내용만 추출 ; 리스트 슬라이싱 - 인덱스 보다 많이 씀"
   ]
  },
  {
   "cell_type": "markdown",
   "metadata": {},
   "source": [
    "- [from : to : by] ; from부터 to 바로 앞까지 by번 증가하는 index 아이템 추출\n",
    "               from,to,by 생략 가능\n",
    "               인덱스는 음수 가능"
   ]
  },
  {
   "cell_type": "code",
   "execution_count": 41,
   "metadata": {
    "ExecuteTime": {
     "end_time": "2021-03-01T14:00:07.099037Z",
     "start_time": "2021-03-01T14:00:07.085043Z"
    }
   },
   "outputs": [],
   "source": [
    "numbers = [1,2,3,4,5]"
   ]
  },
  {
   "cell_type": "code",
   "execution_count": 42,
   "metadata": {
    "ExecuteTime": {
     "end_time": "2021-03-01T14:00:12.173820Z",
     "start_time": "2021-03-01T14:00:12.161890Z"
    }
   },
   "outputs": [
    {
     "data": {
      "text/plain": [
       "[3, 4, 5]"
      ]
     },
     "execution_count": 42,
     "metadata": {},
     "output_type": "execute_result"
    }
   ],
   "source": [
    "numbers[2:9] # 2부터 9번 인덱스 바로 앞까지(해당 인덱스가 없을 경우 끝까지)"
   ]
  },
  {
   "cell_type": "code",
   "execution_count": 43,
   "metadata": {
    "ExecuteTime": {
     "end_time": "2021-03-01T14:00:23.273242Z",
     "start_time": "2021-03-01T14:00:23.255290Z"
    }
   },
   "outputs": [
    {
     "data": {
      "text/plain": [
       "[5, 4, 3, 2, 1]"
      ]
     },
     "execution_count": 43,
     "metadata": {},
     "output_type": "execute_result"
    }
   ],
   "source": [
    "numbers[::-1]"
   ]
  },
  {
   "cell_type": "code",
   "execution_count": 44,
   "metadata": {
    "ExecuteTime": {
     "end_time": "2021-03-01T14:00:30.392651Z",
     "start_time": "2021-03-01T14:00:30.380708Z"
    }
   },
   "outputs": [
    {
     "data": {
      "text/plain": [
       "[1, 2, 3, 4, 5]"
      ]
     },
     "execution_count": 44,
     "metadata": {},
     "output_type": "execute_result"
    }
   ],
   "source": [
    "numbers[::]"
   ]
  },
  {
   "cell_type": "code",
   "execution_count": 45,
   "metadata": {
    "ExecuteTime": {
     "end_time": "2021-03-01T14:00:37.231122Z",
     "start_time": "2021-03-01T14:00:37.214160Z"
    }
   },
   "outputs": [
    {
     "data": {
      "text/plain": [
       "[1, 2, 3, 4]"
      ]
     },
     "execution_count": 45,
     "metadata": {},
     "output_type": "execute_result"
    }
   ],
   "source": [
    "numbers[-5:-1]"
   ]
  },
  {
   "cell_type": "code",
   "execution_count": 46,
   "metadata": {
    "ExecuteTime": {
     "end_time": "2021-03-01T14:02:31.385466Z",
     "start_time": "2021-03-01T14:02:31.374535Z"
    }
   },
   "outputs": [
    {
     "data": {
      "text/plain": [
       "[]"
      ]
     },
     "execution_count": 46,
     "metadata": {},
     "output_type": "execute_result"
    }
   ],
   "source": [
    "numbers[-1:-5] # -1부터 -5바로 전까지 by(1)씩 인덱스를 전진하며 액세스"
   ]
  },
  {
   "cell_type": "code",
   "execution_count": 47,
   "metadata": {
    "ExecuteTime": {
     "end_time": "2021-03-01T14:03:42.064287Z",
     "start_time": "2021-03-01T14:03:42.055311Z"
    }
   },
   "outputs": [
    {
     "data": {
      "text/plain": [
       "[[10, 20, 30], [11, 12, 13]]"
      ]
     },
     "execution_count": 47,
     "metadata": {},
     "output_type": "execute_result"
    }
   ],
   "source": [
    "numbers_2d = [[1,2,3],[10,20,30],[11,12,13],[21,22,23]]\n",
    "numbers_2d[1:3]"
   ]
  },
  {
   "cell_type": "code",
   "execution_count": 48,
   "metadata": {
    "ExecuteTime": {
     "end_time": "2021-03-01T14:03:54.341967Z",
     "start_time": "2021-03-01T14:03:54.326010Z"
    }
   },
   "outputs": [
    {
     "data": {
      "text/plain": [
       "[2, 3]"
      ]
     },
     "execution_count": 48,
     "metadata": {},
     "output_type": "execute_result"
    }
   ],
   "source": [
    "numbers_2d[0][1:3]"
   ]
  },
  {
   "cell_type": "code",
   "execution_count": 49,
   "metadata": {
    "ExecuteTime": {
     "end_time": "2021-03-01T14:03:59.868286Z",
     "start_time": "2021-03-01T14:03:59.857316Z"
    }
   },
   "outputs": [],
   "source": [
    "# 람다식을 이용해서 list의 원하는 데이터 액세스"
   ]
  },
  {
   "cell_type": "code",
   "execution_count": 50,
   "metadata": {
    "ExecuteTime": {
     "end_time": "2021-03-01T14:04:15.843166Z",
     "start_time": "2021-03-01T14:04:15.825216Z"
    }
   },
   "outputs": [
    {
     "data": {
      "text/plain": [
       "[1, 3, 5, 9, 10, 12, 13, 18, 19, 20]"
      ]
     },
     "execution_count": 50,
     "metadata": {},
     "output_type": "execute_result"
    }
   ],
   "source": [
    "numbers = [1,3,5,9,10,12,13,18,19,20]\n",
    "# 모든 데이터 다 가져오기\n",
    "#for data in numbers:\n",
    "#    print(data)\n",
    "[data for data in numbers]"
   ]
  },
  {
   "cell_type": "code",
   "execution_count": 51,
   "metadata": {
    "ExecuteTime": {
     "end_time": "2021-03-01T14:04:37.844622Z",
     "start_time": "2021-03-01T14:04:37.834644Z"
    }
   },
   "outputs": [
    {
     "data": {
      "text/plain": [
       "[10, 12, 18, 20]"
      ]
     },
     "execution_count": 51,
     "metadata": {},
     "output_type": "execute_result"
    }
   ],
   "source": [
    "# 짝수 데이터만 가져오기\n",
    "#for x in numbers:\n",
    "#    if x%2 == 0:\n",
    "#        print(x)\n",
    "[x for x in numbers if x%2==0]"
   ]
  },
  {
   "cell_type": "code",
   "execution_count": 52,
   "metadata": {
    "ExecuteTime": {
     "end_time": "2021-03-01T14:05:05.553423Z",
     "start_time": "2021-03-01T14:05:05.539460Z"
    }
   },
   "outputs": [
    {
     "data": {
      "text/plain": [
       "[10, 12, 13, 18, 19, 20]"
      ]
     },
     "execution_count": 52,
     "metadata": {},
     "output_type": "execute_result"
    }
   ],
   "source": [
    "# 10이상의 데이터만 가져오기\n",
    "[x for x in numbers if x>=10]"
   ]
  },
  {
   "cell_type": "code",
   "execution_count": 53,
   "metadata": {
    "ExecuteTime": {
     "end_time": "2021-03-01T14:05:13.203831Z",
     "start_time": "2021-03-01T14:05:13.182861Z"
    }
   },
   "outputs": [
    {
     "data": {
      "text/plain": [
       "['orange', 'apple', 'mango']"
      ]
     },
     "execution_count": 53,
     "metadata": {},
     "output_type": "execute_result"
    }
   ],
   "source": [
    "# 과일의 글씨가 5글자 이상인 과일만 추출\n",
    "fruits = ['orange', 'apple', 'mango', 'kiwi']\n",
    "[fruit for fruit in fruits if len(fruit)>=5]"
   ]
  },
  {
   "cell_type": "code",
   "execution_count": 54,
   "metadata": {
    "ExecuteTime": {
     "end_time": "2021-03-01T14:05:23.611950Z",
     "start_time": "2021-03-01T14:05:23.599984Z"
    }
   },
   "outputs": [
    {
     "data": {
      "text/plain": [
       "[1, 4, 9, 16, 25]"
      ]
     },
     "execution_count": 54,
     "metadata": {},
     "output_type": "execute_result"
    }
   ],
   "source": [
    "# 리스트 값의 제곱을 추출하라\n",
    "L = [1,2,3,4,5]\n",
    "[x**2 for x in L]"
   ]
  },
  {
   "cell_type": "code",
   "execution_count": 55,
   "metadata": {
    "ExecuteTime": {
     "end_time": "2021-03-01T14:05:32.898853Z",
     "start_time": "2021-03-01T14:05:32.884892Z"
    }
   },
   "outputs": [
    {
     "data": {
      "text/plain": [
       "[1, 8, 27, 64, 125]"
      ]
     },
     "execution_count": 55,
     "metadata": {},
     "output_type": "execute_result"
    }
   ],
   "source": [
    "# 리스트 값의 세제곱을 추출하라\n",
    "L = [1,2,3,4,5]\n",
    "[x**3 for x in L]"
   ]
  },
  {
   "cell_type": "code",
   "execution_count": 56,
   "metadata": {
    "ExecuteTime": {
     "end_time": "2021-03-01T14:05:39.745348Z",
     "start_time": "2021-03-01T14:05:39.732384Z"
    }
   },
   "outputs": [
    {
     "data": {
      "text/plain": [
       "[2, 4, 6, 8, 10]"
      ]
     },
     "execution_count": 56,
     "metadata": {},
     "output_type": "execute_result"
    }
   ],
   "source": [
    "# 리스트 값의 두배의 수를 추출하라\n",
    "L = [1,2,3,4,5]\n",
    "[x*2 for x in L]"
   ]
  },
  {
   "cell_type": "markdown",
   "metadata": {},
   "source": [
    "## 1.6 요소 수정하기"
   ]
  },
  {
   "cell_type": "code",
   "execution_count": 57,
   "metadata": {
    "ExecuteTime": {
     "end_time": "2021-03-01T14:06:01.995529Z",
     "start_time": "2021-03-01T14:06:01.980568Z"
    }
   },
   "outputs": [
    {
     "data": {
      "text/plain": [
       "[0, 1, 2, 3, 4, 5, 6, 7, 8, 9]"
      ]
     },
     "execution_count": 57,
     "metadata": {},
     "output_type": "execute_result"
    }
   ],
   "source": [
    "numbers = [0,1,2,3,4,5,6,7,8,9]\n",
    "numbers"
   ]
  },
  {
   "cell_type": "code",
   "execution_count": 58,
   "metadata": {
    "ExecuteTime": {
     "end_time": "2021-03-01T14:06:10.829857Z",
     "start_time": "2021-03-01T14:06:10.816936Z"
    }
   },
   "outputs": [
    {
     "data": {
      "text/plain": [
       "[0, 1, 222, 3, 4, 5, 6, 7, 8, 9]"
      ]
     },
     "execution_count": 58,
     "metadata": {},
     "output_type": "execute_result"
    }
   ],
   "source": [
    "numbers[2] = 222\n",
    "numbers"
   ]
  },
  {
   "cell_type": "code",
   "execution_count": 59,
   "metadata": {
    "ExecuteTime": {
     "end_time": "2021-03-01T14:06:20.626562Z",
     "start_time": "2021-03-01T14:06:20.607642Z"
    }
   },
   "outputs": [
    {
     "data": {
      "text/plain": [
       "[111, 111, 111, 111, 111, 111, 111, 5, 6, 7, 8, 9]"
      ]
     },
     "execution_count": 59,
     "metadata": {},
     "output_type": "execute_result"
    }
   ],
   "source": [
    "# 부분리스트를 통째로 바꿈(by없이 슬라이싱)\n",
    "numbers[0:5]=[111,111,111,111,111,111,111] \n",
    "numbers"
   ]
  },
  {
   "cell_type": "code",
   "execution_count": 60,
   "metadata": {
    "ExecuteTime": {
     "end_time": "2021-03-01T14:06:31.732965Z",
     "start_time": "2021-03-01T14:06:31.714014Z"
    }
   },
   "outputs": [
    {
     "data": {
      "text/plain": [
       "[5, 6, 7, 8, 9, 5, 6, 7, 8, 9]"
      ]
     },
     "execution_count": 60,
     "metadata": {},
     "output_type": "execute_result"
    }
   ],
   "source": [
    "numbers = [0,1,2,3,4,5,6,7,8,9]\n",
    "numbers[0:5] = numbers[5:]\n",
    "numbers"
   ]
  },
  {
   "cell_type": "code",
   "execution_count": 61,
   "metadata": {
    "ExecuteTime": {
     "end_time": "2021-03-01T14:06:59.281422Z",
     "start_time": "2021-03-01T14:06:59.266433Z"
    }
   },
   "outputs": [
    {
     "name": "stdout",
     "output_type": "stream",
     "text": [
      "수정전 : [0, 0, 0, 0, 0, 0, 0, 0, 0, 0]\n",
      "수정후 : [99, 0, 99, 0, 99, 0, 99, 0, 99, 0]\n"
     ]
    }
   ],
   "source": [
    "# 슬라이싱에서 by를 추가\n",
    "numbers = [0]*10\n",
    "print('수정전 :', numbers)\n",
    "numbers[::2] = [99,99,99,99,99]\n",
    "print('수정후 :', numbers)"
   ]
  },
  {
   "cell_type": "code",
   "execution_count": 62,
   "metadata": {
    "ExecuteTime": {
     "end_time": "2021-03-01T14:07:10.758378Z",
     "start_time": "2021-03-01T14:07:10.737408Z"
    }
   },
   "outputs": [
    {
     "ename": "ValueError",
     "evalue": "attempt to assign sequence of size 3 to extended slice of size 5",
     "output_type": "error",
     "traceback": [
      "\u001b[1;31m---------------------------------------------------------------------------\u001b[0m",
      "\u001b[1;31mValueError\u001b[0m                                Traceback (most recent call last)",
      "\u001b[1;32m<ipython-input-62-7d5e17c63e46>\u001b[0m in \u001b[0;36m<module>\u001b[1;34m\u001b[0m\n\u001b[0;32m      1\u001b[0m \u001b[1;31m# 슬라이싱에서 by가 포함될 경우 바꾸려는 값의 갯수가 맞아야 함\u001b[0m\u001b[1;33m\u001b[0m\u001b[1;33m\u001b[0m\u001b[1;33m\u001b[0m\u001b[0m\n\u001b[1;32m----> 2\u001b[1;33m \u001b[0mnumbers\u001b[0m\u001b[1;33m[\u001b[0m\u001b[1;33m:\u001b[0m\u001b[1;33m:\u001b[0m\u001b[1;36m2\u001b[0m\u001b[1;33m]\u001b[0m \u001b[1;33m=\u001b[0m \u001b[1;33m[\u001b[0m\u001b[1;36m11\u001b[0m\u001b[1;33m,\u001b[0m\u001b[1;36m11\u001b[0m\u001b[1;33m,\u001b[0m\u001b[1;36m11\u001b[0m\u001b[1;33m]\u001b[0m\u001b[1;33m\u001b[0m\u001b[1;33m\u001b[0m\u001b[0m\n\u001b[0m",
      "\u001b[1;31mValueError\u001b[0m: attempt to assign sequence of size 3 to extended slice of size 5"
     ]
    }
   ],
   "source": [
    "# 슬라이싱에서 by가 포함될 경우 바꾸려는 값의 갯수가 맞아야 함\n",
    "numbers[::2] = [11,11,11]"
   ]
  },
  {
   "cell_type": "markdown",
   "metadata": {},
   "source": [
    "## 1.7 삭제하기"
   ]
  },
  {
   "cell_type": "markdown",
   "metadata": {},
   "source": [
    "- pop() : 가장 마지막 요소가 반환되고 삭제. pop(n) : n번째 요소가 반환되고 삭제\n",
    "- remove() : remove(data) 해당 데이터가 삭제\n",
    "- del xx[n]"
   ]
  },
  {
   "cell_type": "code",
   "execution_count": 63,
   "metadata": {
    "ExecuteTime": {
     "end_time": "2021-03-01T14:08:01.183669Z",
     "start_time": "2021-03-01T14:08:01.170676Z"
    }
   },
   "outputs": [
    {
     "name": "stdout",
     "output_type": "stream",
     "text": [
      "[0, 1, 2, 3, 4, 5, 6, 7, 8, 9]\n",
      "9\n",
      "[0, 1, 2, 3, 4, 5, 6, 7, 8]\n"
     ]
    }
   ],
   "source": [
    "numbers = [0,1,2,3,4,5,6,7,8,9]\n",
    "print(numbers)\n",
    "print(numbers.pop())\n",
    "print(numbers)"
   ]
  },
  {
   "cell_type": "code",
   "execution_count": 64,
   "metadata": {
    "ExecuteTime": {
     "end_time": "2021-03-01T14:08:15.729526Z",
     "start_time": "2021-03-01T14:08:15.725569Z"
    }
   },
   "outputs": [
    {
     "name": "stdout",
     "output_type": "stream",
     "text": [
      "2\n",
      "[0, 1, 3, 4, 5, 6, 7, 8]\n"
     ]
    }
   ],
   "source": [
    "print(numbers.pop(2))\n",
    "print(numbers)"
   ]
  },
  {
   "cell_type": "code",
   "execution_count": 65,
   "metadata": {
    "ExecuteTime": {
     "end_time": "2021-03-01T14:08:41.274879Z",
     "start_time": "2021-03-01T14:08:41.257929Z"
    }
   },
   "outputs": [
    {
     "name": "stdout",
     "output_type": "stream",
     "text": [
      "pop전  [[1, 2, 3], [10, 20, 30], [100, 100, 100]]\n",
      "[100, 100, 100]\n",
      "pop후  [[1, 2, 3], [10, 20, 30]]\n"
     ]
    }
   ],
   "source": [
    "numbers_2d = [[1,2,3],[10,20,30],[100,100,100]]\n",
    "print('pop전 ', numbers_2d)\n",
    "print(numbers_2d.pop())\n",
    "print('pop후 ', numbers_2d)"
   ]
  },
  {
   "cell_type": "code",
   "execution_count": 66,
   "metadata": {
    "ExecuteTime": {
     "end_time": "2021-03-01T14:08:55.265412Z",
     "start_time": "2021-03-01T14:08:55.250494Z"
    }
   },
   "outputs": [
    {
     "name": "stdout",
     "output_type": "stream",
     "text": [
      "None\n",
      "[0, 1, 3, 4, 6, 7, 8, 9]\n"
     ]
    }
   ],
   "source": [
    "numbers = [0, 1, 3, 4, 5, 6, 7, 8, 9]\n",
    "print(numbers.remove(5)) # remove는 반환값이 없음\n",
    "print(numbers)"
   ]
  },
  {
   "cell_type": "code",
   "execution_count": 67,
   "metadata": {
    "ExecuteTime": {
     "end_time": "2021-03-01T14:09:08.988353Z",
     "start_time": "2021-03-01T14:09:08.980347Z"
    }
   },
   "outputs": [
    {
     "ename": "ValueError",
     "evalue": "list.remove(x): x not in list",
     "output_type": "error",
     "traceback": [
      "\u001b[1;31m---------------------------------------------------------------------------\u001b[0m",
      "\u001b[1;31mValueError\u001b[0m                                Traceback (most recent call last)",
      "\u001b[1;32m<ipython-input-67-e135bee966a8>\u001b[0m in \u001b[0;36m<module>\u001b[1;34m\u001b[0m\n\u001b[1;32m----> 1\u001b[1;33m \u001b[0mnumbers\u001b[0m\u001b[1;33m.\u001b[0m\u001b[0mremove\u001b[0m\u001b[1;33m(\u001b[0m\u001b[1;36m99\u001b[0m\u001b[1;33m)\u001b[0m \u001b[1;31m# 없는 값을 remove할 경우 error\u001b[0m\u001b[1;33m\u001b[0m\u001b[1;33m\u001b[0m\u001b[0m\n\u001b[0m",
      "\u001b[1;31mValueError\u001b[0m: list.remove(x): x not in list"
     ]
    }
   ],
   "source": [
    "numbers.remove(99) # 없는 값을 remove할 경우 error"
   ]
  },
  {
   "cell_type": "code",
   "execution_count": 68,
   "metadata": {
    "ExecuteTime": {
     "end_time": "2021-03-01T14:09:25.143036Z",
     "start_time": "2021-03-01T14:09:25.132067Z"
    }
   },
   "outputs": [
    {
     "name": "stdout",
     "output_type": "stream",
     "text": [
      "[0, 1, 3, 4, 6, 7, 8, 9]\n",
      "[0, 1, 4, 6, 7, 8, 9]\n"
     ]
    }
   ],
   "source": [
    "print(numbers)\n",
    "del numbers[2] # 변수 삭제\n",
    "print(numbers)"
   ]
  },
  {
   "cell_type": "code",
   "execution_count": 69,
   "metadata": {
    "ExecuteTime": {
     "end_time": "2021-03-01T14:09:41.358830Z",
     "start_time": "2021-03-01T14:09:41.340906Z"
    }
   },
   "outputs": [
    {
     "ename": "NameError",
     "evalue": "name 'numbers' is not defined",
     "output_type": "error",
     "traceback": [
      "\u001b[1;31m---------------------------------------------------------------------------\u001b[0m",
      "\u001b[1;31mNameError\u001b[0m                                 Traceback (most recent call last)",
      "\u001b[1;32m<ipython-input-69-ace1044fa32e>\u001b[0m in \u001b[0;36m<module>\u001b[1;34m\u001b[0m\n\u001b[0;32m      1\u001b[0m \u001b[1;32mdel\u001b[0m \u001b[0mnumbers\u001b[0m\u001b[1;33m\u001b[0m\u001b[1;33m\u001b[0m\u001b[0m\n\u001b[1;32m----> 2\u001b[1;33m \u001b[0mnumbers\u001b[0m\u001b[1;33m\u001b[0m\u001b[1;33m\u001b[0m\u001b[0m\n\u001b[0m",
      "\u001b[1;31mNameError\u001b[0m: name 'numbers' is not defined"
     ]
    }
   ],
   "source": [
    "del numbers\n",
    "numbers"
   ]
  },
  {
   "cell_type": "code",
   "execution_count": 71,
   "metadata": {
    "ExecuteTime": {
     "end_time": "2021-03-01T14:09:54.435074Z",
     "start_time": "2021-03-01T14:09:54.414159Z"
    }
   },
   "outputs": [
    {
     "name": "stdout",
     "output_type": "stream",
     "text": [
      "clear전 : [0, 1, 2, 3, 4]\n",
      "clear후 : []\n"
     ]
    }
   ],
   "source": [
    "numbers = [0,1,2,3,4]\n",
    "print('clear전 :',numbers)\n",
    "numbers.clear()\n",
    "#del numbers[:]\n",
    "print('clear후 :',numbers)"
   ]
  },
  {
   "cell_type": "markdown",
   "metadata": {},
   "source": [
    "## 1.8 정렬하기"
   ]
  },
  {
   "cell_type": "code",
   "execution_count": 72,
   "metadata": {
    "ExecuteTime": {
     "end_time": "2021-03-01T14:10:12.684809Z",
     "start_time": "2021-03-01T14:10:12.670815Z"
    }
   },
   "outputs": [
    {
     "data": {
      "text/plain": [
       "[0, 1, 2, 4, 5, 6, 8, 9]"
      ]
     },
     "execution_count": 72,
     "metadata": {},
     "output_type": "execute_result"
    }
   ],
   "source": [
    "numbers = [9,5,1,0,6,4,2,8]\n",
    "numbers.sort() # 기본 정렬 오름차순. sort()실행 후 리스트가 바뀜\n",
    "numbers"
   ]
  },
  {
   "cell_type": "code",
   "execution_count": 73,
   "metadata": {
    "ExecuteTime": {
     "end_time": "2021-03-01T14:10:43.489800Z",
     "start_time": "2021-03-01T14:10:43.476864Z"
    }
   },
   "outputs": [
    {
     "data": {
      "text/plain": [
       "[9, 8, 6, 5, 4, 2, 1, 0]"
      ]
     },
     "execution_count": 73,
     "metadata": {},
     "output_type": "execute_result"
    }
   ],
   "source": [
    "numbers = [9,5,1,0,6,4,2,8]\n",
    "numbers.sort() # 기본 정렬 오름차순. sort()실행 후 리스트가 바뀜\n",
    "numbers[::-1] # 내림차순처럼 보이나 numbers 내림차순으로 정렬된 것이 저장되지 않음"
   ]
  },
  {
   "cell_type": "code",
   "execution_count": 74,
   "metadata": {
    "ExecuteTime": {
     "end_time": "2021-03-01T14:10:58.300268Z",
     "start_time": "2021-03-01T14:10:58.283281Z"
    }
   },
   "outputs": [
    {
     "data": {
      "text/plain": [
       "[0, 1, 2, 4, 5, 6, 8, 9]"
      ]
     },
     "execution_count": 74,
     "metadata": {},
     "output_type": "execute_result"
    }
   ],
   "source": [
    "numbers"
   ]
  },
  {
   "cell_type": "code",
   "execution_count": 75,
   "metadata": {
    "ExecuteTime": {
     "end_time": "2021-03-01T14:11:04.631793Z",
     "start_time": "2021-03-01T14:11:04.619853Z"
    }
   },
   "outputs": [
    {
     "data": {
      "text/plain": [
       "[9, 8, 6, 5, 4, 2, 1, 0]"
      ]
     },
     "execution_count": 75,
     "metadata": {},
     "output_type": "execute_result"
    }
   ],
   "source": [
    "numbers.sort(reverse=True) # 내림차순 정렬. 리스트 내용도 적용\n",
    "numbers"
   ]
  },
  {
   "cell_type": "code",
   "execution_count": 76,
   "metadata": {
    "ExecuteTime": {
     "end_time": "2021-03-01T14:11:14.042996Z",
     "start_time": "2021-03-01T14:11:14.029033Z"
    }
   },
   "outputs": [
    {
     "data": {
      "text/plain": [
       "[0, 1, 2, 4, 5, 6, 8, 9]"
      ]
     },
     "execution_count": 76,
     "metadata": {},
     "output_type": "execute_result"
    }
   ],
   "source": [
    "numbers.reverse() # 리스트를 역순으로 변경\n",
    "numbers"
   ]
  },
  {
   "cell_type": "code",
   "execution_count": 77,
   "metadata": {
    "ExecuteTime": {
     "end_time": "2021-03-01T14:11:24.963664Z",
     "start_time": "2021-03-01T14:11:24.945715Z"
    }
   },
   "outputs": [
    {
     "data": {
      "text/plain": [
       "[9, 8, 6, 5, 4, 2, 1, 0]"
      ]
     },
     "execution_count": 77,
     "metadata": {},
     "output_type": "execute_result"
    }
   ],
   "source": [
    "numbers = numbers[::-1] # reverse()함수와 같은 명령\n",
    "numbers"
   ]
  },
  {
   "cell_type": "markdown",
   "metadata": {},
   "source": [
    "## 1.9 리스트 복제"
   ]
  },
  {
   "cell_type": "code",
   "execution_count": 78,
   "metadata": {
    "ExecuteTime": {
     "end_time": "2021-03-01T14:11:53.818730Z",
     "start_time": "2021-03-01T14:11:53.800789Z"
    }
   },
   "outputs": [
    {
     "name": "stdout",
     "output_type": "stream",
     "text": [
      "정렬전 데이터 : [2, 4, 6, 7, 10]\n",
      "정렬후 데이터 : [2, 4, 6, 7, 10]\n",
      "new_numbers 주소 : 1377177782528\n",
      "numbers 주소 : 1377177782528\n"
     ]
    }
   ],
   "source": [
    "numbers = [6,2,7,4,10]\n",
    "new_numbers = numbers # numbers에 있는 주소값이  new_numbers로\n",
    "numbers.sort()   # numbers는 정렬된 데이터로\n",
    "print('정렬전 데이터 :', new_numbers)\n",
    "print('정렬후 데이터 :', numbers)\n",
    "print('new_numbers 주소 :',id(new_numbers))\n",
    "print('numbers 주소 :',id(numbers))"
   ]
  },
  {
   "cell_type": "code",
   "execution_count": 79,
   "metadata": {
    "ExecuteTime": {
     "end_time": "2021-03-01T14:12:16.045442Z",
     "start_time": "2021-03-01T14:12:16.030482Z"
    }
   },
   "outputs": [
    {
     "name": "stdout",
     "output_type": "stream",
     "text": [
      "정렬전 : [6, 2, 7, 4, 10]\n",
      "정렬후 : [2, 4, 6, 7, 10]\n",
      "new_numbers 주소 : 1377176927936\n",
      "numbers 주소 : 1377176924480\n"
     ]
    }
   ],
   "source": [
    "# 복제\n",
    "numbers = [6,2,7,4,10]\n",
    "new_numbers = numbers.copy() # new_number에 number 데이터를 복제\n",
    "numbers.sort()\n",
    "print('정렬전 :',new_numbers)\n",
    "print('정렬후 :',numbers)\n",
    "print('new_numbers 주소 :',id(new_numbers))\n",
    "print('numbers 주소 :',id(numbers))"
   ]
  },
  {
   "cell_type": "code",
   "execution_count": 80,
   "metadata": {
    "ExecuteTime": {
     "end_time": "2021-03-01T14:12:45.050203Z",
     "start_time": "2021-03-01T14:12:45.035277Z"
    }
   },
   "outputs": [
    {
     "data": {
      "text/plain": [
       "['광주', '대구', '부산', '서울', '울산', '인천']"
      ]
     },
     "execution_count": 80,
     "metadata": {},
     "output_type": "execute_result"
    }
   ],
   "source": [
    "city = ['서울','부산','대구','인천','광주','울산']\n",
    "city.sort()\n",
    "city"
   ]
  },
  {
   "cell_type": "code",
   "execution_count": 81,
   "metadata": {
    "ExecuteTime": {
     "end_time": "2021-03-01T14:12:53.375015Z",
     "start_time": "2021-03-01T14:12:53.359032Z"
    }
   },
   "outputs": [
    {
     "data": {
      "text/plain": [
       "'광주 대구 부산 서울 울산 인천'"
      ]
     },
     "execution_count": 81,
     "metadata": {},
     "output_type": "execute_result"
    }
   ],
   "source": [
    "' '.join(city)"
   ]
  },
  {
   "cell_type": "markdown",
   "metadata": {},
   "source": [
    "# 2절. 튜플"
   ]
  },
  {
   "cell_type": "markdown",
   "metadata": {},
   "source": [
    "- 리스트와 유사하지만, 읽기 전용. 수정이 필요없는 데이터타입에서 사용\n",
    "- 수정이 불가하므로 튜플에 데이터 추가, 수정, 삭제 불가. 제공되는 함수도 많지 않음\n",
    "- ()이용해서 생성."
   ]
  },
  {
   "cell_type": "code",
   "execution_count": 82,
   "metadata": {
    "ExecuteTime": {
     "end_time": "2021-03-01T14:13:34.432915Z",
     "start_time": "2021-03-01T14:13:34.418922Z"
    }
   },
   "outputs": [
    {
     "data": {
      "text/plain": [
       "tuple"
      ]
     },
     "execution_count": 82,
     "metadata": {},
     "output_type": "execute_result"
    }
   ],
   "source": [
    "city = ('서울','부산','인천','대구','대전')\n",
    "type(city)"
   ]
  },
  {
   "cell_type": "code",
   "execution_count": 83,
   "metadata": {
    "ExecuteTime": {
     "end_time": "2021-03-01T14:13:40.156590Z",
     "start_time": "2021-03-01T14:13:40.146622Z"
    }
   },
   "outputs": [
    {
     "data": {
      "text/plain": [
       "'서울-부산-인천-대구-대전'"
      ]
     },
     "execution_count": 83,
     "metadata": {},
     "output_type": "execute_result"
    }
   ],
   "source": [
    "'-'.join(city)"
   ]
  },
  {
   "cell_type": "code",
   "execution_count": 84,
   "metadata": {
    "ExecuteTime": {
     "end_time": "2021-03-01T14:13:47.153348Z",
     "start_time": "2021-03-01T14:13:47.135365Z"
    }
   },
   "outputs": [
    {
     "name": "stdout",
     "output_type": "stream",
     "text": [
      "<class 'list'>\n",
      "['서울']\n"
     ]
    }
   ],
   "source": [
    "l = ['서울'] # 요소가 하나 있는 리스트\n",
    "print(type(l))\n",
    "print(l)"
   ]
  },
  {
   "cell_type": "code",
   "execution_count": 85,
   "metadata": {
    "ExecuteTime": {
     "end_time": "2021-03-01T14:13:55.444174Z",
     "start_time": "2021-03-01T14:13:55.434200Z"
    }
   },
   "outputs": [
    {
     "name": "stdout",
     "output_type": "stream",
     "text": [
      "<class 'str'>\n",
      "서울\n"
     ]
    }
   ],
   "source": [
    "city = ('서울') #요소가 하나 있는 튜플 (x)\n",
    "print(type(city))\n",
    "print(city)"
   ]
  },
  {
   "cell_type": "code",
   "execution_count": 86,
   "metadata": {
    "ExecuteTime": {
     "end_time": "2021-03-01T14:14:32.125985Z",
     "start_time": "2021-03-01T14:14:32.112024Z"
    }
   },
   "outputs": [
    {
     "name": "stdout",
     "output_type": "stream",
     "text": [
      "<class 'tuple'> 1\n",
      "('서울',)\n"
     ]
    }
   ],
   "source": [
    "city = ('서울',) #요소가 하나 있는 튜플\n",
    "print(type(city), len(city))\n",
    "print(city)"
   ]
  },
  {
   "cell_type": "code",
   "execution_count": 87,
   "metadata": {
    "ExecuteTime": {
     "end_time": "2021-03-01T14:14:54.261126Z",
     "start_time": "2021-03-01T14:14:54.245127Z"
    }
   },
   "outputs": [
    {
     "data": {
      "text/plain": [
       "tuple"
      ]
     },
     "execution_count": 87,
     "metadata": {},
     "output_type": "execute_result"
    }
   ],
   "source": [
    "numbers = 1,2,3 # 여러개 값이 나열될 때는 자동적으로 튜플로 처리\n",
    "type(numbers)"
   ]
  },
  {
   "cell_type": "code",
   "execution_count": 88,
   "metadata": {
    "ExecuteTime": {
     "end_time": "2021-03-01T14:14:59.961729Z",
     "start_time": "2021-03-01T14:14:59.942779Z"
    }
   },
   "outputs": [
    {
     "ename": "AttributeError",
     "evalue": "'tuple' object has no attribute 'remove'",
     "output_type": "error",
     "traceback": [
      "\u001b[1;31m---------------------------------------------------------------------------\u001b[0m",
      "\u001b[1;31mAttributeError\u001b[0m                            Traceback (most recent call last)",
      "\u001b[1;32m<ipython-input-88-4e344a462b16>\u001b[0m in \u001b[0;36m<module>\u001b[1;34m\u001b[0m\n\u001b[0;32m      1\u001b[0m \u001b[1;31m# 수정하기 위한 모든 기능들이 제한\u001b[0m\u001b[1;33m\u001b[0m\u001b[1;33m\u001b[0m\u001b[1;33m\u001b[0m\u001b[0m\n\u001b[1;32m----> 2\u001b[1;33m \u001b[0mnumbers\u001b[0m\u001b[1;33m.\u001b[0m\u001b[0mremove\u001b[0m\u001b[1;33m(\u001b[0m\u001b[1;36m2\u001b[0m\u001b[1;33m)\u001b[0m\u001b[1;33m\u001b[0m\u001b[1;33m\u001b[0m\u001b[0m\n\u001b[0m",
      "\u001b[1;31mAttributeError\u001b[0m: 'tuple' object has no attribute 'remove'"
     ]
    }
   ],
   "source": [
    "# 수정하기 위한 모든 기능들이 제한\n",
    "numbers.remove(2)"
   ]
  },
  {
   "cell_type": "code",
   "execution_count": 89,
   "metadata": {
    "ExecuteTime": {
     "end_time": "2021-03-01T14:15:13.588385Z",
     "start_time": "2021-03-01T14:15:13.576423Z"
    }
   },
   "outputs": [
    {
     "data": {
      "text/plain": [
       "(1, 3, 3)"
      ]
     },
     "execution_count": 89,
     "metadata": {},
     "output_type": "execute_result"
    }
   ],
   "source": [
    "min(numbers), max(numbers), len(numbers)"
   ]
  },
  {
   "cell_type": "code",
   "execution_count": 90,
   "metadata": {
    "ExecuteTime": {
     "end_time": "2021-03-01T14:15:32.267972Z",
     "start_time": "2021-03-01T14:15:32.250987Z"
    }
   },
   "outputs": [
    {
     "data": {
      "text/plain": [
       "2"
      ]
     },
     "execution_count": 90,
     "metadata": {},
     "output_type": "execute_result"
    }
   ],
   "source": [
    "numbers = (1,2,1,2,3)\n",
    "numbers.count(2)"
   ]
  },
  {
   "cell_type": "code",
   "execution_count": 91,
   "metadata": {
    "ExecuteTime": {
     "end_time": "2021-03-01T14:15:44.478986Z",
     "start_time": "2021-03-01T14:15:44.468017Z"
    }
   },
   "outputs": [
    {
     "data": {
      "text/plain": [
       "4"
      ]
     },
     "execution_count": 91,
     "metadata": {},
     "output_type": "execute_result"
    }
   ],
   "source": [
    "numbers.index(3) # 3인덱스의 값을 반환"
   ]
  },
  {
   "cell_type": "code",
   "execution_count": 93,
   "metadata": {
    "ExecuteTime": {
     "end_time": "2021-03-01T14:16:00.466501Z",
     "start_time": "2021-03-01T14:16:00.453515Z"
    }
   },
   "outputs": [
    {
     "data": {
      "text/plain": [
       "(2, 3, 4)"
      ]
     },
     "execution_count": 93,
     "metadata": {},
     "output_type": "execute_result"
    }
   ],
   "source": [
    "data = (0,1,2,3,4,(5,6))\n",
    "data[2:5]"
   ]
  },
  {
   "cell_type": "code",
   "execution_count": 94,
   "metadata": {
    "ExecuteTime": {
     "end_time": "2021-03-01T14:16:04.933147Z",
     "start_time": "2021-03-01T14:16:04.915198Z"
    }
   },
   "outputs": [
    {
     "data": {
      "text/plain": [
       "((5, 6), 4, 3, 2, 1, 0)"
      ]
     },
     "execution_count": 94,
     "metadata": {},
     "output_type": "execute_result"
    }
   ],
   "source": [
    "data[::-1]"
   ]
  },
  {
   "cell_type": "code",
   "execution_count": 95,
   "metadata": {
    "ExecuteTime": {
     "end_time": "2021-03-01T14:16:15.498922Z",
     "start_time": "2021-03-01T14:16:15.484964Z"
    }
   },
   "outputs": [
    {
     "ename": "ValueError",
     "evalue": "tuple.index(x): x not in tuple",
     "output_type": "error",
     "traceback": [
      "\u001b[1;31m---------------------------------------------------------------------------\u001b[0m",
      "\u001b[1;31mValueError\u001b[0m                                Traceback (most recent call last)",
      "\u001b[1;32m<ipython-input-95-1523710bd236>\u001b[0m in \u001b[0;36m<module>\u001b[1;34m\u001b[0m\n\u001b[1;32m----> 1\u001b[1;33m \u001b[0mdata\u001b[0m\u001b[1;33m.\u001b[0m\u001b[0mindex\u001b[0m\u001b[1;33m(\u001b[0m\u001b[1;36m9\u001b[0m\u001b[1;33m)\u001b[0m\u001b[1;33m\u001b[0m\u001b[1;33m\u001b[0m\u001b[0m\n\u001b[0m",
      "\u001b[1;31mValueError\u001b[0m: tuple.index(x): x not in tuple"
     ]
    }
   ],
   "source": [
    "data.index(9)"
   ]
  },
  {
   "cell_type": "code",
   "execution_count": 96,
   "metadata": {
    "ExecuteTime": {
     "end_time": "2021-03-01T14:16:26.224695Z",
     "start_time": "2021-03-01T14:16:26.217713Z"
    }
   },
   "outputs": [
    {
     "data": {
      "text/plain": [
       "((5, 6),)"
      ]
     },
     "execution_count": 96,
     "metadata": {},
     "output_type": "execute_result"
    }
   ],
   "source": [
    "data[5:9:2]"
   ]
  },
  {
   "cell_type": "code",
   "execution_count": 97,
   "metadata": {
    "ExecuteTime": {
     "end_time": "2021-03-01T14:16:32.843644Z",
     "start_time": "2021-03-01T14:16:32.832675Z"
    }
   },
   "outputs": [
    {
     "data": {
      "text/plain": [
       "((5, 6), 4, 3, 2)"
      ]
     },
     "execution_count": 97,
     "metadata": {},
     "output_type": "execute_result"
    }
   ],
   "source": [
    "data[-1:-5:-1]"
   ]
  },
  {
   "cell_type": "code",
   "execution_count": 98,
   "metadata": {
    "ExecuteTime": {
     "end_time": "2021-03-01T14:17:25.170853Z",
     "start_time": "2021-03-01T14:17:25.162841Z"
    }
   },
   "outputs": [
    {
     "data": {
      "text/plain": [
       "((100, 0, 0), (10, 20, 30), 2)"
      ]
     },
     "execution_count": 98,
     "metadata": {},
     "output_type": "execute_result"
    }
   ],
   "source": [
    "data = ((100,0,0),(10,20,30))\n",
    "max(data), min(data), len(data)"
   ]
  },
  {
   "cell_type": "code",
   "execution_count": 99,
   "metadata": {
    "ExecuteTime": {
     "end_time": "2021-03-01T14:17:30.917673Z",
     "start_time": "2021-03-01T14:17:30.907698Z"
    }
   },
   "outputs": [
    {
     "data": {
      "text/plain": [
       "(1, 2, 3, 1, 2, 3)"
      ]
     },
     "execution_count": 99,
     "metadata": {},
     "output_type": "execute_result"
    }
   ],
   "source": [
    "data = (1,2,3)\n",
    "data + data"
   ]
  },
  {
   "cell_type": "code",
   "execution_count": 100,
   "metadata": {
    "ExecuteTime": {
     "end_time": "2021-03-01T14:17:35.553651Z",
     "start_time": "2021-03-01T14:17:35.545699Z"
    }
   },
   "outputs": [
    {
     "data": {
      "text/plain": [
       "('서울', 2, True, '서울', 2, True, '서울', 2, True)"
      ]
     },
     "execution_count": 100,
     "metadata": {},
     "output_type": "execute_result"
    }
   ],
   "source": [
    "data = ('서울',2,True)\n",
    "data * 3"
   ]
  },
  {
   "cell_type": "code",
   "execution_count": 101,
   "metadata": {
    "ExecuteTime": {
     "end_time": "2021-03-01T14:17:42.921275Z",
     "start_time": "2021-03-01T14:17:42.912300Z"
    }
   },
   "outputs": [],
   "source": [
    "del data"
   ]
  },
  {
   "cell_type": "markdown",
   "metadata": {},
   "source": [
    "# 3절. 딕셔너리"
   ]
  },
  {
   "cell_type": "markdown",
   "metadata": {},
   "source": [
    "cf. 자바에서의 hashMap\n",
    "\n",
    "- 중괄호({})를 이용해서 딕셔너리 생성. 키(key)-값(value)의 쌍으로 구성된 자료구조\n",
    "- 키는 유일한 값(중복허용안함). 키에 리스트는 사용 불가. 키에 튜플은 사용가능.\n",
    "- 값은 중복 가능. 모든 데이터 타입이 가능\n",
    "- 없는 키의 값을 참조하면 에러 발생\n",
    "- 인덱스를 이용한 참조는 지원 안함"
   ]
  },
  {
   "cell_type": "code",
   "execution_count": 102,
   "metadata": {
    "ExecuteTime": {
     "end_time": "2021-03-01T14:18:29.304455Z",
     "start_time": "2021-03-01T14:18:29.293487Z"
    }
   },
   "outputs": [],
   "source": [
    "dic = {'key1':'value', 'key2':'value'}"
   ]
  },
  {
   "cell_type": "code",
   "execution_count": 103,
   "metadata": {
    "ExecuteTime": {
     "end_time": "2021-03-01T14:18:36.335459Z",
     "start_time": "2021-03-01T14:18:36.326523Z"
    }
   },
   "outputs": [
    {
     "data": {
      "text/plain": [
       "2"
      ]
     },
     "execution_count": 103,
     "metadata": {},
     "output_type": "execute_result"
    }
   ],
   "source": [
    "len(dic) # 데이터 구조의 요소의 갯수"
   ]
  },
  {
   "cell_type": "code",
   "execution_count": 104,
   "metadata": {
    "ExecuteTime": {
     "end_time": "2021-03-01T14:18:40.782513Z",
     "start_time": "2021-03-01T14:18:40.773538Z"
    }
   },
   "outputs": [
    {
     "data": {
      "text/plain": [
       "{'fruit': 'apple', 'number': 1, 'sport': 'golf'}"
      ]
     },
     "execution_count": 104,
     "metadata": {},
     "output_type": "execute_result"
    }
   ],
   "source": [
    "my_favorite = {'fruit':'apple', 'number':1, 'sport':'golf'}\n",
    "my_favorite"
   ]
  },
  {
   "cell_type": "code",
   "execution_count": 105,
   "metadata": {
    "ExecuteTime": {
     "end_time": "2021-03-01T14:18:49.152156Z",
     "start_time": "2021-03-01T14:18:49.136199Z"
    }
   },
   "outputs": [
    {
     "data": {
      "text/plain": [
       "'apple'"
      ]
     },
     "execution_count": 105,
     "metadata": {},
     "output_type": "execute_result"
    }
   ],
   "source": [
    "my_favorite.get('fruit')"
   ]
  },
  {
   "cell_type": "code",
   "execution_count": 106,
   "metadata": {
    "ExecuteTime": {
     "end_time": "2021-03-01T14:18:54.853537Z",
     "start_time": "2021-03-01T14:18:54.837550Z"
    }
   },
   "outputs": [
    {
     "data": {
      "text/plain": [
       "'apple'"
      ]
     },
     "execution_count": 106,
     "metadata": {},
     "output_type": "execute_result"
    }
   ],
   "source": [
    "my_favorite['fruit']"
   ]
  },
  {
   "cell_type": "code",
   "execution_count": 107,
   "metadata": {
    "ExecuteTime": {
     "end_time": "2021-03-01T14:18:59.953666Z",
     "start_time": "2021-03-01T14:18:59.933689Z"
    }
   },
   "outputs": [
    {
     "ename": "KeyError",
     "evalue": "'people'",
     "output_type": "error",
     "traceback": [
      "\u001b[1;31m---------------------------------------------------------------------------\u001b[0m",
      "\u001b[1;31mKeyError\u001b[0m                                  Traceback (most recent call last)",
      "\u001b[1;32m<ipython-input-107-b504160f6186>\u001b[0m in \u001b[0;36m<module>\u001b[1;34m\u001b[0m\n\u001b[1;32m----> 1\u001b[1;33m \u001b[0mmy_favorite\u001b[0m\u001b[1;33m[\u001b[0m\u001b[1;34m'people'\u001b[0m\u001b[1;33m]\u001b[0m \u001b[1;31m# 키목록에 없는 데이터 참조시 에러\u001b[0m\u001b[1;33m\u001b[0m\u001b[1;33m\u001b[0m\u001b[0m\n\u001b[0m",
      "\u001b[1;31mKeyError\u001b[0m: 'people'"
     ]
    }
   ],
   "source": [
    "my_favorite['people'] # 키목록에 없는 데이터 참조시 에러"
   ]
  },
  {
   "cell_type": "code",
   "execution_count": 108,
   "metadata": {
    "ExecuteTime": {
     "end_time": "2021-03-01T14:19:04.704920Z",
     "start_time": "2021-03-01T14:19:04.687935Z"
    }
   },
   "outputs": [
    {
     "ename": "KeyError",
     "evalue": "0",
     "output_type": "error",
     "traceback": [
      "\u001b[1;31m---------------------------------------------------------------------------\u001b[0m",
      "\u001b[1;31mKeyError\u001b[0m                                  Traceback (most recent call last)",
      "\u001b[1;32m<ipython-input-108-86e7cbb7402f>\u001b[0m in \u001b[0;36m<module>\u001b[1;34m\u001b[0m\n\u001b[1;32m----> 1\u001b[1;33m \u001b[0mmy_favorite\u001b[0m\u001b[1;33m[\u001b[0m\u001b[1;36m0\u001b[0m\u001b[1;33m]\u001b[0m \u001b[1;31m# 인덱스를 이용한 참조는 지원 안 함\u001b[0m\u001b[1;33m\u001b[0m\u001b[1;33m\u001b[0m\u001b[0m\n\u001b[0m",
      "\u001b[1;31mKeyError\u001b[0m: 0"
     ]
    }
   ],
   "source": [
    "my_favorite[0] # 인덱스를 이용한 참조는 지원 안 함"
   ]
  },
  {
   "cell_type": "code",
   "execution_count": 109,
   "metadata": {
    "ExecuteTime": {
     "end_time": "2021-03-01T14:19:11.429740Z",
     "start_time": "2021-03-01T14:19:11.417750Z"
    }
   },
   "outputs": [
    {
     "data": {
      "text/plain": [
       "{'fruit': 'banana', 'number': 1, 'sport': 'golf'}"
      ]
     },
     "execution_count": 109,
     "metadata": {},
     "output_type": "execute_result"
    }
   ],
   "source": [
    "my_favorite = {'fruit':'apple', 'number':1, 'sport':'golf'}\n",
    "my_favorite['fruit'] = 'banana'\n",
    "my_favorite"
   ]
  },
  {
   "cell_type": "code",
   "execution_count": 110,
   "metadata": {
    "ExecuteTime": {
     "end_time": "2021-03-01T14:19:20.839818Z",
     "start_time": "2021-03-01T14:19:20.832837Z"
    }
   },
   "outputs": [
    {
     "data": {
      "text/plain": [
       "{1: 'Hello', 2: 'Python'}"
      ]
     },
     "execution_count": 110,
     "metadata": {},
     "output_type": "execute_result"
    }
   ],
   "source": [
    "# 키 : 문자, 숫자, 튜플. 중복불가\n",
    "# 값 : 모든 문자 타입. 중복 가능\n",
    "my_dic1 = {1:'Hello', 2:'World', 2:'Python'}\n",
    "my_dic1"
   ]
  },
  {
   "cell_type": "code",
   "execution_count": 111,
   "metadata": {
    "ExecuteTime": {
     "end_time": "2021-03-01T14:19:31.829012Z",
     "start_time": "2021-03-01T14:19:31.821035Z"
    }
   },
   "outputs": [
    {
     "data": {
      "text/plain": [
       "{1: 'Hi', 2: 'Python', 'people': ['홍길동', '홍길순'], 'study': ['python', 'hadoop']}"
      ]
     },
     "execution_count": 111,
     "metadata": {},
     "output_type": "execute_result"
    }
   ],
   "source": [
    "my_dic1['people'] = ['홍길동','홍길순'] # my_dic1에 요소 추가\n",
    "my_dic1['study'] = ['python','hadoop'] # 추가\n",
    "my_dic1[1] = 'Hi'\n",
    "#my_dic1.append({'people':['홍길동','홍길순']}) 불가\n",
    "my_dic1"
   ]
  },
  {
   "cell_type": "code",
   "execution_count": 112,
   "metadata": {
    "ExecuteTime": {
     "end_time": "2021-03-01T14:19:38.753554Z",
     "start_time": "2021-03-01T14:19:38.743582Z"
    }
   },
   "outputs": [
    {
     "data": {
      "text/plain": [
       "{1: 'Hi', 2: 'Python', 'people': ['홍길동', '홍길순']}"
      ]
     },
     "execution_count": 112,
     "metadata": {},
     "output_type": "execute_result"
    }
   ],
   "source": [
    "del my_dic1['study']\n",
    "my_dic1"
   ]
  },
  {
   "cell_type": "code",
   "execution_count": 113,
   "metadata": {
    "ExecuteTime": {
     "end_time": "2021-03-01T14:19:44.929145Z",
     "start_time": "2021-03-01T14:19:44.908201Z"
    }
   },
   "outputs": [
    {
     "data": {
      "text/plain": [
       "{'name': 'KilDong', 'age': 30}"
      ]
     },
     "execution_count": 113,
     "metadata": {},
     "output_type": "execute_result"
    }
   ],
   "source": [
    "my_dic2 = {'name':'Hong', 'name':'KilDong', 'age':30}\n",
    "my_dic2"
   ]
  },
  {
   "cell_type": "code",
   "execution_count": 114,
   "metadata": {
    "ExecuteTime": {
     "end_time": "2021-03-01T14:20:22.531582Z",
     "start_time": "2021-03-01T14:20:22.520617Z"
    }
   },
   "outputs": [
    {
     "data": {
      "text/plain": [
       "{1: 'World', False: 'Hadoop'}"
      ]
     },
     "execution_count": 114,
     "metadata": {},
     "output_type": "execute_result"
    }
   ],
   "source": [
    "# 키목록에 True와 1은 같은 키으로 간주. False와 0은 같은 키로 간주\n",
    "my_dic3 = {1:'Hello', True:'World', False:'Python', 0:'Hadoop'}\n",
    "my_dic3"
   ]
  },
  {
   "cell_type": "code",
   "execution_count": 115,
   "metadata": {
    "ExecuteTime": {
     "end_time": "2021-03-01T14:20:36.872648Z",
     "start_time": "2021-03-01T14:20:36.866664Z"
    }
   },
   "outputs": [
    {
     "name": "stdout",
     "output_type": "stream",
     "text": [
      "홍길동\t25\t010-9999-9999\t\n",
      "0번째 데이터 홍길동\t1번째 데이터 25\t2번째 데이터 010-9999-9999\t"
     ]
    }
   ],
   "source": [
    "my_list = ['홍길동',25,'010-9999-9999']\n",
    "my_tupple = ('홍길동',25,'010-9999-9999')\n",
    "for data in my_tupple:\n",
    "    print(data, end='\\t')\n",
    "print() # 개행\n",
    "for idx in range(len(my_list)):\n",
    "    print(\"{}번째 데이터 {}\".format(idx, my_tupple[idx]) , end='\\t')"
   ]
  },
  {
   "cell_type": "code",
   "execution_count": 116,
   "metadata": {
    "ExecuteTime": {
     "end_time": "2021-03-01T14:20:44.807433Z",
     "start_time": "2021-03-01T14:20:44.794381Z"
    }
   },
   "outputs": [
    {
     "name": "stdout",
     "output_type": "stream",
     "text": [
      "name\tage\ttel\t"
     ]
    }
   ],
   "source": [
    "my_dic = {'name':'홍길동','age':25, 'tel':'010-9999-9999'}\n",
    "for data in my_dic:\n",
    "    print(data, end='\\t')"
   ]
  },
  {
   "cell_type": "code",
   "execution_count": 117,
   "metadata": {
    "ExecuteTime": {
     "end_time": "2021-03-01T14:20:58.309396Z",
     "start_time": "2021-03-01T14:20:58.292435Z"
    }
   },
   "outputs": [
    {
     "data": {
      "text/plain": [
       "dict_keys(['name', 'age', 'tel'])"
      ]
     },
     "execution_count": 117,
     "metadata": {},
     "output_type": "execute_result"
    }
   ],
   "source": [
    "my_dic.keys() # 키목록"
   ]
  },
  {
   "cell_type": "code",
   "execution_count": 118,
   "metadata": {
    "ExecuteTime": {
     "end_time": "2021-03-01T14:21:04.205419Z",
     "start_time": "2021-03-01T14:21:04.197443Z"
    }
   },
   "outputs": [
    {
     "data": {
      "text/plain": [
       "dict_values(['홍길동', 25, '010-9999-9999'])"
      ]
     },
     "execution_count": 118,
     "metadata": {},
     "output_type": "execute_result"
    }
   ],
   "source": [
    "my_dic.values() # 값들만"
   ]
  },
  {
   "cell_type": "code",
   "execution_count": 119,
   "metadata": {
    "ExecuteTime": {
     "end_time": "2021-03-01T14:21:17.446924Z",
     "start_time": "2021-03-01T14:21:17.427976Z"
    }
   },
   "outputs": [
    {
     "data": {
      "text/plain": [
       "dict_items([('name', '홍길동'), ('age', 25), ('tel', '010-9999-9999')])"
      ]
     },
     "execution_count": 119,
     "metadata": {},
     "output_type": "execute_result"
    }
   ],
   "source": [
    "my_dic.items() # 튜플로 이루어진 (키,값) 들"
   ]
  },
  {
   "cell_type": "code",
   "execution_count": 120,
   "metadata": {
    "ExecuteTime": {
     "end_time": "2021-03-01T14:21:29.218265Z",
     "start_time": "2021-03-01T14:21:29.203307Z"
    }
   },
   "outputs": [
    {
     "name": "stdout",
     "output_type": "stream",
     "text": [
      "name\tage\ttel\t"
     ]
    }
   ],
   "source": [
    "for key in my_dic:\n",
    "    print(key, end='\\t')"
   ]
  },
  {
   "cell_type": "code",
   "execution_count": 121,
   "metadata": {
    "ExecuteTime": {
     "end_time": "2021-03-01T14:21:40.483880Z",
     "start_time": "2021-03-01T14:21:40.467924Z"
    }
   },
   "outputs": [
    {
     "name": "stdout",
     "output_type": "stream",
     "text": [
      "name\tage\ttel\t"
     ]
    }
   ],
   "source": [
    "for key in my_dic.keys():\n",
    "    print(key, end='\\t')"
   ]
  },
  {
   "cell_type": "code",
   "execution_count": 122,
   "metadata": {
    "ExecuteTime": {
     "end_time": "2021-03-01T14:21:50.274415Z",
     "start_time": "2021-03-01T14:21:50.259431Z"
    }
   },
   "outputs": [
    {
     "name": "stdout",
     "output_type": "stream",
     "text": [
      "홍길동\t25\t010-9999-9999\t"
     ]
    }
   ],
   "source": [
    "for value in my_dic.values():\n",
    "    print(value, end='\\t')"
   ]
  },
  {
   "cell_type": "code",
   "execution_count": 124,
   "metadata": {
    "ExecuteTime": {
     "end_time": "2021-03-01T14:21:58.564018Z",
     "start_time": "2021-03-01T14:21:58.550057Z"
    }
   },
   "outputs": [
    {
     "name": "stdout",
     "output_type": "stream",
     "text": [
      "('name', '홍길동')\n",
      "('age', 25)\n",
      "('tel', '010-9999-9999')\n"
     ]
    }
   ],
   "source": [
    "for item in my_dic.items():\n",
    "    print(item)"
   ]
  },
  {
   "cell_type": "code",
   "execution_count": 125,
   "metadata": {
    "ExecuteTime": {
     "end_time": "2021-03-01T14:22:07.030318Z",
     "start_time": "2021-03-01T14:22:07.017345Z"
    }
   },
   "outputs": [
    {
     "name": "stdout",
     "output_type": "stream",
     "text": [
      "name은 홍길동.\tage은 25.\ttel은 010-9999-9999.\t"
     ]
    }
   ],
   "source": [
    "for key, value in my_dic.items():\n",
    "    print(\"{}은 {}.\".format(key, value), end='\\t')"
   ]
  },
  {
   "cell_type": "markdown",
   "metadata": {},
   "source": [
    "<b>in 연산자 : 키가 있는 여부"
   ]
  },
  {
   "cell_type": "code",
   "execution_count": 126,
   "metadata": {
    "ExecuteTime": {
     "end_time": "2021-03-01T14:22:22.681787Z",
     "start_time": "2021-03-01T14:22:22.676799Z"
    }
   },
   "outputs": [
    {
     "data": {
      "text/plain": [
       "False"
      ]
     },
     "execution_count": 126,
     "metadata": {},
     "output_type": "execute_result"
    }
   ],
   "source": [
    "my_favorite = {'fruit':'apple','number':1, 'sport':'golf'}\n",
    "'golf' in my_favorite"
   ]
  },
  {
   "cell_type": "code",
   "execution_count": 127,
   "metadata": {
    "ExecuteTime": {
     "end_time": "2021-03-01T14:23:03.647253Z",
     "start_time": "2021-03-01T14:23:03.637247Z"
    }
   },
   "outputs": [
    {
     "data": {
      "text/plain": [
       "True"
      ]
     },
     "execution_count": 127,
     "metadata": {},
     "output_type": "execute_result"
    }
   ],
   "source": [
    "'sport' in my_favorite"
   ]
  },
  {
   "cell_type": "code",
   "execution_count": 128,
   "metadata": {
    "ExecuteTime": {
     "end_time": "2021-03-01T14:23:16.084665Z",
     "start_time": "2021-03-01T14:23:16.066742Z"
    }
   },
   "outputs": [
    {
     "name": "stdout",
     "output_type": "stream",
     "text": [
      "new_my_favorite :  {'fruit': 'apple', 'number': 1, 'sport': 'golf'}\n",
      "my_favorite :  {'fruit': 'apple', 'number': 1, 'sport': 'golf'}\n"
     ]
    }
   ],
   "source": [
    "my_favorite\n",
    "# 할당\n",
    "new_my_favorite = my_favorite\n",
    "print('new_my_favorite : ', new_my_favorite)\n",
    "print('my_favorite : ', my_favorite)"
   ]
  },
  {
   "cell_type": "code",
   "execution_count": 129,
   "metadata": {
    "ExecuteTime": {
     "end_time": "2021-03-01T14:23:34.691317Z",
     "start_time": "2021-03-01T14:23:34.678355Z"
    }
   },
   "outputs": [
    {
     "name": "stdout",
     "output_type": "stream",
     "text": [
      "new_my_favorite :  {'fruit': 'apple', 'number': '다 좋아', 'sport': 'golf'}\n",
      "my_favorite :  {'fruit': 'apple', 'number': '다 좋아', 'sport': 'golf'}\n",
      "new_my_favorite 주소 : 1377177118848\n",
      "my_favorite 주소 : 1377177118848\n"
     ]
    }
   ],
   "source": [
    "my_favorite['number'] = '다 좋아'\n",
    "print('new_my_favorite : ', new_my_favorite)\n",
    "print('my_favorite : ', my_favorite)\n",
    "print('new_my_favorite 주소 :', id(new_my_favorite))\n",
    "print('my_favorite 주소 :', id(my_favorite))"
   ]
  },
  {
   "cell_type": "code",
   "execution_count": 130,
   "metadata": {
    "ExecuteTime": {
     "end_time": "2021-03-01T14:23:56.082361Z",
     "start_time": "2021-03-01T14:23:56.064409Z"
    }
   },
   "outputs": [
    {
     "name": "stdout",
     "output_type": "stream",
     "text": [
      "new_my_favorite :  {'fruit': 'apple', 'number': '다 좋아', 'sport': 'golf'}\n",
      "my_favorite :  {'fruit': 'apple', 'number': '다 좋아', 'sport': 'golf'}\n"
     ]
    }
   ],
   "source": [
    "my_favorite\n",
    "# 복제\n",
    "new_my_favorite = my_favorite.copy()\n",
    "print('new_my_favorite : ', new_my_favorite)\n",
    "print('my_favorite : ', my_favorite)"
   ]
  },
  {
   "cell_type": "code",
   "execution_count": 131,
   "metadata": {
    "ExecuteTime": {
     "end_time": "2021-03-01T14:24:02.982672Z",
     "start_time": "2021-03-01T14:24:02.975663Z"
    }
   },
   "outputs": [
    {
     "name": "stdout",
     "output_type": "stream",
     "text": [
      "new_my_favorite :  {'fruit': 'apple', 'number': '다 좋아', 'sport': 'golf'}\n",
      "my_favorite :  {'fruit': 'apple', 'number': 9, 'sport': 'golf'}\n",
      "new_my_favorite 주소 : 1377177779520\n",
      "my_favorite 주소 : 1377177118848\n"
     ]
    }
   ],
   "source": [
    "my_favorite['number'] = 9\n",
    "print('new_my_favorite : ', new_my_favorite)\n",
    "print('my_favorite : ', my_favorite)\n",
    "print('new_my_favorite 주소 :', id(new_my_favorite))\n",
    "print('my_favorite 주소 :', id(my_favorite))"
   ]
  },
  {
   "cell_type": "markdown",
   "metadata": {},
   "source": [
    "# 4절. 셋"
   ]
  },
  {
   "cell_type": "markdown",
   "metadata": {},
   "source": [
    "- 중복 허용하지 않는 집합(순서X)\n",
    "- 중괄호({})나 set()함수를 이용해서 셋 생성 ; set(딕셔너리타입의변수) : 딕셔너리변수의 키만 셋에 추가\n",
    "- 집합연산자 (&:교집합 , |:합집합, - :차집합)"
   ]
  },
  {
   "cell_type": "code",
   "execution_count": 132,
   "metadata": {
    "ExecuteTime": {
     "end_time": "2021-03-01T14:24:49.418400Z",
     "start_time": "2021-03-01T14:24:49.400419Z"
    }
   },
   "outputs": [
    {
     "data": {
      "text/plain": [
       "{'apple', 'banana', 'orange'}"
      ]
     },
     "execution_count": 132,
     "metadata": {},
     "output_type": "execute_result"
    }
   ],
   "source": [
    "fruits = {'apple','orange','banana','banana'}\n",
    "fruits"
   ]
  },
  {
   "cell_type": "code",
   "execution_count": 133,
   "metadata": {
    "ExecuteTime": {
     "end_time": "2021-03-01T14:24:54.153302Z",
     "start_time": "2021-03-01T14:24:54.144363Z"
    }
   },
   "outputs": [
    {
     "data": {
      "text/plain": [
       "{1, 2, 3}"
      ]
     },
     "execution_count": 133,
     "metadata": {},
     "output_type": "execute_result"
    }
   ],
   "source": [
    "s1 = set([1,2,3,1])\n",
    "s1"
   ]
  },
  {
   "cell_type": "code",
   "execution_count": 134,
   "metadata": {
    "ExecuteTime": {
     "end_time": "2021-03-01T14:24:59.801188Z",
     "start_time": "2021-03-01T14:24:59.788238Z"
    }
   },
   "outputs": [
    {
     "data": {
      "text/plain": [
       "{1, 2, 3, 4}"
      ]
     },
     "execution_count": 134,
     "metadata": {},
     "output_type": "execute_result"
    }
   ],
   "source": [
    "s1.add(4)\n",
    "s1.add(1)\n",
    "s1"
   ]
  },
  {
   "cell_type": "code",
   "execution_count": 135,
   "metadata": {
    "ExecuteTime": {
     "end_time": "2021-03-01T14:25:06.222119Z",
     "start_time": "2021-03-01T14:25:06.209126Z"
    }
   },
   "outputs": [
    {
     "data": {
      "text/plain": [
       "{(5, 6, 7, 8, 9), 1, 2, 3, 4}"
      ]
     },
     "execution_count": 135,
     "metadata": {},
     "output_type": "execute_result"
    }
   ],
   "source": [
    "s1.add( (5,6,7,8,9) )\n",
    "s1"
   ]
  },
  {
   "cell_type": "code",
   "execution_count": 136,
   "metadata": {
    "ExecuteTime": {
     "end_time": "2021-03-01T14:25:11.377485Z",
     "start_time": "2021-03-01T14:25:11.357539Z"
    }
   },
   "outputs": [
    {
     "ename": "TypeError",
     "evalue": "unhashable type: 'list'",
     "output_type": "error",
     "traceback": [
      "\u001b[1;31m---------------------------------------------------------------------------\u001b[0m",
      "\u001b[1;31mTypeError\u001b[0m                                 Traceback (most recent call last)",
      "\u001b[1;32m<ipython-input-136-e9b6dc0902cd>\u001b[0m in \u001b[0;36m<module>\u001b[1;34m\u001b[0m\n\u001b[1;32m----> 1\u001b[1;33m \u001b[0ms1\u001b[0m\u001b[1;33m.\u001b[0m\u001b[0madd\u001b[0m\u001b[1;33m(\u001b[0m \u001b[1;33m[\u001b[0m\u001b[1;36m10\u001b[0m\u001b[1;33m,\u001b[0m\u001b[1;36m11\u001b[0m\u001b[1;33m]\u001b[0m \u001b[1;33m)\u001b[0m \u001b[1;31m# add함수는 list인수 불가\u001b[0m\u001b[1;33m\u001b[0m\u001b[1;33m\u001b[0m\u001b[0m\n\u001b[0m",
      "\u001b[1;31mTypeError\u001b[0m: unhashable type: 'list'"
     ]
    }
   ],
   "source": [
    "s1.add( [10,11] ) # add함수는 list인수 불가"
   ]
  },
  {
   "cell_type": "code",
   "execution_count": 137,
   "metadata": {
    "ExecuteTime": {
     "end_time": "2021-03-01T14:25:16.770043Z",
     "start_time": "2021-03-01T14:25:16.758060Z"
    }
   },
   "outputs": [
    {
     "ename": "TypeError",
     "evalue": "unhashable type: 'dict'",
     "output_type": "error",
     "traceback": [
      "\u001b[1;31m---------------------------------------------------------------------------\u001b[0m",
      "\u001b[1;31mTypeError\u001b[0m                                 Traceback (most recent call last)",
      "\u001b[1;32m<ipython-input-137-7b536d50c146>\u001b[0m in \u001b[0;36m<module>\u001b[1;34m\u001b[0m\n\u001b[1;32m----> 1\u001b[1;33m \u001b[0ms1\u001b[0m\u001b[1;33m.\u001b[0m\u001b[0madd\u001b[0m\u001b[1;33m(\u001b[0m\u001b[1;33m{\u001b[0m\u001b[1;34m'name'\u001b[0m\u001b[1;33m:\u001b[0m\u001b[1;34m'Kil'\u001b[0m\u001b[1;33m}\u001b[0m\u001b[1;33m)\u001b[0m \u001b[1;31m# add함수는 dictonary 인수 불가\u001b[0m\u001b[1;33m\u001b[0m\u001b[1;33m\u001b[0m\u001b[0m\n\u001b[0m",
      "\u001b[1;31mTypeError\u001b[0m: unhashable type: 'dict'"
     ]
    }
   ],
   "source": [
    "s1.add({'name':'Kil'}) # add함수는 dictonary 인수 불가"
   ]
  },
  {
   "cell_type": "code",
   "execution_count": 138,
   "metadata": {
    "ExecuteTime": {
     "end_time": "2021-03-01T14:25:28.795233Z",
     "start_time": "2021-03-01T14:25:28.787254Z"
    }
   },
   "outputs": [
    {
     "data": {
      "text/plain": [
       "{1, 2, 3, 4, 5, 6, 7, 8, 9}"
      ]
     },
     "execution_count": 138,
     "metadata": {},
     "output_type": "execute_result"
    }
   ],
   "source": [
    "s1 = {1,2,3,4}\n",
    "s1.update([5,6,7,8,9])\n",
    "s1"
   ]
  },
  {
   "cell_type": "code",
   "execution_count": 139,
   "metadata": {
    "ExecuteTime": {
     "end_time": "2021-03-01T14:25:35.088825Z",
     "start_time": "2021-03-01T14:25:35.069852Z"
    }
   },
   "outputs": [
    {
     "data": {
      "text/plain": [
       "{1, 2, 3, 4, 5, 6, 7, 8, 9, 'name'}"
      ]
     },
     "execution_count": 139,
     "metadata": {},
     "output_type": "execute_result"
    }
   ],
   "source": [
    "s1.update({'name':'kildong'}) # 딕셔너리는 키값만 추가\n",
    "s1"
   ]
  },
  {
   "cell_type": "code",
   "execution_count": 140,
   "metadata": {
    "ExecuteTime": {
     "end_time": "2021-03-01T14:25:41.927887Z",
     "start_time": "2021-03-01T14:25:41.913891Z"
    }
   },
   "outputs": [
    {
     "data": {
      "text/plain": [
       "{1, 2, 3, 4, 5, 6, 7, 8, 9}"
      ]
     },
     "execution_count": 140,
     "metadata": {},
     "output_type": "execute_result"
    }
   ],
   "source": [
    "s1.remove('name') # 특정 요소 삭제(없는 데이터일 경우 에러)\n",
    "s1"
   ]
  },
  {
   "cell_type": "code",
   "execution_count": 141,
   "metadata": {
    "ExecuteTime": {
     "end_time": "2021-03-01T14:25:46.971379Z",
     "start_time": "2021-03-01T14:25:46.947444Z"
    }
   },
   "outputs": [
    {
     "ename": "KeyError",
     "evalue": "'name'",
     "output_type": "error",
     "traceback": [
      "\u001b[1;31m---------------------------------------------------------------------------\u001b[0m",
      "\u001b[1;31mKeyError\u001b[0m                                  Traceback (most recent call last)",
      "\u001b[1;32m<ipython-input-141-b5522589be5c>\u001b[0m in \u001b[0;36m<module>\u001b[1;34m\u001b[0m\n\u001b[1;32m----> 1\u001b[1;33m \u001b[0ms1\u001b[0m\u001b[1;33m.\u001b[0m\u001b[0mremove\u001b[0m\u001b[1;33m(\u001b[0m\u001b[1;34m'name'\u001b[0m\u001b[1;33m)\u001b[0m\u001b[1;33m\u001b[0m\u001b[1;33m\u001b[0m\u001b[0m\n\u001b[0m",
      "\u001b[1;31mKeyError\u001b[0m: 'name'"
     ]
    }
   ],
   "source": [
    "s1.remove('name')"
   ]
  },
  {
   "cell_type": "code",
   "execution_count": 142,
   "metadata": {
    "ExecuteTime": {
     "end_time": "2021-03-01T14:26:07.080387Z",
     "start_time": "2021-03-01T14:26:07.066397Z"
    }
   },
   "outputs": [
    {
     "data": {
      "text/plain": [
       "{0, True}"
      ]
     },
     "execution_count": 142,
     "metadata": {},
     "output_type": "execute_result"
    }
   ],
   "source": [
    "s1 = {0, False, True, 1} # False와 0, True와 1을 같은 값으로 간주\n",
    "s1"
   ]
  },
  {
   "cell_type": "code",
   "execution_count": 143,
   "metadata": {
    "ExecuteTime": {
     "end_time": "2021-03-01T14:26:40.534520Z",
     "start_time": "2021-03-01T14:26:40.517536Z"
    }
   },
   "outputs": [
    {
     "data": {
      "text/plain": [
       "({1, 2, 3, 4, 5, 6}, {4, 5, 6, 7, 8, 9})"
      ]
     },
     "execution_count": 143,
     "metadata": {},
     "output_type": "execute_result"
    }
   ],
   "source": [
    "s1 = {1, 2, 3, 4, 5, 6}\n",
    "s2 = {4, 5, 6, 7, 8, 9}\n",
    "s1, s2"
   ]
  },
  {
   "cell_type": "code",
   "execution_count": 144,
   "metadata": {
    "ExecuteTime": {
     "end_time": "2021-03-01T14:26:48.627499Z",
     "start_time": "2021-03-01T14:26:48.620517Z"
    }
   },
   "outputs": [
    {
     "data": {
      "text/plain": [
       "{1, 2, 3, 4, 5, 6, 7, 8, 9}"
      ]
     },
     "execution_count": 144,
     "metadata": {},
     "output_type": "execute_result"
    }
   ],
   "source": [
    "# 합집합\n",
    "s1 | s2"
   ]
  },
  {
   "cell_type": "code",
   "execution_count": 145,
   "metadata": {
    "ExecuteTime": {
     "end_time": "2021-03-01T14:26:54.676836Z",
     "start_time": "2021-03-01T14:26:54.665872Z"
    }
   },
   "outputs": [
    {
     "data": {
      "text/plain": [
       "{4, 5, 6}"
      ]
     },
     "execution_count": 145,
     "metadata": {},
     "output_type": "execute_result"
    }
   ],
   "source": [
    "# 교집합\n",
    "s1 & s2"
   ]
  },
  {
   "cell_type": "code",
   "execution_count": 146,
   "metadata": {
    "ExecuteTime": {
     "end_time": "2021-03-01T14:27:03.626732Z",
     "start_time": "2021-03-01T14:27:03.615762Z"
    }
   },
   "outputs": [
    {
     "data": {
      "text/plain": [
       "{1, 2, 3}"
      ]
     },
     "execution_count": 146,
     "metadata": {},
     "output_type": "execute_result"
    }
   ],
   "source": [
    "# 차집합\n",
    "s1 - s2"
   ]
  },
  {
   "cell_type": "code",
   "execution_count": 148,
   "metadata": {
    "ExecuteTime": {
     "end_time": "2021-03-01T14:27:30.674237Z",
     "start_time": "2021-03-01T14:27:30.663268Z"
    }
   },
   "outputs": [
    {
     "name": "stdout",
     "output_type": "stream",
     "text": [
      "sunja\tkilja\tkildong\t"
     ]
    }
   ],
   "source": [
    "names = {'kildong','kilja','sunja'}\n",
    "for name in names:\n",
    "    print(name, end='\\t')"
   ]
  },
  {
   "cell_type": "markdown",
   "metadata": {},
   "source": [
    "# 5절. enumerate\n",
    " - 반복자 또는 순서 객체로 반복문을 처리할 때 인덱스 처리를 해결"
   ]
  },
  {
   "cell_type": "code",
   "execution_count": 149,
   "metadata": {
    "ExecuteTime": {
     "end_time": "2021-03-01T14:27:59.901061Z",
     "start_time": "2021-03-01T14:27:59.884113Z"
    }
   },
   "outputs": [
    {
     "data": {
      "text/plain": [
       "[(0, 'sunja'), (1, 'kilja'), (2, 'kildong')]"
      ]
     },
     "execution_count": 149,
     "metadata": {},
     "output_type": "execute_result"
    }
   ],
   "source": [
    "list(enumerate(names))"
   ]
  },
  {
   "cell_type": "code",
   "execution_count": 150,
   "metadata": {
    "ExecuteTime": {
     "end_time": "2021-03-01T14:28:29.483907Z",
     "start_time": "2021-03-01T14:28:29.471935Z"
    }
   },
   "outputs": [
    {
     "name": "stdout",
     "output_type": "stream",
     "text": [
      "0번째 이름 : sunja\n",
      "1번째 이름 : kilja\n",
      "2번째 이름 : kildong\n"
     ]
    }
   ],
   "source": [
    "for idx, name in enumerate(names):\n",
    "    print(\"{}번째 이름 : {}\".format(idx, name))"
   ]
  },
  {
   "cell_type": "code",
   "execution_count": 151,
   "metadata": {
    "ExecuteTime": {
     "end_time": "2021-03-01T14:34:49.166645Z",
     "start_time": "2021-03-01T14:34:49.160666Z"
    }
   },
   "outputs": [
    {
     "name": "stdout",
     "output_type": "stream",
     "text": [
      "0번째 : 길자\n",
      "1번째 : 순자\n",
      "2번째 : 길동\n"
     ]
    }
   ],
   "source": [
    "L = ['길자','순자','길동']\n",
    "for idx in range(len(L)):\n",
    "    print(\"{}번째 : {}\".format(idx, L[idx]))"
   ]
  },
  {
   "cell_type": "code",
   "execution_count": 153,
   "metadata": {
    "ExecuteTime": {
     "end_time": "2021-03-01T14:34:59.025144Z",
     "start_time": "2021-03-01T14:34:59.015200Z"
    }
   },
   "outputs": [
    {
     "name": "stdout",
     "output_type": "stream",
     "text": [
      "0번째 : 길자\n",
      "1번째 : 순자\n",
      "2번째 : 길동\n"
     ]
    }
   ],
   "source": [
    "for idx, name in enumerate(L):\n",
    "    print(\"{}번째 : {}\".format(idx, name))"
   ]
  },
  {
   "cell_type": "code",
   "execution_count": 154,
   "metadata": {
    "ExecuteTime": {
     "end_time": "2021-03-01T14:35:03.923277Z",
     "start_time": "2021-03-01T14:35:03.904332Z"
    }
   },
   "outputs": [
    {
     "data": {
      "text/plain": [
       "[(0, ('name', '홍길동')), (1, ('age', 35)), (2, ('address', '마포'))]"
      ]
     },
     "execution_count": 154,
     "metadata": {},
     "output_type": "execute_result"
    }
   ],
   "source": [
    "dic = {\"name\":\"홍길동\",\"age\":35, \"address\":\"마포\"}\n",
    "list(enumerate(dic.items()))"
   ]
  },
  {
   "cell_type": "code",
   "execution_count": 155,
   "metadata": {
    "ExecuteTime": {
     "end_time": "2021-03-01T14:35:25.402384Z",
     "start_time": "2021-03-01T14:35:25.384409Z"
    }
   },
   "outputs": [
    {
     "name": "stdout",
     "output_type": "stream",
     "text": [
      "0번째 키는 name, 값은 홍길동\n",
      "1번째 키는 age, 값은 35\n",
      "2번째 키는 address, 값은 마포\n"
     ]
    }
   ],
   "source": [
    "for idx, (key, value) in enumerate(dic.items()):\n",
    "    print(\"{}번째 키는 {}, 값은 {}\".format(idx, key, value))"
   ]
  },
  {
   "cell_type": "markdown",
   "metadata": {},
   "source": [
    "# 6절. 연습문제"
   ]
  },
  {
   "cell_type": "code",
   "execution_count": 156,
   "metadata": {
    "ExecuteTime": {
     "end_time": "2021-03-01T14:35:47.138484Z",
     "start_time": "2021-03-01T14:35:47.120528Z"
    }
   },
   "outputs": [
    {
     "name": "stdout",
     "output_type": "stream",
     "text": [
      "1번 결과 : [1, 2, 3, 4, 5, 6, 7, 8, 9, 10, 100]\n",
      "2번 결과 : [1, 2, 3, 4, 5, 6, 7, 8, 9, 10, 100, 200, 300, 400, 500]\n",
      "3번 결과 : [1, 2, 3, 4, 5, 6, 7, 8, 9, 10, 100, 200, 300, 400, 500]\n",
      "4번 결과 : [1, 3, 5, 7, 9, 100, 300, 500]\n",
      "5번 후 결과 : [0, 2, 0, 4, 0, 6, 0, 8, 0, 10, 0, 200, 0, 400, 0]\n",
      "6번 결과 : [0, 400, 0, 200, 0, 10, 0, 8, 0, 6, 0, 4, 0, 2, 0]\n"
     ]
    }
   ],
   "source": [
    "# 1.\n",
    "numbers = [1,2,3,4,5,6,7,8,9,10]\n",
    "numbers.append(100)\n",
    "print('1번 결과 :',numbers)\n",
    "# 2.\n",
    "data = [200,300,400,500]\n",
    "numbers.extend(data)\n",
    "print('2번 결과 :',numbers)\n",
    "# 3.\n",
    "numbers[:5]\n",
    "print('3번 결과 :',numbers)\n",
    "# 4.\n",
    "print('4번 결과 :', numbers[::2])\n",
    "#5\n",
    "numbers[::2] = [0] * len(numbers[::2])\n",
    "print('5번 후 결과 :', numbers)\n",
    "# 6. 데이터를 역순으로 나열\n",
    "print('6번 결과 :', numbers[::-1])"
   ]
  },
  {
   "cell_type": "code",
   "execution_count": 157,
   "metadata": {
    "ExecuteTime": {
     "end_time": "2021-03-01T14:35:53.602456Z",
     "start_time": "2021-03-01T14:35:53.597470Z"
    }
   },
   "outputs": [
    {
     "name": "stdout",
     "output_type": "stream",
     "text": [
      "서울시 마포구\n",
      "서울시 마포구\n"
     ]
    }
   ],
   "source": [
    "# 7.\n",
    "member = {'name':\"홍길동\",\"age\":20,\"address\":\"서울시 마포구\", 'score':90}\n",
    "print(member['address'])\n",
    "print(member.get('address'))"
   ]
  },
  {
   "cell_type": "code",
   "execution_count": 158,
   "metadata": {
    "ExecuteTime": {
     "end_time": "2021-03-01T14:36:00.737078Z",
     "start_time": "2021-03-01T14:36:00.731065Z"
    }
   },
   "outputs": [
    {
     "name": "stdout",
     "output_type": "stream",
     "text": [
      "8번에서 score삭제 확인 : {'name': '홍길동', 'age': 20, 'address': '서울시 마포구'}\n",
      "90\n",
      "8번에서 score삭제 확인 : {'name': '홍길동', 'age': 20, 'address': '서울시 마포구'}\n"
     ]
    }
   ],
   "source": [
    "# 8 score를 출력하고 딕셔너리에서 삭제 방법1\n",
    "member.pop('score')\n",
    "print('8번에서 score삭제 확인 :', member)\n",
    "# 8 score를 출력하고 딕셔너리에서 삭제 방법2\n",
    "member = {'name':\"홍길동\",\"age\":20,\"address\":\"서울시 마포구\", 'score':90}\n",
    "print(member['score'])\n",
    "del member['score']\n",
    "print('8번에서 score삭제 확인 :', member)"
   ]
  },
  {
   "cell_type": "code",
   "execution_count": 159,
   "metadata": {
    "ExecuteTime": {
     "end_time": "2021-03-01T14:36:06.951172Z",
     "start_time": "2021-03-01T14:36:06.936178Z"
    }
   },
   "outputs": [
    {
     "name": "stdout",
     "output_type": "stream",
     "text": [
      "9번 확인 : {'name': '홍길동', 'age': 20, 'address': '서울시 서대문구'}\n"
     ]
    },
    {
     "data": {
      "text/plain": [
       "['홍길동', 20, '서울시 서대문구']"
      ]
     },
     "execution_count": 159,
     "metadata": {},
     "output_type": "execute_result"
    }
   ],
   "source": [
    "#9. address변경\n",
    "member['address'] ='서울시 서대문구'\n",
    "print('9번 확인 :', member)\n",
    "\n",
    "# 10 데이터 값만 리스트로 출력\n",
    "list(member.values())"
   ]
  },
  {
   "cell_type": "code",
   "execution_count": 160,
   "metadata": {
    "ExecuteTime": {
     "end_time": "2021-03-01T14:36:13.677603Z",
     "start_time": "2021-03-01T14:36:13.658652Z"
    }
   },
   "outputs": [
    {
     "name": "stdout",
     "output_type": "stream",
     "text": [
      "['orange', 'banana']\n"
     ]
    }
   ],
   "source": [
    "# 서술형 연습문제 1\n",
    "L1 = (\"orange\",\"apple\",\"banana\",\"kiwi\")\n",
    "new_list = [i for i in L1 if len(i)>5]\n",
    "print(new_list)"
   ]
  },
  {
   "cell_type": "code",
   "execution_count": 161,
   "metadata": {
    "ExecuteTime": {
     "end_time": "2021-03-01T14:36:20.589316Z",
     "start_time": "2021-03-01T14:36:20.579324Z"
    }
   },
   "outputs": [
    {
     "data": {
      "text/plain": [
       "[1, 2, 3, 4, 5, 10, 20, 30, 40, 50]"
      ]
     },
     "execution_count": 161,
     "metadata": {},
     "output_type": "execute_result"
    }
   ],
   "source": [
    "# 4\n",
    "numbers = [1,2,3,4,5]\n",
    "numbers.extend([10,20,30,40,50])\n",
    "numbers"
   ]
  },
  {
   "cell_type": "code",
   "execution_count": 162,
   "metadata": {
    "ExecuteTime": {
     "end_time": "2021-03-01T14:36:25.736673Z",
     "start_time": "2021-03-01T14:36:25.722727Z"
    }
   },
   "outputs": [
    {
     "name": "stdout",
     "output_type": "stream",
     "text": [
      "[0, 1, 0, 3, 0, 5, 0, 7, 0, 9]\n"
     ]
    }
   ],
   "source": [
    "# 5\n",
    "numbers = list(range(10))\n",
    "numbers[ : : 2]= [0] * len(numbers[ : : 2])\n",
    "print(numbers)"
   ]
  },
  {
   "cell_type": "code",
   "execution_count": 163,
   "metadata": {
    "ExecuteTime": {
     "end_time": "2021-03-01T14:36:32.381705Z",
     "start_time": "2021-03-01T14:36:32.372775Z"
    }
   },
   "outputs": [
    {
     "data": {
      "text/plain": [
       "[5, 1, 6, 3, 7, 5, 8, 7, 9, 9]"
      ]
     },
     "execution_count": 163,
     "metadata": {},
     "output_type": "execute_result"
    }
   ],
   "source": [
    "# 6. \n",
    "numbers = [0,1,2,3,4,5,6,7,8,9]\n",
    "numbers[::2] = numbers[5:]\n",
    "numbers"
   ]
  },
  {
   "cell_type": "code",
   "execution_count": 164,
   "metadata": {
    "ExecuteTime": {
     "end_time": "2021-03-01T14:36:39.864600Z",
     "start_time": "2021-03-01T14:36:39.850638Z"
    }
   },
   "outputs": [
    {
     "name": "stdout",
     "output_type": "stream",
     "text": [
      "10\n",
      "10\n",
      "10\n",
      "10\n"
     ]
    }
   ],
   "source": [
    "# 8\n",
    "my_dic = {\"a\":10, \"b\":20, \"c\":30}\n",
    "print(my_dic['a'])\n",
    "print(list(my_dic.items())[0][1])\n",
    "print(list(my_dic.values())[0])\n",
    "print(my_dic.get('a'))"
   ]
  }
 ],
 "metadata": {
  "kernelspec": {
   "display_name": "Python 3",
   "language": "python",
   "name": "python3"
  },
  "language_info": {
   "codemirror_mode": {
    "name": "ipython",
    "version": 3
   },
   "file_extension": ".py",
   "mimetype": "text/x-python",
   "name": "python",
   "nbconvert_exporter": "python",
   "pygments_lexer": "ipython3",
   "version": "3.8.5"
  },
  "toc": {
   "base_numbering": 1,
   "nav_menu": {},
   "number_sections": false,
   "sideBar": true,
   "skip_h1_title": false,
   "title_cell": "Table of Contents",
   "title_sidebar": "Contents",
   "toc_cell": false,
   "toc_position": {},
   "toc_section_display": true,
   "toc_window_display": true
  },
  "varInspector": {
   "cols": {
    "lenName": 16,
    "lenType": 16,
    "lenVar": 40
   },
   "kernels_config": {
    "python": {
     "delete_cmd_postfix": "",
     "delete_cmd_prefix": "del ",
     "library": "var_list.py",
     "varRefreshCmd": "print(var_dic_list())"
    },
    "r": {
     "delete_cmd_postfix": ") ",
     "delete_cmd_prefix": "rm(",
     "library": "var_list.r",
     "varRefreshCmd": "cat(var_dic_list()) "
    }
   },
   "types_to_exclude": [
    "module",
    "function",
    "builtin_function_or_method",
    "instance",
    "_Feature"
   ],
   "window_display": false
  }
 },
 "nbformat": 4,
 "nbformat_minor": 4
}
