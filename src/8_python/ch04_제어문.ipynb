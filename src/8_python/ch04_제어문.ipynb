{
 "cells": [
  {
   "cell_type": "markdown",
   "metadata": {},
   "source": [
    "# 1절. 조건문\n",
    "- if, for - in, while, 중첩 가능, 중첩루프탈출"
   ]
  },
  {
   "cell_type": "code",
   "execution_count": 1,
   "metadata": {
    "ExecuteTime": {
     "end_time": "2021-03-01T14:38:32.632017Z",
     "start_time": "2021-03-01T14:38:30.229502Z"
    }
   },
   "outputs": [
    {
     "name": "stdout",
     "output_type": "stream",
     "text": [
      "Enter your score >90\n",
      "참 잘했어요\n",
      "다음에도 기대할께요\n",
      "점수를 입력받아 잘한 사람에게 메세지를 출력함\n"
     ]
    }
   ],
   "source": [
    "score = int(input('Enter your score >'))\n",
    "if score>=90 :\n",
    "    print('참 잘했어요')\n",
    "    print('다음에도 기대할께요')\n",
    "else :\n",
    "    print('분발하세요')\n",
    "\n",
    "print('점수를 입력받아 잘한 사람에게 메세지를 출력함')"
   ]
  },
  {
   "cell_type": "code",
   "execution_count": 2,
   "metadata": {
    "ExecuteTime": {
     "end_time": "2021-03-01T14:38:46.700226Z",
     "start_time": "2021-03-01T14:38:44.279215Z"
    }
   },
   "outputs": [
    {
     "name": "stdout",
     "output_type": "stream",
     "text": [
      "Enter your score >90\n",
      "입력한 점수는 90이고 A등급\n"
     ]
    }
   ],
   "source": [
    "score = int(input('Enter your score >'))\n",
    "if 90<= score <=100 :\n",
    "    grade = 'A'\n",
    "elif 80<= score <90 :\n",
    "    grade = 'B'\n",
    "elif 70<= score <80 :\n",
    "    grade = 'C'\n",
    "elif 60<= score < 70 :\n",
    "    grade = 'D'\n",
    "elif 0<= score < 60 :\n",
    "    grade = 'F'\n",
    "else :\n",
    "    grade = '유효하지 않는 점수'\n",
    "print(\"입력한 점수는 {}이고 {}등급\".format(score, grade))"
   ]
  },
  {
   "cell_type": "markdown",
   "metadata": {},
   "source": [
    "# 2절. 반복문"
   ]
  },
  {
   "cell_type": "markdown",
   "metadata": {},
   "source": [
    "## 2.1 for - in\n",
    "\n",
    "- for 변수 in 나열가능한자료: <br>\n",
    "  반복할 문장1<br>\n",
    "  반복할 문장2<br>\n",
    "  ..<br>\n",
    "  else :<br>\n",
    "  변수에 값이 할당되지 않은 경우 한번 실행할 문장<br>\n",
    "- else 구문은 선택사항"
   ]
  },
  {
   "cell_type": "code",
   "execution_count": 3,
   "metadata": {
    "ExecuteTime": {
     "end_time": "2021-03-01T14:40:23.719548Z",
     "start_time": "2021-03-01T14:40:23.713590Z"
    }
   },
   "outputs": [
    {
     "name": "stdout",
     "output_type": "stream",
     "text": [
      "1\t3\t5\t7\t9\tDONE\n"
     ]
    }
   ],
   "source": [
    "for i in range(1,10,2):\n",
    "    print(i, end=\"\\t\")\n",
    "else :\n",
    "    print(\"DONE\")"
   ]
  },
  {
   "cell_type": "markdown",
   "metadata": {},
   "source": [
    "## 2.2 while\n",
    "- while 조건 :<br>\n",
    "  반복할 문장1<br>\n",
    "  반복할 문장2<br>\n",
    "  ....<br>\n",
    "  else:<br>\n",
    "  조건이 거짓일 경우 실행할 문장<br>\n",
    "- else 구문은 선택사항<br>\n",
    "- 무한 반복문에 빠지지 않도록 조건식이 바뀔 수 있는 변수값을 수정하는 코드 필요"
   ]
  },
  {
   "cell_type": "code",
   "execution_count": 4,
   "metadata": {
    "ExecuteTime": {
     "end_time": "2021-03-01T14:42:27.204567Z",
     "start_time": "2021-03-01T14:42:27.188610Z"
    }
   },
   "outputs": [
    {
     "name": "stdout",
     "output_type": "stream",
     "text": [
      "0\t1\t2\t3\t4\t5\t6\t7\t8\t9\ti값이 10이라서 빠져나감\n"
     ]
    }
   ],
   "source": [
    "i = 0\n",
    "while i<10 :\n",
    "    print(i, end='\\t')\n",
    "    i += 1\n",
    "else :\n",
    "    print(\"i값이 {}이라서 빠져나감\".format(i))"
   ]
  },
  {
   "cell_type": "code",
   "execution_count": 5,
   "metadata": {
    "ExecuteTime": {
     "end_time": "2021-03-01T14:42:34.592043Z",
     "start_time": "2021-03-01T14:42:34.580076Z"
    }
   },
   "outputs": [
    {
     "name": "stdout",
     "output_type": "stream",
     "text": [
      "1부터 100까지 짝수의 합은 2550\n"
     ]
    }
   ],
   "source": [
    "# 1~100까지의 짝수의 합\n",
    "sum = 0\n",
    "i = 1\n",
    "while i<=100 :\n",
    "    if i%2 == 0 :\n",
    "        sum += i\n",
    "    i += 1 \n",
    "else:\n",
    "    print(\"1부터 100까지 짝수의 합은\", sum)"
   ]
  },
  {
   "cell_type": "markdown",
   "metadata": {},
   "source": [
    "## 2.3 break, continue"
   ]
  },
  {
   "cell_type": "code",
   "execution_count": 6,
   "metadata": {
    "ExecuteTime": {
     "end_time": "2021-03-01T14:43:00.786024Z",
     "start_time": "2021-03-01T14:43:00.768085Z"
    }
   },
   "outputs": [
    {
     "name": "stdout",
     "output_type": "stream",
     "text": [
      "1 2 3 4 "
     ]
    }
   ],
   "source": [
    "num = 0\n",
    "while num<=10 :\n",
    "    num += 1\n",
    "    if num == 5 :\n",
    "        break; # 현재 반복문 빠져나감\n",
    "    print(num, end=' ')"
   ]
  },
  {
   "cell_type": "code",
   "execution_count": 8,
   "metadata": {
    "ExecuteTime": {
     "end_time": "2021-03-01T14:43:36.040635Z",
     "start_time": "2021-03-01T14:43:36.020707Z"
    }
   },
   "outputs": [
    {
     "name": "stdout",
     "output_type": "stream",
     "text": [
      "1 2 3 4 6 7 8 9 10 11 "
     ]
    }
   ],
   "source": [
    "num = 0\n",
    "while num<=10 :\n",
    "    num += 1\n",
    "    if num == 5 :\n",
    "        continue; # 반복문의 조건으로 감\n",
    "    print(num, end=' ')"
   ]
  },
  {
   "cell_type": "code",
   "execution_count": 9,
   "metadata": {
    "ExecuteTime": {
     "end_time": "2021-03-01T14:43:42.921730Z",
     "start_time": "2021-03-01T14:43:42.902806Z"
    }
   },
   "outputs": [
    {
     "data": {
      "text/plain": [
       "25"
      ]
     },
     "execution_count": 9,
     "metadata": {},
     "output_type": "execute_result"
    }
   ],
   "source": [
    "# 숫자 찾기 게임\n",
    "'''\n",
    "1~ 100 사이의 숫자를 맞추는 프로그램을 제작하시오\n",
    "(프로그램 안에서 임의의 숫자가 만들어지고, 숫자를 맞추도록 한다\n",
    "방법1. 숫자가 틑리면 UP, DOWN을 알려주고 숫자를 맞추면 종료한다.\n",
    "방법2. 숫자가 틀리면 min~max 사이의 수라고 알려주고 숫자를 맞추면 종료한다)\n",
    "'''\n",
    "import random\n",
    "random.randint(1,100)"
   ]
  },
  {
   "cell_type": "code",
   "execution_count": 10,
   "metadata": {
    "ExecuteTime": {
     "end_time": "2021-03-01T14:44:10.360710Z",
     "start_time": "2021-03-01T14:43:56.629551Z"
    }
   },
   "outputs": [
    {
     "name": "stdout",
     "output_type": "stream",
     "text": [
      "비밀이야 99\n",
      "1 ~ 100 사이의 컴퓨터가 선택한 특정 수를 맞춰보세요 : \n",
      "50\n",
      "당신이 입력한 수보다 큰 수예요(UP)\n",
      "51 ~ 100 사이의 컴퓨터가 선택한 특정 수를 맞춰보세요 : \n",
      "70\n",
      "당신이 입력한 수보다 큰 수예요(UP)\n",
      "71 ~ 100 사이의 컴퓨터가 선택한 특정 수를 맞춰보세요 : \n",
      "80\n",
      "당신이 입력한 수보다 큰 수예요(UP)\n",
      "81 ~ 100 사이의 컴퓨터가 선택한 특정 수를 맞춰보세요 : \n",
      "90\n",
      "당신이 입력한 수보다 큰 수예요(UP)\n",
      "91 ~ 100 사이의 컴퓨터가 선택한 특정 수를 맞춰보세요 : \n",
      "99\n",
      "축하 축하 맞추셨어요\n"
     ]
    }
   ],
   "source": [
    "min = 1\n",
    "max = 100\n",
    "randomNum = random.randint(min, max)\n",
    "print('비밀이야',randomNum)\n",
    "inputNum = 0\n",
    "while randomNum != inputNum :\n",
    "    print(min, '~', max, '사이의 컴퓨터가 선택한 특정 수를 맞춰보세요 : ')\n",
    "    inputNum = int(input())\n",
    "    if randomNum < inputNum:\n",
    "        max = inputNum -1\n",
    "        print('당신이 입력한 수보다 작은 수예요(DOWN)')\n",
    "    elif inputNum < randomNum:\n",
    "        min = inputNum +1\n",
    "        print('당신이 입력한 수보다 큰 수예요(UP)')\n",
    "    else :\n",
    "        print(\"축하 축하 맞추셨어요\")"
   ]
  },
  {
   "cell_type": "markdown",
   "metadata": {},
   "source": [
    "# 3절. 중첩루프 ; 반복문 안에 반복문\n",
    "- 2차원 이상의 데이터 구조의 모든 항목들을 처리하기 위해 사용"
   ]
  },
  {
   "cell_type": "code",
   "execution_count": 11,
   "metadata": {
    "ExecuteTime": {
     "end_time": "2021-03-01T14:45:50.238491Z",
     "start_time": "2021-03-01T14:45:50.219575Z"
    }
   },
   "outputs": [
    {
     "name": "stdout",
     "output_type": "stream",
     "text": [
      "[[1, 2, 3, 4, 5], [10, 20, 30, 40], [11, 22, 33, 44]]\n"
     ]
    }
   ],
   "source": [
    "list_2d = [[1,2,3,4,5],\n",
    "           [10,20,30,40],\n",
    "           [11,22,33,44]]\n",
    "print(list_2d)"
   ]
  },
  {
   "cell_type": "code",
   "execution_count": 12,
   "metadata": {
    "ExecuteTime": {
     "end_time": "2021-03-01T14:45:55.544646Z",
     "start_time": "2021-03-01T14:45:55.530651Z"
    }
   },
   "outputs": [
    {
     "name": "stdout",
     "output_type": "stream",
     "text": [
      "0행0열 : 1\t0행1열 : 2\t0행2열 : 3\t0행3열 : 4\t0행4열 : 5\t\n",
      "1행0열 : 10\t1행1열 : 20\t1행2열 : 30\t1행3열 : 40\t\n",
      "2행0열 : 11\t2행1열 : 22\t2행2열 : 33\t2행3열 : 44\t\n"
     ]
    }
   ],
   "source": [
    "for i in range(len(list_2d)):\n",
    "    for j in range(len(list_2d[i])):\n",
    "        print(\"{}행{}열 : {}\".format(i, j, list_2d[i][j]), end='\\t')\n",
    "    print()"
   ]
  },
  {
   "cell_type": "code",
   "execution_count": 13,
   "metadata": {
    "ExecuteTime": {
     "end_time": "2021-03-01T14:46:03.893703Z",
     "start_time": "2021-03-01T14:46:03.874719Z"
    }
   },
   "outputs": [
    {
     "name": "stdout",
     "output_type": "stream",
     "text": [
      "0행0열 : 1\t0행1열 : 2\t0행2열 : 3\t0행3열 : 4\t0행4열 : 5\t\n",
      "1행0열 : 10\t1행1열 : 20\t1행2열 : 30\t1행3열 : 40\t\n",
      "2행0열 : 11\t2행1열 : 22\t2행2열 : 33\t2행3열 : 44\t\n"
     ]
    }
   ],
   "source": [
    "for i, row in enumerate(list_2d):\n",
    "    for j, data in enumerate(row):\n",
    "        print(\"{}행{}열 : {}\".format(i, j, data), end='\\t')\n",
    "    print()"
   ]
  },
  {
   "cell_type": "code",
   "execution_count": null,
   "metadata": {},
   "outputs": [],
   "source": [
    "# 2~9단까지 구구단 전체 출력하시오\n",
    "'''\n",
    "2*1= 2   3*1= 3   4*1= 4   5*1= 5   ... 9*1= 9\n",
    "2*2= 4   3*2= 6   4*2= 8   5*2=10   ... 9*2=18 \n",
    "                     ...\n",
    "2*9=19   3*2=27   4*9=36   5*9=45   ... 9*9=81\n",
    "'''"
   ]
  },
  {
   "cell_type": "code",
   "execution_count": 16,
   "metadata": {
    "ExecuteTime": {
     "end_time": "2021-03-01T14:46:31.630008Z",
     "start_time": "2021-03-01T14:46:31.614051Z"
    }
   },
   "outputs": [
    {
     "name": "stdout",
     "output_type": "stream",
     "text": [
      "2*1= 2\t3*1= 3\t4*1= 4\t5*1= 5\t6*1= 6\t7*1= 7\t8*1= 8\t9*1= 9\t\n",
      "2*2= 4\t3*2= 6\t4*2= 8\t5*2=10\t6*2=12\t7*2=14\t8*2=16\t9*2=18\t\n",
      "2*3= 6\t3*3= 9\t4*3=12\t5*3=15\t6*3=18\t7*3=21\t8*3=24\t9*3=27\t\n",
      "2*4= 8\t3*4=12\t4*4=16\t5*4=20\t6*4=24\t7*4=28\t8*4=32\t9*4=36\t\n",
      "2*5=10\t3*5=15\t4*5=20\t5*5=25\t6*5=30\t7*5=35\t8*5=40\t9*5=45\t\n",
      "2*6=12\t3*6=18\t4*6=24\t5*6=30\t6*6=36\t7*6=42\t8*6=48\t9*6=54\t\n",
      "2*7=14\t3*7=21\t4*7=28\t5*7=35\t6*7=42\t7*7=49\t8*7=56\t9*7=63\t\n",
      "2*8=16\t3*8=24\t4*8=32\t5*8=40\t6*8=48\t7*8=56\t8*8=64\t9*8=72\t\n",
      "2*9=18\t3*9=27\t4*9=36\t5*9=45\t6*9=54\t7*9=63\t8*9=72\t9*9=81\t\n"
     ]
    }
   ],
   "source": [
    "for i in range(1,10):\n",
    "    for j in range(2,10):\n",
    "        print(\"{}*{}={:>2}\".format(j,i,i*j), end='\\t')\n",
    "    print()"
   ]
  },
  {
   "cell_type": "markdown",
   "metadata": {},
   "source": [
    "# 4절. 중첩루프 탈출"
   ]
  },
  {
   "cell_type": "code",
   "execution_count": 17,
   "metadata": {
    "ExecuteTime": {
     "end_time": "2021-03-01T14:47:07.454096Z",
     "start_time": "2021-03-01T14:47:07.448133Z"
    }
   },
   "outputs": [
    {
     "name": "stdout",
     "output_type": "stream",
     "text": [
      "0 1\n",
      "0 2\n",
      "2 1\n"
     ]
    }
   ],
   "source": [
    "# 이 예제에서 break는 안쪽 반복문을 빠져나옴\n",
    "for a in range(0,3):     # a = 0, 1, 2\n",
    "    for b in range(1,3): # b = 1, 2\n",
    "        if a==b:\n",
    "            break;\n",
    "        print(a, b)"
   ]
  },
  {
   "cell_type": "code",
   "execution_count": 18,
   "metadata": {
    "ExecuteTime": {
     "end_time": "2021-03-01T14:47:19.042476Z",
     "start_time": "2021-03-01T14:47:19.034499Z"
    }
   },
   "outputs": [
    {
     "name": "stdout",
     "output_type": "stream",
     "text": [
      "0 1\n",
      "0 2\n"
     ]
    }
   ],
   "source": [
    "# break를 만나면 바깥쪽 반복문까지 탈출 ; 방법1. 플래그 변수 이용\n",
    "break_out_flag = False\n",
    "for a in range(3):\n",
    "    for b in range(1,3):\n",
    "        if a == b:\n",
    "            break_out_flag = True\n",
    "            break;\n",
    "        print(a, b)\n",
    "    if break_out_flag:\n",
    "        break;"
   ]
  },
  {
   "cell_type": "code",
   "execution_count": null,
   "metadata": {},
   "outputs": [],
   "source": [
    "#  break를 만나면 바깥쪽 반복문까지 탈출 ; 방법2. Exception 이용"
   ]
  },
  {
   "cell_type": "code",
   "execution_count": 19,
   "metadata": {
    "ExecuteTime": {
     "end_time": "2021-03-01T14:47:36.491086Z",
     "start_time": "2021-03-01T14:47:36.474130Z"
    }
   },
   "outputs": [],
   "source": [
    "class BreakOutLoop(Exception):\n",
    "    pass # 아무것도 추가하지 않겠다"
   ]
  },
  {
   "cell_type": "code",
   "execution_count": 20,
   "metadata": {
    "ExecuteTime": {
     "end_time": "2021-03-01T14:47:49.859139Z",
     "start_time": "2021-03-01T14:47:49.850169Z"
    }
   },
   "outputs": [
    {
     "name": "stdout",
     "output_type": "stream",
     "text": [
      "0 1\n",
      "0 2\n"
     ]
    }
   ],
   "source": [
    "for a in range(3):\n",
    "    try:\n",
    "        for b in range(1,3):\n",
    "            if a == b:\n",
    "                raise BreakOutLoop\n",
    "            print(a, b)\n",
    "    except BreakOutLoop :\n",
    "        break;"
   ]
  },
  {
   "cell_type": "code",
   "execution_count": 21,
   "metadata": {
    "ExecuteTime": {
     "end_time": "2021-03-01T14:48:01.314380Z",
     "start_time": "2021-03-01T14:48:01.309393Z"
    }
   },
   "outputs": [
    {
     "name": "stdout",
     "output_type": "stream",
     "text": [
      "0 1\n",
      "0 2\n",
      "a와 b가 같아지면 break\n"
     ]
    }
   ],
   "source": [
    "try:\n",
    "    for a in range(3):\n",
    "        for b in range(1, 3):\n",
    "            if a == b :\n",
    "                raise BreakOutLoop\n",
    "            print(a, b)\n",
    "except BreakOutLoop:\n",
    "    print('a와 b가 같아지면 break')"
   ]
  },
  {
   "cell_type": "markdown",
   "metadata": {},
   "source": [
    "# 5절. 연습문제"
   ]
  },
  {
   "cell_type": "code",
   "execution_count": 22,
   "metadata": {
    "ExecuteTime": {
     "end_time": "2021-03-01T14:48:23.439331Z",
     "start_time": "2021-03-01T14:48:18.989810Z"
    }
   },
   "outputs": [
    {
     "name": "stdout",
     "output_type": "stream",
     "text": [
      "양의 정수를 입력하세요-9\n",
      "양수\n",
      "양의 정수를 입력하세요9\n",
      "9를 입력하셨네요. 홀수입니다\n"
     ]
    }
   ],
   "source": [
    "# 실습형 연습문제 1\n",
    "num = -1\n",
    "while(num<=0):\n",
    "    num = int(input('양의 정수를 입력하세요'))\n",
    "    if(num>0) and (num%2==0):\n",
    "        print(\"{}를 입력하셨네요. 짝수입니다\".format(num))\n",
    "    elif (num>0) and (num%2 ==1):\n",
    "        print(\"{}를 입력하셨네요. 홀수입니다\".format(num))\n",
    "    else:\n",
    "        print(\"양수\")"
   ]
  },
  {
   "cell_type": "code",
   "execution_count": 25,
   "metadata": {
    "ExecuteTime": {
     "end_time": "2021-03-01T14:49:31.231433Z",
     "start_time": "2021-03-01T14:49:18.423103Z"
    }
   },
   "outputs": [
    {
     "name": "stdout",
     "output_type": "stream",
     "text": [
      "양수를 입력 : -9\n",
      "양수를 입력해\n",
      "양수를 입력 : 8\n",
      "짝수\n"
     ]
    }
   ],
   "source": [
    "while(True):\n",
    "    num = int(input('양수를 입력 : '))\n",
    "    if(num>=0):\n",
    "        if num%2==0:\n",
    "            print(\"짝수\")\n",
    "        else:\n",
    "            print(\"홀수\")\n",
    "        break\n",
    "    else:\n",
    "        print(\"양수를 입력해\")"
   ]
  },
  {
   "cell_type": "code",
   "execution_count": 26,
   "metadata": {
    "ExecuteTime": {
     "end_time": "2021-03-01T14:49:43.592624Z",
     "start_time": "2021-03-01T14:49:43.572678Z"
    }
   },
   "outputs": [
    {
     "name": "stdout",
     "output_type": "stream",
     "text": [
      "1~50까지의 3의 배수의 총합 : 408\n"
     ]
    }
   ],
   "source": [
    "# 실습형 연습문제 2. 1~50까지 3의 배수의 총합\n",
    "sum = 0\n",
    "for i in range(1,51):\n",
    "    if(i%3==0):\n",
    "        sum += i\n",
    "else:\n",
    "    print('1~50까지의 3의 배수의 총합 :', sum)"
   ]
  },
  {
   "cell_type": "code",
   "execution_count": 27,
   "metadata": {
    "ExecuteTime": {
     "end_time": "2021-03-01T14:49:49.880271Z",
     "start_time": "2021-03-01T14:49:49.872318Z"
    }
   },
   "outputs": [
    {
     "name": "stdout",
     "output_type": "stream",
     "text": [
      "a\n",
      "*****\n",
      "*****\n",
      "*****\n",
      "*****\n",
      "*****\n",
      "b\n",
      "*\n",
      "**\n",
      "***\n",
      "****\n",
      "*****\n"
     ]
    }
   ],
   "source": [
    "print('a')\n",
    "for i in range(5):\n",
    "    for j in range(5):\n",
    "        print('*', end='')\n",
    "    print()\n",
    "print('b')\n",
    "for i in range(5):\n",
    "    for j in range(i+1):\n",
    "        print('*', end='')\n",
    "    print()"
   ]
  },
  {
   "cell_type": "code",
   "execution_count": 28,
   "metadata": {
    "ExecuteTime": {
     "end_time": "2021-03-01T14:49:58.578710Z",
     "start_time": "2021-03-01T14:49:58.564719Z"
    }
   },
   "outputs": [
    {
     "name": "stdout",
     "output_type": "stream",
     "text": [
      "c\n",
      "*****\n",
      "****\n",
      "***\n",
      "**\n",
      "*\n"
     ]
    }
   ],
   "source": [
    "print('c')\n",
    "for i in range(5, 0, -1):\n",
    "    for j in range(i):\n",
    "        print('*', end='')\n",
    "    print()"
   ]
  },
  {
   "cell_type": "code",
   "execution_count": 29,
   "metadata": {
    "ExecuteTime": {
     "end_time": "2021-03-01T14:50:04.538608Z",
     "start_time": "2021-03-01T14:50:04.531627Z"
    }
   },
   "outputs": [
    {
     "name": "stdout",
     "output_type": "stream",
     "text": [
      "d\n",
      "    *\n",
      "   **\n",
      "  ***\n",
      " ****\n",
      "*****\n"
     ]
    }
   ],
   "source": [
    "print('d')\n",
    "for j in range(1,6):\n",
    "    for i in range(5-j):\n",
    "        print(' ', end='')\n",
    "    for i in range(j):\n",
    "        print('*', end='')\n",
    "    print()"
   ]
  },
  {
   "cell_type": "code",
   "execution_count": 30,
   "metadata": {
    "ExecuteTime": {
     "end_time": "2021-03-01T14:50:12.288313Z",
     "start_time": "2021-03-01T14:50:12.275324Z"
    }
   },
   "outputs": [
    {
     "name": "stdout",
     "output_type": "stream",
     "text": [
      "d\n",
      "    *\n",
      "   **\n",
      "  ***\n",
      " ****\n",
      "*****\n"
     ]
    }
   ],
   "source": [
    "print('d')\n",
    "for j in range(1,6):\n",
    "    start = ''\n",
    "    for i in range(5-j):\n",
    "        start += ' '\n",
    "    for i in range(j):\n",
    "        start += '*'\n",
    "    print(start)"
   ]
  },
  {
   "cell_type": "code",
   "execution_count": 31,
   "metadata": {
    "ExecuteTime": {
     "end_time": "2021-03-01T14:50:19.278972Z",
     "start_time": "2021-03-01T14:50:19.254042Z"
    }
   },
   "outputs": [
    {
     "name": "stdout",
     "output_type": "stream",
     "text": [
      "e\n",
      "*****\n",
      " ****\n",
      "  ***\n",
      "   **\n",
      "    *\n"
     ]
    }
   ],
   "source": [
    "print('e')\n",
    "for i in range(5,0, -1):\n",
    "    for k in range(5-i):\n",
    "        print(' ', end='')\n",
    "    for j in range(i):\n",
    "        print('*', end='')\n",
    "    print()"
   ]
  },
  {
   "cell_type": "code",
   "execution_count": 33,
   "metadata": {
    "ExecuteTime": {
     "end_time": "2021-03-01T14:50:27.366272Z",
     "start_time": "2021-03-01T14:50:27.353308Z"
    }
   },
   "outputs": [
    {
     "name": "stdout",
     "output_type": "stream",
     "text": [
      "165\n"
     ]
    }
   ],
   "source": [
    "# 서술형 연습문제1.\n",
    "sum = 0\n",
    "for i in range(1,31):\n",
    "    if(i%3==0):\n",
    "        sum = sum + i\n",
    "    else:\n",
    "        pass\n",
    "print(sum)"
   ]
  },
  {
   "cell_type": "code",
   "execution_count": 34,
   "metadata": {
    "ExecuteTime": {
     "end_time": "2021-03-01T14:50:36.177673Z",
     "start_time": "2021-03-01T14:50:36.165709Z"
    }
   },
   "outputs": [
    {
     "name": "stdout",
     "output_type": "stream",
     "text": [
      "1 3 5 7 9 "
     ]
    }
   ],
   "source": [
    "# 서술형 연습문제2.\n",
    "num = 0\n",
    "while num <= 10:\n",
    "    if num%2 == 1:\n",
    "        print(num, end=' ')\n",
    "    num += 1"
   ]
  },
  {
   "cell_type": "code",
   "execution_count": 35,
   "metadata": {
    "ExecuteTime": {
     "end_time": "2021-03-01T14:50:45.329565Z",
     "start_time": "2021-03-01T14:50:45.317565Z"
    }
   },
   "outputs": [
    {
     "name": "stdout",
     "output_type": "stream",
     "text": [
      "1 2 3 \n",
      "4 5 6 7 \n",
      "8 9 \n"
     ]
    }
   ],
   "source": [
    "# 서술형 연습문제 3번\n",
    "list_2d = [[1,2,3,],[4,5,6,7],[8,9]]\n",
    "for row in list_2d:\n",
    "    for data in row:\n",
    "        print(data, end=' ')\n",
    "    print()"
   ]
  },
  {
   "cell_type": "code",
   "execution_count": 36,
   "metadata": {
    "ExecuteTime": {
     "end_time": "2021-03-01T14:50:55.060012Z",
     "start_time": "2021-03-01T14:50:55.048072Z"
    }
   },
   "outputs": [
    {
     "name": "stdout",
     "output_type": "stream",
     "text": [
      "0 apple\n",
      "1 banana\n"
     ]
    }
   ],
   "source": [
    "#서술형 연습문제 4번\n",
    "colors = {\"red\":\"apple\", 'yellow':'banana'}\n",
    "for i, v in enumerate(colors.values()):\n",
    "    print(i, v)"
   ]
  },
  {
   "cell_type": "code",
   "execution_count": 37,
   "metadata": {
    "ExecuteTime": {
     "end_time": "2021-03-01T14:51:00.444786Z",
     "start_time": "2021-03-01T14:51:00.427819Z"
    }
   },
   "outputs": [
    {
     "name": "stdout",
     "output_type": "stream",
     "text": [
      "1 0\n"
     ]
    }
   ],
   "source": [
    "#서술형 연습문제 5번\n",
    "for i in range(0,2):\n",
    "    for j in range(0,2):\n",
    "        if i==j:\n",
    "            break\n",
    "        print(i, j)"
   ]
  },
  {
   "cell_type": "code",
   "execution_count": 38,
   "metadata": {
    "ExecuteTime": {
     "end_time": "2021-03-01T14:51:05.994028Z",
     "start_time": "2021-03-01T14:51:05.975080Z"
    }
   },
   "outputs": [
    {
     "name": "stdout",
     "output_type": "stream",
     "text": [
      "0 0\n",
      "1 0\n",
      "1 1\n"
     ]
    }
   ],
   "source": [
    "#서술형 연습문제 6번\n",
    "for i in range(0,2):\n",
    "    for j in range(0,2):\n",
    "        print(i, j)\n",
    "        if i==j:\n",
    "            break"
   ]
  },
  {
   "cell_type": "code",
   "execution_count": 39,
   "metadata": {
    "ExecuteTime": {
     "end_time": "2021-03-01T14:51:12.157026Z",
     "start_time": "2021-03-01T14:51:12.151041Z"
    }
   },
   "outputs": [
    {
     "name": "stdout",
     "output_type": "stream",
     "text": [
      "3 5 7 9 "
     ]
    }
   ],
   "source": [
    "L = [3,4,5,6,7,8,9,10]\n",
    "for i, data in enumerate(L):\n",
    "    if(i%2==0):\n",
    "        print(data, end=' ')"
   ]
  }
 ],
 "metadata": {
  "kernelspec": {
   "display_name": "Python 3",
   "language": "python",
   "name": "python3"
  },
  "language_info": {
   "codemirror_mode": {
    "name": "ipython",
    "version": 3
   },
   "file_extension": ".py",
   "mimetype": "text/x-python",
   "name": "python",
   "nbconvert_exporter": "python",
   "pygments_lexer": "ipython3",
   "version": "3.8.5"
  },
  "toc": {
   "base_numbering": 1,
   "nav_menu": {},
   "number_sections": false,
   "sideBar": true,
   "skip_h1_title": false,
   "title_cell": "Table of Contents",
   "title_sidebar": "Contents",
   "toc_cell": false,
   "toc_position": {},
   "toc_section_display": true,
   "toc_window_display": true
  },
  "varInspector": {
   "cols": {
    "lenName": 16,
    "lenType": 16,
    "lenVar": 40
   },
   "kernels_config": {
    "python": {
     "delete_cmd_postfix": "",
     "delete_cmd_prefix": "del ",
     "library": "var_list.py",
     "varRefreshCmd": "print(var_dic_list())"
    },
    "r": {
     "delete_cmd_postfix": ") ",
     "delete_cmd_prefix": "rm(",
     "library": "var_list.r",
     "varRefreshCmd": "cat(var_dic_list()) "
    }
   },
   "types_to_exclude": [
    "module",
    "function",
    "builtin_function_or_method",
    "instance",
    "_Feature"
   ],
   "window_display": false
  }
 },
 "nbformat": 4,
 "nbformat_minor": 4
}
