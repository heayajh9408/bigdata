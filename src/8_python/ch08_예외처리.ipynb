{
 "cells": [
  {
   "cell_type": "markdown",
   "metadata": {},
   "source": [
    "# 1절. 예외처리\n",
    "- 예외가 날 가능성이 있는 부분에 대해 미리 대비하는 프로그래밍"
   ]
  },
  {
   "cell_type": "code",
   "execution_count": 1,
   "metadata": {
    "ExecuteTime": {
     "end_time": "2021-03-03T13:51:53.487514Z",
     "start_time": "2021-03-03T13:47:50.609918Z"
    }
   },
   "outputs": [
    {
     "name": "stdout",
     "output_type": "stream",
     "text": [
      "읽을 파일이름은?ch08_data.txt\n"
     ]
    },
    {
     "ename": "FileNotFoundError",
     "evalue": "[Errno 2] No such file or directory: 'data/ch08_data.txt'",
     "output_type": "error",
     "traceback": [
      "\u001b[1;31m---------------------------------------------------------------------------\u001b[0m",
      "\u001b[1;31mFileNotFoundError\u001b[0m                         Traceback (most recent call last)",
      "\u001b[1;32m<ipython-input-1-47e797d60257>\u001b[0m in \u001b[0;36m<module>\u001b[1;34m\u001b[0m\n\u001b[0;32m      1\u001b[0m \u001b[0mfilename\u001b[0m \u001b[1;33m=\u001b[0m \u001b[0minput\u001b[0m\u001b[1;33m(\u001b[0m\u001b[1;34m'읽을 파일이름은?'\u001b[0m\u001b[1;33m)\u001b[0m\u001b[1;33m\u001b[0m\u001b[1;33m\u001b[0m\u001b[0m\n\u001b[1;32m----> 2\u001b[1;33m \u001b[0mf\u001b[0m \u001b[1;33m=\u001b[0m \u001b[0mopen\u001b[0m\u001b[1;33m(\u001b[0m\u001b[1;34m'data/'\u001b[0m\u001b[1;33m+\u001b[0m\u001b[0mfilename\u001b[0m\u001b[1;33m,\u001b[0m \u001b[1;34m'r'\u001b[0m\u001b[1;33m)\u001b[0m\u001b[1;33m\u001b[0m\u001b[1;33m\u001b[0m\u001b[0m\n\u001b[0m\u001b[0;32m      3\u001b[0m \u001b[0mfirstline\u001b[0m \u001b[1;33m=\u001b[0m \u001b[0mf\u001b[0m\u001b[1;33m.\u001b[0m\u001b[0mreadline\u001b[0m\u001b[1;33m(\u001b[0m\u001b[1;33m)\u001b[0m\u001b[1;33m\u001b[0m\u001b[1;33m\u001b[0m\u001b[0m\n\u001b[0;32m      4\u001b[0m \u001b[0mprint\u001b[0m\u001b[1;33m(\u001b[0m\u001b[0mfirstline\u001b[0m\u001b[1;33m)\u001b[0m\u001b[1;33m\u001b[0m\u001b[1;33m\u001b[0m\u001b[0m\n\u001b[0;32m      5\u001b[0m \u001b[0mf\u001b[0m\u001b[1;33m.\u001b[0m\u001b[0mclose\u001b[0m\u001b[1;33m(\u001b[0m\u001b[1;33m)\u001b[0m\u001b[1;33m\u001b[0m\u001b[1;33m\u001b[0m\u001b[0m\n",
      "\u001b[1;31mFileNotFoundError\u001b[0m: [Errno 2] No such file or directory: 'data/ch08_data.txt'"
     ]
    }
   ],
   "source": [
    "filename = input('읽을 파일이름은?')\n",
    "f = open('data/'+filename, 'r')\n",
    "firstline = f.readline()\n",
    "print(firstline)\n",
    "f.close()"
   ]
  },
  {
   "cell_type": "code",
   "execution_count": 2,
   "metadata": {
    "ExecuteTime": {
     "end_time": "2021-03-03T13:52:06.903106Z",
     "start_time": "2021-03-03T13:52:02.410172Z"
    }
   },
   "outputs": [
    {
     "name": "stdout",
     "output_type": "stream",
     "text": [
      "정수를 입력하세요 >s\n"
     ]
    },
    {
     "ename": "ValueError",
     "evalue": "invalid literal for int() with base 10: 's'",
     "output_type": "error",
     "traceback": [
      "\u001b[1;31m---------------------------------------------------------------------------\u001b[0m",
      "\u001b[1;31mValueError\u001b[0m                                Traceback (most recent call last)",
      "\u001b[1;32m<ipython-input-2-7b2ac6f940cc>\u001b[0m in \u001b[0;36m<module>\u001b[1;34m\u001b[0m\n\u001b[1;32m----> 1\u001b[1;33m \u001b[0mnum\u001b[0m \u001b[1;33m=\u001b[0m \u001b[0mint\u001b[0m\u001b[1;33m(\u001b[0m\u001b[0minput\u001b[0m\u001b[1;33m(\u001b[0m\u001b[1;34m\"정수를 입력하세요 >\"\u001b[0m\u001b[1;33m)\u001b[0m\u001b[1;33m)\u001b[0m\u001b[1;33m\u001b[0m\u001b[1;33m\u001b[0m\u001b[0m\n\u001b[0m",
      "\u001b[1;31mValueError\u001b[0m: invalid literal for int() with base 10: 's'"
     ]
    }
   ],
   "source": [
    "num = int(input(\"정수를 입력하세요 >\"))"
   ]
  },
  {
   "cell_type": "code",
   "execution_count": 3,
   "metadata": {
    "ExecuteTime": {
     "end_time": "2021-03-03T13:52:19.280041Z",
     "start_time": "2021-03-03T13:52:15.313704Z"
    }
   },
   "outputs": [
    {
     "name": "stdout",
     "output_type": "stream",
     "text": [
      "정수를 입력하세요 >0\n"
     ]
    },
    {
     "ename": "ZeroDivisionError",
     "evalue": "division by zero",
     "output_type": "error",
     "traceback": [
      "\u001b[1;31m---------------------------------------------------------------------------\u001b[0m",
      "\u001b[1;31mZeroDivisionError\u001b[0m                         Traceback (most recent call last)",
      "\u001b[1;32m<ipython-input-3-2c18e06570fb>\u001b[0m in \u001b[0;36m<module>\u001b[1;34m\u001b[0m\n\u001b[0;32m      1\u001b[0m \u001b[0mnum\u001b[0m \u001b[1;33m=\u001b[0m \u001b[0mint\u001b[0m\u001b[1;33m(\u001b[0m\u001b[0minput\u001b[0m\u001b[1;33m(\u001b[0m\u001b[1;34m\"정수를 입력하세요 >\"\u001b[0m\u001b[1;33m)\u001b[0m\u001b[1;33m)\u001b[0m\u001b[1;33m\u001b[0m\u001b[1;33m\u001b[0m\u001b[0m\n\u001b[1;32m----> 2\u001b[1;33m \u001b[0mprint\u001b[0m\u001b[1;33m(\u001b[0m\u001b[1;36m10\u001b[0m \u001b[1;33m/\u001b[0m \u001b[0mnum\u001b[0m\u001b[1;33m)\u001b[0m\u001b[1;33m\u001b[0m\u001b[1;33m\u001b[0m\u001b[0m\n\u001b[0m",
      "\u001b[1;31mZeroDivisionError\u001b[0m: division by zero"
     ]
    }
   ],
   "source": [
    "num = int(input(\"정수를 입력하세요 >\"))\n",
    "print(10 / num)"
   ]
  },
  {
   "cell_type": "code",
   "execution_count": 4,
   "metadata": {
    "ExecuteTime": {
     "end_time": "2021-03-03T13:52:27.592759Z",
     "start_time": "2021-03-03T13:52:26.768234Z"
    }
   },
   "outputs": [
    {
     "name": "stdout",
     "output_type": "stream",
     "text": [
      "원하는 인덱스는 ?3\n"
     ]
    },
    {
     "ename": "IndexError",
     "evalue": "list index out of range",
     "output_type": "error",
     "traceback": [
      "\u001b[1;31m---------------------------------------------------------------------------\u001b[0m",
      "\u001b[1;31mIndexError\u001b[0m                                Traceback (most recent call last)",
      "\u001b[1;32m<ipython-input-4-346cb5a799dc>\u001b[0m in \u001b[0;36m<module>\u001b[1;34m\u001b[0m\n\u001b[0;32m      1\u001b[0m \u001b[0ml\u001b[0m \u001b[1;33m=\u001b[0m \u001b[1;33m[\u001b[0m\u001b[1;36m1\u001b[0m\u001b[1;33m,\u001b[0m\u001b[1;36m2\u001b[0m\u001b[1;33m,\u001b[0m\u001b[1;36m3\u001b[0m\u001b[1;33m]\u001b[0m\u001b[1;33m\u001b[0m\u001b[1;33m\u001b[0m\u001b[0m\n\u001b[0;32m      2\u001b[0m \u001b[0midx\u001b[0m \u001b[1;33m=\u001b[0m \u001b[0mint\u001b[0m\u001b[1;33m(\u001b[0m\u001b[0minput\u001b[0m\u001b[1;33m(\u001b[0m\u001b[1;34m\"원하는 인덱스는 ?\"\u001b[0m\u001b[1;33m)\u001b[0m\u001b[1;33m)\u001b[0m\u001b[1;33m\u001b[0m\u001b[1;33m\u001b[0m\u001b[0m\n\u001b[1;32m----> 3\u001b[1;33m \u001b[0mprint\u001b[0m\u001b[1;33m(\u001b[0m\u001b[1;34m\"{}번째 값은 {}\"\u001b[0m\u001b[1;33m.\u001b[0m\u001b[0mformat\u001b[0m\u001b[1;33m(\u001b[0m\u001b[0midx\u001b[0m\u001b[1;33m,\u001b[0m \u001b[0ml\u001b[0m\u001b[1;33m[\u001b[0m\u001b[0midx\u001b[0m\u001b[1;33m]\u001b[0m\u001b[1;33m)\u001b[0m\u001b[1;33m)\u001b[0m\u001b[1;33m\u001b[0m\u001b[1;33m\u001b[0m\u001b[0m\n\u001b[0m",
      "\u001b[1;31mIndexError\u001b[0m: list index out of range"
     ]
    }
   ],
   "source": [
    "l = [1,2,3]\n",
    "idx = int(input(\"원하는 인덱스는 ?\"))\n",
    "print(\"{}번째 값은 {}\".format(idx, l[idx]))"
   ]
  },
  {
   "cell_type": "markdown",
   "metadata": {},
   "source": [
    "# 2절. 예외처리하기(try ~ except)"
   ]
  },
  {
   "cell_type": "code",
   "execution_count": 5,
   "metadata": {
    "ExecuteTime": {
     "end_time": "2021-03-03T13:53:12.613467Z",
     "start_time": "2021-03-03T13:53:05.862035Z"
    }
   },
   "outputs": [
    {
     "name": "stdout",
     "output_type": "stream",
     "text": [
      "정수는 ?s\n",
      "invalid literal for int() with base 10: 's'\n",
      "정수를 입력 안 하셨군요\n"
     ]
    }
   ],
   "source": [
    "try:\n",
    "    x = int(input(\"정수는 ?\"))\n",
    "    print(\"입력한 정수는 {}입니다\".format(x))\n",
    "except ValueError as e :\n",
    "    print(e)\n",
    "    print(\"정수를 입력 안 하셨군요\")"
   ]
  },
  {
   "cell_type": "code",
   "execution_count": 6,
   "metadata": {
    "ExecuteTime": {
     "end_time": "2021-03-03T13:53:31.791427Z",
     "start_time": "2021-03-03T13:53:19.330597Z"
    }
   },
   "outputs": [
    {
     "name": "stdout",
     "output_type": "stream",
     "text": [
      "수 : ㅇ\n",
      "유효한 정수를 다시 입력하세요\n",
      "수 : b\n",
      "유효한 정수를 다시 입력하세요\n",
      "수 : d\n",
      "유효한 정수를 다시 입력하세요\n",
      "수 : 10\n",
      "입력한 정수는 10\n"
     ]
    }
   ],
   "source": [
    "# 입력한 값이 정수가 아닐 경우 예외 메세지를 출력 다시 입력받는다\n",
    "while True:\n",
    "    try:\n",
    "        x = int(input(\"수 : \"))\n",
    "        print(\"입력한 정수는 {}\".format(x))\n",
    "        break;\n",
    "    except ValueError:\n",
    "        print(\"유효한 정수를 다시 입력하세요\")"
   ]
  },
  {
   "cell_type": "code",
   "execution_count": 7,
   "metadata": {
    "ExecuteTime": {
     "end_time": "2021-03-03T13:53:50.271999Z",
     "start_time": "2021-03-03T13:53:41.585206Z"
    }
   },
   "outputs": [
    {
     "name": "stdout",
     "output_type": "stream",
     "text": [
      "수 : ㄹ\n",
      "0으로 나눌 수 없어요. 다시 입력하세요\n",
      "수 : 0\n",
      "입력한 정수는 0\n",
      "유효한 정수를 다시 입력하세요\n",
      "수 : 2\n",
      "입력한 정수는 2\n",
      "100/2 = 50.0\n"
     ]
    }
   ],
   "source": [
    "# 100을 입력한 정수값으로 나눠 출력한다. (두가지 예외 사항을 따로 처리)\n",
    "while True:\n",
    "    try:\n",
    "        x = int(input(\"수 : \"))\n",
    "        print(\"입력한 정수는 {}\".format(x))\n",
    "        result = 100 / x\n",
    "        print(\"100/{} = {}\".format(x, result))\n",
    "        break;\n",
    "    #except Exception: 상위예외클래스는 하단에\n",
    "    #    print(\"예외입니다\")\n",
    "    except ZeroDivisionError:\n",
    "        print(\"유효한 정수를 다시 입력하세요\")\n",
    "    except ValueError :\n",
    "        print(\"0으로 나눌 수 없어요. 다시 입력하세요\")"
   ]
  },
  {
   "cell_type": "code",
   "execution_count": 8,
   "metadata": {
    "ExecuteTime": {
     "end_time": "2021-03-03T13:54:19.378553Z",
     "start_time": "2021-03-03T13:54:05.634800Z"
    }
   },
   "outputs": [
    {
     "name": "stdout",
     "output_type": "stream",
     "text": [
      "수 : ㅇ\n",
      "문자나 0은 입력하실 수 없습니다. 다시 입력하세요\n",
      "invalid literal for int() with base 10: 'ㅇ'\n",
      "수 : 0\n",
      "입력한 정수는 0\n",
      "문자나 0은 입력하실 수 없습니다. 다시 입력하세요\n",
      "division by zero\n",
      "수 : 5\n",
      "입력한 정수는 5\n",
      "100/5 = 20.0\n"
     ]
    }
   ],
   "source": [
    "# 100을 입력한 정수값으로 나눠 출력한다. (두가지 예외 사항을 하나로 처리)\n",
    "while True:\n",
    "    try:\n",
    "        x = int(input(\"수 : \"))\n",
    "        print(\"입력한 정수는 {}\".format(x))\n",
    "        result = 100 / x\n",
    "        print(\"100/{} = {}\".format(x, result))\n",
    "        break;\n",
    "    except (ZeroDivisionError, ValueError)  as e:\n",
    "        print(\"문자나 0은 입력하실 수 없습니다. 다시 입력하세요\")\n",
    "        print(e.__str__())"
   ]
  },
  {
   "cell_type": "code",
   "execution_count": 9,
   "metadata": {
    "ExecuteTime": {
     "end_time": "2021-03-03T13:55:03.324167Z",
     "start_time": "2021-03-03T13:54:54.811588Z"
    }
   },
   "outputs": [
    {
     "name": "stdout",
     "output_type": "stream",
     "text": [
      "수 : d\n",
      "다시 입력하세요\n",
      "수 : 0\n",
      "입력한 정수는 0\n",
      "다시 입력하세요\n",
      "수 : d\n",
      "다시 입력하세요\n",
      "수 : 2\n",
      "입력한 정수는 2\n",
      "100/2 = 50.0\n"
     ]
    }
   ],
   "source": [
    "# 100을 입력한 정수값으로 나눠 출력한다. (모든 예외를 하나로 처리)\n",
    "while True:\n",
    "    try:\n",
    "        x = int(input(\"수 : \"))\n",
    "        print(\"입력한 정수는 {}\".format(x))\n",
    "        result = 100 / x\n",
    "        print(\"100/{} = {}\".format(x, result))\n",
    "        break;\n",
    "    except :\n",
    "        print(\"다시 입력하세요\")"
   ]
  },
  {
   "cell_type": "code",
   "execution_count": null,
   "metadata": {},
   "outputs": [],
   "source": [
    "# try ~ except ~ (else ~) finally"
   ]
  },
  {
   "cell_type": "code",
   "execution_count": 11,
   "metadata": {
    "ExecuteTime": {
     "end_time": "2021-03-03T13:56:11.136177Z",
     "start_time": "2021-03-03T13:56:11.119223Z"
    }
   },
   "outputs": [
    {
     "name": "stdout",
     "output_type": "stream",
     "text": [
      "파일이 없습니다.\n"
     ]
    },
    {
     "ename": "NameError",
     "evalue": "name 'f' is not defined",
     "output_type": "error",
     "traceback": [
      "\u001b[1;31m---------------------------------------------------------------------------\u001b[0m",
      "\u001b[1;31mNameError\u001b[0m                                 Traceback (most recent call last)",
      "\u001b[1;32m<ipython-input-11-72436ac0c594>\u001b[0m in \u001b[0;36m<module>\u001b[1;34m\u001b[0m\n\u001b[0;32m      8\u001b[0m     \u001b[0mprint\u001b[0m\u001b[1;33m(\u001b[0m\u001b[0mdata\u001b[0m\u001b[1;33m)\u001b[0m\u001b[1;33m\u001b[0m\u001b[1;33m\u001b[0m\u001b[0m\n\u001b[0;32m      9\u001b[0m \u001b[1;32mfinally\u001b[0m\u001b[1;33m:\u001b[0m \u001b[1;31m# finally 블록은 try블록에 예외가 발생하든 안하든 꼭 실행\u001b[0m\u001b[1;33m\u001b[0m\u001b[1;33m\u001b[0m\u001b[0m\n\u001b[1;32m---> 10\u001b[1;33m     \u001b[0mf\u001b[0m\u001b[1;33m.\u001b[0m\u001b[0mclose\u001b[0m\u001b[1;33m(\u001b[0m\u001b[1;33m)\u001b[0m\u001b[1;33m\u001b[0m\u001b[1;33m\u001b[0m\u001b[0m\n\u001b[0m",
      "\u001b[1;31mNameError\u001b[0m: name 'f' is not defined"
     ]
    }
   ],
   "source": [
    "# else블록 : try블록에서 예외가 발생되면 except블록 실행. 예외발생안되면 else블록 실행\n",
    "try :\n",
    "    f = open(\"data/ch08_ab.txt\", \"r\")\n",
    "except FileNotFoundError :\n",
    "    print(\"파일이 없습니다.\")\n",
    "else :\n",
    "    data = f.read()\n",
    "    print(data)\n",
    "finally: # finally 블록은 try블록에 예외가 발생하든 안하든 꼭 실행\n",
    "    f.close()"
   ]
  },
  {
   "cell_type": "code",
   "execution_count": 12,
   "metadata": {
    "ExecuteTime": {
     "end_time": "2021-03-03T13:57:12.232913Z",
     "start_time": "2021-03-03T13:57:12.216989Z"
    }
   },
   "outputs": [
    {
     "name": "stdout",
     "output_type": "stream",
     "text": [
      "jupyter notebook KR utf-8\n",
      "Hello\n",
      "Python\n"
     ]
    }
   ],
   "source": [
    "try :\n",
    "    f = open(\"data/ch08_abc.txt\", \"r\")\n",
    "    data = f.read()\n",
    "    print(data)\n",
    "except FileNotFoundError :\n",
    "    print(\"파일이 없습니다.\")    \n",
    "finally: # finally 블록은 try블록에 예외가 발생하든 안하든 꼭 실행\n",
    "    f.close()"
   ]
  },
  {
   "cell_type": "code",
   "execution_count": 13,
   "metadata": {
    "ExecuteTime": {
     "end_time": "2021-03-03T13:57:28.593486Z",
     "start_time": "2021-03-03T13:57:22.290523Z"
    }
   },
   "outputs": [
    {
     "name": "stdout",
     "output_type": "stream",
     "text": [
      "수 : d\n",
      "invalid literal for int() with base 10: 'd'\n",
      "invalid literal for int() with base 10: 'd'\n",
      "수 : 2\n",
      "입력한 정수는 2\n",
      "100/2 = 50.0\n"
     ]
    }
   ],
   "source": [
    "# 예외인수 e\n",
    "# 100을 입력한 정수값으로 나눠 출력한다. (두가지 예외 사항을 하나로 처리)\n",
    "while True:\n",
    "    try:\n",
    "        x = int(input(\"수 : \"))\n",
    "        print(\"입력한 정수는 {}\".format(x))\n",
    "        result = 100 / x\n",
    "        print(\"100/{} = {}\".format(x, result))\n",
    "        break;\n",
    "    except (ZeroDivisionError, ValueError)  as e:\n",
    "        print(e)\n",
    "        print(e.args[0]) # e.args 튜플형식이므로 e.args[0]이용해서 예외메세지를 본다"
   ]
  },
  {
   "cell_type": "markdown",
   "metadata": {},
   "source": [
    "# 3절. raise로 예외 발생시키기"
   ]
  },
  {
   "cell_type": "code",
   "execution_count": 14,
   "metadata": {
    "ExecuteTime": {
     "end_time": "2021-03-03T13:57:52.299021Z",
     "start_time": "2021-03-03T13:57:52.288082Z"
    }
   },
   "outputs": [
    {
     "ename": "NameError",
     "evalue": "예외가 발생",
     "output_type": "error",
     "traceback": [
      "\u001b[1;31m---------------------------------------------------------------------------\u001b[0m",
      "\u001b[1;31mNameError\u001b[0m                                 Traceback (most recent call last)",
      "\u001b[1;32m<ipython-input-14-9b870e7e3bc4>\u001b[0m in \u001b[0;36m<module>\u001b[1;34m\u001b[0m\n\u001b[1;32m----> 1\u001b[1;33m \u001b[1;32mraise\u001b[0m \u001b[0mNameError\u001b[0m\u001b[1;33m(\u001b[0m\u001b[1;34m\"예외가 발생\"\u001b[0m\u001b[1;33m)\u001b[0m\u001b[1;33m\u001b[0m\u001b[1;33m\u001b[0m\u001b[0m\n\u001b[0m",
      "\u001b[1;31mNameError\u001b[0m: 예외가 발생"
     ]
    }
   ],
   "source": [
    "raise NameError(\"예외가 발생\")"
   ]
  },
  {
   "cell_type": "code",
   "execution_count": 15,
   "metadata": {
    "ExecuteTime": {
     "end_time": "2021-03-03T13:58:00.230952Z",
     "start_time": "2021-03-03T13:58:00.216336Z"
    }
   },
   "outputs": [],
   "source": [
    "def insert(data):\n",
    "    if len(data)==0:\n",
    "        raise Exception(\"길이가 0이라 출력할 것도 없습니다.\")\n",
    "    print(data, '를 입력할께요')"
   ]
  },
  {
   "cell_type": "code",
   "execution_count": 16,
   "metadata": {
    "ExecuteTime": {
     "end_time": "2021-03-03T13:58:08.637025Z",
     "start_time": "2021-03-03T13:58:08.623071Z"
    }
   },
   "outputs": [
    {
     "name": "stdout",
     "output_type": "stream",
     "text": [
      "길이가 0이라 출력할 것도 없습니다.\n"
     ]
    }
   ],
   "source": [
    "try:\n",
    "    insert({})\n",
    "except Exception as e:\n",
    "    print(e.args[0])"
   ]
  },
  {
   "cell_type": "markdown",
   "metadata": {},
   "source": [
    "# 4절. raise를 이용하여 추상클래스 정의하기\n",
    " - python은 추상클래스를 생성할 수 없으나 raise를 이용해서 추상클래스를 흉내냄"
   ]
  },
  {
   "cell_type": "markdown",
   "metadata": {},
   "source": [
    "# 5절. 사용자 정의 예외"
   ]
  },
  {
   "cell_type": "code",
   "execution_count": 17,
   "metadata": {
    "ExecuteTime": {
     "end_time": "2021-03-03T13:58:56.157403Z",
     "start_time": "2021-03-03T13:58:56.143418Z"
    }
   },
   "outputs": [],
   "source": [
    "class AbstractError(Exception):\n",
    "    \"추상클래스를 이용하여 객체를 생성할 때 나는 오류\"\n",
    "    def __init__(self):\n",
    "        Exception.__init__(self, \"Shape는 추상클래스여서 객체 생성 불가\")"
   ]
  },
  {
   "cell_type": "code",
   "execution_count": 18,
   "metadata": {
    "ExecuteTime": {
     "end_time": "2021-03-03T13:59:01.821936Z",
     "start_time": "2021-03-03T13:59:01.810972Z"
    }
   },
   "outputs": [],
   "source": [
    "class Shape:\n",
    "    def __init__(self):\n",
    "        raise AbstractError()\n",
    "    def cal_area(self):\n",
    "        raise AbstractError()"
   ]
  },
  {
   "cell_type": "code",
   "execution_count": 19,
   "metadata": {
    "ExecuteTime": {
     "end_time": "2021-03-03T13:59:07.644835Z",
     "start_time": "2021-03-03T13:59:07.632895Z"
    }
   },
   "outputs": [],
   "source": [
    "class Circle(Shape):\n",
    "    def __init__(self, r):\n",
    "        self.r = r\n",
    "    def cal_area(self):\n",
    "        return r*r*3.14"
   ]
  },
  {
   "cell_type": "code",
   "execution_count": 20,
   "metadata": {
    "ExecuteTime": {
     "end_time": "2021-03-03T13:59:12.298854Z",
     "start_time": "2021-03-03T13:59:12.283866Z"
    }
   },
   "outputs": [],
   "source": [
    "c = Circle(3)"
   ]
  },
  {
   "cell_type": "markdown",
   "metadata": {},
   "source": [
    "# 6절. 파일정리작업"
   ]
  },
  {
   "cell_type": "code",
   "execution_count": 21,
   "metadata": {
    "ExecuteTime": {
     "end_time": "2021-03-03T13:59:44.091067Z",
     "start_time": "2021-03-03T13:59:32.330574Z"
    }
   },
   "outputs": [
    {
     "name": "stdout",
     "output_type": "stream",
     "text": [
      "파일명은 ?ch08_abc.txt\n",
      "['jupyter notebook KR utf-8\\n', 'Hello\\n', 'Python']\n"
     ]
    }
   ],
   "source": [
    "filename = input('파일명은 ?')\n",
    "\n",
    "f = open('data/'+filename, 'r')\n",
    "lines = f.readlines()\n",
    "print(lines)\n",
    "f.close() # ★"
   ]
  },
  {
   "cell_type": "code",
   "execution_count": 22,
   "metadata": {
    "ExecuteTime": {
     "end_time": "2021-03-03T13:59:54.223357Z",
     "start_time": "2021-03-03T13:59:54.206435Z"
    }
   },
   "outputs": [
    {
     "name": "stdout",
     "output_type": "stream",
     "text": [
      "['jupyter notebook KR utf-8\\n', 'Hello\\n', 'Python']\n"
     ]
    }
   ],
   "source": [
    "# with절 이후에는 자동적으로 close()\n",
    "with open('data/ch08_abc.txt', 'r') as f:\n",
    "    lines = f.readlines()\n",
    "    print(lines)"
   ]
  },
  {
   "cell_type": "markdown",
   "metadata": {},
   "source": [
    "# 7절. 연습문제"
   ]
  },
  {
   "cell_type": "code",
   "execution_count": 23,
   "metadata": {
    "ExecuteTime": {
     "end_time": "2021-03-03T14:00:13.765255Z",
     "start_time": "2021-03-03T14:00:12.215247Z"
    }
   },
   "outputs": [
    {
     "name": "stdout",
     "output_type": "stream",
     "text": [
      "첫번째 수는?10\n",
      "두번째 수는?2\n",
      "입력한 수는 10.0, 2.0입니다\n",
      "10.0을 2.0로 나누면 5.0\n"
     ]
    }
   ],
   "source": [
    "# 실습형 1. 모든 예외처리를 하나로 \"유효한 숫자가 아닙니다. 다시 시도하세요\"로 메세지 출력\n",
    "while True:\n",
    "    try:\n",
    "        num1 = float(input('첫번째 수는?'))\n",
    "        num2 = float(input('두번째 수는?'))\n",
    "        print(\"입력한 수는 {}, {}입니다\".format(num1, num2))\n",
    "        print(\"{}을 {}로 나누면 {}\".format(num1, num2, num1/num2))\n",
    "        break;\n",
    "    except:\n",
    "        print(\"유효한 숫자가 아닙니다. 다시 시도하세요\")"
   ]
  },
  {
   "cell_type": "code",
   "execution_count": 24,
   "metadata": {
    "ExecuteTime": {
     "end_time": "2021-03-03T14:00:23.568433Z",
     "start_time": "2021-03-03T14:00:19.652732Z"
    }
   },
   "outputs": [
    {
     "name": "stdout",
     "output_type": "stream",
     "text": [
      "첫번째 수는?2\n",
      "두번째 수는?1\n",
      "입력한 수는 2.0, 1.0입니다\n",
      "2.0을 1.0로 나누면 2.0\n"
     ]
    }
   ],
   "source": [
    "# 실습형 2 : 문자 입력과 0입력의 예외를 따로 처리\n",
    "while True:\n",
    "    try:\n",
    "        num1 = float(input('첫번째 수는?'))\n",
    "        num2 = float(input('두번째 수는?'))\n",
    "        print(\"입력한 수는 {}, {}입니다\".format(num1, num2))\n",
    "        print(\"{}을 {}로 나누면 {}\".format(num1, num2, num1/num2))\n",
    "        break;\n",
    "    except ValueError:\n",
    "        print(\"숫자가 아닙니다. 다시 시도하세요\")\n",
    "    except ZeroDivisionError:\n",
    "        print(\"0으로 나눌 수 없습니다. 다시 시도하세요\")"
   ]
  },
  {
   "cell_type": "code",
   "execution_count": null,
   "metadata": {},
   "outputs": [],
   "source": [
    "# 서술형 1. 3\n",
    "# 서술형 2. 2\n",
    "# 서술형 3. 4\n",
    "# 서술형 4. 3"
   ]
  }
 ],
 "metadata": {
  "kernelspec": {
   "display_name": "Python 3",
   "language": "python",
   "name": "python3"
  },
  "language_info": {
   "codemirror_mode": {
    "name": "ipython",
    "version": 3
   },
   "file_extension": ".py",
   "mimetype": "text/x-python",
   "name": "python",
   "nbconvert_exporter": "python",
   "pygments_lexer": "ipython3",
   "version": "3.8.5"
  },
  "toc": {
   "base_numbering": 1,
   "nav_menu": {},
   "number_sections": false,
   "sideBar": true,
   "skip_h1_title": false,
   "title_cell": "Table of Contents",
   "title_sidebar": "Contents",
   "toc_cell": false,
   "toc_position": {},
   "toc_section_display": true,
   "toc_window_display": true
  },
  "varInspector": {
   "cols": {
    "lenName": 16,
    "lenType": 16,
    "lenVar": 40
   },
   "kernels_config": {
    "python": {
     "delete_cmd_postfix": "",
     "delete_cmd_prefix": "del ",
     "library": "var_list.py",
     "varRefreshCmd": "print(var_dic_list())"
    },
    "r": {
     "delete_cmd_postfix": ") ",
     "delete_cmd_prefix": "rm(",
     "library": "var_list.r",
     "varRefreshCmd": "cat(var_dic_list()) "
    }
   },
   "types_to_exclude": [
    "module",
    "function",
    "builtin_function_or_method",
    "instance",
    "_Feature"
   ],
   "window_display": false
  }
 },
 "nbformat": 4,
 "nbformat_minor": 4
}
