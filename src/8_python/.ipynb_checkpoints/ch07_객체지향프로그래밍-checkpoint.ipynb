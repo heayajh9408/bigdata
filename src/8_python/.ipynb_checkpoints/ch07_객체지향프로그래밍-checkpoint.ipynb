{
 "cells": [
  {
   "cell_type": "markdown",
   "metadata": {},
   "source": [
    "# 1절. 객체와 클래스\n",
    "<pre>\n",
    "        class 클래스명(상속받을클래스명):\n",
    "                함수나 변수들 선언"
   ]
  },
  {
   "cell_type": "code",
   "execution_count": 1,
   "metadata": {
    "ExecuteTime": {
     "end_time": "2021-03-02T12:57:12.191939Z",
     "start_time": "2021-03-02T12:57:12.183963Z"
    }
   },
   "outputs": [],
   "source": [
    "class Person:\n",
    "    \"Person 클래스\"\n",
    "    pass\n",
    "p1 = Person()"
   ]
  },
  {
   "cell_type": "code",
   "execution_count": 2,
   "metadata": {
    "ExecuteTime": {
     "end_time": "2021-03-02T12:57:21.506525Z",
     "start_time": "2021-03-02T12:57:21.487609Z"
    }
   },
   "outputs": [
    {
     "data": {
      "text/plain": [
       "__main__.Person"
      ]
     },
     "execution_count": 2,
     "metadata": {},
     "output_type": "execute_result"
    }
   ],
   "source": [
    "type(p1)"
   ]
  },
  {
   "cell_type": "code",
   "execution_count": 3,
   "metadata": {
    "ExecuteTime": {
     "end_time": "2021-03-02T12:57:26.883879Z",
     "start_time": "2021-03-02T12:57:26.871912Z"
    }
   },
   "outputs": [
    {
     "name": "stdout",
     "output_type": "stream",
     "text": [
      "<__main__.Person object at 0x0000017AA00545B0>\n"
     ]
    }
   ],
   "source": [
    "print(p1)"
   ]
  },
  {
   "cell_type": "code",
   "execution_count": 4,
   "metadata": {
    "ExecuteTime": {
     "end_time": "2021-03-02T12:57:32.208243Z",
     "start_time": "2021-03-02T12:57:32.192256Z"
    }
   },
   "outputs": [
    {
     "data": {
      "text/plain": [
       "True"
      ]
     },
     "execution_count": 4,
     "metadata": {},
     "output_type": "execute_result"
    }
   ],
   "source": [
    "isinstance(p1, Person)"
   ]
  },
  {
   "cell_type": "code",
   "execution_count": 5,
   "metadata": {
    "ExecuteTime": {
     "end_time": "2021-03-02T12:57:38.285181Z",
     "start_time": "2021-03-02T12:57:38.276204Z"
    }
   },
   "outputs": [
    {
     "name": "stdout",
     "output_type": "stream",
     "text": [
      "Person 클래스\n"
     ]
    }
   ],
   "source": [
    "print(p1.__doc__)"
   ]
  },
  {
   "cell_type": "markdown",
   "metadata": {},
   "source": [
    "# 2절. 변수와 메소드"
   ]
  },
  {
   "cell_type": "code",
   "execution_count": 6,
   "metadata": {
    "ExecuteTime": {
     "end_time": "2021-03-02T12:57:58.968006Z",
     "start_time": "2021-03-02T12:57:58.962069Z"
    }
   },
   "outputs": [
    {
     "name": "stdout",
     "output_type": "stream",
     "text": [
      "홍길동 남자\n"
     ]
    }
   ],
   "source": [
    "# 변수 추가\n",
    "class Person:\n",
    "    name = \"홍길동\"\n",
    "    gender = \"남자\"\n",
    "p1 = Person()\n",
    "print(p1.name, p1.gender)"
   ]
  },
  {
   "cell_type": "code",
   "execution_count": 7,
   "metadata": {
    "ExecuteTime": {
     "end_time": "2021-03-02T12:59:01.253907Z",
     "start_time": "2021-03-02T12:59:01.244934Z"
    }
   },
   "outputs": [
    {
     "name": "stdout",
     "output_type": "stream",
     "text": [
      "이순신 남자\n"
     ]
    }
   ],
   "source": [
    "p2 = Person()\n",
    "p2.name = \"이순신\"\n",
    "print(p2.name, p2.gender)"
   ]
  },
  {
   "cell_type": "code",
   "execution_count": 8,
   "metadata": {
    "ExecuteTime": {
     "end_time": "2021-03-02T12:59:15.619838Z",
     "start_time": "2021-03-02T12:59:15.607268Z"
    }
   },
   "outputs": [],
   "source": [
    "Person.name = \"리사\"\n",
    "Person.gender = \"여자\""
   ]
  },
  {
   "cell_type": "code",
   "execution_count": 9,
   "metadata": {
    "ExecuteTime": {
     "end_time": "2021-03-02T12:59:31.061960Z",
     "start_time": "2021-03-02T12:59:31.049004Z"
    }
   },
   "outputs": [
    {
     "name": "stdout",
     "output_type": "stream",
     "text": [
      "리사 여자\n",
      "이순신 여자\n"
     ]
    }
   ],
   "source": [
    "print(p1.name, p1.gender)\n",
    "print(p2.name, p2.gender)"
   ]
  },
  {
   "cell_type": "code",
   "execution_count": 11,
   "metadata": {
    "ExecuteTime": {
     "end_time": "2021-03-02T12:59:42.850270Z",
     "start_time": "2021-03-02T12:59:42.841293Z"
    }
   },
   "outputs": [
    {
     "name": "stdout",
     "output_type": "stream",
     "text": [
      "리사 여자\n",
      "신길동 남자\n",
      "이순신 여자\n"
     ]
    }
   ],
   "source": [
    "p1.name = \"신길동\"\n",
    "p1.gender = \"남자\"\n",
    "print(Person.name, Person.gender)\n",
    "print(p1.name, p1.gender)\n",
    "print(p2.name, p2.gender)"
   ]
  },
  {
   "cell_type": "code",
   "execution_count": 12,
   "metadata": {
    "ExecuteTime": {
     "end_time": "2021-03-02T13:52:33.799893Z",
     "start_time": "2021-03-02T13:52:33.791915Z"
    }
   },
   "outputs": [
    {
     "name": "stdout",
     "output_type": "stream",
     "text": [
      "홍길동 남자\n",
      "Person 메소드입니다\n"
     ]
    }
   ],
   "source": [
    "# 메소드 추가\n",
    "class Person:\n",
    "    name = \"홍길동\"\n",
    "    gender = \"남자\"\n",
    "    def print_info():\n",
    "        print(\"Person 메소드입니다\")\n",
    "print(Person.name, Person.gender)\n",
    "Person.print_info()"
   ]
  },
  {
   "cell_type": "code",
   "execution_count": 13,
   "metadata": {
    "ExecuteTime": {
     "end_time": "2021-03-02T13:52:53.944655Z",
     "start_time": "2021-03-02T13:52:53.931690Z"
    }
   },
   "outputs": [
    {
     "name": "stdout",
     "output_type": "stream",
     "text": [
      "이순신 남자\n",
      "홍길동 남자\n"
     ]
    }
   ],
   "source": [
    "p1 = Person()\n",
    "p1.name =\"이순신\"\n",
    "print(p1.name, p1.gender)\n",
    "print(Person.name, Person.gender)"
   ]
  },
  {
   "cell_type": "code",
   "execution_count": 14,
   "metadata": {
    "ExecuteTime": {
     "end_time": "2021-03-02T13:53:03.181515Z",
     "start_time": "2021-03-02T13:53:03.163596Z"
    }
   },
   "outputs": [
    {
     "name": "stdout",
     "output_type": "stream",
     "text": [
      "Person 메소드입니다\n"
     ]
    }
   ],
   "source": [
    "Person.print_info()"
   ]
  },
  {
   "cell_type": "code",
   "execution_count": 15,
   "metadata": {
    "ExecuteTime": {
     "end_time": "2021-03-02T13:53:16.036036Z",
     "start_time": "2021-03-02T13:53:15.756119Z"
    }
   },
   "outputs": [
    {
     "ename": "TypeError",
     "evalue": "print_info() takes 0 positional arguments but 1 was given",
     "output_type": "error",
     "traceback": [
      "\u001b[1;31m---------------------------------------------------------------------------\u001b[0m",
      "\u001b[1;31mTypeError\u001b[0m                                 Traceback (most recent call last)",
      "\u001b[1;32m<ipython-input-15-123b1e7cbd59>\u001b[0m in \u001b[0;36m<module>\u001b[1;34m\u001b[0m\n\u001b[1;32m----> 1\u001b[1;33m \u001b[0mp1\u001b[0m\u001b[1;33m.\u001b[0m\u001b[0mprint_info\u001b[0m\u001b[1;33m(\u001b[0m\u001b[1;33m)\u001b[0m\u001b[1;33m\u001b[0m\u001b[1;33m\u001b[0m\u001b[0m\n\u001b[0m",
      "\u001b[1;31mTypeError\u001b[0m: print_info() takes 0 positional arguments but 1 was given"
     ]
    }
   ],
   "source": [
    "p1.print_info()"
   ]
  },
  {
   "cell_type": "code",
   "execution_count": 16,
   "metadata": {
    "ExecuteTime": {
     "end_time": "2021-03-02T14:00:18.757144Z",
     "start_time": "2021-03-02T14:00:18.738195Z"
    }
   },
   "outputs": [
    {
     "name": "stdout",
     "output_type": "stream",
     "text": [
      "홍길동 남자\n",
      "리사는 30살이고 남자입니다\n"
     ]
    }
   ],
   "source": [
    "# 인스턴스 메소드\n",
    "class Person:\n",
    "    name = \"홍길동\"\n",
    "    gender = \"남자\"\n",
    "    age = 30\n",
    "    def print_info(self): # 객체만 실행가능한 메소드 = 인스턴스 메소드\n",
    "        print(\"{}는 {}살이고 {}입니다\".format(self.name, self.age, self.gender))\n",
    "print(Person.name, Person.gender)\n",
    "p1 = Person()\n",
    "p1.name = \"리사\"\n",
    "p1.print_info()"
   ]
  },
  {
   "cell_type": "code",
   "execution_count": 17,
   "metadata": {
    "ExecuteTime": {
     "end_time": "2021-03-02T14:01:24.823671Z",
     "start_time": "2021-03-02T14:01:24.804695Z"
    }
   },
   "outputs": [
    {
     "ename": "TypeError",
     "evalue": "print_info() missing 1 required positional argument: 'self'",
     "output_type": "error",
     "traceback": [
      "\u001b[1;31m---------------------------------------------------------------------------\u001b[0m",
      "\u001b[1;31mTypeError\u001b[0m                                 Traceback (most recent call last)",
      "\u001b[1;32m<ipython-input-17-5d08db0c8414>\u001b[0m in \u001b[0;36m<module>\u001b[1;34m\u001b[0m\n\u001b[1;32m----> 1\u001b[1;33m \u001b[0mPerson\u001b[0m\u001b[1;33m.\u001b[0m\u001b[0mprint_info\u001b[0m\u001b[1;33m(\u001b[0m\u001b[1;33m)\u001b[0m\u001b[1;33m\u001b[0m\u001b[1;33m\u001b[0m\u001b[0m\n\u001b[0m",
      "\u001b[1;31mTypeError\u001b[0m: print_info() missing 1 required positional argument: 'self'"
     ]
    }
   ],
   "source": [
    "Person.print_info()"
   ]
  },
  {
   "cell_type": "code",
   "execution_count": 18,
   "metadata": {
    "ExecuteTime": {
     "end_time": "2021-03-02T14:01:39.784841Z",
     "start_time": "2021-03-02T14:01:39.773865Z"
    }
   },
   "outputs": [
    {
     "data": {
      "text/plain": [
       "('리사', '남자', 30)"
      ]
     },
     "execution_count": 18,
     "metadata": {},
     "output_type": "execute_result"
    }
   ],
   "source": [
    "p1.name, p1.gender, p1.age"
   ]
  },
  {
   "cell_type": "markdown",
   "metadata": {},
   "source": [
    "<pre>\n",
    "**파이썬은 클래스와 인스턴스(객체)의 이름공간 분리되어 있음**\n",
    "**클래스와 인스턴스의 변수명이 다를 수 있다**\n",
    "**동적으로 인스턴스(객체)에 멤버 추가 가능**"
   ]
  },
  {
   "cell_type": "code",
   "execution_count": 19,
   "metadata": {
    "ExecuteTime": {
     "end_time": "2021-03-02T14:03:58.689251Z",
     "start_time": "2021-03-02T14:03:58.684264Z"
    }
   },
   "outputs": [],
   "source": [
    "p1.address = '마포구 신촌'\n",
    "p1.nickname = '곰돌이푸'"
   ]
  },
  {
   "cell_type": "code",
   "execution_count": 21,
   "metadata": {
    "ExecuteTime": {
     "end_time": "2021-03-02T14:46:03.457297Z",
     "start_time": "2021-03-02T14:46:03.439377Z"
    }
   },
   "outputs": [
    {
     "name": "stdout",
     "output_type": "stream",
     "text": [
      "리사는 30살이고 남자입니다\n"
     ]
    }
   ],
   "source": [
    "p1.print_info()"
   ]
  },
  {
   "cell_type": "markdown",
   "metadata": {},
   "source": [
    "<b>클래스 메소드 vs. static 메소드<br>\n",
    "    1. 인스턴스 메소드 : 첫 인자에 self를 꼭 삽입. 객체를 통해서 호출할 메소드<br>\n",
    "    2. 클래스 메소드 : @classmethod를 통해서 선언한 메소드. 첫 인자에 cls(clazz)를 꼭 삽입.<br>\n",
    "    3. static 메소드 : @staticmethod를 통해서 선언한 메소드.<br>"
   ]
  },
  {
   "cell_type": "code",
   "execution_count": 1,
   "metadata": {
    "ExecuteTime": {
     "end_time": "2021-03-03T13:09:23.196005Z",
     "start_time": "2021-03-03T13:09:23.179098Z"
    }
   },
   "outputs": [],
   "source": [
    "# 인스턴스메소드 vs. 클래스 메소드 vs. static 메소드\n",
    "class Person:\n",
    "    name = \"홍길동\"\n",
    "    gender = \"남자\"\n",
    "    age = 30\n",
    "    def print_info(self): # 인스턴스 메소드(인자에 self)\n",
    "        print(\"일반(인스턴스=객체)메소드 - {}는 {}살 {}입니다\".format(self.name, \n",
    "                                                   self.age, self.gender))\n",
    "    @classmethod\n",
    "    def do_(cls): # 클래스메소드(인자에 cls, clazz)\n",
    "        cls.name = \"신사임당\"\n",
    "        cls.gender = \"여자\"\n",
    "        cls.age = 517\n",
    "        print(\"클래스 메소드 - {}는 {}살 {}입니다\".format(cls.name, cls.age, cls.gender))\n",
    "    @staticmethod\n",
    "    def that_(): # static메소드(인자없음)\n",
    "        print(\"static 메소드 - {}는 {}살 {}입니다\".format(Person.name, \n",
    "                                                  Person.age, Person.gender))"
   ]
  },
  {
   "cell_type": "code",
   "execution_count": 2,
   "metadata": {
    "ExecuteTime": {
     "end_time": "2021-03-03T13:09:34.800268Z",
     "start_time": "2021-03-03T13:09:34.781318Z"
    }
   },
   "outputs": [
    {
     "name": "stdout",
     "output_type": "stream",
     "text": [
      "일반(인스턴스=객체)메소드 - 홍길동는 30살 남자입니다\n",
      "일반(인스턴스=객체)메소드 - 홍길동는 30살 남자입니다\n"
     ]
    }
   ],
   "source": [
    "p1 = Person()\n",
    "p2 = Person()\n",
    "p1.print_info()\n",
    "p2.print_info()"
   ]
  },
  {
   "cell_type": "code",
   "execution_count": 3,
   "metadata": {
    "ExecuteTime": {
     "end_time": "2021-03-03T13:10:38.858442Z",
     "start_time": "2021-03-03T13:10:38.845478Z"
    }
   },
   "outputs": [
    {
     "name": "stdout",
     "output_type": "stream",
     "text": [
      "일반(인스턴스=객체)메소드 - 김말동는 31살 남자입니다\n",
      "일반(인스턴스=객체)메소드 - 홍길동는 30살 남자입니다\n",
      "static 메소드 - 홍길동는 30살 남자입니다\n",
      "static 메소드 - 홍길동는 30살 남자입니다\n"
     ]
    }
   ],
   "source": [
    "p1.name = '김말동'\n",
    "p1.age += 1\n",
    "p1.print_info()\n",
    "p2.print_info()\n",
    "p2.that_()     # static 메소드는 객체를 통해서도, 클래스를 통해서도 호출가능\n",
    "Person.that_() # static 메소드"
   ]
  },
  {
   "cell_type": "code",
   "execution_count": 4,
   "metadata": {
    "ExecuteTime": {
     "end_time": "2021-03-03T13:10:59.321890Z",
     "start_time": "2021-03-03T13:10:59.317937Z"
    }
   },
   "outputs": [
    {
     "name": "stdout",
     "output_type": "stream",
     "text": [
      "클래스 메소드 - 신사임당는 517살 여자입니다\n"
     ]
    }
   ],
   "source": [
    "Person.do_() # 클래스 메소드"
   ]
  },
  {
   "cell_type": "code",
   "execution_count": 5,
   "metadata": {
    "ExecuteTime": {
     "end_time": "2021-03-03T13:11:07.647184Z",
     "start_time": "2021-03-03T13:11:07.629234Z"
    }
   },
   "outputs": [
    {
     "name": "stdout",
     "output_type": "stream",
     "text": [
      "일반(인스턴스=객체)메소드 - 김말동는 31살 여자입니다\n",
      "일반(인스턴스=객체)메소드 - 신사임당는 517살 여자입니다\n"
     ]
    }
   ],
   "source": [
    "p1.print_info()\n",
    "p2.print_info()"
   ]
  },
  {
   "cell_type": "code",
   "execution_count": 6,
   "metadata": {
    "ExecuteTime": {
     "end_time": "2021-03-03T13:11:17.720830Z",
     "start_time": "2021-03-03T13:11:17.712886Z"
    }
   },
   "outputs": [
    {
     "name": "stdout",
     "output_type": "stream",
     "text": [
      "일반(인스턴스=객체)메소드 - 김말동는 31살 남자입니다\n",
      "일반(인스턴스=객체)메소드 - 이순신는 477살 남자입니다\n"
     ]
    }
   ],
   "source": [
    "Person.name = \"이순신\"\n",
    "Person.gender = \"남자\"\n",
    "Person.age = 477\n",
    "p1.print_info()\n",
    "p2.print_info()"
   ]
  },
  {
   "cell_type": "markdown",
   "metadata": {},
   "source": [
    "# 3절. 생성자( init ())와 소멸자( del ())\n",
    "- 생성자함수 : init (self[, 매개변수1, ...]) 객체가 생성될 때 자동 실행\n",
    "        생성시 필요한 코드(객체멤버의 초기화)를 포함\n",
    "- 소멸자함수 : del (self) 객체가 소멸될 때 자동 실행.\n",
    "        소멸시 필요한 코드를 포함\n",
    "        인스턴스 객체의 레퍼런스 카운트가 0이 될 때 실행"
   ]
  },
  {
   "cell_type": "code",
   "execution_count": 7,
   "metadata": {
    "ExecuteTime": {
     "end_time": "2021-03-03T13:17:14.483601Z",
     "start_time": "2021-03-03T13:17:14.474626Z"
    }
   },
   "outputs": [],
   "source": [
    "class Person:\n",
    "    def __init__(self):\n",
    "        print(\"Person 객체를 생성합니다\")\n",
    "        self.name = \"홍길동\" # 일반변수\n",
    "        self.gender = \"남자\"\n",
    "    def __del__(self):\n",
    "        print(\"Person 객체를 소멸시킵니다\")\n",
    "    def print_info(self):\n",
    "        print(\"일반메소드 - {}님은 {}입니다\".format(self.name, self.gender))"
   ]
  },
  {
   "cell_type": "code",
   "execution_count": 8,
   "metadata": {
    "ExecuteTime": {
     "end_time": "2021-03-03T13:19:09.668456Z",
     "start_time": "2021-03-03T13:19:09.651506Z"
    }
   },
   "outputs": [
    {
     "name": "stdout",
     "output_type": "stream",
     "text": [
      "Person 객체를 생성합니다\n",
      "일반메소드 - 홍길동님은 남자입니다\n"
     ]
    }
   ],
   "source": [
    "p1 = Person()\n",
    "p1.print_info()"
   ]
  },
  {
   "cell_type": "code",
   "execution_count": 9,
   "metadata": {
    "ExecuteTime": {
     "end_time": "2021-03-03T13:19:34.392098Z",
     "start_time": "2021-03-03T13:19:34.384116Z"
    }
   },
   "outputs": [
    {
     "name": "stdout",
     "output_type": "stream",
     "text": [
      "일반메소드 - 김길동님은 남자입니다\n"
     ]
    }
   ],
   "source": [
    "p1.name = \"김길동\"\n",
    "p1.print_info()"
   ]
  },
  {
   "cell_type": "code",
   "execution_count": 10,
   "metadata": {
    "ExecuteTime": {
     "end_time": "2021-03-03T13:19:56.987725Z",
     "start_time": "2021-03-03T13:19:56.973763Z"
    }
   },
   "outputs": [
    {
     "data": {
      "text/plain": [
       "(__main__.Person, True)"
      ]
     },
     "execution_count": 10,
     "metadata": {},
     "output_type": "execute_result"
    }
   ],
   "source": [
    "type(p1), isinstance(p1, Person)"
   ]
  },
  {
   "cell_type": "code",
   "execution_count": 11,
   "metadata": {
    "ExecuteTime": {
     "end_time": "2021-03-03T13:20:11.924166Z",
     "start_time": "2021-03-03T13:20:11.908184Z"
    }
   },
   "outputs": [
    {
     "name": "stdout",
     "output_type": "stream",
     "text": [
      "Person 객체를 소멸시킵니다\n"
     ]
    }
   ],
   "source": [
    "del p1"
   ]
  },
  {
   "cell_type": "code",
   "execution_count": 12,
   "metadata": {
    "ExecuteTime": {
     "end_time": "2021-03-03T13:20:17.577156Z",
     "start_time": "2021-03-03T13:20:17.561221Z"
    }
   },
   "outputs": [
    {
     "name": "stdout",
     "output_type": "stream",
     "text": [
      "Person 객체를 생성합니다\n"
     ]
    }
   ],
   "source": [
    "p1 = Person()"
   ]
  },
  {
   "cell_type": "code",
   "execution_count": 13,
   "metadata": {
    "ExecuteTime": {
     "end_time": "2021-03-03T13:20:32.605065Z",
     "start_time": "2021-03-03T13:20:32.590104Z"
    }
   },
   "outputs": [
    {
     "name": "stdout",
     "output_type": "stream",
     "text": [
      "Person 객체를 생성합니다\n",
      "Person 객체를 소멸시킵니다\n"
     ]
    }
   ],
   "source": [
    "p1 = Person()"
   ]
  },
  {
   "cell_type": "code",
   "execution_count": 14,
   "metadata": {
    "ExecuteTime": {
     "end_time": "2021-03-03T13:29:29.681396Z",
     "start_time": "2021-03-03T13:29:29.671422Z"
    }
   },
   "outputs": [],
   "source": [
    "p2 = p1"
   ]
  },
  {
   "cell_type": "code",
   "execution_count": 15,
   "metadata": {
    "ExecuteTime": {
     "end_time": "2021-03-03T13:29:34.140631Z",
     "start_time": "2021-03-03T13:29:34.130658Z"
    }
   },
   "outputs": [],
   "source": [
    "del p1"
   ]
  },
  {
   "cell_type": "code",
   "execution_count": 16,
   "metadata": {
    "ExecuteTime": {
     "end_time": "2021-03-03T13:29:38.221217Z",
     "start_time": "2021-03-03T13:29:38.207230Z"
    }
   },
   "outputs": [
    {
     "name": "stdout",
     "output_type": "stream",
     "text": [
      "Person 객체를 소멸시킵니다\n"
     ]
    }
   ],
   "source": [
    "del p2"
   ]
  },
  {
   "cell_type": "markdown",
   "metadata": {},
   "source": [
    "<pre>\n",
    "★ 생성자함수를 통한 멤버변수의 초기화 ★\n",
    "★ 파이썬은 함수를 중복정의(오버로딩) 불가 ★\n",
    "★ 생성자 함수도 중복정의 불가 ★"
   ]
  },
  {
   "cell_type": "code",
   "execution_count": 17,
   "metadata": {
    "ExecuteTime": {
     "end_time": "2021-03-03T13:30:25.825471Z",
     "start_time": "2021-03-03T13:30:25.806522Z"
    }
   },
   "outputs": [],
   "source": [
    "class Person:\n",
    "#     def __init__(self):   # 매개변수 없이 호출될 생성자(중복정의 불가)\n",
    "#         print(\"Person 객체를 생성합니다\")\n",
    "#         self.name = \"홍길동\"\n",
    "#         self.gender = \"남자\"\n",
    "#     def __init__(self, name):  # 매개변수 1개로 호출될 생성자(중복정의 불가)\n",
    "#         print(\"Person 객체를 생성합니다\")\n",
    "#         self.name = name\n",
    "#         self.gender = \"남자\"\n",
    "    def __init__(self, name=\"홍길동\", gender=\"남자\"): # 매개변수 2개로 호출될 생성자\n",
    "        print(\"Person 객체를 생성합니다\")\n",
    "        self.name = name\n",
    "        self.gender = gender\n",
    "    def __del__(self):\n",
    "        print(\"Person 객체를 소멸시킵니다\")\n",
    "    def print_info(self):\n",
    "        print(\"일반메소드 - {}님은 {}입니다\".format(self.name, self.gender))\n",
    "    def __str__(self):\n",
    "        return \"일반메소드 - {}님은 {}입니다\".format(self.name, self.gender)"
   ]
  },
  {
   "cell_type": "code",
   "execution_count": 18,
   "metadata": {
    "ExecuteTime": {
     "end_time": "2021-03-03T13:30:41.196019Z",
     "start_time": "2021-03-03T13:30:41.178037Z"
    }
   },
   "outputs": [
    {
     "name": "stdout",
     "output_type": "stream",
     "text": [
      "Person 객체를 생성합니다\n",
      "Person 객체를 생성합니다\n",
      "Person 객체를 생성합니다\n"
     ]
    }
   ],
   "source": [
    "p1 = Person(\"김길동\",\"남자\")\n",
    "p2 = Person(\"박길동\")\n",
    "p3 = Person()"
   ]
  },
  {
   "cell_type": "code",
   "execution_count": 19,
   "metadata": {
    "ExecuteTime": {
     "end_time": "2021-03-03T13:30:50.017114Z",
     "start_time": "2021-03-03T13:30:50.001157Z"
    }
   },
   "outputs": [
    {
     "name": "stdout",
     "output_type": "stream",
     "text": [
      "일반메소드 - 김길동님은 남자입니다\n",
      "일반메소드 - 김길동님은 남자입니다\n"
     ]
    }
   ],
   "source": [
    "print(p1)\n",
    "p1.print_info()"
   ]
  },
  {
   "cell_type": "code",
   "execution_count": 20,
   "metadata": {
    "ExecuteTime": {
     "end_time": "2021-03-03T13:31:13.685918Z",
     "start_time": "2021-03-03T13:31:13.671921Z"
    }
   },
   "outputs": [
    {
     "name": "stdout",
     "output_type": "stream",
     "text": [
      "일반메소드 - 박길동님은 남자입니다\n",
      "일반메소드 - 홍길동님은 남자입니다\n"
     ]
    }
   ],
   "source": [
    "print(p2)\n",
    "print(p3)"
   ]
  },
  {
   "cell_type": "markdown",
   "metadata": {},
   "source": [
    "# 4절. 상속과 재정의 "
   ]
  },
  {
   "cell_type": "code",
   "execution_count": 21,
   "metadata": {
    "ExecuteTime": {
     "end_time": "2021-03-03T13:32:34.811345Z",
     "start_time": "2021-03-03T13:32:34.802403Z"
    }
   },
   "outputs": [],
   "source": [
    "class Person:\n",
    "    def __init__(self, name, gender): # 매개변수 2개로 호출될 생성자\n",
    "        print(\"Person 객체를 생성합니다\")\n",
    "        self.name = name\n",
    "        self.gender = gender\n",
    "    def __del__(self):\n",
    "        print(\"Person 객체를 소멸시킵니다\")\n",
    "    def print_info(self):\n",
    "        print(\"일반메소드 - {}님은 {}입니다\".format(self.name, self.gender))\n",
    "    def __str__(self):\n",
    "        return \"일반메소드 - {}님은 {}입니다\".format(self.name, self.gender)"
   ]
  },
  {
   "cell_type": "code",
   "execution_count": 22,
   "metadata": {
    "ExecuteTime": {
     "end_time": "2021-03-03T13:32:40.166131Z",
     "start_time": "2021-03-03T13:32:40.148211Z"
    }
   },
   "outputs": [
    {
     "name": "stdout",
     "output_type": "stream",
     "text": [
      "Person 객체를 생성합니다\n",
      "Person 객체를 소멸시킵니다\n"
     ]
    }
   ],
   "source": [
    "p1 = Person(\"홍길동\",\"남자\")"
   ]
  },
  {
   "cell_type": "code",
   "execution_count": 23,
   "metadata": {
    "ExecuteTime": {
     "end_time": "2021-03-03T13:33:05.040369Z",
     "start_time": "2021-03-03T13:33:05.022417Z"
    }
   },
   "outputs": [],
   "source": [
    "class Student(Person):\n",
    "    pass"
   ]
  },
  {
   "cell_type": "code",
   "execution_count": 24,
   "metadata": {
    "ExecuteTime": {
     "end_time": "2021-03-03T13:33:09.781544Z",
     "start_time": "2021-03-03T13:33:09.775559Z"
    }
   },
   "outputs": [
    {
     "data": {
      "text/plain": [
       "True"
      ]
     },
     "execution_count": 24,
     "metadata": {},
     "output_type": "execute_result"
    }
   ],
   "source": [
    "issubclass(Student, Person)"
   ]
  },
  {
   "cell_type": "code",
   "execution_count": 25,
   "metadata": {
    "ExecuteTime": {
     "end_time": "2021-03-03T13:33:21.249417Z",
     "start_time": "2021-03-03T13:33:20.941056Z"
    }
   },
   "outputs": [
    {
     "name": "stdout",
     "output_type": "stream",
     "text": [
      "Person 객체를 소멸시킵니다\n"
     ]
    },
    {
     "ename": "TypeError",
     "evalue": "__init__() missing 2 required positional arguments: 'name' and 'gender'",
     "output_type": "error",
     "traceback": [
      "\u001b[1;31m---------------------------------------------------------------------------\u001b[0m",
      "\u001b[1;31mTypeError\u001b[0m                                 Traceback (most recent call last)",
      "\u001b[1;32m<ipython-input-25-9a37def41cd4>\u001b[0m in \u001b[0;36m<module>\u001b[1;34m\u001b[0m\n\u001b[1;32m----> 1\u001b[1;33m \u001b[0ms1\u001b[0m \u001b[1;33m=\u001b[0m \u001b[0mStudent\u001b[0m\u001b[1;33m(\u001b[0m\u001b[1;33m)\u001b[0m \u001b[1;31m# super클래스의 __init__까지 상속\u001b[0m\u001b[1;33m\u001b[0m\u001b[1;33m\u001b[0m\u001b[0m\n\u001b[0m",
      "\u001b[1;31mTypeError\u001b[0m: __init__() missing 2 required positional arguments: 'name' and 'gender'"
     ]
    }
   ],
   "source": [
    "s1 = Student() # super클래스의 __init__까지 상속"
   ]
  },
  {
   "cell_type": "code",
   "execution_count": 26,
   "metadata": {
    "ExecuteTime": {
     "end_time": "2021-03-03T13:33:54.299173Z",
     "start_time": "2021-03-03T13:33:54.294200Z"
    }
   },
   "outputs": [
    {
     "name": "stdout",
     "output_type": "stream",
     "text": [
      "Person 객체를 생성합니다\n"
     ]
    }
   ],
   "source": [
    "s1 = Student(\"이순신\",\"남자\")"
   ]
  },
  {
   "cell_type": "code",
   "execution_count": 27,
   "metadata": {
    "ExecuteTime": {
     "end_time": "2021-03-03T13:34:02.130854Z",
     "start_time": "2021-03-03T13:34:02.118861Z"
    }
   },
   "outputs": [
    {
     "name": "stdout",
     "output_type": "stream",
     "text": [
      "일반메소드 - 이순신님은 남자입니다\n"
     ]
    }
   ],
   "source": [
    "print(s1)"
   ]
  },
  {
   "cell_type": "code",
   "execution_count": 28,
   "metadata": {
    "ExecuteTime": {
     "end_time": "2021-03-03T13:34:11.651874Z",
     "start_time": "2021-03-03T13:34:11.642935Z"
    }
   },
   "outputs": [
    {
     "name": "stdout",
     "output_type": "stream",
     "text": [
      "일반메소드 - 이순신님은 남자입니다\n"
     ]
    }
   ],
   "source": [
    "s1.print_info()"
   ]
  },
  {
   "cell_type": "code",
   "execution_count": 29,
   "metadata": {
    "ExecuteTime": {
     "end_time": "2021-03-03T13:35:57.186542Z",
     "start_time": "2021-03-03T13:35:57.173623Z"
    }
   },
   "outputs": [],
   "source": [
    "class Person:\n",
    "    \"name과 gender를 갖는 Person 타입\"\n",
    "    def __init__(self, name, gender): # 매개변수 2개로 호출될 생성자\n",
    "        print(\"Person 객체를 생성합니다\")\n",
    "        self.name = name\n",
    "        self.gender = gender\n",
    "    def __del__(self):\n",
    "        print(\"Person 객체를 소멸시킵니다\")\n",
    "    def print_info(self):\n",
    "        print(\"일반메소드 - {}님은 {}입니다\".format(self.name, self.gender))\n",
    "    def __str__(self):\n",
    "        return \"일반메소드 - {}님은 {}입니다\".format(self.name, self.gender)"
   ]
  },
  {
   "cell_type": "code",
   "execution_count": 30,
   "metadata": {
    "ExecuteTime": {
     "end_time": "2021-03-03T13:36:28.860199Z",
     "start_time": "2021-03-03T13:36:28.841253Z"
    }
   },
   "outputs": [],
   "source": [
    "class Student(Person):\n",
    "    \"name과 gender에 major 변수를 갖는 Student 타입\"\n",
    "    def __init__(self, name, gender, major):\n",
    "        self.name = name\n",
    "        self.gender = gender\n",
    "        self.major = major\n",
    "    def __del__(self):\n",
    "        pass\n",
    "    def print_info(self):\n",
    "        print(\"%s님은 전공 %s에 %s입니다\" % (self.name, self.major, self.gender))\n",
    "    def __str__(self):\n",
    "        return \"%s님은 전공 %s에 %s입니다\" % (self.name, self.major, self.gender)"
   ]
  },
  {
   "cell_type": "code",
   "execution_count": 31,
   "metadata": {
    "ExecuteTime": {
     "end_time": "2021-03-03T13:36:53.195402Z",
     "start_time": "2021-03-03T13:36:53.185403Z"
    }
   },
   "outputs": [
    {
     "name": "stdout",
     "output_type": "stream",
     "text": [
      "Person 객체를 소멸시킵니다\n",
      "홍길동님은 전공 빅데이터분석에 남자입니다\n",
      "홍길동님은 전공 빅데이터분석에 남자입니다\n"
     ]
    }
   ],
   "source": [
    "s1 = Student(\"홍길동\",\"남자\",\"빅데이터분석\")\n",
    "print(s1)\n",
    "print(s1.__str__())"
   ]
  },
  {
   "cell_type": "code",
   "execution_count": 32,
   "metadata": {
    "ExecuteTime": {
     "end_time": "2021-03-03T13:37:31.223091Z",
     "start_time": "2021-03-03T13:37:31.212123Z"
    }
   },
   "outputs": [
    {
     "data": {
      "text/plain": [
       "(True, True)"
      ]
     },
     "execution_count": 32,
     "metadata": {},
     "output_type": "execute_result"
    }
   ],
   "source": [
    "isinstance(s1, Student), isinstance(s1, Person)"
   ]
  },
  {
   "cell_type": "code",
   "execution_count": 33,
   "metadata": {
    "ExecuteTime": {
     "end_time": "2021-03-03T13:37:51.661363Z",
     "start_time": "2021-03-03T13:37:51.657413Z"
    }
   },
   "outputs": [],
   "source": [
    "#super() 사용"
   ]
  },
  {
   "cell_type": "code",
   "execution_count": 34,
   "metadata": {
    "ExecuteTime": {
     "end_time": "2021-03-03T13:41:23.612470Z",
     "start_time": "2021-03-03T13:41:23.604519Z"
    }
   },
   "outputs": [],
   "source": [
    "class Person:\n",
    "    \"name과 gender를 갖는 Person 타입\"\n",
    "    def __init__(self, name, gender): # 매개변수 2개로 호출될 생성자\n",
    "        print(\"Person 객체를 생성합니다\")\n",
    "        self.name = name\n",
    "        self.gender = gender\n",
    "    def __del__(self):\n",
    "        print(\"Person 객체를 소멸시킵니다\")\n",
    "    def print_info(self):\n",
    "        print(\"일반메소드 - {}님은 {}입니다\".format(self.name, self.gender))\n",
    "    def __str__(self):\n",
    "        return \"일반메소드 - {}님은 {}입니다\".format(self.name, self.gender)"
   ]
  },
  {
   "cell_type": "code",
   "execution_count": 35,
   "metadata": {
    "ExecuteTime": {
     "end_time": "2021-03-03T13:41:33.463286Z",
     "start_time": "2021-03-03T13:41:33.453334Z"
    }
   },
   "outputs": [],
   "source": [
    "class Student(Person):\n",
    "    \"name과 gender에 major 변수를 갖는 Student 타입\"\n",
    "    def __init__(self, name, gender, major):\n",
    "        # 부모클래스의 생성자를 호출하여 자식 클래스의 생성자를 쉽게\n",
    "        Person.__init__(self, name, gender)\n",
    "        self.major = major\n",
    "    def __del__(self):\n",
    "        pass\n",
    "    def print_info(self):\n",
    "        print(\"%s님은 전공 %s에 %s입니다\" % (self.name, self.major, self.gender))\n",
    "    def __str__(self):\n",
    "        return super().__str__() + \" 전공은 {}입니다\".format(self.major)\n",
    "#        return Person.__str__(self) + \" 전공은 {}입니다\".format(self.major)"
   ]
  },
  {
   "cell_type": "code",
   "execution_count": 36,
   "metadata": {
    "ExecuteTime": {
     "end_time": "2021-03-03T13:41:44.216797Z",
     "start_time": "2021-03-03T13:41:44.210846Z"
    }
   },
   "outputs": [
    {
     "name": "stdout",
     "output_type": "stream",
     "text": [
      "Person 객체를 생성합니다\n",
      "일반메소드 - 김철수님은 남자입니다 전공은 통계입니다\n"
     ]
    }
   ],
   "source": [
    "s1 = Student(\"김철수\",\"남자\",\"통계\")\n",
    "print(s1)"
   ]
  },
  {
   "cell_type": "markdown",
   "metadata": {},
   "source": [
    "<b>static변수 : 여러 객체들 사이에 데이터를 공유하고 싶을 때 사용\n",
    "\n",
    "- 클래스 변수이름 앞에 under score 2개(__) 붙이면 내부적으로 클래스명._클래스명변수이름으로 참조"
   ]
  },
  {
   "cell_type": "code",
   "execution_count": 37,
   "metadata": {
    "ExecuteTime": {
     "end_time": "2021-03-03T13:42:28.690664Z",
     "start_time": "2021-03-03T13:42:28.678699Z"
    }
   },
   "outputs": [],
   "source": [
    "class Student(Person):\n",
    "    \"name과 gender에 major 변수를 갖는 Student 타입(객체 갯수도 포함)\"\n",
    "    __count = 0; # static 변수\n",
    "    def __init__(self, name, gender, major):\n",
    "        # 부모클래스의 생성자를 호출하여 자식 클래스의 생성자를 쉽게\n",
    "        Student._Student__count += 1 # 객체가 생성될 때마다 __count증가\n",
    "        Person.__init__(self, name, gender)\n",
    "        self.major = major\n",
    "    def __del__(self):\n",
    "        Student._Student__count -= 1 # 객체가 소멸될 때마다 __count 감소\n",
    "    def print_info(self):\n",
    "        print(\"%s님은 전공 %s에 %s입니다\" % (self.name, self.major, self.gender))\n",
    "    def __str__(self):\n",
    "        return super().__str__() + \" 전공은 {}입니다\".format(self.major)\n",
    "#        return Person.__str__(self) + \" 전공은 {}입니다\".format(self.major)\n",
    "    @classmethod\n",
    "    def get_count(cls):\n",
    "        return Student._Student__count"
   ]
  },
  {
   "cell_type": "code",
   "execution_count": 38,
   "metadata": {
    "ExecuteTime": {
     "end_time": "2021-03-03T13:42:36.277302Z",
     "start_time": "2021-03-03T13:42:36.259318Z"
    }
   },
   "outputs": [
    {
     "name": "stdout",
     "output_type": "stream",
     "text": [
      "Person 객체를 생성합니다\n",
      "일반메소드 - 홍길동님은 남자입니다 전공은 빅데이터입니다\n",
      "객체갯수: 1\n"
     ]
    }
   ],
   "source": [
    "s1 = Student(\"홍길동\",\"남자\",\"빅데이터\")\n",
    "print(s1)\n",
    "print('객체갯수:',Student.get_count())"
   ]
  },
  {
   "cell_type": "code",
   "execution_count": 39,
   "metadata": {
    "ExecuteTime": {
     "end_time": "2021-03-03T13:43:14.224916Z",
     "start_time": "2021-03-03T13:43:14.207962Z"
    }
   },
   "outputs": [
    {
     "name": "stdout",
     "output_type": "stream",
     "text": [
      "Person 객체를 생성합니다\n",
      "홍길순님은 전공 통계에 여자입니다\n",
      "객체 갯수 : 2\n"
     ]
    }
   ],
   "source": [
    "s2 = Student(\"홍길순\",\"여자\",\"통계\")\n",
    "s2.print_info()\n",
    "print('객체 갯수 :', s2.get_count())"
   ]
  },
  {
   "cell_type": "code",
   "execution_count": 40,
   "metadata": {
    "ExecuteTime": {
     "end_time": "2021-03-03T13:43:20.766055Z",
     "start_time": "2021-03-03T13:43:20.748112Z"
    }
   },
   "outputs": [
    {
     "name": "stdout",
     "output_type": "stream",
     "text": [
      "Person 객체를 생성합니다\n",
      "홍길순님은 전공 통계에 여자입니다\n",
      "객체 갯수 : 3\n",
      "객체 갯수 : 3\n",
      "객체 갯수 : 3\n"
     ]
    }
   ],
   "source": [
    "s3 = Student(\"홍길순\",\"여자\",\"통계\")\n",
    "s3.print_info()\n",
    "print('객체 갯수 :', s2.get_count())\n",
    "print('객체 갯수 :', s3.get_count())\n",
    "print('객체 갯수 :', Student.get_count())"
   ]
  },
  {
   "cell_type": "code",
   "execution_count": 41,
   "metadata": {
    "ExecuteTime": {
     "end_time": "2021-03-03T13:43:27.040891Z",
     "start_time": "2021-03-03T13:43:27.028892Z"
    }
   },
   "outputs": [
    {
     "name": "stdout",
     "output_type": "stream",
     "text": [
      "객체 갯수 : 2\n"
     ]
    }
   ],
   "source": [
    "del s3\n",
    "print('객체 갯수 :', Student.get_count())"
   ]
  },
  {
   "cell_type": "markdown",
   "metadata": {},
   "source": [
    "# 5절. 연습문제"
   ]
  },
  {
   "cell_type": "code",
   "execution_count": 43,
   "metadata": {
    "ExecuteTime": {
     "end_time": "2021-03-03T13:43:51.312912Z",
     "start_time": "2021-03-03T13:43:51.295958Z"
    }
   },
   "outputs": [],
   "source": [
    "# 실습형 1\n",
    "class Shape:\n",
    "    def __init__(self, x=0, y=0):\n",
    "        self.x = x\n",
    "        self.y = y\n",
    "        \n",
    "    def __str__(self):\n",
    "        return \"x좌표값:{}, y좌표값:{}\".format(self.x, self.y)\n",
    "\n",
    "    def move(self, x, y):\n",
    "        self.x += x\n",
    "        self.y += y\n",
    "        \n",
    "    def calc_area(self):\n",
    "        raise Exception(\"이 메소드는 반드시 구현되어야 합니다\")\n",
    "    \n",
    "    @staticmethod\n",
    "    def staticmethod_():\n",
    "        print(\"도형 클래스 staticmethod 호출\")"
   ]
  },
  {
   "cell_type": "code",
   "execution_count": 44,
   "metadata": {
    "ExecuteTime": {
     "end_time": "2021-03-03T13:43:57.597938Z",
     "start_time": "2021-03-03T13:43:57.585973Z"
    }
   },
   "outputs": [],
   "source": [
    "class Triangle(Shape):\n",
    "    __count = 0\n",
    "    def __init__(self, width, height, x=0, y=0):\n",
    "        Triangle._Triangle__count += 1\n",
    "        Shape.__init__(self, x, y)\n",
    "        self.width = width\n",
    "        self.height = height    \n",
    "    def __del__(self):\n",
    "        Triangle._Triangle__count -= 1        \n",
    "    def __str__(self):\n",
    "        #return Shape.__str__(self) + \", width:{}, height:{}\".format(self.width, \n",
    "         #                                                           self.height)\n",
    "        return super().__str__() + \", width:{}, height:{}\".format(self.width, \n",
    "                                                                  self.height)    \n",
    "    def calc_area(self):\n",
    "        return (self.width*self.height)/2    \n",
    "    @classmethod\n",
    "    def get_count(cls):\n",
    "        return cls.__count"
   ]
  },
  {
   "cell_type": "code",
   "execution_count": 45,
   "metadata": {
    "ExecuteTime": {
     "end_time": "2021-03-03T13:44:06.215687Z",
     "start_time": "2021-03-03T13:44:06.205716Z"
    }
   },
   "outputs": [],
   "source": [
    "s1 = Shape()"
   ]
  },
  {
   "cell_type": "code",
   "execution_count": 46,
   "metadata": {
    "ExecuteTime": {
     "end_time": "2021-03-03T13:44:10.512640Z",
     "start_time": "2021-03-03T13:44:10.491697Z"
    }
   },
   "outputs": [
    {
     "ename": "Exception",
     "evalue": "이 메소드는 반드시 구현되어야 합니다",
     "output_type": "error",
     "traceback": [
      "\u001b[1;31m---------------------------------------------------------------------------\u001b[0m",
      "\u001b[1;31mException\u001b[0m                                 Traceback (most recent call last)",
      "\u001b[1;32m<ipython-input-46-9fa41ec1c1e8>\u001b[0m in \u001b[0;36m<module>\u001b[1;34m\u001b[0m\n\u001b[1;32m----> 1\u001b[1;33m \u001b[0ms1\u001b[0m\u001b[1;33m.\u001b[0m\u001b[0mcalc_area\u001b[0m\u001b[1;33m(\u001b[0m\u001b[1;33m)\u001b[0m \u001b[1;31m# calc_area()호출시 오류 발생\u001b[0m\u001b[1;33m\u001b[0m\u001b[1;33m\u001b[0m\u001b[0m\n\u001b[0m",
      "\u001b[1;32m<ipython-input-43-8874e7c4eef7>\u001b[0m in \u001b[0;36mcalc_area\u001b[1;34m(self)\u001b[0m\n\u001b[0;32m     13\u001b[0m \u001b[1;33m\u001b[0m\u001b[0m\n\u001b[0;32m     14\u001b[0m     \u001b[1;32mdef\u001b[0m \u001b[0mcalc_area\u001b[0m\u001b[1;33m(\u001b[0m\u001b[0mself\u001b[0m\u001b[1;33m)\u001b[0m\u001b[1;33m:\u001b[0m\u001b[1;33m\u001b[0m\u001b[1;33m\u001b[0m\u001b[0m\n\u001b[1;32m---> 15\u001b[1;33m         \u001b[1;32mraise\u001b[0m \u001b[0mException\u001b[0m\u001b[1;33m(\u001b[0m\u001b[1;34m\"이 메소드는 반드시 구현되어야 합니다\"\u001b[0m\u001b[1;33m)\u001b[0m\u001b[1;33m\u001b[0m\u001b[1;33m\u001b[0m\u001b[0m\n\u001b[0m\u001b[0;32m     16\u001b[0m \u001b[1;33m\u001b[0m\u001b[0m\n\u001b[0;32m     17\u001b[0m     \u001b[1;33m@\u001b[0m\u001b[0mstaticmethod\u001b[0m\u001b[1;33m\u001b[0m\u001b[1;33m\u001b[0m\u001b[0m\n",
      "\u001b[1;31mException\u001b[0m: 이 메소드는 반드시 구현되어야 합니다"
     ]
    }
   ],
   "source": [
    "s1.calc_area() # calc_area()호출시 오류 발생"
   ]
  },
  {
   "cell_type": "code",
   "execution_count": 47,
   "metadata": {
    "ExecuteTime": {
     "end_time": "2021-03-03T13:44:20.606991Z",
     "start_time": "2021-03-03T13:44:20.590045Z"
    }
   },
   "outputs": [],
   "source": [
    "t1 = Triangle(10, 20)\n",
    "t2 = Triangle(3, 4, 5, 5)"
   ]
  },
  {
   "cell_type": "code",
   "execution_count": 48,
   "metadata": {
    "ExecuteTime": {
     "end_time": "2021-03-03T13:44:26.448534Z",
     "start_time": "2021-03-03T13:44:26.432548Z"
    }
   },
   "outputs": [
    {
     "name": "stdout",
     "output_type": "stream",
     "text": [
      "x좌표값:0, y좌표값:0, width:10, height:20\n",
      "x좌표값:5, y좌표값:5, width:3, height:4\n",
      "Triangle 객체 갯수 : 2\n",
      "Triangle 객체 갯수 : 2\n",
      "Triangle 객체 갯수 : 2\n"
     ]
    }
   ],
   "source": [
    "print(t1)\n",
    "print(t2)\n",
    "print('Triangle 객체 갯수 :', Triangle.get_count())\n",
    "print('Triangle 객체 갯수 :', t1.get_count())\n",
    "print('Triangle 객체 갯수 :', t2.get_count())"
   ]
  },
  {
   "cell_type": "code",
   "execution_count": 49,
   "metadata": {
    "ExecuteTime": {
     "end_time": "2021-03-03T13:44:31.625441Z",
     "start_time": "2021-03-03T13:44:31.608036Z"
    }
   },
   "outputs": [],
   "source": [
    "t1.move(50,50)"
   ]
  },
  {
   "cell_type": "code",
   "execution_count": 50,
   "metadata": {
    "ExecuteTime": {
     "end_time": "2021-03-03T13:44:37.147335Z",
     "start_time": "2021-03-03T13:44:37.136350Z"
    }
   },
   "outputs": [
    {
     "name": "stdout",
     "output_type": "stream",
     "text": [
      "x좌표값:50, y좌표값:50, width:10, height:20\n"
     ]
    }
   ],
   "source": [
    "print(t1)"
   ]
  },
  {
   "cell_type": "code",
   "execution_count": null,
   "metadata": {},
   "outputs": [],
   "source": [
    "# 서술형 1"
   ]
  },
  {
   "cell_type": "code",
   "execution_count": null,
   "metadata": {},
   "outputs": [],
   "source": [
    "# 서술형 2"
   ]
  },
  {
   "cell_type": "code",
   "execution_count": null,
   "metadata": {},
   "outputs": [],
   "source": [
    "# 서술형 3"
   ]
  },
  {
   "cell_type": "code",
   "execution_count": null,
   "metadata": {},
   "outputs": [],
   "source": [
    "# 서술형 4"
   ]
  },
  {
   "cell_type": "code",
   "execution_count": null,
   "metadata": {},
   "outputs": [],
   "source": [
    "# 서술형 5"
   ]
  },
  {
   "cell_type": "code",
   "execution_count": null,
   "metadata": {},
   "outputs": [],
   "source": [
    "# 서술형 6"
   ]
  },
  {
   "cell_type": "code",
   "execution_count": null,
   "metadata": {},
   "outputs": [],
   "source": [
    "# 서술형 7"
   ]
  },
  {
   "cell_type": "code",
   "execution_count": 51,
   "metadata": {
    "ExecuteTime": {
     "end_time": "2021-03-03T13:45:22.785273Z",
     "start_time": "2021-03-03T13:45:22.777330Z"
    }
   },
   "outputs": [],
   "source": [
    "# 서술형 8\n",
    "class Super:\n",
    "    def do_(self, a):\n",
    "        print(\"super.do_\")\n",
    "class Sub(Super):\n",
    "    def do_(self, a):\n",
    "        #Super.do_(self, a)\n",
    "        super().do_(a)\n",
    "        print(\"sub.do_\")"
   ]
  },
  {
   "cell_type": "code",
   "execution_count": 52,
   "metadata": {
    "ExecuteTime": {
     "end_time": "2021-03-03T13:45:35.135292Z",
     "start_time": "2021-03-03T13:45:35.117309Z"
    }
   },
   "outputs": [
    {
     "name": "stdout",
     "output_type": "stream",
     "text": [
      "super.do_\n",
      "sub.do_\n"
     ]
    }
   ],
   "source": [
    "s1 = Sub()\n",
    "s1.do_(10)"
   ]
  },
  {
   "cell_type": "code",
   "execution_count": 53,
   "metadata": {
    "ExecuteTime": {
     "end_time": "2021-03-03T13:45:43.158266Z",
     "start_time": "2021-03-03T13:45:43.140317Z"
    }
   },
   "outputs": [],
   "source": [
    "# 서술형 9"
   ]
  },
  {
   "cell_type": "code",
   "execution_count": 54,
   "metadata": {
    "ExecuteTime": {
     "end_time": "2021-03-03T13:45:48.265125Z",
     "start_time": "2021-03-03T13:45:48.254163Z"
    }
   },
   "outputs": [],
   "source": [
    "class Person:\n",
    "    \"서술형 9번 문제\"\n",
    "    def __init__(self, name=\"홍길동\", gender=\"남\"):\n",
    "        self.name = name\n",
    "        self.gender = gender\n",
    "    def __del__(self):\n",
    "        pass\n",
    "    def __str__(self):\n",
    "        return \"이름은 \"+self.name\n",
    "    def print_info(self):\n",
    "        print(self.name)"
   ]
  },
  {
   "cell_type": "code",
   "execution_count": 55,
   "metadata": {
    "ExecuteTime": {
     "end_time": "2021-03-03T13:45:56.044848Z",
     "start_time": "2021-03-03T13:45:56.030887Z"
    }
   },
   "outputs": [
    {
     "name": "stdout",
     "output_type": "stream",
     "text": [
      "이름은 홍길동\n"
     ]
    }
   ],
   "source": [
    "p = Person()\n",
    "print(p)"
   ]
  },
  {
   "cell_type": "code",
   "execution_count": 56,
   "metadata": {
    "ExecuteTime": {
     "end_time": "2021-03-03T13:46:01.018201Z",
     "start_time": "2021-03-03T13:46:01.009200Z"
    }
   },
   "outputs": [
    {
     "data": {
      "text/plain": [
       "{'name': '홍길동', 'gender': '남'}"
      ]
     },
     "execution_count": 56,
     "metadata": {},
     "output_type": "execute_result"
    }
   ],
   "source": [
    "p.__dict__ # 클래스의 멤버들을 확인"
   ]
  },
  {
   "cell_type": "code",
   "execution_count": null,
   "metadata": {},
   "outputs": [],
   "source": []
  }
 ],
 "metadata": {
  "kernelspec": {
   "display_name": "Python 3",
   "language": "python",
   "name": "python3"
  },
  "language_info": {
   "codemirror_mode": {
    "name": "ipython",
    "version": 3
   },
   "file_extension": ".py",
   "mimetype": "text/x-python",
   "name": "python",
   "nbconvert_exporter": "python",
   "pygments_lexer": "ipython3",
   "version": "3.8.5"
  },
  "toc": {
   "base_numbering": 1,
   "nav_menu": {},
   "number_sections": false,
   "sideBar": true,
   "skip_h1_title": false,
   "title_cell": "Table of Contents",
   "title_sidebar": "Contents",
   "toc_cell": false,
   "toc_position": {},
   "toc_section_display": true,
   "toc_window_display": true
  },
  "varInspector": {
   "cols": {
    "lenName": 16,
    "lenType": 16,
    "lenVar": 40
   },
   "kernels_config": {
    "python": {
     "delete_cmd_postfix": "",
     "delete_cmd_prefix": "del ",
     "library": "var_list.py",
     "varRefreshCmd": "print(var_dic_list())"
    },
    "r": {
     "delete_cmd_postfix": ") ",
     "delete_cmd_prefix": "rm(",
     "library": "var_list.r",
     "varRefreshCmd": "cat(var_dic_list()) "
    }
   },
   "types_to_exclude": [
    "module",
    "function",
    "builtin_function_or_method",
    "instance",
    "_Feature"
   ],
   "window_display": false
  }
 },
 "nbformat": 4,
 "nbformat_minor": 4
}
