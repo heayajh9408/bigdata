{
 "cells": [
  {
   "cell_type": "code",
   "execution_count": 1,
   "metadata": {
    "ExecuteTime": {
     "end_time": "2021-03-21T14:34:31.935460Z",
     "start_time": "2021-03-21T14:34:28.687016Z"
    }
   },
   "outputs": [],
   "source": [
    "import tensorflow.keras.utils as utils # 분류분석시 원핫인코딩 시\n",
    "from tensorflow.keras.models import Sequential # 모델 생성 시\n",
    "from tensorflow.keras.layers import Dense, Activation \n",
    "import numpy as np"
   ]
  },
  {
   "cell_type": "markdown",
   "metadata": {},
   "source": [
    "# 1. 데이터 셋"
   ]
  },
  {
   "cell_type": "code",
   "execution_count": 2,
   "metadata": {
    "ExecuteTime": {
     "end_time": "2021-03-21T14:35:20.872188Z",
     "start_time": "2021-03-21T14:35:20.868192Z"
    }
   },
   "outputs": [],
   "source": [
    "# 학습데이터=훈련데이터\n",
    "X_train = np.array([1,2,3,4,5,6,7,8,9]*10)\n",
    "Y_train = np.array([2,4,6,8,10,12,14,16,18]*10)\n",
    "# 검증데이터, 테스트데이터\n",
    "X_val = np.array([1,2,3,4,5,6,7,8,9])\n",
    "Y_val = np.array([2,4,6,8,10,12,14,16,18])"
   ]
  },
  {
   "cell_type": "code",
   "execution_count": 3,
   "metadata": {
    "ExecuteTime": {
     "end_time": "2021-03-21T14:35:33.410193Z",
     "start_time": "2021-03-21T14:35:33.398711Z"
    }
   },
   "outputs": [
    {
     "data": {
      "text/plain": [
       "array([ 2,  4,  6,  8, 10, 12, 14, 16, 18])"
      ]
     },
     "execution_count": 3,
     "metadata": {},
     "output_type": "execute_result"
    }
   ],
   "source": [
    "Y_val"
   ]
  },
  {
   "cell_type": "code",
   "execution_count": 4,
   "metadata": {
    "ExecuteTime": {
     "end_time": "2021-03-21T14:36:01.797862Z",
     "start_time": "2021-03-21T14:36:01.783898Z"
    }
   },
   "outputs": [],
   "source": [
    "# 분류분석을 하기 위해 target데이터를 라벨링 전환(원 핫 인코딩)\n",
    "Y_train = utils.to_categorical(Y_train, 19)\n",
    "Y_val   = utils.to_categorical(Y_val, 19)"
   ]
  },
  {
   "cell_type": "code",
   "execution_count": 5,
   "metadata": {
    "ExecuteTime": {
     "end_time": "2021-03-21T14:36:06.376899Z",
     "start_time": "2021-03-21T14:36:06.367926Z"
    }
   },
   "outputs": [
    {
     "data": {
      "text/plain": [
       "array([[0., 0., 1., 0., 0., 0., 0., 0., 0., 0., 0., 0., 0., 0., 0., 0.,\n",
       "        0., 0., 0.],\n",
       "       [0., 0., 0., 0., 1., 0., 0., 0., 0., 0., 0., 0., 0., 0., 0., 0.,\n",
       "        0., 0., 0.],\n",
       "       [0., 0., 0., 0., 0., 0., 1., 0., 0., 0., 0., 0., 0., 0., 0., 0.,\n",
       "        0., 0., 0.],\n",
       "       [0., 0., 0., 0., 0., 0., 0., 0., 1., 0., 0., 0., 0., 0., 0., 0.,\n",
       "        0., 0., 0.],\n",
       "       [0., 0., 0., 0., 0., 0., 0., 0., 0., 0., 1., 0., 0., 0., 0., 0.,\n",
       "        0., 0., 0.],\n",
       "       [0., 0., 0., 0., 0., 0., 0., 0., 0., 0., 0., 0., 1., 0., 0., 0.,\n",
       "        0., 0., 0.],\n",
       "       [0., 0., 0., 0., 0., 0., 0., 0., 0., 0., 0., 0., 0., 0., 1., 0.,\n",
       "        0., 0., 0.],\n",
       "       [0., 0., 0., 0., 0., 0., 0., 0., 0., 0., 0., 0., 0., 0., 0., 0.,\n",
       "        1., 0., 0.],\n",
       "       [0., 0., 0., 0., 0., 0., 0., 0., 0., 0., 0., 0., 0., 0., 0., 0.,\n",
       "        0., 0., 1.]], dtype=float32)"
      ]
     },
     "execution_count": 5,
     "metadata": {},
     "output_type": "execute_result"
    }
   ],
   "source": [
    "Y_val"
   ]
  },
  {
   "cell_type": "markdown",
   "metadata": {},
   "source": [
    "# 2. 모델구성하기"
   ]
  },
  {
   "cell_type": "code",
   "execution_count": 7,
   "metadata": {
    "ExecuteTime": {
     "end_time": "2021-03-21T14:39:20.198235Z",
     "start_time": "2021-03-21T14:39:20.149338Z"
    }
   },
   "outputs": [],
   "source": [
    "model = Sequential()\n",
    "model.add(Dense(units=38, input_dim=1, activation=\"sigmoid\"))\n",
    "model.add(Dense(units=64, activation=\"elu\"))\n",
    "model.add(Dense(units=32, activation=\"elu\"))\n",
    "model.add(Dense(units=19, activation=\"softmax\")) # softmax : 모든 출력결과의 합이 1"
   ]
  },
  {
   "cell_type": "markdown",
   "metadata": {
    "ExecuteTime": {
     "end_time": "2021-03-21T14:40:24.552620Z",
     "start_time": "2021-03-21T14:40:24.544642Z"
    }
   },
   "source": [
    "# 3. 모델 학습과정 설정"
   ]
  },
  {
   "cell_type": "code",
   "execution_count": 9,
   "metadata": {
    "ExecuteTime": {
     "end_time": "2021-03-21T14:41:01.298620Z",
     "start_time": "2021-03-21T14:41:01.279640Z"
    }
   },
   "outputs": [],
   "source": [
    "model.compile(loss='categorical_crossentropy', optimizer='sgd',\n",
    "             metrics=['accuracy'])"
   ]
  },
  {
   "cell_type": "markdown",
   "metadata": {
    "ExecuteTime": {
     "end_time": "2021-03-21T14:41:13.622755Z",
     "start_time": "2021-03-21T14:41:13.613779Z"
    }
   },
   "source": [
    "# 4. 모델 학습시키기"
   ]
  },
  {
   "cell_type": "code",
   "execution_count": 11,
   "metadata": {
    "ExecuteTime": {
     "end_time": "2021-03-21T14:42:56.345026Z",
     "start_time": "2021-03-21T14:42:39.390103Z"
    }
   },
   "outputs": [
    {
     "name": "stdout",
     "output_type": "stream",
     "text": [
      "Epoch 1/300\n",
      "9/9 - 2s - loss: 3.2698 - accuracy: 0.0000e+00 - val_loss: 3.0913 - val_accuracy: 0.0000e+00\n",
      "Epoch 2/300\n",
      "9/9 - 0s - loss: 3.0116 - accuracy: 0.0444 - val_loss: 2.8978 - val_accuracy: 0.1111\n",
      "Epoch 3/300\n",
      "9/9 - 0s - loss: 2.8519 - accuracy: 0.1111 - val_loss: 2.7689 - val_accuracy: 0.1111\n",
      "Epoch 4/300\n",
      "9/9 - 0s - loss: 2.7381 - accuracy: 0.1111 - val_loss: 2.6757 - val_accuracy: 0.1111\n",
      "Epoch 5/300\n",
      "9/9 - 0s - loss: 2.6541 - accuracy: 0.1111 - val_loss: 2.6052 - val_accuracy: 0.1111\n",
      "Epoch 6/300\n",
      "9/9 - 0s - loss: 2.5926 - accuracy: 0.1111 - val_loss: 2.5489 - val_accuracy: 0.1111\n",
      "Epoch 7/300\n",
      "9/9 - 0s - loss: 2.5398 - accuracy: 0.1111 - val_loss: 2.5015 - val_accuracy: 0.1111\n",
      "Epoch 8/300\n",
      "9/9 - 0s - loss: 2.4936 - accuracy: 0.1111 - val_loss: 2.4607 - val_accuracy: 0.1111\n",
      "Epoch 9/300\n",
      "9/9 - 0s - loss: 2.4606 - accuracy: 0.1111 - val_loss: 2.4256 - val_accuracy: 0.1111\n",
      "Epoch 10/300\n",
      "9/9 - 0s - loss: 2.4229 - accuracy: 0.0778 - val_loss: 2.3944 - val_accuracy: 0.1111\n",
      "Epoch 11/300\n",
      "9/9 - 0s - loss: 2.3998 - accuracy: 0.0444 - val_loss: 2.3670 - val_accuracy: 0.1111\n",
      "Epoch 12/300\n",
      "9/9 - 0s - loss: 2.3699 - accuracy: 0.1000 - val_loss: 2.3424 - val_accuracy: 0.1111\n",
      "Epoch 13/300\n",
      "9/9 - 0s - loss: 2.3447 - accuracy: 0.1889 - val_loss: 2.3207 - val_accuracy: 0.2222\n",
      "Epoch 14/300\n",
      "9/9 - 0s - loss: 2.3291 - accuracy: 0.1111 - val_loss: 2.3017 - val_accuracy: 0.2222\n",
      "Epoch 15/300\n",
      "9/9 - 0s - loss: 2.3086 - accuracy: 0.1778 - val_loss: 2.2840 - val_accuracy: 0.2222\n",
      "Epoch 16/300\n",
      "9/9 - 0s - loss: 2.2897 - accuracy: 0.2000 - val_loss: 2.2679 - val_accuracy: 0.2222\n",
      "Epoch 17/300\n",
      "9/9 - 0s - loss: 2.2775 - accuracy: 0.0556 - val_loss: 2.2535 - val_accuracy: 0.2222\n",
      "Epoch 18/300\n",
      "9/9 - 0s - loss: 2.2624 - accuracy: 0.1889 - val_loss: 2.2402 - val_accuracy: 0.2222\n",
      "Epoch 19/300\n",
      "9/9 - 0s - loss: 2.2521 - accuracy: 0.2000 - val_loss: 2.2277 - val_accuracy: 0.2222\n",
      "Epoch 20/300\n",
      "9/9 - 0s - loss: 2.2368 - accuracy: 0.2556 - val_loss: 2.2162 - val_accuracy: 0.2222\n",
      "Epoch 21/300\n",
      "9/9 - 0s - loss: 2.2318 - accuracy: 0.2000 - val_loss: 2.2054 - val_accuracy: 0.2222\n",
      "Epoch 22/300\n",
      "9/9 - 0s - loss: 2.2153 - accuracy: 0.1889 - val_loss: 2.1952 - val_accuracy: 0.2222\n",
      "Epoch 23/300\n",
      "9/9 - 0s - loss: 2.2077 - accuracy: 0.2222 - val_loss: 2.1855 - val_accuracy: 0.2222\n",
      "Epoch 24/300\n",
      "9/9 - 0s - loss: 2.1965 - accuracy: 0.2111 - val_loss: 2.1764 - val_accuracy: 0.2222\n",
      "Epoch 25/300\n",
      "9/9 - 0s - loss: 2.1897 - accuracy: 0.2111 - val_loss: 2.1676 - val_accuracy: 0.2222\n",
      "Epoch 26/300\n",
      "9/9 - 0s - loss: 2.1896 - accuracy: 0.2111 - val_loss: 2.1592 - val_accuracy: 0.2222\n",
      "Epoch 27/300\n",
      "9/9 - 0s - loss: 2.1782 - accuracy: 0.2333 - val_loss: 2.1509 - val_accuracy: 0.2222\n",
      "Epoch 28/300\n",
      "9/9 - 0s - loss: 2.1681 - accuracy: 0.2111 - val_loss: 2.1432 - val_accuracy: 0.2222\n",
      "Epoch 29/300\n",
      "9/9 - 0s - loss: 2.1589 - accuracy: 0.2111 - val_loss: 2.1348 - val_accuracy: 0.2222\n",
      "Epoch 30/300\n",
      "9/9 - 0s - loss: 2.1511 - accuracy: 0.2111 - val_loss: 2.1274 - val_accuracy: 0.2222\n",
      "Epoch 31/300\n",
      "9/9 - 0s - loss: 2.1441 - accuracy: 0.2333 - val_loss: 2.1191 - val_accuracy: 0.2222\n",
      "Epoch 32/300\n",
      "9/9 - 0s - loss: 2.1297 - accuracy: 0.2444 - val_loss: 2.1115 - val_accuracy: 0.2222\n",
      "Epoch 33/300\n",
      "9/9 - 0s - loss: 2.1290 - accuracy: 0.1889 - val_loss: 2.1036 - val_accuracy: 0.2222\n",
      "Epoch 34/300\n",
      "9/9 - 0s - loss: 2.1215 - accuracy: 0.1556 - val_loss: 2.0959 - val_accuracy: 0.2222\n",
      "Epoch 35/300\n",
      "9/9 - 0s - loss: 2.1114 - accuracy: 0.2333 - val_loss: 2.0880 - val_accuracy: 0.2222\n",
      "Epoch 36/300\n",
      "9/9 - 0s - loss: 2.1027 - accuracy: 0.2111 - val_loss: 2.0802 - val_accuracy: 0.3333\n",
      "Epoch 37/300\n",
      "9/9 - 0s - loss: 2.0946 - accuracy: 0.2111 - val_loss: 2.0721 - val_accuracy: 0.3333\n",
      "Epoch 38/300\n",
      "9/9 - 0s - loss: 2.0886 - accuracy: 0.2000 - val_loss: 2.0646 - val_accuracy: 0.2222\n",
      "Epoch 39/300\n",
      "9/9 - 0s - loss: 2.0831 - accuracy: 0.1889 - val_loss: 2.0558 - val_accuracy: 0.2222\n",
      "Epoch 40/300\n",
      "9/9 - 0s - loss: 2.0735 - accuracy: 0.2111 - val_loss: 2.0477 - val_accuracy: 0.2222\n",
      "Epoch 41/300\n",
      "9/9 - 0s - loss: 2.0658 - accuracy: 0.2111 - val_loss: 2.0393 - val_accuracy: 0.2222\n",
      "Epoch 42/300\n",
      "9/9 - 0s - loss: 2.0611 - accuracy: 0.2222 - val_loss: 2.0306 - val_accuracy: 0.2222\n",
      "Epoch 43/300\n",
      "9/9 - 0s - loss: 2.0478 - accuracy: 0.2000 - val_loss: 2.0217 - val_accuracy: 0.2222\n",
      "Epoch 44/300\n",
      "9/9 - 0s - loss: 2.0443 - accuracy: 0.2333 - val_loss: 2.0133 - val_accuracy: 0.2222\n",
      "Epoch 45/300\n",
      "9/9 - 0s - loss: 2.0340 - accuracy: 0.1778 - val_loss: 2.0034 - val_accuracy: 0.2222\n",
      "Epoch 46/300\n",
      "9/9 - 0s - loss: 2.0211 - accuracy: 0.2111 - val_loss: 1.9943 - val_accuracy: 0.2222\n",
      "Epoch 47/300\n",
      "9/9 - 0s - loss: 2.0131 - accuracy: 0.2222 - val_loss: 1.9846 - val_accuracy: 0.2222\n",
      "Epoch 48/300\n",
      "9/9 - 0s - loss: 2.0076 - accuracy: 0.2222 - val_loss: 1.9745 - val_accuracy: 0.2222\n",
      "Epoch 49/300\n",
      "9/9 - 0s - loss: 1.9876 - accuracy: 0.2222 - val_loss: 1.9643 - val_accuracy: 0.2222\n",
      "Epoch 50/300\n",
      "9/9 - 0s - loss: 1.9875 - accuracy: 0.1667 - val_loss: 1.9543 - val_accuracy: 0.2222\n",
      "Epoch 51/300\n",
      "9/9 - 0s - loss: 1.9705 - accuracy: 0.2222 - val_loss: 1.9439 - val_accuracy: 0.2222\n",
      "Epoch 52/300\n",
      "9/9 - 0s - loss: 1.9658 - accuracy: 0.2333 - val_loss: 1.9331 - val_accuracy: 0.2222\n",
      "Epoch 53/300\n",
      "9/9 - 0s - loss: 1.9488 - accuracy: 0.2111 - val_loss: 1.9218 - val_accuracy: 0.2222\n",
      "Epoch 54/300\n",
      "9/9 - 0s - loss: 1.9370 - accuracy: 0.2222 - val_loss: 1.9107 - val_accuracy: 0.4444\n",
      "Epoch 55/300\n",
      "9/9 - 0s - loss: 1.9276 - accuracy: 0.2556 - val_loss: 1.8988 - val_accuracy: 0.2222\n",
      "Epoch 56/300\n",
      "9/9 - 0s - loss: 1.9159 - accuracy: 0.2667 - val_loss: 1.8869 - val_accuracy: 0.2222\n",
      "Epoch 57/300\n",
      "9/9 - 0s - loss: 1.9045 - accuracy: 0.2000 - val_loss: 1.8755 - val_accuracy: 0.2222\n",
      "Epoch 58/300\n",
      "9/9 - 0s - loss: 1.8924 - accuracy: 0.1889 - val_loss: 1.8633 - val_accuracy: 0.2222\n",
      "Epoch 59/300\n",
      "9/9 - 0s - loss: 1.8780 - accuracy: 0.2444 - val_loss: 1.8514 - val_accuracy: 0.2222\n",
      "Epoch 60/300\n",
      "9/9 - 0s - loss: 1.8643 - accuracy: 0.2778 - val_loss: 1.8388 - val_accuracy: 0.2222\n",
      "Epoch 61/300\n",
      "9/9 - 0s - loss: 1.8531 - accuracy: 0.2556 - val_loss: 1.8264 - val_accuracy: 0.2222\n",
      "Epoch 62/300\n",
      "9/9 - 0s - loss: 1.8432 - accuracy: 0.1667 - val_loss: 1.8140 - val_accuracy: 0.3333\n",
      "Epoch 63/300\n",
      "9/9 - 0s - loss: 1.8248 - accuracy: 0.2111 - val_loss: 1.8018 - val_accuracy: 0.3333\n",
      "Epoch 64/300\n",
      "9/9 - 0s - loss: 1.8161 - accuracy: 0.2333 - val_loss: 1.7878 - val_accuracy: 0.3333\n",
      "Epoch 65/300\n",
      "9/9 - 0s - loss: 1.8071 - accuracy: 0.2444 - val_loss: 1.7743 - val_accuracy: 0.3333\n",
      "Epoch 66/300\n",
      "9/9 - 0s - loss: 1.7897 - accuracy: 0.2444 - val_loss: 1.7615 - val_accuracy: 0.3333\n",
      "Epoch 67/300\n",
      "9/9 - 0s - loss: 1.7707 - accuracy: 0.2889 - val_loss: 1.7475 - val_accuracy: 0.3333\n",
      "Epoch 68/300\n",
      "9/9 - 0s - loss: 1.7715 - accuracy: 0.2667 - val_loss: 1.7350 - val_accuracy: 0.2222\n",
      "Epoch 69/300\n",
      "9/9 - 0s - loss: 1.7527 - accuracy: 0.2444 - val_loss: 1.7217 - val_accuracy: 0.2222\n",
      "Epoch 70/300\n",
      "9/9 - 0s - loss: 1.7368 - accuracy: 0.3111 - val_loss: 1.7096 - val_accuracy: 0.2222\n",
      "Epoch 71/300\n",
      "9/9 - 0s - loss: 1.7247 - accuracy: 0.2444 - val_loss: 1.6969 - val_accuracy: 0.2222\n",
      "Epoch 72/300\n",
      "9/9 - 0s - loss: 1.7102 - accuracy: 0.3000 - val_loss: 1.6841 - val_accuracy: 0.2222\n",
      "Epoch 73/300\n",
      "9/9 - 0s - loss: 1.7001 - accuracy: 0.2444 - val_loss: 1.6717 - val_accuracy: 0.2222\n",
      "Epoch 74/300\n",
      "9/9 - 0s - loss: 1.6940 - accuracy: 0.3000 - val_loss: 1.6597 - val_accuracy: 0.3333\n",
      "Epoch 75/300\n",
      "9/9 - 0s - loss: 1.6711 - accuracy: 0.2778 - val_loss: 1.6487 - val_accuracy: 0.4444\n",
      "Epoch 76/300\n",
      "9/9 - 0s - loss: 1.6720 - accuracy: 0.3889 - val_loss: 1.6385 - val_accuracy: 0.3333\n",
      "Epoch 77/300\n",
      "9/9 - 0s - loss: 1.6574 - accuracy: 0.3000 - val_loss: 1.6244 - val_accuracy: 0.3333\n",
      "Epoch 78/300\n",
      "9/9 - 0s - loss: 1.6398 - accuracy: 0.2889 - val_loss: 1.6154 - val_accuracy: 0.3333\n",
      "Epoch 79/300\n",
      "9/9 - 0s - loss: 1.6301 - accuracy: 0.3222 - val_loss: 1.6028 - val_accuracy: 0.4444\n",
      "Epoch 80/300\n",
      "9/9 - 0s - loss: 1.6176 - accuracy: 0.3667 - val_loss: 1.5906 - val_accuracy: 0.3333\n",
      "Epoch 81/300\n",
      "9/9 - 0s - loss: 1.6127 - accuracy: 0.3444 - val_loss: 1.5799 - val_accuracy: 0.3333\n",
      "Epoch 82/300\n",
      "9/9 - 0s - loss: 1.6027 - accuracy: 0.2889 - val_loss: 1.5714 - val_accuracy: 0.3333\n",
      "Epoch 83/300\n",
      "9/9 - 0s - loss: 1.5926 - accuracy: 0.3556 - val_loss: 1.5591 - val_accuracy: 0.5556\n",
      "Epoch 84/300\n",
      "9/9 - 0s - loss: 1.5761 - accuracy: 0.3556 - val_loss: 1.5493 - val_accuracy: 0.4444\n"
     ]
    },
    {
     "name": "stdout",
     "output_type": "stream",
     "text": [
      "Epoch 85/300\n",
      "9/9 - 0s - loss: 1.5694 - accuracy: 0.2778 - val_loss: 1.5380 - val_accuracy: 0.4444\n",
      "Epoch 86/300\n",
      "9/9 - 0s - loss: 1.5498 - accuracy: 0.3778 - val_loss: 1.5275 - val_accuracy: 0.3333\n",
      "Epoch 87/300\n",
      "9/9 - 0s - loss: 1.5468 - accuracy: 0.4000 - val_loss: 1.5186 - val_accuracy: 0.4444\n",
      "Epoch 88/300\n",
      "9/9 - 0s - loss: 1.5355 - accuracy: 0.3556 - val_loss: 1.5088 - val_accuracy: 0.4444\n",
      "Epoch 89/300\n",
      "9/9 - 0s - loss: 1.5270 - accuracy: 0.3889 - val_loss: 1.4980 - val_accuracy: 0.3333\n",
      "Epoch 90/300\n",
      "9/9 - 0s - loss: 1.5212 - accuracy: 0.3889 - val_loss: 1.4887 - val_accuracy: 0.4444\n",
      "Epoch 91/300\n",
      "9/9 - 0s - loss: 1.5093 - accuracy: 0.3667 - val_loss: 1.4787 - val_accuracy: 0.4444\n",
      "Epoch 92/300\n",
      "9/9 - 0s - loss: 1.4929 - accuracy: 0.3222 - val_loss: 1.4692 - val_accuracy: 0.4444\n",
      "Epoch 93/300\n",
      "9/9 - 0s - loss: 1.5009 - accuracy: 0.3222 - val_loss: 1.4591 - val_accuracy: 0.5556\n",
      "Epoch 94/300\n",
      "9/9 - 0s - loss: 1.4772 - accuracy: 0.3778 - val_loss: 1.4515 - val_accuracy: 0.6667\n",
      "Epoch 95/300\n",
      "9/9 - 0s - loss: 1.4703 - accuracy: 0.4444 - val_loss: 1.4413 - val_accuracy: 0.5556\n",
      "Epoch 96/300\n",
      "9/9 - 0s - loss: 1.4642 - accuracy: 0.5667 - val_loss: 1.4327 - val_accuracy: 0.5556\n",
      "Epoch 97/300\n",
      "9/9 - 0s - loss: 1.4568 - accuracy: 0.4111 - val_loss: 1.4238 - val_accuracy: 0.6667\n",
      "Epoch 98/300\n",
      "9/9 - 0s - loss: 1.4561 - accuracy: 0.3889 - val_loss: 1.4178 - val_accuracy: 0.5556\n",
      "Epoch 99/300\n",
      "9/9 - 0s - loss: 1.4372 - accuracy: 0.4667 - val_loss: 1.4081 - val_accuracy: 0.6667\n",
      "Epoch 100/300\n",
      "9/9 - 0s - loss: 1.4277 - accuracy: 0.5111 - val_loss: 1.3972 - val_accuracy: 0.6667\n",
      "Epoch 101/300\n",
      "9/9 - 0s - loss: 1.4196 - accuracy: 0.4889 - val_loss: 1.3899 - val_accuracy: 0.5556\n",
      "Epoch 102/300\n",
      "9/9 - 0s - loss: 1.4083 - accuracy: 0.4333 - val_loss: 1.3810 - val_accuracy: 0.8889\n",
      "Epoch 103/300\n",
      "9/9 - 0s - loss: 1.3985 - accuracy: 0.5444 - val_loss: 1.3742 - val_accuracy: 0.8889\n",
      "Epoch 104/300\n",
      "9/9 - 0s - loss: 1.3911 - accuracy: 0.4889 - val_loss: 1.3639 - val_accuracy: 0.6667\n",
      "Epoch 105/300\n",
      "9/9 - 0s - loss: 1.3880 - accuracy: 0.4222 - val_loss: 1.3560 - val_accuracy: 0.7778\n",
      "Epoch 106/300\n",
      "9/9 - 0s - loss: 1.3979 - accuracy: 0.5556 - val_loss: 1.3486 - val_accuracy: 0.6667\n",
      "Epoch 107/300\n",
      "9/9 - 0s - loss: 1.3796 - accuracy: 0.5889 - val_loss: 1.3413 - val_accuracy: 0.5556\n",
      "Epoch 108/300\n",
      "9/9 - 0s - loss: 1.3570 - accuracy: 0.5889 - val_loss: 1.3326 - val_accuracy: 0.6667\n",
      "Epoch 109/300\n",
      "9/9 - 0s - loss: 1.3603 - accuracy: 0.5333 - val_loss: 1.3254 - val_accuracy: 0.7778\n",
      "Epoch 110/300\n",
      "9/9 - 0s - loss: 1.3468 - accuracy: 0.6333 - val_loss: 1.3182 - val_accuracy: 0.6667\n",
      "Epoch 111/300\n",
      "9/9 - 0s - loss: 1.3453 - accuracy: 0.6333 - val_loss: 1.3103 - val_accuracy: 0.5556\n",
      "Epoch 112/300\n",
      "9/9 - 0s - loss: 1.3248 - accuracy: 0.4444 - val_loss: 1.3033 - val_accuracy: 0.7778\n",
      "Epoch 113/300\n",
      "9/9 - 0s - loss: 1.3269 - accuracy: 0.6000 - val_loss: 1.2973 - val_accuracy: 0.6667\n",
      "Epoch 114/300\n",
      "9/9 - 0s - loss: 1.3226 - accuracy: 0.6111 - val_loss: 1.2902 - val_accuracy: 0.6667\n",
      "Epoch 115/300\n",
      "9/9 - 0s - loss: 1.3120 - accuracy: 0.6778 - val_loss: 1.2811 - val_accuracy: 0.6667\n",
      "Epoch 116/300\n",
      "9/9 - 0s - loss: 1.3169 - accuracy: 0.6444 - val_loss: 1.2724 - val_accuracy: 0.6667\n",
      "Epoch 117/300\n",
      "9/9 - 0s - loss: 1.3034 - accuracy: 0.6444 - val_loss: 1.2674 - val_accuracy: 0.6667\n",
      "Epoch 118/300\n",
      "9/9 - 0s - loss: 1.2853 - accuracy: 0.7000 - val_loss: 1.2591 - val_accuracy: 0.7778\n",
      "Epoch 119/300\n",
      "9/9 - 0s - loss: 1.2848 - accuracy: 0.6333 - val_loss: 1.2546 - val_accuracy: 0.7778\n",
      "Epoch 120/300\n",
      "9/9 - 0s - loss: 1.2775 - accuracy: 0.6889 - val_loss: 1.2447 - val_accuracy: 0.7778\n",
      "Epoch 121/300\n",
      "9/9 - 0s - loss: 1.2734 - accuracy: 0.6778 - val_loss: 1.2377 - val_accuracy: 0.8889\n",
      "Epoch 122/300\n",
      "9/9 - 0s - loss: 1.2652 - accuracy: 0.6556 - val_loss: 1.2308 - val_accuracy: 0.8889\n",
      "Epoch 123/300\n",
      "9/9 - 0s - loss: 1.2533 - accuracy: 0.7333 - val_loss: 1.2249 - val_accuracy: 0.8889\n",
      "Epoch 124/300\n",
      "9/9 - 0s - loss: 1.2512 - accuracy: 0.6889 - val_loss: 1.2186 - val_accuracy: 0.8889\n",
      "Epoch 125/300\n",
      "9/9 - 0s - loss: 1.2419 - accuracy: 0.7444 - val_loss: 1.2128 - val_accuracy: 0.7778\n",
      "Epoch 126/300\n",
      "9/9 - 0s - loss: 1.2367 - accuracy: 0.7556 - val_loss: 1.2056 - val_accuracy: 0.7778\n",
      "Epoch 127/300\n",
      "9/9 - 0s - loss: 1.2322 - accuracy: 0.6778 - val_loss: 1.1983 - val_accuracy: 0.7778\n",
      "Epoch 128/300\n",
      "9/9 - 0s - loss: 1.2156 - accuracy: 0.7667 - val_loss: 1.1917 - val_accuracy: 0.7778\n",
      "Epoch 129/300\n",
      "9/9 - 0s - loss: 1.2148 - accuracy: 0.6778 - val_loss: 1.1860 - val_accuracy: 0.8889\n",
      "Epoch 130/300\n",
      "9/9 - 0s - loss: 1.2119 - accuracy: 0.7111 - val_loss: 1.1779 - val_accuracy: 0.7778\n",
      "Epoch 131/300\n",
      "9/9 - 0s - loss: 1.2048 - accuracy: 0.7556 - val_loss: 1.1726 - val_accuracy: 0.7778\n",
      "Epoch 132/300\n",
      "9/9 - 0s - loss: 1.2108 - accuracy: 0.5556 - val_loss: 1.1762 - val_accuracy: 0.6667\n",
      "Epoch 133/300\n",
      "9/9 - 0s - loss: 1.1915 - accuracy: 0.6333 - val_loss: 1.1592 - val_accuracy: 0.7778\n",
      "Epoch 134/300\n",
      "9/9 - 0s - loss: 1.1818 - accuracy: 0.7222 - val_loss: 1.1528 - val_accuracy: 0.7778\n",
      "Epoch 135/300\n",
      "9/9 - 0s - loss: 1.1716 - accuracy: 0.7444 - val_loss: 1.1504 - val_accuracy: 0.7778\n",
      "Epoch 136/300\n",
      "9/9 - 0s - loss: 1.1716 - accuracy: 0.7667 - val_loss: 1.1414 - val_accuracy: 0.8889\n",
      "Epoch 137/300\n",
      "9/9 - 0s - loss: 1.1550 - accuracy: 0.7556 - val_loss: 1.1392 - val_accuracy: 0.8889\n",
      "Epoch 138/300\n",
      "9/9 - 0s - loss: 1.1575 - accuracy: 0.7444 - val_loss: 1.1301 - val_accuracy: 0.8889\n",
      "Epoch 139/300\n",
      "9/9 - 0s - loss: 1.1597 - accuracy: 0.6333 - val_loss: 1.1232 - val_accuracy: 0.7778\n",
      "Epoch 140/300\n",
      "9/9 - 0s - loss: 1.1588 - accuracy: 0.7222 - val_loss: 1.1185 - val_accuracy: 0.7778\n",
      "Epoch 141/300\n",
      "9/9 - 0s - loss: 1.1423 - accuracy: 0.7667 - val_loss: 1.1102 - val_accuracy: 0.8889\n",
      "Epoch 142/300\n",
      "9/9 - 0s - loss: 1.1344 - accuracy: 0.7556 - val_loss: 1.1086 - val_accuracy: 0.8889\n",
      "Epoch 143/300\n",
      "9/9 - 0s - loss: 1.1197 - accuracy: 0.8000 - val_loss: 1.0985 - val_accuracy: 0.8889\n",
      "Epoch 144/300\n",
      "9/9 - 0s - loss: 1.1157 - accuracy: 0.6889 - val_loss: 1.0943 - val_accuracy: 0.7778\n",
      "Epoch 145/300\n",
      "9/9 - 0s - loss: 1.1121 - accuracy: 0.7222 - val_loss: 1.0908 - val_accuracy: 0.7778\n",
      "Epoch 146/300\n",
      "9/9 - 0s - loss: 1.1088 - accuracy: 0.7556 - val_loss: 1.0815 - val_accuracy: 0.7778\n",
      "Epoch 147/300\n",
      "9/9 - 0s - loss: 1.1092 - accuracy: 0.7667 - val_loss: 1.0763 - val_accuracy: 0.8889\n",
      "Epoch 148/300\n",
      "9/9 - 0s - loss: 1.1117 - accuracy: 0.7333 - val_loss: 1.0695 - val_accuracy: 0.8889\n",
      "Epoch 149/300\n",
      "9/9 - 0s - loss: 1.0934 - accuracy: 0.8000 - val_loss: 1.0672 - val_accuracy: 0.7778\n",
      "Epoch 150/300\n",
      "9/9 - 0s - loss: 1.0831 - accuracy: 0.8000 - val_loss: 1.0584 - val_accuracy: 0.8889\n",
      "Epoch 151/300\n",
      "9/9 - 0s - loss: 1.0877 - accuracy: 0.7778 - val_loss: 1.0544 - val_accuracy: 0.8889\n",
      "Epoch 152/300\n",
      "9/9 - 0s - loss: 1.0791 - accuracy: 0.8111 - val_loss: 1.0477 - val_accuracy: 0.8889\n",
      "Epoch 153/300\n",
      "9/9 - 0s - loss: 1.0833 - accuracy: 0.7333 - val_loss: 1.0433 - val_accuracy: 0.8889\n",
      "Epoch 154/300\n",
      "9/9 - 0s - loss: 1.0632 - accuracy: 0.7111 - val_loss: 1.0378 - val_accuracy: 0.8889\n",
      "Epoch 155/300\n",
      "9/9 - 0s - loss: 1.0566 - accuracy: 0.8444 - val_loss: 1.0351 - val_accuracy: 0.8889\n",
      "Epoch 156/300\n",
      "9/9 - 0s - loss: 1.0489 - accuracy: 0.8667 - val_loss: 1.0272 - val_accuracy: 0.8889\n",
      "Epoch 157/300\n",
      "9/9 - 0s - loss: 1.0545 - accuracy: 0.7889 - val_loss: 1.0222 - val_accuracy: 0.8889\n",
      "Epoch 158/300\n",
      "9/9 - 0s - loss: 1.0402 - accuracy: 0.8444 - val_loss: 1.0174 - val_accuracy: 1.0000\n",
      "Epoch 159/300\n",
      "9/9 - 0s - loss: 1.0390 - accuracy: 0.7222 - val_loss: 1.0113 - val_accuracy: 0.8889\n",
      "Epoch 160/300\n",
      "9/9 - 0s - loss: 1.0460 - accuracy: 0.7889 - val_loss: 1.0062 - val_accuracy: 1.0000\n",
      "Epoch 161/300\n",
      "9/9 - 0s - loss: 1.0300 - accuracy: 0.8333 - val_loss: 1.0042 - val_accuracy: 0.8889\n",
      "Epoch 162/300\n",
      "9/9 - 0s - loss: 1.0311 - accuracy: 0.8222 - val_loss: 0.9986 - val_accuracy: 0.8889\n",
      "Epoch 163/300\n",
      "9/9 - 0s - loss: 1.0382 - accuracy: 0.7778 - val_loss: 0.9921 - val_accuracy: 0.8889\n",
      "Epoch 164/300\n",
      "9/9 - 0s - loss: 1.0128 - accuracy: 0.8222 - val_loss: 0.9896 - val_accuracy: 0.8889\n",
      "Epoch 165/300\n",
      "9/9 - 0s - loss: 1.0127 - accuracy: 0.8556 - val_loss: 0.9795 - val_accuracy: 1.0000\n",
      "Epoch 166/300\n",
      "9/9 - 0s - loss: 1.0054 - accuracy: 0.7556 - val_loss: 0.9750 - val_accuracy: 0.8889\n",
      "Epoch 167/300\n",
      "9/9 - 0s - loss: 1.0041 - accuracy: 0.8222 - val_loss: 0.9695 - val_accuracy: 0.8889\n"
     ]
    },
    {
     "name": "stdout",
     "output_type": "stream",
     "text": [
      "Epoch 168/300\n",
      "9/9 - 0s - loss: 0.9994 - accuracy: 0.7889 - val_loss: 0.9699 - val_accuracy: 0.8889\n",
      "Epoch 169/300\n",
      "9/9 - 0s - loss: 0.9997 - accuracy: 0.8444 - val_loss: 0.9593 - val_accuracy: 0.8889\n",
      "Epoch 170/300\n",
      "9/9 - 0s - loss: 0.9770 - accuracy: 0.8556 - val_loss: 0.9575 - val_accuracy: 0.8889\n",
      "Epoch 171/300\n",
      "9/9 - 0s - loss: 0.9850 - accuracy: 0.7778 - val_loss: 0.9517 - val_accuracy: 1.0000\n",
      "Epoch 172/300\n",
      "9/9 - 0s - loss: 0.9780 - accuracy: 0.8111 - val_loss: 0.9510 - val_accuracy: 0.8889\n",
      "Epoch 173/300\n",
      "9/9 - 0s - loss: 0.9724 - accuracy: 0.7889 - val_loss: 0.9545 - val_accuracy: 0.7778\n",
      "Epoch 174/300\n",
      "9/9 - 0s - loss: 0.9700 - accuracy: 0.8000 - val_loss: 0.9388 - val_accuracy: 0.7778\n",
      "Epoch 175/300\n",
      "9/9 - 0s - loss: 0.9549 - accuracy: 0.8333 - val_loss: 0.9333 - val_accuracy: 0.8889\n",
      "Epoch 176/300\n",
      "9/9 - 0s - loss: 0.9525 - accuracy: 0.8333 - val_loss: 0.9258 - val_accuracy: 0.8889\n",
      "Epoch 177/300\n",
      "9/9 - 0s - loss: 0.9539 - accuracy: 0.8667 - val_loss: 0.9215 - val_accuracy: 0.8889\n",
      "Epoch 178/300\n",
      "9/9 - 0s - loss: 0.9499 - accuracy: 0.8222 - val_loss: 0.9205 - val_accuracy: 0.8889\n",
      "Epoch 179/300\n",
      "9/9 - 0s - loss: 0.9495 - accuracy: 0.8333 - val_loss: 0.9112 - val_accuracy: 0.8889\n",
      "Epoch 180/300\n",
      "9/9 - 0s - loss: 0.9337 - accuracy: 0.8333 - val_loss: 0.9079 - val_accuracy: 1.0000\n",
      "Epoch 181/300\n",
      "9/9 - 0s - loss: 0.9282 - accuracy: 0.8667 - val_loss: 0.9026 - val_accuracy: 0.8889\n",
      "Epoch 182/300\n",
      "9/9 - 0s - loss: 0.9616 - accuracy: 0.7333 - val_loss: 0.8993 - val_accuracy: 0.8889\n",
      "Epoch 183/300\n",
      "9/9 - 0s - loss: 0.9320 - accuracy: 0.8111 - val_loss: 0.8936 - val_accuracy: 0.8889\n",
      "Epoch 184/300\n",
      "9/9 - 0s - loss: 0.9032 - accuracy: 0.8556 - val_loss: 0.9055 - val_accuracy: 0.7778\n",
      "Epoch 185/300\n",
      "9/9 - 0s - loss: 0.9179 - accuracy: 0.8444 - val_loss: 0.8857 - val_accuracy: 0.8889\n",
      "Epoch 186/300\n",
      "9/9 - 0s - loss: 0.9050 - accuracy: 0.8444 - val_loss: 0.8837 - val_accuracy: 1.0000\n",
      "Epoch 187/300\n",
      "9/9 - 0s - loss: 0.9117 - accuracy: 0.8556 - val_loss: 0.8804 - val_accuracy: 0.8889\n",
      "Epoch 188/300\n",
      "9/9 - 0s - loss: 0.9082 - accuracy: 0.8556 - val_loss: 0.8753 - val_accuracy: 0.8889\n",
      "Epoch 189/300\n",
      "9/9 - 0s - loss: 0.8912 - accuracy: 0.8000 - val_loss: 0.8758 - val_accuracy: 0.7778\n",
      "Epoch 190/300\n",
      "9/9 - 0s - loss: 0.8999 - accuracy: 0.8889 - val_loss: 0.8648 - val_accuracy: 0.8889\n",
      "Epoch 191/300\n",
      "9/9 - 0s - loss: 0.9001 - accuracy: 0.9333 - val_loss: 0.8716 - val_accuracy: 0.8889\n",
      "Epoch 192/300\n",
      "9/9 - 0s - loss: 0.8870 - accuracy: 0.8778 - val_loss: 0.8786 - val_accuracy: 0.7778\n",
      "Epoch 193/300\n",
      "9/9 - 0s - loss: 0.8900 - accuracy: 0.8556 - val_loss: 0.8663 - val_accuracy: 0.8889\n",
      "Epoch 194/300\n",
      "9/9 - 0s - loss: 0.8829 - accuracy: 0.8222 - val_loss: 0.8480 - val_accuracy: 1.0000\n",
      "Epoch 195/300\n",
      "9/9 - 0s - loss: 0.8818 - accuracy: 0.8556 - val_loss: 0.8461 - val_accuracy: 1.0000\n",
      "Epoch 196/300\n",
      "9/9 - 0s - loss: 0.8757 - accuracy: 0.8444 - val_loss: 0.8367 - val_accuracy: 1.0000\n",
      "Epoch 197/300\n",
      "9/9 - 0s - loss: 0.8713 - accuracy: 0.8667 - val_loss: 0.8328 - val_accuracy: 1.0000\n",
      "Epoch 198/300\n",
      "9/9 - 0s - loss: 0.8551 - accuracy: 0.8444 - val_loss: 0.8349 - val_accuracy: 0.8889\n",
      "Epoch 199/300\n",
      "9/9 - 0s - loss: 0.8737 - accuracy: 0.7667 - val_loss: 0.8300 - val_accuracy: 1.0000\n",
      "Epoch 200/300\n",
      "9/9 - 0s - loss: 0.8535 - accuracy: 0.8889 - val_loss: 0.8223 - val_accuracy: 0.8889\n",
      "Epoch 201/300\n",
      "9/9 - 0s - loss: 0.8548 - accuracy: 0.8667 - val_loss: 0.8199 - val_accuracy: 0.8889\n",
      "Epoch 202/300\n",
      "9/9 - 0s - loss: 0.8391 - accuracy: 0.8667 - val_loss: 0.8132 - val_accuracy: 1.0000\n",
      "Epoch 203/300\n",
      "9/9 - 0s - loss: 0.8375 - accuracy: 0.8889 - val_loss: 0.8153 - val_accuracy: 0.8889\n",
      "Epoch 204/300\n",
      "9/9 - 0s - loss: 0.8543 - accuracy: 0.8111 - val_loss: 0.8037 - val_accuracy: 0.8889\n",
      "Epoch 205/300\n",
      "9/9 - 0s - loss: 0.8322 - accuracy: 0.8444 - val_loss: 0.8089 - val_accuracy: 0.8889\n",
      "Epoch 206/300\n",
      "9/9 - 0s - loss: 0.8296 - accuracy: 0.8667 - val_loss: 0.7969 - val_accuracy: 0.8889\n",
      "Epoch 207/300\n",
      "9/9 - 0s - loss: 0.8319 - accuracy: 0.8222 - val_loss: 0.8022 - val_accuracy: 0.8889\n",
      "Epoch 208/300\n",
      "9/9 - 0s - loss: 0.8431 - accuracy: 0.8667 - val_loss: 0.7924 - val_accuracy: 1.0000\n",
      "Epoch 209/300\n",
      "9/9 - 0s - loss: 0.8249 - accuracy: 0.8778 - val_loss: 0.7876 - val_accuracy: 1.0000\n",
      "Epoch 210/300\n",
      "9/9 - 0s - loss: 0.8136 - accuracy: 0.8556 - val_loss: 0.7907 - val_accuracy: 0.8889\n",
      "Epoch 211/300\n",
      "9/9 - 0s - loss: 0.8140 - accuracy: 0.8333 - val_loss: 0.7820 - val_accuracy: 0.8889\n",
      "Epoch 212/300\n",
      "9/9 - 0s - loss: 0.8200 - accuracy: 0.8222 - val_loss: 0.7805 - val_accuracy: 1.0000\n",
      "Epoch 213/300\n",
      "9/9 - 0s - loss: 0.8052 - accuracy: 0.9444 - val_loss: 0.7929 - val_accuracy: 0.8889\n",
      "Epoch 214/300\n",
      "9/9 - 0s - loss: 0.8091 - accuracy: 0.8778 - val_loss: 0.7723 - val_accuracy: 1.0000\n",
      "Epoch 215/300\n",
      "9/9 - 0s - loss: 0.7929 - accuracy: 0.9444 - val_loss: 0.7675 - val_accuracy: 0.8889\n",
      "Epoch 216/300\n",
      "9/9 - 0s - loss: 0.8083 - accuracy: 0.8222 - val_loss: 0.7556 - val_accuracy: 0.8889\n",
      "Epoch 217/300\n",
      "9/9 - 0s - loss: 0.7815 - accuracy: 0.8889 - val_loss: 0.7548 - val_accuracy: 0.8889\n",
      "Epoch 218/300\n",
      "9/9 - 0s - loss: 0.7678 - accuracy: 0.9222 - val_loss: 0.7491 - val_accuracy: 0.8889\n",
      "Epoch 219/300\n",
      "9/9 - 0s - loss: 0.7826 - accuracy: 0.9000 - val_loss: 0.7572 - val_accuracy: 0.8889\n",
      "Epoch 220/300\n",
      "9/9 - 0s - loss: 0.7827 - accuracy: 0.8778 - val_loss: 0.7397 - val_accuracy: 1.0000\n",
      "Epoch 221/300\n",
      "9/9 - 0s - loss: 0.7782 - accuracy: 0.8889 - val_loss: 0.7396 - val_accuracy: 0.8889\n",
      "Epoch 222/300\n",
      "9/9 - 0s - loss: 0.7827 - accuracy: 0.8667 - val_loss: 0.7370 - val_accuracy: 1.0000\n",
      "Epoch 223/300\n",
      "9/9 - 0s - loss: 0.7693 - accuracy: 0.9000 - val_loss: 0.7385 - val_accuracy: 0.7778\n",
      "Epoch 224/300\n",
      "9/9 - 0s - loss: 0.7656 - accuracy: 0.8778 - val_loss: 0.7280 - val_accuracy: 1.0000\n",
      "Epoch 225/300\n",
      "9/9 - 0s - loss: 0.7521 - accuracy: 0.9111 - val_loss: 0.7272 - val_accuracy: 0.8889\n",
      "Epoch 226/300\n",
      "9/9 - 0s - loss: 0.7692 - accuracy: 0.8778 - val_loss: 0.7677 - val_accuracy: 0.8889\n",
      "Epoch 227/300\n",
      "9/9 - 0s - loss: 0.7687 - accuracy: 0.8778 - val_loss: 0.7140 - val_accuracy: 0.8889\n",
      "Epoch 228/300\n",
      "9/9 - 0s - loss: 0.7659 - accuracy: 0.8778 - val_loss: 0.7101 - val_accuracy: 0.8889\n",
      "Epoch 229/300\n",
      "9/9 - 0s - loss: 0.7553 - accuracy: 0.8889 - val_loss: 0.7084 - val_accuracy: 1.0000\n",
      "Epoch 230/300\n",
      "9/9 - 0s - loss: 0.7360 - accuracy: 0.9111 - val_loss: 0.7036 - val_accuracy: 1.0000\n",
      "Epoch 231/300\n",
      "9/9 - 0s - loss: 0.7410 - accuracy: 0.8444 - val_loss: 0.7156 - val_accuracy: 0.8889\n",
      "Epoch 232/300\n",
      "9/9 - 0s - loss: 0.7277 - accuracy: 0.9111 - val_loss: 0.6957 - val_accuracy: 1.0000\n",
      "Epoch 233/300\n",
      "9/9 - 0s - loss: 0.7193 - accuracy: 0.9000 - val_loss: 0.7107 - val_accuracy: 0.7778\n",
      "Epoch 234/300\n",
      "9/9 - 0s - loss: 0.7272 - accuracy: 0.7778 - val_loss: 0.6907 - val_accuracy: 0.8889\n",
      "Epoch 235/300\n",
      "9/9 - 0s - loss: 0.7205 - accuracy: 0.8889 - val_loss: 0.6885 - val_accuracy: 0.8889\n",
      "Epoch 236/300\n",
      "9/9 - 0s - loss: 0.7167 - accuracy: 0.8556 - val_loss: 0.6911 - val_accuracy: 0.7778\n",
      "Epoch 237/300\n",
      "9/9 - 0s - loss: 0.7082 - accuracy: 0.9000 - val_loss: 0.6783 - val_accuracy: 1.0000\n",
      "Epoch 238/300\n",
      "9/9 - 0s - loss: 0.7159 - accuracy: 0.8444 - val_loss: 0.7199 - val_accuracy: 0.8889\n",
      "Epoch 239/300\n",
      "9/9 - 0s - loss: 0.7179 - accuracy: 0.8889 - val_loss: 0.6745 - val_accuracy: 1.0000\n",
      "Epoch 240/300\n",
      "9/9 - 0s - loss: 0.7062 - accuracy: 0.9111 - val_loss: 0.6805 - val_accuracy: 1.0000\n",
      "Epoch 241/300\n",
      "9/9 - 0s - loss: 0.6864 - accuracy: 0.9444 - val_loss: 0.6829 - val_accuracy: 0.8889\n",
      "Epoch 242/300\n",
      "9/9 - 0s - loss: 0.6877 - accuracy: 0.8556 - val_loss: 0.6723 - val_accuracy: 0.8889\n",
      "Epoch 243/300\n",
      "9/9 - 0s - loss: 0.7043 - accuracy: 0.8667 - val_loss: 0.6615 - val_accuracy: 1.0000\n",
      "Epoch 244/300\n",
      "9/9 - 0s - loss: 0.6866 - accuracy: 0.8778 - val_loss: 0.6781 - val_accuracy: 0.8889\n",
      "Epoch 245/300\n",
      "9/9 - 0s - loss: 0.6837 - accuracy: 0.8889 - val_loss: 0.6548 - val_accuracy: 1.0000\n",
      "Epoch 246/300\n",
      "9/9 - 0s - loss: 0.6891 - accuracy: 0.8556 - val_loss: 0.6530 - val_accuracy: 1.0000\n",
      "Epoch 247/300\n",
      "9/9 - 0s - loss: 0.6712 - accuracy: 0.9333 - val_loss: 0.6450 - val_accuracy: 1.0000\n",
      "Epoch 248/300\n",
      "9/9 - 0s - loss: 0.6711 - accuracy: 0.9000 - val_loss: 0.6423 - val_accuracy: 1.0000\n",
      "Epoch 249/300\n",
      "9/9 - 0s - loss: 0.6613 - accuracy: 0.8778 - val_loss: 0.6429 - val_accuracy: 1.0000\n",
      "Epoch 250/300\n",
      "9/9 - 0s - loss: 0.6724 - accuracy: 0.9444 - val_loss: 0.6454 - val_accuracy: 0.8889\n"
     ]
    },
    {
     "name": "stdout",
     "output_type": "stream",
     "text": [
      "Epoch 251/300\n",
      "9/9 - 0s - loss: 0.6659 - accuracy: 0.8778 - val_loss: 0.6344 - val_accuracy: 1.0000\n",
      "Epoch 252/300\n",
      "9/9 - 0s - loss: 0.6806 - accuracy: 0.8667 - val_loss: 0.6364 - val_accuracy: 1.0000\n",
      "Epoch 253/300\n",
      "9/9 - 0s - loss: 0.6927 - accuracy: 0.8333 - val_loss: 0.6277 - val_accuracy: 0.8889\n",
      "Epoch 254/300\n",
      "9/9 - 0s - loss: 0.6561 - accuracy: 0.9444 - val_loss: 0.6222 - val_accuracy: 0.8889\n",
      "Epoch 255/300\n",
      "9/9 - 0s - loss: 0.6550 - accuracy: 0.9000 - val_loss: 0.6196 - val_accuracy: 0.8889\n",
      "Epoch 256/300\n",
      "9/9 - 0s - loss: 0.6630 - accuracy: 0.9000 - val_loss: 0.6293 - val_accuracy: 0.8889\n",
      "Epoch 257/300\n",
      "9/9 - 0s - loss: 0.6479 - accuracy: 0.8778 - val_loss: 0.6287 - val_accuracy: 1.0000\n",
      "Epoch 258/300\n",
      "9/9 - 0s - loss: 0.6379 - accuracy: 0.9556 - val_loss: 0.6186 - val_accuracy: 0.8889\n",
      "Epoch 259/300\n",
      "9/9 - 0s - loss: 0.6487 - accuracy: 0.8444 - val_loss: 0.6188 - val_accuracy: 0.8889\n",
      "Epoch 260/300\n",
      "9/9 - 0s - loss: 0.6383 - accuracy: 0.9444 - val_loss: 0.6062 - val_accuracy: 0.8889\n",
      "Epoch 261/300\n",
      "9/9 - 0s - loss: 0.6282 - accuracy: 0.9444 - val_loss: 0.6037 - val_accuracy: 0.8889\n",
      "Epoch 262/300\n",
      "9/9 - 0s - loss: 0.6450 - accuracy: 0.9000 - val_loss: 0.5999 - val_accuracy: 0.8889\n",
      "Epoch 263/300\n",
      "9/9 - 0s - loss: 0.6308 - accuracy: 0.8889 - val_loss: 0.6024 - val_accuracy: 0.8889\n",
      "Epoch 264/300\n",
      "9/9 - 0s - loss: 0.6169 - accuracy: 0.9444 - val_loss: 0.6135 - val_accuracy: 0.8889\n",
      "Epoch 265/300\n",
      "9/9 - 0s - loss: 0.6230 - accuracy: 0.9111 - val_loss: 0.6036 - val_accuracy: 1.0000\n",
      "Epoch 266/300\n",
      "9/9 - 0s - loss: 0.6089 - accuracy: 0.9333 - val_loss: 0.6026 - val_accuracy: 0.8889\n",
      "Epoch 267/300\n",
      "9/9 - 0s - loss: 0.6294 - accuracy: 0.9222 - val_loss: 0.5840 - val_accuracy: 1.0000\n",
      "Epoch 268/300\n",
      "9/9 - 0s - loss: 0.6204 - accuracy: 0.9111 - val_loss: 0.5867 - val_accuracy: 0.8889\n",
      "Epoch 269/300\n",
      "9/9 - 0s - loss: 0.6163 - accuracy: 0.9222 - val_loss: 0.5800 - val_accuracy: 1.0000\n",
      "Epoch 270/300\n",
      "9/9 - 0s - loss: 0.6173 - accuracy: 0.9000 - val_loss: 0.5739 - val_accuracy: 1.0000\n",
      "Epoch 271/300\n",
      "9/9 - 0s - loss: 0.5883 - accuracy: 0.9778 - val_loss: 0.5845 - val_accuracy: 0.8889\n",
      "Epoch 272/300\n",
      "9/9 - 0s - loss: 0.6110 - accuracy: 0.8667 - val_loss: 0.5649 - val_accuracy: 1.0000\n",
      "Epoch 273/300\n",
      "9/9 - 0s - loss: 0.6066 - accuracy: 0.9222 - val_loss: 0.5863 - val_accuracy: 0.8889\n",
      "Epoch 274/300\n",
      "9/9 - 0s - loss: 0.6002 - accuracy: 0.9222 - val_loss: 0.5817 - val_accuracy: 0.8889\n",
      "Epoch 275/300\n",
      "9/9 - 0s - loss: 0.5869 - accuracy: 0.9222 - val_loss: 0.5662 - val_accuracy: 0.8889\n",
      "Epoch 276/300\n",
      "9/9 - 0s - loss: 0.6187 - accuracy: 0.8667 - val_loss: 0.5555 - val_accuracy: 0.8889\n",
      "Epoch 277/300\n",
      "9/9 - 0s - loss: 0.5781 - accuracy: 0.9111 - val_loss: 0.5584 - val_accuracy: 1.0000\n",
      "Epoch 278/300\n",
      "9/9 - 0s - loss: 0.5798 - accuracy: 0.9667 - val_loss: 0.5472 - val_accuracy: 1.0000\n",
      "Epoch 279/300\n",
      "9/9 - 0s - loss: 0.5849 - accuracy: 0.9111 - val_loss: 0.5448 - val_accuracy: 1.0000\n",
      "Epoch 280/300\n",
      "9/9 - 0s - loss: 0.5763 - accuracy: 0.9667 - val_loss: 0.5974 - val_accuracy: 0.8889\n",
      "Epoch 281/300\n",
      "9/9 - 0s - loss: 0.5691 - accuracy: 0.9111 - val_loss: 0.5760 - val_accuracy: 0.7778\n",
      "Epoch 282/300\n",
      "9/9 - 0s - loss: 0.5644 - accuracy: 0.9111 - val_loss: 0.5390 - val_accuracy: 1.0000\n",
      "Epoch 283/300\n",
      "9/9 - 0s - loss: 0.5571 - accuracy: 0.9444 - val_loss: 0.5418 - val_accuracy: 1.0000\n",
      "Epoch 284/300\n",
      "9/9 - 0s - loss: 0.5539 - accuracy: 0.9111 - val_loss: 0.5405 - val_accuracy: 1.0000\n",
      "Epoch 285/300\n",
      "9/9 - 0s - loss: 0.5553 - accuracy: 0.9778 - val_loss: 0.5426 - val_accuracy: 0.8889\n",
      "Epoch 286/300\n",
      "9/9 - 0s - loss: 0.5581 - accuracy: 0.9444 - val_loss: 0.5376 - val_accuracy: 0.8889\n",
      "Epoch 287/300\n",
      "9/9 - 0s - loss: 0.5631 - accuracy: 0.9000 - val_loss: 0.5338 - val_accuracy: 1.0000\n",
      "Epoch 288/300\n",
      "9/9 - 0s - loss: 0.5454 - accuracy: 0.9667 - val_loss: 0.5336 - val_accuracy: 1.0000\n",
      "Epoch 289/300\n",
      "9/9 - 0s - loss: 0.5398 - accuracy: 0.9667 - val_loss: 0.5276 - val_accuracy: 1.0000\n",
      "Epoch 290/300\n",
      "9/9 - 0s - loss: 0.5402 - accuracy: 0.9556 - val_loss: 0.5458 - val_accuracy: 0.8889\n",
      "Epoch 291/300\n",
      "9/9 - 0s - loss: 0.5536 - accuracy: 0.9333 - val_loss: 0.5215 - val_accuracy: 1.0000\n",
      "Epoch 292/300\n",
      "9/9 - 0s - loss: 0.5441 - accuracy: 0.9889 - val_loss: 0.5051 - val_accuracy: 1.0000\n",
      "Epoch 293/300\n",
      "9/9 - 0s - loss: 0.5240 - accuracy: 0.9778 - val_loss: 0.5064 - val_accuracy: 1.0000\n",
      "Epoch 294/300\n",
      "9/9 - 0s - loss: 0.5450 - accuracy: 0.9667 - val_loss: 0.5781 - val_accuracy: 0.7778\n",
      "Epoch 295/300\n",
      "9/9 - 0s - loss: 0.5457 - accuracy: 0.9333 - val_loss: 0.5002 - val_accuracy: 1.0000\n",
      "Epoch 296/300\n",
      "9/9 - 0s - loss: 0.5502 - accuracy: 0.9111 - val_loss: 0.5003 - val_accuracy: 1.0000\n",
      "Epoch 297/300\n",
      "9/9 - 0s - loss: 0.5191 - accuracy: 0.9556 - val_loss: 0.5007 - val_accuracy: 1.0000\n",
      "Epoch 298/300\n",
      "9/9 - 0s - loss: 0.5280 - accuracy: 0.9444 - val_loss: 0.4948 - val_accuracy: 1.0000\n",
      "Epoch 299/300\n",
      "9/9 - 0s - loss: 0.5090 - accuracy: 0.9667 - val_loss: 0.4931 - val_accuracy: 0.8889\n",
      "Epoch 300/300\n",
      "9/9 - 0s - loss: 0.5318 - accuracy: 0.8778 - val_loss: 0.4848 - val_accuracy: 1.0000\n"
     ]
    }
   ],
   "source": [
    "hist = model.fit(X_train, Y_train, epochs=300, batch_size=10, \n",
    "                verbose=2, validation_data=(X_val, Y_val))"
   ]
  },
  {
   "cell_type": "code",
   "execution_count": 14,
   "metadata": {
    "ExecuteTime": {
     "end_time": "2021-03-21T14:48:04.163585Z",
     "start_time": "2021-03-21T14:48:04.145633Z"
    }
   },
   "outputs": [
    {
     "data": {
      "text/plain": [
       "dict_keys(['loss', 'accuracy', 'val_loss', 'val_accuracy'])"
      ]
     },
     "execution_count": 14,
     "metadata": {},
     "output_type": "execute_result"
    }
   ],
   "source": [
    "hist.history.keys()"
   ]
  },
  {
   "cell_type": "markdown",
   "metadata": {},
   "source": [
    "# 5. 모델 학습과정 살펴보기(hist, 평가)"
   ]
  },
  {
   "cell_type": "code",
   "execution_count": 15,
   "metadata": {
    "ExecuteTime": {
     "end_time": "2021-03-21T14:49:10.639328Z",
     "start_time": "2021-03-21T14:49:09.916354Z"
    }
   },
   "outputs": [
    {
     "data": {
      "image/png": "[encoded data removed]",
      "text/plain": [
       "<Figure size 720x360 with 2 Axes>"
      ]
     },
     "metadata": {
      "needs_background": "light"
     },
     "output_type": "display_data"
    }
   ],
   "source": [
    "# 모델의 학습과정 표시하기\n",
    "import matplotlib.pyplot as plt\n",
    "fig, loss_ax = plt.subplots(figsize=(10,5))\n",
    "loss_ax.plot(hist.history['loss'],'y',label=\"train loss\")\n",
    "loss_ax.plot(hist.history['val_loss'],'r', label=\"val loss\")\n",
    "\n",
    "acc_ax = loss_ax.twinx() # loss_ax와 x축을 공유하는 acc_ax 생성\n",
    "acc_ax.plot(hist.history['accuracy'],'g', label=\"train acc\")\n",
    "acc_ax.plot(hist.history['val_accuracy'],'b', label=\"val acc\")\n",
    "\n",
    "loss_ax.set_xlabel(\"epoch\")\n",
    "loss_ax.set_ylabel(\"loss\")\n",
    "acc_ax.set_ylabel(\"accuracy\")\n",
    "loss_ax.legend(loc=\"upper left\")\n",
    "acc_ax.legend(loc=\"lower left\")\n",
    "plt.show()"
   ]
  },
  {
   "cell_type": "code",
   "execution_count": 16,
   "metadata": {
    "ExecuteTime": {
     "end_time": "2021-03-21T14:49:26.953457Z",
     "start_time": "2021-03-21T14:49:26.779943Z"
    }
   },
   "outputs": [
    {
     "name": "stdout",
     "output_type": "stream",
     "text": [
      "9/9 [==============================] - 0s 1ms/step - loss: 0.4848 - accuracy: 1.0000\n"
     ]
    },
    {
     "data": {
      "text/plain": [
       "[0.48480695486068726, 1.0]"
      ]
     },
     "execution_count": 16,
     "metadata": {},
     "output_type": "execute_result"
    }
   ],
   "source": [
    "# 모델 평가\n",
    "score = model.evaluate(X_val, Y_val, batch_size=1)\n",
    "score"
   ]
  },
  {
   "cell_type": "code",
   "execution_count": 17,
   "metadata": {
    "ExecuteTime": {
     "end_time": "2021-03-21T14:49:37.563564Z",
     "start_time": "2021-03-21T14:49:37.550599Z"
    }
   },
   "outputs": [
    {
     "name": "stdout",
     "output_type": "stream",
     "text": [
      "loss : 0.48480695486068726\n",
      "accuracy : 1.0\n"
     ]
    }
   ],
   "source": [
    "print('loss :', score[0])\n",
    "print('accuracy :', score[1])"
   ]
  },
  {
   "cell_type": "markdown",
   "metadata": {},
   "source": [
    "# 6. 모델을 이용해서 예측하기"
   ]
  },
  {
   "cell_type": "code",
   "execution_count": 18,
   "metadata": {
    "ExecuteTime": {
     "end_time": "2021-03-21T14:50:59.859432Z",
     "start_time": "2021-03-21T14:50:59.729774Z"
    }
   },
   "outputs": [
    {
     "name": "stderr",
     "output_type": "stream",
     "text": [
      "C:\\Users\\82105\\anaconda3\\lib\\site-packages\\tensorflow\\python\\keras\\engine\\sequential.py:450: UserWarning: `model.predict_classes()` is deprecated and will be removed after 2021-01-01. Please use instead:* `np.argmax(model.predict(x), axis=-1)`,   if your model does multi-class classification   (e.g. if it uses a `softmax` last-layer activation).* `(model.predict(x) > 0.5).astype(\"int32\")`,   if your model does binary classification   (e.g. if it uses a `sigmoid` last-layer activation).\n",
      "  warnings.warn('`model.predict_classes()` is deprecated and '\n"
     ]
    },
    {
     "data": {
      "text/plain": [
       "array([4], dtype=int64)"
      ]
     },
     "execution_count": 18,
     "metadata": {},
     "output_type": "execute_result"
    }
   ],
   "source": [
    "model.predict_classes(np.array([2]))"
   ]
  },
  {
   "cell_type": "code",
   "execution_count": 19,
   "metadata": {
    "ExecuteTime": {
     "end_time": "2021-03-21T14:51:05.281521Z",
     "start_time": "2021-03-21T14:51:05.225670Z"
    }
   },
   "outputs": [
    {
     "data": {
      "text/plain": [
       "4"
      ]
     },
     "execution_count": 19,
     "metadata": {},
     "output_type": "execute_result"
    }
   ],
   "source": [
    "model.predict(np.array([2])).argmax()"
   ]
  },
  {
   "cell_type": "code",
   "execution_count": null,
   "metadata": {},
   "outputs": [],
   "source": []
  },
  {
   "cell_type": "code",
   "execution_count": null,
   "metadata": {},
   "outputs": [],
   "source": []
  },
  {
   "cell_type": "code",
   "execution_count": null,
   "metadata": {},
   "outputs": [],
   "source": []
  },
  {
   "cell_type": "code",
   "execution_count": null,
   "metadata": {},
   "outputs": [],
   "source": []
  },
  {
   "cell_type": "code",
   "execution_count": null,
   "metadata": {},
   "outputs": [],
   "source": []
  },
  {
   "cell_type": "code",
   "execution_count": null,
   "metadata": {},
   "outputs": [],
   "source": []
  },
  {
   "cell_type": "code",
   "execution_count": null,
   "metadata": {},
   "outputs": [],
   "source": []
  },
  {
   "cell_type": "code",
   "execution_count": null,
   "metadata": {},
   "outputs": [],
   "source": []
  },
  {
   "cell_type": "code",
   "execution_count": null,
   "metadata": {},
   "outputs": [],
   "source": []
  },
  {
   "cell_type": "code",
   "execution_count": null,
   "metadata": {},
   "outputs": [],
   "source": []
  },
  {
   "cell_type": "code",
   "execution_count": null,
   "metadata": {},
   "outputs": [],
   "source": []
  },
  {
   "cell_type": "code",
   "execution_count": null,
   "metadata": {},
   "outputs": [],
   "source": []
  },
  {
   "cell_type": "code",
   "execution_count": null,
   "metadata": {},
   "outputs": [],
   "source": []
  },
  {
   "cell_type": "code",
   "execution_count": null,
   "metadata": {},
   "outputs": [],
   "source": []
  },
  {
   "cell_type": "code",
   "execution_count": null,
   "metadata": {},
   "outputs": [],
   "source": []
  },
  {
   "cell_type": "code",
   "execution_count": null,
   "metadata": {},
   "outputs": [],
   "source": []
  },
  {
   "cell_type": "code",
   "execution_count": null,
   "metadata": {},
   "outputs": [],
   "source": []
  },
  {
   "cell_type": "code",
   "execution_count": null,
   "metadata": {},
   "outputs": [],
   "source": []
  },
  {
   "cell_type": "code",
   "execution_count": null,
   "metadata": {},
   "outputs": [],
   "source": []
  },
  {
   "cell_type": "code",
   "execution_count": null,
   "metadata": {},
   "outputs": [],
   "source": []
  },
  {
   "cell_type": "code",
   "execution_count": null,
   "metadata": {},
   "outputs": [],
   "source": []
  },
  {
   "cell_type": "code",
   "execution_count": null,
   "metadata": {},
   "outputs": [],
   "source": []
  },
  {
   "cell_type": "code",
   "execution_count": null,
   "metadata": {},
   "outputs": [],
   "source": []
  },
  {
   "cell_type": "code",
   "execution_count": null,
   "metadata": {},
   "outputs": [],
   "source": []
  },
  {
   "cell_type": "code",
   "execution_count": null,
   "metadata": {},
   "outputs": [],
   "source": []
  },
  {
   "cell_type": "code",
   "execution_count": null,
   "metadata": {},
   "outputs": [],
   "source": []
  },
  {
   "cell_type": "code",
   "execution_count": null,
   "metadata": {},
   "outputs": [],
   "source": []
  },
  {
   "cell_type": "code",
   "execution_count": null,
   "metadata": {},
   "outputs": [],
   "source": []
  },
  {
   "cell_type": "code",
   "execution_count": null,
   "metadata": {},
   "outputs": [],
   "source": []
  },
  {
   "cell_type": "code",
   "execution_count": null,
   "metadata": {},
   "outputs": [],
   "source": []
  },
  {
   "cell_type": "code",
   "execution_count": null,
   "metadata": {},
   "outputs": [],
   "source": []
  },
  {
   "cell_type": "code",
   "execution_count": null,
   "metadata": {},
   "outputs": [],
   "source": []
  },
  {
   "cell_type": "code",
   "execution_count": null,
   "metadata": {},
   "outputs": [],
   "source": []
  },
  {
   "cell_type": "code",
   "execution_count": null,
   "metadata": {},
   "outputs": [],
   "source": []
  },
  {
   "cell_type": "code",
   "execution_count": null,
   "metadata": {},
   "outputs": [],
   "source": []
  },
  {
   "cell_type": "code",
   "execution_count": null,
   "metadata": {},
   "outputs": [],
   "source": []
  },
  {
   "cell_type": "code",
   "execution_count": null,
   "metadata": {},
   "outputs": [],
   "source": []
  },
  {
   "cell_type": "code",
   "execution_count": null,
   "metadata": {},
   "outputs": [],
   "source": []
  },
  {
   "cell_type": "code",
   "execution_count": null,
   "metadata": {},
   "outputs": [],
   "source": []
  },
  {
   "cell_type": "code",
   "execution_count": null,
   "metadata": {},
   "outputs": [],
   "source": []
  },
  {
   "cell_type": "code",
   "execution_count": null,
   "metadata": {},
   "outputs": [],
   "source": []
  },
  {
   "cell_type": "code",
   "execution_count": null,
   "metadata": {},
   "outputs": [],
   "source": []
  },
  {
   "cell_type": "code",
   "execution_count": null,
   "metadata": {},
   "outputs": [],
   "source": []
  },
  {
   "cell_type": "code",
   "execution_count": null,
   "metadata": {},
   "outputs": [],
   "source": []
  },
  {
   "cell_type": "code",
   "execution_count": null,
   "metadata": {},
   "outputs": [],
   "source": []
  },
  {
   "cell_type": "code",
   "execution_count": null,
   "metadata": {},
   "outputs": [],
   "source": []
  },
  {
   "cell_type": "code",
   "execution_count": null,
   "metadata": {},
   "outputs": [],
   "source": []
  },
  {
   "cell_type": "code",
   "execution_count": null,
   "metadata": {},
   "outputs": [],
   "source": []
  },
  {
   "cell_type": "code",
   "execution_count": null,
   "metadata": {},
   "outputs": [],
   "source": []
  },
  {
   "cell_type": "code",
   "execution_count": null,
   "metadata": {},
   "outputs": [],
   "source": []
  },
  {
   "cell_type": "code",
   "execution_count": null,
   "metadata": {},
   "outputs": [],
   "source": []
  },
  {
   "cell_type": "code",
   "execution_count": null,
   "metadata": {},
   "outputs": [],
   "source": []
  },
  {
   "cell_type": "code",
   "execution_count": null,
   "metadata": {},
   "outputs": [],
   "source": []
  },
  {
   "cell_type": "code",
   "execution_count": null,
   "metadata": {},
   "outputs": [],
   "source": []
  },
  {
   "cell_type": "code",
   "execution_count": null,
   "metadata": {},
   "outputs": [],
   "source": []
  },
  {
   "cell_type": "code",
   "execution_count": null,
   "metadata": {},
   "outputs": [],
   "source": []
  },
  {
   "cell_type": "code",
   "execution_count": null,
   "metadata": {},
   "outputs": [],
   "source": []
  },
  {
   "cell_type": "code",
   "execution_count": null,
   "metadata": {},
   "outputs": [],
   "source": []
  },
  {
   "cell_type": "code",
   "execution_count": null,
   "metadata": {},
   "outputs": [],
   "source": []
  },
  {
   "cell_type": "code",
   "execution_count": null,
   "metadata": {},
   "outputs": [],
   "source": []
  },
  {
   "cell_type": "code",
   "execution_count": null,
   "metadata": {},
   "outputs": [],
   "source": []
  },
  {
   "cell_type": "code",
   "execution_count": null,
   "metadata": {},
   "outputs": [],
   "source": []
  },
  {
   "cell_type": "code",
   "execution_count": null,
   "metadata": {},
   "outputs": [],
   "source": []
  },
  {
   "cell_type": "code",
   "execution_count": null,
   "metadata": {},
   "outputs": [],
   "source": []
  },
  {
   "cell_type": "code",
   "execution_count": null,
   "metadata": {},
   "outputs": [],
   "source": []
  },
  {
   "cell_type": "code",
   "execution_count": null,
   "metadata": {},
   "outputs": [],
   "source": []
  },
  {
   "cell_type": "code",
   "execution_count": null,
   "metadata": {},
   "outputs": [],
   "source": []
  },
  {
   "cell_type": "code",
   "execution_count": null,
   "metadata": {},
   "outputs": [],
   "source": []
  },
  {
   "cell_type": "code",
   "execution_count": null,
   "metadata": {},
   "outputs": [],
   "source": []
  },
  {
   "cell_type": "code",
   "execution_count": null,
   "metadata": {},
   "outputs": [],
   "source": []
  },
  {
   "cell_type": "code",
   "execution_count": null,
   "metadata": {},
   "outputs": [],
   "source": []
  },
  {
   "cell_type": "code",
   "execution_count": null,
   "metadata": {},
   "outputs": [],
   "source": []
  },
  {
   "cell_type": "code",
   "execution_count": null,
   "metadata": {},
   "outputs": [],
   "source": []
  },
  {
   "cell_type": "code",
   "execution_count": null,
   "metadata": {},
   "outputs": [],
   "source": []
  },
  {
   "cell_type": "code",
   "execution_count": null,
   "metadata": {},
   "outputs": [],
   "source": []
  },
  {
   "cell_type": "code",
   "execution_count": null,
   "metadata": {},
   "outputs": [],
   "source": []
  },
  {
   "cell_type": "code",
   "execution_count": null,
   "metadata": {},
   "outputs": [],
   "source": []
  },
  {
   "cell_type": "code",
   "execution_count": null,
   "metadata": {},
   "outputs": [],
   "source": []
  },
  {
   "cell_type": "code",
   "execution_count": null,
   "metadata": {},
   "outputs": [],
   "source": []
  },
  {
   "cell_type": "code",
   "execution_count": null,
   "metadata": {},
   "outputs": [],
   "source": []
  },
  {
   "cell_type": "code",
   "execution_count": null,
   "metadata": {},
   "outputs": [],
   "source": []
  },
  {
   "cell_type": "code",
   "execution_count": null,
   "metadata": {},
   "outputs": [],
   "source": []
  },
  {
   "cell_type": "code",
   "execution_count": null,
   "metadata": {},
   "outputs": [],
   "source": []
  },
  {
   "cell_type": "code",
   "execution_count": null,
   "metadata": {},
   "outputs": [],
   "source": []
  },
  {
   "cell_type": "code",
   "execution_count": null,
   "metadata": {},
   "outputs": [],
   "source": []
  },
  {
   "cell_type": "code",
   "execution_count": null,
   "metadata": {},
   "outputs": [],
   "source": []
  },
  {
   "cell_type": "code",
   "execution_count": null,
   "metadata": {},
   "outputs": [],
   "source": []
  },
  {
   "cell_type": "code",
   "execution_count": null,
   "metadata": {},
   "outputs": [],
   "source": []
  },
  {
   "cell_type": "code",
   "execution_count": null,
   "metadata": {},
   "outputs": [],
   "source": []
  },
  {
   "cell_type": "code",
   "execution_count": null,
   "metadata": {},
   "outputs": [],
   "source": []
  },
  {
   "cell_type": "code",
   "execution_count": null,
   "metadata": {},
   "outputs": [],
   "source": []
  },
  {
   "cell_type": "code",
   "execution_count": null,
   "metadata": {},
   "outputs": [],
   "source": []
  },
  {
   "cell_type": "code",
   "execution_count": null,
   "metadata": {},
   "outputs": [],
   "source": []
  },
  {
   "cell_type": "code",
   "execution_count": null,
   "metadata": {},
   "outputs": [],
   "source": []
  },
  {
   "cell_type": "code",
   "execution_count": null,
   "metadata": {},
   "outputs": [],
   "source": []
  },
  {
   "cell_type": "code",
   "execution_count": null,
   "metadata": {},
   "outputs": [],
   "source": []
  },
  {
   "cell_type": "code",
   "execution_count": null,
   "metadata": {},
   "outputs": [],
   "source": []
  },
  {
   "cell_type": "code",
   "execution_count": null,
   "metadata": {},
   "outputs": [],
   "source": []
  },
  {
   "cell_type": "code",
   "execution_count": null,
   "metadata": {},
   "outputs": [],
   "source": []
  },
  {
   "cell_type": "code",
   "execution_count": null,
   "metadata": {},
   "outputs": [],
   "source": []
  },
  {
   "cell_type": "code",
   "execution_count": null,
   "metadata": {},
   "outputs": [],
   "source": []
  },
  {
   "cell_type": "code",
   "execution_count": null,
   "metadata": {},
   "outputs": [],
   "source": []
  },
  {
   "cell_type": "code",
   "execution_count": null,
   "metadata": {},
   "outputs": [],
   "source": []
  },
  {
   "cell_type": "code",
   "execution_count": null,
   "metadata": {},
   "outputs": [],
   "source": []
  },
  {
   "cell_type": "code",
   "execution_count": null,
   "metadata": {},
   "outputs": [],
   "source": []
  },
  {
   "cell_type": "code",
   "execution_count": null,
   "metadata": {},
   "outputs": [],
   "source": []
  },
  {
   "cell_type": "code",
   "execution_count": null,
   "metadata": {},
   "outputs": [],
   "source": []
  },
  {
   "cell_type": "code",
   "execution_count": null,
   "metadata": {},
   "outputs": [],
   "source": []
  },
  {
   "cell_type": "code",
   "execution_count": null,
   "metadata": {},
   "outputs": [],
   "source": []
  },
  {
   "cell_type": "code",
   "execution_count": null,
   "metadata": {},
   "outputs": [],
   "source": []
  },
  {
   "cell_type": "code",
   "execution_count": null,
   "metadata": {},
   "outputs": [],
   "source": []
  },
  {
   "cell_type": "code",
   "execution_count": null,
   "metadata": {},
   "outputs": [],
   "source": []
  },
  {
   "cell_type": "code",
   "execution_count": null,
   "metadata": {},
   "outputs": [],
   "source": []
  },
  {
   "cell_type": "code",
   "execution_count": null,
   "metadata": {},
   "outputs": [],
   "source": []
  },
  {
   "cell_type": "code",
   "execution_count": null,
   "metadata": {},
   "outputs": [],
   "source": []
  },
  {
   "cell_type": "code",
   "execution_count": null,
   "metadata": {},
   "outputs": [],
   "source": []
  },
  {
   "cell_type": "code",
   "execution_count": null,
   "metadata": {},
   "outputs": [],
   "source": []
  },
  {
   "cell_type": "code",
   "execution_count": null,
   "metadata": {},
   "outputs": [],
   "source": []
  },
  {
   "cell_type": "code",
   "execution_count": null,
   "metadata": {},
   "outputs": [],
   "source": []
  },
  {
   "cell_type": "code",
   "execution_count": null,
   "metadata": {},
   "outputs": [],
   "source": []
  },
  {
   "cell_type": "code",
   "execution_count": null,
   "metadata": {},
   "outputs": [],
   "source": []
  },
  {
   "cell_type": "code",
   "execution_count": null,
   "metadata": {},
   "outputs": [],
   "source": []
  },
  {
   "cell_type": "code",
   "execution_count": null,
   "metadata": {},
   "outputs": [],
   "source": []
  },
  {
   "cell_type": "code",
   "execution_count": null,
   "metadata": {},
   "outputs": [],
   "source": []
  },
  {
   "cell_type": "code",
   "execution_count": null,
   "metadata": {},
   "outputs": [],
   "source": []
  },
  {
   "cell_type": "code",
   "execution_count": null,
   "metadata": {},
   "outputs": [],
   "source": []
  },
  {
   "cell_type": "code",
   "execution_count": null,
   "metadata": {},
   "outputs": [],
   "source": []
  },
  {
   "cell_type": "code",
   "execution_count": null,
   "metadata": {},
   "outputs": [],
   "source": []
  },
  {
   "cell_type": "code",
   "execution_count": null,
   "metadata": {},
   "outputs": [],
   "source": []
  },
  {
   "cell_type": "code",
   "execution_count": null,
   "metadata": {},
   "outputs": [],
   "source": []
  },
  {
   "cell_type": "code",
   "execution_count": null,
   "metadata": {},
   "outputs": [],
   "source": []
  },
  {
   "cell_type": "code",
   "execution_count": null,
   "metadata": {},
   "outputs": [],
   "source": []
  },
  {
   "cell_type": "code",
   "execution_count": null,
   "metadata": {},
   "outputs": [],
   "source": []
  },
  {
   "cell_type": "code",
   "execution_count": null,
   "metadata": {},
   "outputs": [],
   "source": []
  },
  {
   "cell_type": "code",
   "execution_count": null,
   "metadata": {},
   "outputs": [],
   "source": []
  },
  {
   "cell_type": "code",
   "execution_count": null,
   "metadata": {},
   "outputs": [],
   "source": []
  },
  {
   "cell_type": "code",
   "execution_count": null,
   "metadata": {},
   "outputs": [],
   "source": []
  },
  {
   "cell_type": "code",
   "execution_count": null,
   "metadata": {},
   "outputs": [],
   "source": []
  },
  {
   "cell_type": "code",
   "execution_count": null,
   "metadata": {},
   "outputs": [],
   "source": []
  },
  {
   "cell_type": "code",
   "execution_count": null,
   "metadata": {},
   "outputs": [],
   "source": []
  },
  {
   "cell_type": "code",
   "execution_count": null,
   "metadata": {},
   "outputs": [],
   "source": []
  },
  {
   "cell_type": "code",
   "execution_count": null,
   "metadata": {},
   "outputs": [],
   "source": []
  },
  {
   "cell_type": "code",
   "execution_count": null,
   "metadata": {},
   "outputs": [],
   "source": []
  },
  {
   "cell_type": "code",
   "execution_count": null,
   "metadata": {},
   "outputs": [],
   "source": []
  },
  {
   "cell_type": "code",
   "execution_count": null,
   "metadata": {},
   "outputs": [],
   "source": []
  },
  {
   "cell_type": "code",
   "execution_count": null,
   "metadata": {},
   "outputs": [],
   "source": []
  },
  {
   "cell_type": "code",
   "execution_count": null,
   "metadata": {},
   "outputs": [],
   "source": []
  },
  {
   "cell_type": "code",
   "execution_count": null,
   "metadata": {},
   "outputs": [],
   "source": []
  },
  {
   "cell_type": "code",
   "execution_count": null,
   "metadata": {},
   "outputs": [],
   "source": []
  },
  {
   "cell_type": "code",
   "execution_count": null,
   "metadata": {},
   "outputs": [],
   "source": []
  },
  {
   "cell_type": "code",
   "execution_count": null,
   "metadata": {},
   "outputs": [],
   "source": []
  },
  {
   "cell_type": "code",
   "execution_count": null,
   "metadata": {},
   "outputs": [],
   "source": []
  },
  {
   "cell_type": "code",
   "execution_count": null,
   "metadata": {},
   "outputs": [],
   "source": []
  },
  {
   "cell_type": "code",
   "execution_count": null,
   "metadata": {},
   "outputs": [],
   "source": []
  },
  {
   "cell_type": "code",
   "execution_count": null,
   "metadata": {},
   "outputs": [],
   "source": []
  },
  {
   "cell_type": "code",
   "execution_count": null,
   "metadata": {},
   "outputs": [],
   "source": []
  },
  {
   "cell_type": "code",
   "execution_count": null,
   "metadata": {},
   "outputs": [],
   "source": []
  },
  {
   "cell_type": "code",
   "execution_count": null,
   "metadata": {},
   "outputs": [],
   "source": []
  },
  {
   "cell_type": "code",
   "execution_count": null,
   "metadata": {},
   "outputs": [],
   "source": []
  },
  {
   "cell_type": "code",
   "execution_count": null,
   "metadata": {},
   "outputs": [],
   "source": []
  },
  {
   "cell_type": "code",
   "execution_count": null,
   "metadata": {},
   "outputs": [],
   "source": []
  },
  {
   "cell_type": "code",
   "execution_count": null,
   "metadata": {},
   "outputs": [],
   "source": []
  },
  {
   "cell_type": "code",
   "execution_count": null,
   "metadata": {},
   "outputs": [],
   "source": []
  },
  {
   "cell_type": "code",
   "execution_count": null,
   "metadata": {},
   "outputs": [],
   "source": []
  },
  {
   "cell_type": "code",
   "execution_count": null,
   "metadata": {},
   "outputs": [],
   "source": []
  },
  {
   "cell_type": "code",
   "execution_count": null,
   "metadata": {},
   "outputs": [],
   "source": []
  },
  {
   "cell_type": "code",
   "execution_count": null,
   "metadata": {},
   "outputs": [],
   "source": []
  },
  {
   "cell_type": "code",
   "execution_count": null,
   "metadata": {},
   "outputs": [],
   "source": []
  },
  {
   "cell_type": "code",
   "execution_count": null,
   "metadata": {},
   "outputs": [],
   "source": []
  },
  {
   "cell_type": "code",
   "execution_count": null,
   "metadata": {},
   "outputs": [],
   "source": []
  },
  {
   "cell_type": "code",
   "execution_count": null,
   "metadata": {},
   "outputs": [],
   "source": []
  },
  {
   "cell_type": "code",
   "execution_count": null,
   "metadata": {},
   "outputs": [],
   "source": []
  },
  {
   "cell_type": "code",
   "execution_count": null,
   "metadata": {},
   "outputs": [],
   "source": []
  },
  {
   "cell_type": "code",
   "execution_count": null,
   "metadata": {},
   "outputs": [],
   "source": []
  },
  {
   "cell_type": "code",
   "execution_count": null,
   "metadata": {},
   "outputs": [],
   "source": []
  },
  {
   "cell_type": "code",
   "execution_count": null,
   "metadata": {},
   "outputs": [],
   "source": []
  },
  {
   "cell_type": "code",
   "execution_count": null,
   "metadata": {},
   "outputs": [],
   "source": []
  },
  {
   "cell_type": "code",
   "execution_count": null,
   "metadata": {},
   "outputs": [],
   "source": []
  },
  {
   "cell_type": "code",
   "execution_count": null,
   "metadata": {},
   "outputs": [],
   "source": []
  },
  {
   "cell_type": "code",
   "execution_count": null,
   "metadata": {},
   "outputs": [],
   "source": []
  },
  {
   "cell_type": "code",
   "execution_count": null,
   "metadata": {},
   "outputs": [],
   "source": []
  },
  {
   "cell_type": "code",
   "execution_count": null,
   "metadata": {},
   "outputs": [],
   "source": []
  },
  {
   "cell_type": "code",
   "execution_count": null,
   "metadata": {},
   "outputs": [],
   "source": []
  },
  {
   "cell_type": "code",
   "execution_count": null,
   "metadata": {},
   "outputs": [],
   "source": []
  },
  {
   "cell_type": "code",
   "execution_count": null,
   "metadata": {},
   "outputs": [],
   "source": []
  },
  {
   "cell_type": "code",
   "execution_count": null,
   "metadata": {},
   "outputs": [],
   "source": []
  },
  {
   "cell_type": "code",
   "execution_count": null,
   "metadata": {},
   "outputs": [],
   "source": []
  },
  {
   "cell_type": "code",
   "execution_count": null,
   "metadata": {},
   "outputs": [],
   "source": []
  },
  {
   "cell_type": "code",
   "execution_count": null,
   "metadata": {},
   "outputs": [],
   "source": []
  },
  {
   "cell_type": "code",
   "execution_count": null,
   "metadata": {},
   "outputs": [],
   "source": []
  },
  {
   "cell_type": "code",
   "execution_count": null,
   "metadata": {},
   "outputs": [],
   "source": []
  },
  {
   "cell_type": "code",
   "execution_count": null,
   "metadata": {},
   "outputs": [],
   "source": []
  },
  {
   "cell_type": "code",
   "execution_count": null,
   "metadata": {},
   "outputs": [],
   "source": []
  },
  {
   "cell_type": "code",
   "execution_count": null,
   "metadata": {},
   "outputs": [],
   "source": []
  },
  {
   "cell_type": "code",
   "execution_count": null,
   "metadata": {},
   "outputs": [],
   "source": []
  },
  {
   "cell_type": "code",
   "execution_count": null,
   "metadata": {},
   "outputs": [],
   "source": []
  },
  {
   "cell_type": "code",
   "execution_count": null,
   "metadata": {},
   "outputs": [],
   "source": []
  },
  {
   "cell_type": "code",
   "execution_count": null,
   "metadata": {},
   "outputs": [],
   "source": []
  },
  {
   "cell_type": "code",
   "execution_count": null,
   "metadata": {},
   "outputs": [],
   "source": []
  },
  {
   "cell_type": "code",
   "execution_count": null,
   "metadata": {},
   "outputs": [],
   "source": []
  },
  {
   "cell_type": "code",
   "execution_count": null,
   "metadata": {},
   "outputs": [],
   "source": []
  },
  {
   "cell_type": "code",
   "execution_count": null,
   "metadata": {},
   "outputs": [],
   "source": []
  },
  {
   "cell_type": "code",
   "execution_count": null,
   "metadata": {},
   "outputs": [],
   "source": []
  },
  {
   "cell_type": "code",
   "execution_count": null,
   "metadata": {},
   "outputs": [],
   "source": []
  },
  {
   "cell_type": "code",
   "execution_count": null,
   "metadata": {},
   "outputs": [],
   "source": []
  },
  {
   "cell_type": "code",
   "execution_count": null,
   "metadata": {},
   "outputs": [],
   "source": []
  },
  {
   "cell_type": "code",
   "execution_count": null,
   "metadata": {},
   "outputs": [],
   "source": []
  },
  {
   "cell_type": "code",
   "execution_count": null,
   "metadata": {},
   "outputs": [],
   "source": []
  },
  {
   "cell_type": "code",
   "execution_count": null,
   "metadata": {},
   "outputs": [],
   "source": []
  },
  {
   "cell_type": "code",
   "execution_count": null,
   "metadata": {},
   "outputs": [],
   "source": []
  },
  {
   "cell_type": "code",
   "execution_count": null,
   "metadata": {},
   "outputs": [],
   "source": []
  },
  {
   "cell_type": "code",
   "execution_count": null,
   "metadata": {},
   "outputs": [],
   "source": []
  },
  {
   "cell_type": "code",
   "execution_count": null,
   "metadata": {},
   "outputs": [],
   "source": []
  },
  {
   "cell_type": "code",
   "execution_count": null,
   "metadata": {},
   "outputs": [],
   "source": []
  },
  {
   "cell_type": "code",
   "execution_count": null,
   "metadata": {},
   "outputs": [],
   "source": []
  },
  {
   "cell_type": "code",
   "execution_count": null,
   "metadata": {},
   "outputs": [],
   "source": []
  },
  {
   "cell_type": "code",
   "execution_count": null,
   "metadata": {},
   "outputs": [],
   "source": []
  },
  {
   "cell_type": "code",
   "execution_count": null,
   "metadata": {},
   "outputs": [],
   "source": []
  },
  {
   "cell_type": "code",
   "execution_count": null,
   "metadata": {},
   "outputs": [],
   "source": []
  },
  {
   "cell_type": "code",
   "execution_count": null,
   "metadata": {},
   "outputs": [],
   "source": []
  },
  {
   "cell_type": "code",
   "execution_count": null,
   "metadata": {},
   "outputs": [],
   "source": []
  },
  {
   "cell_type": "code",
   "execution_count": null,
   "metadata": {},
   "outputs": [],
   "source": []
  },
  {
   "cell_type": "code",
   "execution_count": null,
   "metadata": {},
   "outputs": [],
   "source": []
  },
  {
   "cell_type": "code",
   "execution_count": null,
   "metadata": {},
   "outputs": [],
   "source": []
  },
  {
   "cell_type": "code",
   "execution_count": null,
   "metadata": {},
   "outputs": [],
   "source": []
  },
  {
   "cell_type": "code",
   "execution_count": null,
   "metadata": {},
   "outputs": [],
   "source": []
  },
  {
   "cell_type": "code",
   "execution_count": null,
   "metadata": {},
   "outputs": [],
   "source": []
  },
  {
   "cell_type": "code",
   "execution_count": null,
   "metadata": {},
   "outputs": [],
   "source": []
  },
  {
   "cell_type": "code",
   "execution_count": null,
   "metadata": {},
   "outputs": [],
   "source": []
  },
  {
   "cell_type": "code",
   "execution_count": null,
   "metadata": {},
   "outputs": [],
   "source": []
  },
  {
   "cell_type": "code",
   "execution_count": null,
   "metadata": {},
   "outputs": [],
   "source": []
  },
  {
   "cell_type": "code",
   "execution_count": null,
   "metadata": {},
   "outputs": [],
   "source": []
  },
  {
   "cell_type": "code",
   "execution_count": null,
   "metadata": {},
   "outputs": [],
   "source": []
  },
  {
   "cell_type": "code",
   "execution_count": null,
   "metadata": {},
   "outputs": [],
   "source": []
  },
  {
   "cell_type": "code",
   "execution_count": null,
   "metadata": {},
   "outputs": [],
   "source": []
  },
  {
   "cell_type": "code",
   "execution_count": null,
   "metadata": {},
   "outputs": [],
   "source": []
  },
  {
   "cell_type": "code",
   "execution_count": null,
   "metadata": {},
   "outputs": [],
   "source": []
  },
  {
   "cell_type": "code",
   "execution_count": null,
   "metadata": {},
   "outputs": [],
   "source": []
  },
  {
   "cell_type": "code",
   "execution_count": null,
   "metadata": {},
   "outputs": [],
   "source": []
  },
  {
   "cell_type": "code",
   "execution_count": null,
   "metadata": {},
   "outputs": [],
   "source": []
  },
  {
   "cell_type": "code",
   "execution_count": null,
   "metadata": {},
   "outputs": [],
   "source": []
  },
  {
   "cell_type": "code",
   "execution_count": null,
   "metadata": {},
   "outputs": [],
   "source": []
  },
  {
   "cell_type": "code",
   "execution_count": null,
   "metadata": {},
   "outputs": [],
   "source": []
  },
  {
   "cell_type": "code",
   "execution_count": null,
   "metadata": {},
   "outputs": [],
   "source": []
  },
  {
   "cell_type": "code",
   "execution_count": null,
   "metadata": {},
   "outputs": [],
   "source": []
  },
  {
   "cell_type": "code",
   "execution_count": null,
   "metadata": {},
   "outputs": [],
   "source": []
  },
  {
   "cell_type": "code",
   "execution_count": null,
   "metadata": {},
   "outputs": [],
   "source": []
  }
 ],
 "metadata": {
  "kernelspec": {
   "display_name": "Python 3",
   "language": "python",
   "name": "python3"
  },
  "language_info": {
   "codemirror_mode": {
    "name": "ipython",
    "version": 3
   },
   "file_extension": ".py",
   "mimetype": "text/x-python",
   "name": "python",
   "nbconvert_exporter": "python",
   "pygments_lexer": "ipython3",
   "version": "3.8.5"
  },
  "toc": {
   "base_numbering": 1,
   "nav_menu": {},
   "number_sections": false,
   "sideBar": true,
   "skip_h1_title": false,
   "title_cell": "Table of Contents",
   "title_sidebar": "Contents",
   "toc_cell": false,
   "toc_position": {},
   "toc_section_display": true,
   "toc_window_display": true
  },
  "varInspector": {
   "cols": {
    "lenName": 16,
    "lenType": 16,
    "lenVar": 40
   },
   "kernels_config": {
    "python": {
     "delete_cmd_postfix": "",
     "delete_cmd_prefix": "del ",
     "library": "var_list.py",
     "varRefreshCmd": "print(var_dic_list())"
    },
    "r": {
     "delete_cmd_postfix": ") ",
     "delete_cmd_prefix": "rm(",
     "library": "var_list.r",
     "varRefreshCmd": "cat(var_dic_list()) "
    }
   },
   "types_to_exclude": [
    "module",
    "function",
    "builtin_function_or_method",
    "instance",
    "_Feature"
   ],
   "window_display": false
  }
 },
 "nbformat": 4,
 "nbformat_minor": 4
}
