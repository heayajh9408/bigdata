{
 "cells": [
  {
   "cell_type": "code",
   "execution_count": 1,
   "metadata": {
    "ExecuteTime": {
     "end_time": "2021-03-27T06:48:23.302694Z",
     "start_time": "2021-03-27T06:48:14.454271Z"
    }
   },
   "outputs": [],
   "source": [
    "import seaborn as sns\n",
    "import pandas as pd # 원핫인코딩\n",
    "from sklearn.model_selection import train_test_split # 훈련셋과 테스트셋 분리\n",
    "from tensorflow.keras.models import Sequential\n",
    "from tensorflow.keras.layers import Dense, Input, Dropout\n",
    "import matplotlib.pyplot as plt"
   ]
  },
  {
   "cell_type": "code",
   "execution_count": 2,
   "metadata": {
    "ExecuteTime": {
     "end_time": "2021-03-27T06:48:33.605260Z",
     "start_time": "2021-03-27T06:48:33.545387Z"
    }
   },
   "outputs": [
    {
     "data": {
      "text/html": [
       "<div>\n",
       "<style scoped>\n",
       "    .dataframe tbody tr th:only-of-type {\n",
       "        vertical-align: middle;\n",
       "    }\n",
       "\n",
       "    .dataframe tbody tr th {\n",
       "        vertical-align: top;\n",
       "    }\n",
       "\n",
       "    .dataframe thead th {\n",
       "        text-align: right;\n",
       "    }\n",
       "</style>\n",
       "<table border=\"1\" class=\"dataframe\">\n",
       "  <thead>\n",
       "    <tr style=\"text-align: right;\">\n",
       "      <th></th>\n",
       "      <th>setosa</th>\n",
       "      <th>versicolor</th>\n",
       "      <th>virginica</th>\n",
       "    </tr>\n",
       "  </thead>\n",
       "  <tbody>\n",
       "    <tr>\n",
       "      <th>0</th>\n",
       "      <td>1</td>\n",
       "      <td>0</td>\n",
       "      <td>0</td>\n",
       "    </tr>\n",
       "    <tr>\n",
       "      <th>50</th>\n",
       "      <td>0</td>\n",
       "      <td>1</td>\n",
       "      <td>0</td>\n",
       "    </tr>\n",
       "    <tr>\n",
       "      <th>100</th>\n",
       "      <td>0</td>\n",
       "      <td>0</td>\n",
       "      <td>1</td>\n",
       "    </tr>\n",
       "  </tbody>\n",
       "</table>\n",
       "</div>"
      ],
      "text/plain": [
       "     setosa  versicolor  virginica\n",
       "0         1           0          0\n",
       "50        0           1          0\n",
       "100       0           0          1"
      ]
     },
     "execution_count": 2,
     "metadata": {},
     "output_type": "execute_result"
    }
   ],
   "source": [
    "# 1. 데이터 셋\n",
    "iris = sns.load_dataset(\"iris\")\n",
    "# display(iris.head(2))\n",
    "iris_X = iris.iloc[:, :-1].to_numpy()\n",
    "iris_Y = iris.iloc[:, -1]\n",
    "# iris_Y = utils.to_categorical(iris_Y) # 숫자가 아니면 to_categorical 불가\n",
    "iris_Y = pd.get_dummies(iris_Y)\n",
    "iris_Y[::50]"
   ]
  },
  {
   "cell_type": "code",
   "execution_count": 3,
   "metadata": {
    "ExecuteTime": {
     "end_time": "2021-03-27T06:50:53.271785Z",
     "start_time": "2021-03-27T06:50:53.252321Z"
    }
   },
   "outputs": [
    {
     "data": {
      "text/plain": [
       "((105, 4), (105, 3), (45, 4), (45, 3))"
      ]
     },
     "execution_count": 3,
     "metadata": {},
     "output_type": "execute_result"
    }
   ],
   "source": [
    "from tensorflow.keras.callbacks import EarlyStopping, ModelCheckpoint\n",
    "import os\n",
    "model_save_folder = './model/'\n",
    "if not os.path.exists(model_save_folder):\n",
    "    os.mkdir(model_save_folder)\n",
    "file = model_save_folder + 'iris-{epoch:03d}-val{val_accuracy:.4f}.h5'\n",
    "\n",
    "early_stopping = EarlyStopping(patience=40)\n",
    "checkpoint = ModelCheckpoint(filepath=file,\n",
    "                            monitor='val_accuracy',\n",
    "                            verbose=1,\n",
    "                            save_best_only=True)\n",
    "\n",
    "# 1. 데이터 셋\n",
    "iris = sns.load_dataset(\"iris\")\n",
    "# display(iris.head(2))\n",
    "iris_X = iris.iloc[:, :-1].to_numpy()\n",
    "iris_Y = iris.iloc[:, -1]\n",
    "# iris_Y = utils.to_categorical(iris_Y) # 숫자가 아니면 to_categorical 불가\n",
    "iris_Y = pd.get_dummies(iris_Y).to_numpy()\n",
    "# 1 0 0 = setosa  / 0 1 0 => versicolor / 0 0 1 => virginica\n",
    "train_X, test_X, train_Y, test_Y = train_test_split(iris_X, iris_Y, test_size=0.3,\n",
    "                                                   random_state=1)\n",
    "train_X.shape, train_Y.shape, test_X.shape, test_Y.shape"
   ]
  },
  {
   "cell_type": "code",
   "execution_count": 4,
   "metadata": {
    "ExecuteTime": {
     "end_time": "2021-03-27T06:53:16.120087Z",
     "start_time": "2021-03-27T06:53:00.416882Z"
    }
   },
   "outputs": [
    {
     "name": "stdout",
     "output_type": "stream",
     "text": [
      "Epoch 1/300\n",
      "2/2 [==============================] - 2s 1s/step - loss: 1.4566 - accuracy: 0.2746 - val_loss: 1.1622 - val_accuracy: 0.4762\n",
      "\n",
      "Epoch 00001: val_accuracy improved from -inf to 0.47619, saving model to ./model\\iris-001-val0.4762.h5\n",
      "Epoch 2/300\n",
      "2/2 [==============================] - 0s 40ms/step - loss: 1.2826 - accuracy: 0.2679 - val_loss: 1.1305 - val_accuracy: 0.2857\n",
      "\n",
      "Epoch 00002: val_accuracy did not improve from 0.47619\n",
      "Epoch 3/300\n",
      "2/2 [==============================] - 0s 51ms/step - loss: 1.1563 - accuracy: 0.1022 - val_loss: 1.1527 - val_accuracy: 0.0952\n",
      "\n",
      "Epoch 00003: val_accuracy did not improve from 0.47619\n",
      "Epoch 4/300\n",
      "2/2 [==============================] - 0s 44ms/step - loss: 1.1112 - accuracy: 0.3222 - val_loss: 1.1713 - val_accuracy: 0.2857\n",
      "\n",
      "Epoch 00004: val_accuracy did not improve from 0.47619\n",
      "Epoch 5/300\n",
      "2/2 [==============================] - 0s 54ms/step - loss: 1.0794 - accuracy: 0.3727 - val_loss: 1.1753 - val_accuracy: 0.2857\n",
      "\n",
      "Epoch 00005: val_accuracy did not improve from 0.47619\n",
      "Epoch 6/300\n",
      "2/2 [==============================] - 0s 50ms/step - loss: 1.0652 - accuracy: 0.3660 - val_loss: 1.1591 - val_accuracy: 0.2857\n",
      "\n",
      "Epoch 00006: val_accuracy did not improve from 0.47619\n",
      "Epoch 7/300\n",
      "2/2 [==============================] - 0s 46ms/step - loss: 1.0328 - accuracy: 0.3794 - val_loss: 1.1468 - val_accuracy: 0.2857\n",
      "\n",
      "Epoch 00007: val_accuracy did not improve from 0.47619\n",
      "Epoch 8/300\n",
      "2/2 [==============================] - 0s 53ms/step - loss: 1.0344 - accuracy: 0.3527 - val_loss: 1.1238 - val_accuracy: 0.2857\n",
      "\n",
      "Epoch 00008: val_accuracy did not improve from 0.47619\n",
      "Epoch 9/300\n",
      "2/2 [==============================] - 0s 54ms/step - loss: 1.0127 - accuracy: 0.3794 - val_loss: 1.0962 - val_accuracy: 0.2857\n",
      "\n",
      "Epoch 00009: val_accuracy did not improve from 0.47619\n",
      "Epoch 10/300\n",
      "2/2 [==============================] - 0s 46ms/step - loss: 0.9959 - accuracy: 0.3660 - val_loss: 1.0680 - val_accuracy: 0.2857\n",
      "\n",
      "Epoch 00010: val_accuracy did not improve from 0.47619\n",
      "Epoch 11/300\n",
      "2/2 [==============================] - 0s 48ms/step - loss: 0.9646 - accuracy: 0.3927 - val_loss: 1.0384 - val_accuracy: 0.2857\n",
      "\n",
      "Epoch 00011: val_accuracy did not improve from 0.47619\n",
      "Epoch 12/300\n",
      "2/2 [==============================] - 0s 51ms/step - loss: 0.9585 - accuracy: 0.3606 - val_loss: 1.0081 - val_accuracy: 0.3333\n",
      "\n",
      "Epoch 00012: val_accuracy did not improve from 0.47619\n",
      "Epoch 13/300\n",
      "2/2 [==============================] - 0s 47ms/step - loss: 0.9393 - accuracy: 0.4495 - val_loss: 0.9876 - val_accuracy: 0.4286\n",
      "\n",
      "Epoch 00013: val_accuracy did not improve from 0.47619\n",
      "Epoch 14/300\n",
      "2/2 [==============================] - 0s 43ms/step - loss: 0.9253 - accuracy: 0.5768 - val_loss: 0.9729 - val_accuracy: 0.5238\n",
      "\n",
      "Epoch 00014: val_accuracy improved from 0.47619 to 0.52381, saving model to ./model\\iris-014-val0.5238.h5\n",
      "Epoch 15/300\n",
      "2/2 [==============================] - 0s 44ms/step - loss: 0.9083 - accuracy: 0.6657 - val_loss: 0.9607 - val_accuracy: 0.5238\n",
      "\n",
      "Epoch 00015: val_accuracy did not improve from 0.52381\n",
      "Epoch 16/300\n",
      "2/2 [==============================] - 0s 55ms/step - loss: 0.9035 - accuracy: 0.7175 - val_loss: 0.9484 - val_accuracy: 0.5238\n",
      "\n",
      "Epoch 00016: val_accuracy did not improve from 0.52381\n",
      "Epoch 17/300\n",
      "2/2 [==============================] - 0s 56ms/step - loss: 0.8764 - accuracy: 0.7321 - val_loss: 0.9402 - val_accuracy: 0.5238\n",
      "\n",
      "Epoch 00017: val_accuracy did not improve from 0.52381\n",
      "Epoch 18/300\n",
      "2/2 [==============================] - 0s 48ms/step - loss: 0.8602 - accuracy: 0.7254 - val_loss: 0.9355 - val_accuracy: 0.5238\n",
      "\n",
      "Epoch 00018: val_accuracy did not improve from 0.52381\n",
      "Epoch 19/300\n",
      "2/2 [==============================] - 0s 56ms/step - loss: 0.8363 - accuracy: 0.7387 - val_loss: 0.9316 - val_accuracy: 0.5238\n",
      "\n",
      "Epoch 00019: val_accuracy did not improve from 0.52381\n",
      "Epoch 20/300\n",
      "2/2 [==============================] - 0s 50ms/step - loss: 0.8253 - accuracy: 0.7387 - val_loss: 0.9226 - val_accuracy: 0.5238\n",
      "\n",
      "Epoch 00020: val_accuracy did not improve from 0.52381\n",
      "Epoch 21/300\n",
      "2/2 [==============================] - 0s 45ms/step - loss: 0.8003 - accuracy: 0.7387 - val_loss: 0.9086 - val_accuracy: 0.5238\n",
      "\n",
      "Epoch 00021: val_accuracy did not improve from 0.52381\n",
      "Epoch 22/300\n",
      "2/2 [==============================] - 0s 54ms/step - loss: 0.7943 - accuracy: 0.7254 - val_loss: 0.8852 - val_accuracy: 0.5238\n",
      "\n",
      "Epoch 00022: val_accuracy did not improve from 0.52381\n",
      "Epoch 23/300\n",
      "2/2 [==============================] - 0s 61ms/step - loss: 0.7573 - accuracy: 0.7521 - val_loss: 0.8611 - val_accuracy: 0.5238\n",
      "\n",
      "Epoch 00023: val_accuracy did not improve from 0.52381\n",
      "Epoch 24/300\n",
      "2/2 [==============================] - 0s 52ms/step - loss: 0.7490 - accuracy: 0.7387 - val_loss: 0.8363 - val_accuracy: 0.5238\n",
      "\n",
      "Epoch 00024: val_accuracy did not improve from 0.52381\n",
      "Epoch 25/300\n",
      "2/2 [==============================] - 0s 49ms/step - loss: 0.7238 - accuracy: 0.7321 - val_loss: 0.8192 - val_accuracy: 0.5238\n",
      "\n",
      "Epoch 00025: val_accuracy did not improve from 0.52381\n",
      "Epoch 26/300\n",
      "2/2 [==============================] - 0s 50ms/step - loss: 0.7044 - accuracy: 0.7387 - val_loss: 0.8049 - val_accuracy: 0.5238\n",
      "\n",
      "Epoch 00026: val_accuracy did not improve from 0.52381\n",
      "Epoch 27/300\n",
      "2/2 [==============================] - 0s 50ms/step - loss: 0.7021 - accuracy: 0.7121 - val_loss: 0.7894 - val_accuracy: 0.5714\n",
      "\n",
      "Epoch 00027: val_accuracy improved from 0.52381 to 0.57143, saving model to ./model\\iris-027-val0.5714.h5\n",
      "Epoch 28/300\n",
      "2/2 [==============================] - 0s 41ms/step - loss: 0.6656 - accuracy: 0.7454 - val_loss: 0.7815 - val_accuracy: 0.5238\n",
      "\n",
      "Epoch 00028: val_accuracy did not improve from 0.57143\n",
      "Epoch 29/300\n",
      "2/2 [==============================] - 0s 54ms/step - loss: 0.6413 - accuracy: 0.7521 - val_loss: 0.7725 - val_accuracy: 0.5238\n",
      "\n",
      "Epoch 00029: val_accuracy did not improve from 0.57143\n",
      "Epoch 30/300\n",
      "2/2 [==============================] - 0s 54ms/step - loss: 0.6390 - accuracy: 0.7321 - val_loss: 0.7547 - val_accuracy: 0.5714\n",
      "\n",
      "Epoch 00030: val_accuracy did not improve from 0.57143\n",
      "Epoch 31/300\n",
      "2/2 [==============================] - 0s 45ms/step - loss: 0.6245 - accuracy: 0.7254 - val_loss: 0.7358 - val_accuracy: 0.5714\n",
      "\n",
      "Epoch 00031: val_accuracy did not improve from 0.57143\n",
      "Epoch 32/300\n",
      "2/2 [==============================] - 0s 53ms/step - loss: 0.5774 - accuracy: 0.7800 - val_loss: 0.7203 - val_accuracy: 0.5714\n",
      "\n",
      "Epoch 00032: val_accuracy did not improve from 0.57143\n",
      "Epoch 33/300\n",
      "2/2 [==============================] - 0s 46ms/step - loss: 0.5656 - accuracy: 0.7667 - val_loss: 0.7019 - val_accuracy: 0.5714\n",
      "\n",
      "Epoch 00033: val_accuracy did not improve from 0.57143\n",
      "Epoch 34/300\n",
      "2/2 [==============================] - 0s 52ms/step - loss: 0.5550 - accuracy: 0.7479 - val_loss: 0.6783 - val_accuracy: 0.5714\n",
      "\n",
      "Epoch 00034: val_accuracy did not improve from 0.57143\n",
      "Epoch 35/300\n",
      "2/2 [==============================] - 0s 63ms/step - loss: 0.5365 - accuracy: 0.7759 - val_loss: 0.6572 - val_accuracy: 0.6667\n",
      "\n",
      "Epoch 00035: val_accuracy improved from 0.57143 to 0.66667, saving model to ./model\\iris-035-val0.6667.h5\n",
      "Epoch 36/300\n",
      "2/2 [==============================] - 0s 58ms/step - loss: 0.5293 - accuracy: 0.8448 - val_loss: 0.6313 - val_accuracy: 0.7143\n",
      "\n",
      "Epoch 00036: val_accuracy improved from 0.66667 to 0.71429, saving model to ./model\\iris-036-val0.7143.h5\n",
      "Epoch 37/300\n",
      "2/2 [==============================] - 0s 45ms/step - loss: 0.4967 - accuracy: 0.8940 - val_loss: 0.6175 - val_accuracy: 0.7143\n",
      "\n",
      "Epoch 00037: val_accuracy did not improve from 0.71429\n",
      "Epoch 38/300\n",
      "2/2 [==============================] - 0s 53ms/step - loss: 0.4814 - accuracy: 0.8952 - val_loss: 0.6019 - val_accuracy: 0.7143\n",
      "\n",
      "Epoch 00038: val_accuracy did not improve from 0.71429\n",
      "Epoch 39/300\n",
      "2/2 [==============================] - 0s 44ms/step - loss: 0.4827 - accuracy: 0.8952 - val_loss: 0.5875 - val_accuracy: 0.7143\n",
      "\n",
      "Epoch 00039: val_accuracy did not improve from 0.71429\n",
      "Epoch 40/300\n",
      "2/2 [==============================] - 0s 56ms/step - loss: 0.4589 - accuracy: 0.8886 - val_loss: 0.5778 - val_accuracy: 0.7143\n",
      "\n",
      "Epoch 00040: val_accuracy did not improve from 0.71429\n",
      "Epoch 41/300\n"
     ]
    },
    {
     "name": "stdout",
     "output_type": "stream",
     "text": [
      "2/2 [==============================] - 0s 44ms/step - loss: 0.4407 - accuracy: 0.8886 - val_loss: 0.5671 - val_accuracy: 0.7143\n",
      "\n",
      "Epoch 00041: val_accuracy did not improve from 0.71429\n",
      "Epoch 42/300\n",
      "2/2 [==============================] - 0s 50ms/step - loss: 0.4136 - accuracy: 0.9086 - val_loss: 0.5537 - val_accuracy: 0.7143\n",
      "\n",
      "Epoch 00042: val_accuracy did not improve from 0.71429\n",
      "Epoch 43/300\n",
      "2/2 [==============================] - 0s 48ms/step - loss: 0.4171 - accuracy: 0.8886 - val_loss: 0.5283 - val_accuracy: 0.7619\n",
      "\n",
      "Epoch 00043: val_accuracy improved from 0.71429 to 0.76190, saving model to ./model\\iris-043-val0.7619.h5\n",
      "Epoch 44/300\n",
      "2/2 [==============================] - 0s 53ms/step - loss: 0.4051 - accuracy: 0.9190 - val_loss: 0.5037 - val_accuracy: 0.8571\n",
      "\n",
      "Epoch 00044: val_accuracy improved from 0.76190 to 0.85714, saving model to ./model\\iris-044-val0.8571.h5\n",
      "Epoch 45/300\n",
      "2/2 [==============================] - 0s 45ms/step - loss: 0.3889 - accuracy: 0.9324 - val_loss: 0.4930 - val_accuracy: 0.8571\n",
      "\n",
      "Epoch 00045: val_accuracy did not improve from 0.85714\n",
      "Epoch 46/300\n",
      "2/2 [==============================] - 0s 45ms/step - loss: 0.3770 - accuracy: 0.9324 - val_loss: 0.4778 - val_accuracy: 0.9048\n",
      "\n",
      "Epoch 00046: val_accuracy improved from 0.85714 to 0.90476, saving model to ./model\\iris-046-val0.9048.h5\n",
      "Epoch 47/300\n",
      "2/2 [==============================] - 0s 45ms/step - loss: 0.3605 - accuracy: 0.9403 - val_loss: 0.4634 - val_accuracy: 0.9048\n",
      "\n",
      "Epoch 00047: val_accuracy did not improve from 0.90476\n",
      "Epoch 48/300\n",
      "2/2 [==============================] - 0s 46ms/step - loss: 0.3482 - accuracy: 0.9270 - val_loss: 0.4510 - val_accuracy: 0.9048\n",
      "\n",
      "Epoch 00048: val_accuracy did not improve from 0.90476\n",
      "Epoch 49/300\n",
      "2/2 [==============================] - 0s 49ms/step - loss: 0.3333 - accuracy: 0.9337 - val_loss: 0.4388 - val_accuracy: 0.9048\n",
      "\n",
      "Epoch 00049: val_accuracy did not improve from 0.90476\n",
      "Epoch 50/300\n",
      "2/2 [==============================] - 0s 51ms/step - loss: 0.3365 - accuracy: 0.9337 - val_loss: 0.4297 - val_accuracy: 0.9048\n",
      "\n",
      "Epoch 00050: val_accuracy did not improve from 0.90476\n",
      "Epoch 51/300\n",
      "2/2 [==============================] - 0s 51ms/step - loss: 0.3232 - accuracy: 0.9403 - val_loss: 0.4245 - val_accuracy: 0.9048\n",
      "\n",
      "Epoch 00051: val_accuracy did not improve from 0.90476\n",
      "Epoch 52/300\n",
      "2/2 [==============================] - 0s 45ms/step - loss: 0.3121 - accuracy: 0.9470 - val_loss: 0.4150 - val_accuracy: 0.9048\n",
      "\n",
      "Epoch 00052: val_accuracy did not improve from 0.90476\n",
      "Epoch 53/300\n",
      "2/2 [==============================] - 0s 47ms/step - loss: 0.2899 - accuracy: 0.9470 - val_loss: 0.4092 - val_accuracy: 0.9048\n",
      "\n",
      "Epoch 00053: val_accuracy did not improve from 0.90476\n",
      "Epoch 54/300\n",
      "2/2 [==============================] - 0s 51ms/step - loss: 0.2862 - accuracy: 0.9470 - val_loss: 0.3912 - val_accuracy: 0.9048\n",
      "\n",
      "Epoch 00054: val_accuracy did not improve from 0.90476\n",
      "Epoch 55/300\n",
      "2/2 [==============================] - 0s 58ms/step - loss: 0.2714 - accuracy: 0.9537 - val_loss: 0.3735 - val_accuracy: 0.9524\n",
      "\n",
      "Epoch 00055: val_accuracy improved from 0.90476 to 0.95238, saving model to ./model\\iris-055-val0.9524.h5\n",
      "Epoch 56/300\n",
      "2/2 [==============================] - 0s 55ms/step - loss: 0.2765 - accuracy: 0.9775 - val_loss: 0.3579 - val_accuracy: 1.0000\n",
      "\n",
      "Epoch 00056: val_accuracy improved from 0.95238 to 1.00000, saving model to ./model\\iris-056-val1.0000.h5\n",
      "Epoch 57/300\n",
      "2/2 [==============================] - 0s 65ms/step - loss: 0.2725 - accuracy: 0.9708 - val_loss: 0.3549 - val_accuracy: 0.9524\n",
      "\n",
      "Epoch 00057: val_accuracy did not improve from 1.00000\n",
      "Epoch 58/300\n",
      "2/2 [==============================] - 0s 50ms/step - loss: 0.2622 - accuracy: 0.9549 - val_loss: 0.3616 - val_accuracy: 0.9048\n",
      "\n",
      "Epoch 00058: val_accuracy did not improve from 1.00000\n",
      "Epoch 59/300\n",
      "2/2 [==============================] - 0s 52ms/step - loss: 0.2516 - accuracy: 0.9470 - val_loss: 0.3491 - val_accuracy: 0.9048\n",
      "\n",
      "Epoch 00059: val_accuracy did not improve from 1.00000\n",
      "Epoch 60/300\n",
      "2/2 [==============================] - 0s 51ms/step - loss: 0.2488 - accuracy: 0.9483 - val_loss: 0.3296 - val_accuracy: 0.9524\n",
      "\n",
      "Epoch 00060: val_accuracy did not improve from 1.00000\n",
      "Epoch 61/300\n",
      "2/2 [==============================] - 0s 57ms/step - loss: 0.2370 - accuracy: 0.9708 - val_loss: 0.3172 - val_accuracy: 1.0000\n",
      "\n",
      "Epoch 00061: val_accuracy did not improve from 1.00000\n",
      "Epoch 62/300\n",
      "2/2 [==============================] - 0s 51ms/step - loss: 0.2308 - accuracy: 0.9775 - val_loss: 0.3092 - val_accuracy: 1.0000\n",
      "\n",
      "Epoch 00062: val_accuracy did not improve from 1.00000\n",
      "Epoch 63/300\n",
      "2/2 [==============================] - 0s 48ms/step - loss: 0.2276 - accuracy: 0.9708 - val_loss: 0.3048 - val_accuracy: 0.9524\n",
      "\n",
      "Epoch 00063: val_accuracy did not improve from 1.00000\n",
      "Epoch 64/300\n",
      "2/2 [==============================] - 0s 49ms/step - loss: 0.2192 - accuracy: 0.9775 - val_loss: 0.3051 - val_accuracy: 0.9524\n",
      "\n",
      "Epoch 00064: val_accuracy did not improve from 1.00000\n",
      "Epoch 65/300\n",
      "2/2 [==============================] - 0s 49ms/step - loss: 0.2125 - accuracy: 0.9708 - val_loss: 0.2993 - val_accuracy: 0.9524\n",
      "\n",
      "Epoch 00065: val_accuracy did not improve from 1.00000\n",
      "Epoch 66/300\n",
      "2/2 [==============================] - 0s 47ms/step - loss: 0.1961 - accuracy: 0.9841 - val_loss: 0.2884 - val_accuracy: 0.9524\n",
      "\n",
      "Epoch 00066: val_accuracy did not improve from 1.00000\n",
      "Epoch 67/300\n",
      "2/2 [==============================] - 0s 49ms/step - loss: 0.2051 - accuracy: 0.9708 - val_loss: 0.2713 - val_accuracy: 1.0000\n",
      "\n",
      "Epoch 00067: val_accuracy did not improve from 1.00000\n",
      "Epoch 68/300\n",
      "2/2 [==============================] - 0s 47ms/step - loss: 0.1977 - accuracy: 0.9708 - val_loss: 0.2640 - val_accuracy: 1.0000\n",
      "\n",
      "Epoch 00068: val_accuracy did not improve from 1.00000\n",
      "Epoch 69/300\n",
      "2/2 [==============================] - 0s 55ms/step - loss: 0.1947 - accuracy: 0.9708 - val_loss: 0.2611 - val_accuracy: 0.9524\n",
      "\n",
      "Epoch 00069: val_accuracy did not improve from 1.00000\n",
      "Epoch 70/300\n",
      "2/2 [==============================] - 0s 46ms/step - loss: 0.1802 - accuracy: 0.9841 - val_loss: 0.2625 - val_accuracy: 0.9524\n",
      "\n",
      "Epoch 00070: val_accuracy did not improve from 1.00000\n",
      "Epoch 71/300\n",
      "2/2 [==============================] - 0s 61ms/step - loss: 0.1745 - accuracy: 0.9775 - val_loss: 0.2494 - val_accuracy: 0.9524\n",
      "\n",
      "Epoch 00071: val_accuracy did not improve from 1.00000\n",
      "Epoch 72/300\n",
      "2/2 [==============================] - 0s 55ms/step - loss: 0.1688 - accuracy: 0.9775 - val_loss: 0.2373 - val_accuracy: 1.0000\n",
      "\n",
      "Epoch 00072: val_accuracy did not improve from 1.00000\n",
      "Epoch 73/300\n",
      "2/2 [==============================] - 0s 48ms/step - loss: 0.1548 - accuracy: 0.9841 - val_loss: 0.2315 - val_accuracy: 1.0000\n",
      "\n",
      "Epoch 00073: val_accuracy did not improve from 1.00000\n",
      "Epoch 74/300\n",
      "2/2 [==============================] - 0s 48ms/step - loss: 0.1619 - accuracy: 0.9775 - val_loss: 0.2298 - val_accuracy: 0.9524\n",
      "\n",
      "Epoch 00074: val_accuracy did not improve from 1.00000\n",
      "Epoch 75/300\n",
      "2/2 [==============================] - 0s 48ms/step - loss: 0.1498 - accuracy: 0.9841 - val_loss: 0.2298 - val_accuracy: 0.9524\n",
      "\n",
      "Epoch 00075: val_accuracy did not improve from 1.00000\n",
      "Epoch 76/300\n",
      "2/2 [==============================] - 0s 49ms/step - loss: 0.1517 - accuracy: 0.9775 - val_loss: 0.2185 - val_accuracy: 0.9524\n",
      "\n",
      "Epoch 00076: val_accuracy did not improve from 1.00000\n",
      "Epoch 77/300\n",
      "2/2 [==============================] - 0s 57ms/step - loss: 0.1451 - accuracy: 0.9775 - val_loss: 0.2090 - val_accuracy: 1.0000\n",
      "\n",
      "Epoch 00077: val_accuracy did not improve from 1.00000\n",
      "Epoch 78/300\n",
      "2/2 [==============================] - 0s 51ms/step - loss: 0.1324 - accuracy: 0.9841 - val_loss: 0.2043 - val_accuracy: 1.0000\n",
      "\n",
      "Epoch 00078: val_accuracy did not improve from 1.00000\n",
      "Epoch 79/300\n",
      "2/2 [==============================] - 0s 51ms/step - loss: 0.1449 - accuracy: 0.9775 - val_loss: 0.1989 - val_accuracy: 1.0000\n",
      "\n",
      "Epoch 00079: val_accuracy did not improve from 1.00000\n",
      "Epoch 80/300\n",
      "2/2 [==============================] - 0s 49ms/step - loss: 0.1486 - accuracy: 0.9708 - val_loss: 0.1956 - val_accuracy: 1.0000\n",
      "\n",
      "Epoch 00080: val_accuracy did not improve from 1.00000\n",
      "Epoch 81/300\n"
     ]
    },
    {
     "name": "stdout",
     "output_type": "stream",
     "text": [
      "2/2 [==============================] - 0s 45ms/step - loss: 0.1331 - accuracy: 0.9708 - val_loss: 0.1952 - val_accuracy: 0.9524\n",
      "\n",
      "Epoch 00081: val_accuracy did not improve from 1.00000\n",
      "Epoch 82/300\n",
      "2/2 [==============================] - 0s 47ms/step - loss: 0.1281 - accuracy: 0.9775 - val_loss: 0.1947 - val_accuracy: 0.9524\n",
      "\n",
      "Epoch 00082: val_accuracy did not improve from 1.00000\n",
      "Epoch 83/300\n",
      "2/2 [==============================] - 0s 54ms/step - loss: 0.1258 - accuracy: 0.9775 - val_loss: 0.1885 - val_accuracy: 0.9524\n",
      "\n",
      "Epoch 00083: val_accuracy did not improve from 1.00000\n",
      "Epoch 84/300\n",
      "2/2 [==============================] - 0s 55ms/step - loss: 0.1302 - accuracy: 0.9708 - val_loss: 0.1792 - val_accuracy: 1.0000\n",
      "\n",
      "Epoch 00084: val_accuracy did not improve from 1.00000\n",
      "Epoch 85/300\n",
      "2/2 [==============================] - 0s 47ms/step - loss: 0.1214 - accuracy: 0.9775 - val_loss: 0.1746 - val_accuracy: 1.0000\n",
      "\n",
      "Epoch 00085: val_accuracy did not improve from 1.00000\n",
      "Epoch 86/300\n",
      "2/2 [==============================] - 0s 48ms/step - loss: 0.1238 - accuracy: 0.9775 - val_loss: 0.1726 - val_accuracy: 0.9524\n",
      "\n",
      "Epoch 00086: val_accuracy did not improve from 1.00000\n",
      "Epoch 87/300\n",
      "2/2 [==============================] - 0s 52ms/step - loss: 0.1241 - accuracy: 0.9775 - val_loss: 0.1696 - val_accuracy: 0.9524\n",
      "\n",
      "Epoch 00087: val_accuracy did not improve from 1.00000\n",
      "Epoch 88/300\n",
      "2/2 [==============================] - 0s 58ms/step - loss: 0.1125 - accuracy: 0.9775 - val_loss: 0.1650 - val_accuracy: 1.0000\n",
      "\n",
      "Epoch 00088: val_accuracy did not improve from 1.00000\n",
      "Epoch 89/300\n",
      "2/2 [==============================] - 0s 50ms/step - loss: 0.0967 - accuracy: 0.9841 - val_loss: 0.1624 - val_accuracy: 1.0000\n",
      "\n",
      "Epoch 00089: val_accuracy did not improve from 1.00000\n",
      "Epoch 90/300\n",
      "2/2 [==============================] - 0s 51ms/step - loss: 0.1089 - accuracy: 0.9775 - val_loss: 0.1592 - val_accuracy: 1.0000\n",
      "\n",
      "Epoch 00090: val_accuracy did not improve from 1.00000\n",
      "Epoch 91/300\n",
      "2/2 [==============================] - 0s 46ms/step - loss: 0.1153 - accuracy: 0.9708 - val_loss: 0.1565 - val_accuracy: 1.0000\n",
      "\n",
      "Epoch 00091: val_accuracy did not improve from 1.00000\n",
      "Epoch 92/300\n",
      "2/2 [==============================] - 0s 44ms/step - loss: 0.1014 - accuracy: 0.9775 - val_loss: 0.1551 - val_accuracy: 0.9524\n",
      "\n",
      "Epoch 00092: val_accuracy did not improve from 1.00000\n",
      "Epoch 93/300\n",
      "2/2 [==============================] - 0s 48ms/step - loss: 0.0987 - accuracy: 0.9775 - val_loss: 0.1587 - val_accuracy: 0.9524\n",
      "\n",
      "Epoch 00093: val_accuracy did not improve from 1.00000\n",
      "Epoch 94/300\n",
      "2/2 [==============================] - 0s 60ms/step - loss: 0.1172 - accuracy: 0.9708 - val_loss: 0.1521 - val_accuracy: 0.9524\n",
      "\n",
      "Epoch 00094: val_accuracy did not improve from 1.00000\n",
      "Epoch 95/300\n",
      "2/2 [==============================] - 0s 53ms/step - loss: 0.1116 - accuracy: 0.9708 - val_loss: 0.1471 - val_accuracy: 1.0000\n",
      "\n",
      "Epoch 00095: val_accuracy did not improve from 1.00000\n",
      "Epoch 96/300\n",
      "2/2 [==============================] - 0s 47ms/step - loss: 0.0994 - accuracy: 0.9775 - val_loss: 0.1451 - val_accuracy: 1.0000\n",
      "\n",
      "Epoch 00096: val_accuracy did not improve from 1.00000\n",
      "Epoch 97/300\n",
      "2/2 [==============================] - 0s 53ms/step - loss: 0.1091 - accuracy: 0.9708 - val_loss: 0.1435 - val_accuracy: 1.0000\n",
      "\n",
      "Epoch 00097: val_accuracy did not improve from 1.00000\n",
      "Epoch 98/300\n",
      "2/2 [==============================] - 0s 47ms/step - loss: 0.0917 - accuracy: 0.9775 - val_loss: 0.1426 - val_accuracy: 0.9524\n",
      "\n",
      "Epoch 00098: val_accuracy did not improve from 1.00000\n",
      "Epoch 99/300\n",
      "2/2 [==============================] - 0s 51ms/step - loss: 0.0903 - accuracy: 0.9775 - val_loss: 0.1394 - val_accuracy: 1.0000\n",
      "\n",
      "Epoch 00099: val_accuracy did not improve from 1.00000\n",
      "Epoch 100/300\n",
      "2/2 [==============================] - 0s 50ms/step - loss: 0.0891 - accuracy: 0.9775 - val_loss: 0.1369 - val_accuracy: 1.0000\n",
      "\n",
      "Epoch 00100: val_accuracy did not improve from 1.00000\n",
      "Epoch 101/300\n",
      "2/2 [==============================] - 0s 43ms/step - loss: 0.0905 - accuracy: 0.9775 - val_loss: 0.1354 - val_accuracy: 1.0000\n",
      "\n",
      "Epoch 00101: val_accuracy did not improve from 1.00000\n",
      "Epoch 102/300\n",
      "2/2 [==============================] - 0s 57ms/step - loss: 0.0964 - accuracy: 0.9708 - val_loss: 0.1335 - val_accuracy: 1.0000\n",
      "\n",
      "Epoch 00102: val_accuracy did not improve from 1.00000\n",
      "Epoch 103/300\n",
      "2/2 [==============================] - 0s 47ms/step - loss: 0.0774 - accuracy: 0.9841 - val_loss: 0.1358 - val_accuracy: 0.9524\n",
      "\n",
      "Epoch 00103: val_accuracy did not improve from 1.00000\n",
      "Epoch 104/300\n",
      "2/2 [==============================] - 0s 56ms/step - loss: 0.0968 - accuracy: 0.9708 - val_loss: 0.1321 - val_accuracy: 0.9524\n",
      "\n",
      "Epoch 00104: val_accuracy did not improve from 1.00000\n",
      "Epoch 105/300\n",
      "2/2 [==============================] - 0s 48ms/step - loss: 0.0921 - accuracy: 0.9708 - val_loss: 0.1302 - val_accuracy: 1.0000\n",
      "\n",
      "Epoch 00105: val_accuracy did not improve from 1.00000\n",
      "Epoch 106/300\n",
      "2/2 [==============================] - 0s 58ms/step - loss: 0.0963 - accuracy: 0.9708 - val_loss: 0.1293 - val_accuracy: 1.0000\n",
      "\n",
      "Epoch 00106: val_accuracy did not improve from 1.00000\n",
      "Epoch 107/300\n",
      "2/2 [==============================] - 0s 58ms/step - loss: 0.0858 - accuracy: 0.9775 - val_loss: 0.1284 - val_accuracy: 1.0000\n",
      "\n",
      "Epoch 00107: val_accuracy did not improve from 1.00000\n",
      "Epoch 108/300\n",
      "2/2 [==============================] - 0s 52ms/step - loss: 0.0930 - accuracy: 0.9708 - val_loss: 0.1275 - val_accuracy: 1.0000\n",
      "\n",
      "Epoch 00108: val_accuracy did not improve from 1.00000\n",
      "Epoch 109/300\n",
      "2/2 [==============================] - ETA: 0s - loss: 0.1153 - accuracy: 0.96 - 0s 50ms/step - loss: 0.0944 - accuracy: 0.9708 - val_loss: 0.1270 - val_accuracy: 1.0000\n",
      "\n",
      "Epoch 00109: val_accuracy did not improve from 1.00000\n",
      "Epoch 110/300\n",
      "2/2 [==============================] - 0s 51ms/step - loss: 0.0946 - accuracy: 0.9708 - val_loss: 0.1257 - val_accuracy: 1.0000\n",
      "\n",
      "Epoch 00110: val_accuracy did not improve from 1.00000\n",
      "Epoch 111/300\n",
      "2/2 [==============================] - 0s 45ms/step - loss: 0.0693 - accuracy: 0.9841 - val_loss: 0.1247 - val_accuracy: 1.0000\n",
      "\n",
      "Epoch 00111: val_accuracy did not improve from 1.00000\n",
      "Epoch 112/300\n",
      "2/2 [==============================] - 0s 45ms/step - loss: 0.0897 - accuracy: 0.9708 - val_loss: 0.1266 - val_accuracy: 0.9524\n",
      "\n",
      "Epoch 00112: val_accuracy did not improve from 1.00000\n",
      "Epoch 113/300\n",
      "2/2 [==============================] - 0s 52ms/step - loss: 0.0911 - accuracy: 0.9708 - val_loss: 0.1242 - val_accuracy: 1.0000\n",
      "\n",
      "Epoch 00113: val_accuracy did not improve from 1.00000\n",
      "Epoch 114/300\n",
      "2/2 [==============================] - 0s 53ms/step - loss: 0.0891 - accuracy: 0.9708 - val_loss: 0.1225 - val_accuracy: 1.0000\n",
      "\n",
      "Epoch 00114: val_accuracy did not improve from 1.00000\n",
      "Epoch 115/300\n",
      "2/2 [==============================] - 0s 51ms/step - loss: 0.0761 - accuracy: 0.9841 - val_loss: 0.1243 - val_accuracy: 0.9524\n",
      "\n",
      "Epoch 00115: val_accuracy did not improve from 1.00000\n",
      "Epoch 116/300\n",
      "2/2 [==============================] - 0s 53ms/step - loss: 0.0795 - accuracy: 0.9775 - val_loss: 0.1216 - val_accuracy: 1.0000\n",
      "\n",
      "Epoch 00116: val_accuracy did not improve from 1.00000\n",
      "Epoch 117/300\n",
      "2/2 [==============================] - 0s 44ms/step - loss: 0.0906 - accuracy: 0.9708 - val_loss: 0.1287 - val_accuracy: 0.9048\n",
      "\n",
      "Epoch 00117: val_accuracy did not improve from 1.00000\n",
      "Epoch 118/300\n",
      "2/2 [==============================] - 0s 43ms/step - loss: 0.0876 - accuracy: 0.9708 - val_loss: 0.1246 - val_accuracy: 0.9048\n",
      "\n",
      "Epoch 00118: val_accuracy did not improve from 1.00000\n",
      "Epoch 119/300\n",
      "2/2 [==============================] - 0s 48ms/step - loss: 0.0829 - accuracy: 0.9708 - val_loss: 0.1200 - val_accuracy: 1.0000\n",
      "\n",
      "Epoch 00119: val_accuracy did not improve from 1.00000\n",
      "Epoch 120/300\n",
      "2/2 [==============================] - 0s 49ms/step - loss: 0.0680 - accuracy: 0.9841 - val_loss: 0.1260 - val_accuracy: 0.9524\n",
      "\n",
      "Epoch 00120: val_accuracy did not improve from 1.00000\n",
      "Epoch 121/300\n",
      "2/2 [==============================] - 0s 46ms/step - loss: 0.0821 - accuracy: 0.9775 - val_loss: 0.1210 - val_accuracy: 0.9524\n",
      "\n",
      "Epoch 00121: val_accuracy did not improve from 1.00000\n",
      "Epoch 122/300\n"
     ]
    },
    {
     "name": "stdout",
     "output_type": "stream",
     "text": [
      "2/2 [==============================] - 0s 46ms/step - loss: 0.0745 - accuracy: 0.9775 - val_loss: 0.1214 - val_accuracy: 0.9524\n",
      "\n",
      "Epoch 00122: val_accuracy did not improve from 1.00000\n",
      "Epoch 123/300\n",
      "2/2 [==============================] - 0s 45ms/step - loss: 0.0781 - accuracy: 0.9775 - val_loss: 0.1300 - val_accuracy: 0.9048\n",
      "\n",
      "Epoch 00123: val_accuracy did not improve from 1.00000\n",
      "Epoch 124/300\n",
      "2/2 [==============================] - 0s 50ms/step - loss: 0.0746 - accuracy: 0.9775 - val_loss: 0.1274 - val_accuracy: 0.9048\n",
      "\n",
      "Epoch 00124: val_accuracy did not improve from 1.00000\n",
      "Epoch 125/300\n",
      "2/2 [==============================] - 0s 45ms/step - loss: 0.0871 - accuracy: 0.9708 - val_loss: 0.1186 - val_accuracy: 1.0000\n",
      "\n",
      "Epoch 00125: val_accuracy did not improve from 1.00000\n",
      "Epoch 126/300\n",
      "2/2 [==============================] - 0s 46ms/step - loss: 0.0695 - accuracy: 0.9775 - val_loss: 0.1177 - val_accuracy: 0.9524\n",
      "\n",
      "Epoch 00126: val_accuracy did not improve from 1.00000\n",
      "Epoch 127/300\n",
      "2/2 [==============================] - 0s 48ms/step - loss: 0.0856 - accuracy: 0.9708 - val_loss: 0.1169 - val_accuracy: 1.0000\n",
      "\n",
      "Epoch 00127: val_accuracy did not improve from 1.00000\n",
      "Epoch 128/300\n",
      "2/2 [==============================] - 0s 45ms/step - loss: 0.0856 - accuracy: 0.9708 - val_loss: 0.1168 - val_accuracy: 1.0000\n",
      "\n",
      "Epoch 00128: val_accuracy did not improve from 1.00000\n",
      "Epoch 129/300\n",
      "2/2 [==============================] - 0s 47ms/step - loss: 0.0762 - accuracy: 0.9775 - val_loss: 0.1178 - val_accuracy: 1.0000\n",
      "\n",
      "Epoch 00129: val_accuracy did not improve from 1.00000\n",
      "Epoch 130/300\n",
      "2/2 [==============================] - 0s 48ms/step - loss: 0.0740 - accuracy: 0.9775 - val_loss: 0.1197 - val_accuracy: 0.9524\n",
      "\n",
      "Epoch 00130: val_accuracy did not improve from 1.00000\n",
      "Epoch 131/300\n",
      "2/2 [==============================] - 0s 44ms/step - loss: 0.0692 - accuracy: 0.9775 - val_loss: 0.1173 - val_accuracy: 1.0000\n",
      "\n",
      "Epoch 00131: val_accuracy did not improve from 1.00000\n",
      "Epoch 132/300\n",
      "2/2 [==============================] - 0s 51ms/step - loss: 0.0701 - accuracy: 0.9775 - val_loss: 0.1174 - val_accuracy: 1.0000\n",
      "\n",
      "Epoch 00132: val_accuracy did not improve from 1.00000\n",
      "Epoch 133/300\n",
      "2/2 [==============================] - 0s 46ms/step - loss: 0.0700 - accuracy: 0.9775 - val_loss: 0.1156 - val_accuracy: 1.0000\n",
      "\n",
      "Epoch 00133: val_accuracy did not improve from 1.00000\n",
      "Epoch 134/300\n",
      "2/2 [==============================] - 0s 59ms/step - loss: 0.0720 - accuracy: 0.9775 - val_loss: 0.1155 - val_accuracy: 1.0000\n",
      "\n",
      "Epoch 00134: val_accuracy did not improve from 1.00000\n",
      "Epoch 135/300\n",
      "2/2 [==============================] - 0s 47ms/step - loss: 0.0838 - accuracy: 0.9708 - val_loss: 0.1184 - val_accuracy: 0.9524\n",
      "\n",
      "Epoch 00135: val_accuracy did not improve from 1.00000\n",
      "Epoch 136/300\n",
      "2/2 [==============================] - 0s 46ms/step - loss: 0.0647 - accuracy: 0.9841 - val_loss: 0.1154 - val_accuracy: 1.0000\n",
      "\n",
      "Epoch 00136: val_accuracy did not improve from 1.00000\n",
      "Epoch 137/300\n",
      "2/2 [==============================] - 0s 48ms/step - loss: 0.0667 - accuracy: 0.9775 - val_loss: 0.1185 - val_accuracy: 0.9524\n",
      "\n",
      "Epoch 00137: val_accuracy did not improve from 1.00000\n",
      "Epoch 138/300\n",
      "2/2 [==============================] - 0s 44ms/step - loss: 0.0681 - accuracy: 0.9775 - val_loss: 0.1214 - val_accuracy: 0.9048\n",
      "\n",
      "Epoch 00138: val_accuracy did not improve from 1.00000\n",
      "Epoch 139/300\n",
      "2/2 [==============================] - 0s 47ms/step - loss: 0.0832 - accuracy: 0.9708 - val_loss: 0.1211 - val_accuracy: 0.9048\n",
      "\n",
      "Epoch 00139: val_accuracy did not improve from 1.00000\n",
      "Epoch 140/300\n",
      "2/2 [==============================] - 0s 56ms/step - loss: 0.0687 - accuracy: 0.9775 - val_loss: 0.1161 - val_accuracy: 1.0000\n",
      "\n",
      "Epoch 00140: val_accuracy did not improve from 1.00000\n",
      "Epoch 141/300\n",
      "2/2 [==============================] - 0s 46ms/step - loss: 0.0636 - accuracy: 0.9775 - val_loss: 0.1148 - val_accuracy: 1.0000\n",
      "\n",
      "Epoch 00141: val_accuracy did not improve from 1.00000\n",
      "Epoch 142/300\n",
      "2/2 [==============================] - 0s 45ms/step - loss: 0.0654 - accuracy: 0.9775 - val_loss: 0.1146 - val_accuracy: 1.0000\n",
      "\n",
      "Epoch 00142: val_accuracy did not improve from 1.00000\n",
      "Epoch 143/300\n",
      "2/2 [==============================] - 0s 48ms/step - loss: 0.0679 - accuracy: 0.9775 - val_loss: 0.1155 - val_accuracy: 1.0000\n",
      "\n",
      "Epoch 00143: val_accuracy did not improve from 1.00000\n",
      "Epoch 144/300\n",
      "2/2 [==============================] - 0s 43ms/step - loss: 0.0812 - accuracy: 0.9708 - val_loss: 0.1211 - val_accuracy: 0.9048\n",
      "\n",
      "Epoch 00144: val_accuracy did not improve from 1.00000\n",
      "Epoch 145/300\n",
      "2/2 [==============================] - 0s 63ms/step - loss: 0.0788 - accuracy: 0.9708 - val_loss: 0.1190 - val_accuracy: 0.9048\n",
      "\n",
      "Epoch 00145: val_accuracy did not improve from 1.00000\n",
      "Epoch 146/300\n",
      "2/2 [==============================] - 0s 62ms/step - loss: 0.0592 - accuracy: 0.9841 - val_loss: 0.1140 - val_accuracy: 1.0000\n",
      "\n",
      "Epoch 00146: val_accuracy did not improve from 1.00000\n",
      "Epoch 147/300\n",
      "2/2 [==============================] - 0s 45ms/step - loss: 0.0602 - accuracy: 0.9841 - val_loss: 0.1140 - val_accuracy: 1.0000\n",
      "\n",
      "Epoch 00147: val_accuracy did not improve from 1.00000\n",
      "Epoch 148/300\n",
      "2/2 [==============================] - 0s 51ms/step - loss: 0.0528 - accuracy: 0.9841 - val_loss: 0.1209 - val_accuracy: 0.9048\n",
      "\n",
      "Epoch 00148: val_accuracy did not improve from 1.00000\n",
      "Epoch 149/300\n",
      "2/2 [==============================] - 0s 48ms/step - loss: 0.0794 - accuracy: 0.9708 - val_loss: 0.1333 - val_accuracy: 0.9048\n",
      "\n",
      "Epoch 00149: val_accuracy did not improve from 1.00000\n",
      "Epoch 150/300\n",
      "2/2 [==============================] - 0s 44ms/step - loss: 0.0643 - accuracy: 0.9775 - val_loss: 0.1198 - val_accuracy: 0.9048\n",
      "\n",
      "Epoch 00150: val_accuracy did not improve from 1.00000\n",
      "Epoch 151/300\n",
      "2/2 [==============================] - 0s 51ms/step - loss: 0.0646 - accuracy: 0.9775 - val_loss: 0.1133 - val_accuracy: 1.0000\n",
      "\n",
      "Epoch 00151: val_accuracy did not improve from 1.00000\n",
      "Epoch 152/300\n",
      "2/2 [==============================] - 0s 45ms/step - loss: 0.0691 - accuracy: 0.9775 - val_loss: 0.1131 - val_accuracy: 0.9524\n",
      "\n",
      "Epoch 00152: val_accuracy did not improve from 1.00000\n",
      "Epoch 153/300\n",
      "2/2 [==============================] - 0s 44ms/step - loss: 0.0837 - accuracy: 0.9708 - val_loss: 0.1169 - val_accuracy: 0.9524\n",
      "\n",
      "Epoch 00153: val_accuracy did not improve from 1.00000\n",
      "Epoch 154/300\n",
      "2/2 [==============================] - 0s 46ms/step - loss: 0.0706 - accuracy: 0.9775 - val_loss: 0.1196 - val_accuracy: 0.9048\n",
      "\n",
      "Epoch 00154: val_accuracy did not improve from 1.00000\n",
      "Epoch 155/300\n",
      "2/2 [==============================] - 0s 48ms/step - loss: 0.0684 - accuracy: 0.9775 - val_loss: 0.1195 - val_accuracy: 0.9048\n",
      "\n",
      "Epoch 00155: val_accuracy did not improve from 1.00000\n",
      "Epoch 156/300\n",
      "2/2 [==============================] - 0s 50ms/step - loss: 0.0578 - accuracy: 0.9775 - val_loss: 0.1165 - val_accuracy: 0.9524\n",
      "\n",
      "Epoch 00156: val_accuracy did not improve from 1.00000\n",
      "Epoch 157/300\n",
      "2/2 [==============================] - 0s 47ms/step - loss: 0.0798 - accuracy: 0.9708 - val_loss: 0.1139 - val_accuracy: 1.0000\n",
      "\n",
      "Epoch 00157: val_accuracy did not improve from 1.00000\n",
      "Epoch 158/300\n",
      "2/2 [==============================] - 0s 44ms/step - loss: 0.0699 - accuracy: 0.9775 - val_loss: 0.1130 - val_accuracy: 1.0000\n",
      "\n",
      "Epoch 00158: val_accuracy did not improve from 1.00000\n",
      "Epoch 159/300\n",
      "2/2 [==============================] - 0s 53ms/step - loss: 0.0701 - accuracy: 0.9775 - val_loss: 0.1145 - val_accuracy: 1.0000\n",
      "\n",
      "Epoch 00159: val_accuracy did not improve from 1.00000\n",
      "Epoch 160/300\n",
      "2/2 [==============================] - 0s 49ms/step - loss: 0.0800 - accuracy: 0.9708 - val_loss: 0.1186 - val_accuracy: 0.9048\n",
      "\n",
      "Epoch 00160: val_accuracy did not improve from 1.00000\n",
      "Epoch 161/300\n",
      "2/2 [==============================] - 0s 45ms/step - loss: 0.0711 - accuracy: 0.9775 - val_loss: 0.1179 - val_accuracy: 0.9048\n",
      "\n",
      "Epoch 00161: val_accuracy did not improve from 1.00000\n",
      "Epoch 162/300\n",
      "2/2 [==============================] - 0s 42ms/step - loss: 0.0698 - accuracy: 0.9775 - val_loss: 0.1183 - val_accuracy: 0.9048\n",
      "\n",
      "Epoch 00162: val_accuracy did not improve from 1.00000\n",
      "Epoch 163/300\n"
     ]
    },
    {
     "name": "stdout",
     "output_type": "stream",
     "text": [
      "2/2 [==============================] - 0s 44ms/step - loss: 0.0593 - accuracy: 0.9775 - val_loss: 0.1173 - val_accuracy: 0.9524\n",
      "\n",
      "Epoch 00163: val_accuracy did not improve from 1.00000\n",
      "Epoch 164/300\n",
      "2/2 [==============================] - 0s 43ms/step - loss: 0.0810 - accuracy: 0.9708 - val_loss: 0.1160 - val_accuracy: 0.9524\n",
      "\n",
      "Epoch 00164: val_accuracy did not improve from 1.00000\n",
      "Epoch 165/300\n",
      "2/2 [==============================] - 0s 53ms/step - loss: 0.0710 - accuracy: 0.9775 - val_loss: 0.1149 - val_accuracy: 0.9524\n",
      "\n",
      "Epoch 00165: val_accuracy did not improve from 1.00000\n",
      "Epoch 166/300\n",
      "2/2 [==============================] - 0s 47ms/step - loss: 0.0677 - accuracy: 0.9775 - val_loss: 0.1160 - val_accuracy: 0.9524\n",
      "\n",
      "Epoch 00166: val_accuracy did not improve from 1.00000\n",
      "Epoch 167/300\n",
      "2/2 [==============================] - 0s 50ms/step - loss: 0.0575 - accuracy: 0.9841 - val_loss: 0.1183 - val_accuracy: 0.9048\n",
      "\n",
      "Epoch 00167: val_accuracy did not improve from 1.00000\n",
      "Epoch 168/300\n",
      "2/2 [==============================] - 0s 51ms/step - loss: 0.0673 - accuracy: 0.9775 - val_loss: 0.1290 - val_accuracy: 0.9048\n",
      "\n",
      "Epoch 00168: val_accuracy did not improve from 1.00000\n",
      "Epoch 169/300\n",
      "2/2 [==============================] - 0s 48ms/step - loss: 0.0755 - accuracy: 0.9708 - val_loss: 0.1240 - val_accuracy: 0.9048\n",
      "\n",
      "Epoch 00169: val_accuracy did not improve from 1.00000\n",
      "Epoch 170/300\n",
      "2/2 [==============================] - 0s 43ms/step - loss: 0.0750 - accuracy: 0.9708 - val_loss: 0.1135 - val_accuracy: 1.0000\n",
      "\n",
      "Epoch 00170: val_accuracy did not improve from 1.00000\n",
      "Epoch 171/300\n",
      "2/2 [==============================] - 0s 47ms/step - loss: 0.0696 - accuracy: 0.9775 - val_loss: 0.1136 - val_accuracy: 0.9524\n",
      "\n",
      "Epoch 00171: val_accuracy did not improve from 1.00000\n",
      "Epoch 172/300\n",
      "2/2 [==============================] - 0s 52ms/step - loss: 0.0719 - accuracy: 0.9775 - val_loss: 0.1128 - val_accuracy: 0.9524\n",
      "\n",
      "Epoch 00172: val_accuracy did not improve from 1.00000\n",
      "Epoch 173/300\n",
      "2/2 [==============================] - 0s 49ms/step - loss: 0.0814 - accuracy: 0.9708 - val_loss: 0.1199 - val_accuracy: 0.9048\n",
      "\n",
      "Epoch 00173: val_accuracy did not improve from 1.00000\n",
      "Epoch 174/300\n",
      "2/2 [==============================] - 0s 46ms/step - loss: 0.0646 - accuracy: 0.9775 - val_loss: 0.1273 - val_accuracy: 0.9048\n",
      "\n",
      "Epoch 00174: val_accuracy did not improve from 1.00000\n",
      "Epoch 175/300\n",
      "2/2 [==============================] - 0s 49ms/step - loss: 0.0606 - accuracy: 0.9841 - val_loss: 0.1312 - val_accuracy: 0.9048\n",
      "\n",
      "Epoch 00175: val_accuracy did not improve from 1.00000\n",
      "Epoch 176/300\n",
      "2/2 [==============================] - 0s 42ms/step - loss: 0.0762 - accuracy: 0.9708 - val_loss: 0.1358 - val_accuracy: 0.9048\n",
      "\n",
      "Epoch 00176: val_accuracy did not improve from 1.00000\n",
      "Epoch 177/300\n",
      "2/2 [==============================] - 0s 51ms/step - loss: 0.0646 - accuracy: 0.9775 - val_loss: 0.1190 - val_accuracy: 0.9048\n",
      "\n",
      "Epoch 00177: val_accuracy did not improve from 1.00000\n",
      "Epoch 178/300\n",
      "2/2 [==============================] - 0s 47ms/step - loss: 0.0727 - accuracy: 0.9708 - val_loss: 0.1144 - val_accuracy: 1.0000\n",
      "\n",
      "Epoch 00178: val_accuracy did not improve from 1.00000\n",
      "Epoch 179/300\n",
      "2/2 [==============================] - 0s 45ms/step - loss: 0.0613 - accuracy: 0.9775 - val_loss: 0.1132 - val_accuracy: 0.9524\n",
      "\n",
      "Epoch 00179: val_accuracy did not improve from 1.00000\n",
      "Epoch 180/300\n",
      "2/2 [==============================] - 0s 45ms/step - loss: 0.0694 - accuracy: 0.9775 - val_loss: 0.1140 - val_accuracy: 1.0000\n",
      "\n",
      "Epoch 00180: val_accuracy did not improve from 1.00000\n",
      "Epoch 181/300\n",
      "2/2 [==============================] - 0s 42ms/step - loss: 0.0762 - accuracy: 0.9708 - val_loss: 0.1237 - val_accuracy: 0.9048\n",
      "\n",
      "Epoch 00181: val_accuracy did not improve from 1.00000\n",
      "Epoch 182/300\n",
      "2/2 [==============================] - 0s 53ms/step - loss: 0.0740 - accuracy: 0.9708 - val_loss: 0.1254 - val_accuracy: 0.9048\n",
      "\n",
      "Epoch 00182: val_accuracy did not improve from 1.00000\n",
      "Epoch 183/300\n",
      "2/2 [==============================] - 0s 46ms/step - loss: 0.0679 - accuracy: 0.9775 - val_loss: 0.1156 - val_accuracy: 0.9524\n",
      "\n",
      "Epoch 00183: val_accuracy did not improve from 1.00000\n",
      "Epoch 184/300\n",
      "2/2 [==============================] - 0s 58ms/step - loss: 0.0675 - accuracy: 0.9775 - val_loss: 0.1167 - val_accuracy: 0.9524\n",
      "\n",
      "Epoch 00184: val_accuracy did not improve from 1.00000\n",
      "Epoch 185/300\n",
      "2/2 [==============================] - 0s 47ms/step - loss: 0.0496 - accuracy: 0.9841 - val_loss: 0.1208 - val_accuracy: 0.9048\n",
      "\n",
      "Epoch 00185: val_accuracy did not improve from 1.00000\n",
      "Epoch 186/300\n",
      "2/2 [==============================] - 0s 49ms/step - loss: 0.0539 - accuracy: 0.9841 - val_loss: 0.1285 - val_accuracy: 0.9048\n",
      "\n",
      "Epoch 00186: val_accuracy did not improve from 1.00000\n",
      "Epoch 187/300\n",
      "2/2 [==============================] - 0s 51ms/step - loss: 0.0748 - accuracy: 0.9708 - val_loss: 0.1432 - val_accuracy: 0.9048\n",
      "\n",
      "Epoch 00187: val_accuracy did not improve from 1.00000\n",
      "Epoch 188/300\n",
      "2/2 [==============================] - 0s 49ms/step - loss: 0.0736 - accuracy: 0.9775 - val_loss: 0.1258 - val_accuracy: 0.9048\n",
      "\n",
      "Epoch 00188: val_accuracy did not improve from 1.00000\n",
      "Epoch 189/300\n",
      "2/2 [==============================] - 0s 55ms/step - loss: 0.0574 - accuracy: 0.9841 - val_loss: 0.1162 - val_accuracy: 0.9524\n",
      "\n",
      "Epoch 00189: val_accuracy did not improve from 1.00000\n",
      "Epoch 190/300\n",
      "2/2 [==============================] - 0s 45ms/step - loss: 0.0649 - accuracy: 0.9775 - val_loss: 0.1181 - val_accuracy: 0.9524\n",
      "\n",
      "Epoch 00190: val_accuracy did not improve from 1.00000\n",
      "Epoch 191/300\n",
      "2/2 [==============================] - 0s 56ms/step - loss: 0.0581 - accuracy: 0.9775 - val_loss: 0.1206 - val_accuracy: 0.9048\n",
      "\n",
      "Epoch 00191: val_accuracy did not improve from 1.00000\n",
      "Epoch 192/300\n",
      "2/2 [==============================] - 0s 86ms/step - loss: 0.0782 - accuracy: 0.9708 - val_loss: 0.1248 - val_accuracy: 0.9048\n",
      "\n",
      "Epoch 00192: val_accuracy did not improve from 1.00000\n",
      "Epoch 193/300\n",
      "2/2 [==============================] - 0s 79ms/step - loss: 0.0613 - accuracy: 0.9775 - val_loss: 0.1237 - val_accuracy: 0.9048\n",
      "\n",
      "Epoch 00193: val_accuracy did not improve from 1.00000\n",
      "Epoch 194/300\n",
      "2/2 [==============================] - 0s 74ms/step - loss: 0.0558 - accuracy: 0.9775 - val_loss: 0.1258 - val_accuracy: 0.9048\n",
      "\n",
      "Epoch 00194: val_accuracy did not improve from 1.00000\n",
      "Epoch 195/300\n",
      "2/2 [==============================] - 0s 50ms/step - loss: 0.0716 - accuracy: 0.9708 - val_loss: 0.1254 - val_accuracy: 0.9048\n",
      "\n",
      "Epoch 00195: val_accuracy did not improve from 1.00000\n",
      "Epoch 196/300\n",
      "2/2 [==============================] - 0s 55ms/step - loss: 0.0614 - accuracy: 0.9775 - val_loss: 0.1167 - val_accuracy: 0.9524\n",
      "\n",
      "Epoch 00196: val_accuracy did not improve from 1.00000\n",
      "Epoch 197/300\n",
      "2/2 [==============================] - 0s 49ms/step - loss: 0.0603 - accuracy: 0.9775 - val_loss: 0.1167 - val_accuracy: 0.9524\n",
      "\n",
      "Epoch 00197: val_accuracy did not improve from 1.00000\n",
      "Epoch 198/300\n",
      "2/2 [==============================] - 0s 58ms/step - loss: 0.0759 - accuracy: 0.9708 - val_loss: 0.1251 - val_accuracy: 0.9048\n",
      "\n",
      "Epoch 00198: val_accuracy did not improve from 1.00000\n",
      "Epoch 199/300\n",
      "2/2 [==============================] - 0s 51ms/step - loss: 0.0570 - accuracy: 0.9775 - val_loss: 0.1253 - val_accuracy: 0.9048\n",
      "\n",
      "Epoch 00199: val_accuracy did not improve from 1.00000\n",
      "Epoch 200/300\n",
      "2/2 [==============================] - 0s 50ms/step - loss: 0.0734 - accuracy: 0.9708 - val_loss: 0.1266 - val_accuracy: 0.9048\n",
      "\n",
      "Epoch 00200: val_accuracy did not improve from 1.00000\n",
      "Epoch 201/300\n",
      "2/2 [==============================] - 0s 48ms/step - loss: 0.0727 - accuracy: 0.9708 - val_loss: 0.1212 - val_accuracy: 0.9048\n",
      "\n",
      "Epoch 00201: val_accuracy did not improve from 1.00000\n",
      "Epoch 202/300\n",
      "2/2 [==============================] - 0s 67ms/step - loss: 0.0727 - accuracy: 0.9708 - val_loss: 0.1170 - val_accuracy: 0.9524\n",
      "\n",
      "Epoch 00202: val_accuracy did not improve from 1.00000\n",
      "Epoch 203/300\n",
      "2/2 [==============================] - 0s 55ms/step - loss: 0.0715 - accuracy: 0.9708 - val_loss: 0.1162 - val_accuracy: 1.0000\n",
      "\n",
      "Epoch 00203: val_accuracy did not improve from 1.00000\n",
      "Epoch 204/300\n"
     ]
    },
    {
     "name": "stdout",
     "output_type": "stream",
     "text": [
      "2/2 [==============================] - 0s 66ms/step - loss: 0.0751 - accuracy: 0.9708 - val_loss: 0.1160 - val_accuracy: 1.0000\n",
      "\n",
      "Epoch 00204: val_accuracy did not improve from 1.00000\n",
      "Epoch 205/300\n",
      "2/2 [==============================] - 0s 48ms/step - loss: 0.0522 - accuracy: 0.9841 - val_loss: 0.1161 - val_accuracy: 1.0000\n",
      "\n",
      "Epoch 00205: val_accuracy did not improve from 1.00000\n",
      "Epoch 206/300\n",
      "2/2 [==============================] - 0s 50ms/step - loss: 0.0554 - accuracy: 0.9775 - val_loss: 0.1273 - val_accuracy: 0.9048\n",
      "\n",
      "Epoch 00206: val_accuracy did not improve from 1.00000\n",
      "Epoch 207/300\n",
      "2/2 [==============================] - 0s 53ms/step - loss: 0.0633 - accuracy: 0.9775 - val_loss: 0.1408 - val_accuracy: 0.9048\n",
      "\n",
      "Epoch 00207: val_accuracy did not improve from 1.00000\n",
      "Epoch 208/300\n",
      "2/2 [==============================] - 0s 45ms/step - loss: 0.0520 - accuracy: 0.9841 - val_loss: 0.1303 - val_accuracy: 0.9048\n",
      "\n",
      "Epoch 00208: val_accuracy did not improve from 1.00000\n",
      "Epoch 209/300\n",
      "2/2 [==============================] - 0s 49ms/step - loss: 0.0570 - accuracy: 0.9841 - val_loss: 0.1235 - val_accuracy: 0.9048\n",
      "\n",
      "Epoch 00209: val_accuracy did not improve from 1.00000\n",
      "Epoch 210/300\n",
      "2/2 [==============================] - 0s 44ms/step - loss: 0.0549 - accuracy: 0.9775 - val_loss: 0.1297 - val_accuracy: 0.9048\n",
      "\n",
      "Epoch 00210: val_accuracy did not improve from 1.00000\n",
      "Epoch 211/300\n",
      "2/2 [==============================] - 0s 46ms/step - loss: 0.0596 - accuracy: 0.9841 - val_loss: 0.1264 - val_accuracy: 0.9048\n",
      "\n",
      "Epoch 00211: val_accuracy did not improve from 1.00000\n",
      "Epoch 212/300\n",
      "2/2 [==============================] - 0s 45ms/step - loss: 0.0619 - accuracy: 0.9775 - val_loss: 0.1371 - val_accuracy: 0.9048\n",
      "\n",
      "Epoch 00212: val_accuracy did not improve from 1.00000\n"
     ]
    },
    {
     "data": {
      "text/plain": [
       "<matplotlib.legend.Legend at 0x23425a958b0>"
      ]
     },
     "execution_count": 4,
     "metadata": {},
     "output_type": "execute_result"
    },
    {
     "data": {
      "image/png": "[encoded data removed]",
      "text/plain": [
       "<Figure size 432x288 with 2 Axes>"
      ]
     },
     "metadata": {
      "needs_background": "light"
     },
     "output_type": "display_data"
    }
   ],
   "source": [
    "# 2. 모델 구성\n",
    "model = Sequential()\n",
    "model.add(Dense(60, input_dim=4, activation=\"relu\"))\n",
    "model.add(Dense(50, activation=\"relu\"))\n",
    "model.add(Dense(30, activation=\"relu\"))\n",
    "model.add(Dense(3, activation=\"softmax\"))\n",
    "\n",
    "# 3. 학습과정 설정\n",
    "model.compile(loss=\"categorical_crossentropy\",optimizer=\"adam\",metrics=['accuracy'])\n",
    "\n",
    "# 4. 학습\n",
    "hist = model.fit(train_X, train_Y, batch_size=50, epochs=300,\n",
    "                    validation_split=0.2,\n",
    "                    callbacks=[early_stopping, checkpoint])\n",
    "# 5.학습과정 표시하기\n",
    "fig, loss_ax = plt.subplots()\n",
    "loss_ax.plot(hist.history['loss'], 'y', label=\"train loss\")\n",
    "loss_ax.plot(hist.history['val_loss'], 'g', label=\"val loss\")\n",
    "loss_ax.set_xlabel(\"epochs\")\n",
    "loss_ax.set_ylabel(\"loss\")\n",
    "\n",
    "acc_ax = loss_ax.twinx() # x축 공유하는 acc_ax\n",
    "acc_ax.plot(hist.history['accuracy'], 'b', label=\"train accuracy\")\n",
    "acc_ax.plot(hist.history['val_accuracy'], 'r', label=\"val accuracy\")\n",
    "acc_ax.set_ylabel(\"accuracy\")\n",
    "\n",
    "loss_ax.legend(loc=\"upper left\")\n",
    "acc_ax.legend(loc=\"lower left\")"
   ]
  },
  {
   "cell_type": "code",
   "execution_count": 5,
   "metadata": {
    "ExecuteTime": {
     "end_time": "2021-03-27T06:53:54.125235Z",
     "start_time": "2021-03-27T06:53:54.118281Z"
    }
   },
   "outputs": [
    {
     "data": {
      "text/plain": [
       "array([0, 1, 1, 0, 2, 1, 2, 0, 0, 2, 1, 0, 2, 1, 1, 0, 1, 1, 0, 0, 1, 1,\n",
       "       1, 0, 2, 1, 0, 0, 1, 2, 1, 2, 1, 2, 2, 0, 1, 0, 1, 2, 2, 0, 2, 2,\n",
       "       1], dtype=int64)"
      ]
     },
     "execution_count": 5,
     "metadata": {},
     "output_type": "execute_result"
    }
   ],
   "source": [
    "# 예측\n",
    "real = np.argmax(test_Y, axis=1) # 실제값\n",
    "real"
   ]
  },
  {
   "cell_type": "code",
   "execution_count": 6,
   "metadata": {
    "ExecuteTime": {
     "end_time": "2021-03-27T06:54:17.778836Z",
     "start_time": "2021-03-27T06:54:17.645171Z"
    }
   },
   "outputs": [
    {
     "name": "stderr",
     "output_type": "stream",
     "text": [
      "C:\\Users\\82105\\anaconda3\\lib\\site-packages\\tensorflow\\python\\keras\\engine\\sequential.py:450: UserWarning: `model.predict_classes()` is deprecated and will be removed after 2021-01-01. Please use instead:* `np.argmax(model.predict(x), axis=-1)`,   if your model does multi-class classification   (e.g. if it uses a `softmax` last-layer activation).* `(model.predict(x) > 0.5).astype(\"int32\")`,   if your model does binary classification   (e.g. if it uses a `sigmoid` last-layer activation).\n",
      "  warnings.warn('`model.predict_classes()` is deprecated and '\n"
     ]
    },
    {
     "data": {
      "text/plain": [
       "array([0, 1, 1, 0, 2, 1, 2, 0, 0, 2, 1, 0, 2, 1, 1, 0, 1, 1, 0, 0, 1, 1,\n",
       "       1, 0, 2, 1, 0, 0, 1, 2, 1, 2, 1, 2, 2, 0, 1, 0, 1, 2, 2, 0, 2, 2,\n",
       "       1], dtype=int64)"
      ]
     },
     "execution_count": 6,
     "metadata": {},
     "output_type": "execute_result"
    }
   ],
   "source": [
    "pred = model.predict_classes(test_X)\n",
    "pred"
   ]
  },
  {
   "cell_type": "code",
   "execution_count": 7,
   "metadata": {
    "ExecuteTime": {
     "end_time": "2021-03-27T06:54:39.044165Z",
     "start_time": "2021-03-27T06:54:39.028210Z"
    }
   },
   "outputs": [
    {
     "data": {
      "text/plain": [
       "True"
      ]
     },
     "execution_count": 7,
     "metadata": {},
     "output_type": "execute_result"
    }
   ],
   "source": [
    "np.all(pred==real)"
   ]
  },
  {
   "cell_type": "code",
   "execution_count": 8,
   "metadata": {
    "ExecuteTime": {
     "end_time": "2021-03-27T06:54:47.743919Z",
     "start_time": "2021-03-27T06:54:47.678587Z"
    }
   },
   "outputs": [
    {
     "data": {
      "text/html": [
       "<div>\n",
       "<style scoped>\n",
       "    .dataframe tbody tr th:only-of-type {\n",
       "        vertical-align: middle;\n",
       "    }\n",
       "\n",
       "    .dataframe tbody tr th {\n",
       "        vertical-align: top;\n",
       "    }\n",
       "\n",
       "    .dataframe thead th {\n",
       "        text-align: right;\n",
       "    }\n",
       "</style>\n",
       "<table border=\"1\" class=\"dataframe\">\n",
       "  <thead>\n",
       "    <tr style=\"text-align: right;\">\n",
       "      <th>pred</th>\n",
       "      <th>0</th>\n",
       "      <th>1</th>\n",
       "      <th>2</th>\n",
       "    </tr>\n",
       "    <tr>\n",
       "      <th>real</th>\n",
       "      <th></th>\n",
       "      <th></th>\n",
       "      <th></th>\n",
       "    </tr>\n",
       "  </thead>\n",
       "  <tbody>\n",
       "    <tr>\n",
       "      <th>0</th>\n",
       "      <td>14</td>\n",
       "      <td>0</td>\n",
       "      <td>0</td>\n",
       "    </tr>\n",
       "    <tr>\n",
       "      <th>1</th>\n",
       "      <td>0</td>\n",
       "      <td>18</td>\n",
       "      <td>0</td>\n",
       "    </tr>\n",
       "    <tr>\n",
       "      <th>2</th>\n",
       "      <td>0</td>\n",
       "      <td>0</td>\n",
       "      <td>13</td>\n",
       "    </tr>\n",
       "  </tbody>\n",
       "</table>\n",
       "</div>"
      ],
      "text/plain": [
       "pred   0   1   2\n",
       "real            \n",
       "0     14   0   0\n",
       "1      0  18   0\n",
       "2      0   0  13"
      ]
     },
     "execution_count": 8,
     "metadata": {},
     "output_type": "execute_result"
    }
   ],
   "source": [
    "ct_result = pd.crosstab(real, pred)\n",
    "ct_result.index.name = \"real\"\n",
    "ct_result.columns.name = \"pred\"\n",
    "ct_result"
   ]
  },
  {
   "cell_type": "code",
   "execution_count": 9,
   "metadata": {
    "ExecuteTime": {
     "end_time": "2021-03-27T06:55:46.861608Z",
     "start_time": "2021-03-27T06:55:46.799781Z"
    }
   },
   "outputs": [
    {
     "name": "stdout",
     "output_type": "stream",
     "text": [
      "5/5 [==============================] - 0s 1ms/step - loss: 0.0421 - accuracy: 1.0000\n"
     ]
    }
   ],
   "source": [
    "# 평가\n",
    "score = model.evaluate(test_X, test_Y, batch_size=10)"
   ]
  },
  {
   "cell_type": "code",
   "execution_count": 10,
   "metadata": {
    "ExecuteTime": {
     "end_time": "2021-03-27T06:55:57.430788Z",
     "start_time": "2021-03-27T06:55:57.418784Z"
    }
   },
   "outputs": [
    {
     "name": "stdout",
     "output_type": "stream",
     "text": [
      "평가된 loss : 0.042103592306375504\n",
      "평가된 accuracy : 1.0\n",
      "[0.042103592306375504, 1.0]\n"
     ]
    }
   ],
   "source": [
    "print(\"평가된 loss :\", score[0])\n",
    "print(\"평가된 accuracy :\", score[1])\n",
    "print(score)"
   ]
  },
  {
   "cell_type": "code",
   "execution_count": 11,
   "metadata": {
    "ExecuteTime": {
     "end_time": "2021-03-27T06:56:05.841459Z",
     "start_time": "2021-03-27T06:56:05.831485Z"
    }
   },
   "outputs": [
    {
     "data": {
      "text/plain": [
       "sepal_length           6.4\n",
       "sepal_width            3.2\n",
       "petal_length           4.5\n",
       "petal_width            1.5\n",
       "species         versicolor\n",
       "Name: 51, dtype: object"
      ]
     },
     "execution_count": 11,
     "metadata": {},
     "output_type": "execute_result"
    }
   ],
   "source": [
    "iris.iloc[51]"
   ]
  },
  {
   "cell_type": "code",
   "execution_count": 12,
   "metadata": {
    "ExecuteTime": {
     "end_time": "2021-03-27T06:56:13.198447Z",
     "start_time": "2021-03-27T06:56:13.131594Z"
    }
   },
   "outputs": [
    {
     "data": {
      "text/plain": [
       "1"
      ]
     },
     "execution_count": 12,
     "metadata": {},
     "output_type": "execute_result"
    }
   ],
   "source": [
    "np.argmax(model.predict(np.array([[6.4, 3.2,4.5,1.5]])))"
   ]
  },
  {
   "cell_type": "code",
   "execution_count": null,
   "metadata": {},
   "outputs": [],
   "source": []
  },
  {
   "cell_type": "code",
   "execution_count": null,
   "metadata": {},
   "outputs": [],
   "source": []
  },
  {
   "cell_type": "code",
   "execution_count": null,
   "metadata": {},
   "outputs": [],
   "source": []
  },
  {
   "cell_type": "code",
   "execution_count": null,
   "metadata": {},
   "outputs": [],
   "source": []
  },
  {
   "cell_type": "code",
   "execution_count": null,
   "metadata": {},
   "outputs": [],
   "source": []
  },
  {
   "cell_type": "code",
   "execution_count": null,
   "metadata": {},
   "outputs": [],
   "source": []
  },
  {
   "cell_type": "code",
   "execution_count": null,
   "metadata": {},
   "outputs": [],
   "source": []
  },
  {
   "cell_type": "code",
   "execution_count": null,
   "metadata": {},
   "outputs": [],
   "source": []
  },
  {
   "cell_type": "code",
   "execution_count": null,
   "metadata": {},
   "outputs": [],
   "source": []
  },
  {
   "cell_type": "code",
   "execution_count": null,
   "metadata": {},
   "outputs": [],
   "source": []
  },
  {
   "cell_type": "code",
   "execution_count": null,
   "metadata": {},
   "outputs": [],
   "source": []
  },
  {
   "cell_type": "code",
   "execution_count": null,
   "metadata": {},
   "outputs": [],
   "source": []
  },
  {
   "cell_type": "code",
   "execution_count": null,
   "metadata": {},
   "outputs": [],
   "source": []
  },
  {
   "cell_type": "code",
   "execution_count": null,
   "metadata": {},
   "outputs": [],
   "source": []
  },
  {
   "cell_type": "code",
   "execution_count": null,
   "metadata": {},
   "outputs": [],
   "source": []
  },
  {
   "cell_type": "code",
   "execution_count": null,
   "metadata": {},
   "outputs": [],
   "source": []
  },
  {
   "cell_type": "code",
   "execution_count": null,
   "metadata": {},
   "outputs": [],
   "source": []
  },
  {
   "cell_type": "code",
   "execution_count": null,
   "metadata": {},
   "outputs": [],
   "source": []
  },
  {
   "cell_type": "code",
   "execution_count": null,
   "metadata": {},
   "outputs": [],
   "source": []
  },
  {
   "cell_type": "code",
   "execution_count": null,
   "metadata": {},
   "outputs": [],
   "source": []
  },
  {
   "cell_type": "code",
   "execution_count": null,
   "metadata": {},
   "outputs": [],
   "source": []
  },
  {
   "cell_type": "code",
   "execution_count": null,
   "metadata": {},
   "outputs": [],
   "source": []
  },
  {
   "cell_type": "code",
   "execution_count": null,
   "metadata": {},
   "outputs": [],
   "source": []
  },
  {
   "cell_type": "code",
   "execution_count": null,
   "metadata": {},
   "outputs": [],
   "source": []
  },
  {
   "cell_type": "code",
   "execution_count": null,
   "metadata": {},
   "outputs": [],
   "source": []
  },
  {
   "cell_type": "code",
   "execution_count": null,
   "metadata": {},
   "outputs": [],
   "source": []
  },
  {
   "cell_type": "code",
   "execution_count": null,
   "metadata": {},
   "outputs": [],
   "source": []
  },
  {
   "cell_type": "code",
   "execution_count": null,
   "metadata": {},
   "outputs": [],
   "source": []
  },
  {
   "cell_type": "code",
   "execution_count": null,
   "metadata": {},
   "outputs": [],
   "source": []
  },
  {
   "cell_type": "code",
   "execution_count": null,
   "metadata": {},
   "outputs": [],
   "source": []
  },
  {
   "cell_type": "code",
   "execution_count": null,
   "metadata": {},
   "outputs": [],
   "source": []
  },
  {
   "cell_type": "code",
   "execution_count": null,
   "metadata": {},
   "outputs": [],
   "source": []
  },
  {
   "cell_type": "code",
   "execution_count": null,
   "metadata": {},
   "outputs": [],
   "source": []
  },
  {
   "cell_type": "code",
   "execution_count": null,
   "metadata": {},
   "outputs": [],
   "source": []
  },
  {
   "cell_type": "code",
   "execution_count": null,
   "metadata": {},
   "outputs": [],
   "source": []
  },
  {
   "cell_type": "code",
   "execution_count": null,
   "metadata": {},
   "outputs": [],
   "source": []
  },
  {
   "cell_type": "code",
   "execution_count": null,
   "metadata": {},
   "outputs": [],
   "source": []
  },
  {
   "cell_type": "code",
   "execution_count": null,
   "metadata": {},
   "outputs": [],
   "source": []
  },
  {
   "cell_type": "code",
   "execution_count": null,
   "metadata": {},
   "outputs": [],
   "source": []
  },
  {
   "cell_type": "code",
   "execution_count": null,
   "metadata": {},
   "outputs": [],
   "source": []
  },
  {
   "cell_type": "code",
   "execution_count": null,
   "metadata": {},
   "outputs": [],
   "source": []
  },
  {
   "cell_type": "code",
   "execution_count": null,
   "metadata": {},
   "outputs": [],
   "source": []
  },
  {
   "cell_type": "code",
   "execution_count": null,
   "metadata": {},
   "outputs": [],
   "source": []
  },
  {
   "cell_type": "code",
   "execution_count": null,
   "metadata": {},
   "outputs": [],
   "source": []
  },
  {
   "cell_type": "code",
   "execution_count": null,
   "metadata": {},
   "outputs": [],
   "source": []
  },
  {
   "cell_type": "code",
   "execution_count": null,
   "metadata": {},
   "outputs": [],
   "source": []
  },
  {
   "cell_type": "code",
   "execution_count": null,
   "metadata": {},
   "outputs": [],
   "source": []
  },
  {
   "cell_type": "code",
   "execution_count": null,
   "metadata": {},
   "outputs": [],
   "source": []
  },
  {
   "cell_type": "code",
   "execution_count": null,
   "metadata": {},
   "outputs": [],
   "source": []
  },
  {
   "cell_type": "code",
   "execution_count": null,
   "metadata": {},
   "outputs": [],
   "source": []
  },
  {
   "cell_type": "code",
   "execution_count": null,
   "metadata": {},
   "outputs": [],
   "source": []
  },
  {
   "cell_type": "code",
   "execution_count": null,
   "metadata": {},
   "outputs": [],
   "source": []
  },
  {
   "cell_type": "code",
   "execution_count": null,
   "metadata": {},
   "outputs": [],
   "source": []
  },
  {
   "cell_type": "code",
   "execution_count": null,
   "metadata": {},
   "outputs": [],
   "source": []
  },
  {
   "cell_type": "code",
   "execution_count": null,
   "metadata": {},
   "outputs": [],
   "source": []
  },
  {
   "cell_type": "code",
   "execution_count": null,
   "metadata": {},
   "outputs": [],
   "source": []
  },
  {
   "cell_type": "code",
   "execution_count": null,
   "metadata": {},
   "outputs": [],
   "source": []
  },
  {
   "cell_type": "code",
   "execution_count": null,
   "metadata": {},
   "outputs": [],
   "source": []
  },
  {
   "cell_type": "code",
   "execution_count": null,
   "metadata": {},
   "outputs": [],
   "source": []
  },
  {
   "cell_type": "code",
   "execution_count": null,
   "metadata": {},
   "outputs": [],
   "source": []
  },
  {
   "cell_type": "code",
   "execution_count": null,
   "metadata": {},
   "outputs": [],
   "source": []
  },
  {
   "cell_type": "code",
   "execution_count": null,
   "metadata": {},
   "outputs": [],
   "source": []
  },
  {
   "cell_type": "code",
   "execution_count": null,
   "metadata": {},
   "outputs": [],
   "source": []
  },
  {
   "cell_type": "code",
   "execution_count": null,
   "metadata": {},
   "outputs": [],
   "source": []
  },
  {
   "cell_type": "code",
   "execution_count": null,
   "metadata": {},
   "outputs": [],
   "source": []
  },
  {
   "cell_type": "code",
   "execution_count": null,
   "metadata": {},
   "outputs": [],
   "source": []
  },
  {
   "cell_type": "code",
   "execution_count": null,
   "metadata": {},
   "outputs": [],
   "source": []
  },
  {
   "cell_type": "code",
   "execution_count": null,
   "metadata": {},
   "outputs": [],
   "source": []
  },
  {
   "cell_type": "code",
   "execution_count": null,
   "metadata": {},
   "outputs": [],
   "source": []
  },
  {
   "cell_type": "code",
   "execution_count": null,
   "metadata": {},
   "outputs": [],
   "source": []
  },
  {
   "cell_type": "code",
   "execution_count": null,
   "metadata": {},
   "outputs": [],
   "source": []
  },
  {
   "cell_type": "code",
   "execution_count": null,
   "metadata": {},
   "outputs": [],
   "source": []
  },
  {
   "cell_type": "code",
   "execution_count": null,
   "metadata": {},
   "outputs": [],
   "source": []
  },
  {
   "cell_type": "code",
   "execution_count": null,
   "metadata": {},
   "outputs": [],
   "source": []
  },
  {
   "cell_type": "code",
   "execution_count": null,
   "metadata": {},
   "outputs": [],
   "source": []
  },
  {
   "cell_type": "code",
   "execution_count": null,
   "metadata": {},
   "outputs": [],
   "source": []
  },
  {
   "cell_type": "code",
   "execution_count": null,
   "metadata": {},
   "outputs": [],
   "source": []
  },
  {
   "cell_type": "code",
   "execution_count": null,
   "metadata": {},
   "outputs": [],
   "source": []
  },
  {
   "cell_type": "code",
   "execution_count": null,
   "metadata": {},
   "outputs": [],
   "source": []
  },
  {
   "cell_type": "code",
   "execution_count": null,
   "metadata": {},
   "outputs": [],
   "source": []
  },
  {
   "cell_type": "code",
   "execution_count": null,
   "metadata": {},
   "outputs": [],
   "source": []
  },
  {
   "cell_type": "code",
   "execution_count": null,
   "metadata": {},
   "outputs": [],
   "source": []
  },
  {
   "cell_type": "code",
   "execution_count": null,
   "metadata": {},
   "outputs": [],
   "source": []
  },
  {
   "cell_type": "code",
   "execution_count": null,
   "metadata": {},
   "outputs": [],
   "source": []
  },
  {
   "cell_type": "code",
   "execution_count": null,
   "metadata": {},
   "outputs": [],
   "source": []
  },
  {
   "cell_type": "code",
   "execution_count": null,
   "metadata": {},
   "outputs": [],
   "source": []
  },
  {
   "cell_type": "code",
   "execution_count": null,
   "metadata": {},
   "outputs": [],
   "source": []
  },
  {
   "cell_type": "code",
   "execution_count": null,
   "metadata": {},
   "outputs": [],
   "source": []
  },
  {
   "cell_type": "code",
   "execution_count": null,
   "metadata": {},
   "outputs": [],
   "source": []
  },
  {
   "cell_type": "code",
   "execution_count": null,
   "metadata": {},
   "outputs": [],
   "source": []
  },
  {
   "cell_type": "code",
   "execution_count": null,
   "metadata": {},
   "outputs": [],
   "source": []
  },
  {
   "cell_type": "code",
   "execution_count": null,
   "metadata": {},
   "outputs": [],
   "source": []
  },
  {
   "cell_type": "code",
   "execution_count": null,
   "metadata": {},
   "outputs": [],
   "source": []
  },
  {
   "cell_type": "code",
   "execution_count": null,
   "metadata": {},
   "outputs": [],
   "source": []
  },
  {
   "cell_type": "code",
   "execution_count": null,
   "metadata": {},
   "outputs": [],
   "source": []
  },
  {
   "cell_type": "code",
   "execution_count": null,
   "metadata": {},
   "outputs": [],
   "source": []
  },
  {
   "cell_type": "code",
   "execution_count": null,
   "metadata": {},
   "outputs": [],
   "source": []
  },
  {
   "cell_type": "code",
   "execution_count": null,
   "metadata": {},
   "outputs": [],
   "source": []
  },
  {
   "cell_type": "code",
   "execution_count": null,
   "metadata": {},
   "outputs": [],
   "source": []
  },
  {
   "cell_type": "code",
   "execution_count": null,
   "metadata": {},
   "outputs": [],
   "source": []
  },
  {
   "cell_type": "code",
   "execution_count": null,
   "metadata": {},
   "outputs": [],
   "source": []
  },
  {
   "cell_type": "code",
   "execution_count": null,
   "metadata": {},
   "outputs": [],
   "source": []
  },
  {
   "cell_type": "code",
   "execution_count": null,
   "metadata": {},
   "outputs": [],
   "source": []
  },
  {
   "cell_type": "code",
   "execution_count": null,
   "metadata": {},
   "outputs": [],
   "source": []
  },
  {
   "cell_type": "code",
   "execution_count": null,
   "metadata": {},
   "outputs": [],
   "source": []
  },
  {
   "cell_type": "code",
   "execution_count": null,
   "metadata": {},
   "outputs": [],
   "source": []
  },
  {
   "cell_type": "code",
   "execution_count": null,
   "metadata": {},
   "outputs": [],
   "source": []
  },
  {
   "cell_type": "code",
   "execution_count": null,
   "metadata": {},
   "outputs": [],
   "source": []
  },
  {
   "cell_type": "code",
   "execution_count": null,
   "metadata": {},
   "outputs": [],
   "source": []
  },
  {
   "cell_type": "code",
   "execution_count": null,
   "metadata": {},
   "outputs": [],
   "source": []
  },
  {
   "cell_type": "code",
   "execution_count": null,
   "metadata": {},
   "outputs": [],
   "source": []
  },
  {
   "cell_type": "code",
   "execution_count": null,
   "metadata": {},
   "outputs": [],
   "source": []
  },
  {
   "cell_type": "code",
   "execution_count": null,
   "metadata": {},
   "outputs": [],
   "source": []
  },
  {
   "cell_type": "code",
   "execution_count": null,
   "metadata": {},
   "outputs": [],
   "source": []
  },
  {
   "cell_type": "code",
   "execution_count": null,
   "metadata": {},
   "outputs": [],
   "source": []
  },
  {
   "cell_type": "code",
   "execution_count": null,
   "metadata": {},
   "outputs": [],
   "source": []
  },
  {
   "cell_type": "code",
   "execution_count": null,
   "metadata": {},
   "outputs": [],
   "source": []
  },
  {
   "cell_type": "code",
   "execution_count": null,
   "metadata": {},
   "outputs": [],
   "source": []
  },
  {
   "cell_type": "code",
   "execution_count": null,
   "metadata": {},
   "outputs": [],
   "source": []
  },
  {
   "cell_type": "code",
   "execution_count": null,
   "metadata": {},
   "outputs": [],
   "source": []
  },
  {
   "cell_type": "code",
   "execution_count": null,
   "metadata": {},
   "outputs": [],
   "source": []
  },
  {
   "cell_type": "code",
   "execution_count": null,
   "metadata": {},
   "outputs": [],
   "source": []
  },
  {
   "cell_type": "code",
   "execution_count": null,
   "metadata": {},
   "outputs": [],
   "source": []
  },
  {
   "cell_type": "code",
   "execution_count": null,
   "metadata": {},
   "outputs": [],
   "source": []
  },
  {
   "cell_type": "code",
   "execution_count": null,
   "metadata": {},
   "outputs": [],
   "source": []
  },
  {
   "cell_type": "code",
   "execution_count": null,
   "metadata": {},
   "outputs": [],
   "source": []
  },
  {
   "cell_type": "code",
   "execution_count": null,
   "metadata": {},
   "outputs": [],
   "source": []
  },
  {
   "cell_type": "code",
   "execution_count": null,
   "metadata": {},
   "outputs": [],
   "source": []
  },
  {
   "cell_type": "code",
   "execution_count": null,
   "metadata": {},
   "outputs": [],
   "source": []
  },
  {
   "cell_type": "code",
   "execution_count": null,
   "metadata": {},
   "outputs": [],
   "source": []
  },
  {
   "cell_type": "code",
   "execution_count": null,
   "metadata": {},
   "outputs": [],
   "source": []
  },
  {
   "cell_type": "code",
   "execution_count": null,
   "metadata": {},
   "outputs": [],
   "source": []
  },
  {
   "cell_type": "code",
   "execution_count": null,
   "metadata": {},
   "outputs": [],
   "source": []
  },
  {
   "cell_type": "code",
   "execution_count": null,
   "metadata": {},
   "outputs": [],
   "source": []
  },
  {
   "cell_type": "code",
   "execution_count": null,
   "metadata": {},
   "outputs": [],
   "source": []
  },
  {
   "cell_type": "code",
   "execution_count": null,
   "metadata": {},
   "outputs": [],
   "source": []
  },
  {
   "cell_type": "code",
   "execution_count": null,
   "metadata": {},
   "outputs": [],
   "source": []
  },
  {
   "cell_type": "code",
   "execution_count": null,
   "metadata": {},
   "outputs": [],
   "source": []
  },
  {
   "cell_type": "code",
   "execution_count": null,
   "metadata": {},
   "outputs": [],
   "source": []
  },
  {
   "cell_type": "code",
   "execution_count": null,
   "metadata": {},
   "outputs": [],
   "source": []
  },
  {
   "cell_type": "code",
   "execution_count": null,
   "metadata": {},
   "outputs": [],
   "source": []
  },
  {
   "cell_type": "code",
   "execution_count": null,
   "metadata": {},
   "outputs": [],
   "source": []
  },
  {
   "cell_type": "code",
   "execution_count": null,
   "metadata": {},
   "outputs": [],
   "source": []
  },
  {
   "cell_type": "code",
   "execution_count": null,
   "metadata": {},
   "outputs": [],
   "source": []
  },
  {
   "cell_type": "code",
   "execution_count": null,
   "metadata": {},
   "outputs": [],
   "source": []
  },
  {
   "cell_type": "code",
   "execution_count": null,
   "metadata": {},
   "outputs": [],
   "source": []
  },
  {
   "cell_type": "code",
   "execution_count": null,
   "metadata": {},
   "outputs": [],
   "source": []
  },
  {
   "cell_type": "code",
   "execution_count": null,
   "metadata": {},
   "outputs": [],
   "source": []
  },
  {
   "cell_type": "code",
   "execution_count": null,
   "metadata": {},
   "outputs": [],
   "source": []
  },
  {
   "cell_type": "code",
   "execution_count": null,
   "metadata": {},
   "outputs": [],
   "source": []
  },
  {
   "cell_type": "code",
   "execution_count": null,
   "metadata": {},
   "outputs": [],
   "source": []
  },
  {
   "cell_type": "code",
   "execution_count": null,
   "metadata": {},
   "outputs": [],
   "source": []
  },
  {
   "cell_type": "code",
   "execution_count": null,
   "metadata": {},
   "outputs": [],
   "source": []
  },
  {
   "cell_type": "code",
   "execution_count": null,
   "metadata": {},
   "outputs": [],
   "source": []
  },
  {
   "cell_type": "code",
   "execution_count": null,
   "metadata": {},
   "outputs": [],
   "source": []
  },
  {
   "cell_type": "code",
   "execution_count": null,
   "metadata": {},
   "outputs": [],
   "source": []
  },
  {
   "cell_type": "code",
   "execution_count": null,
   "metadata": {},
   "outputs": [],
   "source": []
  },
  {
   "cell_type": "code",
   "execution_count": null,
   "metadata": {},
   "outputs": [],
   "source": []
  },
  {
   "cell_type": "code",
   "execution_count": null,
   "metadata": {},
   "outputs": [],
   "source": []
  },
  {
   "cell_type": "code",
   "execution_count": null,
   "metadata": {},
   "outputs": [],
   "source": []
  },
  {
   "cell_type": "code",
   "execution_count": null,
   "metadata": {},
   "outputs": [],
   "source": []
  },
  {
   "cell_type": "code",
   "execution_count": null,
   "metadata": {},
   "outputs": [],
   "source": []
  },
  {
   "cell_type": "code",
   "execution_count": null,
   "metadata": {},
   "outputs": [],
   "source": []
  },
  {
   "cell_type": "code",
   "execution_count": null,
   "metadata": {},
   "outputs": [],
   "source": []
  },
  {
   "cell_type": "code",
   "execution_count": null,
   "metadata": {},
   "outputs": [],
   "source": []
  },
  {
   "cell_type": "code",
   "execution_count": null,
   "metadata": {},
   "outputs": [],
   "source": []
  },
  {
   "cell_type": "code",
   "execution_count": null,
   "metadata": {},
   "outputs": [],
   "source": []
  },
  {
   "cell_type": "code",
   "execution_count": null,
   "metadata": {},
   "outputs": [],
   "source": []
  },
  {
   "cell_type": "code",
   "execution_count": null,
   "metadata": {},
   "outputs": [],
   "source": []
  },
  {
   "cell_type": "code",
   "execution_count": null,
   "metadata": {},
   "outputs": [],
   "source": []
  },
  {
   "cell_type": "code",
   "execution_count": null,
   "metadata": {},
   "outputs": [],
   "source": []
  },
  {
   "cell_type": "code",
   "execution_count": null,
   "metadata": {},
   "outputs": [],
   "source": []
  },
  {
   "cell_type": "code",
   "execution_count": null,
   "metadata": {},
   "outputs": [],
   "source": []
  },
  {
   "cell_type": "code",
   "execution_count": null,
   "metadata": {},
   "outputs": [],
   "source": []
  },
  {
   "cell_type": "code",
   "execution_count": null,
   "metadata": {},
   "outputs": [],
   "source": []
  },
  {
   "cell_type": "code",
   "execution_count": null,
   "metadata": {},
   "outputs": [],
   "source": []
  },
  {
   "cell_type": "code",
   "execution_count": null,
   "metadata": {},
   "outputs": [],
   "source": []
  },
  {
   "cell_type": "code",
   "execution_count": null,
   "metadata": {},
   "outputs": [],
   "source": []
  },
  {
   "cell_type": "code",
   "execution_count": null,
   "metadata": {},
   "outputs": [],
   "source": []
  },
  {
   "cell_type": "code",
   "execution_count": null,
   "metadata": {},
   "outputs": [],
   "source": []
  },
  {
   "cell_type": "code",
   "execution_count": null,
   "metadata": {},
   "outputs": [],
   "source": []
  },
  {
   "cell_type": "code",
   "execution_count": null,
   "metadata": {},
   "outputs": [],
   "source": []
  },
  {
   "cell_type": "code",
   "execution_count": null,
   "metadata": {},
   "outputs": [],
   "source": []
  },
  {
   "cell_type": "code",
   "execution_count": null,
   "metadata": {},
   "outputs": [],
   "source": []
  },
  {
   "cell_type": "code",
   "execution_count": null,
   "metadata": {},
   "outputs": [],
   "source": []
  },
  {
   "cell_type": "code",
   "execution_count": null,
   "metadata": {},
   "outputs": [],
   "source": []
  },
  {
   "cell_type": "code",
   "execution_count": null,
   "metadata": {},
   "outputs": [],
   "source": []
  },
  {
   "cell_type": "code",
   "execution_count": null,
   "metadata": {},
   "outputs": [],
   "source": []
  },
  {
   "cell_type": "code",
   "execution_count": null,
   "metadata": {},
   "outputs": [],
   "source": []
  },
  {
   "cell_type": "code",
   "execution_count": null,
   "metadata": {},
   "outputs": [],
   "source": []
  },
  {
   "cell_type": "code",
   "execution_count": null,
   "metadata": {},
   "outputs": [],
   "source": []
  },
  {
   "cell_type": "code",
   "execution_count": null,
   "metadata": {},
   "outputs": [],
   "source": []
  },
  {
   "cell_type": "code",
   "execution_count": null,
   "metadata": {},
   "outputs": [],
   "source": []
  },
  {
   "cell_type": "code",
   "execution_count": null,
   "metadata": {},
   "outputs": [],
   "source": []
  },
  {
   "cell_type": "code",
   "execution_count": null,
   "metadata": {},
   "outputs": [],
   "source": []
  },
  {
   "cell_type": "code",
   "execution_count": null,
   "metadata": {},
   "outputs": [],
   "source": []
  },
  {
   "cell_type": "code",
   "execution_count": null,
   "metadata": {},
   "outputs": [],
   "source": []
  },
  {
   "cell_type": "code",
   "execution_count": null,
   "metadata": {},
   "outputs": [],
   "source": []
  },
  {
   "cell_type": "code",
   "execution_count": null,
   "metadata": {},
   "outputs": [],
   "source": []
  },
  {
   "cell_type": "code",
   "execution_count": null,
   "metadata": {},
   "outputs": [],
   "source": []
  },
  {
   "cell_type": "code",
   "execution_count": null,
   "metadata": {},
   "outputs": [],
   "source": []
  },
  {
   "cell_type": "code",
   "execution_count": null,
   "metadata": {},
   "outputs": [],
   "source": []
  },
  {
   "cell_type": "code",
   "execution_count": null,
   "metadata": {},
   "outputs": [],
   "source": []
  }
 ],
 "metadata": {
  "kernelspec": {
   "display_name": "Python 3",
   "language": "python",
   "name": "python3"
  },
  "language_info": {
   "codemirror_mode": {
    "name": "ipython",
    "version": 3
   },
   "file_extension": ".py",
   "mimetype": "text/x-python",
   "name": "python",
   "nbconvert_exporter": "python",
   "pygments_lexer": "ipython3",
   "version": "3.8.5"
  },
  "toc": {
   "base_numbering": 1,
   "nav_menu": {},
   "number_sections": true,
   "sideBar": true,
   "skip_h1_title": false,
   "title_cell": "Table of Contents",
   "title_sidebar": "Contents",
   "toc_cell": false,
   "toc_position": {},
   "toc_section_display": true,
   "toc_window_display": false
  },
  "varInspector": {
   "cols": {
    "lenName": 16,
    "lenType": 16,
    "lenVar": 40
   },
   "kernels_config": {
    "python": {
     "delete_cmd_postfix": "",
     "delete_cmd_prefix": "del ",
     "library": "var_list.py",
     "varRefreshCmd": "print(var_dic_list())"
    },
    "r": {
     "delete_cmd_postfix": ") ",
     "delete_cmd_prefix": "rm(",
     "library": "var_list.r",
     "varRefreshCmd": "cat(var_dic_list()) "
    }
   },
   "types_to_exclude": [
    "module",
    "function",
    "builtin_function_or_method",
    "instance",
    "_Feature"
   ],
   "window_display": false
  }
 },
 "nbformat": 4,
 "nbformat_minor": 4
}
