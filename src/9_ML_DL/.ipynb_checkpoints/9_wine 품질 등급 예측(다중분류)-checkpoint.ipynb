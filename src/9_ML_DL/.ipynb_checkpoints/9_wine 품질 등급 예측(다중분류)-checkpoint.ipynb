{
 "cells": [
  {
   "cell_type": "code",
   "execution_count": 27,
   "metadata": {
    "ExecuteTime": {
     "end_time": "2021-03-25T13:53:10.025225Z",
     "start_time": "2021-03-25T13:53:10.015252Z"
    }
   },
   "outputs": [],
   "source": [
    "import numpy as np\n",
    "import pandas as pd # read_csv, # get_dummies : 원핫인코딩\n",
    "import tensorflow.keras.utils as utils  # 원핫인코딩\n",
    "from sklearn.model_selection import train_test_split \n",
    "from tensorflow.keras.models import Sequential\n",
    "from tensorflow.keras.layers import Input, Dense, Dropout\n",
    "from tensorflow.keras import metrics\n",
    "from tensorflow.keras.callbacks import EarlyStopping"
   ]
  },
  {
   "cell_type": "markdown",
   "metadata": {},
   "source": [
    "# 원핫인코딩의 방법이 2가지"
   ]
  },
  {
   "cell_type": "code",
   "execution_count": 12,
   "metadata": {
    "ExecuteTime": {
     "end_time": "2021-03-25T14:07:42.301973Z",
     "start_time": "2021-03-25T14:07:42.271064Z"
    }
   },
   "outputs": [
    {
     "name": "stdout",
     "output_type": "stream",
     "text": [
      "[5 6 7 4 8 3]\n"
     ]
    },
    {
     "data": {
      "text/plain": [
       "array([[0, 0, 1, 0, 0, 0],\n",
       "       [0, 0, 1, 0, 0, 0],\n",
       "       [0, 0, 1, 0, 0, 0],\n",
       "       ...,\n",
       "       [0, 0, 0, 1, 0, 0],\n",
       "       [0, 0, 1, 0, 0, 0],\n",
       "       [0, 0, 0, 1, 0, 0]], dtype=uint8)"
      ]
     },
     "execution_count": 12,
     "metadata": {},
     "output_type": "execute_result"
    }
   ],
   "source": [
    "redwine = pd.read_csv(r'C:\\Users\\82105\\Desktop\\data/wine.csv', sep=';')\n",
    "redwine_y = redwine.iloc[:,-1]\n",
    "print(redwine_y.unique())\n",
    "redwine_y = pd.get_dummies(redwine_y).to_numpy()\n",
    "redwine_y"
   ]
  },
  {
   "cell_type": "code",
   "execution_count": 13,
   "metadata": {
    "ExecuteTime": {
     "end_time": "2021-03-25T14:07:43.012744Z",
     "start_time": "2021-03-25T14:07:42.983791Z"
    }
   },
   "outputs": [
    {
     "name": "stdout",
     "output_type": "stream",
     "text": [
      "[5 6 7 4 8 3]\n"
     ]
    },
    {
     "data": {
      "text/plain": [
       "array([[0., 0., 0., 0., 0., 1., 0., 0., 0.],\n",
       "       [0., 0., 0., 0., 0., 1., 0., 0., 0.],\n",
       "       [0., 0., 0., 0., 0., 1., 0., 0., 0.],\n",
       "       [0., 0., 0., 0., 0., 0., 1., 0., 0.],\n",
       "       [0., 0., 0., 0., 0., 1., 0., 0., 0.]], dtype=float32)"
      ]
     },
     "execution_count": 13,
     "metadata": {},
     "output_type": "execute_result"
    }
   ],
   "source": [
    "redwine = pd.read_csv(r'C:\\Users\\82105\\Desktop\\data/wine.csv', sep=';')\n",
    "redwine_y = redwine.iloc[:,-1]\n",
    "print(redwine_y.unique())\n",
    "redwine_y = utils.to_categorical(redwine_y)\n",
    "redwine_y[:5]"
   ]
  },
  {
   "cell_type": "code",
   "execution_count": 15,
   "metadata": {
    "ExecuteTime": {
     "end_time": "2021-03-25T14:07:51.765504Z",
     "start_time": "2021-03-25T14:07:51.734073Z"
    }
   },
   "outputs": [
    {
     "data": {
      "text/html": [
       "<div>\n",
       "<style scoped>\n",
       "    .dataframe tbody tr th:only-of-type {\n",
       "        vertical-align: middle;\n",
       "    }\n",
       "\n",
       "    .dataframe tbody tr th {\n",
       "        vertical-align: top;\n",
       "    }\n",
       "\n",
       "    .dataframe thead th {\n",
       "        text-align: right;\n",
       "    }\n",
       "</style>\n",
       "<table border=\"1\" class=\"dataframe\">\n",
       "  <thead>\n",
       "    <tr style=\"text-align: right;\">\n",
       "      <th></th>\n",
       "      <th>fixed acidity</th>\n",
       "      <th>volatile acidity</th>\n",
       "      <th>citric acid</th>\n",
       "      <th>residual sugar</th>\n",
       "      <th>chlorides</th>\n",
       "      <th>free sulfur dioxide</th>\n",
       "      <th>total sulfur dioxide</th>\n",
       "      <th>density</th>\n",
       "      <th>pH</th>\n",
       "      <th>sulphates</th>\n",
       "      <th>alcohol</th>\n",
       "    </tr>\n",
       "  </thead>\n",
       "  <tbody>\n",
       "    <tr>\n",
       "      <th>0</th>\n",
       "      <td>7.4</td>\n",
       "      <td>0.700</td>\n",
       "      <td>0.00</td>\n",
       "      <td>1.9</td>\n",
       "      <td>0.076</td>\n",
       "      <td>11.0</td>\n",
       "      <td>34.0</td>\n",
       "      <td>0.99780</td>\n",
       "      <td>3.51</td>\n",
       "      <td>0.56</td>\n",
       "      <td>9.4</td>\n",
       "    </tr>\n",
       "    <tr>\n",
       "      <th>1</th>\n",
       "      <td>7.8</td>\n",
       "      <td>0.880</td>\n",
       "      <td>0.00</td>\n",
       "      <td>2.6</td>\n",
       "      <td>0.098</td>\n",
       "      <td>25.0</td>\n",
       "      <td>67.0</td>\n",
       "      <td>0.99680</td>\n",
       "      <td>3.20</td>\n",
       "      <td>0.68</td>\n",
       "      <td>9.8</td>\n",
       "    </tr>\n",
       "    <tr>\n",
       "      <th>2</th>\n",
       "      <td>7.8</td>\n",
       "      <td>0.760</td>\n",
       "      <td>0.04</td>\n",
       "      <td>2.3</td>\n",
       "      <td>0.092</td>\n",
       "      <td>15.0</td>\n",
       "      <td>54.0</td>\n",
       "      <td>0.99700</td>\n",
       "      <td>3.26</td>\n",
       "      <td>0.65</td>\n",
       "      <td>9.8</td>\n",
       "    </tr>\n",
       "    <tr>\n",
       "      <th>3</th>\n",
       "      <td>11.2</td>\n",
       "      <td>0.280</td>\n",
       "      <td>0.56</td>\n",
       "      <td>1.9</td>\n",
       "      <td>0.075</td>\n",
       "      <td>17.0</td>\n",
       "      <td>60.0</td>\n",
       "      <td>0.99800</td>\n",
       "      <td>3.16</td>\n",
       "      <td>0.58</td>\n",
       "      <td>9.8</td>\n",
       "    </tr>\n",
       "    <tr>\n",
       "      <th>4</th>\n",
       "      <td>7.4</td>\n",
       "      <td>0.700</td>\n",
       "      <td>0.00</td>\n",
       "      <td>1.9</td>\n",
       "      <td>0.076</td>\n",
       "      <td>11.0</td>\n",
       "      <td>34.0</td>\n",
       "      <td>0.99780</td>\n",
       "      <td>3.51</td>\n",
       "      <td>0.56</td>\n",
       "      <td>9.4</td>\n",
       "    </tr>\n",
       "    <tr>\n",
       "      <th>...</th>\n",
       "      <td>...</td>\n",
       "      <td>...</td>\n",
       "      <td>...</td>\n",
       "      <td>...</td>\n",
       "      <td>...</td>\n",
       "      <td>...</td>\n",
       "      <td>...</td>\n",
       "      <td>...</td>\n",
       "      <td>...</td>\n",
       "      <td>...</td>\n",
       "      <td>...</td>\n",
       "    </tr>\n",
       "    <tr>\n",
       "      <th>1594</th>\n",
       "      <td>6.2</td>\n",
       "      <td>0.600</td>\n",
       "      <td>0.08</td>\n",
       "      <td>2.0</td>\n",
       "      <td>0.090</td>\n",
       "      <td>32.0</td>\n",
       "      <td>44.0</td>\n",
       "      <td>0.99490</td>\n",
       "      <td>3.45</td>\n",
       "      <td>0.58</td>\n",
       "      <td>10.5</td>\n",
       "    </tr>\n",
       "    <tr>\n",
       "      <th>1595</th>\n",
       "      <td>5.9</td>\n",
       "      <td>0.550</td>\n",
       "      <td>0.10</td>\n",
       "      <td>2.2</td>\n",
       "      <td>0.062</td>\n",
       "      <td>39.0</td>\n",
       "      <td>51.0</td>\n",
       "      <td>0.99512</td>\n",
       "      <td>3.52</td>\n",
       "      <td>0.76</td>\n",
       "      <td>11.2</td>\n",
       "    </tr>\n",
       "    <tr>\n",
       "      <th>1596</th>\n",
       "      <td>6.3</td>\n",
       "      <td>0.510</td>\n",
       "      <td>0.13</td>\n",
       "      <td>2.3</td>\n",
       "      <td>0.076</td>\n",
       "      <td>29.0</td>\n",
       "      <td>40.0</td>\n",
       "      <td>0.99574</td>\n",
       "      <td>3.42</td>\n",
       "      <td>0.75</td>\n",
       "      <td>11.0</td>\n",
       "    </tr>\n",
       "    <tr>\n",
       "      <th>1597</th>\n",
       "      <td>5.9</td>\n",
       "      <td>0.645</td>\n",
       "      <td>0.12</td>\n",
       "      <td>2.0</td>\n",
       "      <td>0.075</td>\n",
       "      <td>32.0</td>\n",
       "      <td>44.0</td>\n",
       "      <td>0.99547</td>\n",
       "      <td>3.57</td>\n",
       "      <td>0.71</td>\n",
       "      <td>10.2</td>\n",
       "    </tr>\n",
       "    <tr>\n",
       "      <th>1598</th>\n",
       "      <td>6.0</td>\n",
       "      <td>0.310</td>\n",
       "      <td>0.47</td>\n",
       "      <td>3.6</td>\n",
       "      <td>0.067</td>\n",
       "      <td>18.0</td>\n",
       "      <td>42.0</td>\n",
       "      <td>0.99549</td>\n",
       "      <td>3.39</td>\n",
       "      <td>0.66</td>\n",
       "      <td>11.0</td>\n",
       "    </tr>\n",
       "  </tbody>\n",
       "</table>\n",
       "<p>1599 rows × 11 columns</p>\n",
       "</div>"
      ],
      "text/plain": [
       "      fixed acidity  volatile acidity  citric acid  residual sugar  chlorides  \\\n",
       "0               7.4             0.700         0.00             1.9      0.076   \n",
       "1               7.8             0.880         0.00             2.6      0.098   \n",
       "2               7.8             0.760         0.04             2.3      0.092   \n",
       "3              11.2             0.280         0.56             1.9      0.075   \n",
       "4               7.4             0.700         0.00             1.9      0.076   \n",
       "...             ...               ...          ...             ...        ...   \n",
       "1594            6.2             0.600         0.08             2.0      0.090   \n",
       "1595            5.9             0.550         0.10             2.2      0.062   \n",
       "1596            6.3             0.510         0.13             2.3      0.076   \n",
       "1597            5.9             0.645         0.12             2.0      0.075   \n",
       "1598            6.0             0.310         0.47             3.6      0.067   \n",
       "\n",
       "      free sulfur dioxide  total sulfur dioxide  density    pH  sulphates  \\\n",
       "0                    11.0                  34.0  0.99780  3.51       0.56   \n",
       "1                    25.0                  67.0  0.99680  3.20       0.68   \n",
       "2                    15.0                  54.0  0.99700  3.26       0.65   \n",
       "3                    17.0                  60.0  0.99800  3.16       0.58   \n",
       "4                    11.0                  34.0  0.99780  3.51       0.56   \n",
       "...                   ...                   ...      ...   ...        ...   \n",
       "1594                 32.0                  44.0  0.99490  3.45       0.58   \n",
       "1595                 39.0                  51.0  0.99512  3.52       0.76   \n",
       "1596                 29.0                  40.0  0.99574  3.42       0.75   \n",
       "1597                 32.0                  44.0  0.99547  3.57       0.71   \n",
       "1598                 18.0                  42.0  0.99549  3.39       0.66   \n",
       "\n",
       "      alcohol  \n",
       "0         9.4  \n",
       "1         9.8  \n",
       "2         9.8  \n",
       "3         9.8  \n",
       "4         9.4  \n",
       "...       ...  \n",
       "1594     10.5  \n",
       "1595     11.2  \n",
       "1596     11.0  \n",
       "1597     10.2  \n",
       "1598     11.0  \n",
       "\n",
       "[1599 rows x 11 columns]"
      ]
     },
     "execution_count": 15,
     "metadata": {},
     "output_type": "execute_result"
    }
   ],
   "source": [
    "redwine = pd.read_csv(r'C:\\Users\\82105\\Desktop\\data/wine.csv', sep=';')\n",
    "redwine_x = redwine.iloc[:,:-1] # 6개 분류로 나눠짐\n",
    "redwine_x"
   ]
  },
  {
   "cell_type": "code",
   "execution_count": null,
   "metadata": {},
   "outputs": [],
   "source": []
  },
  {
   "cell_type": "code",
   "execution_count": 19,
   "metadata": {
    "ExecuteTime": {
     "end_time": "2021-03-25T14:10:15.808472Z",
     "start_time": "2021-03-25T14:10:11.154527Z"
    },
    "code_folding": []
   },
   "outputs": [
    {
     "name": "stdout",
     "output_type": "stream",
     "text": [
      "종속변수가 될 와인 등급 : [5 6 7 4 8 3]\n",
      "Epoch 1/500\n",
      "5/5 [==============================] - 1s 50ms/step - loss: 1.7673 - accuracy: 0.2924 - val_loss: 1.6664 - val_accuracy: 0.3527\n",
      "Epoch 2/500\n",
      "5/5 [==============================] - 0s 11ms/step - loss: 1.6397 - accuracy: 0.3956 - val_loss: 1.5639 - val_accuracy: 0.3929\n",
      "Epoch 3/500\n",
      "5/5 [==============================] - 0s 13ms/step - loss: 1.5394 - accuracy: 0.4240 - val_loss: 1.4802 - val_accuracy: 0.3839\n",
      "Epoch 4/500\n",
      "5/5 [==============================] - 0s 12ms/step - loss: 1.4443 - accuracy: 0.4377 - val_loss: 1.4074 - val_accuracy: 0.3884\n",
      "Epoch 5/500\n",
      "5/5 [==============================] - 0s 14ms/step - loss: 1.3932 - accuracy: 0.4229 - val_loss: 1.3375 - val_accuracy: 0.4062\n",
      "Epoch 6/500\n",
      "5/5 [==============================] - 0s 12ms/step - loss: 1.3115 - accuracy: 0.4552 - val_loss: 1.2704 - val_accuracy: 0.4509\n",
      "Epoch 7/500\n",
      "5/5 [==============================] - 0s 15ms/step - loss: 1.2484 - accuracy: 0.5026 - val_loss: 1.2118 - val_accuracy: 0.5089\n",
      "Epoch 8/500\n",
      "5/5 [==============================] - 0s 18ms/step - loss: 1.1921 - accuracy: 0.5608 - val_loss: 1.1632 - val_accuracy: 0.5670\n",
      "Epoch 9/500\n",
      "5/5 [==============================] - 0s 17ms/step - loss: 1.1330 - accuracy: 0.5615 - val_loss: 1.1255 - val_accuracy: 0.5759\n",
      "Epoch 10/500\n",
      "5/5 [==============================] - 0s 19ms/step - loss: 1.0968 - accuracy: 0.5805 - val_loss: 1.0992 - val_accuracy: 0.5893\n",
      "Epoch 11/500\n",
      "5/5 [==============================] - 0s 16ms/step - loss: 1.0728 - accuracy: 0.5862 - val_loss: 1.0810 - val_accuracy: 0.6071\n",
      "Epoch 12/500\n",
      "5/5 [==============================] - 0s 13ms/step - loss: 1.0341 - accuracy: 0.6061 - val_loss: 1.0662 - val_accuracy: 0.6071\n",
      "Epoch 13/500\n",
      "5/5 [==============================] - 0s 15ms/step - loss: 1.0159 - accuracy: 0.6053 - val_loss: 1.0515 - val_accuracy: 0.6161\n",
      "Epoch 14/500\n",
      "5/5 [==============================] - 0s 11ms/step - loss: 1.0199 - accuracy: 0.6209 - val_loss: 1.0397 - val_accuracy: 0.6250\n",
      "Epoch 15/500\n",
      "5/5 [==============================] - 0s 14ms/step - loss: 1.0111 - accuracy: 0.6083 - val_loss: 1.0302 - val_accuracy: 0.6250\n",
      "Epoch 16/500\n",
      "5/5 [==============================] - 0s 13ms/step - loss: 0.9998 - accuracy: 0.6173 - val_loss: 1.0197 - val_accuracy: 0.6250\n",
      "Epoch 17/500\n",
      "5/5 [==============================] - 0s 11ms/step - loss: 0.9547 - accuracy: 0.6214 - val_loss: 1.0109 - val_accuracy: 0.6161\n",
      "Epoch 18/500\n",
      "5/5 [==============================] - 0s 14ms/step - loss: 0.9721 - accuracy: 0.6151 - val_loss: 1.0034 - val_accuracy: 0.6205\n",
      "Epoch 19/500\n",
      "5/5 [==============================] - 0s 13ms/step - loss: 0.9783 - accuracy: 0.6249 - val_loss: 0.9978 - val_accuracy: 0.6116\n",
      "Epoch 20/500\n",
      "5/5 [==============================] - 0s 11ms/step - loss: 0.9866 - accuracy: 0.6072 - val_loss: 0.9934 - val_accuracy: 0.6205\n",
      "Epoch 21/500\n",
      "5/5 [==============================] - 0s 14ms/step - loss: 0.9578 - accuracy: 0.6274 - val_loss: 0.9896 - val_accuracy: 0.6295\n",
      "Epoch 22/500\n",
      "5/5 [==============================] - 0s 14ms/step - loss: 0.9207 - accuracy: 0.6507 - val_loss: 0.9859 - val_accuracy: 0.6339\n",
      "Epoch 23/500\n",
      "5/5 [==============================] - 0s 17ms/step - loss: 0.9194 - accuracy: 0.6381 - val_loss: 0.9826 - val_accuracy: 0.6339\n",
      "Epoch 24/500\n",
      "5/5 [==============================] - 0s 17ms/step - loss: 0.9403 - accuracy: 0.6278 - val_loss: 0.9828 - val_accuracy: 0.6339\n",
      "Epoch 25/500\n",
      "5/5 [==============================] - 0s 20ms/step - loss: 0.9183 - accuracy: 0.6438 - val_loss: 0.9781 - val_accuracy: 0.6295\n",
      "Epoch 26/500\n",
      "5/5 [==============================] - 0s 12ms/step - loss: 0.9134 - accuracy: 0.6490 - val_loss: 0.9736 - val_accuracy: 0.6339\n",
      "Epoch 27/500\n",
      "5/5 [==============================] - 0s 16ms/step - loss: 0.9277 - accuracy: 0.6425 - val_loss: 0.9708 - val_accuracy: 0.6384\n",
      "Epoch 28/500\n",
      "5/5 [==============================] - 0s 12ms/step - loss: 0.8806 - accuracy: 0.6473 - val_loss: 0.9708 - val_accuracy: 0.6250\n",
      "Epoch 29/500\n",
      "5/5 [==============================] - 0s 14ms/step - loss: 0.8964 - accuracy: 0.6602 - val_loss: 0.9697 - val_accuracy: 0.6250\n",
      "Epoch 30/500\n",
      "5/5 [==============================] - 0s 12ms/step - loss: 0.8917 - accuracy: 0.6584 - val_loss: 0.9674 - val_accuracy: 0.6295\n",
      "Epoch 31/500\n",
      "5/5 [==============================] - 0s 13ms/step - loss: 0.8712 - accuracy: 0.6476 - val_loss: 0.9664 - val_accuracy: 0.6295\n",
      "Epoch 32/500\n",
      "5/5 [==============================] - 0s 13ms/step - loss: 0.8750 - accuracy: 0.6603 - val_loss: 0.9702 - val_accuracy: 0.6295\n",
      "Epoch 33/500\n",
      "5/5 [==============================] - 0s 11ms/step - loss: 0.8560 - accuracy: 0.6704 - val_loss: 0.9674 - val_accuracy: 0.6161\n",
      "Epoch 34/500\n",
      "5/5 [==============================] - 0s 13ms/step - loss: 0.8617 - accuracy: 0.6685 - val_loss: 0.9661 - val_accuracy: 0.6250\n",
      "Epoch 35/500\n",
      "5/5 [==============================] - 0s 14ms/step - loss: 0.8627 - accuracy: 0.6736 - val_loss: 0.9645 - val_accuracy: 0.6161\n",
      "Epoch 36/500\n",
      "5/5 [==============================] - 0s 10ms/step - loss: 0.8332 - accuracy: 0.6886 - val_loss: 0.9692 - val_accuracy: 0.5982\n",
      "Epoch 37/500\n",
      "5/5 [==============================] - 0s 13ms/step - loss: 0.8510 - accuracy: 0.6691 - val_loss: 0.9663 - val_accuracy: 0.6071\n",
      "Epoch 38/500\n",
      "5/5 [==============================] - 0s 13ms/step - loss: 0.8359 - accuracy: 0.6904 - val_loss: 0.9673 - val_accuracy: 0.6116\n",
      "Epoch 39/500\n",
      "5/5 [==============================] - 0s 11ms/step - loss: 0.8273 - accuracy: 0.6765 - val_loss: 0.9670 - val_accuracy: 0.6027\n",
      "Epoch 40/500\n",
      "5/5 [==============================] - 0s 11ms/step - loss: 0.8429 - accuracy: 0.6820 - val_loss: 0.9670 - val_accuracy: 0.6027\n",
      "Epoch 41/500\n",
      "5/5 [==============================] - 0s 13ms/step - loss: 0.8140 - accuracy: 0.6759 - val_loss: 0.9693 - val_accuracy: 0.5938\n",
      "Epoch 42/500\n",
      "5/5 [==============================] - 0s 11ms/step - loss: 0.8147 - accuracy: 0.6689 - val_loss: 0.9696 - val_accuracy: 0.5982\n",
      "Epoch 43/500\n",
      "5/5 [==============================] - 0s 13ms/step - loss: 0.8349 - accuracy: 0.6691 - val_loss: 0.9692 - val_accuracy: 0.5982\n",
      "Epoch 44/500\n",
      "5/5 [==============================] - 0s 13ms/step - loss: 0.7992 - accuracy: 0.6753 - val_loss: 0.9699 - val_accuracy: 0.5893\n",
      "Epoch 45/500\n",
      "5/5 [==============================] - 0s 12ms/step - loss: 0.7796 - accuracy: 0.6980 - val_loss: 0.9707 - val_accuracy: 0.5893\n",
      "Epoch 46/500\n",
      "5/5 [==============================] - 0s 15ms/step - loss: 0.8126 - accuracy: 0.6838 - val_loss: 0.9755 - val_accuracy: 0.5893\n",
      "Epoch 47/500\n",
      "5/5 [==============================] - 0s 14ms/step - loss: 0.8069 - accuracy: 0.6815 - val_loss: 0.9751 - val_accuracy: 0.5938\n",
      "Epoch 48/500\n",
      "5/5 [==============================] - 0s 17ms/step - loss: 0.7957 - accuracy: 0.6825 - val_loss: 0.9744 - val_accuracy: 0.5938\n",
      "Epoch 49/500\n",
      "5/5 [==============================] - 0s 24ms/step - loss: 0.7827 - accuracy: 0.6952 - val_loss: 0.9745 - val_accuracy: 0.6027\n",
      "Epoch 50/500\n",
      "5/5 [==============================] - 0s 12ms/step - loss: 0.7773 - accuracy: 0.6837 - val_loss: 0.9771 - val_accuracy: 0.5893\n",
      "Epoch 51/500\n",
      "5/5 [==============================] - 0s 16ms/step - loss: 0.7999 - accuracy: 0.6936 - val_loss: 0.9757 - val_accuracy: 0.6161\n",
      "Epoch 52/500\n",
      "5/5 [==============================] - 0s 14ms/step - loss: 0.7578 - accuracy: 0.7005 - val_loss: 0.9770 - val_accuracy: 0.6071\n",
      "Epoch 53/500\n",
      "5/5 [==============================] - 0s 15ms/step - loss: 0.7617 - accuracy: 0.6932 - val_loss: 0.9808 - val_accuracy: 0.6071\n",
      "Epoch 54/500\n",
      "5/5 [==============================] - 0s 17ms/step - loss: 0.7510 - accuracy: 0.7017 - val_loss: 0.9850 - val_accuracy: 0.6071\n",
      "Epoch 55/500\n",
      "5/5 [==============================] - 0s 18ms/step - loss: 0.7576 - accuracy: 0.6945 - val_loss: 0.9880 - val_accuracy: 0.6071\n"
     ]
    },
    {
     "data": {
      "image/png": "[encoded data removed]",
      "text/plain": [
       "<Figure size 432x288 with 2 Axes>"
      ]
     },
     "metadata": {
      "needs_background": "light"
     },
     "output_type": "display_data"
    }
   ],
   "source": [
    "# 1. 데이터 셋 준비하기\n",
    "redwine = pd.read_csv(r'C:\\Users\\82105\\Desktop\\data/wine.csv', sep=';')\n",
    "redwine_x = redwine.iloc[:,:-1].to_numpy() # 6개 분류로 나눠짐\n",
    "redwine_y = redwine.iloc[:,-1]\n",
    "print('종속변수가 될 와인 등급 :',redwine_y.unique()) # 결과가 5 6 7 4 8 3 등급\n",
    "\n",
    "# scale 조정\n",
    "from sklearn.preprocessing import StandardScaler\n",
    "scaler = StandardScaler()\n",
    "scaler.fit(redwine_x)\n",
    "redwine_x = scaler.transform(redwine_x)\n",
    "\n",
    "# 데이터 셋 전처리(라벨링) ; 원 핫 인코딩 후 numpy형으로 변환\n",
    "redwine_y = pd.get_dummies(redwine_y).to_numpy() # 3등급의 경우 [1 0 0 0 0 0]\n",
    "# redwine_y = utils.to_categorical(redwine_y) # 3등급의 경우 [0 0 0 1 0 0 0 0 0]\n",
    "\n",
    "# 훈련셋과 테스트셋 분리\n",
    "train_X, test_X, train_Y, test_Y = \\\n",
    "    train_test_split(redwine_x, redwine_y, test_size=0.3, random_state=1)\n",
    "\n",
    "# 2. 모델 구성하기\n",
    "model = Sequential()\n",
    "model.add(Input(11))\n",
    "model.add(Dense(50, activation='relu'))\n",
    "# model.add(Dense(50, input_dim=11, activation='relu'))\n",
    "model.add(Dense(50, activation='relu'))\n",
    "model.add(Dense(30, activation='relu'))\n",
    "model.add(Dense(6, activation='softmax')) # 3,4,5,6,7,8 등급 분류\n",
    "\n",
    "# 3. 모델 컴파일\n",
    "model.compile(optimizer='adam', loss='categorical_crossentropy', \n",
    "              metrics=['accuracy'])\n",
    "# model.compile(optimizer='adam', loss='categorical_crossentropy', \n",
    "#                metrics=[metrics.Recall()])\n",
    "# model.compile(optimizer='adam', loss='categorical_crossentropy', \n",
    "#                metrics=[metrics.Precision()])\n",
    "\n",
    "# 4. 모델 학습시키기\n",
    "early_stopping = EarlyStopping(monitor='val_loss', patience=20)\n",
    "fit_hist = model.fit(train_X, train_Y, batch_size=200, epochs=500,\n",
    "                    validation_split=0.2,\n",
    "                    callbacks=[early_stopping])\n",
    "# 5. 모델 학습 과정 표시하기\n",
    "# 모델 학습 과정 표시하기\n",
    "%matplotlib inline\n",
    "import matplotlib.pyplot as plt\n",
    "\n",
    "fig, loss_ax = plt.subplots()\n",
    "\n",
    "loss_ax.plot(fit_hist.history['loss'],'y', label='train loss')\n",
    "loss_ax.plot(fit_hist.history['val_loss'],'r', label='val loss')\n",
    "loss_ax.set_xlabel('epoch')\n",
    "loss_ax.set_ylabel('loss')\n",
    "loss_ax.legend(loc='upper left')\n",
    "\n",
    "acc_ax = loss_ax.twinx()\n",
    "acc_ax.plot(fit_hist.history['accuracy'],'b', label='train acc')\n",
    "acc_ax.plot(fit_hist.history['val_accuracy'], 'g', label='val acc')\n",
    "acc_ax.set_ylabel('accuracy')\n",
    "acc_ax.legend(loc='lower left')\n",
    "plt.show()"
   ]
  },
  {
   "cell_type": "code",
   "execution_count": 20,
   "metadata": {
    "ExecuteTime": {
     "end_time": "2021-03-25T14:10:26.080816Z",
     "start_time": "2021-03-25T14:10:25.909082Z"
    }
   },
   "outputs": [
    {
     "data": {
      "text/html": [
       "<div>\n",
       "<style scoped>\n",
       "    .dataframe tbody tr th:only-of-type {\n",
       "        vertical-align: middle;\n",
       "    }\n",
       "\n",
       "    .dataframe tbody tr th {\n",
       "        vertical-align: top;\n",
       "    }\n",
       "\n",
       "    .dataframe thead th {\n",
       "        text-align: right;\n",
       "    }\n",
       "</style>\n",
       "<table border=\"1\" class=\"dataframe\">\n",
       "  <thead>\n",
       "    <tr style=\"text-align: right;\">\n",
       "      <th>predict</th>\n",
       "      <th>5</th>\n",
       "      <th>6</th>\n",
       "      <th>7</th>\n",
       "    </tr>\n",
       "    <tr>\n",
       "      <th>real</th>\n",
       "      <th></th>\n",
       "      <th></th>\n",
       "      <th></th>\n",
       "    </tr>\n",
       "  </thead>\n",
       "  <tbody>\n",
       "    <tr>\n",
       "      <th>3</th>\n",
       "      <td>1</td>\n",
       "      <td>1</td>\n",
       "      <td>0</td>\n",
       "    </tr>\n",
       "    <tr>\n",
       "      <th>4</th>\n",
       "      <td>1</td>\n",
       "      <td>20</td>\n",
       "      <td>0</td>\n",
       "    </tr>\n",
       "    <tr>\n",
       "      <th>5</th>\n",
       "      <td>9</td>\n",
       "      <td>197</td>\n",
       "      <td>1</td>\n",
       "    </tr>\n",
       "    <tr>\n",
       "      <th>6</th>\n",
       "      <td>7</td>\n",
       "      <td>185</td>\n",
       "      <td>3</td>\n",
       "    </tr>\n",
       "    <tr>\n",
       "      <th>7</th>\n",
       "      <td>0</td>\n",
       "      <td>52</td>\n",
       "      <td>0</td>\n",
       "    </tr>\n",
       "    <tr>\n",
       "      <th>8</th>\n",
       "      <td>0</td>\n",
       "      <td>3</td>\n",
       "      <td>0</td>\n",
       "    </tr>\n",
       "  </tbody>\n",
       "</table>\n",
       "</div>"
      ],
      "text/plain": [
       "predict  5    6  7\n",
       "real              \n",
       "3        1    1  0\n",
       "4        1   20  0\n",
       "5        9  197  1\n",
       "6        7  185  3\n",
       "7        0   52  0\n",
       "8        0    3  0"
      ]
     },
     "execution_count": 20,
     "metadata": {},
     "output_type": "execute_result"
    }
   ],
   "source": [
    "pred = np.argmax(model.predict(scaler.transform(test_X)), axis=1)+3\n",
    "real = np.argmax(test_Y, axis=1)+3\n",
    "ct = pd.crosstab(real, pred)\n",
    "ct.index.name = \"real\"\n",
    "ct.columns.name='predict'\n",
    "ct"
   ]
  },
  {
   "cell_type": "code",
   "execution_count": 21,
   "metadata": {
    "ExecuteTime": {
     "end_time": "2021-03-25T14:10:37.726666Z",
     "start_time": "2021-03-25T14:10:37.643887Z"
    }
   },
   "outputs": [
    {
     "name": "stdout",
     "output_type": "stream",
     "text": [
      "35/35 [==============================] - 0s 675us/step - loss: 0.7996 - accuracy: 0.6836\n",
      "loss :  0.7995713353157043\n",
      "accuracy :  0.6836460828781128\n"
     ]
    }
   ],
   "source": [
    "# 6. 모델 사용하기\n",
    "loss_and_acc = model.evaluate(train_X, train_Y, batch_size=32)\n",
    "print('loss : ', loss_and_acc[0])\n",
    "print('accuracy : ', loss_and_acc[1])"
   ]
  },
  {
   "cell_type": "markdown",
   "metadata": {},
   "source": [
    "# redwine_y = utils.to_categorical(redwine_y)"
   ]
  },
  {
   "cell_type": "code",
   "execution_count": 22,
   "metadata": {
    "ExecuteTime": {
     "end_time": "2021-03-25T14:11:04.755738Z",
     "start_time": "2021-03-25T14:10:59.810806Z"
    }
   },
   "outputs": [
    {
     "name": "stdout",
     "output_type": "stream",
     "text": [
      "종속변수가 될 와인 등급 : [5 6 7 4 8 3]\n",
      "Epoch 1/500\n",
      "5/5 [==============================] - 1s 61ms/step - loss: 2.1125 - accuracy: 0.2655 - val_loss: 1.9828 - val_accuracy: 0.4688\n",
      "Epoch 2/500\n",
      "5/5 [==============================] - 0s 17ms/step - loss: 1.9561 - accuracy: 0.4319 - val_loss: 1.8337 - val_accuracy: 0.5491\n",
      "Epoch 3/500\n",
      "5/5 [==============================] - 0s 17ms/step - loss: 1.8094 - accuracy: 0.4964 - val_loss: 1.6715 - val_accuracy: 0.5491\n",
      "Epoch 4/500\n",
      "5/5 [==============================] - 0s 14ms/step - loss: 1.6247 - accuracy: 0.5450 - val_loss: 1.5068 - val_accuracy: 0.5446\n",
      "Epoch 5/500\n",
      "5/5 [==============================] - 0s 11ms/step - loss: 1.4942 - accuracy: 0.5413 - val_loss: 1.3625 - val_accuracy: 0.5580\n",
      "Epoch 6/500\n",
      "5/5 [==============================] - 0s 22ms/step - loss: 1.3576 - accuracy: 0.5279 - val_loss: 1.2493 - val_accuracy: 0.5804\n",
      "Epoch 7/500\n",
      "5/5 [==============================] - 0s 37ms/step - loss: 1.2299 - accuracy: 0.5672 - val_loss: 1.1669 - val_accuracy: 0.5982\n",
      "Epoch 8/500\n",
      "5/5 [==============================] - 0s 14ms/step - loss: 1.1584 - accuracy: 0.5857 - val_loss: 1.1107 - val_accuracy: 0.5938\n",
      "Epoch 9/500\n",
      "5/5 [==============================] - 0s 10ms/step - loss: 1.1015 - accuracy: 0.5713 - val_loss: 1.0701 - val_accuracy: 0.5893\n",
      "Epoch 10/500\n",
      "5/5 [==============================] - 0s 11ms/step - loss: 1.0515 - accuracy: 0.5833 - val_loss: 1.0388 - val_accuracy: 0.5848\n",
      "Epoch 11/500\n",
      "5/5 [==============================] - 0s 10ms/step - loss: 1.0426 - accuracy: 0.5897 - val_loss: 1.0201 - val_accuracy: 0.6161\n",
      "Epoch 12/500\n",
      "5/5 [==============================] - 0s 14ms/step - loss: 1.0190 - accuracy: 0.5967 - val_loss: 1.0132 - val_accuracy: 0.6250\n",
      "Epoch 13/500\n",
      "5/5 [==============================] - 0s 15ms/step - loss: 0.9830 - accuracy: 0.5964 - val_loss: 1.0034 - val_accuracy: 0.6205\n",
      "Epoch 14/500\n",
      "5/5 [==============================] - 0s 16ms/step - loss: 0.9933 - accuracy: 0.5903 - val_loss: 0.9950 - val_accuracy: 0.6161\n",
      "Epoch 15/500\n",
      "5/5 [==============================] - 0s 13ms/step - loss: 0.9755 - accuracy: 0.6011 - val_loss: 0.9876 - val_accuracy: 0.6250\n",
      "Epoch 16/500\n",
      "5/5 [==============================] - 0s 15ms/step - loss: 0.9537 - accuracy: 0.5996 - val_loss: 0.9820 - val_accuracy: 0.6295\n",
      "Epoch 17/500\n",
      "5/5 [==============================] - 0s 11ms/step - loss: 0.9609 - accuracy: 0.5975 - val_loss: 0.9754 - val_accuracy: 0.6339\n",
      "Epoch 18/500\n",
      "5/5 [==============================] - 0s 9ms/step - loss: 0.9434 - accuracy: 0.6211 - val_loss: 0.9715 - val_accuracy: 0.6339\n",
      "Epoch 19/500\n",
      "5/5 [==============================] - 0s 10ms/step - loss: 0.9155 - accuracy: 0.6242 - val_loss: 0.9663 - val_accuracy: 0.6384\n",
      "Epoch 20/500\n",
      "5/5 [==============================] - ETA: 0s - loss: 0.9872 - accuracy: 0.58 - 0s 10ms/step - loss: 0.9496 - accuracy: 0.6120 - val_loss: 0.9637 - val_accuracy: 0.6384\n",
      "Epoch 21/500\n",
      "5/5 [==============================] - 0s 11ms/step - loss: 0.9190 - accuracy: 0.6214 - val_loss: 0.9618 - val_accuracy: 0.6339\n",
      "Epoch 22/500\n",
      "5/5 [==============================] - 0s 10ms/step - loss: 0.9244 - accuracy: 0.6323 - val_loss: 0.9566 - val_accuracy: 0.6339\n",
      "Epoch 23/500\n",
      "5/5 [==============================] - 0s 10ms/step - loss: 0.8806 - accuracy: 0.6416 - val_loss: 0.9535 - val_accuracy: 0.6339\n",
      "Epoch 24/500\n",
      "5/5 [==============================] - 0s 10ms/step - loss: 0.8933 - accuracy: 0.6368 - val_loss: 0.9532 - val_accuracy: 0.6384\n",
      "Epoch 25/500\n",
      "5/5 [==============================] - 0s 10ms/step - loss: 0.8916 - accuracy: 0.6432 - val_loss: 0.9499 - val_accuracy: 0.6295\n",
      "Epoch 26/500\n",
      "5/5 [==============================] - 0s 12ms/step - loss: 0.8783 - accuracy: 0.6448 - val_loss: 0.9479 - val_accuracy: 0.6295\n",
      "Epoch 27/500\n",
      "5/5 [==============================] - 0s 10ms/step - loss: 0.8957 - accuracy: 0.6299 - val_loss: 0.9454 - val_accuracy: 0.6250\n",
      "Epoch 28/500\n",
      "5/5 [==============================] - 0s 13ms/step - loss: 0.8705 - accuracy: 0.6448 - val_loss: 0.9472 - val_accuracy: 0.6161\n",
      "Epoch 29/500\n",
      "5/5 [==============================] - 0s 14ms/step - loss: 0.8565 - accuracy: 0.6657 - val_loss: 0.9482 - val_accuracy: 0.6071\n",
      "Epoch 30/500\n",
      "5/5 [==============================] - 0s 14ms/step - loss: 0.8873 - accuracy: 0.6372 - val_loss: 0.9474 - val_accuracy: 0.6116\n",
      "Epoch 31/500\n",
      "5/5 [==============================] - 0s 13ms/step - loss: 0.8684 - accuracy: 0.6484 - val_loss: 0.9459 - val_accuracy: 0.6161\n",
      "Epoch 32/500\n",
      "5/5 [==============================] - 0s 11ms/step - loss: 0.8425 - accuracy: 0.6584 - val_loss: 0.9479 - val_accuracy: 0.6071\n",
      "Epoch 33/500\n",
      "5/5 [==============================] - 0s 10ms/step - loss: 0.8670 - accuracy: 0.6482 - val_loss: 0.9447 - val_accuracy: 0.6161\n",
      "Epoch 34/500\n",
      "5/5 [==============================] - 0s 10ms/step - loss: 0.8488 - accuracy: 0.6598 - val_loss: 0.9454 - val_accuracy: 0.6161\n",
      "Epoch 35/500\n",
      "5/5 [==============================] - 0s 10ms/step - loss: 0.8131 - accuracy: 0.6766 - val_loss: 0.9450 - val_accuracy: 0.6027\n",
      "Epoch 36/500\n",
      "5/5 [==============================] - 0s 10ms/step - loss: 0.8471 - accuracy: 0.6452 - val_loss: 0.9443 - val_accuracy: 0.6116\n",
      "Epoch 37/500\n",
      "5/5 [==============================] - 0s 10ms/step - loss: 0.8239 - accuracy: 0.6604 - val_loss: 0.9457 - val_accuracy: 0.6071\n",
      "Epoch 38/500\n",
      "5/5 [==============================] - 0s 10ms/step - loss: 0.8157 - accuracy: 0.6696 - val_loss: 0.9435 - val_accuracy: 0.6116\n",
      "Epoch 39/500\n",
      "5/5 [==============================] - 0s 14ms/step - loss: 0.8083 - accuracy: 0.6675 - val_loss: 0.9439 - val_accuracy: 0.6116\n",
      "Epoch 40/500\n",
      "5/5 [==============================] - 0s 16ms/step - loss: 0.7879 - accuracy: 0.6931 - val_loss: 0.9436 - val_accuracy: 0.6205\n",
      "Epoch 41/500\n",
      "5/5 [==============================] - 0s 15ms/step - loss: 0.7990 - accuracy: 0.6844 - val_loss: 0.9430 - val_accuracy: 0.6250\n",
      "Epoch 42/500\n",
      "5/5 [==============================] - 0s 12ms/step - loss: 0.8206 - accuracy: 0.6730 - val_loss: 0.9424 - val_accuracy: 0.6205\n",
      "Epoch 43/500\n",
      "5/5 [==============================] - 0s 10ms/step - loss: 0.8191 - accuracy: 0.6775 - val_loss: 0.9417 - val_accuracy: 0.6295\n",
      "Epoch 44/500\n",
      "5/5 [==============================] - 0s 10ms/step - loss: 0.8021 - accuracy: 0.6861 - val_loss: 0.9474 - val_accuracy: 0.6161\n",
      "Epoch 45/500\n",
      "5/5 [==============================] - 0s 10ms/step - loss: 0.7872 - accuracy: 0.6808 - val_loss: 0.9423 - val_accuracy: 0.6295\n",
      "Epoch 46/500\n",
      "5/5 [==============================] - 0s 10ms/step - loss: 0.7962 - accuracy: 0.6777 - val_loss: 0.9419 - val_accuracy: 0.6295\n",
      "Epoch 47/500\n",
      "5/5 [==============================] - 0s 10ms/step - loss: 0.7785 - accuracy: 0.6838 - val_loss: 0.9468 - val_accuracy: 0.6250\n",
      "Epoch 48/500\n",
      "5/5 [==============================] - 0s 10ms/step - loss: 0.7854 - accuracy: 0.6927 - val_loss: 0.9416 - val_accuracy: 0.6250\n",
      "Epoch 49/500\n",
      "5/5 [==============================] - 0s 10ms/step - loss: 0.7848 - accuracy: 0.6863 - val_loss: 0.9405 - val_accuracy: 0.6295\n",
      "Epoch 50/500\n",
      "5/5 [==============================] - 0s 10ms/step - loss: 0.7882 - accuracy: 0.6761 - val_loss: 0.9434 - val_accuracy: 0.6339\n",
      "Epoch 51/500\n",
      "5/5 [==============================] - 0s 10ms/step - loss: 0.7737 - accuracy: 0.6826 - val_loss: 0.9450 - val_accuracy: 0.6339\n",
      "Epoch 52/500\n",
      "5/5 [==============================] - 0s 10ms/step - loss: 0.7585 - accuracy: 0.6934 - val_loss: 0.9422 - val_accuracy: 0.6250\n",
      "Epoch 53/500\n",
      "5/5 [==============================] - 0s 10ms/step - loss: 0.7583 - accuracy: 0.6830 - val_loss: 0.9435 - val_accuracy: 0.6205\n",
      "Epoch 54/500\n",
      "5/5 [==============================] - 0s 10ms/step - loss: 0.7546 - accuracy: 0.6945 - val_loss: 0.9495 - val_accuracy: 0.6339\n",
      "Epoch 55/500\n",
      "5/5 [==============================] - 0s 11ms/step - loss: 0.7604 - accuracy: 0.6962 - val_loss: 0.9492 - val_accuracy: 0.6205\n",
      "Epoch 56/500\n",
      "5/5 [==============================] - 0s 10ms/step - loss: 0.7331 - accuracy: 0.7089 - val_loss: 0.9486 - val_accuracy: 0.6295\n",
      "Epoch 57/500\n",
      "5/5 [==============================] - 0s 10ms/step - loss: 0.7376 - accuracy: 0.7095 - val_loss: 0.9471 - val_accuracy: 0.6250\n",
      "Epoch 58/500\n",
      "5/5 [==============================] - 0s 10ms/step - loss: 0.7319 - accuracy: 0.7048 - val_loss: 0.9529 - val_accuracy: 0.6295\n"
     ]
    },
    {
     "name": "stdout",
     "output_type": "stream",
     "text": [
      "Epoch 59/500\n",
      "5/5 [==============================] - 0s 9ms/step - loss: 0.7379 - accuracy: 0.7047 - val_loss: 0.9505 - val_accuracy: 0.6205\n",
      "Epoch 60/500\n",
      "5/5 [==============================] - 0s 9ms/step - loss: 0.7407 - accuracy: 0.6964 - val_loss: 0.9529 - val_accuracy: 0.6295\n",
      "Epoch 61/500\n",
      "5/5 [==============================] - 0s 11ms/step - loss: 0.7331 - accuracy: 0.7048 - val_loss: 0.9498 - val_accuracy: 0.6295\n",
      "Epoch 62/500\n",
      "5/5 [==============================] - 0s 10ms/step - loss: 0.7465 - accuracy: 0.7089 - val_loss: 0.9506 - val_accuracy: 0.6339\n",
      "Epoch 63/500\n",
      "5/5 [==============================] - 0s 10ms/step - loss: 0.7284 - accuracy: 0.7084 - val_loss: 0.9525 - val_accuracy: 0.6295\n",
      "Epoch 64/500\n",
      "5/5 [==============================] - 0s 9ms/step - loss: 0.7128 - accuracy: 0.7086 - val_loss: 0.9534 - val_accuracy: 0.6295\n",
      "Epoch 65/500\n",
      "5/5 [==============================] - 0s 30ms/step - loss: 0.7071 - accuracy: 0.7086 - val_loss: 0.9558 - val_accuracy: 0.6295\n",
      "Epoch 66/500\n",
      "5/5 [==============================] - 0s 29ms/step - loss: 0.6962 - accuracy: 0.7228 - val_loss: 0.9560 - val_accuracy: 0.6250\n",
      "Epoch 67/500\n",
      "5/5 [==============================] - 0s 23ms/step - loss: 0.6967 - accuracy: 0.7179 - val_loss: 0.9590 - val_accuracy: 0.6205\n",
      "Epoch 68/500\n",
      "5/5 [==============================] - 0s 14ms/step - loss: 0.7084 - accuracy: 0.7136 - val_loss: 0.9646 - val_accuracy: 0.6339\n",
      "Epoch 69/500\n",
      "5/5 [==============================] - 0s 12ms/step - loss: 0.6790 - accuracy: 0.7371 - val_loss: 0.9582 - val_accuracy: 0.6205\n"
     ]
    },
    {
     "data": {
      "image/png": "[encoded data removed]",
      "text/plain": [
       "<Figure size 432x288 with 2 Axes>"
      ]
     },
     "metadata": {
      "needs_background": "light"
     },
     "output_type": "display_data"
    }
   ],
   "source": [
    "# 1. 데이터 셋 준비하기\n",
    "redwine = pd.read_csv(r'C:\\Users\\82105\\Desktop\\data/wine.csv', sep=';')\n",
    "redwine_x = redwine.iloc[:,:-1].to_numpy() # 6개 분류로 나눠짐\n",
    "redwine_y = redwine.iloc[:,-1]\n",
    "print('종속변수가 될 와인 등급 :',redwine_y.unique()) # 결과가 5 6 7 4 8 3 등급\n",
    "\n",
    "# scale 조정\n",
    "from sklearn.preprocessing import StandardScaler\n",
    "scaler = StandardScaler()\n",
    "scaler.fit(redwine_x)\n",
    "redwine_x = scaler.transform(redwine_x)\n",
    "\n",
    "# 데이터 셋 전처리(라벨링) ; 원 핫 인코딩 후 numpy형으로 변환\n",
    "# redwine_y = pd.get_dummies(redwine_y).to_numpy()\n",
    "redwine_y = utils.to_categorical(redwine_y)\n",
    "\n",
    "# 훈련셋과 테스트셋 분리\n",
    "train_X, test_X, train_Y, test_Y = \\\n",
    "    train_test_split(redwine_x, redwine_y, test_size=0.3, random_state=1)\n",
    "\n",
    "# 2. 모델 구성하기\n",
    "model = Sequential()\n",
    "model.add(Input(11))\n",
    "model.add(Dense(50, activation='relu'))\n",
    "# model.add(Dense(50, input_dim=11, activation='relu'))\n",
    "model.add(Dense(50, activation='relu'))\n",
    "model.add(Dense(30, activation='relu'))\n",
    "model.add(Dense(9, activation='softmax')) # 3,4,5,6,7,8 등급 분류\n",
    "\n",
    "# 3. 모델 컴파일\n",
    "model.compile(optimizer='adam', loss='categorical_crossentropy', metrics=['accuracy'])\n",
    "# model.compile(optimizer='adam', loss='categorical_crossentropy', metrics=[metrics.Recall()])\n",
    "# model.compile(optimizer='adam', loss='categorical_crossentropy', metrics=[metrics.Precision()])\n",
    "\n",
    "# 4. 모델 학습시키기\n",
    "early_stopping = EarlyStopping(monitor='val_loss', patience=20)\n",
    "fit_hist = model.fit(train_X, train_Y, batch_size=200, epochs=500,\n",
    "                    validation_split=0.2,\n",
    "                    callbacks=[early_stopping])\n",
    "# 5. 모델 학습 과정 표시하기\n",
    "# 모델 학습 과정 표시하기\n",
    "%matplotlib inline\n",
    "import matplotlib.pyplot as plt\n",
    "\n",
    "fig, loss_ax = plt.subplots()\n",
    "\n",
    "loss_ax.plot(fit_hist.history['loss'],'y', label='train loss')\n",
    "loss_ax.plot(fit_hist.history['val_loss'],'r', label='val loss')\n",
    "loss_ax.set_xlabel('epoch')\n",
    "loss_ax.set_ylabel('loss')\n",
    "loss_ax.legend(loc='upper left')\n",
    "\n",
    "acc_ax = loss_ax.twinx()\n",
    "acc_ax.plot(fit_hist.history['accuracy'],'b', label='train accuracy')\n",
    "acc_ax.plot(fit_hist.history['val_accuracy'], 'g', label='val accuracy')\n",
    "acc_ax.set_ylabel('accuracy')\n",
    "acc_ax.legend(loc='lower left')\n",
    "plt.show()"
   ]
  },
  {
   "cell_type": "code",
   "execution_count": 23,
   "metadata": {
    "ExecuteTime": {
     "end_time": "2021-03-25T14:11:35.012104Z",
     "start_time": "2021-03-25T14:11:34.898408Z"
    }
   },
   "outputs": [
    {
     "data": {
      "text/html": [
       "<div>\n",
       "<style scoped>\n",
       "    .dataframe tbody tr th:only-of-type {\n",
       "        vertical-align: middle;\n",
       "    }\n",
       "\n",
       "    .dataframe tbody tr th {\n",
       "        vertical-align: top;\n",
       "    }\n",
       "\n",
       "    .dataframe thead th {\n",
       "        text-align: right;\n",
       "    }\n",
       "</style>\n",
       "<table border=\"1\" class=\"dataframe\">\n",
       "  <thead>\n",
       "    <tr style=\"text-align: right;\">\n",
       "      <th>predict</th>\n",
       "      <th>5</th>\n",
       "      <th>6</th>\n",
       "    </tr>\n",
       "    <tr>\n",
       "      <th>real</th>\n",
       "      <th></th>\n",
       "      <th></th>\n",
       "    </tr>\n",
       "  </thead>\n",
       "  <tbody>\n",
       "    <tr>\n",
       "      <th>3</th>\n",
       "      <td>0</td>\n",
       "      <td>2</td>\n",
       "    </tr>\n",
       "    <tr>\n",
       "      <th>4</th>\n",
       "      <td>0</td>\n",
       "      <td>21</td>\n",
       "    </tr>\n",
       "    <tr>\n",
       "      <th>5</th>\n",
       "      <td>4</td>\n",
       "      <td>203</td>\n",
       "    </tr>\n",
       "    <tr>\n",
       "      <th>6</th>\n",
       "      <td>5</td>\n",
       "      <td>190</td>\n",
       "    </tr>\n",
       "    <tr>\n",
       "      <th>7</th>\n",
       "      <td>1</td>\n",
       "      <td>51</td>\n",
       "    </tr>\n",
       "    <tr>\n",
       "      <th>8</th>\n",
       "      <td>0</td>\n",
       "      <td>3</td>\n",
       "    </tr>\n",
       "  </tbody>\n",
       "</table>\n",
       "</div>"
      ],
      "text/plain": [
       "predict  5    6\n",
       "real           \n",
       "3        0    2\n",
       "4        0   21\n",
       "5        4  203\n",
       "6        5  190\n",
       "7        1   51\n",
       "8        0    3"
      ]
     },
     "execution_count": 23,
     "metadata": {},
     "output_type": "execute_result"
    }
   ],
   "source": [
    "pred = np.argmax(model.predict(scaler.transform(test_X)), axis=1)\n",
    "ct = pd.crosstab(np.argmax(test_Y, axis=1), pred)\n",
    "ct.index.name=\"real\"\n",
    "ct.columns.name=\"predict\"\n",
    "ct"
   ]
  },
  {
   "cell_type": "code",
   "execution_count": 24,
   "metadata": {
    "ExecuteTime": {
     "end_time": "2021-03-25T14:11:41.395180Z",
     "start_time": "2021-03-25T14:11:41.307441Z"
    }
   },
   "outputs": [
    {
     "name": "stdout",
     "output_type": "stream",
     "text": [
      "35/35 [==============================] - 0s 792us/step - loss: 0.7457 - accuracy: 0.7042\n",
      "loss :  0.7456682324409485\n",
      "accuracy :  0.7042002081871033\n"
     ]
    }
   ],
   "source": [
    "# 6. 모델 사용하기\n",
    "loss_and_acc = model.evaluate(train_X, train_Y, batch_size=32)\n",
    "print('loss : ', loss_and_acc[0])\n",
    "print('accuracy : ', loss_and_acc[1])"
   ]
  },
  {
   "cell_type": "markdown",
   "metadata": {},
   "source": [
    "# scale 조정 안 함"
   ]
  },
  {
   "cell_type": "code",
   "execution_count": 26,
   "metadata": {
    "ExecuteTime": {
     "end_time": "2021-03-25T14:12:27.760560Z",
     "start_time": "2021-03-25T14:12:16.175374Z"
    }
   },
   "outputs": [
    {
     "name": "stdout",
     "output_type": "stream",
     "text": [
      "종속변수가 될 와인 등급 : [5 6 7 4 8 3]\n",
      "Epoch 1/500\n",
      "5/5 [==============================] - 1s 57ms/step - loss: 1.6943 - accuracy: 0.3726 - val_loss: 1.3490 - val_accuracy: 0.4732\n",
      "Epoch 2/500\n",
      "5/5 [==============================] - 0s 13ms/step - loss: 1.2666 - accuracy: 0.4702 - val_loss: 1.2644 - val_accuracy: 0.4821\n",
      "Epoch 3/500\n",
      "5/5 [==============================] - 0s 14ms/step - loss: 1.2945 - accuracy: 0.4871 - val_loss: 1.2716 - val_accuracy: 0.4777\n",
      "Epoch 4/500\n",
      "5/5 [==============================] - 0s 13ms/step - loss: 1.2249 - accuracy: 0.4674 - val_loss: 1.3384 - val_accuracy: 0.4196\n",
      "Epoch 5/500\n",
      "5/5 [==============================] - 0s 12ms/step - loss: 1.2234 - accuracy: 0.4705 - val_loss: 1.2525 - val_accuracy: 0.4732\n",
      "Epoch 6/500\n",
      "5/5 [==============================] - 0s 11ms/step - loss: 1.2423 - accuracy: 0.4834 - val_loss: 1.2386 - val_accuracy: 0.4777\n",
      "Epoch 7/500\n",
      "5/5 [==============================] - 0s 13ms/step - loss: 1.1952 - accuracy: 0.4976 - val_loss: 1.1940 - val_accuracy: 0.5000\n",
      "Epoch 8/500\n",
      "5/5 [==============================] - 0s 11ms/step - loss: 1.1919 - accuracy: 0.5108 - val_loss: 1.2002 - val_accuracy: 0.5000\n",
      "Epoch 9/500\n",
      "5/5 [==============================] - 0s 12ms/step - loss: 1.1719 - accuracy: 0.5116 - val_loss: 1.1778 - val_accuracy: 0.4866\n",
      "Epoch 10/500\n",
      "5/5 [==============================] - 0s 14ms/step - loss: 1.1712 - accuracy: 0.5054 - val_loss: 1.1796 - val_accuracy: 0.4955\n",
      "Epoch 11/500\n",
      "5/5 [==============================] - 0s 12ms/step - loss: 1.1510 - accuracy: 0.5374 - val_loss: 1.1646 - val_accuracy: 0.4911\n",
      "Epoch 12/500\n",
      "5/5 [==============================] - 0s 13ms/step - loss: 1.1417 - accuracy: 0.5282 - val_loss: 1.1825 - val_accuracy: 0.4955\n",
      "Epoch 13/500\n",
      "5/5 [==============================] - 0s 30ms/step - loss: 1.1492 - accuracy: 0.5035 - val_loss: 1.1641 - val_accuracy: 0.4732\n",
      "Epoch 14/500\n",
      "5/5 [==============================] - 0s 27ms/step - loss: 1.1550 - accuracy: 0.5182 - val_loss: 1.1930 - val_accuracy: 0.4955\n",
      "Epoch 15/500\n",
      "5/5 [==============================] - 0s 17ms/step - loss: 1.1508 - accuracy: 0.5111 - val_loss: 1.1646 - val_accuracy: 0.5134\n",
      "Epoch 16/500\n",
      "5/5 [==============================] - 0s 12ms/step - loss: 1.1258 - accuracy: 0.5418 - val_loss: 1.1866 - val_accuracy: 0.5045\n",
      "Epoch 17/500\n",
      "5/5 [==============================] - 0s 10ms/step - loss: 1.1494 - accuracy: 0.5022 - val_loss: 1.1625 - val_accuracy: 0.4821\n",
      "Epoch 18/500\n",
      "5/5 [==============================] - 0s 11ms/step - loss: 1.1224 - accuracy: 0.5268 - val_loss: 1.1856 - val_accuracy: 0.5045\n",
      "Epoch 19/500\n",
      "5/5 [==============================] - 0s 12ms/step - loss: 1.1058 - accuracy: 0.5200 - val_loss: 1.1605 - val_accuracy: 0.4821\n",
      "Epoch 20/500\n",
      "5/5 [==============================] - 0s 10ms/step - loss: 1.1339 - accuracy: 0.5227 - val_loss: 1.1815 - val_accuracy: 0.4866\n",
      "Epoch 21/500\n",
      "5/5 [==============================] - 0s 10ms/step - loss: 1.1296 - accuracy: 0.4988 - val_loss: 1.1564 - val_accuracy: 0.5045\n",
      "Epoch 22/500\n",
      "5/5 [==============================] - 0s 10ms/step - loss: 1.1371 - accuracy: 0.5246 - val_loss: 1.1789 - val_accuracy: 0.4866\n",
      "Epoch 23/500\n",
      "5/5 [==============================] - 0s 11ms/step - loss: 1.1285 - accuracy: 0.5131 - val_loss: 1.1510 - val_accuracy: 0.4955\n",
      "Epoch 24/500\n",
      "5/5 [==============================] - 0s 11ms/step - loss: 1.1239 - accuracy: 0.5120 - val_loss: 1.1653 - val_accuracy: 0.4866\n",
      "Epoch 25/500\n",
      "5/5 [==============================] - 0s 10ms/step - loss: 1.0825 - accuracy: 0.5287 - val_loss: 1.1501 - val_accuracy: 0.4732\n",
      "Epoch 26/500\n",
      "5/5 [==============================] - 0s 10ms/step - loss: 1.1241 - accuracy: 0.5196 - val_loss: 1.1463 - val_accuracy: 0.5045\n",
      "Epoch 27/500\n",
      "5/5 [==============================] - 0s 10ms/step - loss: 1.1234 - accuracy: 0.5145 - val_loss: 1.1590 - val_accuracy: 0.4911\n",
      "Epoch 28/500\n",
      "5/5 [==============================] - 0s 10ms/step - loss: 1.1021 - accuracy: 0.5286 - val_loss: 1.1479 - val_accuracy: 0.4821\n",
      "Epoch 29/500\n",
      "5/5 [==============================] - 0s 10ms/step - loss: 1.1269 - accuracy: 0.5200 - val_loss: 1.1525 - val_accuracy: 0.4911\n",
      "Epoch 30/500\n",
      "5/5 [==============================] - 0s 10ms/step - loss: 1.0811 - accuracy: 0.5393 - val_loss: 1.1469 - val_accuracy: 0.5179\n",
      "Epoch 31/500\n",
      "5/5 [==============================] - 0s 10ms/step - loss: 1.0774 - accuracy: 0.5479 - val_loss: 1.1823 - val_accuracy: 0.4777\n",
      "Epoch 32/500\n",
      "5/5 [==============================] - 0s 10ms/step - loss: 1.0988 - accuracy: 0.5310 - val_loss: 1.1472 - val_accuracy: 0.5134\n",
      "Epoch 33/500\n",
      "5/5 [==============================] - 0s 10ms/step - loss: 1.1078 - accuracy: 0.5171 - val_loss: 1.1554 - val_accuracy: 0.4866\n",
      "Epoch 34/500\n",
      "5/5 [==============================] - 0s 25ms/step - loss: 1.1063 - accuracy: 0.5313 - val_loss: 1.1451 - val_accuracy: 0.5179\n",
      "Epoch 35/500\n",
      "5/5 [==============================] - 0s 23ms/step - loss: 1.1145 - accuracy: 0.5358 - val_loss: 1.1486 - val_accuracy: 0.5045\n",
      "Epoch 36/500\n",
      "5/5 [==============================] - 0s 18ms/step - loss: 1.1018 - accuracy: 0.5362 - val_loss: 1.1483 - val_accuracy: 0.5000\n",
      "Epoch 37/500\n",
      "5/5 [==============================] - 0s 16ms/step - loss: 1.0651 - accuracy: 0.5440 - val_loss: 1.1490 - val_accuracy: 0.5045\n",
      "Epoch 38/500\n",
      "5/5 [==============================] - 0s 13ms/step - loss: 1.1014 - accuracy: 0.5397 - val_loss: 1.1478 - val_accuracy: 0.5000\n",
      "Epoch 39/500\n",
      "5/5 [==============================] - 0s 13ms/step - loss: 1.0759 - accuracy: 0.5477 - val_loss: 1.1604 - val_accuracy: 0.4777\n",
      "Epoch 40/500\n",
      "5/5 [==============================] - 0s 13ms/step - loss: 1.0986 - accuracy: 0.5363 - val_loss: 1.1485 - val_accuracy: 0.5089\n",
      "Epoch 41/500\n",
      "5/5 [==============================] - 0s 11ms/step - loss: 1.0924 - accuracy: 0.5293 - val_loss: 1.1458 - val_accuracy: 0.5089\n",
      "Epoch 42/500\n",
      "5/5 [==============================] - 0s 13ms/step - loss: 1.0832 - accuracy: 0.5466 - val_loss: 1.1582 - val_accuracy: 0.5045\n",
      "Epoch 43/500\n",
      "5/5 [==============================] - 0s 11ms/step - loss: 1.0803 - accuracy: 0.5267 - val_loss: 1.1423 - val_accuracy: 0.5268\n",
      "Epoch 44/500\n",
      "5/5 [==============================] - 0s 12ms/step - loss: 1.0744 - accuracy: 0.5309 - val_loss: 1.1488 - val_accuracy: 0.4955\n",
      "Epoch 45/500\n",
      "5/5 [==============================] - 0s 12ms/step - loss: 1.0593 - accuracy: 0.5307 - val_loss: 1.1563 - val_accuracy: 0.4777\n",
      "Epoch 46/500\n",
      "5/5 [==============================] - 0s 10ms/step - loss: 1.0853 - accuracy: 0.5352 - val_loss: 1.1498 - val_accuracy: 0.4866\n",
      "Epoch 47/500\n",
      "5/5 [==============================] - 0s 12ms/step - loss: 1.0936 - accuracy: 0.5426 - val_loss: 1.1398 - val_accuracy: 0.5312\n",
      "Epoch 48/500\n",
      "5/5 [==============================] - 0s 14ms/step - loss: 1.1132 - accuracy: 0.5080 - val_loss: 1.1459 - val_accuracy: 0.5000\n",
      "Epoch 49/500\n",
      "5/5 [==============================] - 0s 10ms/step - loss: 1.0830 - accuracy: 0.5276 - val_loss: 1.1493 - val_accuracy: 0.4911\n",
      "Epoch 50/500\n",
      "5/5 [==============================] - 0s 14ms/step - loss: 1.0721 - accuracy: 0.5528 - val_loss: 1.1408 - val_accuracy: 0.5045\n",
      "Epoch 51/500\n",
      "5/5 [==============================] - 0s 26ms/step - loss: 1.0804 - accuracy: 0.5408 - val_loss: 1.1492 - val_accuracy: 0.4911\n",
      "Epoch 52/500\n",
      "5/5 [==============================] - 0s 31ms/step - loss: 1.0682 - accuracy: 0.5477 - val_loss: 1.1387 - val_accuracy: 0.5402\n",
      "Epoch 53/500\n",
      "5/5 [==============================] - 0s 12ms/step - loss: 1.0507 - accuracy: 0.5570 - val_loss: 1.1410 - val_accuracy: 0.5089\n",
      "Epoch 54/500\n",
      "5/5 [==============================] - 0s 9ms/step - loss: 1.0568 - accuracy: 0.5416 - val_loss: 1.1712 - val_accuracy: 0.4866\n",
      "Epoch 55/500\n",
      "5/5 [==============================] - 0s 10ms/step - loss: 1.0612 - accuracy: 0.5584 - val_loss: 1.1447 - val_accuracy: 0.5268\n",
      "Epoch 56/500\n",
      "5/5 [==============================] - 0s 10ms/step - loss: 1.0852 - accuracy: 0.5376 - val_loss: 1.1731 - val_accuracy: 0.4955\n",
      "Epoch 57/500\n",
      "5/5 [==============================] - 0s 10ms/step - loss: 1.0778 - accuracy: 0.5460 - val_loss: 1.1378 - val_accuracy: 0.5491\n",
      "Epoch 58/500\n",
      "5/5 [==============================] - 0s 10ms/step - loss: 1.0459 - accuracy: 0.5424 - val_loss: 1.1399 - val_accuracy: 0.5179\n"
     ]
    },
    {
     "name": "stdout",
     "output_type": "stream",
     "text": [
      "Epoch 59/500\n",
      "5/5 [==============================] - 0s 10ms/step - loss: 1.0481 - accuracy: 0.5534 - val_loss: 1.1580 - val_accuracy: 0.5000\n",
      "Epoch 60/500\n",
      "5/5 [==============================] - 0s 11ms/step - loss: 1.0652 - accuracy: 0.5440 - val_loss: 1.1349 - val_accuracy: 0.5625\n",
      "Epoch 61/500\n",
      "5/5 [==============================] - 0s 11ms/step - loss: 1.0636 - accuracy: 0.5509 - val_loss: 1.1327 - val_accuracy: 0.5134\n",
      "Epoch 62/500\n",
      "5/5 [==============================] - 0s 10ms/step - loss: 1.0658 - accuracy: 0.5505 - val_loss: 1.1302 - val_accuracy: 0.5134\n",
      "Epoch 63/500\n",
      "5/5 [==============================] - 0s 11ms/step - loss: 1.0578 - accuracy: 0.5558 - val_loss: 1.1286 - val_accuracy: 0.5089\n",
      "Epoch 64/500\n",
      "5/5 [==============================] - 0s 14ms/step - loss: 1.0281 - accuracy: 0.5668 - val_loss: 1.1323 - val_accuracy: 0.5179\n",
      "Epoch 65/500\n",
      "5/5 [==============================] - 0s 13ms/step - loss: 1.0505 - accuracy: 0.5484 - val_loss: 1.1592 - val_accuracy: 0.5179\n",
      "Epoch 66/500\n",
      "5/5 [==============================] - 0s 15ms/step - loss: 1.0750 - accuracy: 0.5607 - val_loss: 1.1303 - val_accuracy: 0.5179\n",
      "Epoch 67/500\n",
      "5/5 [==============================] - 0s 13ms/step - loss: 1.0488 - accuracy: 0.5677 - val_loss: 1.1276 - val_accuracy: 0.5491\n",
      "Epoch 68/500\n",
      "5/5 [==============================] - 0s 10ms/step - loss: 1.0555 - accuracy: 0.5542 - val_loss: 1.1218 - val_accuracy: 0.5045\n",
      "Epoch 69/500\n",
      "5/5 [==============================] - 0s 10ms/step - loss: 1.0432 - accuracy: 0.5796 - val_loss: 1.1588 - val_accuracy: 0.4955\n",
      "Epoch 70/500\n",
      "5/5 [==============================] - 0s 13ms/step - loss: 1.0295 - accuracy: 0.5791 - val_loss: 1.1242 - val_accuracy: 0.5491\n",
      "Epoch 71/500\n",
      "5/5 [==============================] - 0s 14ms/step - loss: 1.0423 - accuracy: 0.5542 - val_loss: 1.1338 - val_accuracy: 0.5000\n",
      "Epoch 72/500\n",
      "5/5 [==============================] - 0s 16ms/step - loss: 1.0562 - accuracy: 0.5632 - val_loss: 1.1245 - val_accuracy: 0.4911\n",
      "Epoch 73/500\n",
      "5/5 [==============================] - 0s 28ms/step - loss: 1.0296 - accuracy: 0.5853 - val_loss: 1.1271 - val_accuracy: 0.5045\n",
      "Epoch 74/500\n",
      "5/5 [==============================] - 0s 16ms/step - loss: 1.0191 - accuracy: 0.5714 - val_loss: 1.1140 - val_accuracy: 0.5402\n",
      "Epoch 75/500\n",
      "5/5 [==============================] - 0s 11ms/step - loss: 1.0348 - accuracy: 0.5850 - val_loss: 1.1318 - val_accuracy: 0.5000\n",
      "Epoch 76/500\n",
      "5/5 [==============================] - 0s 14ms/step - loss: 1.0382 - accuracy: 0.5817 - val_loss: 1.1248 - val_accuracy: 0.5625\n",
      "Epoch 77/500\n",
      "5/5 [==============================] - 0s 25ms/step - loss: 1.0437 - accuracy: 0.5553 - val_loss: 1.1322 - val_accuracy: 0.5000\n",
      "Epoch 78/500\n",
      "5/5 [==============================] - 0s 20ms/step - loss: 1.0094 - accuracy: 0.6000 - val_loss: 1.1115 - val_accuracy: 0.5714\n",
      "Epoch 79/500\n",
      "5/5 [==============================] - 0s 12ms/step - loss: 1.0373 - accuracy: 0.5526 - val_loss: 1.1072 - val_accuracy: 0.5268\n",
      "Epoch 80/500\n",
      "5/5 [==============================] - 0s 10ms/step - loss: 1.0271 - accuracy: 0.5569 - val_loss: 1.1060 - val_accuracy: 0.5402\n",
      "Epoch 81/500\n",
      "5/5 [==============================] - 0s 12ms/step - loss: 1.0283 - accuracy: 0.5540 - val_loss: 1.1319 - val_accuracy: 0.4911\n",
      "Epoch 82/500\n",
      "5/5 [==============================] - 0s 13ms/step - loss: 1.0201 - accuracy: 0.5758 - val_loss: 1.1100 - val_accuracy: 0.5089\n",
      "Epoch 83/500\n",
      "5/5 [==============================] - 0s 12ms/step - loss: 1.0338 - accuracy: 0.5434 - val_loss: 1.1126 - val_accuracy: 0.5580\n",
      "Epoch 84/500\n",
      "5/5 [==============================] - 0s 12ms/step - loss: 1.0573 - accuracy: 0.5356 - val_loss: 1.1190 - val_accuracy: 0.5000\n",
      "Epoch 85/500\n",
      "5/5 [==============================] - 0s 17ms/step - loss: 1.0309 - accuracy: 0.5402 - val_loss: 1.1072 - val_accuracy: 0.5000\n",
      "Epoch 86/500\n",
      "5/5 [==============================] - 0s 19ms/step - loss: 0.9917 - accuracy: 0.5676 - val_loss: 1.1004 - val_accuracy: 0.5714\n",
      "Epoch 87/500\n",
      "5/5 [==============================] - 0s 17ms/step - loss: 1.0452 - accuracy: 0.5587 - val_loss: 1.1178 - val_accuracy: 0.4955\n",
      "Epoch 88/500\n",
      "5/5 [==============================] - 0s 12ms/step - loss: 0.9838 - accuracy: 0.5804 - val_loss: 1.1022 - val_accuracy: 0.5089\n",
      "Epoch 89/500\n",
      "5/5 [==============================] - 0s 12ms/step - loss: 1.0162 - accuracy: 0.5732 - val_loss: 1.0980 - val_accuracy: 0.5670\n",
      "Epoch 90/500\n",
      "5/5 [==============================] - 0s 10ms/step - loss: 0.9969 - accuracy: 0.5728 - val_loss: 1.1323 - val_accuracy: 0.4821\n",
      "Epoch 91/500\n",
      "5/5 [==============================] - 0s 11ms/step - loss: 0.9875 - accuracy: 0.5745 - val_loss: 1.0910 - val_accuracy: 0.5670\n",
      "Epoch 92/500\n",
      "5/5 [==============================] - 0s 11ms/step - loss: 1.0007 - accuracy: 0.5798 - val_loss: 1.0912 - val_accuracy: 0.5402\n",
      "Epoch 93/500\n",
      "5/5 [==============================] - 0s 39ms/step - loss: 0.9847 - accuracy: 0.5720 - val_loss: 1.1061 - val_accuracy: 0.5000\n",
      "Epoch 94/500\n",
      "5/5 [==============================] - 0s 28ms/step - loss: 0.9786 - accuracy: 0.6006 - val_loss: 1.1006 - val_accuracy: 0.5089\n",
      "Epoch 95/500\n",
      "5/5 [==============================] - 0s 17ms/step - loss: 1.0176 - accuracy: 0.5777 - val_loss: 1.0855 - val_accuracy: 0.5714\n",
      "Epoch 96/500\n",
      "5/5 [==============================] - 0s 14ms/step - loss: 0.9884 - accuracy: 0.5965 - val_loss: 1.1394 - val_accuracy: 0.4821\n",
      "Epoch 97/500\n",
      "5/5 [==============================] - 0s 14ms/step - loss: 0.9926 - accuracy: 0.5805 - val_loss: 1.0900 - val_accuracy: 0.5625\n",
      "Epoch 98/500\n",
      "5/5 [==============================] - 0s 15ms/step - loss: 1.0169 - accuracy: 0.5679 - val_loss: 1.0879 - val_accuracy: 0.5759\n",
      "Epoch 99/500\n",
      "5/5 [==============================] - 0s 17ms/step - loss: 1.0171 - accuracy: 0.5724 - val_loss: 1.1321 - val_accuracy: 0.4821\n",
      "Epoch 100/500\n",
      "5/5 [==============================] - 0s 21ms/step - loss: 1.0253 - accuracy: 0.5673 - val_loss: 1.0922 - val_accuracy: 0.5625\n",
      "Epoch 101/500\n",
      "5/5 [==============================] - 0s 17ms/step - loss: 0.9586 - accuracy: 0.5788 - val_loss: 1.1144 - val_accuracy: 0.4866\n",
      "Epoch 102/500\n",
      "5/5 [==============================] - 0s 16ms/step - loss: 0.9707 - accuracy: 0.5950 - val_loss: 1.0846 - val_accuracy: 0.5580\n",
      "Epoch 103/500\n",
      "5/5 [==============================] - 0s 20ms/step - loss: 0.9731 - accuracy: 0.5903 - val_loss: 1.0840 - val_accuracy: 0.5446\n",
      "Epoch 104/500\n",
      "5/5 [==============================] - 0s 16ms/step - loss: 0.9964 - accuracy: 0.5832 - val_loss: 1.1246 - val_accuracy: 0.4911\n",
      "Epoch 105/500\n",
      "5/5 [==============================] - 0s 16ms/step - loss: 1.0065 - accuracy: 0.5677 - val_loss: 1.0927 - val_accuracy: 0.5625\n",
      "Epoch 106/500\n",
      "5/5 [==============================] - 0s 16ms/step - loss: 1.0190 - accuracy: 0.5682 - val_loss: 1.0964 - val_accuracy: 0.5089\n",
      "Epoch 107/500\n",
      "5/5 [==============================] - 0s 16ms/step - loss: 0.9952 - accuracy: 0.5676 - val_loss: 1.0758 - val_accuracy: 0.5446\n",
      "Epoch 108/500\n",
      "5/5 [==============================] - 0s 15ms/step - loss: 0.9771 - accuracy: 0.6000 - val_loss: 1.0791 - val_accuracy: 0.5714\n",
      "Epoch 109/500\n",
      "5/5 [==============================] - 0s 16ms/step - loss: 0.9820 - accuracy: 0.5778 - val_loss: 1.1711 - val_accuracy: 0.4777\n",
      "Epoch 110/500\n",
      "5/5 [==============================] - 0s 16ms/step - loss: 1.0062 - accuracy: 0.5736 - val_loss: 1.0975 - val_accuracy: 0.5759\n",
      "Epoch 111/500\n",
      "5/5 [==============================] - 0s 17ms/step - loss: 0.9868 - accuracy: 0.5930 - val_loss: 1.1042 - val_accuracy: 0.5134\n",
      "Epoch 112/500\n",
      "5/5 [==============================] - 0s 13ms/step - loss: 0.9565 - accuracy: 0.5944 - val_loss: 1.0659 - val_accuracy: 0.5714\n",
      "Epoch 113/500\n",
      "5/5 [==============================] - 0s 15ms/step - loss: 0.9759 - accuracy: 0.5721 - val_loss: 1.0670 - val_accuracy: 0.5580\n",
      "Epoch 114/500\n",
      "5/5 [==============================] - 0s 16ms/step - loss: 0.9461 - accuracy: 0.6195 - val_loss: 1.0621 - val_accuracy: 0.5670\n",
      "Epoch 115/500\n",
      "5/5 [==============================] - 0s 21ms/step - loss: 0.9350 - accuracy: 0.6060 - val_loss: 1.0565 - val_accuracy: 0.5759\n",
      "Epoch 116/500\n",
      "5/5 [==============================] - 0s 17ms/step - loss: 0.9539 - accuracy: 0.6089 - val_loss: 1.0829 - val_accuracy: 0.5446\n"
     ]
    },
    {
     "name": "stdout",
     "output_type": "stream",
     "text": [
      "Epoch 117/500\n",
      "5/5 [==============================] - 0s 17ms/step - loss: 0.9556 - accuracy: 0.5881 - val_loss: 1.0647 - val_accuracy: 0.5580\n",
      "Epoch 118/500\n",
      "5/5 [==============================] - 0s 16ms/step - loss: 0.9274 - accuracy: 0.6138 - val_loss: 1.0528 - val_accuracy: 0.5848\n",
      "Epoch 119/500\n",
      "5/5 [==============================] - 0s 14ms/step - loss: 0.9041 - accuracy: 0.6256 - val_loss: 1.1117 - val_accuracy: 0.5045\n",
      "Epoch 120/500\n",
      "5/5 [==============================] - 0s 15ms/step - loss: 0.9837 - accuracy: 0.5604 - val_loss: 1.0563 - val_accuracy: 0.5848\n",
      "Epoch 121/500\n",
      "5/5 [==============================] - 0s 15ms/step - loss: 0.9586 - accuracy: 0.5847 - val_loss: 1.0530 - val_accuracy: 0.5848\n",
      "Epoch 122/500\n",
      "5/5 [==============================] - 0s 13ms/step - loss: 0.9305 - accuracy: 0.5953 - val_loss: 1.0760 - val_accuracy: 0.5312\n",
      "Epoch 123/500\n",
      "5/5 [==============================] - 0s 12ms/step - loss: 0.9430 - accuracy: 0.6011 - val_loss: 1.0475 - val_accuracy: 0.5848\n",
      "Epoch 124/500\n",
      "5/5 [==============================] - 0s 13ms/step - loss: 0.9251 - accuracy: 0.6028 - val_loss: 1.0547 - val_accuracy: 0.5625\n",
      "Epoch 125/500\n",
      "5/5 [==============================] - 0s 15ms/step - loss: 0.9188 - accuracy: 0.6231 - val_loss: 1.0507 - val_accuracy: 0.5670\n",
      "Epoch 126/500\n",
      "5/5 [==============================] - 0s 19ms/step - loss: 0.8943 - accuracy: 0.6102 - val_loss: 1.0668 - val_accuracy: 0.5670\n",
      "Epoch 127/500\n",
      "5/5 [==============================] - 0s 14ms/step - loss: 0.9384 - accuracy: 0.5933 - val_loss: 1.0444 - val_accuracy: 0.5804\n",
      "Epoch 128/500\n",
      "5/5 [==============================] - 0s 13ms/step - loss: 0.9170 - accuracy: 0.6074 - val_loss: 1.0473 - val_accuracy: 0.5625\n",
      "Epoch 129/500\n",
      "5/5 [==============================] - 0s 11ms/step - loss: 0.8964 - accuracy: 0.6248 - val_loss: 1.0588 - val_accuracy: 0.5402\n",
      "Epoch 130/500\n",
      "5/5 [==============================] - 0s 11ms/step - loss: 0.9335 - accuracy: 0.5964 - val_loss: 1.0385 - val_accuracy: 0.5893\n",
      "Epoch 131/500\n",
      "5/5 [==============================] - 0s 12ms/step - loss: 0.9174 - accuracy: 0.6227 - val_loss: 1.0509 - val_accuracy: 0.5625\n",
      "Epoch 132/500\n",
      "5/5 [==============================] - 0s 13ms/step - loss: 0.9484 - accuracy: 0.5866 - val_loss: 1.0406 - val_accuracy: 0.5804\n",
      "Epoch 133/500\n",
      "5/5 [==============================] - 0s 12ms/step - loss: 0.9272 - accuracy: 0.6077 - val_loss: 1.0416 - val_accuracy: 0.5759\n",
      "Epoch 134/500\n",
      "5/5 [==============================] - 0s 16ms/step - loss: 0.9177 - accuracy: 0.6091 - val_loss: 1.0399 - val_accuracy: 0.5848\n",
      "Epoch 135/500\n",
      "5/5 [==============================] - 0s 14ms/step - loss: 0.9074 - accuracy: 0.6219 - val_loss: 1.0525 - val_accuracy: 0.5625\n",
      "Epoch 136/500\n",
      "5/5 [==============================] - 0s 14ms/step - loss: 0.8992 - accuracy: 0.6283 - val_loss: 1.0424 - val_accuracy: 0.5670\n",
      "Epoch 137/500\n",
      "5/5 [==============================] - 0s 12ms/step - loss: 0.8966 - accuracy: 0.6259 - val_loss: 1.0538 - val_accuracy: 0.5625\n",
      "Epoch 138/500\n",
      "5/5 [==============================] - 0s 11ms/step - loss: 0.9001 - accuracy: 0.6367 - val_loss: 1.0356 - val_accuracy: 0.5804\n",
      "Epoch 139/500\n",
      "5/5 [==============================] - 0s 10ms/step - loss: 0.9157 - accuracy: 0.6004 - val_loss: 1.0597 - val_accuracy: 0.5759\n",
      "Epoch 140/500\n",
      "5/5 [==============================] - 0s 10ms/step - loss: 0.9069 - accuracy: 0.6270 - val_loss: 1.0410 - val_accuracy: 0.5804\n",
      "Epoch 141/500\n",
      "5/5 [==============================] - 0s 10ms/step - loss: 0.8895 - accuracy: 0.6292 - val_loss: 1.0539 - val_accuracy: 0.5670\n",
      "Epoch 142/500\n",
      "5/5 [==============================] - 0s 11ms/step - loss: 0.9028 - accuracy: 0.6345 - val_loss: 1.0379 - val_accuracy: 0.5759\n",
      "Epoch 143/500\n",
      "5/5 [==============================] - 0s 13ms/step - loss: 0.9172 - accuracy: 0.6024 - val_loss: 1.0299 - val_accuracy: 0.5714\n",
      "Epoch 144/500\n",
      "5/5 [==============================] - 0s 11ms/step - loss: 0.9042 - accuracy: 0.5879 - val_loss: 1.0338 - val_accuracy: 0.5714\n",
      "Epoch 145/500\n",
      "5/5 [==============================] - 0s 10ms/step - loss: 0.8936 - accuracy: 0.6284 - val_loss: 1.0654 - val_accuracy: 0.5312\n",
      "Epoch 146/500\n",
      "5/5 [==============================] - 0s 11ms/step - loss: 0.9047 - accuracy: 0.6175 - val_loss: 1.0301 - val_accuracy: 0.5893\n",
      "Epoch 147/500\n",
      "5/5 [==============================] - 0s 10ms/step - loss: 0.9509 - accuracy: 0.6011 - val_loss: 1.0262 - val_accuracy: 0.5804\n",
      "Epoch 148/500\n",
      "5/5 [==============================] - 0s 10ms/step - loss: 0.9134 - accuracy: 0.6180 - val_loss: 1.0459 - val_accuracy: 0.5580\n",
      "Epoch 149/500\n",
      "5/5 [==============================] - 0s 10ms/step - loss: 0.9113 - accuracy: 0.6144 - val_loss: 1.0325 - val_accuracy: 0.5893\n",
      "Epoch 150/500\n",
      "5/5 [==============================] - 0s 11ms/step - loss: 0.8999 - accuracy: 0.6263 - val_loss: 1.0268 - val_accuracy: 0.5804\n",
      "Epoch 151/500\n",
      "5/5 [==============================] - 0s 12ms/step - loss: 0.9259 - accuracy: 0.5993 - val_loss: 1.1127 - val_accuracy: 0.5045\n",
      "Epoch 152/500\n",
      "5/5 [==============================] - 0s 10ms/step - loss: 0.9478 - accuracy: 0.5823 - val_loss: 1.0323 - val_accuracy: 0.5848\n",
      "Epoch 153/500\n",
      "5/5 [==============================] - 0s 10ms/step - loss: 0.9021 - accuracy: 0.6231 - val_loss: 1.0313 - val_accuracy: 0.5759\n",
      "Epoch 154/500\n",
      "5/5 [==============================] - 0s 10ms/step - loss: 0.9071 - accuracy: 0.6144 - val_loss: 1.0447 - val_accuracy: 0.5580\n",
      "Epoch 155/500\n",
      "5/5 [==============================] - 0s 10ms/step - loss: 0.8720 - accuracy: 0.6283 - val_loss: 1.0218 - val_accuracy: 0.5848\n",
      "Epoch 156/500\n",
      "5/5 [==============================] - 0s 10ms/step - loss: 0.8724 - accuracy: 0.6426 - val_loss: 1.0438 - val_accuracy: 0.5536\n",
      "Epoch 157/500\n",
      "5/5 [==============================] - 0s 10ms/step - loss: 0.8709 - accuracy: 0.6417 - val_loss: 1.0267 - val_accuracy: 0.5759\n",
      "Epoch 158/500\n",
      "5/5 [==============================] - 0s 11ms/step - loss: 0.8905 - accuracy: 0.6265 - val_loss: 1.0245 - val_accuracy: 0.5848\n",
      "Epoch 159/500\n",
      "5/5 [==============================] - 0s 10ms/step - loss: 0.8596 - accuracy: 0.6225 - val_loss: 1.0561 - val_accuracy: 0.5357\n",
      "Epoch 160/500\n",
      "5/5 [==============================] - 0s 10ms/step - loss: 0.8815 - accuracy: 0.6152 - val_loss: 1.0187 - val_accuracy: 0.5848\n",
      "Epoch 161/500\n",
      "5/5 [==============================] - 0s 11ms/step - loss: 0.9017 - accuracy: 0.6206 - val_loss: 1.0249 - val_accuracy: 0.5804\n",
      "Epoch 162/500\n",
      "5/5 [==============================] - 0s 11ms/step - loss: 0.8692 - accuracy: 0.6222 - val_loss: 1.0478 - val_accuracy: 0.5580\n",
      "Epoch 163/500\n",
      "5/5 [==============================] - 0s 10ms/step - loss: 0.9017 - accuracy: 0.6397 - val_loss: 1.0301 - val_accuracy: 0.5893\n",
      "Epoch 164/500\n",
      "5/5 [==============================] - 0s 11ms/step - loss: 0.9332 - accuracy: 0.6061 - val_loss: 1.0358 - val_accuracy: 0.5670\n",
      "Epoch 165/500\n",
      "5/5 [==============================] - 0s 11ms/step - loss: 0.9235 - accuracy: 0.6038 - val_loss: 1.0793 - val_accuracy: 0.5268\n",
      "Epoch 166/500\n",
      "5/5 [==============================] - 0s 11ms/step - loss: 0.8924 - accuracy: 0.6068 - val_loss: 1.0520 - val_accuracy: 0.5714\n",
      "Epoch 167/500\n",
      "5/5 [==============================] - 0s 11ms/step - loss: 0.9028 - accuracy: 0.6103 - val_loss: 1.0588 - val_accuracy: 0.5357\n",
      "Epoch 168/500\n",
      "5/5 [==============================] - 0s 11ms/step - loss: 0.8984 - accuracy: 0.6201 - val_loss: 1.0265 - val_accuracy: 0.5804\n",
      "Epoch 169/500\n",
      "5/5 [==============================] - 0s 11ms/step - loss: 0.8912 - accuracy: 0.6211 - val_loss: 1.0191 - val_accuracy: 0.5804\n",
      "Epoch 170/500\n",
      "5/5 [==============================] - 0s 10ms/step - loss: 0.8815 - accuracy: 0.6273 - val_loss: 1.0463 - val_accuracy: 0.5580\n",
      "Epoch 171/500\n",
      "5/5 [==============================] - 0s 15ms/step - loss: 0.8631 - accuracy: 0.6275 - val_loss: 1.0261 - val_accuracy: 0.5804\n",
      "Epoch 172/500\n",
      "5/5 [==============================] - 0s 10ms/step - loss: 0.8677 - accuracy: 0.6160 - val_loss: 1.0437 - val_accuracy: 0.5536\n",
      "Epoch 173/500\n",
      "5/5 [==============================] - 0s 11ms/step - loss: 0.8926 - accuracy: 0.6081 - val_loss: 1.0228 - val_accuracy: 0.5625\n",
      "Epoch 174/500\n",
      "5/5 [==============================] - 0s 11ms/step - loss: 0.8574 - accuracy: 0.6484 - val_loss: 1.0282 - val_accuracy: 0.5670\n"
     ]
    },
    {
     "name": "stdout",
     "output_type": "stream",
     "text": [
      "Epoch 175/500\n",
      "5/5 [==============================] - 0s 10ms/step - loss: 0.8762 - accuracy: 0.6376 - val_loss: 1.0301 - val_accuracy: 0.5759\n",
      "Epoch 176/500\n",
      "5/5 [==============================] - 0s 10ms/step - loss: 0.8839 - accuracy: 0.6347 - val_loss: 1.0223 - val_accuracy: 0.5982\n",
      "Epoch 177/500\n",
      "5/5 [==============================] - 0s 12ms/step - loss: 0.9100 - accuracy: 0.6006 - val_loss: 1.0379 - val_accuracy: 0.5580\n",
      "Epoch 178/500\n",
      "5/5 [==============================] - 0s 12ms/step - loss: 0.8514 - accuracy: 0.6397 - val_loss: 1.0408 - val_accuracy: 0.5759\n",
      "Epoch 179/500\n",
      "5/5 [==============================] - 0s 11ms/step - loss: 0.8719 - accuracy: 0.6440 - val_loss: 1.0325 - val_accuracy: 0.5804\n",
      "Epoch 180/500\n",
      "5/5 [==============================] - 0s 10ms/step - loss: 0.8822 - accuracy: 0.6317 - val_loss: 1.0276 - val_accuracy: 0.5893\n"
     ]
    },
    {
     "data": {
      "image/png": "[encoded data removed]",
      "text/plain": [
       "<Figure size 432x288 with 2 Axes>"
      ]
     },
     "metadata": {
      "needs_background": "light"
     },
     "output_type": "display_data"
    }
   ],
   "source": [
    "\n",
    "# 1. 데이터 셋 준비하기\n",
    "redwine = pd.read_csv(r'C:\\Users\\82105\\Desktop\\data/wine.csv', sep=';')\n",
    "redwine_x = redwine.iloc[:,:-1].to_numpy()\n",
    "redwine_y = redwine.iloc[:,-1]\n",
    "print('종속변수가 될 와인 등급 :',redwine_y.unique())\n",
    "# 데이터 셋 전처리(라벨링) ; 원 핫 인코딩 후 numpy형으로 변환\n",
    "redwine_y = pd.get_dummies(redwine_y).to_numpy()\n",
    "\n",
    "# 훈련셋과 테스트셋 분리\n",
    "train_X, test_X, train_Y, test_Y = \\\n",
    "    train_test_split(redwine_x, redwine_y, test_size=0.3, random_state=1)\n",
    "\n",
    "# 2. 모델 구성하기\n",
    "model = Sequential()\n",
    "model.add(Input(11))\n",
    "model.add(Dense(50, activation='relu'))\n",
    "model.add(Dense(50, activation='relu'))\n",
    "model.add(Dense(30, activation='relu'))\n",
    "model.add(Dense(6, activation='softmax')) # 3,4,5,6,7,8 등급 분류\n",
    "\n",
    "# 3. 모델 컴파일\n",
    "model.compile(optimizer='adam', loss='categorical_crossentropy', metrics=['accuracy'])\n",
    "\n",
    "# 4. 모델 학습시키기\n",
    "early_stopping = EarlyStopping(monitor='val_loss', mode='min', patience=20)\n",
    "fit_hist = model.fit(train_X, train_Y, batch_size=200, epochs=500,\n",
    "                    validation_split=0.2,\n",
    "                    callbacks=[early_stopping])\n",
    "# 5. 모델 학습 과정 표시하기\n",
    "# 모델 학습 과정 표시하기\n",
    "%matplotlib inline\n",
    "import matplotlib.pyplot as plt\n",
    "\n",
    "fig, loss_ax = plt.subplots()\n",
    "\n",
    "loss_ax.plot(fit_hist.history['loss'],'y', label='train loss')\n",
    "loss_ax.plot(fit_hist.history['val_loss'],'r', label='val loss')\n",
    "loss_ax.set_xlabel('epoch')\n",
    "loss_ax.set_ylabel('loss')\n",
    "loss_ax.legend(loc='upper left')\n",
    "\n",
    "acc_ax = loss_ax.twinx()\n",
    "acc_ax.plot(fit_hist.history['accuracy'],'b', label='train acc')\n",
    "acc_ax.plot(fit_hist.history['val_accuracy'], 'g', label='val acc')\n",
    "acc_ax.set_ylabel('accuracy')\n",
    "acc_ax.legend(loc='lower left')\n",
    "plt.show()"
   ]
  },
  {
   "cell_type": "code",
   "execution_count": 27,
   "metadata": {
    "ExecuteTime": {
     "end_time": "2021-03-25T14:12:37.234328Z",
     "start_time": "2021-03-25T14:12:37.216412Z"
    }
   },
   "outputs": [
    {
     "data": {
      "text/html": [
       "<div>\n",
       "<style scoped>\n",
       "    .dataframe tbody tr th:only-of-type {\n",
       "        vertical-align: middle;\n",
       "    }\n",
       "\n",
       "    .dataframe tbody tr th {\n",
       "        vertical-align: top;\n",
       "    }\n",
       "\n",
       "    .dataframe thead th {\n",
       "        text-align: right;\n",
       "    }\n",
       "</style>\n",
       "<table border=\"1\" class=\"dataframe\">\n",
       "  <thead>\n",
       "    <tr style=\"text-align: right;\">\n",
       "      <th></th>\n",
       "      <th>fixed acidity</th>\n",
       "      <th>volatile acidity</th>\n",
       "      <th>citric acid</th>\n",
       "      <th>residual sugar</th>\n",
       "      <th>chlorides</th>\n",
       "      <th>free sulfur dioxide</th>\n",
       "      <th>total sulfur dioxide</th>\n",
       "      <th>density</th>\n",
       "      <th>pH</th>\n",
       "      <th>sulphates</th>\n",
       "      <th>alcohol</th>\n",
       "      <th>quality</th>\n",
       "    </tr>\n",
       "  </thead>\n",
       "  <tbody>\n",
       "    <tr>\n",
       "      <th>0</th>\n",
       "      <td>7.4</td>\n",
       "      <td>0.70</td>\n",
       "      <td>0.00</td>\n",
       "      <td>1.9</td>\n",
       "      <td>0.076</td>\n",
       "      <td>11.0</td>\n",
       "      <td>34.0</td>\n",
       "      <td>0.9978</td>\n",
       "      <td>3.51</td>\n",
       "      <td>0.56</td>\n",
       "      <td>9.4</td>\n",
       "      <td>5</td>\n",
       "    </tr>\n",
       "    <tr>\n",
       "      <th>1</th>\n",
       "      <td>7.8</td>\n",
       "      <td>0.88</td>\n",
       "      <td>0.00</td>\n",
       "      <td>2.6</td>\n",
       "      <td>0.098</td>\n",
       "      <td>25.0</td>\n",
       "      <td>67.0</td>\n",
       "      <td>0.9968</td>\n",
       "      <td>3.20</td>\n",
       "      <td>0.68</td>\n",
       "      <td>9.8</td>\n",
       "      <td>5</td>\n",
       "    </tr>\n",
       "    <tr>\n",
       "      <th>2</th>\n",
       "      <td>7.8</td>\n",
       "      <td>0.76</td>\n",
       "      <td>0.04</td>\n",
       "      <td>2.3</td>\n",
       "      <td>0.092</td>\n",
       "      <td>15.0</td>\n",
       "      <td>54.0</td>\n",
       "      <td>0.9970</td>\n",
       "      <td>3.26</td>\n",
       "      <td>0.65</td>\n",
       "      <td>9.8</td>\n",
       "      <td>5</td>\n",
       "    </tr>\n",
       "    <tr>\n",
       "      <th>3</th>\n",
       "      <td>11.2</td>\n",
       "      <td>0.28</td>\n",
       "      <td>0.56</td>\n",
       "      <td>1.9</td>\n",
       "      <td>0.075</td>\n",
       "      <td>17.0</td>\n",
       "      <td>60.0</td>\n",
       "      <td>0.9980</td>\n",
       "      <td>3.16</td>\n",
       "      <td>0.58</td>\n",
       "      <td>9.8</td>\n",
       "      <td>6</td>\n",
       "    </tr>\n",
       "    <tr>\n",
       "      <th>4</th>\n",
       "      <td>7.4</td>\n",
       "      <td>0.70</td>\n",
       "      <td>0.00</td>\n",
       "      <td>1.9</td>\n",
       "      <td>0.076</td>\n",
       "      <td>11.0</td>\n",
       "      <td>34.0</td>\n",
       "      <td>0.9978</td>\n",
       "      <td>3.51</td>\n",
       "      <td>0.56</td>\n",
       "      <td>9.4</td>\n",
       "      <td>5</td>\n",
       "    </tr>\n",
       "  </tbody>\n",
       "</table>\n",
       "</div>"
      ],
      "text/plain": [
       "   fixed acidity  volatile acidity  citric acid  residual sugar  chlorides  \\\n",
       "0            7.4              0.70         0.00             1.9      0.076   \n",
       "1            7.8              0.88         0.00             2.6      0.098   \n",
       "2            7.8              0.76         0.04             2.3      0.092   \n",
       "3           11.2              0.28         0.56             1.9      0.075   \n",
       "4            7.4              0.70         0.00             1.9      0.076   \n",
       "\n",
       "   free sulfur dioxide  total sulfur dioxide  density    pH  sulphates  \\\n",
       "0                 11.0                  34.0   0.9978  3.51       0.56   \n",
       "1                 25.0                  67.0   0.9968  3.20       0.68   \n",
       "2                 15.0                  54.0   0.9970  3.26       0.65   \n",
       "3                 17.0                  60.0   0.9980  3.16       0.58   \n",
       "4                 11.0                  34.0   0.9978  3.51       0.56   \n",
       "\n",
       "   alcohol  quality  \n",
       "0      9.4        5  \n",
       "1      9.8        5  \n",
       "2      9.8        5  \n",
       "3      9.8        6  \n",
       "4      9.4        5  "
      ]
     },
     "execution_count": 27,
     "metadata": {},
     "output_type": "execute_result"
    }
   ],
   "source": [
    "redwine.head()"
   ]
  },
  {
   "cell_type": "code",
   "execution_count": 28,
   "metadata": {
    "ExecuteTime": {
     "end_time": "2021-03-25T14:12:46.590247Z",
     "start_time": "2021-03-25T14:12:46.483499Z"
    }
   },
   "outputs": [
    {
     "data": {
      "text/html": [
       "<div>\n",
       "<style scoped>\n",
       "    .dataframe tbody tr th:only-of-type {\n",
       "        vertical-align: middle;\n",
       "    }\n",
       "\n",
       "    .dataframe tbody tr th {\n",
       "        vertical-align: top;\n",
       "    }\n",
       "\n",
       "    .dataframe thead th {\n",
       "        text-align: right;\n",
       "    }\n",
       "</style>\n",
       "<table border=\"1\" class=\"dataframe\">\n",
       "  <thead>\n",
       "    <tr style=\"text-align: right;\">\n",
       "      <th>predict</th>\n",
       "      <th>5</th>\n",
       "      <th>6</th>\n",
       "      <th>7</th>\n",
       "    </tr>\n",
       "    <tr>\n",
       "      <th>real</th>\n",
       "      <th></th>\n",
       "      <th></th>\n",
       "      <th></th>\n",
       "    </tr>\n",
       "  </thead>\n",
       "  <tbody>\n",
       "    <tr>\n",
       "      <th>3</th>\n",
       "      <td>2</td>\n",
       "      <td>0</td>\n",
       "      <td>0</td>\n",
       "    </tr>\n",
       "    <tr>\n",
       "      <th>4</th>\n",
       "      <td>17</td>\n",
       "      <td>4</td>\n",
       "      <td>0</td>\n",
       "    </tr>\n",
       "    <tr>\n",
       "      <th>5</th>\n",
       "      <td>165</td>\n",
       "      <td>41</td>\n",
       "      <td>1</td>\n",
       "    </tr>\n",
       "    <tr>\n",
       "      <th>6</th>\n",
       "      <td>76</td>\n",
       "      <td>105</td>\n",
       "      <td>14</td>\n",
       "    </tr>\n",
       "    <tr>\n",
       "      <th>7</th>\n",
       "      <td>6</td>\n",
       "      <td>30</td>\n",
       "      <td>16</td>\n",
       "    </tr>\n",
       "    <tr>\n",
       "      <th>8</th>\n",
       "      <td>0</td>\n",
       "      <td>1</td>\n",
       "      <td>2</td>\n",
       "    </tr>\n",
       "  </tbody>\n",
       "</table>\n",
       "</div>"
      ],
      "text/plain": [
       "predict    5    6   7\n",
       "real                 \n",
       "3          2    0   0\n",
       "4         17    4   0\n",
       "5        165   41   1\n",
       "6         76  105  14\n",
       "7          6   30  16\n",
       "8          0    1   2"
      ]
     },
     "execution_count": 28,
     "metadata": {},
     "output_type": "execute_result"
    }
   ],
   "source": [
    "import numpy as np\n",
    "# 각 클래스별 확률을 출력하므로 argmax를 이용해서 가장 큰 인덱스를 값으로\n",
    "pred = np.argmax(model.predict(test_X), axis=1)\n",
    "ct = pd.crosstab(np.argmax(test_Y, axis=1)+3, pred+3)\n",
    "ct.index.name = 'real'\n",
    "ct.columns.name = 'predict'\n",
    "ct"
   ]
  },
  {
   "cell_type": "code",
   "execution_count": 29,
   "metadata": {
    "ExecuteTime": {
     "end_time": "2021-03-25T14:12:53.010830Z",
     "start_time": "2021-03-25T14:12:52.934530Z"
    }
   },
   "outputs": [
    {
     "name": "stdout",
     "output_type": "stream",
     "text": [
      "35/35 [==============================] - 0s 703us/step - loss: 0.9000 - accuracy: 0.6202\n",
      "loss :  0.8999972343444824\n",
      "accuracy :  0.6201965808868408\n"
     ]
    }
   ],
   "source": [
    "# 6. 모델 사용하기\n",
    "loss_and_acc = model.evaluate(train_X, train_Y, batch_size=32)\n",
    "print('loss : ', loss_and_acc[0])\n",
    "print('accuracy : ', loss_and_acc[1])"
   ]
  },
  {
   "cell_type": "code",
   "execution_count": null,
   "metadata": {},
   "outputs": [],
   "source": []
  },
  {
   "cell_type": "code",
   "execution_count": null,
   "metadata": {},
   "outputs": [],
   "source": []
  },
  {
   "cell_type": "code",
   "execution_count": null,
   "metadata": {},
   "outputs": [],
   "source": []
  },
  {
   "cell_type": "code",
   "execution_count": null,
   "metadata": {},
   "outputs": [],
   "source": []
  },
  {
   "cell_type": "code",
   "execution_count": null,
   "metadata": {},
   "outputs": [],
   "source": []
  },
  {
   "cell_type": "code",
   "execution_count": null,
   "metadata": {},
   "outputs": [],
   "source": []
  },
  {
   "cell_type": "code",
   "execution_count": null,
   "metadata": {},
   "outputs": [],
   "source": []
  },
  {
   "cell_type": "code",
   "execution_count": null,
   "metadata": {},
   "outputs": [],
   "source": []
  },
  {
   "cell_type": "code",
   "execution_count": null,
   "metadata": {},
   "outputs": [],
   "source": []
  },
  {
   "cell_type": "code",
   "execution_count": null,
   "metadata": {},
   "outputs": [],
   "source": []
  },
  {
   "cell_type": "code",
   "execution_count": null,
   "metadata": {},
   "outputs": [],
   "source": []
  },
  {
   "cell_type": "code",
   "execution_count": null,
   "metadata": {},
   "outputs": [],
   "source": []
  },
  {
   "cell_type": "code",
   "execution_count": null,
   "metadata": {},
   "outputs": [],
   "source": []
  },
  {
   "cell_type": "code",
   "execution_count": null,
   "metadata": {},
   "outputs": [],
   "source": []
  },
  {
   "cell_type": "code",
   "execution_count": null,
   "metadata": {},
   "outputs": [],
   "source": []
  },
  {
   "cell_type": "code",
   "execution_count": null,
   "metadata": {},
   "outputs": [],
   "source": []
  },
  {
   "cell_type": "code",
   "execution_count": null,
   "metadata": {},
   "outputs": [],
   "source": []
  },
  {
   "cell_type": "code",
   "execution_count": null,
   "metadata": {},
   "outputs": [],
   "source": []
  },
  {
   "cell_type": "code",
   "execution_count": null,
   "metadata": {},
   "outputs": [],
   "source": []
  },
  {
   "cell_type": "code",
   "execution_count": null,
   "metadata": {},
   "outputs": [],
   "source": []
  },
  {
   "cell_type": "code",
   "execution_count": null,
   "metadata": {},
   "outputs": [],
   "source": []
  },
  {
   "cell_type": "code",
   "execution_count": null,
   "metadata": {},
   "outputs": [],
   "source": []
  },
  {
   "cell_type": "code",
   "execution_count": null,
   "metadata": {},
   "outputs": [],
   "source": []
  },
  {
   "cell_type": "code",
   "execution_count": null,
   "metadata": {},
   "outputs": [],
   "source": []
  },
  {
   "cell_type": "code",
   "execution_count": null,
   "metadata": {},
   "outputs": [],
   "source": []
  },
  {
   "cell_type": "code",
   "execution_count": null,
   "metadata": {},
   "outputs": [],
   "source": []
  },
  {
   "cell_type": "code",
   "execution_count": null,
   "metadata": {},
   "outputs": [],
   "source": []
  },
  {
   "cell_type": "code",
   "execution_count": null,
   "metadata": {},
   "outputs": [],
   "source": []
  },
  {
   "cell_type": "code",
   "execution_count": null,
   "metadata": {},
   "outputs": [],
   "source": []
  },
  {
   "cell_type": "code",
   "execution_count": null,
   "metadata": {},
   "outputs": [],
   "source": []
  },
  {
   "cell_type": "code",
   "execution_count": null,
   "metadata": {},
   "outputs": [],
   "source": []
  },
  {
   "cell_type": "code",
   "execution_count": null,
   "metadata": {},
   "outputs": [],
   "source": []
  },
  {
   "cell_type": "code",
   "execution_count": null,
   "metadata": {},
   "outputs": [],
   "source": []
  },
  {
   "cell_type": "code",
   "execution_count": null,
   "metadata": {},
   "outputs": [],
   "source": []
  },
  {
   "cell_type": "code",
   "execution_count": null,
   "metadata": {},
   "outputs": [],
   "source": []
  },
  {
   "cell_type": "code",
   "execution_count": null,
   "metadata": {},
   "outputs": [],
   "source": []
  },
  {
   "cell_type": "code",
   "execution_count": null,
   "metadata": {},
   "outputs": [],
   "source": []
  },
  {
   "cell_type": "code",
   "execution_count": null,
   "metadata": {},
   "outputs": [],
   "source": []
  },
  {
   "cell_type": "code",
   "execution_count": null,
   "metadata": {},
   "outputs": [],
   "source": []
  },
  {
   "cell_type": "code",
   "execution_count": null,
   "metadata": {},
   "outputs": [],
   "source": []
  },
  {
   "cell_type": "code",
   "execution_count": null,
   "metadata": {},
   "outputs": [],
   "source": []
  },
  {
   "cell_type": "code",
   "execution_count": null,
   "metadata": {},
   "outputs": [],
   "source": []
  },
  {
   "cell_type": "code",
   "execution_count": null,
   "metadata": {},
   "outputs": [],
   "source": []
  },
  {
   "cell_type": "code",
   "execution_count": null,
   "metadata": {},
   "outputs": [],
   "source": []
  },
  {
   "cell_type": "code",
   "execution_count": null,
   "metadata": {},
   "outputs": [],
   "source": []
  },
  {
   "cell_type": "code",
   "execution_count": null,
   "metadata": {},
   "outputs": [],
   "source": []
  },
  {
   "cell_type": "code",
   "execution_count": null,
   "metadata": {},
   "outputs": [],
   "source": []
  },
  {
   "cell_type": "code",
   "execution_count": null,
   "metadata": {},
   "outputs": [],
   "source": []
  },
  {
   "cell_type": "code",
   "execution_count": null,
   "metadata": {},
   "outputs": [],
   "source": []
  },
  {
   "cell_type": "code",
   "execution_count": null,
   "metadata": {},
   "outputs": [],
   "source": []
  },
  {
   "cell_type": "code",
   "execution_count": null,
   "metadata": {},
   "outputs": [],
   "source": []
  },
  {
   "cell_type": "code",
   "execution_count": null,
   "metadata": {},
   "outputs": [],
   "source": []
  },
  {
   "cell_type": "code",
   "execution_count": null,
   "metadata": {},
   "outputs": [],
   "source": []
  },
  {
   "cell_type": "code",
   "execution_count": null,
   "metadata": {},
   "outputs": [],
   "source": []
  },
  {
   "cell_type": "code",
   "execution_count": null,
   "metadata": {},
   "outputs": [],
   "source": []
  },
  {
   "cell_type": "code",
   "execution_count": null,
   "metadata": {},
   "outputs": [],
   "source": []
  },
  {
   "cell_type": "code",
   "execution_count": null,
   "metadata": {},
   "outputs": [],
   "source": []
  },
  {
   "cell_type": "code",
   "execution_count": null,
   "metadata": {},
   "outputs": [],
   "source": []
  },
  {
   "cell_type": "code",
   "execution_count": null,
   "metadata": {},
   "outputs": [],
   "source": []
  },
  {
   "cell_type": "code",
   "execution_count": null,
   "metadata": {},
   "outputs": [],
   "source": []
  },
  {
   "cell_type": "code",
   "execution_count": null,
   "metadata": {},
   "outputs": [],
   "source": []
  },
  {
   "cell_type": "code",
   "execution_count": null,
   "metadata": {},
   "outputs": [],
   "source": []
  },
  {
   "cell_type": "code",
   "execution_count": null,
   "metadata": {},
   "outputs": [],
   "source": []
  },
  {
   "cell_type": "code",
   "execution_count": null,
   "metadata": {},
   "outputs": [],
   "source": []
  },
  {
   "cell_type": "code",
   "execution_count": null,
   "metadata": {},
   "outputs": [],
   "source": []
  },
  {
   "cell_type": "code",
   "execution_count": null,
   "metadata": {},
   "outputs": [],
   "source": []
  },
  {
   "cell_type": "code",
   "execution_count": null,
   "metadata": {},
   "outputs": [],
   "source": []
  },
  {
   "cell_type": "code",
   "execution_count": null,
   "metadata": {},
   "outputs": [],
   "source": []
  },
  {
   "cell_type": "code",
   "execution_count": null,
   "metadata": {},
   "outputs": [],
   "source": []
  },
  {
   "cell_type": "code",
   "execution_count": null,
   "metadata": {},
   "outputs": [],
   "source": []
  },
  {
   "cell_type": "code",
   "execution_count": null,
   "metadata": {},
   "outputs": [],
   "source": []
  },
  {
   "cell_type": "code",
   "execution_count": null,
   "metadata": {},
   "outputs": [],
   "source": []
  },
  {
   "cell_type": "code",
   "execution_count": null,
   "metadata": {},
   "outputs": [],
   "source": []
  },
  {
   "cell_type": "code",
   "execution_count": null,
   "metadata": {},
   "outputs": [],
   "source": []
  },
  {
   "cell_type": "code",
   "execution_count": null,
   "metadata": {},
   "outputs": [],
   "source": []
  },
  {
   "cell_type": "code",
   "execution_count": null,
   "metadata": {},
   "outputs": [],
   "source": []
  },
  {
   "cell_type": "code",
   "execution_count": null,
   "metadata": {},
   "outputs": [],
   "source": []
  },
  {
   "cell_type": "code",
   "execution_count": null,
   "metadata": {},
   "outputs": [],
   "source": []
  },
  {
   "cell_type": "code",
   "execution_count": null,
   "metadata": {},
   "outputs": [],
   "source": []
  },
  {
   "cell_type": "code",
   "execution_count": null,
   "metadata": {},
   "outputs": [],
   "source": []
  },
  {
   "cell_type": "code",
   "execution_count": null,
   "metadata": {},
   "outputs": [],
   "source": []
  },
  {
   "cell_type": "code",
   "execution_count": null,
   "metadata": {},
   "outputs": [],
   "source": []
  },
  {
   "cell_type": "code",
   "execution_count": null,
   "metadata": {},
   "outputs": [],
   "source": []
  },
  {
   "cell_type": "code",
   "execution_count": null,
   "metadata": {},
   "outputs": [],
   "source": []
  },
  {
   "cell_type": "code",
   "execution_count": null,
   "metadata": {},
   "outputs": [],
   "source": []
  },
  {
   "cell_type": "code",
   "execution_count": null,
   "metadata": {},
   "outputs": [],
   "source": []
  },
  {
   "cell_type": "code",
   "execution_count": null,
   "metadata": {},
   "outputs": [],
   "source": []
  },
  {
   "cell_type": "code",
   "execution_count": null,
   "metadata": {},
   "outputs": [],
   "source": []
  },
  {
   "cell_type": "code",
   "execution_count": null,
   "metadata": {},
   "outputs": [],
   "source": []
  },
  {
   "cell_type": "code",
   "execution_count": null,
   "metadata": {},
   "outputs": [],
   "source": []
  },
  {
   "cell_type": "code",
   "execution_count": null,
   "metadata": {},
   "outputs": [],
   "source": []
  },
  {
   "cell_type": "code",
   "execution_count": null,
   "metadata": {},
   "outputs": [],
   "source": []
  },
  {
   "cell_type": "code",
   "execution_count": null,
   "metadata": {},
   "outputs": [],
   "source": []
  },
  {
   "cell_type": "code",
   "execution_count": null,
   "metadata": {},
   "outputs": [],
   "source": []
  },
  {
   "cell_type": "code",
   "execution_count": null,
   "metadata": {},
   "outputs": [],
   "source": []
  },
  {
   "cell_type": "code",
   "execution_count": null,
   "metadata": {},
   "outputs": [],
   "source": []
  },
  {
   "cell_type": "code",
   "execution_count": null,
   "metadata": {},
   "outputs": [],
   "source": []
  },
  {
   "cell_type": "code",
   "execution_count": null,
   "metadata": {},
   "outputs": [],
   "source": []
  },
  {
   "cell_type": "code",
   "execution_count": null,
   "metadata": {},
   "outputs": [],
   "source": []
  },
  {
   "cell_type": "code",
   "execution_count": null,
   "metadata": {},
   "outputs": [],
   "source": []
  },
  {
   "cell_type": "code",
   "execution_count": null,
   "metadata": {},
   "outputs": [],
   "source": []
  },
  {
   "cell_type": "code",
   "execution_count": null,
   "metadata": {},
   "outputs": [],
   "source": []
  },
  {
   "cell_type": "code",
   "execution_count": null,
   "metadata": {},
   "outputs": [],
   "source": []
  },
  {
   "cell_type": "code",
   "execution_count": null,
   "metadata": {},
   "outputs": [],
   "source": []
  },
  {
   "cell_type": "code",
   "execution_count": null,
   "metadata": {},
   "outputs": [],
   "source": []
  },
  {
   "cell_type": "code",
   "execution_count": null,
   "metadata": {},
   "outputs": [],
   "source": []
  },
  {
   "cell_type": "code",
   "execution_count": null,
   "metadata": {},
   "outputs": [],
   "source": []
  },
  {
   "cell_type": "code",
   "execution_count": null,
   "metadata": {},
   "outputs": [],
   "source": []
  },
  {
   "cell_type": "code",
   "execution_count": null,
   "metadata": {},
   "outputs": [],
   "source": []
  },
  {
   "cell_type": "code",
   "execution_count": null,
   "metadata": {},
   "outputs": [],
   "source": []
  },
  {
   "cell_type": "code",
   "execution_count": null,
   "metadata": {},
   "outputs": [],
   "source": []
  },
  {
   "cell_type": "code",
   "execution_count": null,
   "metadata": {},
   "outputs": [],
   "source": []
  },
  {
   "cell_type": "code",
   "execution_count": null,
   "metadata": {},
   "outputs": [],
   "source": []
  },
  {
   "cell_type": "code",
   "execution_count": null,
   "metadata": {},
   "outputs": [],
   "source": []
  },
  {
   "cell_type": "code",
   "execution_count": null,
   "metadata": {},
   "outputs": [],
   "source": []
  },
  {
   "cell_type": "code",
   "execution_count": null,
   "metadata": {},
   "outputs": [],
   "source": []
  },
  {
   "cell_type": "code",
   "execution_count": null,
   "metadata": {},
   "outputs": [],
   "source": []
  },
  {
   "cell_type": "code",
   "execution_count": null,
   "metadata": {},
   "outputs": [],
   "source": []
  },
  {
   "cell_type": "code",
   "execution_count": null,
   "metadata": {},
   "outputs": [],
   "source": []
  },
  {
   "cell_type": "code",
   "execution_count": null,
   "metadata": {},
   "outputs": [],
   "source": []
  },
  {
   "cell_type": "code",
   "execution_count": null,
   "metadata": {},
   "outputs": [],
   "source": []
  },
  {
   "cell_type": "code",
   "execution_count": null,
   "metadata": {},
   "outputs": [],
   "source": []
  },
  {
   "cell_type": "code",
   "execution_count": null,
   "metadata": {},
   "outputs": [],
   "source": []
  },
  {
   "cell_type": "code",
   "execution_count": null,
   "metadata": {},
   "outputs": [],
   "source": []
  },
  {
   "cell_type": "code",
   "execution_count": null,
   "metadata": {},
   "outputs": [],
   "source": []
  },
  {
   "cell_type": "code",
   "execution_count": null,
   "metadata": {},
   "outputs": [],
   "source": []
  },
  {
   "cell_type": "code",
   "execution_count": null,
   "metadata": {},
   "outputs": [],
   "source": []
  },
  {
   "cell_type": "code",
   "execution_count": null,
   "metadata": {},
   "outputs": [],
   "source": []
  },
  {
   "cell_type": "code",
   "execution_count": null,
   "metadata": {},
   "outputs": [],
   "source": []
  },
  {
   "cell_type": "code",
   "execution_count": null,
   "metadata": {},
   "outputs": [],
   "source": []
  },
  {
   "cell_type": "code",
   "execution_count": null,
   "metadata": {},
   "outputs": [],
   "source": []
  },
  {
   "cell_type": "code",
   "execution_count": null,
   "metadata": {},
   "outputs": [],
   "source": []
  },
  {
   "cell_type": "code",
   "execution_count": null,
   "metadata": {},
   "outputs": [],
   "source": []
  },
  {
   "cell_type": "code",
   "execution_count": null,
   "metadata": {},
   "outputs": [],
   "source": []
  },
  {
   "cell_type": "code",
   "execution_count": null,
   "metadata": {},
   "outputs": [],
   "source": []
  },
  {
   "cell_type": "code",
   "execution_count": null,
   "metadata": {},
   "outputs": [],
   "source": []
  },
  {
   "cell_type": "code",
   "execution_count": null,
   "metadata": {},
   "outputs": [],
   "source": []
  },
  {
   "cell_type": "code",
   "execution_count": null,
   "metadata": {},
   "outputs": [],
   "source": []
  },
  {
   "cell_type": "code",
   "execution_count": null,
   "metadata": {},
   "outputs": [],
   "source": []
  },
  {
   "cell_type": "code",
   "execution_count": null,
   "metadata": {},
   "outputs": [],
   "source": []
  },
  {
   "cell_type": "code",
   "execution_count": null,
   "metadata": {},
   "outputs": [],
   "source": []
  },
  {
   "cell_type": "code",
   "execution_count": null,
   "metadata": {},
   "outputs": [],
   "source": []
  },
  {
   "cell_type": "code",
   "execution_count": null,
   "metadata": {},
   "outputs": [],
   "source": []
  },
  {
   "cell_type": "code",
   "execution_count": null,
   "metadata": {},
   "outputs": [],
   "source": []
  },
  {
   "cell_type": "code",
   "execution_count": null,
   "metadata": {},
   "outputs": [],
   "source": []
  },
  {
   "cell_type": "code",
   "execution_count": null,
   "metadata": {},
   "outputs": [],
   "source": []
  },
  {
   "cell_type": "code",
   "execution_count": null,
   "metadata": {},
   "outputs": [],
   "source": []
  },
  {
   "cell_type": "code",
   "execution_count": null,
   "metadata": {},
   "outputs": [],
   "source": []
  },
  {
   "cell_type": "code",
   "execution_count": null,
   "metadata": {},
   "outputs": [],
   "source": []
  },
  {
   "cell_type": "code",
   "execution_count": null,
   "metadata": {},
   "outputs": [],
   "source": []
  },
  {
   "cell_type": "code",
   "execution_count": null,
   "metadata": {},
   "outputs": [],
   "source": []
  },
  {
   "cell_type": "code",
   "execution_count": null,
   "metadata": {},
   "outputs": [],
   "source": []
  },
  {
   "cell_type": "code",
   "execution_count": null,
   "metadata": {},
   "outputs": [],
   "source": []
  },
  {
   "cell_type": "code",
   "execution_count": null,
   "metadata": {},
   "outputs": [],
   "source": []
  },
  {
   "cell_type": "code",
   "execution_count": null,
   "metadata": {},
   "outputs": [],
   "source": []
  },
  {
   "cell_type": "code",
   "execution_count": null,
   "metadata": {},
   "outputs": [],
   "source": []
  },
  {
   "cell_type": "code",
   "execution_count": null,
   "metadata": {},
   "outputs": [],
   "source": []
  },
  {
   "cell_type": "code",
   "execution_count": null,
   "metadata": {},
   "outputs": [],
   "source": []
  },
  {
   "cell_type": "code",
   "execution_count": null,
   "metadata": {},
   "outputs": [],
   "source": []
  },
  {
   "cell_type": "code",
   "execution_count": null,
   "metadata": {},
   "outputs": [],
   "source": []
  },
  {
   "cell_type": "code",
   "execution_count": null,
   "metadata": {},
   "outputs": [],
   "source": []
  },
  {
   "cell_type": "code",
   "execution_count": null,
   "metadata": {},
   "outputs": [],
   "source": []
  },
  {
   "cell_type": "code",
   "execution_count": null,
   "metadata": {},
   "outputs": [],
   "source": []
  },
  {
   "cell_type": "code",
   "execution_count": null,
   "metadata": {},
   "outputs": [],
   "source": []
  },
  {
   "cell_type": "code",
   "execution_count": null,
   "metadata": {},
   "outputs": [],
   "source": []
  },
  {
   "cell_type": "code",
   "execution_count": null,
   "metadata": {},
   "outputs": [],
   "source": []
  },
  {
   "cell_type": "code",
   "execution_count": null,
   "metadata": {},
   "outputs": [],
   "source": []
  },
  {
   "cell_type": "code",
   "execution_count": null,
   "metadata": {},
   "outputs": [],
   "source": []
  },
  {
   "cell_type": "code",
   "execution_count": null,
   "metadata": {},
   "outputs": [],
   "source": []
  },
  {
   "cell_type": "code",
   "execution_count": null,
   "metadata": {},
   "outputs": [],
   "source": []
  },
  {
   "cell_type": "code",
   "execution_count": null,
   "metadata": {},
   "outputs": [],
   "source": []
  },
  {
   "cell_type": "code",
   "execution_count": null,
   "metadata": {},
   "outputs": [],
   "source": []
  },
  {
   "cell_type": "code",
   "execution_count": null,
   "metadata": {},
   "outputs": [],
   "source": []
  },
  {
   "cell_type": "code",
   "execution_count": null,
   "metadata": {},
   "outputs": [],
   "source": []
  },
  {
   "cell_type": "code",
   "execution_count": null,
   "metadata": {},
   "outputs": [],
   "source": []
  },
  {
   "cell_type": "code",
   "execution_count": null,
   "metadata": {},
   "outputs": [],
   "source": []
  },
  {
   "cell_type": "code",
   "execution_count": null,
   "metadata": {},
   "outputs": [],
   "source": []
  },
  {
   "cell_type": "code",
   "execution_count": null,
   "metadata": {},
   "outputs": [],
   "source": []
  },
  {
   "cell_type": "code",
   "execution_count": null,
   "metadata": {},
   "outputs": [],
   "source": []
  },
  {
   "cell_type": "code",
   "execution_count": null,
   "metadata": {},
   "outputs": [],
   "source": []
  },
  {
   "cell_type": "code",
   "execution_count": null,
   "metadata": {},
   "outputs": [],
   "source": []
  },
  {
   "cell_type": "code",
   "execution_count": null,
   "metadata": {},
   "outputs": [],
   "source": []
  },
  {
   "cell_type": "code",
   "execution_count": null,
   "metadata": {},
   "outputs": [],
   "source": []
  },
  {
   "cell_type": "code",
   "execution_count": null,
   "metadata": {},
   "outputs": [],
   "source": []
  },
  {
   "cell_type": "code",
   "execution_count": null,
   "metadata": {},
   "outputs": [],
   "source": []
  },
  {
   "cell_type": "code",
   "execution_count": null,
   "metadata": {},
   "outputs": [],
   "source": []
  },
  {
   "cell_type": "code",
   "execution_count": null,
   "metadata": {},
   "outputs": [],
   "source": []
  },
  {
   "cell_type": "code",
   "execution_count": null,
   "metadata": {},
   "outputs": [],
   "source": []
  },
  {
   "cell_type": "code",
   "execution_count": null,
   "metadata": {},
   "outputs": [],
   "source": []
  },
  {
   "cell_type": "code",
   "execution_count": null,
   "metadata": {},
   "outputs": [],
   "source": []
  },
  {
   "cell_type": "code",
   "execution_count": null,
   "metadata": {},
   "outputs": [],
   "source": []
  },
  {
   "cell_type": "code",
   "execution_count": null,
   "metadata": {},
   "outputs": [],
   "source": []
  },
  {
   "cell_type": "code",
   "execution_count": null,
   "metadata": {},
   "outputs": [],
   "source": []
  },
  {
   "cell_type": "code",
   "execution_count": null,
   "metadata": {},
   "outputs": [],
   "source": []
  },
  {
   "cell_type": "code",
   "execution_count": null,
   "metadata": {},
   "outputs": [],
   "source": []
  },
  {
   "cell_type": "code",
   "execution_count": null,
   "metadata": {},
   "outputs": [],
   "source": []
  },
  {
   "cell_type": "code",
   "execution_count": null,
   "metadata": {},
   "outputs": [],
   "source": []
  },
  {
   "cell_type": "code",
   "execution_count": null,
   "metadata": {},
   "outputs": [],
   "source": []
  },
  {
   "cell_type": "code",
   "execution_count": null,
   "metadata": {},
   "outputs": [],
   "source": []
  },
  {
   "cell_type": "code",
   "execution_count": null,
   "metadata": {},
   "outputs": [],
   "source": []
  }
 ],
 "metadata": {
  "kernelspec": {
   "display_name": "Python 3",
   "language": "python",
   "name": "python3"
  },
  "language_info": {
   "codemirror_mode": {
    "name": "ipython",
    "version": 3
   },
   "file_extension": ".py",
   "mimetype": "text/x-python",
   "name": "python",
   "nbconvert_exporter": "python",
   "pygments_lexer": "ipython3",
   "version": "3.8.5"
  },
  "toc": {
   "base_numbering": 1,
   "nav_menu": {},
   "number_sections": false,
   "sideBar": true,
   "skip_h1_title": false,
   "title_cell": "Table of Contents",
   "title_sidebar": "Contents",
   "toc_cell": false,
   "toc_position": {},
   "toc_section_display": true,
   "toc_window_display": true
  },
  "varInspector": {
   "cols": {
    "lenName": 16,
    "lenType": 16,
    "lenVar": 40
   },
   "kernels_config": {
    "python": {
     "delete_cmd_postfix": "",
     "delete_cmd_prefix": "del ",
     "library": "var_list.py",
     "varRefreshCmd": "print(var_dic_list())"
    },
    "r": {
     "delete_cmd_postfix": ") ",
     "delete_cmd_prefix": "rm(",
     "library": "var_list.r",
     "varRefreshCmd": "cat(var_dic_list()) "
    }
   },
   "types_to_exclude": [
    "module",
    "function",
    "builtin_function_or_method",
    "instance",
    "_Feature"
   ],
   "window_display": false
  }
 },
 "nbformat": 4,
 "nbformat_minor": 4
}
