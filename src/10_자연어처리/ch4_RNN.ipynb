{
 "cells": [
  {
   "cell_type": "markdown",
   "metadata": {},
   "source": [
    "# 1. 문맥을 이용하여 모델만들기"
   ]
  },
  {
   "cell_type": "code",
   "execution_count": 3,
   "metadata": {
    "ExecuteTime": {
     "end_time": "2021-04-04T11:02:01.873063Z",
     "start_time": "2021-04-04T11:02:01.856083Z"
    }
   },
   "outputs": [],
   "source": [
    "text = \"\"\"경마장에 있는 말이 뛰고 있다\n",
    "그의 말이 법이다\n",
    "가는 말이 고와야 오는 말이 곱다\n",
    "\"\"\""
   ]
  },
  {
   "cell_type": "code",
   "execution_count": 4,
   "metadata": {
    "ExecuteTime": {
     "end_time": "2021-04-04T11:02:02.233049Z",
     "start_time": "2021-04-04T11:02:02.216153Z"
    }
   },
   "outputs": [
    {
     "name": "stdout",
     "output_type": "stream",
     "text": [
      "[2, 3, 1, 4, 5, 6, 1, 7, 8, 1, 9, 10, 1, 11]\n",
      "{'말이': 1, '경마장에': 2, '있는': 3, '뛰고': 4, '있다': 5, '그의': 6, '법이다': 7, '가는': 8, '고와야': 9, '오는': 10, '곱다': 11}\n"
     ]
    }
   ],
   "source": [
    "from keras_preprocessing.text import Tokenizer\n",
    "t = Tokenizer()\n",
    "t.fit_on_texts([text])\n",
    "encoded = t.texts_to_sequences([text])[0]\n",
    "print(encoded)\n",
    "print(t.word_index)"
   ]
  },
  {
   "cell_type": "code",
   "execution_count": 5,
   "metadata": {
    "ExecuteTime": {
     "end_time": "2021-04-04T11:02:02.977045Z",
     "start_time": "2021-04-04T11:02:02.958094Z"
    }
   },
   "outputs": [
    {
     "data": {
      "text/plain": [
       "[2, 3, 1, 4, 5]"
      ]
     },
     "execution_count": 5,
     "metadata": {},
     "output_type": "execute_result"
    }
   ],
   "source": [
    "t.texts_to_sequences(['경마장에 있는 말이 뛰고 있다'])[0]"
   ]
  },
  {
   "cell_type": "code",
   "execution_count": 6,
   "metadata": {
    "ExecuteTime": {
     "end_time": "2021-04-04T11:02:03.596547Z",
     "start_time": "2021-04-04T11:02:03.563930Z"
    }
   },
   "outputs": [
    {
     "name": "stdout",
     "output_type": "stream",
     "text": [
      "원래 문장 : 경마장에 있는 말이 뛰고 있다\n",
      "encoed 문장 : [2, 3, 1, 4, 5]\n",
      "원래 문장 : 그의 말이 법이다\n",
      "encoed 문장 : [6, 1, 7]\n",
      "원래 문장 : 가는 말이 고와야 오는 말이 곱다\n",
      "encoed 문장 : [8, 1, 9, 10, 1, 11]\n",
      "원래 문장 : \n",
      "encoed 문장 : []\n",
      "\n",
      "[2:경마장에  3:있는  ]\n",
      "[2:경마장에  3:있는  1:말이  ]\n",
      "[2:경마장에  3:있는  1:말이  4:뛰고  ]\n",
      "[2:경마장에  3:있는  1:말이  4:뛰고  5:있다  ]\n",
      "[3:있는  1:말이  ]\n",
      "[3:있는  1:말이  4:뛰고  ]\n",
      "[3:있는  1:말이  4:뛰고  5:있다  ]\n",
      "[1:말이  4:뛰고  ]\n",
      "[1:말이  4:뛰고  5:있다  ]\n",
      "[4:뛰고  5:있다  ]\n",
      "[6:그의  1:말이  ]\n",
      "[6:그의  1:말이  7:법이다  ]\n",
      "[1:말이  7:법이다  ]\n",
      "[8:가는  1:말이  ]\n",
      "[8:가는  1:말이  9:고와야  ]\n",
      "[8:가는  1:말이  9:고와야  10:오는  ]\n",
      "[8:가는  1:말이  9:고와야  10:오는  1:말이  ]\n",
      "[8:가는  1:말이  9:고와야  10:오는  1:말이  11:곱다  ]\n",
      "[1:말이  9:고와야  ]\n",
      "[1:말이  9:고와야  10:오는  ]\n",
      "[1:말이  9:고와야  10:오는  1:말이  ]\n",
      "[1:말이  9:고와야  10:오는  1:말이  11:곱다  ]\n",
      "[9:고와야  10:오는  ]\n",
      "[9:고와야  10:오는  1:말이  ]\n",
      "[9:고와야  10:오는  1:말이  11:곱다  ]\n",
      "[10:오는  1:말이  ]\n",
      "[10:오는  1:말이  11:곱다  ]\n",
      "[1:말이  11:곱다  ]\n"
     ]
    }
   ],
   "source": [
    "# \n",
    "sequences = []\n",
    "for line in text.split('\\n'):\n",
    "    encoded = t.texts_to_sequences([line])[0]\n",
    "    print('원래 문장 :',line)\n",
    "    print('encoed 문장 :', encoded)\n",
    "    for i in range(0, len(encoded)-1):\n",
    "        for j in range(i+2, len(encoded)+1):\n",
    "            sequences.append(encoded[i:j])\n",
    "print()\n",
    "for sequence in sequences:\n",
    "    print('[', end='')\n",
    "    for word_seq in sequence:\n",
    "        for key, value in t.word_index.items():\n",
    "            if value==word_seq:\n",
    "                print(\"{}:{}\".format(value, key), end='  ')\n",
    "    print(']')"
   ]
  },
  {
   "cell_type": "code",
   "execution_count": 7,
   "metadata": {
    "ExecuteTime": {
     "end_time": "2021-04-04T11:02:04.217031Z",
     "start_time": "2021-04-04T11:02:04.210049Z"
    }
   },
   "outputs": [
    {
     "data": {
      "text/plain": [
       "[[2, 3],\n",
       " [2, 3, 1],\n",
       " [2, 3, 1, 4],\n",
       " [2, 3, 1, 4, 5],\n",
       " [3, 1],\n",
       " [3, 1, 4],\n",
       " [3, 1, 4, 5],\n",
       " [1, 4],\n",
       " [1, 4, 5],\n",
       " [4, 5],\n",
       " [6, 1],\n",
       " [6, 1, 7],\n",
       " [1, 7],\n",
       " [8, 1],\n",
       " [8, 1, 9],\n",
       " [8, 1, 9, 10],\n",
       " [8, 1, 9, 10, 1],\n",
       " [8, 1, 9, 10, 1, 11],\n",
       " [1, 9],\n",
       " [1, 9, 10],\n",
       " [1, 9, 10, 1],\n",
       " [1, 9, 10, 1, 11],\n",
       " [9, 10],\n",
       " [9, 10, 1],\n",
       " [9, 10, 1, 11],\n",
       " [10, 1],\n",
       " [10, 1, 11],\n",
       " [1, 11]]"
      ]
     },
     "execution_count": 7,
     "metadata": {},
     "output_type": "execute_result"
    }
   ],
   "source": [
    "sequences"
   ]
  },
  {
   "cell_type": "code",
   "execution_count": 8,
   "metadata": {
    "ExecuteTime": {
     "end_time": "2021-04-04T11:02:04.779510Z",
     "start_time": "2021-04-04T11:02:04.774526Z"
    }
   },
   "outputs": [
    {
     "name": "stdout",
     "output_type": "stream",
     "text": [
      "[2, 3, 4, 5, 2, 3, 4, 2, 3, 2, 2, 3, 2, 2, 3, 4, 5, 6, 2, 3, 4, 5, 2, 3, 4, 2, 3, 2]\n"
     ]
    }
   ],
   "source": [
    "print([len(s) for s in sequences])"
   ]
  },
  {
   "cell_type": "code",
   "execution_count": 9,
   "metadata": {
    "ExecuteTime": {
     "end_time": "2021-04-04T11:02:05.369519Z",
     "start_time": "2021-04-04T11:02:05.357553Z"
    }
   },
   "outputs": [
    {
     "data": {
      "text/plain": [
       "6"
      ]
     },
     "execution_count": 9,
     "metadata": {},
     "output_type": "execute_result"
    }
   ],
   "source": [
    "# sequences에 제일 많은 단어가 들어 있는 갯수\n",
    "maxlen = max([len(s) for s in sequences])\n",
    "maxlen"
   ]
  },
  {
   "cell_type": "code",
   "execution_count": 10,
   "metadata": {
    "ExecuteTime": {
     "end_time": "2021-04-04T11:02:05.838207Z",
     "start_time": "2021-04-04T11:02:05.830232Z"
    }
   },
   "outputs": [
    {
     "data": {
      "text/plain": [
       "(list, 28)"
      ]
     },
     "execution_count": 10,
     "metadata": {},
     "output_type": "execute_result"
    }
   ],
   "source": [
    "type(sequences), len(sequences)"
   ]
  },
  {
   "cell_type": "code",
   "execution_count": 11,
   "metadata": {
    "ExecuteTime": {
     "end_time": "2021-04-04T11:02:12.263746Z",
     "start_time": "2021-04-04T11:02:06.364854Z"
    }
   },
   "outputs": [
    {
     "data": {
      "text/plain": [
       "(numpy.ndarray,\n",
       " 28,\n",
       " array([[ 0,  0,  0,  0,  2,  3],\n",
       "        [ 0,  0,  0,  2,  3,  1],\n",
       "        [ 0,  0,  2,  3,  1,  4],\n",
       "        [ 0,  2,  3,  1,  4,  5],\n",
       "        [ 0,  0,  0,  0,  3,  1],\n",
       "        [ 0,  0,  0,  3,  1,  4],\n",
       "        [ 0,  0,  3,  1,  4,  5],\n",
       "        [ 0,  0,  0,  0,  1,  4],\n",
       "        [ 0,  0,  0,  1,  4,  5],\n",
       "        [ 0,  0,  0,  0,  4,  5],\n",
       "        [ 0,  0,  0,  0,  6,  1],\n",
       "        [ 0,  0,  0,  6,  1,  7],\n",
       "        [ 0,  0,  0,  0,  1,  7],\n",
       "        [ 0,  0,  0,  0,  8,  1],\n",
       "        [ 0,  0,  0,  8,  1,  9],\n",
       "        [ 0,  0,  8,  1,  9, 10],\n",
       "        [ 0,  8,  1,  9, 10,  1],\n",
       "        [ 8,  1,  9, 10,  1, 11],\n",
       "        [ 0,  0,  0,  0,  1,  9],\n",
       "        [ 0,  0,  0,  1,  9, 10],\n",
       "        [ 0,  0,  1,  9, 10,  1],\n",
       "        [ 0,  1,  9, 10,  1, 11],\n",
       "        [ 0,  0,  0,  0,  9, 10],\n",
       "        [ 0,  0,  0,  9, 10,  1],\n",
       "        [ 0,  0,  9, 10,  1, 11],\n",
       "        [ 0,  0,  0,  0, 10,  1],\n",
       "        [ 0,  0,  0, 10,  1, 11],\n",
       "        [ 0,  0,  0,  0,  1, 11]]))"
      ]
     },
     "execution_count": 11,
     "metadata": {},
     "output_type": "execute_result"
    }
   ],
   "source": [
    "# sequences를 훈련가능한 데이터로 만들기\n",
    "from tensorflow.keras.preprocessing.sequence import pad_sequences\n",
    "sequences = pad_sequences(sequences=sequences, \n",
    "                         maxlen=maxlen, \n",
    "                         padding='pre')\n",
    "type(sequences), len(sequences), sequences"
   ]
  },
  {
   "cell_type": "code",
   "execution_count": 12,
   "metadata": {
    "ExecuteTime": {
     "end_time": "2021-04-04T11:02:12.293770Z",
     "start_time": "2021-04-04T11:02:12.280804Z"
    }
   },
   "outputs": [
    {
     "data": {
      "text/plain": [
       "array([ 3,  1,  4,  5,  1,  4,  5,  4,  5,  5,  1,  7,  7,  1,  9, 10,  1,\n",
       "       11,  9, 10,  1, 11, 10,  1, 11,  1, 11, 11])"
      ]
     },
     "execution_count": 12,
     "metadata": {},
     "output_type": "execute_result"
    }
   ],
   "source": [
    "# 독립변수(X)와 종속변수(Y) 분리\n",
    "X = sequences[:, :-1]\n",
    "Y = sequences[:, -1]\n",
    "Y"
   ]
  },
  {
   "cell_type": "code",
   "execution_count": 13,
   "metadata": {
    "ExecuteTime": {
     "end_time": "2021-04-04T11:02:12.323929Z",
     "start_time": "2021-04-04T11:02:12.311926Z"
    }
   },
   "outputs": [
    {
     "name": "stdout",
     "output_type": "stream",
     "text": [
      "{'말이': 1, '경마장에': 2, '있는': 3, '뛰고': 4, '있다': 5, '그의': 6, '법이다': 7, '가는': 8, '고와야': 9, '오는': 10, '곱다': 11}\n"
     ]
    }
   ],
   "source": [
    "print(t.word_index)"
   ]
  },
  {
   "cell_type": "code",
   "execution_count": 14,
   "metadata": {
    "ExecuteTime": {
     "end_time": "2021-04-04T11:02:12.353740Z",
     "start_time": "2021-04-04T11:02:12.341767Z"
    }
   },
   "outputs": [
    {
     "data": {
      "text/plain": [
       "12"
      ]
     },
     "execution_count": 14,
     "metadata": {},
     "output_type": "execute_result"
    }
   ],
   "source": [
    "vocab_size = len(t.word_index)+1\n",
    "vocab_size"
   ]
  },
  {
   "cell_type": "code",
   "execution_count": 15,
   "metadata": {
    "ExecuteTime": {
     "end_time": "2021-04-04T11:02:19.487017Z",
     "start_time": "2021-04-04T11:02:19.471066Z"
    }
   },
   "outputs": [
    {
     "data": {
      "text/plain": [
       "array([[0., 0., 0., 1., 0., 0., 0., 0., 0., 0., 0., 0.],\n",
       "       [0., 1., 0., 0., 0., 0., 0., 0., 0., 0., 0., 0.],\n",
       "       [0., 0., 0., 0., 1., 0., 0., 0., 0., 0., 0., 0.],\n",
       "       [0., 0., 0., 0., 0., 1., 0., 0., 0., 0., 0., 0.],\n",
       "       [0., 1., 0., 0., 0., 0., 0., 0., 0., 0., 0., 0.],\n",
       "       [0., 0., 0., 0., 1., 0., 0., 0., 0., 0., 0., 0.],\n",
       "       [0., 0., 0., 0., 0., 1., 0., 0., 0., 0., 0., 0.],\n",
       "       [0., 0., 0., 0., 1., 0., 0., 0., 0., 0., 0., 0.],\n",
       "       [0., 0., 0., 0., 0., 1., 0., 0., 0., 0., 0., 0.],\n",
       "       [0., 0., 0., 0., 0., 1., 0., 0., 0., 0., 0., 0.],\n",
       "       [0., 1., 0., 0., 0., 0., 0., 0., 0., 0., 0., 0.],\n",
       "       [0., 0., 0., 0., 0., 0., 0., 1., 0., 0., 0., 0.],\n",
       "       [0., 0., 0., 0., 0., 0., 0., 1., 0., 0., 0., 0.],\n",
       "       [0., 1., 0., 0., 0., 0., 0., 0., 0., 0., 0., 0.],\n",
       "       [0., 0., 0., 0., 0., 0., 0., 0., 0., 1., 0., 0.],\n",
       "       [0., 0., 0., 0., 0., 0., 0., 0., 0., 0., 1., 0.],\n",
       "       [0., 1., 0., 0., 0., 0., 0., 0., 0., 0., 0., 0.],\n",
       "       [0., 0., 0., 0., 0., 0., 0., 0., 0., 0., 0., 1.],\n",
       "       [0., 0., 0., 0., 0., 0., 0., 0., 0., 1., 0., 0.],\n",
       "       [0., 0., 0., 0., 0., 0., 0., 0., 0., 0., 1., 0.],\n",
       "       [0., 1., 0., 0., 0., 0., 0., 0., 0., 0., 0., 0.],\n",
       "       [0., 0., 0., 0., 0., 0., 0., 0., 0., 0., 0., 1.],\n",
       "       [0., 0., 0., 0., 0., 0., 0., 0., 0., 0., 1., 0.],\n",
       "       [0., 1., 0., 0., 0., 0., 0., 0., 0., 0., 0., 0.],\n",
       "       [0., 0., 0., 0., 0., 0., 0., 0., 0., 0., 0., 1.],\n",
       "       [0., 1., 0., 0., 0., 0., 0., 0., 0., 0., 0., 0.],\n",
       "       [0., 0., 0., 0., 0., 0., 0., 0., 0., 0., 0., 1.],\n",
       "       [0., 0., 0., 0., 0., 0., 0., 0., 0., 0., 0., 1.]], dtype=float32)"
      ]
     },
     "execution_count": 15,
     "metadata": {},
     "output_type": "execute_result"
    }
   ],
   "source": [
    "# Y 원핫인코딩\n",
    "from tensorflow.keras.utils import to_categorical\n",
    "Y = to_categorical(Y, num_classes=vocab_size)\n",
    "Y"
   ]
  },
  {
   "cell_type": "code",
   "execution_count": 16,
   "metadata": {
    "ExecuteTime": {
     "end_time": "2021-04-04T11:02:26.286297Z",
     "start_time": "2021-04-04T11:02:26.271339Z"
    }
   },
   "outputs": [
    {
     "data": {
      "text/plain": [
       "5"
      ]
     },
     "execution_count": 16,
     "metadata": {},
     "output_type": "execute_result"
    }
   ],
   "source": [
    "X.shape[1]"
   ]
  },
  {
   "cell_type": "code",
   "execution_count": 17,
   "metadata": {
    "ExecuteTime": {
     "end_time": "2021-04-04T11:02:41.483060Z",
     "start_time": "2021-04-04T11:02:37.266512Z"
    }
   },
   "outputs": [
    {
     "name": "stdout",
     "output_type": "stream",
     "text": [
      "Epoch 1/300\n",
      "1/1 - 1s - loss: 2.4996 - accuracy: 0.0000e+00\n",
      "Epoch 2/300\n",
      "1/1 - 0s - loss: 2.4878 - accuracy: 0.0357\n",
      "Epoch 3/300\n",
      "1/1 - 0s - loss: 2.4764 - accuracy: 0.0714\n",
      "Epoch 4/300\n",
      "1/1 - 0s - loss: 2.4653 - accuracy: 0.1071\n",
      "Epoch 5/300\n",
      "1/1 - 0s - loss: 2.4542 - accuracy: 0.1786\n",
      "Epoch 6/300\n",
      "1/1 - 0s - loss: 2.4432 - accuracy: 0.2857\n",
      "Epoch 7/300\n",
      "1/1 - 0s - loss: 2.4320 - accuracy: 0.2857\n",
      "Epoch 8/300\n",
      "1/1 - 0s - loss: 2.4206 - accuracy: 0.2857\n",
      "Epoch 9/300\n",
      "1/1 - 0s - loss: 2.4089 - accuracy: 0.2857\n",
      "Epoch 10/300\n",
      "1/1 - 0s - loss: 2.3968 - accuracy: 0.2857\n",
      "Epoch 11/300\n",
      "1/1 - 0s - loss: 2.3842 - accuracy: 0.2857\n",
      "Epoch 12/300\n",
      "1/1 - 0s - loss: 2.3710 - accuracy: 0.2857\n",
      "Epoch 13/300\n",
      "1/1 - 0s - loss: 2.3572 - accuracy: 0.2857\n",
      "Epoch 14/300\n",
      "1/1 - 0s - loss: 2.3427 - accuracy: 0.2857\n",
      "Epoch 15/300\n",
      "1/1 - 0s - loss: 2.3275 - accuracy: 0.2857\n",
      "Epoch 16/300\n",
      "1/1 - 0s - loss: 2.3116 - accuracy: 0.2857\n",
      "Epoch 17/300\n",
      "1/1 - 0s - loss: 2.2948 - accuracy: 0.2857\n",
      "Epoch 18/300\n",
      "1/1 - 0s - loss: 2.2774 - accuracy: 0.2857\n",
      "Epoch 19/300\n",
      "1/1 - 0s - loss: 2.2592 - accuracy: 0.2857\n",
      "Epoch 20/300\n",
      "1/1 - 0s - loss: 2.2403 - accuracy: 0.2857\n",
      "Epoch 21/300\n",
      "1/1 - 0s - loss: 2.2209 - accuracy: 0.2857\n",
      "Epoch 22/300\n",
      "1/1 - 0s - loss: 2.2011 - accuracy: 0.2857\n",
      "Epoch 23/300\n",
      "1/1 - 0s - loss: 2.1810 - accuracy: 0.2857\n",
      "Epoch 24/300\n",
      "1/1 - 0s - loss: 2.1609 - accuracy: 0.2857\n",
      "Epoch 25/300\n",
      "1/1 - 0s - loss: 2.1411 - accuracy: 0.2857\n",
      "Epoch 26/300\n",
      "1/1 - 0s - loss: 2.1218 - accuracy: 0.2857\n",
      "Epoch 27/300\n",
      "1/1 - 0s - loss: 2.1034 - accuracy: 0.2857\n",
      "Epoch 28/300\n",
      "1/1 - 0s - loss: 2.0859 - accuracy: 0.2857\n",
      "Epoch 29/300\n",
      "1/1 - 0s - loss: 2.0697 - accuracy: 0.2857\n",
      "Epoch 30/300\n",
      "1/1 - 0s - loss: 2.0545 - accuracy: 0.2857\n",
      "Epoch 31/300\n",
      "1/1 - 0s - loss: 2.0404 - accuracy: 0.2857\n",
      "Epoch 32/300\n",
      "1/1 - 0s - loss: 2.0270 - accuracy: 0.2857\n",
      "Epoch 33/300\n",
      "1/1 - 0s - loss: 2.0140 - accuracy: 0.2857\n",
      "Epoch 34/300\n",
      "1/1 - 0s - loss: 2.0011 - accuracy: 0.2857\n",
      "Epoch 35/300\n",
      "1/1 - 0s - loss: 1.9880 - accuracy: 0.2857\n",
      "Epoch 36/300\n",
      "1/1 - 0s - loss: 1.9746 - accuracy: 0.2857\n",
      "Epoch 37/300\n",
      "1/1 - 0s - loss: 1.9611 - accuracy: 0.2857\n",
      "Epoch 38/300\n",
      "1/1 - 0s - loss: 1.9474 - accuracy: 0.2857\n",
      "Epoch 39/300\n",
      "1/1 - 0s - loss: 1.9338 - accuracy: 0.2857\n",
      "Epoch 40/300\n",
      "1/1 - 0s - loss: 1.9204 - accuracy: 0.2857\n",
      "Epoch 41/300\n",
      "1/1 - 0s - loss: 1.9076 - accuracy: 0.2857\n",
      "Epoch 42/300\n",
      "1/1 - 0s - loss: 1.8952 - accuracy: 0.2857\n",
      "Epoch 43/300\n",
      "1/1 - 0s - loss: 1.8835 - accuracy: 0.3214\n",
      "Epoch 44/300\n",
      "1/1 - 0s - loss: 1.8722 - accuracy: 0.3214\n",
      "Epoch 45/300\n",
      "1/1 - 0s - loss: 1.8613 - accuracy: 0.3214\n",
      "Epoch 46/300\n",
      "1/1 - 0s - loss: 1.8505 - accuracy: 0.3571\n",
      "Epoch 47/300\n",
      "1/1 - 0s - loss: 1.8398 - accuracy: 0.3571\n",
      "Epoch 48/300\n",
      "1/1 - 0s - loss: 1.8290 - accuracy: 0.3571\n",
      "Epoch 49/300\n",
      "1/1 - 0s - loss: 1.8180 - accuracy: 0.3929\n",
      "Epoch 50/300\n",
      "1/1 - 0s - loss: 1.8067 - accuracy: 0.3929\n",
      "Epoch 51/300\n",
      "1/1 - 0s - loss: 1.7952 - accuracy: 0.3929\n",
      "Epoch 52/300\n",
      "1/1 - 0s - loss: 1.7835 - accuracy: 0.3929\n",
      "Epoch 53/300\n",
      "1/1 - 0s - loss: 1.7716 - accuracy: 0.3929\n",
      "Epoch 54/300\n",
      "1/1 - 0s - loss: 1.7597 - accuracy: 0.3929\n",
      "Epoch 55/300\n",
      "1/1 - 0s - loss: 1.7477 - accuracy: 0.3929\n",
      "Epoch 56/300\n",
      "1/1 - 0s - loss: 1.7358 - accuracy: 0.3929\n",
      "Epoch 57/300\n",
      "1/1 - 0s - loss: 1.7238 - accuracy: 0.3929\n",
      "Epoch 58/300\n",
      "1/1 - 0s - loss: 1.7118 - accuracy: 0.3929\n",
      "Epoch 59/300\n",
      "1/1 - 0s - loss: 1.6997 - accuracy: 0.4286\n",
      "Epoch 60/300\n",
      "1/1 - 0s - loss: 1.6875 - accuracy: 0.4286\n",
      "Epoch 61/300\n",
      "1/1 - 0s - loss: 1.6751 - accuracy: 0.4286\n",
      "Epoch 62/300\n",
      "1/1 - 0s - loss: 1.6624 - accuracy: 0.4286\n",
      "Epoch 63/300\n",
      "1/1 - 0s - loss: 1.6495 - accuracy: 0.4286\n",
      "Epoch 64/300\n",
      "1/1 - 0s - loss: 1.6363 - accuracy: 0.4286\n",
      "Epoch 65/300\n",
      "1/1 - 0s - loss: 1.6230 - accuracy: 0.4643\n",
      "Epoch 66/300\n",
      "1/1 - 0s - loss: 1.6094 - accuracy: 0.5000\n",
      "Epoch 67/300\n",
      "1/1 - 0s - loss: 1.5957 - accuracy: 0.5357\n",
      "Epoch 68/300\n",
      "1/1 - 0s - loss: 1.5819 - accuracy: 0.5357\n",
      "Epoch 69/300\n",
      "1/1 - 0s - loss: 1.5679 - accuracy: 0.5357\n",
      "Epoch 70/300\n",
      "1/1 - 0s - loss: 1.5539 - accuracy: 0.5357\n",
      "Epoch 71/300\n",
      "1/1 - 0s - loss: 1.5397 - accuracy: 0.5357\n",
      "Epoch 72/300\n",
      "1/1 - 0s - loss: 1.5254 - accuracy: 0.5357\n",
      "Epoch 73/300\n",
      "1/1 - 0s - loss: 1.5111 - accuracy: 0.5357\n",
      "Epoch 74/300\n",
      "1/1 - 0s - loss: 1.4966 - accuracy: 0.5714\n",
      "Epoch 75/300\n",
      "1/1 - 0s - loss: 1.4821 - accuracy: 0.5714\n",
      "Epoch 76/300\n",
      "1/1 - 0s - loss: 1.4676 - accuracy: 0.5714\n",
      "Epoch 77/300\n",
      "1/1 - 0s - loss: 1.4530 - accuracy: 0.5714\n",
      "Epoch 78/300\n",
      "1/1 - 0s - loss: 1.4385 - accuracy: 0.5714\n",
      "Epoch 79/300\n",
      "1/1 - 0s - loss: 1.4239 - accuracy: 0.5714\n",
      "Epoch 80/300\n",
      "1/1 - 0s - loss: 1.4094 - accuracy: 0.5714\n",
      "Epoch 81/300\n",
      "1/1 - 0s - loss: 1.3950 - accuracy: 0.5714\n",
      "Epoch 82/300\n",
      "1/1 - 0s - loss: 1.3806 - accuracy: 0.5714\n",
      "Epoch 83/300\n",
      "1/1 - 0s - loss: 1.3664 - accuracy: 0.5714\n",
      "Epoch 84/300\n",
      "1/1 - 0s - loss: 1.3522 - accuracy: 0.5714\n",
      "Epoch 85/300\n",
      "1/1 - 0s - loss: 1.3381 - accuracy: 0.5714\n",
      "Epoch 86/300\n",
      "1/1 - 0s - loss: 1.3242 - accuracy: 0.5714\n",
      "Epoch 87/300\n",
      "1/1 - 0s - loss: 1.3103 - accuracy: 0.5714\n",
      "Epoch 88/300\n",
      "1/1 - 0s - loss: 1.2966 - accuracy: 0.5714\n",
      "Epoch 89/300\n",
      "1/1 - 0s - loss: 1.2830 - accuracy: 0.6071\n",
      "Epoch 90/300\n",
      "1/1 - 0s - loss: 1.2696 - accuracy: 0.6071\n",
      "Epoch 91/300\n",
      "1/1 - 0s - loss: 1.2563 - accuracy: 0.6071\n",
      "Epoch 92/300\n",
      "1/1 - 0s - loss: 1.2432 - accuracy: 0.6071\n",
      "Epoch 93/300\n",
      "1/1 - 0s - loss: 1.2303 - accuracy: 0.6071\n",
      "Epoch 94/300\n",
      "1/1 - 0s - loss: 1.2175 - accuracy: 0.6071\n",
      "Epoch 95/300\n",
      "1/1 - 0s - loss: 1.2048 - accuracy: 0.6071\n",
      "Epoch 96/300\n",
      "1/1 - 0s - loss: 1.1923 - accuracy: 0.6429\n",
      "Epoch 97/300\n",
      "1/1 - 0s - loss: 1.1800 - accuracy: 0.6429\n",
      "Epoch 98/300\n",
      "1/1 - 0s - loss: 1.1679 - accuracy: 0.6429\n",
      "Epoch 99/300\n",
      "1/1 - 0s - loss: 1.1560 - accuracy: 0.6786\n",
      "Epoch 100/300\n",
      "1/1 - 0s - loss: 1.1442 - accuracy: 0.6786\n",
      "Epoch 101/300\n",
      "1/1 - 0s - loss: 1.1325 - accuracy: 0.6786\n",
      "Epoch 102/300\n",
      "1/1 - 0s - loss: 1.1211 - accuracy: 0.6786\n",
      "Epoch 103/300\n",
      "1/1 - 0s - loss: 1.1098 - accuracy: 0.6786\n",
      "Epoch 104/300\n",
      "1/1 - 0s - loss: 1.0987 - accuracy: 0.6786\n",
      "Epoch 105/300\n",
      "1/1 - 0s - loss: 1.0878 - accuracy: 0.6786\n",
      "Epoch 106/300\n",
      "1/1 - 0s - loss: 1.0770 - accuracy: 0.6786\n",
      "Epoch 107/300\n",
      "1/1 - 0s - loss: 1.0664 - accuracy: 0.6786\n",
      "Epoch 108/300\n",
      "1/1 - 0s - loss: 1.0559 - accuracy: 0.6786\n",
      "Epoch 109/300\n",
      "1/1 - 0s - loss: 1.0456 - accuracy: 0.6786\n",
      "Epoch 110/300\n",
      "1/1 - 0s - loss: 1.0354 - accuracy: 0.6786\n",
      "Epoch 111/300\n",
      "1/1 - 0s - loss: 1.0254 - accuracy: 0.6786\n",
      "Epoch 112/300\n",
      "1/1 - 0s - loss: 1.0155 - accuracy: 0.6786\n",
      "Epoch 113/300\n",
      "1/1 - 0s - loss: 1.0058 - accuracy: 0.6786\n",
      "Epoch 114/300\n",
      "1/1 - 0s - loss: 0.9962 - accuracy: 0.6786\n",
      "Epoch 115/300\n",
      "1/1 - 0s - loss: 0.9867 - accuracy: 0.6786\n",
      "Epoch 116/300\n",
      "1/1 - 0s - loss: 0.9773 - accuracy: 0.6786\n",
      "Epoch 117/300\n",
      "1/1 - 0s - loss: 0.9681 - accuracy: 0.7143\n",
      "Epoch 118/300\n",
      "1/1 - 0s - loss: 0.9590 - accuracy: 0.7143\n",
      "Epoch 119/300\n",
      "1/1 - 0s - loss: 0.9500 - accuracy: 0.7143\n",
      "Epoch 120/300\n",
      "1/1 - 0s - loss: 0.9411 - accuracy: 0.7143\n",
      "Epoch 121/300\n",
      "1/1 - 0s - loss: 0.9324 - accuracy: 0.7143\n",
      "Epoch 122/300\n",
      "1/1 - 0s - loss: 0.9237 - accuracy: 0.7143\n",
      "Epoch 123/300\n",
      "1/1 - 0s - loss: 0.9152 - accuracy: 0.7143\n",
      "Epoch 124/300\n",
      "1/1 - 0s - loss: 0.9067 - accuracy: 0.7143\n",
      "Epoch 125/300\n",
      "1/1 - 0s - loss: 0.8984 - accuracy: 0.7500\n",
      "Epoch 126/300\n",
      "1/1 - 0s - loss: 0.8901 - accuracy: 0.7500\n",
      "Epoch 127/300\n",
      "1/1 - 0s - loss: 0.8820 - accuracy: 0.7500\n",
      "Epoch 128/300\n",
      "1/1 - 0s - loss: 0.8739 - accuracy: 0.7500\n",
      "Epoch 129/300\n",
      "1/1 - 0s - loss: 0.8660 - accuracy: 0.7500\n",
      "Epoch 130/300\n",
      "1/1 - 0s - loss: 0.8581 - accuracy: 0.7500\n",
      "Epoch 131/300\n",
      "1/1 - 0s - loss: 0.8503 - accuracy: 0.7500\n",
      "Epoch 132/300\n",
      "1/1 - 0s - loss: 0.8426 - accuracy: 0.7857\n",
      "Epoch 133/300\n",
      "1/1 - 0s - loss: 0.8350 - accuracy: 0.7857\n",
      "Epoch 134/300\n",
      "1/1 - 0s - loss: 0.8275 - accuracy: 0.7857\n",
      "Epoch 135/300\n",
      "1/1 - 0s - loss: 0.8201 - accuracy: 0.8214\n",
      "Epoch 136/300\n",
      "1/1 - 0s - loss: 0.8128 - accuracy: 0.8214\n",
      "Epoch 137/300\n",
      "1/1 - 0s - loss: 0.8055 - accuracy: 0.8214\n",
      "Epoch 138/300\n",
      "1/1 - 0s - loss: 0.7984 - accuracy: 0.8214\n",
      "Epoch 139/300\n",
      "1/1 - 0s - loss: 0.7913 - accuracy: 0.8214\n",
      "Epoch 140/300\n",
      "1/1 - 0s - loss: 0.7843 - accuracy: 0.8214\n",
      "Epoch 141/300\n",
      "1/1 - 0s - loss: 0.7773 - accuracy: 0.8214\n",
      "Epoch 142/300\n",
      "1/1 - 0s - loss: 0.7705 - accuracy: 0.8214\n",
      "Epoch 143/300\n",
      "1/1 - 0s - loss: 0.7637 - accuracy: 0.8214\n",
      "Epoch 144/300\n",
      "1/1 - 0s - loss: 0.7571 - accuracy: 0.8214\n",
      "Epoch 145/300\n",
      "1/1 - 0s - loss: 0.7504 - accuracy: 0.8214\n",
      "Epoch 146/300\n",
      "1/1 - 0s - loss: 0.7439 - accuracy: 0.8214\n"
     ]
    },
    {
     "name": "stdout",
     "output_type": "stream",
     "text": [
      "Epoch 147/300\n",
      "1/1 - 0s - loss: 0.7374 - accuracy: 0.8214\n",
      "Epoch 148/300\n",
      "1/1 - 0s - loss: 0.7311 - accuracy: 0.8214\n",
      "Epoch 149/300\n",
      "1/1 - 0s - loss: 0.7248 - accuracy: 0.8214\n",
      "Epoch 150/300\n",
      "1/1 - 0s - loss: 0.7185 - accuracy: 0.8214\n",
      "Epoch 151/300\n",
      "1/1 - 0s - loss: 0.7124 - accuracy: 0.8214\n",
      "Epoch 152/300\n",
      "1/1 - 0s - loss: 0.7063 - accuracy: 0.8214\n",
      "Epoch 153/300\n",
      "1/1 - 0s - loss: 0.7003 - accuracy: 0.8214\n",
      "Epoch 154/300\n",
      "1/1 - 0s - loss: 0.6943 - accuracy: 0.8214\n",
      "Epoch 155/300\n",
      "1/1 - 0s - loss: 0.6885 - accuracy: 0.8214\n",
      "Epoch 156/300\n",
      "1/1 - 0s - loss: 0.6827 - accuracy: 0.8214\n",
      "Epoch 157/300\n",
      "1/1 - 0s - loss: 0.6769 - accuracy: 0.8214\n",
      "Epoch 158/300\n",
      "1/1 - 0s - loss: 0.6713 - accuracy: 0.8214\n",
      "Epoch 159/300\n",
      "1/1 - 0s - loss: 0.6657 - accuracy: 0.8214\n",
      "Epoch 160/300\n",
      "1/1 - 0s - loss: 0.6601 - accuracy: 0.8214\n",
      "Epoch 161/300\n",
      "1/1 - 0s - loss: 0.6547 - accuracy: 0.8214\n",
      "Epoch 162/300\n",
      "1/1 - 0s - loss: 0.6493 - accuracy: 0.8214\n",
      "Epoch 163/300\n",
      "1/1 - 0s - loss: 0.6440 - accuracy: 0.8214\n",
      "Epoch 164/300\n",
      "1/1 - 0s - loss: 0.6387 - accuracy: 0.8214\n",
      "Epoch 165/300\n",
      "1/1 - 0s - loss: 0.6335 - accuracy: 0.8214\n",
      "Epoch 166/300\n",
      "1/1 - 0s - loss: 0.6284 - accuracy: 0.8214\n",
      "Epoch 167/300\n",
      "1/1 - 0s - loss: 0.6233 - accuracy: 0.8214\n",
      "Epoch 168/300\n",
      "1/1 - 0s - loss: 0.6183 - accuracy: 0.8214\n",
      "Epoch 169/300\n",
      "1/1 - 0s - loss: 0.6134 - accuracy: 0.8214\n",
      "Epoch 170/300\n",
      "1/1 - 0s - loss: 0.6085 - accuracy: 0.8214\n",
      "Epoch 171/300\n",
      "1/1 - 0s - loss: 0.6037 - accuracy: 0.8571\n",
      "Epoch 172/300\n",
      "1/1 - 0s - loss: 0.5989 - accuracy: 0.8571\n",
      "Epoch 173/300\n",
      "1/1 - 0s - loss: 0.5942 - accuracy: 0.8571\n",
      "Epoch 174/300\n",
      "1/1 - 0s - loss: 0.5896 - accuracy: 0.8571\n",
      "Epoch 175/300\n",
      "1/1 - 0s - loss: 0.5850 - accuracy: 0.8571\n",
      "Epoch 176/300\n",
      "1/1 - 0s - loss: 0.5805 - accuracy: 0.8571\n",
      "Epoch 177/300\n",
      "1/1 - 0s - loss: 0.5761 - accuracy: 0.8571\n",
      "Epoch 178/300\n",
      "1/1 - 0s - loss: 0.5717 - accuracy: 0.8571\n",
      "Epoch 179/300\n",
      "1/1 - 0s - loss: 0.5673 - accuracy: 0.8571\n",
      "Epoch 180/300\n",
      "1/1 - 0s - loss: 0.5630 - accuracy: 0.8571\n",
      "Epoch 181/300\n",
      "1/1 - 0s - loss: 0.5588 - accuracy: 0.8571\n",
      "Epoch 182/300\n",
      "1/1 - 0s - loss: 0.5546 - accuracy: 0.8571\n",
      "Epoch 183/300\n",
      "1/1 - 0s - loss: 0.5505 - accuracy: 0.8571\n",
      "Epoch 184/300\n",
      "1/1 - 0s - loss: 0.5464 - accuracy: 0.8571\n",
      "Epoch 185/300\n",
      "1/1 - 0s - loss: 0.5424 - accuracy: 0.8571\n",
      "Epoch 186/300\n",
      "1/1 - 0s - loss: 0.5384 - accuracy: 0.8571\n",
      "Epoch 187/300\n",
      "1/1 - 0s - loss: 0.5345 - accuracy: 0.8571\n",
      "Epoch 188/300\n",
      "1/1 - 0s - loss: 0.5306 - accuracy: 0.8571\n",
      "Epoch 189/300\n",
      "1/1 - 0s - loss: 0.5268 - accuracy: 0.8571\n",
      "Epoch 190/300\n",
      "1/1 - 0s - loss: 0.5231 - accuracy: 0.8571\n",
      "Epoch 191/300\n",
      "1/1 - 0s - loss: 0.5193 - accuracy: 0.8571\n",
      "Epoch 192/300\n",
      "1/1 - 0s - loss: 0.5157 - accuracy: 0.8571\n",
      "Epoch 193/300\n",
      "1/1 - 0s - loss: 0.5120 - accuracy: 0.8571\n",
      "Epoch 194/300\n",
      "1/1 - 0s - loss: 0.5085 - accuracy: 0.8571\n",
      "Epoch 195/300\n",
      "1/1 - 0s - loss: 0.5049 - accuracy: 0.8571\n",
      "Epoch 196/300\n",
      "1/1 - 0s - loss: 0.5015 - accuracy: 0.8571\n",
      "Epoch 197/300\n",
      "1/1 - 0s - loss: 0.4980 - accuracy: 0.8571\n",
      "Epoch 198/300\n",
      "1/1 - 0s - loss: 0.4946 - accuracy: 0.8571\n",
      "Epoch 199/300\n",
      "1/1 - 0s - loss: 0.4913 - accuracy: 0.8571\n",
      "Epoch 200/300\n",
      "1/1 - 0s - loss: 0.4880 - accuracy: 0.8571\n",
      "Epoch 201/300\n",
      "1/1 - 0s - loss: 0.4847 - accuracy: 0.8571\n",
      "Epoch 202/300\n",
      "1/1 - 0s - loss: 0.4815 - accuracy: 0.8571\n",
      "Epoch 203/300\n",
      "1/1 - 0s - loss: 0.4783 - accuracy: 0.8571\n",
      "Epoch 204/300\n",
      "1/1 - 0s - loss: 0.4751 - accuracy: 0.8571\n",
      "Epoch 205/300\n",
      "1/1 - 0s - loss: 0.4720 - accuracy: 0.8571\n",
      "Epoch 206/300\n",
      "1/1 - 0s - loss: 0.4690 - accuracy: 0.8571\n",
      "Epoch 207/300\n",
      "1/1 - 0s - loss: 0.4660 - accuracy: 0.8571\n",
      "Epoch 208/300\n",
      "1/1 - 0s - loss: 0.4630 - accuracy: 0.8571\n",
      "Epoch 209/300\n",
      "1/1 - 0s - loss: 0.4600 - accuracy: 0.8571\n",
      "Epoch 210/300\n",
      "1/1 - 0s - loss: 0.4571 - accuracy: 0.8571\n",
      "Epoch 211/300\n",
      "1/1 - 0s - loss: 0.4542 - accuracy: 0.8571\n",
      "Epoch 212/300\n",
      "1/1 - 0s - loss: 0.4514 - accuracy: 0.8571\n",
      "Epoch 213/300\n",
      "1/1 - 0s - loss: 0.4486 - accuracy: 0.8571\n",
      "Epoch 214/300\n",
      "1/1 - 0s - loss: 0.4458 - accuracy: 0.8571\n",
      "Epoch 215/300\n",
      "1/1 - 0s - loss: 0.4431 - accuracy: 0.8571\n",
      "Epoch 216/300\n",
      "1/1 - 0s - loss: 0.4404 - accuracy: 0.8571\n",
      "Epoch 217/300\n",
      "1/1 - 0s - loss: 0.4377 - accuracy: 0.8571\n",
      "Epoch 218/300\n",
      "1/1 - 0s - loss: 0.4351 - accuracy: 0.8571\n",
      "Epoch 219/300\n",
      "1/1 - 0s - loss: 0.4325 - accuracy: 0.8571\n",
      "Epoch 220/300\n",
      "1/1 - 0s - loss: 0.4300 - accuracy: 0.8571\n",
      "Epoch 221/300\n",
      "1/1 - 0s - loss: 0.4274 - accuracy: 0.8571\n",
      "Epoch 222/300\n",
      "1/1 - 0s - loss: 0.4249 - accuracy: 0.8571\n",
      "Epoch 223/300\n",
      "1/1 - 0s - loss: 0.4224 - accuracy: 0.8571\n",
      "Epoch 224/300\n",
      "1/1 - 0s - loss: 0.4200 - accuracy: 0.8571\n",
      "Epoch 225/300\n",
      "1/1 - 0s - loss: 0.4176 - accuracy: 0.8571\n",
      "Epoch 226/300\n",
      "1/1 - 0s - loss: 0.4152 - accuracy: 0.8571\n",
      "Epoch 227/300\n",
      "1/1 - 0s - loss: 0.4129 - accuracy: 0.8571\n",
      "Epoch 228/300\n",
      "1/1 - 0s - loss: 0.4105 - accuracy: 0.8571\n",
      "Epoch 229/300\n",
      "1/1 - 0s - loss: 0.4083 - accuracy: 0.8571\n",
      "Epoch 230/300\n",
      "1/1 - 0s - loss: 0.4060 - accuracy: 0.8571\n",
      "Epoch 231/300\n",
      "1/1 - 0s - loss: 0.4038 - accuracy: 0.8571\n",
      "Epoch 232/300\n",
      "1/1 - 0s - loss: 0.4015 - accuracy: 0.8571\n",
      "Epoch 233/300\n",
      "1/1 - 0s - loss: 0.3994 - accuracy: 0.8571\n",
      "Epoch 234/300\n",
      "1/1 - 0s - loss: 0.3972 - accuracy: 0.8571\n",
      "Epoch 235/300\n",
      "1/1 - 0s - loss: 0.3951 - accuracy: 0.8571\n",
      "Epoch 236/300\n",
      "1/1 - 0s - loss: 0.3930 - accuracy: 0.8571\n",
      "Epoch 237/300\n",
      "1/1 - 0s - loss: 0.3909 - accuracy: 0.8571\n",
      "Epoch 238/300\n",
      "1/1 - 0s - loss: 0.3888 - accuracy: 0.8571\n",
      "Epoch 239/300\n",
      "1/1 - 0s - loss: 0.3868 - accuracy: 0.8571\n",
      "Epoch 240/300\n",
      "1/1 - 0s - loss: 0.3848 - accuracy: 0.8571\n",
      "Epoch 241/300\n",
      "1/1 - 0s - loss: 0.3828 - accuracy: 0.8571\n",
      "Epoch 242/300\n",
      "1/1 - 0s - loss: 0.3809 - accuracy: 0.8571\n",
      "Epoch 243/300\n",
      "1/1 - 0s - loss: 0.3789 - accuracy: 0.8571\n",
      "Epoch 244/300\n",
      "1/1 - 0s - loss: 0.3770 - accuracy: 0.8571\n",
      "Epoch 245/300\n",
      "1/1 - 0s - loss: 0.3751 - accuracy: 0.8571\n",
      "Epoch 246/300\n",
      "1/1 - 0s - loss: 0.3733 - accuracy: 0.8571\n",
      "Epoch 247/300\n",
      "1/1 - 0s - loss: 0.3714 - accuracy: 0.8571\n",
      "Epoch 248/300\n",
      "1/1 - 0s - loss: 0.3696 - accuracy: 0.8571\n",
      "Epoch 249/300\n",
      "1/1 - 0s - loss: 0.3678 - accuracy: 0.8571\n",
      "Epoch 250/300\n",
      "1/1 - 0s - loss: 0.3660 - accuracy: 0.8571\n",
      "Epoch 251/300\n",
      "1/1 - 0s - loss: 0.3643 - accuracy: 0.8571\n",
      "Epoch 252/300\n",
      "1/1 - 0s - loss: 0.3625 - accuracy: 0.8929\n",
      "Epoch 253/300\n",
      "1/1 - 0s - loss: 0.3608 - accuracy: 0.8929\n",
      "Epoch 254/300\n",
      "1/1 - 0s - loss: 0.3591 - accuracy: 0.8929\n",
      "Epoch 255/300\n",
      "1/1 - 0s - loss: 0.3574 - accuracy: 0.8929\n",
      "Epoch 256/300\n",
      "1/1 - 0s - loss: 0.3558 - accuracy: 0.8929\n",
      "Epoch 257/300\n",
      "1/1 - 0s - loss: 0.3541 - accuracy: 0.8929\n",
      "Epoch 258/300\n",
      "1/1 - 0s - loss: 0.3525 - accuracy: 0.8929\n",
      "Epoch 259/300\n",
      "1/1 - 0s - loss: 0.3509 - accuracy: 0.8929\n",
      "Epoch 260/300\n",
      "1/1 - 0s - loss: 0.3493 - accuracy: 0.8929\n",
      "Epoch 261/300\n",
      "1/1 - 0s - loss: 0.3478 - accuracy: 0.8929\n",
      "Epoch 262/300\n",
      "1/1 - 0s - loss: 0.3462 - accuracy: 0.8929\n",
      "Epoch 263/300\n",
      "1/1 - 0s - loss: 0.3447 - accuracy: 0.8929\n",
      "Epoch 264/300\n",
      "1/1 - 0s - loss: 0.3432 - accuracy: 0.8929\n",
      "Epoch 265/300\n",
      "1/1 - 0s - loss: 0.3417 - accuracy: 0.8929\n",
      "Epoch 266/300\n",
      "1/1 - 0s - loss: 0.3402 - accuracy: 0.8929\n",
      "Epoch 267/300\n",
      "1/1 - 0s - loss: 0.3387 - accuracy: 0.8929\n",
      "Epoch 268/300\n",
      "1/1 - 0s - loss: 0.3373 - accuracy: 0.8929\n",
      "Epoch 269/300\n",
      "1/1 - 0s - loss: 0.3359 - accuracy: 0.8929\n",
      "Epoch 270/300\n",
      "1/1 - 0s - loss: 0.3345 - accuracy: 0.8929\n",
      "Epoch 271/300\n",
      "1/1 - 0s - loss: 0.3331 - accuracy: 0.8929\n",
      "Epoch 272/300\n",
      "1/1 - 0s - loss: 0.3317 - accuracy: 0.8929\n",
      "Epoch 273/300\n",
      "1/1 - 0s - loss: 0.3303 - accuracy: 0.8929\n",
      "Epoch 274/300\n",
      "1/1 - 0s - loss: 0.3290 - accuracy: 0.8929\n",
      "Epoch 275/300\n",
      "1/1 - 0s - loss: 0.3276 - accuracy: 0.8929\n",
      "Epoch 276/300\n",
      "1/1 - 0s - loss: 0.3263 - accuracy: 0.8929\n",
      "Epoch 277/300\n",
      "1/1 - 0s - loss: 0.3250 - accuracy: 0.8929\n",
      "Epoch 278/300\n",
      "1/1 - 0s - loss: 0.3237 - accuracy: 0.8929\n",
      "Epoch 279/300\n",
      "1/1 - 0s - loss: 0.3224 - accuracy: 0.8929\n",
      "Epoch 280/300\n",
      "1/1 - 0s - loss: 0.3212 - accuracy: 0.8929\n",
      "Epoch 281/300\n",
      "1/1 - 0s - loss: 0.3199 - accuracy: 0.8929\n",
      "Epoch 282/300\n",
      "1/1 - 0s - loss: 0.3187 - accuracy: 0.8929\n",
      "Epoch 283/300\n",
      "1/1 - 0s - loss: 0.3175 - accuracy: 0.8929\n",
      "Epoch 284/300\n",
      "1/1 - 0s - loss: 0.3163 - accuracy: 0.8929\n",
      "Epoch 285/300\n",
      "1/1 - 0s - loss: 0.3151 - accuracy: 0.8929\n",
      "Epoch 286/300\n",
      "1/1 - 0s - loss: 0.3139 - accuracy: 0.8929\n",
      "Epoch 287/300\n",
      "1/1 - 0s - loss: 0.3127 - accuracy: 0.8929\n",
      "Epoch 288/300\n",
      "1/1 - 0s - loss: 0.3116 - accuracy: 0.8929\n",
      "Epoch 289/300\n",
      "1/1 - 0s - loss: 0.3104 - accuracy: 0.8929\n",
      "Epoch 290/300\n",
      "1/1 - 0s - loss: 0.3093 - accuracy: 0.8929\n"
     ]
    },
    {
     "name": "stdout",
     "output_type": "stream",
     "text": [
      "Epoch 291/300\n",
      "1/1 - 0s - loss: 0.3082 - accuracy: 0.8929\n",
      "Epoch 292/300\n",
      "1/1 - 0s - loss: 0.3071 - accuracy: 0.8929\n",
      "Epoch 293/300\n",
      "1/1 - 0s - loss: 0.3060 - accuracy: 0.8929\n",
      "Epoch 294/300\n",
      "1/1 - 0s - loss: 0.3049 - accuracy: 0.8929\n",
      "Epoch 295/300\n",
      "1/1 - 0s - loss: 0.3038 - accuracy: 0.8929\n",
      "Epoch 296/300\n",
      "1/1 - 0s - loss: 0.3028 - accuracy: 0.8929\n",
      "Epoch 297/300\n",
      "1/1 - 0s - loss: 0.3017 - accuracy: 0.8929\n",
      "Epoch 298/300\n",
      "1/1 - 0s - loss: 0.3007 - accuracy: 0.8929\n",
      "Epoch 299/300\n",
      "1/1 - 0s - loss: 0.2997 - accuracy: 0.8929\n",
      "Epoch 300/300\n",
      "1/1 - 0s - loss: 0.2987 - accuracy: 0.8929\n"
     ]
    }
   ],
   "source": [
    "from tensorflow.keras.models import Sequential\n",
    "from tensorflow.keras.layers import SimpleRNN, Dense, Embedding\n",
    "\n",
    "# RNN 모델 생성\n",
    "model = Sequential()\n",
    "# 희소행렬로 변환 (10:벡터)\n",
    "model.add(Embedding(vocab_size, 10, input_length=X.shape[1]))\n",
    "model.add(SimpleRNN(32))\n",
    "model.add(Dense(vocab_size, activation=\"softmax\"))\n",
    "\n",
    "# 모델 학습과정 설정\n",
    "model.compile(loss=\"categorical_crossentropy\", optimizer=\"adam\", \n",
    "              metrics=['accuracy'])\n",
    "\n",
    "# 학습시키기\n",
    "hist = model.fit(X, Y, epochs=300, verbose=2)"
   ]
  },
  {
   "cell_type": "code",
   "execution_count": 18,
   "metadata": {
    "ExecuteTime": {
     "end_time": "2021-04-04T11:02:54.348091Z",
     "start_time": "2021-04-04T11:02:54.034356Z"
    }
   },
   "outputs": [
    {
     "name": "stdout",
     "output_type": "stream",
     "text": [
      "1/1 [==============================] - 0s 261ms/step - loss: 0.2977 - accuracy: 0.8929\n"
     ]
    },
    {
     "data": {
      "text/plain": [
       "[0.29767003655433655, 0.8928571343421936]"
      ]
     },
     "execution_count": 18,
     "metadata": {},
     "output_type": "execute_result"
    }
   ],
   "source": [
    "# 모델 평가\n",
    "model.evaluate(X, Y)"
   ]
  },
  {
   "cell_type": "code",
   "execution_count": 19,
   "metadata": {
    "ExecuteTime": {
     "end_time": "2021-04-04T11:03:15.337249Z",
     "start_time": "2021-04-04T11:03:15.329271Z"
    }
   },
   "outputs": [
    {
     "data": {
      "text/plain": [
       "dict_keys(['loss', 'accuracy'])"
      ]
     },
     "execution_count": 19,
     "metadata": {},
     "output_type": "execute_result"
    }
   ],
   "source": [
    "hist.history.keys()"
   ]
  },
  {
   "cell_type": "code",
   "execution_count": 20,
   "metadata": {
    "ExecuteTime": {
     "end_time": "2021-04-04T11:03:24.643860Z",
     "start_time": "2021-04-04T11:03:23.968961Z"
    }
   },
   "outputs": [
    {
     "data": {
      "text/plain": [
       "<matplotlib.legend.Legend at 0x16efe64f970>"
      ]
     },
     "execution_count": 20,
     "metadata": {},
     "output_type": "execute_result"
    },
    {
     "data": {
      "image/png": "[encoded data removed]",
      "text/plain": [
       "<Figure size 432x288 with 1 Axes>"
      ]
     },
     "metadata": {
      "needs_background": "light"
     },
     "output_type": "display_data"
    }
   ],
   "source": [
    "# 학습과정 보기\n",
    "import matplotlib.pyplot as plt\n",
    "plt.plot(hist.history['loss'], color='r', label=\"loss\")\n",
    "plt.plot(hist.history['accuracy'], color='g', label='accuracy')\n",
    "plt.legend()"
   ]
  },
  {
   "cell_type": "code",
   "execution_count": 21,
   "metadata": {
    "ExecuteTime": {
     "end_time": "2021-04-04T11:03:34.126639Z",
     "start_time": "2021-04-04T11:03:33.763029Z"
    }
   },
   "outputs": [
    {
     "name": "stderr",
     "output_type": "stream",
     "text": [
      "C:\\Users\\82105\\anaconda3\\lib\\site-packages\\tensorflow\\python\\keras\\engine\\sequential.py:450: UserWarning: `model.predict_classes()` is deprecated and will be removed after 2021-01-01. Please use instead:* `np.argmax(model.predict(x), axis=-1)`,   if your model does multi-class classification   (e.g. if it uses a `softmax` last-layer activation).* `(model.predict(x) > 0.5).astype(\"int32\")`,   if your model does binary classification   (e.g. if it uses a `sigmoid` last-layer activation).\n",
      "  warnings.warn('`model.predict_classes()` is deprecated and '\n"
     ]
    },
    {
     "name": "stdout",
     "output_type": "stream",
     "text": [
      "예측결과값 : 3\n",
      "예측된 단어 : 있는\n"
     ]
    }
   ],
   "source": [
    "# '경마장에' 뒤에 나오는 단어를 model에 의해 추측\n",
    "encoded = t.texts_to_sequences(['경마장에'])[0]\n",
    "encoded = pad_sequences([encoded], maxlen=5, padding='pre')\n",
    "result = model.predict_classes(encoded)\n",
    "print('예측결과값 :',result[0])\n",
    "for key, value in t.word_index.items():\n",
    "    if value==result[0]:\n",
    "        print(\"예측된 단어 :\", key)\n",
    "        break"
   ]
  },
  {
   "cell_type": "code",
   "execution_count": 22,
   "metadata": {
    "ExecuteTime": {
     "end_time": "2021-04-04T11:03:53.380439Z",
     "start_time": "2021-04-04T11:03:45.070420Z"
    }
   },
   "outputs": [
    {
     "name": "stdout",
     "output_type": "stream",
     "text": [
      "입력 단어 :말이\n",
      "예측결과값 : 7\n",
      "예측된 단어 : 법이다\n"
     ]
    }
   ],
   "source": [
    "# 입력받은 다음 단어 추측하기\n",
    "word = input(\"입력 단어 :\")\n",
    "encoded = t.texts_to_sequences([word])[0]\n",
    "encoded = pad_sequences([encoded], maxlen=5, padding='pre')\n",
    "result = np.argmax(model.predict(encoded))\n",
    "print('예측결과값 :',result)\n",
    "for key, value in t.word_index.items():\n",
    "    if value==result:\n",
    "        print(\"예측된 단어 :\", key)\n",
    "        break"
   ]
  },
  {
   "cell_type": "markdown",
   "metadata": {},
   "source": [
    "# 2. 다음 문맥 예측해 보기"
   ]
  },
  {
   "cell_type": "code",
   "execution_count": 23,
   "metadata": {
    "ExecuteTime": {
     "end_time": "2021-04-04T11:04:22.863939Z",
     "start_time": "2021-04-04T11:04:22.854963Z"
    }
   },
   "outputs": [],
   "source": [
    "# \"경마장에\" 이후에 올 단어  4개 예측 => 경마장에 있는 말이 뛰고\n",
    "#  -----                   --\n",
    "def sentence_generation(model, t, current_word, n):\n",
    "    init_word = current_word\n",
    "    print(\"입력 단어 :\", init_word)\n",
    "    setence = \"\"\n",
    "    for i in range(1,n+1):\n",
    "        encoded = t.texts_to_sequences([current_word])[0]\n",
    "        encoded = pad_sequences([encoded], maxlen=5, padding='pre')\n",
    "        result = np.argmax(model.predict(encoded))\n",
    "        for word, index in t.word_index.items():\n",
    "            if index==result:\n",
    "                print(\"{}번째 : {}:{}\".format(i, word, result))\n",
    "                current_word = current_word + ' ' + word\n",
    "                break;\n",
    "    return current_word"
   ]
  },
  {
   "cell_type": "code",
   "execution_count": 24,
   "metadata": {
    "ExecuteTime": {
     "end_time": "2021-04-04T11:04:30.406426Z",
     "start_time": "2021-04-04T11:04:30.219400Z"
    }
   },
   "outputs": [
    {
     "name": "stdout",
     "output_type": "stream",
     "text": [
      "입력 단어 : 경마장에\n",
      "1번째 : 있는:3\n",
      "2번째 : 말이:1\n",
      "3번째 : 뛰고:4\n",
      "4번째 : 있다:5\n"
     ]
    },
    {
     "data": {
      "text/plain": [
       "'경마장에 있는 말이 뛰고 있다'"
      ]
     },
     "execution_count": 24,
     "metadata": {},
     "output_type": "execute_result"
    }
   ],
   "source": [
    "sentence_generation(model, t, \"경마장에\", 4)"
   ]
  },
  {
   "cell_type": "code",
   "execution_count": 25,
   "metadata": {
    "ExecuteTime": {
     "end_time": "2021-04-04T11:04:43.632644Z",
     "start_time": "2021-04-04T11:04:43.415016Z"
    }
   },
   "outputs": [
    {
     "name": "stdout",
     "output_type": "stream",
     "text": [
      "입력 단어 : 가는 말이\n",
      "1번째 : 고와야:9\n",
      "2번째 : 오는:10\n",
      "3번째 : 말이:1\n",
      "4번째 : 곱다:11\n"
     ]
    },
    {
     "data": {
      "text/plain": [
       "'가는 말이 고와야 오는 말이 곱다'"
      ]
     },
     "execution_count": 25,
     "metadata": {},
     "output_type": "execute_result"
    }
   ],
   "source": [
    "sentence_generation(model, t, \"가는 말이\", 4)"
   ]
  },
  {
   "cell_type": "markdown",
   "metadata": {},
   "source": [
    "# 3. LSTM"
   ]
  },
  {
   "cell_type": "code",
   "execution_count": 26,
   "metadata": {
    "ExecuteTime": {
     "end_time": "2021-04-04T11:05:09.873151Z",
     "start_time": "2021-04-04T11:05:05.383929Z"
    }
   },
   "outputs": [
    {
     "name": "stdout",
     "output_type": "stream",
     "text": [
      "Epoch 1/300\n",
      "1/1 - 2s - loss: 2.4823 - accuracy: 0.1786\n",
      "Epoch 2/300\n",
      "1/1 - 0s - loss: 2.4796 - accuracy: 0.2857\n",
      "Epoch 3/300\n",
      "1/1 - 0s - loss: 2.4769 - accuracy: 0.2857\n",
      "Epoch 4/300\n",
      "1/1 - 0s - loss: 2.4741 - accuracy: 0.2857\n",
      "Epoch 5/300\n",
      "1/1 - 0s - loss: 2.4713 - accuracy: 0.2857\n",
      "Epoch 6/300\n",
      "1/1 - 0s - loss: 2.4684 - accuracy: 0.2857\n",
      "Epoch 7/300\n",
      "1/1 - 0s - loss: 2.4655 - accuracy: 0.2857\n",
      "Epoch 8/300\n",
      "1/1 - 0s - loss: 2.4624 - accuracy: 0.2857\n",
      "Epoch 9/300\n",
      "1/1 - 0s - loss: 2.4593 - accuracy: 0.2857\n",
      "Epoch 10/300\n",
      "1/1 - 0s - loss: 2.4561 - accuracy: 0.2857\n",
      "Epoch 11/300\n",
      "1/1 - 0s - loss: 2.4527 - accuracy: 0.2857\n",
      "Epoch 12/300\n",
      "1/1 - 0s - loss: 2.4492 - accuracy: 0.2857\n",
      "Epoch 13/300\n",
      "1/1 - 0s - loss: 2.4456 - accuracy: 0.2857\n",
      "Epoch 14/300\n",
      "1/1 - 0s - loss: 2.4418 - accuracy: 0.2857\n",
      "Epoch 15/300\n",
      "1/1 - 0s - loss: 2.4378 - accuracy: 0.2857\n",
      "Epoch 16/300\n",
      "1/1 - 0s - loss: 2.4336 - accuracy: 0.2857\n",
      "Epoch 17/300\n",
      "1/1 - 0s - loss: 2.4292 - accuracy: 0.2857\n",
      "Epoch 18/300\n",
      "1/1 - 0s - loss: 2.4246 - accuracy: 0.2857\n",
      "Epoch 19/300\n",
      "1/1 - 0s - loss: 2.4197 - accuracy: 0.2857\n",
      "Epoch 20/300\n",
      "1/1 - 0s - loss: 2.4146 - accuracy: 0.2857\n",
      "Epoch 21/300\n",
      "1/1 - 0s - loss: 2.4092 - accuracy: 0.2857\n",
      "Epoch 22/300\n",
      "1/1 - 0s - loss: 2.4035 - accuracy: 0.2857\n",
      "Epoch 23/300\n",
      "1/1 - 0s - loss: 2.3974 - accuracy: 0.2857\n",
      "Epoch 24/300\n",
      "1/1 - 0s - loss: 2.3910 - accuracy: 0.2857\n",
      "Epoch 25/300\n",
      "1/1 - 0s - loss: 2.3842 - accuracy: 0.2857\n",
      "Epoch 26/300\n",
      "1/1 - 0s - loss: 2.3769 - accuracy: 0.2857\n",
      "Epoch 27/300\n",
      "1/1 - 0s - loss: 2.3692 - accuracy: 0.2857\n",
      "Epoch 28/300\n",
      "1/1 - 0s - loss: 2.3611 - accuracy: 0.2857\n",
      "Epoch 29/300\n",
      "1/1 - 0s - loss: 2.3524 - accuracy: 0.2857\n",
      "Epoch 30/300\n",
      "1/1 - 0s - loss: 2.3432 - accuracy: 0.2857\n",
      "Epoch 31/300\n",
      "1/1 - 0s - loss: 2.3334 - accuracy: 0.2857\n",
      "Epoch 32/300\n",
      "1/1 - 0s - loss: 2.3229 - accuracy: 0.2857\n",
      "Epoch 33/300\n",
      "1/1 - 0s - loss: 2.3118 - accuracy: 0.2857\n",
      "Epoch 34/300\n",
      "1/1 - 0s - loss: 2.3001 - accuracy: 0.2857\n",
      "Epoch 35/300\n",
      "1/1 - 0s - loss: 2.2876 - accuracy: 0.2857\n",
      "Epoch 36/300\n",
      "1/1 - 0s - loss: 2.2743 - accuracy: 0.2857\n",
      "Epoch 37/300\n",
      "1/1 - 0s - loss: 2.2603 - accuracy: 0.2857\n",
      "Epoch 38/300\n",
      "1/1 - 0s - loss: 2.2455 - accuracy: 0.2857\n",
      "Epoch 39/300\n",
      "1/1 - 0s - loss: 2.2299 - accuracy: 0.2857\n",
      "Epoch 40/300\n",
      "1/1 - 0s - loss: 2.2136 - accuracy: 0.2857\n",
      "Epoch 41/300\n",
      "1/1 - 0s - loss: 2.1966 - accuracy: 0.2857\n",
      "Epoch 42/300\n",
      "1/1 - 0s - loss: 2.1789 - accuracy: 0.2857\n",
      "Epoch 43/300\n",
      "1/1 - 0s - loss: 2.1606 - accuracy: 0.2857\n",
      "Epoch 44/300\n",
      "1/1 - 0s - loss: 2.1419 - accuracy: 0.2857\n",
      "Epoch 45/300\n",
      "1/1 - 0s - loss: 2.1230 - accuracy: 0.2857\n",
      "Epoch 46/300\n",
      "1/1 - 0s - loss: 2.1040 - accuracy: 0.2857\n",
      "Epoch 47/300\n",
      "1/1 - 0s - loss: 2.0853 - accuracy: 0.2857\n",
      "Epoch 48/300\n",
      "1/1 - 0s - loss: 2.0671 - accuracy: 0.2857\n",
      "Epoch 49/300\n",
      "1/1 - 0s - loss: 2.0499 - accuracy: 0.2857\n",
      "Epoch 50/300\n",
      "1/1 - 0s - loss: 2.0340 - accuracy: 0.2857\n",
      "Epoch 51/300\n",
      "1/1 - 0s - loss: 2.0197 - accuracy: 0.2857\n",
      "Epoch 52/300\n",
      "1/1 - 0s - loss: 2.0075 - accuracy: 0.2857\n",
      "Epoch 53/300\n",
      "1/1 - 0s - loss: 1.9975 - accuracy: 0.2857\n",
      "Epoch 54/300\n",
      "1/1 - 0s - loss: 1.9896 - accuracy: 0.2857\n",
      "Epoch 55/300\n",
      "1/1 - 0s - loss: 1.9836 - accuracy: 0.2857\n",
      "Epoch 56/300\n",
      "1/1 - 0s - loss: 1.9790 - accuracy: 0.2857\n",
      "Epoch 57/300\n",
      "1/1 - 0s - loss: 1.9752 - accuracy: 0.2857\n",
      "Epoch 58/300\n",
      "1/1 - 0s - loss: 1.9714 - accuracy: 0.2857\n",
      "Epoch 59/300\n",
      "1/1 - 0s - loss: 1.9674 - accuracy: 0.2857\n",
      "Epoch 60/300\n",
      "1/1 - 0s - loss: 1.9628 - accuracy: 0.2857\n",
      "Epoch 61/300\n",
      "1/1 - 0s - loss: 1.9577 - accuracy: 0.2857\n",
      "Epoch 62/300\n",
      "1/1 - 0s - loss: 1.9522 - accuracy: 0.2857\n",
      "Epoch 63/300\n",
      "1/1 - 0s - loss: 1.9466 - accuracy: 0.2857\n",
      "Epoch 64/300\n",
      "1/1 - 0s - loss: 1.9412 - accuracy: 0.2857\n",
      "Epoch 65/300\n",
      "1/1 - 0s - loss: 1.9360 - accuracy: 0.2857\n",
      "Epoch 66/300\n",
      "1/1 - 0s - loss: 1.9312 - accuracy: 0.2857\n",
      "Epoch 67/300\n",
      "1/1 - 0s - loss: 1.9270 - accuracy: 0.2857\n",
      "Epoch 68/300\n",
      "1/1 - 0s - loss: 1.9231 - accuracy: 0.2857\n",
      "Epoch 69/300\n",
      "1/1 - 0s - loss: 1.9197 - accuracy: 0.2857\n",
      "Epoch 70/300\n",
      "1/1 - 0s - loss: 1.9165 - accuracy: 0.2857\n",
      "Epoch 71/300\n",
      "1/1 - 0s - loss: 1.9136 - accuracy: 0.2857\n",
      "Epoch 72/300\n",
      "1/1 - 0s - loss: 1.9108 - accuracy: 0.2857\n",
      "Epoch 73/300\n",
      "1/1 - 0s - loss: 1.9080 - accuracy: 0.2857\n",
      "Epoch 74/300\n",
      "1/1 - 0s - loss: 1.9052 - accuracy: 0.2857\n",
      "Epoch 75/300\n",
      "1/1 - 0s - loss: 1.9024 - accuracy: 0.2857\n",
      "Epoch 76/300\n",
      "1/1 - 0s - loss: 1.8996 - accuracy: 0.2857\n",
      "Epoch 77/300\n",
      "1/1 - 0s - loss: 1.8967 - accuracy: 0.2857\n",
      "Epoch 78/300\n",
      "1/1 - 0s - loss: 1.8937 - accuracy: 0.2857\n",
      "Epoch 79/300\n",
      "1/1 - 0s - loss: 1.8908 - accuracy: 0.2857\n",
      "Epoch 80/300\n",
      "1/1 - 0s - loss: 1.8878 - accuracy: 0.2857\n",
      "Epoch 81/300\n",
      "1/1 - 0s - loss: 1.8848 - accuracy: 0.2857\n",
      "Epoch 82/300\n",
      "1/1 - 0s - loss: 1.8818 - accuracy: 0.2857\n",
      "Epoch 83/300\n",
      "1/1 - 0s - loss: 1.8789 - accuracy: 0.2857\n",
      "Epoch 84/300\n",
      "1/1 - 0s - loss: 1.8759 - accuracy: 0.2857\n",
      "Epoch 85/300\n",
      "1/1 - 0s - loss: 1.8730 - accuracy: 0.2857\n",
      "Epoch 86/300\n",
      "1/1 - 0s - loss: 1.8701 - accuracy: 0.2857\n",
      "Epoch 87/300\n",
      "1/1 - 0s - loss: 1.8672 - accuracy: 0.2857\n",
      "Epoch 88/300\n",
      "1/1 - 0s - loss: 1.8643 - accuracy: 0.2857\n",
      "Epoch 89/300\n",
      "1/1 - 0s - loss: 1.8613 - accuracy: 0.2857\n",
      "Epoch 90/300\n",
      "1/1 - 0s - loss: 1.8583 - accuracy: 0.2857\n",
      "Epoch 91/300\n",
      "1/1 - 0s - loss: 1.8553 - accuracy: 0.2857\n",
      "Epoch 92/300\n",
      "1/1 - 0s - loss: 1.8522 - accuracy: 0.2857\n",
      "Epoch 93/300\n",
      "1/1 - 0s - loss: 1.8490 - accuracy: 0.2857\n",
      "Epoch 94/300\n",
      "1/1 - 0s - loss: 1.8458 - accuracy: 0.2857\n",
      "Epoch 95/300\n",
      "1/1 - 0s - loss: 1.8425 - accuracy: 0.2857\n",
      "Epoch 96/300\n",
      "1/1 - 0s - loss: 1.8391 - accuracy: 0.2857\n",
      "Epoch 97/300\n",
      "1/1 - 0s - loss: 1.8357 - accuracy: 0.2857\n",
      "Epoch 98/300\n",
      "1/1 - 0s - loss: 1.8322 - accuracy: 0.2857\n",
      "Epoch 99/300\n",
      "1/1 - 0s - loss: 1.8286 - accuracy: 0.2857\n",
      "Epoch 100/300\n",
      "1/1 - 0s - loss: 1.8250 - accuracy: 0.2857\n",
      "Epoch 101/300\n",
      "1/1 - 0s - loss: 1.8213 - accuracy: 0.2857\n",
      "Epoch 102/300\n",
      "1/1 - 0s - loss: 1.8175 - accuracy: 0.2857\n",
      "Epoch 103/300\n",
      "1/1 - 0s - loss: 1.8136 - accuracy: 0.2857\n",
      "Epoch 104/300\n",
      "1/1 - 0s - loss: 1.8096 - accuracy: 0.2857\n",
      "Epoch 105/300\n",
      "1/1 - 0s - loss: 1.8055 - accuracy: 0.3214\n",
      "Epoch 106/300\n",
      "1/1 - 0s - loss: 1.8012 - accuracy: 0.3214\n",
      "Epoch 107/300\n",
      "1/1 - 0s - loss: 1.7968 - accuracy: 0.3214\n",
      "Epoch 108/300\n",
      "1/1 - 0s - loss: 1.7923 - accuracy: 0.3214\n",
      "Epoch 109/300\n",
      "1/1 - 0s - loss: 1.7877 - accuracy: 0.3214\n",
      "Epoch 110/300\n",
      "1/1 - 0s - loss: 1.7828 - accuracy: 0.3214\n",
      "Epoch 111/300\n",
      "1/1 - 0s - loss: 1.7779 - accuracy: 0.3214\n",
      "Epoch 112/300\n",
      "1/1 - 0s - loss: 1.7727 - accuracy: 0.3214\n",
      "Epoch 113/300\n",
      "1/1 - 0s - loss: 1.7674 - accuracy: 0.3571\n",
      "Epoch 114/300\n",
      "1/1 - 0s - loss: 1.7619 - accuracy: 0.3571\n",
      "Epoch 115/300\n",
      "1/1 - 0s - loss: 1.7562 - accuracy: 0.3571\n",
      "Epoch 116/300\n",
      "1/1 - 0s - loss: 1.7504 - accuracy: 0.3571\n",
      "Epoch 117/300\n",
      "1/1 - 0s - loss: 1.7443 - accuracy: 0.3571\n",
      "Epoch 118/300\n",
      "1/1 - 0s - loss: 1.7380 - accuracy: 0.3571\n",
      "Epoch 119/300\n",
      "1/1 - 0s - loss: 1.7316 - accuracy: 0.3929\n",
      "Epoch 120/300\n",
      "1/1 - 0s - loss: 1.7249 - accuracy: 0.3929\n",
      "Epoch 121/300\n",
      "1/1 - 0s - loss: 1.7180 - accuracy: 0.3929\n",
      "Epoch 122/300\n",
      "1/1 - 0s - loss: 1.7108 - accuracy: 0.3929\n",
      "Epoch 123/300\n",
      "1/1 - 0s - loss: 1.7035 - accuracy: 0.3929\n",
      "Epoch 124/300\n",
      "1/1 - 0s - loss: 1.6959 - accuracy: 0.3929\n",
      "Epoch 125/300\n",
      "1/1 - 0s - loss: 1.6881 - accuracy: 0.3929\n",
      "Epoch 126/300\n",
      "1/1 - 0s - loss: 1.6801 - accuracy: 0.3929\n",
      "Epoch 127/300\n",
      "1/1 - 0s - loss: 1.6719 - accuracy: 0.4286\n",
      "Epoch 128/300\n",
      "1/1 - 0s - loss: 1.6635 - accuracy: 0.5000\n",
      "Epoch 129/300\n",
      "1/1 - 0s - loss: 1.6548 - accuracy: 0.5000\n",
      "Epoch 130/300\n",
      "1/1 - 0s - loss: 1.6459 - accuracy: 0.5000\n",
      "Epoch 131/300\n",
      "1/1 - 0s - loss: 1.6369 - accuracy: 0.5000\n",
      "Epoch 132/300\n",
      "1/1 - 0s - loss: 1.6276 - accuracy: 0.5000\n",
      "Epoch 133/300\n",
      "1/1 - 0s - loss: 1.6181 - accuracy: 0.5000\n",
      "Epoch 134/300\n",
      "1/1 - 0s - loss: 1.6084 - accuracy: 0.5000\n",
      "Epoch 135/300\n",
      "1/1 - 0s - loss: 1.5986 - accuracy: 0.5000\n",
      "Epoch 136/300\n",
      "1/1 - 0s - loss: 1.5885 - accuracy: 0.5000\n",
      "Epoch 137/300\n",
      "1/1 - 0s - loss: 1.5783 - accuracy: 0.5357\n",
      "Epoch 138/300\n",
      "1/1 - 0s - loss: 1.5679 - accuracy: 0.5357\n",
      "Epoch 139/300\n",
      "1/1 - 0s - loss: 1.5573 - accuracy: 0.5357\n",
      "Epoch 140/300\n",
      "1/1 - 0s - loss: 1.5466 - accuracy: 0.5357\n",
      "Epoch 141/300\n",
      "1/1 - 0s - loss: 1.5357 - accuracy: 0.5357\n",
      "Epoch 142/300\n",
      "1/1 - 0s - loss: 1.5246 - accuracy: 0.5357\n",
      "Epoch 143/300\n",
      "1/1 - 0s - loss: 1.5133 - accuracy: 0.5357\n",
      "Epoch 144/300\n",
      "1/1 - 0s - loss: 1.5019 - accuracy: 0.5357\n",
      "Epoch 145/300\n",
      "1/1 - 0s - loss: 1.4903 - accuracy: 0.5357\n",
      "Epoch 146/300\n",
      "1/1 - 0s - loss: 1.4786 - accuracy: 0.5357\n"
     ]
    },
    {
     "name": "stdout",
     "output_type": "stream",
     "text": [
      "Epoch 147/300\n",
      "1/1 - 0s - loss: 1.4667 - accuracy: 0.5357\n",
      "Epoch 148/300\n",
      "1/1 - 0s - loss: 1.4547 - accuracy: 0.5714\n",
      "Epoch 149/300\n",
      "1/1 - 0s - loss: 1.4425 - accuracy: 0.5714\n",
      "Epoch 150/300\n",
      "1/1 - 0s - loss: 1.4302 - accuracy: 0.5714\n",
      "Epoch 151/300\n",
      "1/1 - 0s - loss: 1.4178 - accuracy: 0.5714\n",
      "Epoch 152/300\n",
      "1/1 - 0s - loss: 1.4053 - accuracy: 0.5714\n",
      "Epoch 153/300\n",
      "1/1 - 0s - loss: 1.3926 - accuracy: 0.5714\n",
      "Epoch 154/300\n",
      "1/1 - 0s - loss: 1.3799 - accuracy: 0.5714\n",
      "Epoch 155/300\n",
      "1/1 - 0s - loss: 1.3671 - accuracy: 0.5714\n",
      "Epoch 156/300\n",
      "1/1 - 0s - loss: 1.3543 - accuracy: 0.5714\n",
      "Epoch 157/300\n",
      "1/1 - 0s - loss: 1.3414 - accuracy: 0.5714\n",
      "Epoch 158/300\n",
      "1/1 - 0s - loss: 1.3284 - accuracy: 0.5714\n",
      "Epoch 159/300\n",
      "1/1 - 0s - loss: 1.3154 - accuracy: 0.5714\n",
      "Epoch 160/300\n",
      "1/1 - 0s - loss: 1.3024 - accuracy: 0.5714\n",
      "Epoch 161/300\n",
      "1/1 - 0s - loss: 1.2893 - accuracy: 0.6071\n",
      "Epoch 162/300\n",
      "1/1 - 0s - loss: 1.2763 - accuracy: 0.6071\n",
      "Epoch 163/300\n",
      "1/1 - 0s - loss: 1.2632 - accuracy: 0.6071\n",
      "Epoch 164/300\n",
      "1/1 - 0s - loss: 1.2501 - accuracy: 0.6071\n",
      "Epoch 165/300\n",
      "1/1 - 0s - loss: 1.2371 - accuracy: 0.6071\n",
      "Epoch 166/300\n",
      "1/1 - 0s - loss: 1.2240 - accuracy: 0.6071\n",
      "Epoch 167/300\n",
      "1/1 - 0s - loss: 1.2109 - accuracy: 0.6071\n",
      "Epoch 168/300\n",
      "1/1 - 0s - loss: 1.1979 - accuracy: 0.6071\n",
      "Epoch 169/300\n",
      "1/1 - 0s - loss: 1.1848 - accuracy: 0.6071\n",
      "Epoch 170/300\n",
      "1/1 - 0s - loss: 1.1718 - accuracy: 0.6071\n",
      "Epoch 171/300\n",
      "1/1 - 0s - loss: 1.1588 - accuracy: 0.6429\n",
      "Epoch 172/300\n",
      "1/1 - 0s - loss: 1.1458 - accuracy: 0.6429\n",
      "Epoch 173/300\n",
      "1/1 - 0s - loss: 1.1329 - accuracy: 0.6429\n",
      "Epoch 174/300\n",
      "1/1 - 0s - loss: 1.1199 - accuracy: 0.6429\n",
      "Epoch 175/300\n",
      "1/1 - 0s - loss: 1.1070 - accuracy: 0.6429\n",
      "Epoch 176/300\n",
      "1/1 - 0s - loss: 1.0942 - accuracy: 0.6429\n",
      "Epoch 177/300\n",
      "1/1 - 0s - loss: 1.0814 - accuracy: 0.6429\n",
      "Epoch 178/300\n",
      "1/1 - 0s - loss: 1.0687 - accuracy: 0.6429\n",
      "Epoch 179/300\n",
      "1/1 - 0s - loss: 1.0560 - accuracy: 0.6786\n",
      "Epoch 180/300\n",
      "1/1 - 0s - loss: 1.0435 - accuracy: 0.6786\n",
      "Epoch 181/300\n",
      "1/1 - 0s - loss: 1.0310 - accuracy: 0.6786\n",
      "Epoch 182/300\n",
      "1/1 - 0s - loss: 1.0187 - accuracy: 0.6786\n",
      "Epoch 183/300\n",
      "1/1 - 0s - loss: 1.0065 - accuracy: 0.6786\n",
      "Epoch 184/300\n",
      "1/1 - 0s - loss: 0.9945 - accuracy: 0.6786\n",
      "Epoch 185/300\n",
      "1/1 - 0s - loss: 0.9826 - accuracy: 0.6786\n",
      "Epoch 186/300\n",
      "1/1 - 0s - loss: 0.9708 - accuracy: 0.6786\n",
      "Epoch 187/300\n",
      "1/1 - 0s - loss: 0.9593 - accuracy: 0.6786\n",
      "Epoch 188/300\n",
      "1/1 - 0s - loss: 0.9479 - accuracy: 0.6786\n",
      "Epoch 189/300\n",
      "1/1 - 0s - loss: 0.9367 - accuracy: 0.6786\n",
      "Epoch 190/300\n",
      "1/1 - 0s - loss: 0.9256 - accuracy: 0.6786\n",
      "Epoch 191/300\n",
      "1/1 - 0s - loss: 0.9148 - accuracy: 0.6786\n",
      "Epoch 192/300\n",
      "1/1 - 0s - loss: 0.9042 - accuracy: 0.6786\n",
      "Epoch 193/300\n",
      "1/1 - 0s - loss: 0.8937 - accuracy: 0.6786\n",
      "Epoch 194/300\n",
      "1/1 - 0s - loss: 0.8835 - accuracy: 0.6786\n",
      "Epoch 195/300\n",
      "1/1 - 0s - loss: 0.8734 - accuracy: 0.6786\n",
      "Epoch 196/300\n",
      "1/1 - 0s - loss: 0.8635 - accuracy: 0.6786\n",
      "Epoch 197/300\n",
      "1/1 - 0s - loss: 0.8538 - accuracy: 0.6786\n",
      "Epoch 198/300\n",
      "1/1 - 0s - loss: 0.8443 - accuracy: 0.6786\n",
      "Epoch 199/300\n",
      "1/1 - 0s - loss: 0.8350 - accuracy: 0.6786\n",
      "Epoch 200/300\n",
      "1/1 - 0s - loss: 0.8258 - accuracy: 0.6786\n",
      "Epoch 201/300\n",
      "1/1 - 0s - loss: 0.8168 - accuracy: 0.6786\n",
      "Epoch 202/300\n",
      "1/1 - 0s - loss: 0.8080 - accuracy: 0.7143\n",
      "Epoch 203/300\n",
      "1/1 - 0s - loss: 0.7993 - accuracy: 0.7500\n",
      "Epoch 204/300\n",
      "1/1 - 0s - loss: 0.7908 - accuracy: 0.7500\n",
      "Epoch 205/300\n",
      "1/1 - 0s - loss: 0.7824 - accuracy: 0.7500\n",
      "Epoch 206/300\n",
      "1/1 - 0s - loss: 0.7742 - accuracy: 0.7500\n",
      "Epoch 207/300\n",
      "1/1 - 0s - loss: 0.7661 - accuracy: 0.7500\n",
      "Epoch 208/300\n",
      "1/1 - 0s - loss: 0.7582 - accuracy: 0.7857\n",
      "Epoch 209/300\n",
      "1/1 - 0s - loss: 0.7505 - accuracy: 0.7857\n",
      "Epoch 210/300\n",
      "1/1 - 0s - loss: 0.7428 - accuracy: 0.7857\n",
      "Epoch 211/300\n",
      "1/1 - 0s - loss: 0.7354 - accuracy: 0.7857\n",
      "Epoch 212/300\n",
      "1/1 - 0s - loss: 0.7280 - accuracy: 0.7857\n",
      "Epoch 213/300\n",
      "1/1 - 0s - loss: 0.7208 - accuracy: 0.7857\n",
      "Epoch 214/300\n",
      "1/1 - 0s - loss: 0.7137 - accuracy: 0.7857\n",
      "Epoch 215/300\n",
      "1/1 - 0s - loss: 0.7068 - accuracy: 0.7857\n",
      "Epoch 216/300\n",
      "1/1 - 0s - loss: 0.7000 - accuracy: 0.7857\n",
      "Epoch 217/300\n",
      "1/1 - 0s - loss: 0.6934 - accuracy: 0.7857\n",
      "Epoch 218/300\n",
      "1/1 - 0s - loss: 0.6868 - accuracy: 0.7857\n",
      "Epoch 219/300\n",
      "1/1 - 0s - loss: 0.6804 - accuracy: 0.7857\n",
      "Epoch 220/300\n",
      "1/1 - 0s - loss: 0.6741 - accuracy: 0.7857\n",
      "Epoch 221/300\n",
      "1/1 - 0s - loss: 0.6680 - accuracy: 0.7857\n",
      "Epoch 222/300\n",
      "1/1 - 0s - loss: 0.6620 - accuracy: 0.7857\n",
      "Epoch 223/300\n",
      "1/1 - 0s - loss: 0.6560 - accuracy: 0.7857\n",
      "Epoch 224/300\n",
      "1/1 - 0s - loss: 0.6503 - accuracy: 0.7857\n",
      "Epoch 225/300\n",
      "1/1 - 0s - loss: 0.6446 - accuracy: 0.7857\n",
      "Epoch 226/300\n",
      "1/1 - 0s - loss: 0.6390 - accuracy: 0.7857\n",
      "Epoch 227/300\n",
      "1/1 - 0s - loss: 0.6336 - accuracy: 0.7857\n",
      "Epoch 228/300\n",
      "1/1 - 0s - loss: 0.6282 - accuracy: 0.7857\n",
      "Epoch 229/300\n",
      "1/1 - 0s - loss: 0.6230 - accuracy: 0.7857\n",
      "Epoch 230/300\n",
      "1/1 - 0s - loss: 0.6179 - accuracy: 0.7857\n",
      "Epoch 231/300\n",
      "1/1 - 0s - loss: 0.6129 - accuracy: 0.7857\n",
      "Epoch 232/300\n",
      "1/1 - 0s - loss: 0.6080 - accuracy: 0.7857\n",
      "Epoch 233/300\n",
      "1/1 - 0s - loss: 0.6032 - accuracy: 0.7857\n",
      "Epoch 234/300\n",
      "1/1 - 0s - loss: 0.5984 - accuracy: 0.7857\n",
      "Epoch 235/300\n",
      "1/1 - 0s - loss: 0.5938 - accuracy: 0.7857\n",
      "Epoch 236/300\n",
      "1/1 - 0s - loss: 0.5893 - accuracy: 0.7857\n",
      "Epoch 237/300\n",
      "1/1 - 0s - loss: 0.5848 - accuracy: 0.7857\n",
      "Epoch 238/300\n",
      "1/1 - 0s - loss: 0.5805 - accuracy: 0.7857\n",
      "Epoch 239/300\n",
      "1/1 - 0s - loss: 0.5762 - accuracy: 0.7857\n",
      "Epoch 240/300\n",
      "1/1 - 0s - loss: 0.5720 - accuracy: 0.7857\n",
      "Epoch 241/300\n",
      "1/1 - 0s - loss: 0.5679 - accuracy: 0.7857\n",
      "Epoch 242/300\n",
      "1/1 - 0s - loss: 0.5638 - accuracy: 0.7857\n",
      "Epoch 243/300\n",
      "1/1 - 0s - loss: 0.5599 - accuracy: 0.7857\n",
      "Epoch 244/300\n",
      "1/1 - 0s - loss: 0.5560 - accuracy: 0.7857\n",
      "Epoch 245/300\n",
      "1/1 - 0s - loss: 0.5521 - accuracy: 0.7857\n",
      "Epoch 246/300\n",
      "1/1 - 0s - loss: 0.5484 - accuracy: 0.7857\n",
      "Epoch 247/300\n",
      "1/1 - 0s - loss: 0.5447 - accuracy: 0.7857\n",
      "Epoch 248/300\n",
      "1/1 - 0s - loss: 0.5410 - accuracy: 0.7857\n",
      "Epoch 249/300\n",
      "1/1 - 0s - loss: 0.5375 - accuracy: 0.7857\n",
      "Epoch 250/300\n",
      "1/1 - 0s - loss: 0.5340 - accuracy: 0.7857\n",
      "Epoch 251/300\n",
      "1/1 - 0s - loss: 0.5305 - accuracy: 0.7857\n",
      "Epoch 252/300\n",
      "1/1 - 0s - loss: 0.5272 - accuracy: 0.7857\n",
      "Epoch 253/300\n",
      "1/1 - 0s - loss: 0.5239 - accuracy: 0.7857\n",
      "Epoch 254/300\n",
      "1/1 - 0s - loss: 0.5209 - accuracy: 0.7857\n",
      "Epoch 255/300\n",
      "1/1 - 0s - loss: 0.5182 - accuracy: 0.7857\n",
      "Epoch 256/300\n",
      "1/1 - 0s - loss: 0.5148 - accuracy: 0.7857\n",
      "Epoch 257/300\n",
      "1/1 - 0s - loss: 0.5112 - accuracy: 0.7857\n",
      "Epoch 258/300\n",
      "1/1 - 0s - loss: 0.5085 - accuracy: 0.7857\n",
      "Epoch 259/300\n",
      "1/1 - 0s - loss: 0.5056 - accuracy: 0.7857\n",
      "Epoch 260/300\n",
      "1/1 - 0s - loss: 0.5023 - accuracy: 0.7857\n",
      "Epoch 261/300\n",
      "1/1 - 0s - loss: 0.4997 - accuracy: 0.7857\n",
      "Epoch 262/300\n",
      "1/1 - 0s - loss: 0.4968 - accuracy: 0.7857\n",
      "Epoch 263/300\n",
      "1/1 - 0s - loss: 0.4939 - accuracy: 0.7857\n",
      "Epoch 264/300\n",
      "1/1 - 0s - loss: 0.4914 - accuracy: 0.7857\n",
      "Epoch 265/300\n",
      "1/1 - 0s - loss: 0.4885 - accuracy: 0.7857\n",
      "Epoch 266/300\n",
      "1/1 - 0s - loss: 0.4859 - accuracy: 0.7857\n",
      "Epoch 267/300\n",
      "1/1 - 0s - loss: 0.4834 - accuracy: 0.7857\n",
      "Epoch 268/300\n",
      "1/1 - 0s - loss: 0.4807 - accuracy: 0.7857\n",
      "Epoch 269/300\n",
      "1/1 - 0s - loss: 0.4782 - accuracy: 0.7857\n",
      "Epoch 270/300\n",
      "1/1 - 0s - loss: 0.4758 - accuracy: 0.7857\n",
      "Epoch 271/300\n",
      "1/1 - 0s - loss: 0.4732 - accuracy: 0.7857\n",
      "Epoch 272/300\n",
      "1/1 - 0s - loss: 0.4709 - accuracy: 0.7857\n",
      "Epoch 273/300\n",
      "1/1 - 0s - loss: 0.4685 - accuracy: 0.7857\n",
      "Epoch 274/300\n",
      "1/1 - 0s - loss: 0.4661 - accuracy: 0.7857\n",
      "Epoch 275/300\n",
      "1/1 - 0s - loss: 0.4639 - accuracy: 0.7857\n",
      "Epoch 276/300\n",
      "1/1 - 0s - loss: 0.4615 - accuracy: 0.7857\n",
      "Epoch 277/300\n",
      "1/1 - 0s - loss: 0.4593 - accuracy: 0.7857\n",
      "Epoch 278/300\n",
      "1/1 - 0s - loss: 0.4571 - accuracy: 0.7857\n",
      "Epoch 279/300\n",
      "1/1 - 0s - loss: 0.4549 - accuracy: 0.7857\n",
      "Epoch 280/300\n",
      "1/1 - 0s - loss: 0.4527 - accuracy: 0.7857\n",
      "Epoch 281/300\n",
      "1/1 - 0s - loss: 0.4506 - accuracy: 0.7857\n",
      "Epoch 282/300\n",
      "1/1 - 0s - loss: 0.4485 - accuracy: 0.8214\n",
      "Epoch 283/300\n",
      "1/1 - 0s - loss: 0.4465 - accuracy: 0.8214\n",
      "Epoch 284/300\n",
      "1/1 - 0s - loss: 0.4444 - accuracy: 0.8214\n",
      "Epoch 285/300\n",
      "1/1 - 0s - loss: 0.4424 - accuracy: 0.8214\n",
      "Epoch 286/300\n",
      "1/1 - 0s - loss: 0.4404 - accuracy: 0.8214\n",
      "Epoch 287/300\n",
      "1/1 - 0s - loss: 0.4384 - accuracy: 0.8214\n",
      "Epoch 288/300\n",
      "1/1 - 0s - loss: 0.4365 - accuracy: 0.8214\n",
      "Epoch 289/300\n",
      "1/1 - 0s - loss: 0.4346 - accuracy: 0.8214\n",
      "Epoch 290/300\n",
      "1/1 - 0s - loss: 0.4327 - accuracy: 0.8214\n"
     ]
    },
    {
     "name": "stdout",
     "output_type": "stream",
     "text": [
      "Epoch 291/300\n",
      "1/1 - 0s - loss: 0.4308 - accuracy: 0.8214\n",
      "Epoch 292/300\n",
      "1/1 - 0s - loss: 0.4290 - accuracy: 0.8214\n",
      "Epoch 293/300\n",
      "1/1 - 0s - loss: 0.4271 - accuracy: 0.8214\n",
      "Epoch 294/300\n",
      "1/1 - 0s - loss: 0.4253 - accuracy: 0.8214\n",
      "Epoch 295/300\n",
      "1/1 - 0s - loss: 0.4235 - accuracy: 0.8214\n",
      "Epoch 296/300\n",
      "1/1 - 0s - loss: 0.4218 - accuracy: 0.8214\n",
      "Epoch 297/300\n",
      "1/1 - 0s - loss: 0.4200 - accuracy: 0.8571\n",
      "Epoch 298/300\n",
      "1/1 - 0s - loss: 0.4183 - accuracy: 0.8571\n",
      "Epoch 299/300\n",
      "1/1 - 0s - loss: 0.4166 - accuracy: 0.8571\n",
      "Epoch 300/300\n",
      "1/1 - 0s - loss: 0.4149 - accuracy: 0.8571\n"
     ]
    }
   ],
   "source": [
    "from tensorflow.keras.models import Sequential\n",
    "from tensorflow.keras.layers import SimpleRNN, Dense, LSTM\n",
    "\n",
    "# RNN 모델 생성\n",
    "model = Sequential()\n",
    "# 희소행렬로 변환 (10:벡터)\n",
    "model.add(Embedding(vocab_size, 10, input_length=X.shape[1]))\n",
    "model.add(LSTM(32))\n",
    "model.add(Dense(vocab_size, activation=\"softmax\"))\n",
    "\n",
    "# 모델 학습과정 설정\n",
    "model.compile(loss=\"categorical_crossentropy\", optimizer=\"adam\", \n",
    "              metrics=['accuracy'])\n",
    "\n",
    "# 학습시키기\n",
    "hist = model.fit(X, Y, epochs=300, verbose=2)"
   ]
  },
  {
   "cell_type": "code",
   "execution_count": null,
   "metadata": {},
   "outputs": [],
   "source": []
  },
  {
   "cell_type": "code",
   "execution_count": null,
   "metadata": {},
   "outputs": [],
   "source": []
  },
  {
   "cell_type": "code",
   "execution_count": null,
   "metadata": {},
   "outputs": [],
   "source": []
  },
  {
   "cell_type": "code",
   "execution_count": null,
   "metadata": {},
   "outputs": [],
   "source": []
  },
  {
   "cell_type": "code",
   "execution_count": null,
   "metadata": {},
   "outputs": [],
   "source": []
  },
  {
   "cell_type": "code",
   "execution_count": null,
   "metadata": {},
   "outputs": [],
   "source": []
  },
  {
   "cell_type": "code",
   "execution_count": null,
   "metadata": {},
   "outputs": [],
   "source": []
  },
  {
   "cell_type": "code",
   "execution_count": null,
   "metadata": {},
   "outputs": [],
   "source": []
  },
  {
   "cell_type": "code",
   "execution_count": null,
   "metadata": {},
   "outputs": [],
   "source": []
  },
  {
   "cell_type": "code",
   "execution_count": null,
   "metadata": {},
   "outputs": [],
   "source": []
  },
  {
   "cell_type": "code",
   "execution_count": null,
   "metadata": {},
   "outputs": [],
   "source": []
  },
  {
   "cell_type": "code",
   "execution_count": null,
   "metadata": {},
   "outputs": [],
   "source": []
  },
  {
   "cell_type": "code",
   "execution_count": null,
   "metadata": {},
   "outputs": [],
   "source": []
  },
  {
   "cell_type": "code",
   "execution_count": null,
   "metadata": {},
   "outputs": [],
   "source": []
  },
  {
   "cell_type": "code",
   "execution_count": null,
   "metadata": {},
   "outputs": [],
   "source": []
  },
  {
   "cell_type": "code",
   "execution_count": null,
   "metadata": {},
   "outputs": [],
   "source": []
  },
  {
   "cell_type": "code",
   "execution_count": null,
   "metadata": {},
   "outputs": [],
   "source": []
  },
  {
   "cell_type": "code",
   "execution_count": null,
   "metadata": {},
   "outputs": [],
   "source": []
  },
  {
   "cell_type": "code",
   "execution_count": null,
   "metadata": {},
   "outputs": [],
   "source": []
  },
  {
   "cell_type": "code",
   "execution_count": null,
   "metadata": {},
   "outputs": [],
   "source": []
  },
  {
   "cell_type": "code",
   "execution_count": null,
   "metadata": {},
   "outputs": [],
   "source": []
  },
  {
   "cell_type": "code",
   "execution_count": null,
   "metadata": {},
   "outputs": [],
   "source": []
  },
  {
   "cell_type": "code",
   "execution_count": null,
   "metadata": {},
   "outputs": [],
   "source": []
  },
  {
   "cell_type": "code",
   "execution_count": null,
   "metadata": {},
   "outputs": [],
   "source": []
  },
  {
   "cell_type": "code",
   "execution_count": null,
   "metadata": {},
   "outputs": [],
   "source": []
  },
  {
   "cell_type": "code",
   "execution_count": null,
   "metadata": {},
   "outputs": [],
   "source": []
  },
  {
   "cell_type": "code",
   "execution_count": null,
   "metadata": {},
   "outputs": [],
   "source": []
  },
  {
   "cell_type": "code",
   "execution_count": null,
   "metadata": {},
   "outputs": [],
   "source": []
  },
  {
   "cell_type": "code",
   "execution_count": null,
   "metadata": {},
   "outputs": [],
   "source": []
  },
  {
   "cell_type": "code",
   "execution_count": null,
   "metadata": {},
   "outputs": [],
   "source": []
  },
  {
   "cell_type": "code",
   "execution_count": null,
   "metadata": {},
   "outputs": [],
   "source": []
  },
  {
   "cell_type": "code",
   "execution_count": null,
   "metadata": {},
   "outputs": [],
   "source": []
  },
  {
   "cell_type": "code",
   "execution_count": null,
   "metadata": {},
   "outputs": [],
   "source": []
  },
  {
   "cell_type": "code",
   "execution_count": null,
   "metadata": {},
   "outputs": [],
   "source": []
  },
  {
   "cell_type": "code",
   "execution_count": null,
   "metadata": {},
   "outputs": [],
   "source": []
  },
  {
   "cell_type": "code",
   "execution_count": null,
   "metadata": {},
   "outputs": [],
   "source": []
  },
  {
   "cell_type": "code",
   "execution_count": null,
   "metadata": {},
   "outputs": [],
   "source": []
  },
  {
   "cell_type": "code",
   "execution_count": null,
   "metadata": {},
   "outputs": [],
   "source": []
  },
  {
   "cell_type": "code",
   "execution_count": null,
   "metadata": {},
   "outputs": [],
   "source": []
  },
  {
   "cell_type": "code",
   "execution_count": null,
   "metadata": {},
   "outputs": [],
   "source": []
  },
  {
   "cell_type": "code",
   "execution_count": null,
   "metadata": {},
   "outputs": [],
   "source": []
  },
  {
   "cell_type": "code",
   "execution_count": null,
   "metadata": {},
   "outputs": [],
   "source": []
  },
  {
   "cell_type": "code",
   "execution_count": null,
   "metadata": {},
   "outputs": [],
   "source": []
  },
  {
   "cell_type": "code",
   "execution_count": null,
   "metadata": {},
   "outputs": [],
   "source": []
  },
  {
   "cell_type": "code",
   "execution_count": null,
   "metadata": {},
   "outputs": [],
   "source": []
  },
  {
   "cell_type": "code",
   "execution_count": null,
   "metadata": {},
   "outputs": [],
   "source": []
  },
  {
   "cell_type": "code",
   "execution_count": null,
   "metadata": {},
   "outputs": [],
   "source": []
  },
  {
   "cell_type": "code",
   "execution_count": null,
   "metadata": {},
   "outputs": [],
   "source": []
  },
  {
   "cell_type": "code",
   "execution_count": null,
   "metadata": {},
   "outputs": [],
   "source": []
  },
  {
   "cell_type": "code",
   "execution_count": null,
   "metadata": {},
   "outputs": [],
   "source": []
  },
  {
   "cell_type": "code",
   "execution_count": null,
   "metadata": {},
   "outputs": [],
   "source": []
  },
  {
   "cell_type": "code",
   "execution_count": null,
   "metadata": {},
   "outputs": [],
   "source": []
  },
  {
   "cell_type": "code",
   "execution_count": null,
   "metadata": {},
   "outputs": [],
   "source": []
  },
  {
   "cell_type": "code",
   "execution_count": null,
   "metadata": {},
   "outputs": [],
   "source": []
  },
  {
   "cell_type": "code",
   "execution_count": null,
   "metadata": {},
   "outputs": [],
   "source": []
  },
  {
   "cell_type": "code",
   "execution_count": null,
   "metadata": {},
   "outputs": [],
   "source": []
  },
  {
   "cell_type": "code",
   "execution_count": null,
   "metadata": {},
   "outputs": [],
   "source": []
  },
  {
   "cell_type": "code",
   "execution_count": null,
   "metadata": {},
   "outputs": [],
   "source": []
  },
  {
   "cell_type": "code",
   "execution_count": null,
   "metadata": {},
   "outputs": [],
   "source": []
  },
  {
   "cell_type": "code",
   "execution_count": null,
   "metadata": {},
   "outputs": [],
   "source": []
  },
  {
   "cell_type": "code",
   "execution_count": null,
   "metadata": {},
   "outputs": [],
   "source": []
  },
  {
   "cell_type": "code",
   "execution_count": null,
   "metadata": {},
   "outputs": [],
   "source": []
  },
  {
   "cell_type": "code",
   "execution_count": null,
   "metadata": {},
   "outputs": [],
   "source": []
  },
  {
   "cell_type": "code",
   "execution_count": null,
   "metadata": {},
   "outputs": [],
   "source": []
  },
  {
   "cell_type": "code",
   "execution_count": null,
   "metadata": {},
   "outputs": [],
   "source": []
  },
  {
   "cell_type": "code",
   "execution_count": null,
   "metadata": {},
   "outputs": [],
   "source": []
  },
  {
   "cell_type": "code",
   "execution_count": null,
   "metadata": {},
   "outputs": [],
   "source": []
  },
  {
   "cell_type": "code",
   "execution_count": null,
   "metadata": {},
   "outputs": [],
   "source": []
  },
  {
   "cell_type": "code",
   "execution_count": null,
   "metadata": {},
   "outputs": [],
   "source": []
  },
  {
   "cell_type": "code",
   "execution_count": null,
   "metadata": {},
   "outputs": [],
   "source": []
  },
  {
   "cell_type": "code",
   "execution_count": null,
   "metadata": {},
   "outputs": [],
   "source": []
  },
  {
   "cell_type": "code",
   "execution_count": null,
   "metadata": {},
   "outputs": [],
   "source": []
  },
  {
   "cell_type": "code",
   "execution_count": null,
   "metadata": {},
   "outputs": [],
   "source": []
  },
  {
   "cell_type": "code",
   "execution_count": null,
   "metadata": {},
   "outputs": [],
   "source": []
  },
  {
   "cell_type": "code",
   "execution_count": null,
   "metadata": {},
   "outputs": [],
   "source": []
  },
  {
   "cell_type": "code",
   "execution_count": null,
   "metadata": {},
   "outputs": [],
   "source": []
  },
  {
   "cell_type": "code",
   "execution_count": null,
   "metadata": {},
   "outputs": [],
   "source": []
  },
  {
   "cell_type": "code",
   "execution_count": null,
   "metadata": {},
   "outputs": [],
   "source": []
  },
  {
   "cell_type": "code",
   "execution_count": null,
   "metadata": {},
   "outputs": [],
   "source": []
  },
  {
   "cell_type": "code",
   "execution_count": null,
   "metadata": {},
   "outputs": [],
   "source": []
  },
  {
   "cell_type": "code",
   "execution_count": null,
   "metadata": {},
   "outputs": [],
   "source": []
  },
  {
   "cell_type": "code",
   "execution_count": null,
   "metadata": {},
   "outputs": [],
   "source": []
  },
  {
   "cell_type": "code",
   "execution_count": null,
   "metadata": {},
   "outputs": [],
   "source": []
  },
  {
   "cell_type": "code",
   "execution_count": null,
   "metadata": {},
   "outputs": [],
   "source": []
  },
  {
   "cell_type": "code",
   "execution_count": null,
   "metadata": {},
   "outputs": [],
   "source": []
  },
  {
   "cell_type": "code",
   "execution_count": null,
   "metadata": {},
   "outputs": [],
   "source": []
  },
  {
   "cell_type": "code",
   "execution_count": null,
   "metadata": {},
   "outputs": [],
   "source": []
  },
  {
   "cell_type": "code",
   "execution_count": null,
   "metadata": {},
   "outputs": [],
   "source": []
  },
  {
   "cell_type": "code",
   "execution_count": null,
   "metadata": {},
   "outputs": [],
   "source": []
  },
  {
   "cell_type": "code",
   "execution_count": null,
   "metadata": {},
   "outputs": [],
   "source": []
  },
  {
   "cell_type": "code",
   "execution_count": null,
   "metadata": {},
   "outputs": [],
   "source": []
  },
  {
   "cell_type": "code",
   "execution_count": null,
   "metadata": {},
   "outputs": [],
   "source": []
  },
  {
   "cell_type": "code",
   "execution_count": null,
   "metadata": {},
   "outputs": [],
   "source": []
  },
  {
   "cell_type": "code",
   "execution_count": null,
   "metadata": {},
   "outputs": [],
   "source": []
  },
  {
   "cell_type": "code",
   "execution_count": null,
   "metadata": {},
   "outputs": [],
   "source": []
  },
  {
   "cell_type": "code",
   "execution_count": null,
   "metadata": {},
   "outputs": [],
   "source": []
  },
  {
   "cell_type": "code",
   "execution_count": null,
   "metadata": {},
   "outputs": [],
   "source": []
  },
  {
   "cell_type": "code",
   "execution_count": null,
   "metadata": {},
   "outputs": [],
   "source": []
  },
  {
   "cell_type": "code",
   "execution_count": null,
   "metadata": {},
   "outputs": [],
   "source": []
  },
  {
   "cell_type": "code",
   "execution_count": null,
   "metadata": {},
   "outputs": [],
   "source": []
  },
  {
   "cell_type": "code",
   "execution_count": null,
   "metadata": {},
   "outputs": [],
   "source": []
  },
  {
   "cell_type": "code",
   "execution_count": null,
   "metadata": {},
   "outputs": [],
   "source": []
  },
  {
   "cell_type": "code",
   "execution_count": null,
   "metadata": {},
   "outputs": [],
   "source": []
  },
  {
   "cell_type": "code",
   "execution_count": null,
   "metadata": {},
   "outputs": [],
   "source": []
  },
  {
   "cell_type": "code",
   "execution_count": null,
   "metadata": {},
   "outputs": [],
   "source": []
  },
  {
   "cell_type": "code",
   "execution_count": null,
   "metadata": {},
   "outputs": [],
   "source": []
  },
  {
   "cell_type": "code",
   "execution_count": null,
   "metadata": {},
   "outputs": [],
   "source": []
  },
  {
   "cell_type": "code",
   "execution_count": null,
   "metadata": {},
   "outputs": [],
   "source": []
  },
  {
   "cell_type": "code",
   "execution_count": null,
   "metadata": {},
   "outputs": [],
   "source": []
  },
  {
   "cell_type": "code",
   "execution_count": null,
   "metadata": {},
   "outputs": [],
   "source": []
  },
  {
   "cell_type": "code",
   "execution_count": null,
   "metadata": {},
   "outputs": [],
   "source": []
  },
  {
   "cell_type": "code",
   "execution_count": null,
   "metadata": {},
   "outputs": [],
   "source": []
  },
  {
   "cell_type": "code",
   "execution_count": null,
   "metadata": {},
   "outputs": [],
   "source": []
  },
  {
   "cell_type": "code",
   "execution_count": null,
   "metadata": {},
   "outputs": [],
   "source": []
  },
  {
   "cell_type": "code",
   "execution_count": null,
   "metadata": {},
   "outputs": [],
   "source": []
  },
  {
   "cell_type": "code",
   "execution_count": null,
   "metadata": {},
   "outputs": [],
   "source": []
  },
  {
   "cell_type": "code",
   "execution_count": null,
   "metadata": {},
   "outputs": [],
   "source": []
  },
  {
   "cell_type": "code",
   "execution_count": null,
   "metadata": {},
   "outputs": [],
   "source": []
  },
  {
   "cell_type": "code",
   "execution_count": null,
   "metadata": {},
   "outputs": [],
   "source": []
  }
 ],
 "metadata": {
  "kernelspec": {
   "display_name": "Python 3",
   "language": "python",
   "name": "python3"
  },
  "language_info": {
   "codemirror_mode": {
    "name": "ipython",
    "version": 3
   },
   "file_extension": ".py",
   "mimetype": "text/x-python",
   "name": "python",
   "nbconvert_exporter": "python",
   "pygments_lexer": "ipython3",
   "version": "3.8.5"
  },
  "toc": {
   "base_numbering": 1,
   "nav_menu": {},
   "number_sections": false,
   "sideBar": true,
   "skip_h1_title": false,
   "title_cell": "Table of Contents",
   "title_sidebar": "Contents",
   "toc_cell": false,
   "toc_position": {
    "height": "calc(100% - 180px)",
    "left": "10px",
    "top": "150px",
    "width": "341.333px"
   },
   "toc_section_display": true,
   "toc_window_display": true
  },
  "varInspector": {
   "cols": {
    "lenName": 16,
    "lenType": 16,
    "lenVar": 40
   },
   "kernels_config": {
    "python": {
     "delete_cmd_postfix": "",
     "delete_cmd_prefix": "del ",
     "library": "var_list.py",
     "varRefreshCmd": "print(var_dic_list())"
    },
    "r": {
     "delete_cmd_postfix": ") ",
     "delete_cmd_prefix": "rm(",
     "library": "var_list.r",
     "varRefreshCmd": "cat(var_dic_list()) "
    }
   },
   "types_to_exclude": [
    "module",
    "function",
    "builtin_function_or_method",
    "instance",
    "_Feature"
   ],
   "window_display": false
  }
 },
 "nbformat": 4,
 "nbformat_minor": 4
}
